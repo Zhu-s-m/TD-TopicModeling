{
 "cells": [
  {
   "cell_type": "code",
   "execution_count": 3,
   "id": "2de2b057-cce8-4641-a3c9-80b8a2823a4c",
   "metadata": {},
   "outputs": [],
   "source": [
    "import pandas as pd\n",
    "import numpy as np\n",
    "import seaborn as sns\n",
    "import matplotlib.pyplot as plt\n",
    "from sklearn.feature_extraction.text import TfidfVectorizer\n",
    "import re\n",
    "import spacy\n",
    "import string\n",
    "import matplotlib.pyplot as plt\n",
    "from bertopic import BERTopic\n",
    "from sklearn.metrics import silhouette_score\n",
    "from sklearn.metrics import jaccard_score\n",
    "from sentence_transformers import SentenceTransformer\n",
    "from sklearn.cluster import KMeans\n",
    "import hdbscan\n",
    "from gensim.models import CoherenceModel\n",
    "from sklearn.metrics.pairwise import cosine_similarity\n",
    "from gensim.corpora.dictionary import Dictionary\n",
    "import os\n",
    "from sklearn.feature_extraction.text import CountVectorizer\n",
    "from sklearn.cluster import AgglomerativeClustering, DBSCAN, SpectralClustering\n",
    "from sklearn.mixture import GaussianMixture\n",
    "from gensim.corpora import Dictionary\n",
    "from transformers import BigBirdTokenizer, BigBirdModel, AutoModel, AutoTokenizer, AutoModelForPreTraining, AutoModelForMaskedLM, ReformerModel, ReformerTokenizer\n",
    "import torch\n",
    "from sklearn.decomposition import PCA, TruncatedSVD\n",
    "from umap import UMAP\n",
    "from bertopic.representation import KeyBERTInspired\n",
    "from bertopic.representation import PartOfSpeech\n",
    "from bertopic.representation import MaximalMarginalRelevance\n",
    "from bertopic.representation import ZeroShotClassification\n",
    "os.environ[\"TOKENIZERS_PARALLELISM\"] = \"false\"\n",
    "from sklearn.model_selection import ParameterGrid\n",
    "import optuna\n",
    "\n"
   ]
  },
  {
   "cell_type": "code",
   "execution_count": 4,
   "id": "0f867849-5b9c-43bf-b02e-21640f275bde",
   "metadata": {},
   "outputs": [
    {
     "name": "stdout",
     "output_type": "stream",
     "text": [
      "(8185, 19)\n"
     ]
    },
    {
     "data": {
      "text/html": [
       "<div>\n",
       "<style scoped>\n",
       "    .dataframe tbody tr th:only-of-type {\n",
       "        vertical-align: middle;\n",
       "    }\n",
       "\n",
       "    .dataframe tbody tr th {\n",
       "        vertical-align: top;\n",
       "    }\n",
       "\n",
       "    .dataframe thead th {\n",
       "        text-align: right;\n",
       "    }\n",
       "</style>\n",
       "<table border=\"1\" class=\"dataframe\">\n",
       "  <thead>\n",
       "    <tr style=\"text-align: right;\">\n",
       "      <th></th>\n",
       "      <th>Date received</th>\n",
       "      <th>Product</th>\n",
       "      <th>Sub-product</th>\n",
       "      <th>Issue</th>\n",
       "      <th>Sub-issue</th>\n",
       "      <th>Consumer complaint narrative</th>\n",
       "      <th>Company public response</th>\n",
       "      <th>Company</th>\n",
       "      <th>State</th>\n",
       "      <th>ZIP code</th>\n",
       "      <th>Tags</th>\n",
       "      <th>Consumer consent provided?</th>\n",
       "      <th>Submitted via</th>\n",
       "      <th>Date sent to company</th>\n",
       "      <th>Company response to consumer</th>\n",
       "      <th>Timely response?</th>\n",
       "      <th>Consumer disputed?</th>\n",
       "      <th>Complaint ID</th>\n",
       "      <th>Processed Complaint</th>\n",
       "    </tr>\n",
       "  </thead>\n",
       "  <tbody>\n",
       "    <tr>\n",
       "      <th>0</th>\n",
       "      <td>2023-12-07</td>\n",
       "      <td>Student loan</td>\n",
       "      <td>Federal student loan servicing</td>\n",
       "      <td>Dealing with your lender or servicer</td>\n",
       "      <td>Problem with customer service</td>\n",
       "      <td>In took 1 quarter at XXXX XXXX. In that quarte...</td>\n",
       "      <td>Company believes it acted appropriately as aut...</td>\n",
       "      <td>MOHELA</td>\n",
       "      <td>OH</td>\n",
       "      <td>457XX</td>\n",
       "      <td>NaN</td>\n",
       "      <td>Consent provided</td>\n",
       "      <td>Web</td>\n",
       "      <td>2023-12-07</td>\n",
       "      <td>Closed with explanation</td>\n",
       "      <td>Yes</td>\n",
       "      <td>NaN</td>\n",
       "      <td>7958117</td>\n",
       "      <td>took quarter xxxx xxxx. quarter subsidized loa...</td>\n",
       "    </tr>\n",
       "    <tr>\n",
       "      <th>1</th>\n",
       "      <td>2023-12-29</td>\n",
       "      <td>Student loan</td>\n",
       "      <td>Federal student loan servicing</td>\n",
       "      <td>Dealing with your lender or servicer</td>\n",
       "      <td>Trouble with how payments are being handled</td>\n",
       "      <td>My student loan provider is currently Nelnet. ...</td>\n",
       "      <td>NaN</td>\n",
       "      <td>Nelnet, Inc.</td>\n",
       "      <td>IA</td>\n",
       "      <td>50265</td>\n",
       "      <td>NaN</td>\n",
       "      <td>Consent provided</td>\n",
       "      <td>Web</td>\n",
       "      <td>2023-12-29</td>\n",
       "      <td>Closed with explanation</td>\n",
       "      <td>Yes</td>\n",
       "      <td>NaN</td>\n",
       "      <td>8080675</td>\n",
       "      <td>student loan provider currently nelnet. making...</td>\n",
       "    </tr>\n",
       "    <tr>\n",
       "      <th>2</th>\n",
       "      <td>2023-11-13</td>\n",
       "      <td>Student loan</td>\n",
       "      <td>Federal student loan servicing</td>\n",
       "      <td>Dealing with your lender or servicer</td>\n",
       "      <td>Received bad information about your loan</td>\n",
       "      <td>on XX/XX/25 I went to student aid.gov and appl...</td>\n",
       "      <td>NaN</td>\n",
       "      <td>Maximus Federal Services, Inc.</td>\n",
       "      <td>CA</td>\n",
       "      <td>955XX</td>\n",
       "      <td>NaN</td>\n",
       "      <td>Consent provided</td>\n",
       "      <td>Web</td>\n",
       "      <td>2023-11-13</td>\n",
       "      <td>Closed with explanation</td>\n",
       "      <td>Yes</td>\n",
       "      <td>NaN</td>\n",
       "      <td>7844168</td>\n",
       "      <td>xx/xx/ went student aid.gov applied save progr...</td>\n",
       "    </tr>\n",
       "    <tr>\n",
       "      <th>3</th>\n",
       "      <td>2023-11-13</td>\n",
       "      <td>Student loan</td>\n",
       "      <td>Federal student loan servicing</td>\n",
       "      <td>Dealing with your lender or servicer</td>\n",
       "      <td>Co-signer</td>\n",
       "      <td>In response to claim number XXXX Nelnet employ...</td>\n",
       "      <td>NaN</td>\n",
       "      <td>Nelnet, Inc.</td>\n",
       "      <td>TN</td>\n",
       "      <td>37115</td>\n",
       "      <td>NaN</td>\n",
       "      <td>Consent provided</td>\n",
       "      <td>Web</td>\n",
       "      <td>2023-11-13</td>\n",
       "      <td>Closed with explanation</td>\n",
       "      <td>Yes</td>\n",
       "      <td>NaN</td>\n",
       "      <td>7844744</td>\n",
       "      <td>response claim number xxxx nelnet employee ( x...</td>\n",
       "    </tr>\n",
       "    <tr>\n",
       "      <th>4</th>\n",
       "      <td>2023-10-17</td>\n",
       "      <td>Student loan</td>\n",
       "      <td>Federal student loan servicing</td>\n",
       "      <td>Dealing with your lender or servicer</td>\n",
       "      <td>Problem with customer service</td>\n",
       "      <td>I am an authorized payor on my son 's Nelnet a...</td>\n",
       "      <td>NaN</td>\n",
       "      <td>Nelnet, Inc.</td>\n",
       "      <td>NC</td>\n",
       "      <td>284XX</td>\n",
       "      <td>NaN</td>\n",
       "      <td>Consent provided</td>\n",
       "      <td>Web</td>\n",
       "      <td>2023-10-17</td>\n",
       "      <td>Closed with explanation</td>\n",
       "      <td>Yes</td>\n",
       "      <td>NaN</td>\n",
       "      <td>7712911</td>\n",
       "      <td>authorized payor son 's nelnet account. signin...</td>\n",
       "    </tr>\n",
       "  </tbody>\n",
       "</table>\n",
       "</div>"
      ],
      "text/plain": [
       "  Date received       Product                     Sub-product  \\\n",
       "0    2023-12-07  Student loan  Federal student loan servicing   \n",
       "1    2023-12-29  Student loan  Federal student loan servicing   \n",
       "2    2023-11-13  Student loan  Federal student loan servicing   \n",
       "3    2023-11-13  Student loan  Federal student loan servicing   \n",
       "4    2023-10-17  Student loan  Federal student loan servicing   \n",
       "\n",
       "                                  Issue  \\\n",
       "0  Dealing with your lender or servicer   \n",
       "1  Dealing with your lender or servicer   \n",
       "2  Dealing with your lender or servicer   \n",
       "3  Dealing with your lender or servicer   \n",
       "4  Dealing with your lender or servicer   \n",
       "\n",
       "                                     Sub-issue  \\\n",
       "0                Problem with customer service   \n",
       "1  Trouble with how payments are being handled   \n",
       "2     Received bad information about your loan   \n",
       "3                                    Co-signer   \n",
       "4                Problem with customer service   \n",
       "\n",
       "                        Consumer complaint narrative  \\\n",
       "0  In took 1 quarter at XXXX XXXX. In that quarte...   \n",
       "1  My student loan provider is currently Nelnet. ...   \n",
       "2  on XX/XX/25 I went to student aid.gov and appl...   \n",
       "3  In response to claim number XXXX Nelnet employ...   \n",
       "4  I am an authorized payor on my son 's Nelnet a...   \n",
       "\n",
       "                             Company public response  \\\n",
       "0  Company believes it acted appropriately as aut...   \n",
       "1                                                NaN   \n",
       "2                                                NaN   \n",
       "3                                                NaN   \n",
       "4                                                NaN   \n",
       "\n",
       "                          Company State ZIP code Tags  \\\n",
       "0                          MOHELA    OH    457XX  NaN   \n",
       "1                    Nelnet, Inc.    IA    50265  NaN   \n",
       "2  Maximus Federal Services, Inc.    CA    955XX  NaN   \n",
       "3                    Nelnet, Inc.    TN    37115  NaN   \n",
       "4                    Nelnet, Inc.    NC    284XX  NaN   \n",
       "\n",
       "  Consumer consent provided? Submitted via Date sent to company  \\\n",
       "0           Consent provided           Web           2023-12-07   \n",
       "1           Consent provided           Web           2023-12-29   \n",
       "2           Consent provided           Web           2023-11-13   \n",
       "3           Consent provided           Web           2023-11-13   \n",
       "4           Consent provided           Web           2023-10-17   \n",
       "\n",
       "  Company response to consumer Timely response?  Consumer disputed?  \\\n",
       "0      Closed with explanation              Yes                 NaN   \n",
       "1      Closed with explanation              Yes                 NaN   \n",
       "2      Closed with explanation              Yes                 NaN   \n",
       "3      Closed with explanation              Yes                 NaN   \n",
       "4      Closed with explanation              Yes                 NaN   \n",
       "\n",
       "   Complaint ID                                Processed Complaint  \n",
       "0       7958117  took quarter xxxx xxxx. quarter subsidized loa...  \n",
       "1       8080675  student loan provider currently nelnet. making...  \n",
       "2       7844168  xx/xx/ went student aid.gov applied save progr...  \n",
       "3       7844744  response claim number xxxx nelnet employee ( x...  \n",
       "4       7712911  authorized payor son 's nelnet account. signin...  "
      ]
     },
     "execution_count": 4,
     "metadata": {},
     "output_type": "execute_result"
    }
   ],
   "source": [
    "ds = pd.read_csv('student_loan_data.csv')\n",
    "print(ds.shape)\n",
    "ds.head()"
   ]
  },
  {
   "cell_type": "code",
   "execution_count": 5,
   "id": "0e938f17-0aa7-491d-adf7-b0d37ccb7195",
   "metadata": {},
   "outputs": [
    {
     "data": {
      "text/html": [
       "<div>\n",
       "<style scoped>\n",
       "    .dataframe tbody tr th:only-of-type {\n",
       "        vertical-align: middle;\n",
       "    }\n",
       "\n",
       "    .dataframe tbody tr th {\n",
       "        vertical-align: top;\n",
       "    }\n",
       "\n",
       "    .dataframe thead th {\n",
       "        text-align: right;\n",
       "    }\n",
       "</style>\n",
       "<table border=\"1\" class=\"dataframe\">\n",
       "  <thead>\n",
       "    <tr style=\"text-align: right;\">\n",
       "      <th></th>\n",
       "      <th>Date received</th>\n",
       "      <th>Product</th>\n",
       "      <th>Sub-product</th>\n",
       "      <th>Issue</th>\n",
       "      <th>Sub-issue</th>\n",
       "      <th>Consumer complaint narrative</th>\n",
       "      <th>Company public response</th>\n",
       "      <th>Company</th>\n",
       "      <th>State</th>\n",
       "      <th>ZIP code</th>\n",
       "      <th>Tags</th>\n",
       "      <th>Consumer consent provided?</th>\n",
       "      <th>Submitted via</th>\n",
       "      <th>Date sent to company</th>\n",
       "      <th>Company response to consumer</th>\n",
       "      <th>Timely response?</th>\n",
       "      <th>Consumer disputed?</th>\n",
       "      <th>Complaint ID</th>\n",
       "      <th>Processed Complaint</th>\n",
       "    </tr>\n",
       "  </thead>\n",
       "  <tbody>\n",
       "    <tr>\n",
       "      <th>0</th>\n",
       "      <td>2023-12-07</td>\n",
       "      <td>Student loan</td>\n",
       "      <td>Federal student loan servicing</td>\n",
       "      <td>Dealing with your lender or servicer</td>\n",
       "      <td>Problem with customer service</td>\n",
       "      <td>In took 1 quarter at XXXX XXXX. In that quarte...</td>\n",
       "      <td>Company believes it acted appropriately as aut...</td>\n",
       "      <td>MOHELA</td>\n",
       "      <td>OH</td>\n",
       "      <td>457XX</td>\n",
       "      <td>NaN</td>\n",
       "      <td>Consent provided</td>\n",
       "      <td>Web</td>\n",
       "      <td>2023-12-07</td>\n",
       "      <td>Closed with explanation</td>\n",
       "      <td>Yes</td>\n",
       "      <td>NaN</td>\n",
       "      <td>7958117</td>\n",
       "      <td>take quarter xxxx xxxx. quarter subsidize loan...</td>\n",
       "    </tr>\n",
       "    <tr>\n",
       "      <th>1</th>\n",
       "      <td>2023-12-29</td>\n",
       "      <td>Student loan</td>\n",
       "      <td>Federal student loan servicing</td>\n",
       "      <td>Dealing with your lender or servicer</td>\n",
       "      <td>Trouble with how payments are being handled</td>\n",
       "      <td>My student loan provider is currently Nelnet. ...</td>\n",
       "      <td>NaN</td>\n",
       "      <td>Nelnet, Inc.</td>\n",
       "      <td>IA</td>\n",
       "      <td>50265</td>\n",
       "      <td>NaN</td>\n",
       "      <td>Consent provided</td>\n",
       "      <td>Web</td>\n",
       "      <td>2023-12-29</td>\n",
       "      <td>Closed with explanation</td>\n",
       "      <td>Yes</td>\n",
       "      <td>NaN</td>\n",
       "      <td>8080675</td>\n",
       "      <td>student loan provider currently nelnet. make p...</td>\n",
       "    </tr>\n",
       "    <tr>\n",
       "      <th>2</th>\n",
       "      <td>2023-11-13</td>\n",
       "      <td>Student loan</td>\n",
       "      <td>Federal student loan servicing</td>\n",
       "      <td>Dealing with your lender or servicer</td>\n",
       "      <td>Received bad information about your loan</td>\n",
       "      <td>on XX/XX/25 I went to student aid.gov and appl...</td>\n",
       "      <td>NaN</td>\n",
       "      <td>Maximus Federal Services, Inc.</td>\n",
       "      <td>CA</td>\n",
       "      <td>955XX</td>\n",
       "      <td>NaN</td>\n",
       "      <td>Consent provided</td>\n",
       "      <td>Web</td>\n",
       "      <td>2023-11-13</td>\n",
       "      <td>Closed with explanation</td>\n",
       "      <td>Yes</td>\n",
       "      <td>NaN</td>\n",
       "      <td>7844168</td>\n",
       "      <td>xx/xx/ go student aid.gov apply save program s...</td>\n",
       "    </tr>\n",
       "    <tr>\n",
       "      <th>3</th>\n",
       "      <td>2023-11-13</td>\n",
       "      <td>Student loan</td>\n",
       "      <td>Federal student loan servicing</td>\n",
       "      <td>Dealing with your lender or servicer</td>\n",
       "      <td>Co-signer</td>\n",
       "      <td>In response to claim number XXXX Nelnet employ...</td>\n",
       "      <td>NaN</td>\n",
       "      <td>Nelnet, Inc.</td>\n",
       "      <td>TN</td>\n",
       "      <td>37115</td>\n",
       "      <td>NaN</td>\n",
       "      <td>Consent provided</td>\n",
       "      <td>Web</td>\n",
       "      <td>2023-11-13</td>\n",
       "      <td>Closed with explanation</td>\n",
       "      <td>Yes</td>\n",
       "      <td>NaN</td>\n",
       "      <td>7844744</td>\n",
       "      <td>response claim number xxxx nelnet employee ( x...</td>\n",
       "    </tr>\n",
       "    <tr>\n",
       "      <th>4</th>\n",
       "      <td>2023-10-17</td>\n",
       "      <td>Student loan</td>\n",
       "      <td>Federal student loan servicing</td>\n",
       "      <td>Dealing with your lender or servicer</td>\n",
       "      <td>Problem with customer service</td>\n",
       "      <td>I am an authorized payor on my son 's Nelnet a...</td>\n",
       "      <td>NaN</td>\n",
       "      <td>Nelnet, Inc.</td>\n",
       "      <td>NC</td>\n",
       "      <td>284XX</td>\n",
       "      <td>NaN</td>\n",
       "      <td>Consent provided</td>\n",
       "      <td>Web</td>\n",
       "      <td>2023-10-17</td>\n",
       "      <td>Closed with explanation</td>\n",
       "      <td>Yes</td>\n",
       "      <td>NaN</td>\n",
       "      <td>7712911</td>\n",
       "      <td>authorize payor son 's nelnet account. sign po...</td>\n",
       "    </tr>\n",
       "  </tbody>\n",
       "</table>\n",
       "</div>"
      ],
      "text/plain": [
       "  Date received       Product                     Sub-product  \\\n",
       "0    2023-12-07  Student loan  Federal student loan servicing   \n",
       "1    2023-12-29  Student loan  Federal student loan servicing   \n",
       "2    2023-11-13  Student loan  Federal student loan servicing   \n",
       "3    2023-11-13  Student loan  Federal student loan servicing   \n",
       "4    2023-10-17  Student loan  Federal student loan servicing   \n",
       "\n",
       "                                  Issue  \\\n",
       "0  Dealing with your lender or servicer   \n",
       "1  Dealing with your lender or servicer   \n",
       "2  Dealing with your lender or servicer   \n",
       "3  Dealing with your lender or servicer   \n",
       "4  Dealing with your lender or servicer   \n",
       "\n",
       "                                     Sub-issue  \\\n",
       "0                Problem with customer service   \n",
       "1  Trouble with how payments are being handled   \n",
       "2     Received bad information about your loan   \n",
       "3                                    Co-signer   \n",
       "4                Problem with customer service   \n",
       "\n",
       "                        Consumer complaint narrative  \\\n",
       "0  In took 1 quarter at XXXX XXXX. In that quarte...   \n",
       "1  My student loan provider is currently Nelnet. ...   \n",
       "2  on XX/XX/25 I went to student aid.gov and appl...   \n",
       "3  In response to claim number XXXX Nelnet employ...   \n",
       "4  I am an authorized payor on my son 's Nelnet a...   \n",
       "\n",
       "                             Company public response  \\\n",
       "0  Company believes it acted appropriately as aut...   \n",
       "1                                                NaN   \n",
       "2                                                NaN   \n",
       "3                                                NaN   \n",
       "4                                                NaN   \n",
       "\n",
       "                          Company State ZIP code Tags  \\\n",
       "0                          MOHELA    OH    457XX  NaN   \n",
       "1                    Nelnet, Inc.    IA    50265  NaN   \n",
       "2  Maximus Federal Services, Inc.    CA    955XX  NaN   \n",
       "3                    Nelnet, Inc.    TN    37115  NaN   \n",
       "4                    Nelnet, Inc.    NC    284XX  NaN   \n",
       "\n",
       "  Consumer consent provided? Submitted via Date sent to company  \\\n",
       "0           Consent provided           Web           2023-12-07   \n",
       "1           Consent provided           Web           2023-12-29   \n",
       "2           Consent provided           Web           2023-11-13   \n",
       "3           Consent provided           Web           2023-11-13   \n",
       "4           Consent provided           Web           2023-10-17   \n",
       "\n",
       "  Company response to consumer Timely response?  Consumer disputed?  \\\n",
       "0      Closed with explanation              Yes                 NaN   \n",
       "1      Closed with explanation              Yes                 NaN   \n",
       "2      Closed with explanation              Yes                 NaN   \n",
       "3      Closed with explanation              Yes                 NaN   \n",
       "4      Closed with explanation              Yes                 NaN   \n",
       "\n",
       "   Complaint ID                                Processed Complaint  \n",
       "0       7958117  take quarter xxxx xxxx. quarter subsidize loan...  \n",
       "1       8080675  student loan provider currently nelnet. make p...  \n",
       "2       7844168  xx/xx/ go student aid.gov apply save program s...  \n",
       "3       7844744  response claim number xxxx nelnet employee ( x...  \n",
       "4       7712911  authorize payor son 's nelnet account. sign po...  "
      ]
     },
     "execution_count": 5,
     "metadata": {},
     "output_type": "execute_result"
    }
   ],
   "source": [
    "import nltk\n",
    "from nltk.corpus import wordnet\n",
    "from nltk.stem import WordNetLemmatizer\n",
    "lemmatizer = WordNetLemmatizer()\n",
    "wordnet_map = {\"N\":wordnet.NOUN, \"V\":wordnet.VERB, \"J\":wordnet.ADJ, \"R\":wordnet.ADV}\n",
    "def lemmatize_words(text):\n",
    "    pos_tagged_text = nltk.pos_tag(text.split())\n",
    "    return \" \".join([lemmatizer.lemmatize(word, wordnet_map.get(pos[0], wordnet.NOUN)) for word, pos in pos_tagged_text])\n",
    "\n",
    "ds[\"Processed Complaint\"] = ds[\"Processed Complaint\"].apply(lambda text: lemmatize_words(text))\n",
    "ds.head()"
   ]
  },
  {
   "cell_type": "code",
   "execution_count": 8,
   "id": "0d7b1f90-775a-4ece-8baa-2a75533e73e4",
   "metadata": {},
   "outputs": [],
   "source": [
    "pd.options.mode.chained_assignment = None"
   ]
  },
  {
   "cell_type": "code",
   "execution_count": 9,
   "id": "5db5ca9f-6a6e-4c34-9ace-c14b4e459e11",
   "metadata": {},
   "outputs": [
    {
     "data": {
      "image/png": "[encoded data removed]",
      "text/plain": [
       "<Figure size 1000x600 with 1 Axes>"
      ]
     },
     "metadata": {},
     "output_type": "display_data"
    }
   ],
   "source": [
    "# Calculate the number of words in each complaint\n",
    "ds['Word Count'] = ds['Processed Complaint'].apply(lambda x: len(x.split()))\n",
    "\n",
    "# Plot histogram\n",
    "plt.figure(figsize=(10, 6))\n",
    "n, bins, patches = plt.hist(ds['Word Count'], bins=10, color='skyblue', edgecolor='black')\n",
    "plt.xlabel('Number of Words')\n",
    "plt.ylabel('Frequency')\n",
    "plt.title('Distribution of Word Counts in Processed Complaints')\n",
    "\n",
    "# Adding frequency labels on top of each bar\n",
    "for i in range(len(patches)):\n",
    "    plt.text(patches[i].get_x() + patches[i].get_width() / 2, \n",
    "             n[i], \n",
    "             int(n[i]), \n",
    "             ha='center', \n",
    "             va='bottom')\n",
    "\n",
    "plt.show()\n"
   ]
  },
  {
   "cell_type": "code",
   "execution_count": 10,
   "id": "a54e7d8b-a1b8-45f9-a639-36eec3b6db95",
   "metadata": {},
   "outputs": [
    {
     "name": "stdout",
     "output_type": "stream",
     "text": [
      "8185\n"
     ]
    }
   ],
   "source": [
    "# Load and preprocess your dataset\n",
    "documents = ds['Processed Complaint'].tolist()\n",
    "print(len(documents))"
   ]
  },
  {
   "cell_type": "code",
   "execution_count": 11,
   "id": "e4a7ba97-2bb7-40e8-8649-81e58bb2f750",
   "metadata": {},
   "outputs": [],
   "source": [
    "# Function to calculate a basic topic diversity score\n",
    "def calculate_topic_diversity(topic_model):\n",
    "    unique_words = set()\n",
    "    total_words = 0\n",
    "    for topic in topic_model.get_topics().values():\n",
    "        words = [word for word, _ in topic]  # Extract top words\n",
    "        unique_words.update(words)\n",
    "        total_words += len(words)\n",
    "    diversity_score = len(unique_words) / total_words\n",
    "    return diversity_score\n",
    "def sigmoid(x):\n",
    "    \"\"\"\n",
    "    Sigmoid function for standardizing values to (0, 1).\n",
    "    \"\"\"\n",
    "    return 1 / (1 + np.exp(-1.0456*(x+5.60)))\n",
    "\n",
    "def calculate_and_average_coherence_scores(topic_model, texts, dictionary):\n",
    "    \"\"\"\n",
    "    Calculate C_v, C_umass, and C_npmi coherence scores for a BERTopic model,\n",
    "    standardize them to [0, 1], and return the average standardized score.\n",
    "    \n",
    "    Parameters:\n",
    "        topic_model: BERTopic model instance\n",
    "        texts: List of preprocessed texts (list of tokenized words per document)\n",
    "        dictionary: Gensim dictionary created from the texts\n",
    "        \n",
    "    Returns:\n",
    "        Average standardized coherence score\n",
    "    \"\"\"\n",
    "    # Extract topics from BERTopic\n",
    "    topics = [[word for word, _ in topic] for topic in topic_model.get_topics().values()]\n",
    "\n",
    "    # Define coherence metrics\n",
    "    metrics = {\n",
    "        \"c_v\": {\"min\": 0, \"max\": 1},  # C_v naturally falls in [0, 1]\n",
    "        \"u_mass\": \"sigmoid\",          # Use sigmoid for C_umass\n",
    "        \"c_npmi\": {\"min\": -1, \"max\": 1},  # C_npmi falls in [-1, 1]\n",
    "    }\n",
    "\n",
    "    # Calculate coherence scores\n",
    "    coherence_scores = {}\n",
    "    for metric, bounds in metrics.items():\n",
    "        coherence_model = CoherenceModel(topics=topics, texts=texts, dictionary=dictionary, coherence=metric)\n",
    "        score = coherence_model.get_coherence()\n",
    "\n",
    "        if metric == \"u_mass\":\n",
    "            # Use sigmoid for standardization of C_umass\n",
    "            standardized_score = sigmoid(score)  \n",
    "        else:\n",
    "            # Standardize using min-max scaling\n",
    "            standardized_score = (score - bounds[\"min\"]) / (bounds[\"max\"] - bounds[\"min\"])\n",
    "            standardized_score = max(0, min(1, standardized_score))  # Clip to [0, 1]\n",
    "\n",
    "        coherence_scores[metric] = standardized_score\n",
    "\n",
    "    # Average of standardized coherence scores\n",
    "    average_standardized_score = np.mean(list(coherence_scores.values()))\n",
    "\n",
    "    return average_standardized_score\n",
    "# Function to calculate a Cosine Similarity\n",
    "def calculate_topic_representativeness(topic_embeddings, document_embeddings):\n",
    "    \"\"\"\n",
    "    Calculate Topic Representativeness using Cosine Similarity.\n",
    "\n",
    "    Parameters:\n",
    "        topic_embeddings: 2D array (n_topics, embedding_dim) of topic embeddings.\n",
    "        document_embeddings: 2D array (n_documents, embedding_dim) of document embeddings.\n",
    "\n",
    "    Returns:\n",
    "        Standardized cosine similarity score in [0, 1].\n",
    "    \"\"\"\n",
    "    # Compute cosine similarity between topic and document embeddings\n",
    "    similarities = cosine_similarity(topic_embeddings, document_embeddings)\n",
    "    \n",
    "    # Take the mean of maximum similarity for each document\n",
    "    average_similarity = np.mean(np.max(similarities, axis=0))\n",
    "    \n",
    "    # Standardize cosine similarity from [-1, 1] to [0, 1]\n",
    "    standardized_similarity = (average_similarity + 1) / 2\n",
    "    return standardized_similarity\n",
    "\n",
    "# Function to calculate Silhouette Score\n",
    "def calculate_silhouette_score(document_embeddings, topic_labels):\n",
    "    \"\"\"\n",
    "    Calculate Silhouette Score and standardize it.\n",
    "\n",
    "    Parameters:\n",
    "        document_embeddings: 2D array of document embeddings.\n",
    "        topic_labels: 1D array of assigned topic labels for documents.\n",
    "\n",
    "    Returns:\n",
    "        Standardized silhouette score in [0, 1].\n",
    "    \"\"\"\n",
    "    score = silhouette_score(document_embeddings, topic_labels)\n",
    "    # Standardize silhouette score from [-1, 1] to [0, 1]\n",
    "    standardized_score = (score + 1) / 2\n",
    "    return standardized_score\n",
    "    \n",
    "\n",
    "\n",
    "\n"
   ]
  },
  {
   "cell_type": "code",
   "execution_count": 29,
   "id": "a98236da-c212-453d-acd5-979a6b836e4c",
   "metadata": {},
   "outputs": [
    {
     "name": "stderr",
     "output_type": "stream",
     "text": [
      "[I 2024-11-30 20:59:47,296] A new study created in memory with name: no-name-02ee8f73-c76c-45cd-8a2a-f135e95a5740\n",
      "[I 2024-11-30 21:00:19,372] Trial 0 finished with value: inf and parameters: {'umap_n_neighbors': 13, 'umap_min_dist': 0.32736361487919724, 'umap_n_components': 8, 'umap_metric': 'correlation', 'hdbscan_min_cluster_size': 18, 'hdbscan_min_samples': 7, 'hdbscan_metric': 'euclidean', 'keybert_nr_repr_docs': 5, 'keybert_top_n_words': 8}. Best is trial 0 with value: inf.\n",
      "[I 2024-11-30 21:00:51,146] Trial 1 finished with value: inf and parameters: {'umap_n_neighbors': 29, 'umap_min_dist': 0.5390507384836158, 'umap_n_components': 8, 'umap_metric': 'euclidean', 'hdbscan_min_cluster_size': 5, 'hdbscan_min_samples': 18, 'hdbscan_metric': 'chebyshev', 'keybert_nr_repr_docs': 8, 'keybert_top_n_words': 8}. Best is trial 0 with value: inf.\n"
     ]
    },
    {
     "data": {
      "application/vnd.jupyter.widget-view+json": {
       "model_id": "ebb02a03483141a5a481ae57557c54bf",
       "version_major": 2,
       "version_minor": 0
      },
      "text/plain": [
       "Batches:   0%|          | 0/256 [00:00<?, ?it/s]"
      ]
     },
     "metadata": {},
     "output_type": "display_data"
    },
    {
     "name": "stderr",
     "output_type": "stream",
     "text": [
      "[I 2024-11-30 21:02:19,650] Trial 2 finished with value: -0.6693765706148563 and parameters: {'umap_n_neighbors': 29, 'umap_min_dist': 0.41743836248300387, 'umap_n_components': 11, 'umap_metric': 'manhattan', 'hdbscan_min_cluster_size': 19, 'hdbscan_min_samples': 6, 'hdbscan_metric': 'manhattan', 'keybert_nr_repr_docs': 1, 'keybert_top_n_words': 9}. Best is trial 2 with value: -0.6693765706148563.\n",
      "[I 2024-11-30 21:03:04,216] Trial 3 finished with value: inf and parameters: {'umap_n_neighbors': 26, 'umap_min_dist': 0.14263152307037044, 'umap_n_components': 8, 'umap_metric': 'chebyshev', 'hdbscan_min_cluster_size': 11, 'hdbscan_min_samples': 6, 'hdbscan_metric': 'canberra', 'keybert_nr_repr_docs': 8, 'keybert_top_n_words': 6}. Best is trial 2 with value: -0.6693765706148563.\n",
      "[I 2024-11-30 21:03:48,190] Trial 4 finished with value: inf and parameters: {'umap_n_neighbors': 24, 'umap_min_dist': 0.3125074916421488, 'umap_n_components': 6, 'umap_metric': 'correlation', 'hdbscan_min_cluster_size': 27, 'hdbscan_min_samples': 18, 'hdbscan_metric': 'euclidean', 'keybert_nr_repr_docs': 9, 'keybert_top_n_words': 8}. Best is trial 2 with value: -0.6693765706148563.\n",
      "[I 2024-11-30 21:04:34,621] Trial 5 finished with value: inf and parameters: {'umap_n_neighbors': 30, 'umap_min_dist': 0.7350934853737536, 'umap_n_components': 9, 'umap_metric': 'cosine', 'hdbscan_min_cluster_size': 5, 'hdbscan_min_samples': 6, 'hdbscan_metric': 'braycurtis', 'keybert_nr_repr_docs': 8, 'keybert_top_n_words': 7}. Best is trial 2 with value: -0.6693765706148563.\n"
     ]
    },
    {
     "data": {
      "application/vnd.jupyter.widget-view+json": {
       "model_id": "b5f26f08d8b64749b9c7bcfefa1e3640",
       "version_major": 2,
       "version_minor": 0
      },
      "text/plain": [
       "Batches:   0%|          | 0/256 [00:00<?, ?it/s]"
      ]
     },
     "metadata": {},
     "output_type": "display_data"
    },
    {
     "name": "stderr",
     "output_type": "stream",
     "text": [
      "[I 2024-11-30 21:06:02,413] Trial 6 finished with value: -0.6444679217135472 and parameters: {'umap_n_neighbors': 22, 'umap_min_dist': 0.5825436336066253, 'umap_n_components': 10, 'umap_metric': 'euclidean', 'hdbscan_min_cluster_size': 16, 'hdbscan_min_samples': 16, 'hdbscan_metric': 'braycurtis', 'keybert_nr_repr_docs': 5, 'keybert_top_n_words': 7}. Best is trial 2 with value: -0.6693765706148563.\n",
      "[I 2024-11-30 21:06:45,726] Trial 7 finished with value: inf and parameters: {'umap_n_neighbors': 29, 'umap_min_dist': 0.4243193190498986, 'umap_n_components': 4, 'umap_metric': 'chebyshev', 'hdbscan_min_cluster_size': 21, 'hdbscan_min_samples': 9, 'hdbscan_metric': 'chebyshev', 'keybert_nr_repr_docs': 3, 'keybert_top_n_words': 10}. Best is trial 2 with value: -0.6693765706148563.\n"
     ]
    },
    {
     "data": {
      "application/vnd.jupyter.widget-view+json": {
       "model_id": "3d77c24931a04919829e41f5c1d091f1",
       "version_major": 2,
       "version_minor": 0
      },
      "text/plain": [
       "Batches:   0%|          | 0/256 [00:00<?, ?it/s]"
      ]
     },
     "metadata": {},
     "output_type": "display_data"
    },
    {
     "name": "stderr",
     "output_type": "stream",
     "text": [
      "[I 2024-11-30 21:08:14,811] Trial 8 finished with value: -0.6387072104572039 and parameters: {'umap_n_neighbors': 20, 'umap_min_dist': 0.4224099244564476, 'umap_n_components': 12, 'umap_metric': 'correlation', 'hdbscan_min_cluster_size': 15, 'hdbscan_min_samples': 10, 'hdbscan_metric': 'manhattan', 'keybert_nr_repr_docs': 8, 'keybert_top_n_words': 9}. Best is trial 2 with value: -0.6693765706148563.\n",
      "[I 2024-11-30 21:08:55,441] Trial 9 finished with value: inf and parameters: {'umap_n_neighbors': 15, 'umap_min_dist': 0.9633073358280673, 'umap_n_components': 4, 'umap_metric': 'correlation', 'hdbscan_min_cluster_size': 15, 'hdbscan_min_samples': 8, 'hdbscan_metric': 'braycurtis', 'keybert_nr_repr_docs': 3, 'keybert_top_n_words': 10}. Best is trial 2 with value: -0.6693765706148563.\n"
     ]
    },
    {
     "data": {
      "application/vnd.jupyter.widget-view+json": {
       "model_id": "ff619d75ef484d41934e3be0570a82ed",
       "version_major": 2,
       "version_minor": 0
      },
      "text/plain": [
       "Batches:   0%|          | 0/256 [00:00<?, ?it/s]"
      ]
     },
     "metadata": {},
     "output_type": "display_data"
    },
    {
     "name": "stderr",
     "output_type": "stream",
     "text": [
      "[I 2024-11-30 21:10:17,327] Trial 10 finished with value: -0.6708263865151654 and parameters: {'umap_n_neighbors': 6, 'umap_min_dist': 0.1205102918912298, 'umap_n_components': 15, 'umap_metric': 'manhattan', 'hdbscan_min_cluster_size': 27, 'hdbscan_min_samples': 12, 'hdbscan_metric': 'manhattan', 'keybert_nr_repr_docs': 1, 'keybert_top_n_words': 5}. Best is trial 10 with value: -0.6708263865151654.\n"
     ]
    },
    {
     "data": {
      "application/vnd.jupyter.widget-view+json": {
       "model_id": "0a44a43e3e6b4859895eb5803ed2dc7a",
       "version_major": 2,
       "version_minor": 0
      },
      "text/plain": [
       "Batches:   0%|          | 0/256 [00:00<?, ?it/s]"
      ]
     },
     "metadata": {},
     "output_type": "display_data"
    },
    {
     "name": "stderr",
     "output_type": "stream",
     "text": [
      "[I 2024-11-30 21:11:38,946] Trial 11 finished with value: -0.683733189625182 and parameters: {'umap_n_neighbors': 5, 'umap_min_dist': 0.1330341953474075, 'umap_n_components': 15, 'umap_metric': 'manhattan', 'hdbscan_min_cluster_size': 30, 'hdbscan_min_samples': 14, 'hdbscan_metric': 'manhattan', 'keybert_nr_repr_docs': 1, 'keybert_top_n_words': 5}. Best is trial 11 with value: -0.683733189625182.\n"
     ]
    },
    {
     "data": {
      "application/vnd.jupyter.widget-view+json": {
       "model_id": "df27ad46ab6c4acfa2b8d90c4af3f5c9",
       "version_major": 2,
       "version_minor": 0
      },
      "text/plain": [
       "Batches:   0%|          | 0/256 [00:00<?, ?it/s]"
      ]
     },
     "metadata": {},
     "output_type": "display_data"
    },
    {
     "name": "stderr",
     "output_type": "stream",
     "text": [
      "[I 2024-11-30 21:13:00,023] Trial 12 finished with value: -0.6651870753345468 and parameters: {'umap_n_neighbors': 5, 'umap_min_dist': 0.10694124481869606, 'umap_n_components': 15, 'umap_metric': 'manhattan', 'hdbscan_min_cluster_size': 30, 'hdbscan_min_samples': 13, 'hdbscan_metric': 'manhattan', 'keybert_nr_repr_docs': 1, 'keybert_top_n_words': 5}. Best is trial 11 with value: -0.683733189625182.\n"
     ]
    },
    {
     "data": {
      "application/vnd.jupyter.widget-view+json": {
       "model_id": "340441604ea5480782b7cdcd748de0d9",
       "version_major": 2,
       "version_minor": 0
      },
      "text/plain": [
       "Batches:   0%|          | 0/256 [00:00<?, ?it/s]"
      ]
     },
     "metadata": {},
     "output_type": "display_data"
    },
    {
     "name": "stderr",
     "output_type": "stream",
     "text": [
      "[I 2024-11-30 21:14:21,386] Trial 13 finished with value: -0.6425037803297986 and parameters: {'umap_n_neighbors': 5, 'umap_min_dist': 0.20919143673086105, 'umap_n_components': 15, 'umap_metric': 'manhattan', 'hdbscan_min_cluster_size': 25, 'hdbscan_min_samples': 13, 'hdbscan_metric': 'manhattan', 'keybert_nr_repr_docs': 3, 'keybert_top_n_words': 5}. Best is trial 11 with value: -0.683733189625182.\n",
      "[I 2024-11-30 21:15:02,153] Trial 14 finished with value: inf and parameters: {'umap_n_neighbors': 10, 'umap_min_dist': 0.25412166115105506, 'umap_n_components': 13, 'umap_metric': 'manhattan', 'hdbscan_min_cluster_size': 30, 'hdbscan_min_samples': 11, 'hdbscan_metric': 'manhattan', 'keybert_nr_repr_docs': 1, 'keybert_top_n_words': 6}. Best is trial 11 with value: -0.683733189625182.\n"
     ]
    },
    {
     "data": {
      "application/vnd.jupyter.widget-view+json": {
       "model_id": "a7b8bd3b1c51486990cdf6d48f85fcec",
       "version_major": 2,
       "version_minor": 0
      },
      "text/plain": [
       "Batches:   0%|          | 0/256 [00:00<?, ?it/s]"
      ]
     },
     "metadata": {},
     "output_type": "display_data"
    },
    {
     "name": "stderr",
     "output_type": "stream",
     "text": [
      "[I 2024-11-30 21:16:25,720] Trial 15 finished with value: -0.6692277675579115 and parameters: {'umap_n_neighbors': 9, 'umap_min_dist': 0.10731115752147909, 'umap_n_components': 13, 'umap_metric': 'manhattan', 'hdbscan_min_cluster_size': 24, 'hdbscan_min_samples': 15, 'hdbscan_metric': 'canberra', 'keybert_nr_repr_docs': 2, 'keybert_top_n_words': 6}. Best is trial 11 with value: -0.683733189625182.\n",
      "[I 2024-11-30 21:17:08,108] Trial 16 finished with value: inf and parameters: {'umap_n_neighbors': 11, 'umap_min_dist': 0.8035697331788652, 'umap_n_components': 15, 'umap_metric': 'cosine', 'hdbscan_min_cluster_size': 26, 'hdbscan_min_samples': 15, 'hdbscan_metric': 'manhattan', 'keybert_nr_repr_docs': 3, 'keybert_top_n_words': 5}. Best is trial 11 with value: -0.683733189625182.\n",
      "[I 2024-11-30 21:17:46,936] Trial 17 finished with value: inf and parameters: {'umap_n_neighbors': 7, 'umap_min_dist': 0.2177672477931959, 'umap_n_components': 13, 'umap_metric': 'manhattan', 'hdbscan_min_cluster_size': 22, 'hdbscan_min_samples': 20, 'hdbscan_metric': 'manhattan', 'keybert_nr_repr_docs': 6, 'keybert_top_n_words': 6}. Best is trial 11 with value: -0.683733189625182.\n"
     ]
    },
    {
     "data": {
      "application/vnd.jupyter.widget-view+json": {
       "model_id": "8d52dcc4f6e245b2b5ce373ad68c7d09",
       "version_major": 2,
       "version_minor": 0
      },
      "text/plain": [
       "Batches:   0%|          | 0/256 [00:00<?, ?it/s]"
      ]
     },
     "metadata": {},
     "output_type": "display_data"
    },
    {
     "name": "stderr",
     "output_type": "stream",
     "text": [
      "[I 2024-11-30 21:19:15,427] Trial 18 finished with value: -0.6740818867300407 and parameters: {'umap_n_neighbors': 17, 'umap_min_dist': 0.5675863795499172, 'umap_n_components': 14, 'umap_metric': 'manhattan', 'hdbscan_min_cluster_size': 28, 'hdbscan_min_samples': 12, 'hdbscan_metric': 'manhattan', 'keybert_nr_repr_docs': 4, 'keybert_top_n_words': 5}. Best is trial 11 with value: -0.683733189625182.\n",
      "[I 2024-11-30 21:19:57,639] Trial 19 finished with value: inf and parameters: {'umap_n_neighbors': 17, 'umap_min_dist': 0.6687534704257042, 'umap_n_components': 11, 'umap_metric': 'manhattan', 'hdbscan_min_cluster_size': 29, 'hdbscan_min_samples': 14, 'hdbscan_metric': 'chebyshev', 'keybert_nr_repr_docs': 6, 'keybert_top_n_words': 7}. Best is trial 11 with value: -0.683733189625182.\n",
      "[I 2024-11-30 21:20:39,118] Trial 20 finished with value: inf and parameters: {'umap_n_neighbors': 19, 'umap_min_dist': 0.5276996313947975, 'umap_n_components': 6, 'umap_metric': 'cosine', 'hdbscan_min_cluster_size': 23, 'hdbscan_min_samples': 11, 'hdbscan_metric': 'euclidean', 'keybert_nr_repr_docs': 4, 'keybert_top_n_words': 5}. Best is trial 11 with value: -0.683733189625182.\n",
      "[I 2024-11-30 21:21:17,408] Trial 21 finished with value: inf and parameters: {'umap_n_neighbors': 7, 'umap_min_dist': 0.3272597700783906, 'umap_n_components': 14, 'umap_metric': 'manhattan', 'hdbscan_min_cluster_size': 27, 'hdbscan_min_samples': 12, 'hdbscan_metric': 'manhattan', 'keybert_nr_repr_docs': 2, 'keybert_top_n_words': 5}. Best is trial 11 with value: -0.683733189625182.\n",
      "[I 2024-11-30 21:21:59,478] Trial 22 finished with value: inf and parameters: {'umap_n_neighbors': 14, 'umap_min_dist': 0.6248223489739516, 'umap_n_components': 14, 'umap_metric': 'manhattan', 'hdbscan_min_cluster_size': 27, 'hdbscan_min_samples': 12, 'hdbscan_metric': 'manhattan', 'keybert_nr_repr_docs': 2, 'keybert_top_n_words': 6}. Best is trial 11 with value: -0.683733189625182.\n",
      "[I 2024-11-30 21:22:39,187] Trial 23 finished with value: inf and parameters: {'umap_n_neighbors': 8, 'umap_min_dist': 0.47724306520994947, 'umap_n_components': 14, 'umap_metric': 'manhattan', 'hdbscan_min_cluster_size': 28, 'hdbscan_min_samples': 17, 'hdbscan_metric': 'manhattan', 'keybert_nr_repr_docs': 4, 'keybert_top_n_words': 5}. Best is trial 11 with value: -0.683733189625182.\n"
     ]
    },
    {
     "data": {
      "application/vnd.jupyter.widget-view+json": {
       "model_id": "8c0a9bafd6be4b2e9bd89b9ce1ca1473",
       "version_major": 2,
       "version_minor": 0
      },
      "text/plain": [
       "Batches:   0%|          | 0/256 [00:00<?, ?it/s]"
      ]
     },
     "metadata": {},
     "output_type": "display_data"
    },
    {
     "name": "stderr",
     "output_type": "stream",
     "text": [
      "[I 2024-11-30 21:24:01,041] Trial 24 finished with value: -0.7159074271937671 and parameters: {'umap_n_neighbors': 12, 'umap_min_dist': 0.18080361327534247, 'umap_n_components': 2, 'umap_metric': 'manhattan', 'hdbscan_min_cluster_size': 30, 'hdbscan_min_samples': 14, 'hdbscan_metric': 'manhattan', 'keybert_nr_repr_docs': 1, 'keybert_top_n_words': 6}. Best is trial 24 with value: -0.7159074271937671.\n"
     ]
    },
    {
     "data": {
      "application/vnd.jupyter.widget-view+json": {
       "model_id": "6c0c381accc4488fa54abfa0b65b0a50",
       "version_major": 2,
       "version_minor": 0
      },
      "text/plain": [
       "Batches:   0%|          | 0/256 [00:00<?, ?it/s]"
      ]
     },
     "metadata": {},
     "output_type": "display_data"
    },
    {
     "name": "stderr",
     "output_type": "stream",
     "text": [
      "[I 2024-11-30 21:25:23,505] Trial 25 finished with value: -0.7368298468274422 and parameters: {'umap_n_neighbors': 12, 'umap_min_dist': 0.8272005515156714, 'umap_n_components': 2, 'umap_metric': 'euclidean', 'hdbscan_min_cluster_size': 29, 'hdbscan_min_samples': 14, 'hdbscan_metric': 'canberra', 'keybert_nr_repr_docs': 4, 'keybert_top_n_words': 6}. Best is trial 25 with value: -0.7368298468274422.\n"
     ]
    },
    {
     "data": {
      "application/vnd.jupyter.widget-view+json": {
       "model_id": "7ca29fd476194a388cc271044b3bd7ba",
       "version_major": 2,
       "version_minor": 0
      },
      "text/plain": [
       "Batches:   0%|          | 0/256 [00:00<?, ?it/s]"
      ]
     },
     "metadata": {},
     "output_type": "display_data"
    },
    {
     "name": "stderr",
     "output_type": "stream",
     "text": [
      "[I 2024-11-30 21:26:46,530] Trial 26 finished with value: -0.7363546530227901 and parameters: {'umap_n_neighbors': 12, 'umap_min_dist': 0.9148232789694264, 'umap_n_components': 2, 'umap_metric': 'euclidean', 'hdbscan_min_cluster_size': 30, 'hdbscan_min_samples': 14, 'hdbscan_metric': 'canberra', 'keybert_nr_repr_docs': 2, 'keybert_top_n_words': 6}. Best is trial 25 with value: -0.7368298468274422.\n"
     ]
    },
    {
     "data": {
      "application/vnd.jupyter.widget-view+json": {
       "model_id": "02a4300621214b62809de33387f518a2",
       "version_major": 2,
       "version_minor": 0
      },
      "text/plain": [
       "Batches:   0%|          | 0/256 [00:00<?, ?it/s]"
      ]
     },
     "metadata": {},
     "output_type": "display_data"
    },
    {
     "name": "stderr",
     "output_type": "stream",
     "text": [
      "[I 2024-11-30 21:28:08,730] Trial 27 finished with value: -0.6731170213481914 and parameters: {'umap_n_neighbors': 12, 'umap_min_dist': 0.9516640036078171, 'umap_n_components': 2, 'umap_metric': 'euclidean', 'hdbscan_min_cluster_size': 10, 'hdbscan_min_samples': 16, 'hdbscan_metric': 'canberra', 'keybert_nr_repr_docs': 2, 'keybert_top_n_words': 7}. Best is trial 25 with value: -0.7368298468274422.\n"
     ]
    },
    {
     "data": {
      "application/vnd.jupyter.widget-view+json": {
       "model_id": "2e3f5f60f64c4e1b977daec451f6ce66",
       "version_major": 2,
       "version_minor": 0
      },
      "text/plain": [
       "Batches:   0%|          | 0/256 [00:00<?, ?it/s]"
      ]
     },
     "metadata": {},
     "output_type": "display_data"
    },
    {
     "name": "stderr",
     "output_type": "stream",
     "text": [
      "[I 2024-11-30 21:29:34,463] Trial 28 finished with value: -0.6462139856963409 and parameters: {'umap_n_neighbors': 15, 'umap_min_dist': 0.8815697827776282, 'umap_n_components': 2, 'umap_metric': 'euclidean', 'hdbscan_min_cluster_size': 25, 'hdbscan_min_samples': 14, 'hdbscan_metric': 'canberra', 'keybert_nr_repr_docs': 4, 'keybert_top_n_words': 6}. Best is trial 25 with value: -0.7368298468274422.\n"
     ]
    },
    {
     "data": {
      "application/vnd.jupyter.widget-view+json": {
       "model_id": "486e5a916f9f45cf92c6606ac85038a1",
       "version_major": 2,
       "version_minor": 0
      },
      "text/plain": [
       "Batches:   0%|          | 0/256 [00:00<?, ?it/s]"
      ]
     },
     "metadata": {},
     "output_type": "display_data"
    },
    {
     "name": "stderr",
     "output_type": "stream",
     "text": [
      "[I 2024-11-30 21:30:59,162] Trial 29 finished with value: -0.7098828297224135 and parameters: {'umap_n_neighbors': 13, 'umap_min_dist': 0.8343491273312093, 'umap_n_components': 3, 'umap_metric': 'euclidean', 'hdbscan_min_cluster_size': 19, 'hdbscan_min_samples': 20, 'hdbscan_metric': 'canberra', 'keybert_nr_repr_docs': 5, 'keybert_top_n_words': 7}. Best is trial 25 with value: -0.7368298468274422.\n"
     ]
    },
    {
     "data": {
      "application/vnd.jupyter.widget-view+json": {
       "model_id": "b7262e3db82e488497b09c1b164c519b",
       "version_major": 2,
       "version_minor": 0
      },
      "text/plain": [
       "Batches:   0%|          | 0/256 [00:00<?, ?it/s]"
      ]
     },
     "metadata": {},
     "output_type": "display_data"
    },
    {
     "name": "stderr",
     "output_type": "stream",
     "text": [
      "[I 2024-11-30 21:32:26,937] Trial 30 finished with value: -0.6432636354954612 and parameters: {'umap_n_neighbors': 10, 'umap_min_dist': 0.7193810961361203, 'umap_n_components': 6, 'umap_metric': 'euclidean', 'hdbscan_min_cluster_size': 21, 'hdbscan_min_samples': 15, 'hdbscan_metric': 'canberra', 'keybert_nr_repr_docs': 2, 'keybert_top_n_words': 6}. Best is trial 25 with value: -0.7368298468274422.\n"
     ]
    },
    {
     "data": {
      "application/vnd.jupyter.widget-view+json": {
       "model_id": "acb35f37d7ae4067a44c487313983271",
       "version_major": 2,
       "version_minor": 0
      },
      "text/plain": [
       "Batches:   0%|          | 0/256 [00:00<?, ?it/s]"
      ]
     },
     "metadata": {},
     "output_type": "display_data"
    },
    {
     "name": "stderr",
     "output_type": "stream",
     "text": [
      "[I 2024-11-30 21:33:52,229] Trial 31 finished with value: -0.6641431372964401 and parameters: {'umap_n_neighbors': 12, 'umap_min_dist': 0.8615559717093448, 'umap_n_components': 3, 'umap_metric': 'euclidean', 'hdbscan_min_cluster_size': 19, 'hdbscan_min_samples': 19, 'hdbscan_metric': 'canberra', 'keybert_nr_repr_docs': 5, 'keybert_top_n_words': 7}. Best is trial 25 with value: -0.7368298468274422.\n"
     ]
    },
    {
     "data": {
      "application/vnd.jupyter.widget-view+json": {
       "model_id": "eff36c4668fb416f811ec382d78758bb",
       "version_major": 2,
       "version_minor": 0
      },
      "text/plain": [
       "Batches:   0%|          | 0/256 [00:00<?, ?it/s]"
      ]
     },
     "metadata": {},
     "output_type": "display_data"
    },
    {
     "name": "stderr",
     "output_type": "stream",
     "text": [
      "[I 2024-11-30 21:34:52,040] Trial 32 finished with value: -0.7211785163821278 and parameters: {'umap_n_neighbors': 13, 'umap_min_dist': 0.8260676929520032, 'umap_n_components': 3, 'umap_metric': 'euclidean', 'hdbscan_min_cluster_size': 11, 'hdbscan_min_samples': 17, 'hdbscan_metric': 'canberra', 'keybert_nr_repr_docs': 7, 'keybert_top_n_words': 7}. Best is trial 25 with value: -0.7368298468274422.\n"
     ]
    },
    {
     "data": {
      "application/vnd.jupyter.widget-view+json": {
       "model_id": "97c89b8c027d4e7392999c3230badfe7",
       "version_major": 2,
       "version_minor": 0
      },
      "text/plain": [
       "Batches:   0%|          | 0/256 [00:00<?, ?it/s]"
      ]
     },
     "metadata": {},
     "output_type": "display_data"
    },
    {
     "name": "stderr",
     "output_type": "stream",
     "text": [
      "[I 2024-11-30 21:35:55,582] Trial 33 finished with value: -0.6959603402256801 and parameters: {'umap_n_neighbors': 14, 'umap_min_dist': 0.9199877075393292, 'umap_n_components': 4, 'umap_metric': 'euclidean', 'hdbscan_min_cluster_size': 11, 'hdbscan_min_samples': 14, 'hdbscan_metric': 'canberra', 'keybert_nr_repr_docs': 7, 'keybert_top_n_words': 8}. Best is trial 25 with value: -0.7368298468274422.\n"
     ]
    },
    {
     "data": {
      "application/vnd.jupyter.widget-view+json": {
       "model_id": "0779b86847ab43f284db985b514c7051",
       "version_major": 2,
       "version_minor": 0
      },
      "text/plain": [
       "Batches:   0%|          | 0/256 [00:00<?, ?it/s]"
      ]
     },
     "metadata": {},
     "output_type": "display_data"
    },
    {
     "name": "stderr",
     "output_type": "stream",
     "text": [
      "[I 2024-11-30 21:36:56,990] Trial 34 finished with value: -0.703035246513134 and parameters: {'umap_n_neighbors': 16, 'umap_min_dist': 0.7770709515058005, 'umap_n_components': 3, 'umap_metric': 'euclidean', 'hdbscan_min_cluster_size': 8, 'hdbscan_min_samples': 17, 'hdbscan_metric': 'canberra', 'keybert_nr_repr_docs': 7, 'keybert_top_n_words': 6}. Best is trial 25 with value: -0.7368298468274422.\n",
      "[I 2024-11-30 21:37:27,150] Trial 35 finished with value: inf and parameters: {'umap_n_neighbors': 12, 'umap_min_dist': 0.9073894623861799, 'umap_n_components': 5, 'umap_metric': 'euclidean', 'hdbscan_min_cluster_size': 13, 'hdbscan_min_samples': 17, 'hdbscan_metric': 'canberra', 'keybert_nr_repr_docs': 9, 'keybert_top_n_words': 6}. Best is trial 25 with value: -0.7368298468274422.\n",
      "[I 2024-11-30 21:37:53,866] Trial 36 finished with value: inf and parameters: {'umap_n_neighbors': 9, 'umap_min_dist': 0.9862463751498922, 'umap_n_components': 2, 'umap_metric': 'chebyshev', 'hdbscan_min_cluster_size': 29, 'hdbscan_min_samples': 16, 'hdbscan_metric': 'euclidean', 'keybert_nr_repr_docs': 10, 'keybert_top_n_words': 7}. Best is trial 25 with value: -0.7368298468274422.\n"
     ]
    },
    {
     "data": {
      "application/vnd.jupyter.widget-view+json": {
       "model_id": "69b6f465d09646beb592cb1375508d07",
       "version_major": 2,
       "version_minor": 0
      },
      "text/plain": [
       "Batches:   0%|          | 0/256 [00:00<?, ?it/s]"
      ]
     },
     "metadata": {},
     "output_type": "display_data"
    },
    {
     "name": "stderr",
     "output_type": "stream",
     "text": [
      "[I 2024-11-30 21:38:57,467] Trial 37 finished with value: -0.6132835017073119 and parameters: {'umap_n_neighbors': 19, 'umap_min_dist': 0.7447348324253197, 'umap_n_components': 7, 'umap_metric': 'euclidean', 'hdbscan_min_cluster_size': 7, 'hdbscan_min_samples': 18, 'hdbscan_metric': 'canberra', 'keybert_nr_repr_docs': 7, 'keybert_top_n_words': 8}. Best is trial 25 with value: -0.7368298468274422.\n",
      "[I 2024-11-30 21:39:26,206] Trial 38 finished with value: inf and parameters: {'umap_n_neighbors': 13, 'umap_min_dist': 0.6811833912910271, 'umap_n_components': 3, 'umap_metric': 'euclidean', 'hdbscan_min_cluster_size': 17, 'hdbscan_min_samples': 15, 'hdbscan_metric': 'chebyshev', 'keybert_nr_repr_docs': 6, 'keybert_top_n_words': 7}. Best is trial 25 with value: -0.7368298468274422.\n"
     ]
    },
    {
     "data": {
      "application/vnd.jupyter.widget-view+json": {
       "model_id": "43a20606ff4a442788242c30c2123b7a",
       "version_major": 2,
       "version_minor": 0
      },
      "text/plain": [
       "Batches:   0%|          | 0/256 [00:00<?, ?it/s]"
      ]
     },
     "metadata": {},
     "output_type": "display_data"
    },
    {
     "name": "stderr",
     "output_type": "stream",
     "text": [
      "[I 2024-11-30 21:40:26,160] Trial 39 finished with value: -0.6677382496358905 and parameters: {'umap_n_neighbors': 11, 'umap_min_dist': 0.8304833898692637, 'umap_n_components': 5, 'umap_metric': 'chebyshev', 'hdbscan_min_cluster_size': 13, 'hdbscan_min_samples': 13, 'hdbscan_metric': 'canberra', 'keybert_nr_repr_docs': 3, 'keybert_top_n_words': 9}. Best is trial 25 with value: -0.7368298468274422.\n",
      "[I 2024-11-30 21:40:54,485] Trial 40 finished with value: inf and parameters: {'umap_n_neighbors': 14, 'umap_min_dist': 0.3851272207963512, 'umap_n_components': 2, 'umap_metric': 'correlation', 'hdbscan_min_cluster_size': 25, 'hdbscan_min_samples': 10, 'hdbscan_metric': 'braycurtis', 'keybert_nr_repr_docs': 1, 'keybert_top_n_words': 6}. Best is trial 25 with value: -0.7368298468274422.\n"
     ]
    },
    {
     "data": {
      "application/vnd.jupyter.widget-view+json": {
       "model_id": "d4186e3e22d548728e0edffad96d311f",
       "version_major": 2,
       "version_minor": 0
      },
      "text/plain": [
       "Batches:   0%|          | 0/256 [00:00<?, ?it/s]"
      ]
     },
     "metadata": {},
     "output_type": "display_data"
    },
    {
     "name": "stderr",
     "output_type": "stream",
     "text": [
      "[I 2024-11-30 21:41:52,796] Trial 41 finished with value: -0.7204720122480335 and parameters: {'umap_n_neighbors': 13, 'umap_min_dist': 0.8303624676721805, 'umap_n_components': 3, 'umap_metric': 'euclidean', 'hdbscan_min_cluster_size': 18, 'hdbscan_min_samples': 20, 'hdbscan_metric': 'canberra', 'keybert_nr_repr_docs': 5, 'keybert_top_n_words': 7}. Best is trial 25 with value: -0.7368298468274422.\n"
     ]
    },
    {
     "data": {
      "application/vnd.jupyter.widget-view+json": {
       "model_id": "0b3b038cfb4f4100a63db87f6794658a",
       "version_major": 2,
       "version_minor": 0
      },
      "text/plain": [
       "Batches:   0%|          | 0/256 [00:00<?, ?it/s]"
      ]
     },
     "metadata": {},
     "output_type": "display_data"
    },
    {
     "name": "stderr",
     "output_type": "stream",
     "text": [
      "[I 2024-11-30 21:42:53,000] Trial 42 finished with value: -0.6668488704207033 and parameters: {'umap_n_neighbors': 16, 'umap_min_dist': 0.7782609030202021, 'umap_n_components': 4, 'umap_metric': 'euclidean', 'hdbscan_min_cluster_size': 5, 'hdbscan_min_samples': 19, 'hdbscan_metric': 'canberra', 'keybert_nr_repr_docs': 5, 'keybert_top_n_words': 7}. Best is trial 25 with value: -0.7368298468274422.\n"
     ]
    },
    {
     "data": {
      "application/vnd.jupyter.widget-view+json": {
       "model_id": "c4a7f34c58d649648432ecb7a1344287",
       "version_major": 2,
       "version_minor": 0
      },
      "text/plain": [
       "Batches:   0%|          | 0/256 [00:00<?, ?it/s]"
      ]
     },
     "metadata": {},
     "output_type": "display_data"
    },
    {
     "name": "stderr",
     "output_type": "stream",
     "text": [
      "[I 2024-11-30 21:43:51,230] Trial 43 finished with value: -0.7190284487040032 and parameters: {'umap_n_neighbors': 10, 'umap_min_dist': 0.9214477356120387, 'umap_n_components': 3, 'umap_metric': 'euclidean', 'hdbscan_min_cluster_size': 13, 'hdbscan_min_samples': 19, 'hdbscan_metric': 'canberra', 'keybert_nr_repr_docs': 6, 'keybert_top_n_words': 8}. Best is trial 25 with value: -0.7368298468274422.\n"
     ]
    },
    {
     "data": {
      "application/vnd.jupyter.widget-view+json": {
       "model_id": "2b884002239f439f825fa5ac41a66db5",
       "version_major": 2,
       "version_minor": 0
      },
      "text/plain": [
       "Batches:   0%|          | 0/256 [00:00<?, ?it/s]"
      ]
     },
     "metadata": {},
     "output_type": "display_data"
    },
    {
     "name": "stderr",
     "output_type": "stream",
     "text": [
      "[I 2024-11-30 21:44:51,044] Trial 44 finished with value: -0.7296805048520623 and parameters: {'umap_n_neighbors': 10, 'umap_min_dist': 0.9158475465000627, 'umap_n_components': 5, 'umap_metric': 'euclidean', 'hdbscan_min_cluster_size': 13, 'hdbscan_min_samples': 19, 'hdbscan_metric': 'canberra', 'keybert_nr_repr_docs': 6, 'keybert_top_n_words': 8}. Best is trial 25 with value: -0.7368298468274422.\n",
      "[I 2024-11-30 21:45:19,534] Trial 45 finished with value: inf and parameters: {'umap_n_neighbors': 9, 'umap_min_dist': 0.8805384854322461, 'umap_n_components': 5, 'umap_metric': 'euclidean', 'hdbscan_min_cluster_size': 11, 'hdbscan_min_samples': 18, 'hdbscan_metric': 'canberra', 'keybert_nr_repr_docs': 7, 'keybert_top_n_words': 8}. Best is trial 25 with value: -0.7368298468274422.\n"
     ]
    },
    {
     "data": {
      "application/vnd.jupyter.widget-view+json": {
       "model_id": "24c294479e4e4ab996e6b326b70aae0b",
       "version_major": 2,
       "version_minor": 0
      },
      "text/plain": [
       "Batches:   0%|          | 0/256 [00:00<?, ?it/s]"
      ]
     },
     "metadata": {},
     "output_type": "display_data"
    },
    {
     "name": "stderr",
     "output_type": "stream",
     "text": [
      "[I 2024-11-30 21:46:20,797] Trial 46 finished with value: -0.7076050246692258 and parameters: {'umap_n_neighbors': 25, 'umap_min_dist': 0.8450673899189467, 'umap_n_components': 4, 'umap_metric': 'euclidean', 'hdbscan_min_cluster_size': 8, 'hdbscan_min_samples': 20, 'hdbscan_metric': 'canberra', 'keybert_nr_repr_docs': 8, 'keybert_top_n_words': 9}. Best is trial 25 with value: -0.7368298468274422.\n"
     ]
    },
    {
     "data": {
      "application/vnd.jupyter.widget-view+json": {
       "model_id": "3c0b9fc555a04173bf9f13c020b0c879",
       "version_major": 2,
       "version_minor": 0
      },
      "text/plain": [
       "Batches:   0%|          | 0/256 [00:00<?, ?it/s]"
      ]
     },
     "metadata": {},
     "output_type": "display_data"
    },
    {
     "name": "stderr",
     "output_type": "stream",
     "text": [
      "[I 2024-11-30 21:47:23,166] Trial 47 finished with value: -0.6672868446414513 and parameters: {'umap_n_neighbors': 15, 'umap_min_dist': 0.9311393536988325, 'umap_n_components': 7, 'umap_metric': 'euclidean', 'hdbscan_min_cluster_size': 15, 'hdbscan_min_samples': 5, 'hdbscan_metric': 'canberra', 'keybert_nr_repr_docs': 5, 'keybert_top_n_words': 8}. Best is trial 25 with value: -0.7368298468274422.\n",
      "[I 2024-11-30 21:47:51,826] Trial 48 finished with value: inf and parameters: {'umap_n_neighbors': 11, 'umap_min_dist': 0.9828533982467702, 'umap_n_components': 5, 'umap_metric': 'euclidean', 'hdbscan_min_cluster_size': 14, 'hdbscan_min_samples': 19, 'hdbscan_metric': 'braycurtis', 'keybert_nr_repr_docs': 6, 'keybert_top_n_words': 7}. Best is trial 25 with value: -0.7368298468274422.\n"
     ]
    },
    {
     "data": {
      "application/vnd.jupyter.widget-view+json": {
       "model_id": "38ebcb15f0354828a58e5f0b8883e4a1",
       "version_major": 2,
       "version_minor": 0
      },
      "text/plain": [
       "Batches:   0%|          | 0/256 [00:00<?, ?it/s]"
      ]
     },
     "metadata": {},
     "output_type": "display_data"
    },
    {
     "name": "stderr",
     "output_type": "stream",
     "text": [
      "[I 2024-11-30 21:48:50,561] Trial 49 finished with value: -0.6656406386549195 and parameters: {'umap_n_neighbors': 8, 'umap_min_dist': 0.7841827995506115, 'umap_n_components': 9, 'umap_metric': 'cosine', 'hdbscan_min_cluster_size': 17, 'hdbscan_min_samples': 17, 'hdbscan_metric': 'canberra', 'keybert_nr_repr_docs': 7, 'keybert_top_n_words': 9}. Best is trial 25 with value: -0.7368298468274422.\n",
      "[I 2024-11-30 21:49:20,821] Trial 50 finished with value: inf and parameters: {'umap_n_neighbors': 21, 'umap_min_dist': 0.7339958960702915, 'umap_n_components': 4, 'umap_metric': 'correlation', 'hdbscan_min_cluster_size': 9, 'hdbscan_min_samples': 18, 'hdbscan_metric': 'euclidean', 'keybert_nr_repr_docs': 4, 'keybert_top_n_words': 7}. Best is trial 25 with value: -0.7368298468274422.\n"
     ]
    },
    {
     "data": {
      "application/vnd.jupyter.widget-view+json": {
       "model_id": "c0be98bba404482b9a54632666a2b95f",
       "version_major": 2,
       "version_minor": 0
      },
      "text/plain": [
       "Batches:   0%|          | 0/256 [00:00<?, ?it/s]"
      ]
     },
     "metadata": {},
     "output_type": "display_data"
    },
    {
     "name": "stderr",
     "output_type": "stream",
     "text": [
      "[I 2024-11-30 21:50:18,713] Trial 51 finished with value: -0.716679792122682 and parameters: {'umap_n_neighbors': 10, 'umap_min_dist': 0.8962938052898551, 'umap_n_components': 3, 'umap_metric': 'euclidean', 'hdbscan_min_cluster_size': 13, 'hdbscan_min_samples': 19, 'hdbscan_metric': 'canberra', 'keybert_nr_repr_docs': 6, 'keybert_top_n_words': 8}. Best is trial 25 with value: -0.7368298468274422.\n"
     ]
    },
    {
     "data": {
      "application/vnd.jupyter.widget-view+json": {
       "model_id": "4527919e3da94178b963d2ca4aa6369a",
       "version_major": 2,
       "version_minor": 0
      },
      "text/plain": [
       "Batches:   0%|          | 0/256 [00:00<?, ?it/s]"
      ]
     },
     "metadata": {},
     "output_type": "display_data"
    },
    {
     "name": "stderr",
     "output_type": "stream",
     "text": [
      "[I 2024-11-30 21:51:17,175] Trial 52 finished with value: -0.696829942404948 and parameters: {'umap_n_neighbors': 10, 'umap_min_dist': 0.9428024735184817, 'umap_n_components': 3, 'umap_metric': 'euclidean', 'hdbscan_min_cluster_size': 12, 'hdbscan_min_samples': 20, 'hdbscan_metric': 'canberra', 'keybert_nr_repr_docs': 6, 'keybert_top_n_words': 8}. Best is trial 25 with value: -0.7368298468274422.\n"
     ]
    },
    {
     "data": {
      "application/vnd.jupyter.widget-view+json": {
       "model_id": "4c3e7ab4af6a41f8972edb2beeb141bc",
       "version_major": 2,
       "version_minor": 0
      },
      "text/plain": [
       "Batches:   0%|          | 0/256 [00:00<?, ?it/s]"
      ]
     },
     "metadata": {},
     "output_type": "display_data"
    },
    {
     "name": "stderr",
     "output_type": "stream",
     "text": [
      "[I 2024-11-30 21:52:15,220] Trial 53 finished with value: -0.7054141802095399 and parameters: {'umap_n_neighbors': 11, 'umap_min_dist': 0.8658781969072049, 'umap_n_components': 2, 'umap_metric': 'euclidean', 'hdbscan_min_cluster_size': 16, 'hdbscan_min_samples': 18, 'hdbscan_metric': 'canberra', 'keybert_nr_repr_docs': 8, 'keybert_top_n_words': 8}. Best is trial 25 with value: -0.7368298468274422.\n",
      "[I 2024-11-30 21:52:43,344] Trial 54 finished with value: inf and parameters: {'umap_n_neighbors': 13, 'umap_min_dist': 0.8130508843890837, 'umap_n_components': 3, 'umap_metric': 'euclidean', 'hdbscan_min_cluster_size': 10, 'hdbscan_min_samples': 19, 'hdbscan_metric': 'chebyshev', 'keybert_nr_repr_docs': 5, 'keybert_top_n_words': 9}. Best is trial 25 with value: -0.7368298468274422.\n",
      "[I 2024-11-30 21:53:08,817] Trial 55 finished with value: inf and parameters: {'umap_n_neighbors': 7, 'umap_min_dist': 0.9225992229317238, 'umap_n_components': 2, 'umap_metric': 'euclidean', 'hdbscan_min_cluster_size': 14, 'hdbscan_min_samples': 16, 'hdbscan_metric': 'canberra', 'keybert_nr_repr_docs': 6, 'keybert_top_n_words': 8}. Best is trial 25 with value: -0.7368298468274422.\n",
      "[I 2024-11-30 21:53:35,664] Trial 56 finished with value: inf and parameters: {'umap_n_neighbors': 8, 'umap_min_dist': 0.6886904857806287, 'umap_n_components': 4, 'umap_metric': 'chebyshev', 'hdbscan_min_cluster_size': 12, 'hdbscan_min_samples': 20, 'hdbscan_metric': 'canberra', 'keybert_nr_repr_docs': 7, 'keybert_top_n_words': 7}. Best is trial 25 with value: -0.7368298468274422.\n"
     ]
    },
    {
     "data": {
      "application/vnd.jupyter.widget-view+json": {
       "model_id": "fad2ef19d7ef4cf68f0f5763d4f94f99",
       "version_major": 2,
       "version_minor": 0
      },
      "text/plain": [
       "Batches:   0%|          | 0/256 [00:00<?, ?it/s]"
      ]
     },
     "metadata": {},
     "output_type": "display_data"
    },
    {
     "name": "stderr",
     "output_type": "stream",
     "text": [
      "[I 2024-11-30 21:54:34,260] Trial 57 finished with value: -0.7165150649107738 and parameters: {'umap_n_neighbors': 13, 'umap_min_dist': 0.8080347672320841, 'umap_n_components': 3, 'umap_metric': 'euclidean', 'hdbscan_min_cluster_size': 20, 'hdbscan_min_samples': 19, 'hdbscan_metric': 'canberra', 'keybert_nr_repr_docs': 5, 'keybert_top_n_words': 7}. Best is trial 25 with value: -0.7368298468274422.\n",
      "[I 2024-11-30 21:55:04,579] Trial 58 finished with value: inf and parameters: {'umap_n_neighbors': 18, 'umap_min_dist': 0.6419079162318109, 'umap_n_components': 6, 'umap_metric': 'cosine', 'hdbscan_min_cluster_size': 18, 'hdbscan_min_samples': 18, 'hdbscan_metric': 'braycurtis', 'keybert_nr_repr_docs': 4, 'keybert_top_n_words': 8}. Best is trial 25 with value: -0.7368298468274422.\n"
     ]
    },
    {
     "data": {
      "application/vnd.jupyter.widget-view+json": {
       "model_id": "169bf162c73441a69aecbebc2857ff9a",
       "version_major": 2,
       "version_minor": 0
      },
      "text/plain": [
       "Batches:   0%|          | 0/256 [00:00<?, ?it/s]"
      ]
     },
     "metadata": {},
     "output_type": "display_data"
    },
    {
     "name": "stderr",
     "output_type": "stream",
     "text": [
      "[I 2024-11-30 21:56:00,333] Trial 59 finished with value: -0.6511907327445539 and parameters: {'umap_n_neighbors': 6, 'umap_min_dist': 0.9578415380825287, 'umap_n_components': 2, 'umap_metric': 'euclidean', 'hdbscan_min_cluster_size': 7, 'hdbscan_min_samples': 8, 'hdbscan_metric': 'canberra', 'keybert_nr_repr_docs': 3, 'keybert_top_n_words': 6}. Best is trial 25 with value: -0.7368298468274422.\n",
      "[I 2024-11-30 21:56:32,011] Trial 60 finished with value: inf and parameters: {'umap_n_neighbors': 27, 'umap_min_dist': 0.757883384561418, 'umap_n_components': 5, 'umap_metric': 'correlation', 'hdbscan_min_cluster_size': 29, 'hdbscan_min_samples': 17, 'hdbscan_metric': 'euclidean', 'keybert_nr_repr_docs': 6, 'keybert_top_n_words': 9}. Best is trial 25 with value: -0.7368298468274422.\n"
     ]
    },
    {
     "data": {
      "application/vnd.jupyter.widget-view+json": {
       "model_id": "904a974958864ee39ed01c2c9f2e8143",
       "version_major": 2,
       "version_minor": 0
      },
      "text/plain": [
       "Batches:   0%|          | 0/256 [00:00<?, ?it/s]"
      ]
     },
     "metadata": {},
     "output_type": "display_data"
    },
    {
     "name": "stderr",
     "output_type": "stream",
     "text": [
      "[I 2024-11-30 21:57:29,531] Trial 61 finished with value: -0.6975973894178813 and parameters: {'umap_n_neighbors': 10, 'umap_min_dist': 0.899432498770195, 'umap_n_components': 3, 'umap_metric': 'euclidean', 'hdbscan_min_cluster_size': 13, 'hdbscan_min_samples': 19, 'hdbscan_metric': 'canberra', 'keybert_nr_repr_docs': 6, 'keybert_top_n_words': 8}. Best is trial 25 with value: -0.7368298468274422.\n"
     ]
    },
    {
     "data": {
      "application/vnd.jupyter.widget-view+json": {
       "model_id": "a5e44705eb7a4bb593961d586a74d2cd",
       "version_major": 2,
       "version_minor": 0
      },
      "text/plain": [
       "Batches:   0%|          | 0/256 [00:00<?, ?it/s]"
      ]
     },
     "metadata": {},
     "output_type": "display_data"
    },
    {
     "name": "stderr",
     "output_type": "stream",
     "text": [
      "[I 2024-11-30 21:58:27,932] Trial 62 finished with value: -0.6885196400115758 and parameters: {'umap_n_neighbors': 9, 'umap_min_dist': 0.8735162734551664, 'umap_n_components': 4, 'umap_metric': 'euclidean', 'hdbscan_min_cluster_size': 12, 'hdbscan_min_samples': 20, 'hdbscan_metric': 'canberra', 'keybert_nr_repr_docs': 6, 'keybert_top_n_words': 8}. Best is trial 25 with value: -0.7368298468274422.\n"
     ]
    },
    {
     "data": {
      "application/vnd.jupyter.widget-view+json": {
       "model_id": "8dc708e3d6de4838aa9b3161586f7880",
       "version_major": 2,
       "version_minor": 0
      },
      "text/plain": [
       "Batches:   0%|          | 0/256 [00:00<?, ?it/s]"
      ]
     },
     "metadata": {},
     "output_type": "display_data"
    },
    {
     "name": "stderr",
     "output_type": "stream",
     "text": [
      "[I 2024-11-30 21:59:25,936] Trial 63 finished with value: -0.6851735232734706 and parameters: {'umap_n_neighbors': 10, 'umap_min_dist': 0.9015776288623925, 'umap_n_components': 3, 'umap_metric': 'euclidean', 'hdbscan_min_cluster_size': 14, 'hdbscan_min_samples': 19, 'hdbscan_metric': 'canberra', 'keybert_nr_repr_docs': 5, 'keybert_top_n_words': 8}. Best is trial 25 with value: -0.7368298468274422.\n"
     ]
    },
    {
     "data": {
      "application/vnd.jupyter.widget-view+json": {
       "model_id": "e0513508735541c9af75f1c04cf0543e",
       "version_major": 2,
       "version_minor": 0
      },
      "text/plain": [
       "Batches:   0%|          | 0/256 [00:00<?, ?it/s]"
      ]
     },
     "metadata": {},
     "output_type": "display_data"
    },
    {
     "name": "stderr",
     "output_type": "stream",
     "text": [
      "[I 2024-11-30 22:00:24,717] Trial 64 finished with value: -0.632978501086975 and parameters: {'umap_n_neighbors': 12, 'umap_min_dist': 0.8466857800236621, 'umap_n_components': 2, 'umap_metric': 'euclidean', 'hdbscan_min_cluster_size': 15, 'hdbscan_min_samples': 13, 'hdbscan_metric': 'canberra', 'keybert_nr_repr_docs': 7, 'keybert_top_n_words': 7}. Best is trial 25 with value: -0.7368298468274422.\n"
     ]
    },
    {
     "data": {
      "application/vnd.jupyter.widget-view+json": {
       "model_id": "d7786e6cd85944e4855e938ce45b9035",
       "version_major": 2,
       "version_minor": 0
      },
      "text/plain": [
       "Batches:   0%|          | 0/256 [00:00<?, ?it/s]"
      ]
     },
     "metadata": {},
     "output_type": "display_data"
    },
    {
     "name": "stderr",
     "output_type": "stream",
     "text": [
      "[I 2024-11-30 22:01:23,858] Trial 65 finished with value: -0.6950734015445812 and parameters: {'umap_n_neighbors': 14, 'umap_min_dist': 0.81308130966611, 'umap_n_components': 3, 'umap_metric': 'euclidean', 'hdbscan_min_cluster_size': 16, 'hdbscan_min_samples': 18, 'hdbscan_metric': 'canberra', 'keybert_nr_repr_docs': 6, 'keybert_top_n_words': 8}. Best is trial 25 with value: -0.7368298468274422.\n",
      "[I 2024-11-30 22:01:51,634] Trial 66 finished with value: inf and parameters: {'umap_n_neighbors': 11, 'umap_min_dist': 0.9550921699850301, 'umap_n_components': 4, 'umap_metric': 'euclidean', 'hdbscan_min_cluster_size': 9, 'hdbscan_min_samples': 20, 'hdbscan_metric': 'chebyshev', 'keybert_nr_repr_docs': 4, 'keybert_top_n_words': 7}. Best is trial 25 with value: -0.7368298468274422.\n"
     ]
    },
    {
     "data": {
      "application/vnd.jupyter.widget-view+json": {
       "model_id": "7f8f5440b5cd45b2aed9e4585d7e2d3c",
       "version_major": 2,
       "version_minor": 0
      },
      "text/plain": [
       "Batches:   0%|          | 0/256 [00:00<?, ?it/s]"
      ]
     },
     "metadata": {},
     "output_type": "display_data"
    },
    {
     "name": "stderr",
     "output_type": "stream",
     "text": [
      "[I 2024-11-30 22:02:52,594] Trial 67 finished with value: -0.6436705320186663 and parameters: {'umap_n_neighbors': 16, 'umap_min_dist': 0.8940126693155974, 'umap_n_components': 10, 'umap_metric': 'euclidean', 'hdbscan_min_cluster_size': 11, 'hdbscan_min_samples': 15, 'hdbscan_metric': 'canberra', 'keybert_nr_repr_docs': 8, 'keybert_top_n_words': 6}. Best is trial 25 with value: -0.7368298468274422.\n"
     ]
    },
    {
     "data": {
      "application/vnd.jupyter.widget-view+json": {
       "model_id": "b73bcabfebac42faab106397912877fc",
       "version_major": 2,
       "version_minor": 0
      },
      "text/plain": [
       "Batches:   0%|          | 0/256 [00:00<?, ?it/s]"
      ]
     },
     "metadata": {},
     "output_type": "display_data"
    },
    {
     "name": "stderr",
     "output_type": "stream",
     "text": [
      "[I 2024-11-30 22:03:50,215] Trial 68 finished with value: -0.68330850917243 and parameters: {'umap_n_neighbors': 9, 'umap_min_dist': 0.9891461789263268, 'umap_n_components': 2, 'umap_metric': 'euclidean', 'hdbscan_min_cluster_size': 23, 'hdbscan_min_samples': 16, 'hdbscan_metric': 'canberra', 'keybert_nr_repr_docs': 7, 'keybert_top_n_words': 8}. Best is trial 25 with value: -0.7368298468274422.\n"
     ]
    },
    {
     "data": {
      "application/vnd.jupyter.widget-view+json": {
       "model_id": "af10c009668a4652af7c511c1a6f948b",
       "version_major": 2,
       "version_minor": 0
      },
      "text/plain": [
       "Batches:   0%|          | 0/256 [00:00<?, ?it/s]"
      ]
     },
     "metadata": {},
     "output_type": "display_data"
    },
    {
     "name": "stderr",
     "output_type": "stream",
     "text": [
      "[I 2024-11-30 22:04:46,826] Trial 69 finished with value: -0.755678108505579 and parameters: {'umap_n_neighbors': 6, 'umap_min_dist': 0.8476855423692068, 'umap_n_components': 3, 'umap_metric': 'cosine', 'hdbscan_min_cluster_size': 10, 'hdbscan_min_samples': 19, 'hdbscan_metric': 'canberra', 'keybert_nr_repr_docs': 5, 'keybert_top_n_words': 10}. Best is trial 69 with value: -0.755678108505579.\n"
     ]
    },
    {
     "data": {
      "application/vnd.jupyter.widget-view+json": {
       "model_id": "3ed3abd4a40e44658662ad0630237d03",
       "version_major": 2,
       "version_minor": 0
      },
      "text/plain": [
       "Batches:   0%|          | 0/256 [00:00<?, ?it/s]"
      ]
     },
     "metadata": {},
     "output_type": "display_data"
    },
    {
     "name": "stderr",
     "output_type": "stream",
     "text": [
      "[I 2024-11-30 22:05:43,672] Trial 70 finished with value: -0.7401237932639988 and parameters: {'umap_n_neighbors': 7, 'umap_min_dist': 0.7117590541071246, 'umap_n_components': 2, 'umap_metric': 'cosine', 'hdbscan_min_cluster_size': 10, 'hdbscan_min_samples': 11, 'hdbscan_metric': 'canberra', 'keybert_nr_repr_docs': 5, 'keybert_top_n_words': 10}. Best is trial 69 with value: -0.755678108505579.\n"
     ]
    },
    {
     "data": {
      "application/vnd.jupyter.widget-view+json": {
       "model_id": "c2d62c098a2745fda85375b1bd33ecb1",
       "version_major": 2,
       "version_minor": 0
      },
      "text/plain": [
       "Batches:   0%|          | 0/256 [00:00<?, ?it/s]"
      ]
     },
     "metadata": {},
     "output_type": "display_data"
    },
    {
     "name": "stderr",
     "output_type": "stream",
     "text": [
      "[I 2024-11-30 22:06:40,408] Trial 71 finished with value: -0.7412455994174821 and parameters: {'umap_n_neighbors': 5, 'umap_min_dist': 0.8380918022091174, 'umap_n_components': 2, 'umap_metric': 'cosine', 'hdbscan_min_cluster_size': 9, 'hdbscan_min_samples': 11, 'hdbscan_metric': 'canberra', 'keybert_nr_repr_docs': 5, 'keybert_top_n_words': 10}. Best is trial 69 with value: -0.755678108505579.\n"
     ]
    },
    {
     "data": {
      "application/vnd.jupyter.widget-view+json": {
       "model_id": "fcdc8368640b4566ab8f3264656b1537",
       "version_major": 2,
       "version_minor": 0
      },
      "text/plain": [
       "Batches:   0%|          | 0/256 [00:00<?, ?it/s]"
      ]
     },
     "metadata": {},
     "output_type": "display_data"
    },
    {
     "name": "stderr",
     "output_type": "stream",
     "text": [
      "[I 2024-11-30 22:07:36,729] Trial 72 finished with value: -0.5944545637524592 and parameters: {'umap_n_neighbors': 6, 'umap_min_dist': 0.7891510002019401, 'umap_n_components': 2, 'umap_metric': 'cosine', 'hdbscan_min_cluster_size': 6, 'hdbscan_min_samples': 11, 'hdbscan_metric': 'canberra', 'keybert_nr_repr_docs': 5, 'keybert_top_n_words': 10}. Best is trial 69 with value: -0.755678108505579.\n"
     ]
    },
    {
     "data": {
      "application/vnd.jupyter.widget-view+json": {
       "model_id": "c798540b45294f1884b26f334a8e7f71",
       "version_major": 2,
       "version_minor": 0
      },
      "text/plain": [
       "Batches:   0%|          | 0/256 [00:00<?, ?it/s]"
      ]
     },
     "metadata": {},
     "output_type": "display_data"
    },
    {
     "name": "stderr",
     "output_type": "stream",
     "text": [
      "[I 2024-11-30 22:08:32,895] Trial 73 finished with value: -0.697834281836058 and parameters: {'umap_n_neighbors': 5, 'umap_min_dist': 0.7090139266139469, 'umap_n_components': 2, 'umap_metric': 'cosine', 'hdbscan_min_cluster_size': 10, 'hdbscan_min_samples': 10, 'hdbscan_metric': 'canberra', 'keybert_nr_repr_docs': 4, 'keybert_top_n_words': 10}. Best is trial 69 with value: -0.755678108505579.\n"
     ]
    },
    {
     "data": {
      "application/vnd.jupyter.widget-view+json": {
       "model_id": "910f7b38bb704b46ae706b70d35d4de7",
       "version_major": 2,
       "version_minor": 0
      },
      "text/plain": [
       "Batches:   0%|          | 0/256 [00:00<?, ?it/s]"
      ]
     },
     "metadata": {},
     "output_type": "display_data"
    },
    {
     "name": "stderr",
     "output_type": "stream",
     "text": [
      "[I 2024-11-30 22:09:29,092] Trial 74 finished with value: -0.6329550725492307 and parameters: {'umap_n_neighbors': 6, 'umap_min_dist': 0.7551414561780277, 'umap_n_components': 2, 'umap_metric': 'cosine', 'hdbscan_min_cluster_size': 9, 'hdbscan_min_samples': 9, 'hdbscan_metric': 'canberra', 'keybert_nr_repr_docs': 5, 'keybert_top_n_words': 10}. Best is trial 69 with value: -0.755678108505579.\n",
      "[I 2024-11-30 22:09:55,662] Trial 75 finished with value: inf and parameters: {'umap_n_neighbors': 7, 'umap_min_dist': 0.8288702075040882, 'umap_n_components': 3, 'umap_metric': 'cosine', 'hdbscan_min_cluster_size': 10, 'hdbscan_min_samples': 11, 'hdbscan_metric': 'canberra', 'keybert_nr_repr_docs': 3, 'keybert_top_n_words': 10}. Best is trial 69 with value: -0.755678108505579.\n"
     ]
    },
    {
     "data": {
      "application/vnd.jupyter.widget-view+json": {
       "model_id": "babca82616814f80b43221dfd1b05ad7",
       "version_major": 2,
       "version_minor": 0
      },
      "text/plain": [
       "Batches:   0%|          | 0/256 [00:00<?, ?it/s]"
      ]
     },
     "metadata": {},
     "output_type": "display_data"
    },
    {
     "name": "stderr",
     "output_type": "stream",
     "text": [
      "[I 2024-11-30 22:10:51,937] Trial 76 finished with value: -0.7329459247861406 and parameters: {'umap_n_neighbors': 5, 'umap_min_dist': 0.8541438763926705, 'umap_n_components': 4, 'umap_metric': 'cosine', 'hdbscan_min_cluster_size': 8, 'hdbscan_min_samples': 12, 'hdbscan_metric': 'canberra', 'keybert_nr_repr_docs': 4, 'keybert_top_n_words': 10}. Best is trial 69 with value: -0.755678108505579.\n",
      "[I 2024-11-30 22:11:17,436] Trial 77 finished with value: inf and parameters: {'umap_n_neighbors': 5, 'umap_min_dist': 0.8561355941967752, 'umap_n_components': 4, 'umap_metric': 'cosine', 'hdbscan_min_cluster_size': 8, 'hdbscan_min_samples': 12, 'hdbscan_metric': 'euclidean', 'keybert_nr_repr_docs': 3, 'keybert_top_n_words': 10}. Best is trial 69 with value: -0.755678108505579.\n"
     ]
    },
    {
     "data": {
      "application/vnd.jupyter.widget-view+json": {
       "model_id": "cb0add253b364e069715297a580fc1f5",
       "version_major": 2,
       "version_minor": 0
      },
      "text/plain": [
       "Batches:   0%|          | 0/256 [00:00<?, ?it/s]"
      ]
     },
     "metadata": {},
     "output_type": "display_data"
    },
    {
     "name": "stderr",
     "output_type": "stream",
     "text": [
      "[I 2024-11-30 22:12:13,191] Trial 78 finished with value: -0.7345478439625822 and parameters: {'umap_n_neighbors': 7, 'umap_min_dist': 0.7654254010040586, 'umap_n_components': 2, 'umap_metric': 'cosine', 'hdbscan_min_cluster_size': 7, 'hdbscan_min_samples': 13, 'hdbscan_metric': 'braycurtis', 'keybert_nr_repr_docs': 4, 'keybert_top_n_words': 10}. Best is trial 69 with value: -0.755678108505579.\n",
      "[I 2024-11-30 22:12:39,210] Trial 79 finished with value: inf and parameters: {'umap_n_neighbors': 7, 'umap_min_dist': 0.6229242354910434, 'umap_n_components': 2, 'umap_metric': 'cosine', 'hdbscan_min_cluster_size': 6, 'hdbscan_min_samples': 13, 'hdbscan_metric': 'braycurtis', 'keybert_nr_repr_docs': 4, 'keybert_top_n_words': 10}. Best is trial 69 with value: -0.755678108505579.\n"
     ]
    },
    {
     "data": {
      "application/vnd.jupyter.widget-view+json": {
       "model_id": "5726fc6ec7fd4f82879d33f6a5b1458a",
       "version_major": 2,
       "version_minor": 0
      },
      "text/plain": [
       "Batches:   0%|          | 0/256 [00:00<?, ?it/s]"
      ]
     },
     "metadata": {},
     "output_type": "display_data"
    },
    {
     "name": "stderr",
     "output_type": "stream",
     "text": [
      "[I 2024-11-30 22:13:34,185] Trial 80 finished with value: -0.7173231945568788 and parameters: {'umap_n_neighbors': 5, 'umap_min_dist': 0.4981465583820621, 'umap_n_components': 2, 'umap_metric': 'cosine', 'hdbscan_min_cluster_size': 7, 'hdbscan_min_samples': 10, 'hdbscan_metric': 'braycurtis', 'keybert_nr_repr_docs': 4, 'keybert_top_n_words': 10}. Best is trial 69 with value: -0.755678108505579.\n"
     ]
    },
    {
     "data": {
      "application/vnd.jupyter.widget-view+json": {
       "model_id": "ba5120ea8e4f484a92f6b8fdbb751fa2",
       "version_major": 2,
       "version_minor": 0
      },
      "text/plain": [
       "Batches:   0%|          | 0/256 [00:00<?, ?it/s]"
      ]
     },
     "metadata": {},
     "output_type": "display_data"
    },
    {
     "name": "stderr",
     "output_type": "stream",
     "text": [
      "[I 2024-11-30 22:14:30,834] Trial 81 finished with value: -0.7238587707397734 and parameters: {'umap_n_neighbors': 8, 'umap_min_dist': 0.7686683775094906, 'umap_n_components': 2, 'umap_metric': 'cosine', 'hdbscan_min_cluster_size': 9, 'hdbscan_min_samples': 12, 'hdbscan_metric': 'braycurtis', 'keybert_nr_repr_docs': 3, 'keybert_top_n_words': 10}. Best is trial 69 with value: -0.755678108505579.\n",
      "[I 2024-11-30 22:14:57,358] Trial 82 finished with value: inf and parameters: {'umap_n_neighbors': 8, 'umap_min_dist': 0.7630375784005718, 'umap_n_components': 2, 'umap_metric': 'cosine', 'hdbscan_min_cluster_size': 8, 'hdbscan_min_samples': 12, 'hdbscan_metric': 'braycurtis', 'keybert_nr_repr_docs': 2, 'keybert_top_n_words': 10}. Best is trial 69 with value: -0.755678108505579.\n",
      "[I 2024-11-30 22:15:22,615] Trial 83 finished with value: inf and parameters: {'umap_n_neighbors': 6, 'umap_min_dist': 0.7134510816460184, 'umap_n_components': 2, 'umap_metric': 'cosine', 'hdbscan_min_cluster_size': 6, 'hdbscan_min_samples': 11, 'hdbscan_metric': 'braycurtis', 'keybert_nr_repr_docs': 3, 'keybert_top_n_words': 10}. Best is trial 69 with value: -0.755678108505579.\n"
     ]
    },
    {
     "data": {
      "application/vnd.jupyter.widget-view+json": {
       "model_id": "e2865f9948dd4ad6af6250534a73f872",
       "version_major": 2,
       "version_minor": 0
      },
      "text/plain": [
       "Batches:   0%|          | 0/256 [00:00<?, ?it/s]"
      ]
     },
     "metadata": {},
     "output_type": "display_data"
    },
    {
     "name": "stderr",
     "output_type": "stream",
     "text": [
      "[I 2024-11-30 22:16:19,113] Trial 84 finished with value: -0.7356104865800188 and parameters: {'umap_n_neighbors': 7, 'umap_min_dist': 0.8560629842332355, 'umap_n_components': 4, 'umap_metric': 'cosine', 'hdbscan_min_cluster_size': 9, 'hdbscan_min_samples': 13, 'hdbscan_metric': 'braycurtis', 'keybert_nr_repr_docs': 4, 'keybert_top_n_words': 10}. Best is trial 69 with value: -0.755678108505579.\n",
      "[I 2024-11-30 22:16:45,417] Trial 85 finished with value: inf and parameters: {'umap_n_neighbors': 6, 'umap_min_dist': 0.8713054898897982, 'umap_n_components': 4, 'umap_metric': 'cosine', 'hdbscan_min_cluster_size': 28, 'hdbscan_min_samples': 14, 'hdbscan_metric': 'braycurtis', 'keybert_nr_repr_docs': 4, 'keybert_top_n_words': 10}. Best is trial 69 with value: -0.755678108505579.\n",
      "[I 2024-11-30 22:17:10,931] Trial 86 finished with value: inf and parameters: {'umap_n_neighbors': 5, 'umap_min_dist': 0.9316931604192294, 'umap_n_components': 5, 'umap_metric': 'cosine', 'hdbscan_min_cluster_size': 5, 'hdbscan_min_samples': 13, 'hdbscan_metric': 'braycurtis', 'keybert_nr_repr_docs': 4, 'keybert_top_n_words': 10}. Best is trial 69 with value: -0.755678108505579.\n",
      "[I 2024-11-30 22:17:36,778] Trial 87 finished with value: inf and parameters: {'umap_n_neighbors': 7, 'umap_min_dist': 0.79910802893997, 'umap_n_components': 3, 'umap_metric': 'cosine', 'hdbscan_min_cluster_size': 7, 'hdbscan_min_samples': 13, 'hdbscan_metric': 'braycurtis', 'keybert_nr_repr_docs': 5, 'keybert_top_n_words': 9}. Best is trial 69 with value: -0.755678108505579.\n",
      "[I 2024-11-30 22:18:01,991] Trial 88 finished with value: inf and parameters: {'umap_n_neighbors': 6, 'umap_min_dist': 0.8569644860844222, 'umap_n_components': 4, 'umap_metric': 'cosine', 'hdbscan_min_cluster_size': 8, 'hdbscan_min_samples': 9, 'hdbscan_metric': 'chebyshev', 'keybert_nr_repr_docs': 4, 'keybert_top_n_words': 10}. Best is trial 69 with value: -0.755678108505579.\n",
      "[I 2024-11-30 22:18:29,454] Trial 89 finished with value: inf and parameters: {'umap_n_neighbors': 8, 'umap_min_dist': 0.7321696793438541, 'umap_n_components': 7, 'umap_metric': 'cosine', 'hdbscan_min_cluster_size': 10, 'hdbscan_min_samples': 14, 'hdbscan_metric': 'braycurtis', 'keybert_nr_repr_docs': 5, 'keybert_top_n_words': 9}. Best is trial 69 with value: -0.755678108505579.\n"
     ]
    },
    {
     "data": {
      "application/vnd.jupyter.widget-view+json": {
       "model_id": "392f441d46f54e868aeff91fc1a8619c",
       "version_major": 2,
       "version_minor": 0
      },
      "text/plain": [
       "Batches:   0%|          | 0/256 [00:00<?, ?it/s]"
      ]
     },
     "metadata": {},
     "output_type": "display_data"
    },
    {
     "name": "stderr",
     "output_type": "stream",
     "text": [
      "[I 2024-11-30 22:19:27,902] Trial 90 finished with value: -0.6525707142636658 and parameters: {'umap_n_neighbors': 7, 'umap_min_dist': 0.8460230560534873, 'umap_n_components': 6, 'umap_metric': 'cosine', 'hdbscan_min_cluster_size': 9, 'hdbscan_min_samples': 11, 'hdbscan_metric': 'canberra', 'keybert_nr_repr_docs': 5, 'keybert_top_n_words': 10}. Best is trial 69 with value: -0.755678108505579.\n",
      "[I 2024-11-30 22:19:54,194] Trial 91 finished with value: inf and parameters: {'umap_n_neighbors': 8, 'umap_min_dist': 0.7715966385126737, 'umap_n_components': 2, 'umap_metric': 'cosine', 'hdbscan_min_cluster_size': 9, 'hdbscan_min_samples': 12, 'hdbscan_metric': 'braycurtis', 'keybert_nr_repr_docs': 3, 'keybert_top_n_words': 10}. Best is trial 69 with value: -0.755678108505579.\n",
      "[I 2024-11-30 22:20:21,021] Trial 92 finished with value: inf and parameters: {'umap_n_neighbors': 9, 'umap_min_dist': 0.8003830417466535, 'umap_n_components': 3, 'umap_metric': 'cosine', 'hdbscan_min_cluster_size': 11, 'hdbscan_min_samples': 12, 'hdbscan_metric': 'braycurtis', 'keybert_nr_repr_docs': 2, 'keybert_top_n_words': 10}. Best is trial 69 with value: -0.755678108505579.\n",
      "[I 2024-11-30 22:20:46,415] Trial 93 finished with value: inf and parameters: {'umap_n_neighbors': 6, 'umap_min_dist': 0.8844251817456679, 'umap_n_components': 3, 'umap_metric': 'cosine', 'hdbscan_min_cluster_size': 9, 'hdbscan_min_samples': 12, 'hdbscan_metric': 'braycurtis', 'keybert_nr_repr_docs': 4, 'keybert_top_n_words': 10}. Best is trial 69 with value: -0.755678108505579.\n",
      "[I 2024-11-30 22:21:11,714] Trial 94 finished with value: inf and parameters: {'umap_n_neighbors': 7, 'umap_min_dist': 0.9122212094004334, 'umap_n_components': 2, 'umap_metric': 'cosine', 'hdbscan_min_cluster_size': 26, 'hdbscan_min_samples': 13, 'hdbscan_metric': 'braycurtis', 'keybert_nr_repr_docs': 3, 'keybert_top_n_words': 10}. Best is trial 69 with value: -0.755678108505579.\n",
      "[I 2024-11-30 22:21:37,013] Trial 95 finished with value: inf and parameters: {'umap_n_neighbors': 5, 'umap_min_dist': 0.8159186622764878, 'umap_n_components': 4, 'umap_metric': 'cosine', 'hdbscan_min_cluster_size': 30, 'hdbscan_min_samples': 14, 'hdbscan_metric': 'canberra', 'keybert_nr_repr_docs': 4, 'keybert_top_n_words': 10}. Best is trial 69 with value: -0.755678108505579.\n",
      "[I 2024-11-30 22:22:02,510] Trial 96 finished with value: inf and parameters: {'umap_n_neighbors': 8, 'umap_min_dist': 0.5871950083598634, 'umap_n_components': 2, 'umap_metric': 'cosine', 'hdbscan_min_cluster_size': 7, 'hdbscan_min_samples': 11, 'hdbscan_metric': 'braycurtis', 'keybert_nr_repr_docs': 2, 'keybert_top_n_words': 9}. Best is trial 69 with value: -0.755678108505579.\n",
      "[I 2024-11-30 22:22:29,357] Trial 97 finished with value: inf and parameters: {'umap_n_neighbors': 9, 'umap_min_dist': 0.8387974433827913, 'umap_n_components': 5, 'umap_metric': 'chebyshev', 'hdbscan_min_cluster_size': 8, 'hdbscan_min_samples': 10, 'hdbscan_metric': 'manhattan', 'keybert_nr_repr_docs': 3, 'keybert_top_n_words': 10}. Best is trial 69 with value: -0.755678108505579.\n",
      "[I 2024-11-30 22:22:54,985] Trial 98 finished with value: inf and parameters: {'umap_n_neighbors': 7, 'umap_min_dist': 0.6915395820915706, 'umap_n_components': 3, 'umap_metric': 'cosine', 'hdbscan_min_cluster_size': 10, 'hdbscan_min_samples': 12, 'hdbscan_metric': 'canberra', 'keybert_nr_repr_docs': 5, 'keybert_top_n_words': 10}. Best is trial 69 with value: -0.755678108505579.\n",
      "[I 2024-11-30 22:23:20,402] Trial 99 finished with value: inf and parameters: {'umap_n_neighbors': 6, 'umap_min_dist': 0.6612599051151877, 'umap_n_components': 2, 'umap_metric': 'correlation', 'hdbscan_min_cluster_size': 29, 'hdbscan_min_samples': 15, 'hdbscan_metric': 'euclidean', 'keybert_nr_repr_docs': 4, 'keybert_top_n_words': 9}. Best is trial 69 with value: -0.755678108505579.\n"
     ]
    },
    {
     "name": "stdout",
     "output_type": "stream",
     "text": [
      "Best Parameters: {'umap_n_neighbors': 6, 'umap_min_dist': 0.8476855423692068, 'umap_n_components': 3, 'umap_metric': 'cosine', 'hdbscan_min_cluster_size': 10, 'hdbscan_min_samples': 19, 'hdbscan_metric': 'canberra', 'keybert_nr_repr_docs': 5, 'keybert_top_n_words': 10}\n",
      "Best Score: -0.755678108505579\n"
     ]
    }
   ],
   "source": [
    "# Define custom stop words\n",
    "custom_stop_words = [\"xxxx\", \"xx\",\"x\",\"xxxxx\", \"xxxxxxxx\", \"xxxxxxxxxxxx\"]\n",
    "vectorizer_model = CountVectorizer(stop_words=custom_stop_words)\n",
    "\n",
    "# Define objective function for Bayesian optimization\n",
    "def objective(trial):\n",
    "    # Sample hyperparameters from the search space\n",
    "    umap_n_neighbors = trial.suggest_int(\"umap_n_neighbors\", 5,30)\n",
    "    umap_min_dist = trial.suggest_float(\"umap_min_dist\", 0.1, 0.99)\n",
    "    umap_n_components = trial.suggest_int(\"umap_n_components\", 2,15)\n",
    "    umap_metric = trial.suggest_categorical(\n",
    "        \"umap_metric\",\n",
    "        [\"euclidean\", \"manhattan\", \"chebyshev\", \"cosine\", \"correlation\"],\n",
    "    )\n",
    "    hdbscan_min_cluster_size = trial.suggest_int(\"hdbscan_min_cluster_size\", 5, 30)\n",
    "    hdbscan_min_samples = trial.suggest_int(\"hdbscan_min_samples\", 5,20)\n",
    "    hdbscan_metric = trial.suggest_categorical(\n",
    "        \"hdbscan_metric\",\n",
    "        [\"euclidean\", \"manhattan\", \"chebyshev\",\"canberra\",\"braycurtis\"],\n",
    "    )\n",
    "    keybert_nr_repr_docs = trial.suggest_int(\"keybert_nr_repr_docs\", 1, 10)\n",
    "    keybert_top_n_words = trial.suggest_int(\"keybert_top_n_words\", 5, 10)\n",
    "\n",
    "    # Define models with current hyperparameters\n",
    "    umap_model = UMAP(\n",
    "        n_neighbors=umap_n_neighbors,\n",
    "        min_dist=umap_min_dist,\n",
    "        n_components=umap_n_components,\n",
    "        metric=umap_metric,\n",
    "        random_state=42,\n",
    "    )\n",
    "    hdbscan_model = hdbscan.HDBSCAN(\n",
    "        min_cluster_size=hdbscan_min_cluster_size, min_samples=hdbscan_min_samples,metric=hdbscan_metric, prediction_data=True\n",
    "    )\n",
    "    representation_model = KeyBERTInspired(\n",
    "        nr_repr_docs=keybert_nr_repr_docs, top_n_words=keybert_top_n_words\n",
    "    )\n",
    "\n",
    "    # Initialize BERTopic\n",
    "    topic_model = BERTopic(\n",
    "        embedding_model=\"distilbert-base-nli-mean-tokens\",\n",
    "        umap_model=umap_model,\n",
    "        hdbscan_model=hdbscan_model,\n",
    "        representation_model=representation_model,\n",
    "        vectorizer_model=vectorizer_model,\n",
    "    )\n",
    "\n",
    "    # Fit the model\n",
    "    topics, probs = topic_model.fit_transform(documents)\n",
    "    topic_info = topic_model.get_topic_info()\n",
    "    topic_info_df = pd.DataFrame(topic_info)  # Convert topic_info to DataFrame\n",
    "    \n",
    "    # Restrict models generating only one topic\n",
    "    unique_topics = set(topics)\n",
    "    if len(unique_topics) <= 1 or topic_info_df.loc[topic_info_df[\"Topic\"] == -1, \"Count\"].sum() > len(documents) * 0.055:\n",
    "        return float(\"inf\")  # Invalid configuration\n",
    "\n",
    "    # Calculate evaluation metrics\n",
    "    tokenized_documents = [doc.split() for doc in documents]\n",
    "    dictionary = Dictionary(tokenized_documents)\n",
    "    coherence_score = calculate_and_average_coherence_scores(topic_model, tokenized_documents, dictionary)\n",
    "    sentence_transformer_model = topic_model.embedding_model\n",
    "    topic_embeddings = topic_model.topic_embeddings_\n",
    "    document_embeddings = sentence_transformer_model.embedding_model.encode(documents, show_progress_bar=True)\n",
    "    # Use consistent `documents` for `get_document_info`\n",
    "    document_info = topic_model.get_document_info(documents)\n",
    "    topic_labels = document_info[\"Topic\"].values\n",
    "\n",
    "    diversity_score = calculate_topic_diversity(topic_model)\n",
    "    representativeness_score = calculate_topic_representativeness(topic_embeddings, document_embeddings)\n",
    "    silhouette = calculate_silhouette_score(document_embeddings, topic_labels)\n",
    "\n",
    "    # Combine metrics into a single score\n",
    "    final_score = -np.mean([coherence_score, diversity_score, representativeness_score, silhouette])\n",
    "    return final_score\n",
    "\n",
    "# Perform Bayesian Optimization\n",
    "study = optuna.create_study(direction=\"minimize\")\n",
    "study.optimize(objective, n_trials=100, n_jobs=1)\n",
    "\n",
    "# Best parameters and model\n",
    "best_params = study.best_params\n",
    "print(\"Best Parameters:\", best_params)\n",
    "print(\"Best Score:\", study.best_value)\n",
    "\n",
    "# Save the best model\n",
    "# Reinitialize with the best parameters if needed and save"
   ]
  },
  {
   "cell_type": "code",
   "execution_count": 30,
   "id": "8567dc48-08e3-4d18-adc9-589fec5beef7",
   "metadata": {},
   "outputs": [
    {
     "name": "stderr",
     "output_type": "stream",
     "text": [
      "[I 2024-11-30 22:23:20,409] A new study created in memory with name: no-name-3a61397c-4515-478b-a47c-dcb1d635216d\n"
     ]
    },
    {
     "data": {
      "application/vnd.jupyter.widget-view+json": {
       "model_id": "20582c8e9d6f4ba2b96f2cef58a9998d",
       "version_major": 2,
       "version_minor": 0
      },
      "text/plain": [
       "Batches:   0%|          | 0/256 [00:00<?, ?it/s]"
      ]
     },
     "metadata": {},
     "output_type": "display_data"
    },
    {
     "name": "stderr",
     "output_type": "stream",
     "text": [
      "[I 2024-11-30 22:25:01,415] Trial 0 finished with value: -0.636202857080888 and parameters: {'umap_n_neighbors': 24, 'umap_min_dist': 0.627529626384329, 'umap_n_components': 6, 'umap_metric': 'chebyshev', 'Spectral_n_cluster': 7, 'Spectral_eigen_solver': 'arpack', 'Spectral_affinity': 'nearest_neighbors', 'Spectral_assign_labels': 'cluster_qr', 'keybert_nr_repr_docs': 7, 'keybert_top_n_words': 9}. Best is trial 0 with value: -0.636202857080888.\n"
     ]
    },
    {
     "data": {
      "application/vnd.jupyter.widget-view+json": {
       "model_id": "f7dc87de7df944ba9782f230ae895a61",
       "version_major": 2,
       "version_minor": 0
      },
      "text/plain": [
       "Batches:   0%|          | 0/256 [00:00<?, ?it/s]"
      ]
     },
     "metadata": {},
     "output_type": "display_data"
    },
    {
     "name": "stderr",
     "output_type": "stream",
     "text": [
      "[I 2024-11-30 22:26:05,182] Trial 1 finished with value: -0.6029289672245193 and parameters: {'umap_n_neighbors': 14, 'umap_min_dist': 0.2814809330288449, 'umap_n_components': 13, 'umap_metric': 'euclidean', 'Spectral_n_cluster': 37, 'Spectral_eigen_solver': 'arpack', 'Spectral_affinity': 'nearest_neighbors', 'Spectral_assign_labels': 'cluster_qr', 'keybert_nr_repr_docs': 1, 'keybert_top_n_words': 8}. Best is trial 0 with value: -0.636202857080888.\n"
     ]
    },
    {
     "data": {
      "application/vnd.jupyter.widget-view+json": {
       "model_id": "8e505561ff5a4d1092d71b421b882bd0",
       "version_major": 2,
       "version_minor": 0
      },
      "text/plain": [
       "Batches:   0%|          | 0/256 [00:00<?, ?it/s]"
      ]
     },
     "metadata": {},
     "output_type": "display_data"
    },
    {
     "name": "stderr",
     "output_type": "stream",
     "text": [
      "[I 2024-11-30 22:27:11,261] Trial 2 finished with value: -0.6429990928192372 and parameters: {'umap_n_neighbors': 29, 'umap_min_dist': 0.45961279755355505, 'umap_n_components': 10, 'umap_metric': 'chebyshev', 'Spectral_n_cluster': 7, 'Spectral_eigen_solver': 'lobpcg', 'Spectral_affinity': 'rbf', 'Spectral_assign_labels': 'discretize', 'keybert_nr_repr_docs': 10, 'keybert_top_n_words': 6}. Best is trial 2 with value: -0.6429990928192372.\n"
     ]
    },
    {
     "data": {
      "application/vnd.jupyter.widget-view+json": {
       "model_id": "cc366b53dd094ce0b8424b5cf31632ae",
       "version_major": 2,
       "version_minor": 0
      },
      "text/plain": [
       "Batches:   0%|          | 0/256 [00:00<?, ?it/s]"
      ]
     },
     "metadata": {},
     "output_type": "display_data"
    },
    {
     "name": "stderr",
     "output_type": "stream",
     "text": [
      "[I 2024-11-30 22:28:13,417] Trial 3 finished with value: -0.5981985495263893 and parameters: {'umap_n_neighbors': 9, 'umap_min_dist': 0.49775021370537864, 'umap_n_components': 2, 'umap_metric': 'cosine', 'Spectral_n_cluster': 26, 'Spectral_eigen_solver': 'lobpcg', 'Spectral_affinity': 'rbf', 'Spectral_assign_labels': 'discretize', 'keybert_nr_repr_docs': 1, 'keybert_top_n_words': 9}. Best is trial 2 with value: -0.6429990928192372.\n"
     ]
    },
    {
     "data": {
      "application/vnd.jupyter.widget-view+json": {
       "model_id": "2462714008824e06b38dac07c23b405b",
       "version_major": 2,
       "version_minor": 0
      },
      "text/plain": [
       "Batches:   0%|          | 0/256 [00:00<?, ?it/s]"
      ]
     },
     "metadata": {},
     "output_type": "display_data"
    },
    {
     "name": "stderr",
     "output_type": "stream",
     "text": [
      "[I 2024-11-30 22:29:18,890] Trial 4 finished with value: -0.5855813642917442 and parameters: {'umap_n_neighbors': 9, 'umap_min_dist': 0.6929339607227014, 'umap_n_components': 7, 'umap_metric': 'manhattan', 'Spectral_n_cluster': 38, 'Spectral_eigen_solver': 'lobpcg', 'Spectral_affinity': 'rbf', 'Spectral_assign_labels': 'discretize', 'keybert_nr_repr_docs': 9, 'keybert_top_n_words': 5}. Best is trial 2 with value: -0.6429990928192372.\n"
     ]
    },
    {
     "data": {
      "application/vnd.jupyter.widget-view+json": {
       "model_id": "385f945e83f3472bb8fc65e6492f846a",
       "version_major": 2,
       "version_minor": 0
      },
      "text/plain": [
       "Batches:   0%|          | 0/256 [00:00<?, ?it/s]"
      ]
     },
     "metadata": {},
     "output_type": "display_data"
    },
    {
     "name": "stderr",
     "output_type": "stream",
     "text": [
      "[I 2024-11-30 22:30:29,481] Trial 5 finished with value: -0.5913456419646987 and parameters: {'umap_n_neighbors': 19, 'umap_min_dist': 0.1296179429389551, 'umap_n_components': 12, 'umap_metric': 'manhattan', 'Spectral_n_cluster': 31, 'Spectral_eigen_solver': 'arpack', 'Spectral_affinity': 'rbf', 'Spectral_assign_labels': 'cluster_qr', 'keybert_nr_repr_docs': 5, 'keybert_top_n_words': 5}. Best is trial 2 with value: -0.6429990928192372.\n"
     ]
    },
    {
     "data": {
      "application/vnd.jupyter.widget-view+json": {
       "model_id": "f65a78d65d68455c914fd82b1d1e2cf3",
       "version_major": 2,
       "version_minor": 0
      },
      "text/plain": [
       "Batches:   0%|          | 0/256 [00:00<?, ?it/s]"
      ]
     },
     "metadata": {},
     "output_type": "display_data"
    },
    {
     "name": "stderr",
     "output_type": "stream",
     "text": [
      "[I 2024-11-30 22:31:39,790] Trial 6 finished with value: -0.5912854195631579 and parameters: {'umap_n_neighbors': 26, 'umap_min_dist': 0.698198948573917, 'umap_n_components': 11, 'umap_metric': 'correlation', 'Spectral_n_cluster': 33, 'Spectral_eigen_solver': 'arpack', 'Spectral_affinity': 'rbf', 'Spectral_assign_labels': 'kmeans', 'keybert_nr_repr_docs': 3, 'keybert_top_n_words': 7}. Best is trial 2 with value: -0.6429990928192372.\n"
     ]
    },
    {
     "data": {
      "application/vnd.jupyter.widget-view+json": {
       "model_id": "b0f7cf9e5d704acd83f6005b694ca822",
       "version_major": 2,
       "version_minor": 0
      },
      "text/plain": [
       "Batches:   0%|          | 0/256 [00:00<?, ?it/s]"
      ]
     },
     "metadata": {},
     "output_type": "display_data"
    },
    {
     "name": "stderr",
     "output_type": "stream",
     "text": [
      "[I 2024-11-30 22:32:53,570] Trial 7 finished with value: -0.5815217113581526 and parameters: {'umap_n_neighbors': 30, 'umap_min_dist': 0.9732966550769433, 'umap_n_components': 12, 'umap_metric': 'euclidean', 'Spectral_n_cluster': 44, 'Spectral_eigen_solver': 'arpack', 'Spectral_affinity': 'rbf', 'Spectral_assign_labels': 'kmeans', 'keybert_nr_repr_docs': 6, 'keybert_top_n_words': 10}. Best is trial 2 with value: -0.6429990928192372.\n"
     ]
    },
    {
     "data": {
      "application/vnd.jupyter.widget-view+json": {
       "model_id": "207bf63c815541b98c2895b52e772f58",
       "version_major": 2,
       "version_minor": 0
      },
      "text/plain": [
       "Batches:   0%|          | 0/256 [00:00<?, ?it/s]"
      ]
     },
     "metadata": {},
     "output_type": "display_data"
    },
    {
     "name": "stderr",
     "output_type": "stream",
     "text": [
      "[I 2024-11-30 22:33:54,393] Trial 8 finished with value: -0.6325692313361369 and parameters: {'umap_n_neighbors': 16, 'umap_min_dist': 0.6347667931760713, 'umap_n_components': 8, 'umap_metric': 'cosine', 'Spectral_n_cluster': 9, 'Spectral_eigen_solver': 'amg', 'Spectral_affinity': 'nearest_neighbors', 'Spectral_assign_labels': 'discretize', 'keybert_nr_repr_docs': 6, 'keybert_top_n_words': 9}. Best is trial 2 with value: -0.6429990928192372.\n"
     ]
    },
    {
     "data": {
      "application/vnd.jupyter.widget-view+json": {
       "model_id": "0d60db8a567a44a6942ffe9f193ff61f",
       "version_major": 2,
       "version_minor": 0
      },
      "text/plain": [
       "Batches:   0%|          | 0/256 [00:00<?, ?it/s]"
      ]
     },
     "metadata": {},
     "output_type": "display_data"
    },
    {
     "name": "stderr",
     "output_type": "stream",
     "text": [
      "[I 2024-11-30 22:34:59,304] Trial 9 finished with value: -0.6346481882294028 and parameters: {'umap_n_neighbors': 27, 'umap_min_dist': 0.6601795448034953, 'umap_n_components': 11, 'umap_metric': 'euclidean', 'Spectral_n_cluster': 8, 'Spectral_eigen_solver': 'lobpcg', 'Spectral_affinity': 'rbf', 'Spectral_assign_labels': 'cluster_qr', 'keybert_nr_repr_docs': 3, 'keybert_top_n_words': 9}. Best is trial 2 with value: -0.6429990928192372.\n"
     ]
    },
    {
     "data": {
      "application/vnd.jupyter.widget-view+json": {
       "model_id": "4e33b15de4304c3f8574ca42adf8b18b",
       "version_major": 2,
       "version_minor": 0
      },
      "text/plain": [
       "Batches:   0%|          | 0/256 [00:00<?, ?it/s]"
      ]
     },
     "metadata": {},
     "output_type": "display_data"
    },
    {
     "name": "stderr",
     "output_type": "stream",
     "text": [
      "[I 2024-11-30 22:36:06,351] Trial 10 finished with value: -0.5993638884361494 and parameters: {'umap_n_neighbors': 21, 'umap_min_dist': 0.34991674842272874, 'umap_n_components': 15, 'umap_metric': 'chebyshev', 'Spectral_n_cluster': 19, 'Spectral_eigen_solver': 'amg', 'Spectral_affinity': 'nearest_neighbors', 'Spectral_assign_labels': 'discretize', 'keybert_nr_repr_docs': 10, 'keybert_top_n_words': 6}. Best is trial 2 with value: -0.6429990928192372.\n"
     ]
    },
    {
     "data": {
      "application/vnd.jupyter.widget-view+json": {
       "model_id": "55e379b60a7a471cb29e7e38d6128aa1",
       "version_major": 2,
       "version_minor": 0
      },
      "text/plain": [
       "Batches:   0%|          | 0/256 [00:00<?, ?it/s]"
      ]
     },
     "metadata": {},
     "output_type": "display_data"
    },
    {
     "name": "stderr",
     "output_type": "stream",
     "text": [
      "[I 2024-11-30 22:37:12,727] Trial 11 finished with value: -0.6159658722091917 and parameters: {'umap_n_neighbors': 23, 'umap_min_dist': 0.47284260514885096, 'umap_n_components': 4, 'umap_metric': 'chebyshev', 'Spectral_n_cluster': 15, 'Spectral_eigen_solver': 'lobpcg', 'Spectral_affinity': 'nearest_neighbors', 'Spectral_assign_labels': 'cluster_qr', 'keybert_nr_repr_docs': 8, 'keybert_top_n_words': 7}. Best is trial 2 with value: -0.6429990928192372.\n"
     ]
    },
    {
     "data": {
      "application/vnd.jupyter.widget-view+json": {
       "model_id": "05ad887e57ae497689ebd4e136e540b5",
       "version_major": 2,
       "version_minor": 0
      },
      "text/plain": [
       "Batches:   0%|          | 0/256 [00:00<?, ?it/s]"
      ]
     },
     "metadata": {},
     "output_type": "display_data"
    },
    {
     "name": "stderr",
     "output_type": "stream",
     "text": [
      "[I 2024-11-30 22:38:23,101] Trial 12 finished with value: -0.6658404814708636 and parameters: {'umap_n_neighbors': 29, 'umap_min_dist': 0.930582316843898, 'umap_n_components': 6, 'umap_metric': 'chebyshev', 'Spectral_n_cluster': 5, 'Spectral_eigen_solver': 'arpack', 'Spectral_affinity': 'nearest_neighbors', 'Spectral_assign_labels': 'cluster_qr', 'keybert_nr_repr_docs': 8, 'keybert_top_n_words': 6}. Best is trial 12 with value: -0.6658404814708636.\n"
     ]
    },
    {
     "data": {
      "application/vnd.jupyter.widget-view+json": {
       "model_id": "64b95c7327094f84992a813e08f0e8a8",
       "version_major": 2,
       "version_minor": 0
      },
      "text/plain": [
       "Batches:   0%|          | 0/256 [00:00<?, ?it/s]"
      ]
     },
     "metadata": {},
     "output_type": "display_data"
    },
    {
     "name": "stderr",
     "output_type": "stream",
     "text": [
      "[I 2024-11-30 22:39:27,712] Trial 13 finished with value: -0.6059452785565794 and parameters: {'umap_n_neighbors': 30, 'umap_min_dist': 0.9437323036811538, 'umap_n_components': 9, 'umap_metric': 'chebyshev', 'Spectral_n_cluster': 18, 'Spectral_eigen_solver': 'lobpcg', 'Spectral_affinity': 'nearest_neighbors', 'Spectral_assign_labels': 'discretize', 'keybert_nr_repr_docs': 10, 'keybert_top_n_words': 6}. Best is trial 12 with value: -0.6658404814708636.\n"
     ]
    },
    {
     "data": {
      "application/vnd.jupyter.widget-view+json": {
       "model_id": "fe4dc697171246e7bb1b406cc8cd71c2",
       "version_major": 2,
       "version_minor": 0
      },
      "text/plain": [
       "Batches:   0%|          | 0/256 [00:00<?, ?it/s]"
      ]
     },
     "metadata": {},
     "output_type": "display_data"
    },
    {
     "name": "stderr",
     "output_type": "stream",
     "text": [
      "[I 2024-11-30 22:40:36,803] Trial 14 finished with value: -0.6407155730078637 and parameters: {'umap_n_neighbors': 27, 'umap_min_dist': 0.8448722195464681, 'umap_n_components': 5, 'umap_metric': 'chebyshev', 'Spectral_n_cluster': 5, 'Spectral_eigen_solver': 'amg', 'Spectral_affinity': 'rbf', 'Spectral_assign_labels': 'kmeans', 'keybert_nr_repr_docs': 8, 'keybert_top_n_words': 6}. Best is trial 12 with value: -0.6658404814708636.\n"
     ]
    },
    {
     "data": {
      "application/vnd.jupyter.widget-view+json": {
       "model_id": "7b7cef67091049c5ac706a02b47fb114",
       "version_major": 2,
       "version_minor": 0
      },
      "text/plain": [
       "Batches:   0%|          | 0/256 [00:00<?, ?it/s]"
      ]
     },
     "metadata": {},
     "output_type": "display_data"
    },
    {
     "name": "stderr",
     "output_type": "stream",
     "text": [
      "[I 2024-11-30 22:41:47,713] Trial 15 finished with value: -0.6050774898371767 and parameters: {'umap_n_neighbors': 30, 'umap_min_dist': 0.8034109856880767, 'umap_n_components': 9, 'umap_metric': 'correlation', 'Spectral_n_cluster': 14, 'Spectral_eigen_solver': 'arpack', 'Spectral_affinity': 'nearest_neighbors', 'Spectral_assign_labels': 'cluster_qr', 'keybert_nr_repr_docs': 9, 'keybert_top_n_words': 6}. Best is trial 12 with value: -0.6658404814708636.\n"
     ]
    },
    {
     "data": {
      "application/vnd.jupyter.widget-view+json": {
       "model_id": "d8c7f48d2e56416fb593d2b2b9c0c81a",
       "version_major": 2,
       "version_minor": 0
      },
      "text/plain": [
       "Batches:   0%|          | 0/256 [00:00<?, ?it/s]"
      ]
     },
     "metadata": {},
     "output_type": "display_data"
    },
    {
     "name": "stderr",
     "output_type": "stream",
     "text": [
      "[I 2024-11-30 22:42:53,888] Trial 16 finished with value: -0.5950188258193099 and parameters: {'umap_n_neighbors': 13, 'umap_min_dist': 0.35109868134147754, 'umap_n_components': 3, 'umap_metric': 'chebyshev', 'Spectral_n_cluster': 24, 'Spectral_eigen_solver': 'lobpcg', 'Spectral_affinity': 'rbf', 'Spectral_assign_labels': 'discretize', 'keybert_nr_repr_docs': 8, 'keybert_top_n_words': 7}. Best is trial 12 with value: -0.6658404814708636.\n"
     ]
    },
    {
     "data": {
      "application/vnd.jupyter.widget-view+json": {
       "model_id": "e1e3bd6e811240eabe0117195ef60378",
       "version_major": 2,
       "version_minor": 0
      },
      "text/plain": [
       "Batches:   0%|          | 0/256 [00:00<?, ?it/s]"
      ]
     },
     "metadata": {},
     "output_type": "display_data"
    },
    {
     "name": "stderr",
     "output_type": "stream",
     "text": [
      "[I 2024-11-30 22:44:01,527] Trial 17 finished with value: -0.5814580147226657 and parameters: {'umap_n_neighbors': 22, 'umap_min_dist': 0.4332200418981723, 'umap_n_components': 7, 'umap_metric': 'chebyshev', 'Spectral_n_cluster': 49, 'Spectral_eigen_solver': 'lobpcg', 'Spectral_affinity': 'nearest_neighbors', 'Spectral_assign_labels': 'cluster_qr', 'keybert_nr_repr_docs': 10, 'keybert_top_n_words': 5}. Best is trial 12 with value: -0.6658404814708636.\n"
     ]
    },
    {
     "data": {
      "application/vnd.jupyter.widget-view+json": {
       "model_id": "ee827fc6c3d343ccb74b2232f4f63773",
       "version_major": 2,
       "version_minor": 0
      },
      "text/plain": [
       "Batches:   0%|          | 0/256 [00:00<?, ?it/s]"
      ]
     },
     "metadata": {},
     "output_type": "display_data"
    },
    {
     "name": "stderr",
     "output_type": "stream",
     "text": [
      "[I 2024-11-30 22:45:07,069] Trial 18 finished with value: -0.6169741047968038 and parameters: {'umap_n_neighbors': 19, 'umap_min_dist': 0.16451786167698718, 'umap_n_components': 10, 'umap_metric': 'chebyshev', 'Spectral_n_cluster': 13, 'Spectral_eigen_solver': 'arpack', 'Spectral_affinity': 'nearest_neighbors', 'Spectral_assign_labels': 'discretize', 'keybert_nr_repr_docs': 7, 'keybert_top_n_words': 8}. Best is trial 12 with value: -0.6658404814708636.\n"
     ]
    },
    {
     "data": {
      "application/vnd.jupyter.widget-view+json": {
       "model_id": "9c78a4dbcb684b57928a3bc562c6d55c",
       "version_major": 2,
       "version_minor": 0
      },
      "text/plain": [
       "Batches:   0%|          | 0/256 [00:00<?, ?it/s]"
      ]
     },
     "metadata": {},
     "output_type": "display_data"
    },
    {
     "name": "stderr",
     "output_type": "stream",
     "text": [
      "[I 2024-11-30 22:46:20,846] Trial 19 finished with value: -0.6025158868166067 and parameters: {'umap_n_neighbors': 26, 'umap_min_dist': 0.830828356103527, 'umap_n_components': 15, 'umap_metric': 'cosine', 'Spectral_n_cluster': 22, 'Spectral_eigen_solver': 'amg', 'Spectral_affinity': 'rbf', 'Spectral_assign_labels': 'kmeans', 'keybert_nr_repr_docs': 9, 'keybert_top_n_words': 6}. Best is trial 12 with value: -0.6658404814708636.\n"
     ]
    },
    {
     "data": {
      "application/vnd.jupyter.widget-view+json": {
       "model_id": "d98772634eb841ca92f7cedb614d6710",
       "version_major": 2,
       "version_minor": 0
      },
      "text/plain": [
       "Batches:   0%|          | 0/256 [00:00<?, ?it/s]"
      ]
     },
     "metadata": {},
     "output_type": "display_data"
    },
    {
     "name": "stderr",
     "output_type": "stream",
     "text": [
      "[I 2024-11-30 22:47:28,119] Trial 20 finished with value: -0.6244608193834469 and parameters: {'umap_n_neighbors': 28, 'umap_min_dist': 0.23312930848253763, 'umap_n_components': 5, 'umap_metric': 'manhattan', 'Spectral_n_cluster': 11, 'Spectral_eigen_solver': 'arpack', 'Spectral_affinity': 'nearest_neighbors', 'Spectral_assign_labels': 'cluster_qr', 'keybert_nr_repr_docs': 5, 'keybert_top_n_words': 5}. Best is trial 12 with value: -0.6658404814708636.\n"
     ]
    },
    {
     "data": {
      "application/vnd.jupyter.widget-view+json": {
       "model_id": "002f4b06be6f4ac5b359385d853a9cb2",
       "version_major": 2,
       "version_minor": 0
      },
      "text/plain": [
       "Batches:   0%|          | 0/256 [00:00<?, ?it/s]"
      ]
     },
     "metadata": {},
     "output_type": "display_data"
    },
    {
     "name": "stderr",
     "output_type": "stream",
     "text": [
      "[I 2024-11-30 22:48:36,678] Trial 21 finished with value: -0.6659508034805662 and parameters: {'umap_n_neighbors': 25, 'umap_min_dist': 0.8674301916433704, 'umap_n_components': 5, 'umap_metric': 'chebyshev', 'Spectral_n_cluster': 5, 'Spectral_eigen_solver': 'amg', 'Spectral_affinity': 'rbf', 'Spectral_assign_labels': 'kmeans', 'keybert_nr_repr_docs': 8, 'keybert_top_n_words': 6}. Best is trial 21 with value: -0.6659508034805662.\n"
     ]
    },
    {
     "data": {
      "application/vnd.jupyter.widget-view+json": {
       "model_id": "4ff754b75e544ad1a30bc63209cf1bc1",
       "version_major": 2,
       "version_minor": 0
      },
      "text/plain": [
       "Batches:   0%|          | 0/256 [00:00<?, ?it/s]"
      ]
     },
     "metadata": {},
     "output_type": "display_data"
    },
    {
     "name": "stderr",
     "output_type": "stream",
     "text": [
      "[I 2024-11-30 22:49:45,069] Trial 22 finished with value: -0.6703350506381993 and parameters: {'umap_n_neighbors': 24, 'umap_min_dist': 0.8950871196579198, 'umap_n_components': 7, 'umap_metric': 'chebyshev', 'Spectral_n_cluster': 5, 'Spectral_eigen_solver': 'amg', 'Spectral_affinity': 'rbf', 'Spectral_assign_labels': 'kmeans', 'keybert_nr_repr_docs': 7, 'keybert_top_n_words': 7}. Best is trial 22 with value: -0.6703350506381993.\n"
     ]
    },
    {
     "data": {
      "application/vnd.jupyter.widget-view+json": {
       "model_id": "5ebd294ae24e439bacf120190c663327",
       "version_major": 2,
       "version_minor": 0
      },
      "text/plain": [
       "Batches:   0%|          | 0/256 [00:00<?, ?it/s]"
      ]
     },
     "metadata": {},
     "output_type": "display_data"
    },
    {
     "name": "stderr",
     "output_type": "stream",
     "text": [
      "[I 2024-11-30 22:50:54,461] Trial 23 finished with value: -0.6702942553479071 and parameters: {'umap_n_neighbors': 24, 'umap_min_dist': 0.8977861641732813, 'umap_n_components': 6, 'umap_metric': 'chebyshev', 'Spectral_n_cluster': 5, 'Spectral_eigen_solver': 'amg', 'Spectral_affinity': 'rbf', 'Spectral_assign_labels': 'kmeans', 'keybert_nr_repr_docs': 7, 'keybert_top_n_words': 7}. Best is trial 22 with value: -0.6703350506381993.\n"
     ]
    },
    {
     "data": {
      "application/vnd.jupyter.widget-view+json": {
       "model_id": "06e4d51360eb47ab8e91b7eaa5a1806e",
       "version_major": 2,
       "version_minor": 0
      },
      "text/plain": [
       "Batches:   0%|          | 0/256 [00:00<?, ?it/s]"
      ]
     },
     "metadata": {},
     "output_type": "display_data"
    },
    {
     "name": "stderr",
     "output_type": "stream",
     "text": [
      "[I 2024-11-30 22:52:02,975] Trial 24 finished with value: -0.6052104096629355 and parameters: {'umap_n_neighbors': 24, 'umap_min_dist': 0.7751387880025136, 'umap_n_components': 5, 'umap_metric': 'chebyshev', 'Spectral_n_cluster': 17, 'Spectral_eigen_solver': 'amg', 'Spectral_affinity': 'rbf', 'Spectral_assign_labels': 'kmeans', 'keybert_nr_repr_docs': 7, 'keybert_top_n_words': 7}. Best is trial 22 with value: -0.6703350506381993.\n"
     ]
    },
    {
     "data": {
      "application/vnd.jupyter.widget-view+json": {
       "model_id": "e4744159de754456b0eb94038e93bc51",
       "version_major": 2,
       "version_minor": 0
      },
      "text/plain": [
       "Batches:   0%|          | 0/256 [00:00<?, ?it/s]"
      ]
     },
     "metadata": {},
     "output_type": "display_data"
    },
    {
     "name": "stderr",
     "output_type": "stream",
     "text": [
      "[I 2024-11-30 22:53:09,416] Trial 25 finished with value: -0.6286913147265148 and parameters: {'umap_n_neighbors': 20, 'umap_min_dist': 0.8897198663935207, 'umap_n_components': 3, 'umap_metric': 'correlation', 'Spectral_n_cluster': 10, 'Spectral_eigen_solver': 'amg', 'Spectral_affinity': 'rbf', 'Spectral_assign_labels': 'kmeans', 'keybert_nr_repr_docs': 4, 'keybert_top_n_words': 8}. Best is trial 22 with value: -0.6703350506381993.\n"
     ]
    },
    {
     "data": {
      "application/vnd.jupyter.widget-view+json": {
       "model_id": "3fc34d744a6e47198e20a93cfc30d655",
       "version_major": 2,
       "version_minor": 0
      },
      "text/plain": [
       "Batches:   0%|          | 0/256 [00:00<?, ?it/s]"
      ]
     },
     "metadata": {},
     "output_type": "display_data"
    },
    {
     "name": "stderr",
     "output_type": "stream",
     "text": [
      "[I 2024-11-30 22:54:19,197] Trial 26 finished with value: -0.6234736591932348 and parameters: {'umap_n_neighbors': 25, 'umap_min_dist': 0.7252462276431068, 'umap_n_components': 7, 'umap_metric': 'chebyshev', 'Spectral_n_cluster': 11, 'Spectral_eigen_solver': 'amg', 'Spectral_affinity': 'rbf', 'Spectral_assign_labels': 'kmeans', 'keybert_nr_repr_docs': 6, 'keybert_top_n_words': 7}. Best is trial 22 with value: -0.6703350506381993.\n"
     ]
    },
    {
     "data": {
      "application/vnd.jupyter.widget-view+json": {
       "model_id": "d365d2514a574d9880022508eb994f2a",
       "version_major": 2,
       "version_minor": 0
      },
      "text/plain": [
       "Batches:   0%|          | 0/256 [00:00<?, ?it/s]"
      ]
     },
     "metadata": {},
     "output_type": "display_data"
    },
    {
     "name": "stderr",
     "output_type": "stream",
     "text": [
      "[I 2024-11-30 22:55:27,203] Trial 27 finished with value: -0.5988651616791905 and parameters: {'umap_n_neighbors': 17, 'umap_min_dist': 0.5741828805819746, 'umap_n_components': 8, 'umap_metric': 'chebyshev', 'Spectral_n_cluster': 20, 'Spectral_eigen_solver': 'amg', 'Spectral_affinity': 'rbf', 'Spectral_assign_labels': 'kmeans', 'keybert_nr_repr_docs': 7, 'keybert_top_n_words': 8}. Best is trial 22 with value: -0.6703350506381993.\n"
     ]
    },
    {
     "data": {
      "application/vnd.jupyter.widget-view+json": {
       "model_id": "48e4169b0bc748feacfb8ca13d7f1b5b",
       "version_major": 2,
       "version_minor": 0
      },
      "text/plain": [
       "Batches:   0%|          | 0/256 [00:00<?, ?it/s]"
      ]
     },
     "metadata": {},
     "output_type": "display_data"
    },
    {
     "name": "stderr",
     "output_type": "stream",
     "text": [
      "[I 2024-11-30 22:56:31,773] Trial 28 finished with value: -0.6220807385295598 and parameters: {'umap_n_neighbors': 5, 'umap_min_dist': 0.8927184311790303, 'umap_n_components': 4, 'umap_metric': 'chebyshev', 'Spectral_n_cluster': 13, 'Spectral_eigen_solver': 'amg', 'Spectral_affinity': 'rbf', 'Spectral_assign_labels': 'kmeans', 'keybert_nr_repr_docs': 5, 'keybert_top_n_words': 7}. Best is trial 22 with value: -0.6703350506381993.\n"
     ]
    },
    {
     "data": {
      "application/vnd.jupyter.widget-view+json": {
       "model_id": "32e08fd004ad4cd4b2b2647b38c9bb4a",
       "version_major": 2,
       "version_minor": 0
      },
      "text/plain": [
       "Batches:   0%|          | 0/256 [00:00<?, ?it/s]"
      ]
     },
     "metadata": {},
     "output_type": "display_data"
    },
    {
     "name": "stderr",
     "output_type": "stream",
     "text": [
      "[I 2024-11-30 22:57:39,637] Trial 29 finished with value: -0.6793754388336395 and parameters: {'umap_n_neighbors': 23, 'umap_min_dist': 0.9848775762481192, 'umap_n_components': 6, 'umap_metric': 'chebyshev', 'Spectral_n_cluster': 5, 'Spectral_eigen_solver': 'amg', 'Spectral_affinity': 'rbf', 'Spectral_assign_labels': 'kmeans', 'keybert_nr_repr_docs': 7, 'keybert_top_n_words': 10}. Best is trial 29 with value: -0.6793754388336395.\n"
     ]
    },
    {
     "data": {
      "application/vnd.jupyter.widget-view+json": {
       "model_id": "a7faeff6aa2a4215976b4a2d989535fb",
       "version_major": 2,
       "version_minor": 0
      },
      "text/plain": [
       "Batches:   0%|          | 0/256 [00:00<?, ?it/s]"
      ]
     },
     "metadata": {},
     "output_type": "display_data"
    },
    {
     "name": "stderr",
     "output_type": "stream",
     "text": [
      "[I 2024-11-30 22:58:49,361] Trial 30 finished with value: -0.6328990870259543 and parameters: {'umap_n_neighbors': 23, 'umap_min_dist': 0.9815974182959457, 'umap_n_components': 6, 'umap_metric': 'manhattan', 'Spectral_n_cluster': 8, 'Spectral_eigen_solver': 'amg', 'Spectral_affinity': 'rbf', 'Spectral_assign_labels': 'kmeans', 'keybert_nr_repr_docs': 6, 'keybert_top_n_words': 10}. Best is trial 29 with value: -0.6793754388336395.\n"
     ]
    },
    {
     "data": {
      "application/vnd.jupyter.widget-view+json": {
       "model_id": "f48a25cb860f4f70a46edd21416c4694",
       "version_major": 2,
       "version_minor": 0
      },
      "text/plain": [
       "Batches:   0%|          | 0/256 [00:00<?, ?it/s]"
      ]
     },
     "metadata": {},
     "output_type": "display_data"
    },
    {
     "name": "stderr",
     "output_type": "stream",
     "text": [
      "[I 2024-11-30 22:59:57,571] Trial 31 finished with value: -0.679987302168405 and parameters: {'umap_n_neighbors': 24, 'umap_min_dist': 0.8778255494423196, 'umap_n_components': 6, 'umap_metric': 'chebyshev', 'Spectral_n_cluster': 5, 'Spectral_eigen_solver': 'amg', 'Spectral_affinity': 'rbf', 'Spectral_assign_labels': 'kmeans', 'keybert_nr_repr_docs': 7, 'keybert_top_n_words': 8}. Best is trial 31 with value: -0.679987302168405.\n"
     ]
    },
    {
     "data": {
      "application/vnd.jupyter.widget-view+json": {
       "model_id": "429b10d0c4f24e6da3b6a2340e5869ff",
       "version_major": 2,
       "version_minor": 0
      },
      "text/plain": [
       "Batches:   0%|          | 0/256 [00:00<?, ?it/s]"
      ]
     },
     "metadata": {},
     "output_type": "display_data"
    },
    {
     "name": "stderr",
     "output_type": "stream",
     "text": [
      "[I 2024-11-30 23:01:05,523] Trial 32 finished with value: -0.6685578133157736 and parameters: {'umap_n_neighbors': 22, 'umap_min_dist': 0.7890575758230174, 'umap_n_components': 7, 'umap_metric': 'chebyshev', 'Spectral_n_cluster': 5, 'Spectral_eigen_solver': 'amg', 'Spectral_affinity': 'rbf', 'Spectral_assign_labels': 'kmeans', 'keybert_nr_repr_docs': 7, 'keybert_top_n_words': 10}. Best is trial 31 with value: -0.679987302168405.\n"
     ]
    },
    {
     "data": {
      "application/vnd.jupyter.widget-view+json": {
       "model_id": "5fb47d713b1748b7a0dba61b4f58fc19",
       "version_major": 2,
       "version_minor": 0
      },
      "text/plain": [
       "Batches:   0%|          | 0/256 [00:00<?, ?it/s]"
      ]
     },
     "metadata": {},
     "output_type": "display_data"
    },
    {
     "name": "stderr",
     "output_type": "stream",
     "text": [
      "[I 2024-11-30 23:02:13,993] Trial 33 finished with value: -0.624674031216377 and parameters: {'umap_n_neighbors': 21, 'umap_min_dist': 0.9232801492884514, 'umap_n_components': 6, 'umap_metric': 'euclidean', 'Spectral_n_cluster': 10, 'Spectral_eigen_solver': 'amg', 'Spectral_affinity': 'rbf', 'Spectral_assign_labels': 'kmeans', 'keybert_nr_repr_docs': 7, 'keybert_top_n_words': 8}. Best is trial 31 with value: -0.679987302168405.\n"
     ]
    },
    {
     "data": {
      "application/vnd.jupyter.widget-view+json": {
       "model_id": "e4f16f04de174b51814a1235842ce00f",
       "version_major": 2,
       "version_minor": 0
      },
      "text/plain": [
       "Batches:   0%|          | 0/256 [00:00<?, ?it/s]"
      ]
     },
     "metadata": {},
     "output_type": "display_data"
    },
    {
     "name": "stderr",
     "output_type": "stream",
     "text": [
      "[I 2024-11-30 23:03:23,000] Trial 34 finished with value: -0.6291084174590538 and parameters: {'umap_n_neighbors': 24, 'umap_min_dist': 0.7615743507652213, 'umap_n_components': 8, 'umap_metric': 'chebyshev', 'Spectral_n_cluster': 8, 'Spectral_eigen_solver': 'amg', 'Spectral_affinity': 'rbf', 'Spectral_assign_labels': 'kmeans', 'keybert_nr_repr_docs': 7, 'keybert_top_n_words': 9}. Best is trial 31 with value: -0.679987302168405.\n"
     ]
    },
    {
     "data": {
      "application/vnd.jupyter.widget-view+json": {
       "model_id": "e9bca67d5a5943728972954592aaf8ed",
       "version_major": 2,
       "version_minor": 0
      },
      "text/plain": [
       "Batches:   0%|          | 0/256 [00:00<?, ?it/s]"
      ]
     },
     "metadata": {},
     "output_type": "display_data"
    },
    {
     "name": "stderr",
     "output_type": "stream",
     "text": [
      "[I 2024-11-30 23:04:30,782] Trial 35 finished with value: -0.6089080844357948 and parameters: {'umap_n_neighbors': 18, 'umap_min_dist': 0.8654886050683998, 'umap_n_components': 6, 'umap_metric': 'cosine', 'Spectral_n_cluster': 16, 'Spectral_eigen_solver': 'amg', 'Spectral_affinity': 'rbf', 'Spectral_assign_labels': 'kmeans', 'keybert_nr_repr_docs': 6, 'keybert_top_n_words': 8}. Best is trial 31 with value: -0.679987302168405.\n"
     ]
    },
    {
     "data": {
      "application/vnd.jupyter.widget-view+json": {
       "model_id": "c4386a0f84c54abc8219c3f3eda155c6",
       "version_major": 2,
       "version_minor": 0
      },
      "text/plain": [
       "Batches:   0%|          | 0/256 [00:00<?, ?it/s]"
      ]
     },
     "metadata": {},
     "output_type": "display_data"
    },
    {
     "name": "stderr",
     "output_type": "stream",
     "text": [
      "[I 2024-11-30 23:05:38,598] Trial 36 finished with value: -0.611868686177597 and parameters: {'umap_n_neighbors': 23, 'umap_min_dist': 0.5723407103225504, 'umap_n_components': 4, 'umap_metric': 'chebyshev', 'Spectral_n_cluster': 12, 'Spectral_eigen_solver': 'amg', 'Spectral_affinity': 'rbf', 'Spectral_assign_labels': 'kmeans', 'keybert_nr_repr_docs': 9, 'keybert_top_n_words': 10}. Best is trial 31 with value: -0.679987302168405.\n"
     ]
    },
    {
     "data": {
      "application/vnd.jupyter.widget-view+json": {
       "model_id": "e818a7dc826f4614baf19d041f7a7474",
       "version_major": 2,
       "version_minor": 0
      },
      "text/plain": [
       "Batches:   0%|          | 0/256 [00:00<?, ?it/s]"
      ]
     },
     "metadata": {},
     "output_type": "display_data"
    },
    {
     "name": "stderr",
     "output_type": "stream",
     "text": [
      "[I 2024-11-30 23:06:48,127] Trial 37 finished with value: -0.5875058482531289 and parameters: {'umap_n_neighbors': 15, 'umap_min_dist': 0.9652847087277726, 'umap_n_components': 7, 'umap_metric': 'correlation', 'Spectral_n_cluster': 30, 'Spectral_eigen_solver': 'amg', 'Spectral_affinity': 'rbf', 'Spectral_assign_labels': 'kmeans', 'keybert_nr_repr_docs': 5, 'keybert_top_n_words': 8}. Best is trial 31 with value: -0.679987302168405.\n"
     ]
    },
    {
     "data": {
      "application/vnd.jupyter.widget-view+json": {
       "model_id": "eb7e30c1cf99472f9c01c784d0d850cd",
       "version_major": 2,
       "version_minor": 0
      },
      "text/plain": [
       "Batches:   0%|          | 0/256 [00:00<?, ?it/s]"
      ]
     },
     "metadata": {},
     "output_type": "display_data"
    },
    {
     "name": "stderr",
     "output_type": "stream",
     "text": [
      "[I 2024-11-30 23:07:52,531] Trial 38 finished with value: -0.6493860496357424 and parameters: {'umap_n_neighbors': 12, 'umap_min_dist': 0.9886879553548023, 'umap_n_components': 3, 'umap_metric': 'chebyshev', 'Spectral_n_cluster': 7, 'Spectral_eigen_solver': 'amg', 'Spectral_affinity': 'rbf', 'Spectral_assign_labels': 'kmeans', 'keybert_nr_repr_docs': 4, 'keybert_top_n_words': 9}. Best is trial 31 with value: -0.679987302168405.\n"
     ]
    },
    {
     "data": {
      "application/vnd.jupyter.widget-view+json": {
       "model_id": "02fd0528b9374aacb8037dcfe0086639",
       "version_major": 2,
       "version_minor": 0
      },
      "text/plain": [
       "Batches:   0%|          | 0/256 [00:00<?, ?it/s]"
      ]
     },
     "metadata": {},
     "output_type": "display_data"
    },
    {
     "name": "stderr",
     "output_type": "stream",
     "text": [
      "[I 2024-11-30 23:09:01,335] Trial 39 finished with value: -0.5875204009387622 and parameters: {'umap_n_neighbors': 20, 'umap_min_dist': 0.9090579737129291, 'umap_n_components': 2, 'umap_metric': 'euclidean', 'Spectral_n_cluster': 41, 'Spectral_eigen_solver': 'amg', 'Spectral_affinity': 'rbf', 'Spectral_assign_labels': 'kmeans', 'keybert_nr_repr_docs': 1, 'keybert_top_n_words': 7}. Best is trial 31 with value: -0.679987302168405.\n"
     ]
    },
    {
     "data": {
      "application/vnd.jupyter.widget-view+json": {
       "model_id": "17c54c5db29c4ca0b410872d19fe7414",
       "version_major": 2,
       "version_minor": 0
      },
      "text/plain": [
       "Batches:   0%|          | 0/256 [00:00<?, ?it/s]"
      ]
     },
     "metadata": {},
     "output_type": "display_data"
    },
    {
     "name": "stderr",
     "output_type": "stream",
     "text": [
      "[I 2024-11-30 23:10:12,416] Trial 40 finished with value: -0.589036648905636 and parameters: {'umap_n_neighbors': 25, 'umap_min_dist': 0.7318667889925392, 'umap_n_components': 9, 'umap_metric': 'manhattan', 'Spectral_n_cluster': 35, 'Spectral_eigen_solver': 'amg', 'Spectral_affinity': 'rbf', 'Spectral_assign_labels': 'kmeans', 'keybert_nr_repr_docs': 8, 'keybert_top_n_words': 7}. Best is trial 31 with value: -0.679987302168405.\n"
     ]
    },
    {
     "data": {
      "application/vnd.jupyter.widget-view+json": {
       "model_id": "d4d04771dc894a2b93191a17f684c74d",
       "version_major": 2,
       "version_minor": 0
      },
      "text/plain": [
       "Batches:   0%|          | 0/256 [00:00<?, ?it/s]"
      ]
     },
     "metadata": {},
     "output_type": "display_data"
    },
    {
     "name": "stderr",
     "output_type": "stream",
     "text": [
      "[I 2024-11-30 23:11:22,112] Trial 41 finished with value: -0.664067630430175 and parameters: {'umap_n_neighbors': 22, 'umap_min_dist': 0.81317047334007, 'umap_n_components': 7, 'umap_metric': 'chebyshev', 'Spectral_n_cluster': 5, 'Spectral_eigen_solver': 'amg', 'Spectral_affinity': 'rbf', 'Spectral_assign_labels': 'kmeans', 'keybert_nr_repr_docs': 7, 'keybert_top_n_words': 10}. Best is trial 31 with value: -0.679987302168405.\n"
     ]
    },
    {
     "data": {
      "application/vnd.jupyter.widget-view+json": {
       "model_id": "7e6db046dbaf48d99b852af1c210cccb",
       "version_major": 2,
       "version_minor": 0
      },
      "text/plain": [
       "Batches:   0%|          | 0/256 [00:00<?, ?it/s]"
      ]
     },
     "metadata": {},
     "output_type": "display_data"
    },
    {
     "name": "stderr",
     "output_type": "stream",
     "text": [
      "[I 2024-11-30 23:12:29,746] Trial 42 finished with value: -0.649885447521922 and parameters: {'umap_n_neighbors': 27, 'umap_min_dist': 0.7905096116324385, 'umap_n_components': 8, 'umap_metric': 'chebyshev', 'Spectral_n_cluster': 7, 'Spectral_eigen_solver': 'amg', 'Spectral_affinity': 'rbf', 'Spectral_assign_labels': 'kmeans', 'keybert_nr_repr_docs': 7, 'keybert_top_n_words': 10}. Best is trial 31 with value: -0.679987302168405.\n"
     ]
    },
    {
     "data": {
      "application/vnd.jupyter.widget-view+json": {
       "model_id": "7d43049d65484df8b9abcb064cfda709",
       "version_major": 2,
       "version_minor": 0
      },
      "text/plain": [
       "Batches:   0%|          | 0/256 [00:00<?, ?it/s]"
      ]
     },
     "metadata": {},
     "output_type": "display_data"
    },
    {
     "name": "stderr",
     "output_type": "stream",
     "text": [
      "[I 2024-11-30 23:13:37,744] Trial 43 finished with value: -0.6327823656863885 and parameters: {'umap_n_neighbors': 22, 'umap_min_dist': 0.8516307496062343, 'umap_n_components': 7, 'umap_metric': 'chebyshev', 'Spectral_n_cluster': 7, 'Spectral_eigen_solver': 'amg', 'Spectral_affinity': 'rbf', 'Spectral_assign_labels': 'kmeans', 'keybert_nr_repr_docs': 6, 'keybert_top_n_words': 10}. Best is trial 31 with value: -0.679987302168405.\n"
     ]
    },
    {
     "data": {
      "application/vnd.jupyter.widget-view+json": {
       "model_id": "10441fc5aed948f9a10acdbee1ee76fb",
       "version_major": 2,
       "version_minor": 0
      },
      "text/plain": [
       "Batches:   0%|          | 0/256 [00:00<?, ?it/s]"
      ]
     },
     "metadata": {},
     "output_type": "display_data"
    },
    {
     "name": "stderr",
     "output_type": "stream",
     "text": [
      "[I 2024-11-30 23:14:45,742] Trial 44 finished with value: -0.6684290813175542 and parameters: {'umap_n_neighbors': 24, 'umap_min_dist': 0.9277007764513806, 'umap_n_components': 6, 'umap_metric': 'chebyshev', 'Spectral_n_cluster': 5, 'Spectral_eigen_solver': 'amg', 'Spectral_affinity': 'rbf', 'Spectral_assign_labels': 'kmeans', 'keybert_nr_repr_docs': 7, 'keybert_top_n_words': 9}. Best is trial 31 with value: -0.679987302168405.\n"
     ]
    },
    {
     "data": {
      "application/vnd.jupyter.widget-view+json": {
       "model_id": "4acee0b961c24b7a97f1f693947d8928",
       "version_major": 2,
       "version_minor": 0
      },
      "text/plain": [
       "Batches:   0%|          | 0/256 [00:00<?, ?it/s]"
      ]
     },
     "metadata": {},
     "output_type": "display_data"
    },
    {
     "name": "stderr",
     "output_type": "stream",
     "text": [
      "[I 2024-11-30 23:15:53,671] Trial 45 finished with value: -0.6302919681027015 and parameters: {'umap_n_neighbors': 26, 'umap_min_dist': 0.6909753353565484, 'umap_n_components': 5, 'umap_metric': 'cosine', 'Spectral_n_cluster': 9, 'Spectral_eigen_solver': 'amg', 'Spectral_affinity': 'rbf', 'Spectral_assign_labels': 'kmeans', 'keybert_nr_repr_docs': 6, 'keybert_top_n_words': 10}. Best is trial 31 with value: -0.679987302168405.\n"
     ]
    },
    {
     "data": {
      "application/vnd.jupyter.widget-view+json": {
       "model_id": "a354472277054b939119aebf717501a6",
       "version_major": 2,
       "version_minor": 0
      },
      "text/plain": [
       "Batches:   0%|          | 0/256 [00:00<?, ?it/s]"
      ]
     },
     "metadata": {},
     "output_type": "display_data"
    },
    {
     "name": "stderr",
     "output_type": "stream",
     "text": [
      "[I 2024-11-30 23:17:01,083] Trial 46 finished with value: -0.6335969444250266 and parameters: {'umap_n_neighbors': 21, 'umap_min_dist': 0.8873107023704725, 'umap_n_components': 10, 'umap_metric': 'chebyshev', 'Spectral_n_cluster': 10, 'Spectral_eigen_solver': 'amg', 'Spectral_affinity': 'rbf', 'Spectral_assign_labels': 'kmeans', 'keybert_nr_repr_docs': 9, 'keybert_top_n_words': 9}. Best is trial 31 with value: -0.679987302168405.\n"
     ]
    },
    {
     "data": {
      "application/vnd.jupyter.widget-view+json": {
       "model_id": "6110274bb8b841bca18ffbfd8b4e7ff7",
       "version_major": 2,
       "version_minor": 0
      },
      "text/plain": [
       "Batches:   0%|          | 0/256 [00:00<?, ?it/s]"
      ]
     },
     "metadata": {},
     "output_type": "display_data"
    },
    {
     "name": "stderr",
     "output_type": "stream",
     "text": [
      "[I 2024-11-30 23:18:12,184] Trial 47 finished with value: -0.6380868238158308 and parameters: {'umap_n_neighbors': 28, 'umap_min_dist': 0.94248387849861, 'umap_n_components': 8, 'umap_metric': 'chebyshev', 'Spectral_n_cluster': 7, 'Spectral_eigen_solver': 'amg', 'Spectral_affinity': 'rbf', 'Spectral_assign_labels': 'kmeans', 'keybert_nr_repr_docs': 8, 'keybert_top_n_words': 9}. Best is trial 31 with value: -0.679987302168405.\n"
     ]
    },
    {
     "data": {
      "application/vnd.jupyter.widget-view+json": {
       "model_id": "868583351d404f428e6bc91d27d4f4d7",
       "version_major": 2,
       "version_minor": 0
      },
      "text/plain": [
       "Batches:   0%|          | 0/256 [00:00<?, ?it/s]"
      ]
     },
     "metadata": {},
     "output_type": "display_data"
    },
    {
     "name": "stderr",
     "output_type": "stream",
     "text": [
      "[I 2024-11-30 23:19:20,883] Trial 48 finished with value: -0.5927001905774318 and parameters: {'umap_n_neighbors': 20, 'umap_min_dist': 0.74744997290822, 'umap_n_components': 6, 'umap_metric': 'euclidean', 'Spectral_n_cluster': 15, 'Spectral_eigen_solver': 'amg', 'Spectral_affinity': 'rbf', 'Spectral_assign_labels': 'kmeans', 'keybert_nr_repr_docs': 8, 'keybert_top_n_words': 10}. Best is trial 31 with value: -0.679987302168405.\n"
     ]
    },
    {
     "data": {
      "application/vnd.jupyter.widget-view+json": {
       "model_id": "b4a6ca037ea642ad8355177a46bbc24e",
       "version_major": 2,
       "version_minor": 0
      },
      "text/plain": [
       "Batches:   0%|          | 0/256 [00:00<?, ?it/s]"
      ]
     },
     "metadata": {},
     "output_type": "display_data"
    },
    {
     "name": "stderr",
     "output_type": "stream",
     "text": [
      "[I 2024-11-30 23:20:28,558] Trial 49 finished with value: -0.6793215438692156 and parameters: {'umap_n_neighbors': 23, 'umap_min_dist': 0.8230071122241797, 'umap_n_components': 7, 'umap_metric': 'chebyshev', 'Spectral_n_cluster': 5, 'Spectral_eigen_solver': 'amg', 'Spectral_affinity': 'rbf', 'Spectral_assign_labels': 'discretize', 'keybert_nr_repr_docs': 6, 'keybert_top_n_words': 7}. Best is trial 31 with value: -0.679987302168405.\n"
     ]
    },
    {
     "data": {
      "application/vnd.jupyter.widget-view+json": {
       "model_id": "a6cb58aac0374ba5a049833184c40f67",
       "version_major": 2,
       "version_minor": 0
      },
      "text/plain": [
       "Batches:   0%|          | 0/256 [00:00<?, ?it/s]"
      ]
     },
     "metadata": {},
     "output_type": "display_data"
    },
    {
     "name": "stderr",
     "output_type": "stream",
     "text": [
      "[I 2024-11-30 23:21:34,747] Trial 50 finished with value: -0.5925463369028563 and parameters: {'umap_n_neighbors': 18, 'umap_min_dist': 0.8332331726674852, 'umap_n_components': 4, 'umap_metric': 'correlation', 'Spectral_n_cluster': 27, 'Spectral_eigen_solver': 'lobpcg', 'Spectral_affinity': 'rbf', 'Spectral_assign_labels': 'discretize', 'keybert_nr_repr_docs': 5, 'keybert_top_n_words': 7}. Best is trial 31 with value: -0.679987302168405.\n"
     ]
    },
    {
     "data": {
      "application/vnd.jupyter.widget-view+json": {
       "model_id": "523b1fe474ba4688bb6c82b371a283b6",
       "version_major": 2,
       "version_minor": 0
      },
      "text/plain": [
       "Batches:   0%|          | 0/256 [00:00<?, ?it/s]"
      ]
     },
     "metadata": {},
     "output_type": "display_data"
    },
    {
     "name": "stderr",
     "output_type": "stream",
     "text": [
      "[I 2024-11-30 23:22:43,445] Trial 51 finished with value: -0.6762534922330545 and parameters: {'umap_n_neighbors': 23, 'umap_min_dist': 0.9556253380230563, 'umap_n_components': 7, 'umap_metric': 'chebyshev', 'Spectral_n_cluster': 5, 'Spectral_eigen_solver': 'amg', 'Spectral_affinity': 'rbf', 'Spectral_assign_labels': 'discretize', 'keybert_nr_repr_docs': 6, 'keybert_top_n_words': 7}. Best is trial 31 with value: -0.679987302168405.\n"
     ]
    },
    {
     "data": {
      "application/vnd.jupyter.widget-view+json": {
       "model_id": "5e2551ff6f404717bd2bdf042a625bfc",
       "version_major": 2,
       "version_minor": 0
      },
      "text/plain": [
       "Batches:   0%|          | 0/256 [00:00<?, ?it/s]"
      ]
     },
     "metadata": {},
     "output_type": "display_data"
    },
    {
     "name": "stderr",
     "output_type": "stream",
     "text": [
      "[I 2024-11-30 23:23:51,487] Trial 52 finished with value: -0.64211771123161 and parameters: {'umap_n_neighbors': 23, 'umap_min_dist': 0.9897327283381541, 'umap_n_components': 9, 'umap_metric': 'chebyshev', 'Spectral_n_cluster': 7, 'Spectral_eigen_solver': 'amg', 'Spectral_affinity': 'rbf', 'Spectral_assign_labels': 'discretize', 'keybert_nr_repr_docs': 6, 'keybert_top_n_words': 7}. Best is trial 31 with value: -0.679987302168405.\n"
     ]
    },
    {
     "data": {
      "application/vnd.jupyter.widget-view+json": {
       "model_id": "fe1d0dd1277f415fb0447fb79225ce91",
       "version_major": 2,
       "version_minor": 0
      },
      "text/plain": [
       "Batches:   0%|          | 0/256 [00:00<?, ?it/s]"
      ]
     },
     "metadata": {},
     "output_type": "display_data"
    },
    {
     "name": "stderr",
     "output_type": "stream",
     "text": [
      "[I 2024-11-30 23:25:00,409] Trial 53 finished with value: -0.6380738934711174 and parameters: {'umap_n_neighbors': 25, 'umap_min_dist': 0.9443350286218583, 'umap_n_components': 7, 'umap_metric': 'chebyshev', 'Spectral_n_cluster': 9, 'Spectral_eigen_solver': 'amg', 'Spectral_affinity': 'rbf', 'Spectral_assign_labels': 'discretize', 'keybert_nr_repr_docs': 6, 'keybert_top_n_words': 7}. Best is trial 31 with value: -0.679987302168405.\n"
     ]
    },
    {
     "data": {
      "application/vnd.jupyter.widget-view+json": {
       "model_id": "1172e98ca487412699e74d6b99c228d5",
       "version_major": 2,
       "version_minor": 0
      },
      "text/plain": [
       "Batches:   0%|          | 0/256 [00:00<?, ?it/s]"
      ]
     },
     "metadata": {},
     "output_type": "display_data"
    },
    {
     "name": "stderr",
     "output_type": "stream",
     "text": [
      "[I 2024-11-30 23:26:08,352] Trial 54 finished with value: -0.6558456554664395 and parameters: {'umap_n_neighbors': 26, 'umap_min_dist': 0.8970499075228597, 'umap_n_components': 6, 'umap_metric': 'chebyshev', 'Spectral_n_cluster': 6, 'Spectral_eigen_solver': 'arpack', 'Spectral_affinity': 'rbf', 'Spectral_assign_labels': 'discretize', 'keybert_nr_repr_docs': 5, 'keybert_top_n_words': 7}. Best is trial 31 with value: -0.679987302168405.\n"
     ]
    },
    {
     "data": {
      "application/vnd.jupyter.widget-view+json": {
       "model_id": "5cf13825b5b54f28955a83f7118b564a",
       "version_major": 2,
       "version_minor": 0
      },
      "text/plain": [
       "Batches:   0%|          | 0/256 [00:00<?, ?it/s]"
      ]
     },
     "metadata": {},
     "output_type": "display_data"
    },
    {
     "name": "stderr",
     "output_type": "stream",
     "text": [
      "[I 2024-11-30 23:27:24,117] Trial 55 finished with value: -0.6152502738535971 and parameters: {'umap_n_neighbors': 24, 'umap_min_dist': 0.9600590389582376, 'umap_n_components': 14, 'umap_metric': 'chebyshev', 'Spectral_n_cluster': 12, 'Spectral_eigen_solver': 'amg', 'Spectral_affinity': 'rbf', 'Spectral_assign_labels': 'discretize', 'keybert_nr_repr_docs': 6, 'keybert_top_n_words': 6}. Best is trial 31 with value: -0.679987302168405.\n"
     ]
    },
    {
     "data": {
      "application/vnd.jupyter.widget-view+json": {
       "model_id": "1f8093c0e0994a558422f2f0f7ab1760",
       "version_major": 2,
       "version_minor": 0
      },
      "text/plain": [
       "Batches:   0%|          | 0/256 [00:00<?, ?it/s]"
      ]
     },
     "metadata": {},
     "output_type": "display_data"
    },
    {
     "name": "stderr",
     "output_type": "stream",
     "text": [
      "[I 2024-11-30 23:28:30,283] Trial 56 finished with value: -0.6300930118470223 and parameters: {'umap_n_neighbors': 27, 'umap_min_dist': 0.8596276531782888, 'umap_n_components': 5, 'umap_metric': 'chebyshev', 'Spectral_n_cluster': 9, 'Spectral_eigen_solver': 'lobpcg', 'Spectral_affinity': 'nearest_neighbors', 'Spectral_assign_labels': 'discretize', 'keybert_nr_repr_docs': 7, 'keybert_top_n_words': 8}. Best is trial 31 with value: -0.679987302168405.\n"
     ]
    },
    {
     "data": {
      "application/vnd.jupyter.widget-view+json": {
       "model_id": "afb02d688e7348ecbd6a6bcbc7694492",
       "version_major": 2,
       "version_minor": 0
      },
      "text/plain": [
       "Batches:   0%|          | 0/256 [00:00<?, ?it/s]"
      ]
     },
     "metadata": {},
     "output_type": "display_data"
    },
    {
     "name": "stderr",
     "output_type": "stream",
     "text": [
      "[I 2024-11-30 23:29:39,233] Trial 57 finished with value: -0.6642086180178961 and parameters: {'umap_n_neighbors': 19, 'umap_min_dist': 0.8186704248176925, 'umap_n_components': 8, 'umap_metric': 'manhattan', 'Spectral_n_cluster': 5, 'Spectral_eigen_solver': 'amg', 'Spectral_affinity': 'rbf', 'Spectral_assign_labels': 'discretize', 'keybert_nr_repr_docs': 4, 'keybert_top_n_words': 6}. Best is trial 31 with value: -0.679987302168405.\n"
     ]
    },
    {
     "data": {
      "application/vnd.jupyter.widget-view+json": {
       "model_id": "faed2275ad214900912b29f417fdbaa3",
       "version_major": 2,
       "version_minor": 0
      },
      "text/plain": [
       "Batches:   0%|          | 0/256 [00:00<?, ?it/s]"
      ]
     },
     "metadata": {},
     "output_type": "display_data"
    },
    {
     "name": "stderr",
     "output_type": "stream",
     "text": [
      "[I 2024-11-30 23:30:50,969] Trial 58 finished with value: -0.5946518983032478 and parameters: {'umap_n_neighbors': 29, 'umap_min_dist': 0.6403937240943918, 'umap_n_components': 10, 'umap_metric': 'cosine', 'Spectral_n_cluster': 14, 'Spectral_eigen_solver': 'arpack', 'Spectral_affinity': 'rbf', 'Spectral_assign_labels': 'discretize', 'keybert_nr_repr_docs': 8, 'keybert_top_n_words': 7}. Best is trial 31 with value: -0.679987302168405.\n"
     ]
    },
    {
     "data": {
      "application/vnd.jupyter.widget-view+json": {
       "model_id": "43aa4b0863fb432fb46600073f5f2455",
       "version_major": 2,
       "version_minor": 0
      },
      "text/plain": [
       "Batches:   0%|          | 0/256 [00:00<?, ?it/s]"
      ]
     },
     "metadata": {},
     "output_type": "display_data"
    },
    {
     "name": "stderr",
     "output_type": "stream",
     "text": [
      "[I 2024-11-30 23:32:07,726] Trial 59 finished with value: -0.5775224630638653 and parameters: {'umap_n_neighbors': 21, 'umap_min_dist': 0.9222635316068086, 'umap_n_components': 7, 'umap_metric': 'chebyshev', 'Spectral_n_cluster': 49, 'Spectral_eigen_solver': 'amg', 'Spectral_affinity': 'rbf', 'Spectral_assign_labels': 'discretize', 'keybert_nr_repr_docs': 7, 'keybert_top_n_words': 7}. Best is trial 31 with value: -0.679987302168405.\n"
     ]
    },
    {
     "data": {
      "application/vnd.jupyter.widget-view+json": {
       "model_id": "def2c9fd44654c5f87f1edfee987d3c0",
       "version_major": 2,
       "version_minor": 0
      },
      "text/plain": [
       "Batches:   0%|          | 0/256 [00:00<?, ?it/s]"
      ]
     },
     "metadata": {},
     "output_type": "display_data"
    },
    {
     "name": "stderr",
     "output_type": "stream",
     "text": [
      "[I 2024-11-30 23:33:13,473] Trial 60 finished with value: -0.6255817896098217 and parameters: {'umap_n_neighbors': 23, 'umap_min_dist': 0.8756439369148031, 'umap_n_components': 5, 'umap_metric': 'chebyshev', 'Spectral_n_cluster': 11, 'Spectral_eigen_solver': 'amg', 'Spectral_affinity': 'nearest_neighbors', 'Spectral_assign_labels': 'discretize', 'keybert_nr_repr_docs': 7, 'keybert_top_n_words': 8}. Best is trial 31 with value: -0.679987302168405.\n"
     ]
    },
    {
     "data": {
      "application/vnd.jupyter.widget-view+json": {
       "model_id": "7b54f55365ce4bdaa976c6be7d13f1c3",
       "version_major": 2,
       "version_minor": 0
      },
      "text/plain": [
       "Batches:   0%|          | 0/256 [00:00<?, ?it/s]"
      ]
     },
     "metadata": {},
     "output_type": "display_data"
    },
    {
     "name": "stderr",
     "output_type": "stream",
     "text": [
      "[I 2024-11-30 23:34:22,918] Trial 61 finished with value: -0.6379931071589625 and parameters: {'umap_n_neighbors': 22, 'umap_min_dist': 0.8417431755537403, 'umap_n_components': 7, 'umap_metric': 'chebyshev', 'Spectral_n_cluster': 6, 'Spectral_eigen_solver': 'amg', 'Spectral_affinity': 'rbf', 'Spectral_assign_labels': 'kmeans', 'keybert_nr_repr_docs': 6, 'keybert_top_n_words': 7}. Best is trial 31 with value: -0.679987302168405.\n"
     ]
    },
    {
     "data": {
      "application/vnd.jupyter.widget-view+json": {
       "model_id": "c1c23169126e4071892acc1639ea2b50",
       "version_major": 2,
       "version_minor": 0
      },
      "text/plain": [
       "Batches:   0%|          | 0/256 [00:00<?, ?it/s]"
      ]
     },
     "metadata": {},
     "output_type": "display_data"
    },
    {
     "name": "stderr",
     "output_type": "stream",
     "text": [
      "[I 2024-11-30 23:35:33,810] Trial 62 finished with value: -0.6744925409944919 and parameters: {'umap_n_neighbors': 25, 'umap_min_dist': 0.7817601733240958, 'umap_n_components': 6, 'umap_metric': 'chebyshev', 'Spectral_n_cluster': 5, 'Spectral_eigen_solver': 'amg', 'Spectral_affinity': 'rbf', 'Spectral_assign_labels': 'cluster_qr', 'keybert_nr_repr_docs': 7, 'keybert_top_n_words': 6}. Best is trial 31 with value: -0.679987302168405.\n"
     ]
    },
    {
     "data": {
      "application/vnd.jupyter.widget-view+json": {
       "model_id": "c96f8b700fe347648bd827405d68e861",
       "version_major": 2,
       "version_minor": 0
      },
      "text/plain": [
       "Batches:   0%|          | 0/256 [00:00<?, ?it/s]"
      ]
     },
     "metadata": {},
     "output_type": "display_data"
    },
    {
     "name": "stderr",
     "output_type": "stream",
     "text": [
      "[I 2024-11-30 23:36:45,311] Trial 63 finished with value: -0.6319264205891734 and parameters: {'umap_n_neighbors': 28, 'umap_min_dist': 0.9537733452276773, 'umap_n_components': 6, 'umap_metric': 'chebyshev', 'Spectral_n_cluster': 9, 'Spectral_eigen_solver': 'amg', 'Spectral_affinity': 'rbf', 'Spectral_assign_labels': 'cluster_qr', 'keybert_nr_repr_docs': 8, 'keybert_top_n_words': 5}. Best is trial 31 with value: -0.679987302168405.\n"
     ]
    },
    {
     "data": {
      "application/vnd.jupyter.widget-view+json": {
       "model_id": "eba6b2c0b6894d25879d6d0b31dbaaac",
       "version_major": 2,
       "version_minor": 0
      },
      "text/plain": [
       "Batches:   0%|          | 0/256 [00:00<?, ?it/s]"
      ]
     },
     "metadata": {},
     "output_type": "display_data"
    },
    {
     "name": "stderr",
     "output_type": "stream",
     "text": [
      "[I 2024-11-30 23:37:56,547] Trial 64 finished with value: -0.6309657707908097 and parameters: {'umap_n_neighbors': 26, 'umap_min_dist': 0.9016992833987671, 'umap_n_components': 6, 'umap_metric': 'chebyshev', 'Spectral_n_cluster': 8, 'Spectral_eigen_solver': 'amg', 'Spectral_affinity': 'rbf', 'Spectral_assign_labels': 'cluster_qr', 'keybert_nr_repr_docs': 7, 'keybert_top_n_words': 6}. Best is trial 31 with value: -0.679987302168405.\n"
     ]
    },
    {
     "data": {
      "application/vnd.jupyter.widget-view+json": {
       "model_id": "41bea40779144d80b06053626ba6069f",
       "version_major": 2,
       "version_minor": 0
      },
      "text/plain": [
       "Batches:   0%|          | 0/256 [00:00<?, ?it/s]"
      ]
     },
     "metadata": {},
     "output_type": "display_data"
    },
    {
     "name": "stderr",
     "output_type": "stream",
     "text": [
      "[I 2024-11-30 23:39:07,729] Trial 65 finished with value: -0.6529973399559023 and parameters: {'umap_n_neighbors': 24, 'umap_min_dist': 0.6998066416442337, 'umap_n_components': 5, 'umap_metric': 'chebyshev', 'Spectral_n_cluster': 6, 'Spectral_eigen_solver': 'amg', 'Spectral_affinity': 'rbf', 'Spectral_assign_labels': 'cluster_qr', 'keybert_nr_repr_docs': 6, 'keybert_top_n_words': 6}. Best is trial 31 with value: -0.679987302168405.\n"
     ]
    },
    {
     "data": {
      "application/vnd.jupyter.widget-view+json": {
       "model_id": "eba452893ba54271a184653074abfe20",
       "version_major": 2,
       "version_minor": 0
      },
      "text/plain": [
       "Batches:   0%|          | 0/256 [00:00<?, ?it/s]"
      ]
     },
     "metadata": {},
     "output_type": "display_data"
    },
    {
     "name": "stderr",
     "output_type": "stream",
     "text": [
      "[I 2024-11-30 23:40:13,347] Trial 66 finished with value: -0.643730375852286 and parameters: {'umap_n_neighbors': 25, 'umap_min_dist': 0.8056227389587326, 'umap_n_components': 4, 'umap_metric': 'chebyshev', 'Spectral_n_cluster': 5, 'Spectral_eigen_solver': 'lobpcg', 'Spectral_affinity': 'rbf', 'Spectral_assign_labels': 'cluster_qr', 'keybert_nr_repr_docs': 2, 'keybert_top_n_words': 8}. Best is trial 31 with value: -0.679987302168405.\n"
     ]
    },
    {
     "data": {
      "application/vnd.jupyter.widget-view+json": {
       "model_id": "ea60c1cabc9f43059c3c605542ff8e77",
       "version_major": 2,
       "version_minor": 0
      },
      "text/plain": [
       "Batches:   0%|          | 0/256 [00:00<?, ?it/s]"
      ]
     },
     "metadata": {},
     "output_type": "display_data"
    },
    {
     "name": "stderr",
     "output_type": "stream",
     "text": [
      "[I 2024-11-30 23:41:24,912] Trial 67 finished with value: -0.6136569916580896 and parameters: {'umap_n_neighbors': 23, 'umap_min_dist': 0.916663797543825, 'umap_n_components': 8, 'umap_metric': 'correlation', 'Spectral_n_cluster': 11, 'Spectral_eigen_solver': 'amg', 'Spectral_affinity': 'rbf', 'Spectral_assign_labels': 'cluster_qr', 'keybert_nr_repr_docs': 7, 'keybert_top_n_words': 5}. Best is trial 31 with value: -0.679987302168405.\n"
     ]
    },
    {
     "data": {
      "application/vnd.jupyter.widget-view+json": {
       "model_id": "02399f53a5b549e39a25a7c733bd684b",
       "version_major": 2,
       "version_minor": 0
      },
      "text/plain": [
       "Batches:   0%|          | 0/256 [00:00<?, ?it/s]"
      ]
     },
     "metadata": {},
     "output_type": "display_data"
    },
    {
     "name": "stderr",
     "output_type": "stream",
     "text": [
      "[I 2024-11-30 23:42:34,826] Trial 68 finished with value: -0.6306534475698737 and parameters: {'umap_n_neighbors': 25, 'umap_min_dist': 0.7712841800715695, 'umap_n_components': 6, 'umap_metric': 'euclidean', 'Spectral_n_cluster': 7, 'Spectral_eigen_solver': 'amg', 'Spectral_affinity': 'rbf', 'Spectral_assign_labels': 'cluster_qr', 'keybert_nr_repr_docs': 8, 'keybert_top_n_words': 6}. Best is trial 31 with value: -0.679987302168405.\n"
     ]
    },
    {
     "data": {
      "application/vnd.jupyter.widget-view+json": {
       "model_id": "8e334c27473a4e6cab4a34394234dc75",
       "version_major": 2,
       "version_minor": 0
      },
      "text/plain": [
       "Batches:   0%|          | 0/256 [00:00<?, ?it/s]"
      ]
     },
     "metadata": {},
     "output_type": "display_data"
    },
    {
     "name": "stderr",
     "output_type": "stream",
     "text": [
      "[I 2024-11-30 23:43:51,555] Trial 69 finished with value: -0.6255162624374163 and parameters: {'umap_n_neighbors': 24, 'umap_min_dist': 0.8740329548440092, 'umap_n_components': 7, 'umap_metric': 'chebyshev', 'Spectral_n_cluster': 13, 'Spectral_eigen_solver': 'arpack', 'Spectral_affinity': 'nearest_neighbors', 'Spectral_assign_labels': 'discretize', 'keybert_nr_repr_docs': 6, 'keybert_top_n_words': 7}. Best is trial 31 with value: -0.679987302168405.\n"
     ]
    },
    {
     "data": {
      "application/vnd.jupyter.widget-view+json": {
       "model_id": "c4f98105d8024dfd80314bf3fae045b1",
       "version_major": 2,
       "version_minor": 0
      },
      "text/plain": [
       "Batches:   0%|          | 0/256 [00:00<?, ?it/s]"
      ]
     },
     "metadata": {},
     "output_type": "display_data"
    },
    {
     "name": "stderr",
     "output_type": "stream",
     "text": [
      "[I 2024-11-30 23:45:04,258] Trial 70 finished with value: -0.5873457203009657 and parameters: {'umap_n_neighbors': 27, 'umap_min_dist': 0.3993155027573249, 'umap_n_components': 5, 'umap_metric': 'chebyshev', 'Spectral_n_cluster': 24, 'Spectral_eigen_solver': 'amg', 'Spectral_affinity': 'rbf', 'Spectral_assign_labels': 'cluster_qr', 'keybert_nr_repr_docs': 5, 'keybert_top_n_words': 8}. Best is trial 31 with value: -0.679987302168405.\n"
     ]
    },
    {
     "data": {
      "application/vnd.jupyter.widget-view+json": {
       "model_id": "c44cb5f17cec4d09bd3453d723399525",
       "version_major": 2,
       "version_minor": 0
      },
      "text/plain": [
       "Batches:   0%|          | 0/256 [00:00<?, ?it/s]"
      ]
     },
     "metadata": {},
     "output_type": "display_data"
    },
    {
     "name": "stderr",
     "output_type": "stream",
     "text": [
      "[I 2024-11-30 23:46:17,143] Trial 71 finished with value: -0.6726127130741089 and parameters: {'umap_n_neighbors': 22, 'umap_min_dist': 0.8285346198598951, 'umap_n_components': 7, 'umap_metric': 'chebyshev', 'Spectral_n_cluster': 5, 'Spectral_eigen_solver': 'amg', 'Spectral_affinity': 'rbf', 'Spectral_assign_labels': 'kmeans', 'keybert_nr_repr_docs': 7, 'keybert_top_n_words': 7}. Best is trial 31 with value: -0.679987302168405.\n"
     ]
    },
    {
     "data": {
      "application/vnd.jupyter.widget-view+json": {
       "model_id": "c6023f2da3d043178fb6ae6f4d944ced",
       "version_major": 2,
       "version_minor": 0
      },
      "text/plain": [
       "Batches:   0%|          | 0/256 [00:00<?, ?it/s]"
      ]
     },
     "metadata": {},
     "output_type": "display_data"
    },
    {
     "name": "stderr",
     "output_type": "stream",
     "text": [
      "[I 2024-11-30 23:47:29,731] Trial 72 finished with value: -0.6343426014431296 and parameters: {'umap_n_neighbors': 21, 'umap_min_dist': 0.8551662524256137, 'umap_n_components': 7, 'umap_metric': 'chebyshev', 'Spectral_n_cluster': 8, 'Spectral_eigen_solver': 'amg', 'Spectral_affinity': 'rbf', 'Spectral_assign_labels': 'kmeans', 'keybert_nr_repr_docs': 7, 'keybert_top_n_words': 7}. Best is trial 31 with value: -0.679987302168405.\n"
     ]
    },
    {
     "data": {
      "application/vnd.jupyter.widget-view+json": {
       "model_id": "5f1f5e15aaa7499a9830f57ccdcb255b",
       "version_major": 2,
       "version_minor": 0
      },
      "text/plain": [
       "Batches:   0%|          | 0/256 [00:00<?, ?it/s]"
      ]
     },
     "metadata": {},
     "output_type": "display_data"
    },
    {
     "name": "stderr",
     "output_type": "stream",
     "text": [
      "[I 2024-11-30 23:48:41,259] Trial 73 finished with value: -0.6446864610413066 and parameters: {'umap_n_neighbors': 22, 'umap_min_dist': 0.9628479109460524, 'umap_n_components': 8, 'umap_metric': 'chebyshev', 'Spectral_n_cluster': 6, 'Spectral_eigen_solver': 'amg', 'Spectral_affinity': 'rbf', 'Spectral_assign_labels': 'kmeans', 'keybert_nr_repr_docs': 7, 'keybert_top_n_words': 7}. Best is trial 31 with value: -0.679987302168405.\n"
     ]
    },
    {
     "data": {
      "application/vnd.jupyter.widget-view+json": {
       "model_id": "a0f795a3149a4225ac29e2f22ca83594",
       "version_major": 2,
       "version_minor": 0
      },
      "text/plain": [
       "Batches:   0%|          | 0/256 [00:00<?, ?it/s]"
      ]
     },
     "metadata": {},
     "output_type": "display_data"
    },
    {
     "name": "stderr",
     "output_type": "stream",
     "text": [
      "[I 2024-11-30 23:49:52,366] Trial 74 finished with value: -0.6391867055699632 and parameters: {'umap_n_neighbors': 23, 'umap_min_dist': 0.8225263063738839, 'umap_n_components': 6, 'umap_metric': 'chebyshev', 'Spectral_n_cluster': 10, 'Spectral_eigen_solver': 'amg', 'Spectral_affinity': 'rbf', 'Spectral_assign_labels': 'kmeans', 'keybert_nr_repr_docs': 6, 'keybert_top_n_words': 7}. Best is trial 31 with value: -0.679987302168405.\n"
     ]
    },
    {
     "data": {
      "application/vnd.jupyter.widget-view+json": {
       "model_id": "fc5c88b40f4f45cc8feaa81a0fff7819",
       "version_major": 2,
       "version_minor": 0
      },
      "text/plain": [
       "Batches:   0%|          | 0/256 [00:00<?, ?it/s]"
      ]
     },
     "metadata": {},
     "output_type": "display_data"
    },
    {
     "name": "stderr",
     "output_type": "stream",
     "text": [
      "[I 2024-11-30 23:51:02,241] Trial 75 finished with value: -0.6741642820249206 and parameters: {'umap_n_neighbors': 20, 'umap_min_dist': 0.9321844412582553, 'umap_n_components': 6, 'umap_metric': 'chebyshev', 'Spectral_n_cluster': 5, 'Spectral_eigen_solver': 'amg', 'Spectral_affinity': 'rbf', 'Spectral_assign_labels': 'kmeans', 'keybert_nr_repr_docs': 8, 'keybert_top_n_words': 6}. Best is trial 31 with value: -0.679987302168405.\n"
     ]
    },
    {
     "data": {
      "application/vnd.jupyter.widget-view+json": {
       "model_id": "fea0c3ff1122452ab8ecb0e7a6d823ef",
       "version_major": 2,
       "version_minor": 0
      },
      "text/plain": [
       "Batches:   0%|          | 0/256 [00:00<?, ?it/s]"
      ]
     },
     "metadata": {},
     "output_type": "display_data"
    },
    {
     "name": "stderr",
     "output_type": "stream",
     "text": [
      "[I 2024-11-30 23:52:15,620] Trial 76 finished with value: -0.5901975603072089 and parameters: {'umap_n_neighbors': 20, 'umap_min_dist': 0.937249621434389, 'umap_n_components': 9, 'umap_metric': 'manhattan', 'Spectral_n_cluster': 47, 'Spectral_eigen_solver': 'amg', 'Spectral_affinity': 'rbf', 'Spectral_assign_labels': 'kmeans', 'keybert_nr_repr_docs': 8, 'keybert_top_n_words': 6}. Best is trial 31 with value: -0.679987302168405.\n"
     ]
    },
    {
     "data": {
      "application/vnd.jupyter.widget-view+json": {
       "model_id": "f7a8d50ceca64b1f9219602f47c4d3b5",
       "version_major": 2,
       "version_minor": 0
      },
      "text/plain": [
       "Batches:   0%|          | 0/256 [00:00<?, ?it/s]"
      ]
     },
     "metadata": {},
     "output_type": "display_data"
    },
    {
     "name": "stderr",
     "output_type": "stream",
     "text": [
      "[I 2024-11-30 23:53:26,228] Trial 77 finished with value: -0.6249368923439484 and parameters: {'umap_n_neighbors': 17, 'umap_min_dist': 0.7882588530163088, 'umap_n_components': 7, 'umap_metric': 'chebyshev', 'Spectral_n_cluster': 8, 'Spectral_eigen_solver': 'amg', 'Spectral_affinity': 'rbf', 'Spectral_assign_labels': 'discretize', 'keybert_nr_repr_docs': 8, 'keybert_top_n_words': 6}. Best is trial 31 with value: -0.679987302168405.\n"
     ]
    },
    {
     "data": {
      "application/vnd.jupyter.widget-view+json": {
       "model_id": "85fe27809f104376a389b669fc5d1e00",
       "version_major": 2,
       "version_minor": 0
      },
      "text/plain": [
       "Batches:   0%|          | 0/256 [00:00<?, ?it/s]"
      ]
     },
     "metadata": {},
     "output_type": "display_data"
    },
    {
     "name": "stderr",
     "output_type": "stream",
     "text": [
      "[I 2024-11-30 23:54:35,977] Trial 78 finished with value: -0.6505451687457627 and parameters: {'umap_n_neighbors': 19, 'umap_min_dist': 0.4920589751751794, 'umap_n_components': 6, 'umap_metric': 'cosine', 'Spectral_n_cluster': 6, 'Spectral_eigen_solver': 'amg', 'Spectral_affinity': 'rbf', 'Spectral_assign_labels': 'kmeans', 'keybert_nr_repr_docs': 9, 'keybert_top_n_words': 6}. Best is trial 31 with value: -0.679987302168405.\n"
     ]
    },
    {
     "data": {
      "application/vnd.jupyter.widget-view+json": {
       "model_id": "185157b86b744fb7a717bdd106984047",
       "version_major": 2,
       "version_minor": 0
      },
      "text/plain": [
       "Batches:   0%|          | 0/256 [00:00<?, ?it/s]"
      ]
     },
     "metadata": {},
     "output_type": "display_data"
    },
    {
     "name": "stderr",
     "output_type": "stream",
     "text": [
      "[I 2024-11-30 23:55:48,911] Trial 79 finished with value: -0.5785733479256477 and parameters: {'umap_n_neighbors': 22, 'umap_min_dist': 0.9691298830754881, 'umap_n_components': 8, 'umap_metric': 'chebyshev', 'Spectral_n_cluster': 39, 'Spectral_eigen_solver': 'amg', 'Spectral_affinity': 'rbf', 'Spectral_assign_labels': 'kmeans', 'keybert_nr_repr_docs': 7, 'keybert_top_n_words': 5}. Best is trial 31 with value: -0.679987302168405.\n"
     ]
    },
    {
     "data": {
      "application/vnd.jupyter.widget-view+json": {
       "model_id": "1ba5b053e2fe46298b8807e87b87eebc",
       "version_major": 2,
       "version_minor": 0
      },
      "text/plain": [
       "Batches:   0%|          | 0/256 [00:00<?, ?it/s]"
      ]
     },
     "metadata": {},
     "output_type": "display_data"
    },
    {
     "name": "stderr",
     "output_type": "stream",
     "text": [
      "[I 2024-11-30 23:56:55,264] Trial 80 finished with value: -0.6665214577735747 and parameters: {'umap_n_neighbors': 21, 'umap_min_dist': 0.9114411132903848, 'umap_n_components': 5, 'umap_metric': 'chebyshev', 'Spectral_n_cluster': 5, 'Spectral_eigen_solver': 'lobpcg', 'Spectral_affinity': 'rbf', 'Spectral_assign_labels': 'kmeans', 'keybert_nr_repr_docs': 8, 'keybert_top_n_words': 6}. Best is trial 31 with value: -0.679987302168405.\n"
     ]
    },
    {
     "data": {
      "application/vnd.jupyter.widget-view+json": {
       "model_id": "f1c38e0d916645b689b66d7d06520f6c",
       "version_major": 2,
       "version_minor": 0
      },
      "text/plain": [
       "Batches:   0%|          | 0/256 [00:00<?, ?it/s]"
      ]
     },
     "metadata": {},
     "output_type": "display_data"
    },
    {
     "name": "stderr",
     "output_type": "stream",
     "text": [
      "[I 2024-11-30 23:58:05,494] Trial 81 finished with value: -0.6515048400141017 and parameters: {'umap_n_neighbors': 24, 'umap_min_dist': 0.9011267301301633, 'umap_n_components': 7, 'umap_metric': 'chebyshev', 'Spectral_n_cluster': 6, 'Spectral_eigen_solver': 'amg', 'Spectral_affinity': 'rbf', 'Spectral_assign_labels': 'kmeans', 'keybert_nr_repr_docs': 7, 'keybert_top_n_words': 7}. Best is trial 31 with value: -0.679987302168405.\n"
     ]
    },
    {
     "data": {
      "application/vnd.jupyter.widget-view+json": {
       "model_id": "5b6627e2ab42489e8447f9975d50f206",
       "version_major": 2,
       "version_minor": 0
      },
      "text/plain": [
       "Batches:   0%|          | 0/256 [00:00<?, ?it/s]"
      ]
     },
     "metadata": {},
     "output_type": "display_data"
    },
    {
     "name": "stderr",
     "output_type": "stream",
     "text": [
      "[I 2024-11-30 23:59:15,106] Trial 82 finished with value: -0.641809743565542 and parameters: {'umap_n_neighbors': 25, 'umap_min_dist': 0.8778119557578303, 'umap_n_components': 6, 'umap_metric': 'chebyshev', 'Spectral_n_cluster': 7, 'Spectral_eigen_solver': 'amg', 'Spectral_affinity': 'rbf', 'Spectral_assign_labels': 'kmeans', 'keybert_nr_repr_docs': 7, 'keybert_top_n_words': 7}. Best is trial 31 with value: -0.679987302168405.\n"
     ]
    },
    {
     "data": {
      "application/vnd.jupyter.widget-view+json": {
       "model_id": "7f87b4d1f2344f08b6f3ca59b879366a",
       "version_major": 2,
       "version_minor": 0
      },
      "text/plain": [
       "Batches:   0%|          | 0/256 [00:00<?, ?it/s]"
      ]
     },
     "metadata": {},
     "output_type": "display_data"
    },
    {
     "name": "stderr",
     "output_type": "stream",
     "text": [
      "[I 2024-12-01 00:00:23,024] Trial 83 finished with value: -0.669774790210873 and parameters: {'umap_n_neighbors': 23, 'umap_min_dist': 0.8513031156133604, 'umap_n_components': 6, 'umap_metric': 'chebyshev', 'Spectral_n_cluster': 5, 'Spectral_eigen_solver': 'amg', 'Spectral_affinity': 'rbf', 'Spectral_assign_labels': 'kmeans', 'keybert_nr_repr_docs': 6, 'keybert_top_n_words': 7}. Best is trial 31 with value: -0.679987302168405.\n"
     ]
    },
    {
     "data": {
      "application/vnd.jupyter.widget-view+json": {
       "model_id": "e0acf7605b3c4fc7b1096d1357f8560c",
       "version_major": 2,
       "version_minor": 0
      },
      "text/plain": [
       "Batches:   0%|          | 0/256 [00:00<?, ?it/s]"
      ]
     },
     "metadata": {},
     "output_type": "display_data"
    },
    {
     "name": "stderr",
     "output_type": "stream",
     "text": [
      "[I 2024-12-01 00:01:31,321] Trial 84 finished with value: -0.6420300963026759 and parameters: {'umap_n_neighbors': 24, 'umap_min_dist': 0.9327900961526621, 'umap_n_components': 4, 'umap_metric': 'chebyshev', 'Spectral_n_cluster': 8, 'Spectral_eigen_solver': 'amg', 'Spectral_affinity': 'rbf', 'Spectral_assign_labels': 'kmeans', 'keybert_nr_repr_docs': 7, 'keybert_top_n_words': 7}. Best is trial 31 with value: -0.679987302168405.\n"
     ]
    },
    {
     "data": {
      "application/vnd.jupyter.widget-view+json": {
       "model_id": "29a46707a74a4db4ba172d02994a9274",
       "version_major": 2,
       "version_minor": 0
      },
      "text/plain": [
       "Batches:   0%|          | 0/256 [00:00<?, ?it/s]"
      ]
     },
     "metadata": {},
     "output_type": "display_data"
    },
    {
     "name": "stderr",
     "output_type": "stream",
     "text": [
      "[I 2024-12-01 00:02:40,993] Trial 85 finished with value: -0.6275558892392885 and parameters: {'umap_n_neighbors': 23, 'umap_min_dist': 0.7561425823360228, 'umap_n_components': 7, 'umap_metric': 'chebyshev', 'Spectral_n_cluster': 9, 'Spectral_eigen_solver': 'amg', 'Spectral_affinity': 'rbf', 'Spectral_assign_labels': 'kmeans', 'keybert_nr_repr_docs': 6, 'keybert_top_n_words': 6}. Best is trial 31 with value: -0.679987302168405.\n"
     ]
    },
    {
     "data": {
      "application/vnd.jupyter.widget-view+json": {
       "model_id": "fc0a136caec940b5ad80f1fd86da9b0d",
       "version_major": 2,
       "version_minor": 0
      },
      "text/plain": [
       "Batches:   0%|          | 0/256 [00:00<?, ?it/s]"
      ]
     },
     "metadata": {},
     "output_type": "display_data"
    },
    {
     "name": "stderr",
     "output_type": "stream",
     "text": [
      "[I 2024-12-01 00:03:49,243] Trial 86 finished with value: -0.6145167265850098 and parameters: {'umap_n_neighbors': 26, 'umap_min_dist': 0.24587927311924807, 'umap_n_components': 5, 'umap_metric': 'euclidean', 'Spectral_n_cluster': 10, 'Spectral_eigen_solver': 'amg', 'Spectral_affinity': 'rbf', 'Spectral_assign_labels': 'kmeans', 'keybert_nr_repr_docs': 8, 'keybert_top_n_words': 8}. Best is trial 31 with value: -0.679987302168405.\n"
     ]
    },
    {
     "data": {
      "application/vnd.jupyter.widget-view+json": {
       "model_id": "df3ca7e8a66840aabb48a723efd0e4ad",
       "version_major": 2,
       "version_minor": 0
      },
      "text/plain": [
       "Batches:   0%|          | 0/256 [00:00<?, ?it/s]"
      ]
     },
     "metadata": {},
     "output_type": "display_data"
    },
    {
     "name": "stderr",
     "output_type": "stream",
     "text": [
      "[I 2024-12-01 00:04:48,268] Trial 87 finished with value: -0.6697710227956075 and parameters: {'umap_n_neighbors': 5, 'umap_min_dist': 0.9781837494395628, 'umap_n_components': 7, 'umap_metric': 'correlation', 'Spectral_n_cluster': 5, 'Spectral_eigen_solver': 'amg', 'Spectral_affinity': 'nearest_neighbors', 'Spectral_assign_labels': 'discretize', 'keybert_nr_repr_docs': 5, 'keybert_top_n_words': 7}. Best is trial 31 with value: -0.679987302168405.\n"
     ]
    },
    {
     "data": {
      "application/vnd.jupyter.widget-view+json": {
       "model_id": "5c106394dc4641a291309cf778852862",
       "version_major": 2,
       "version_minor": 0
      },
      "text/plain": [
       "Batches:   0%|          | 0/256 [00:00<?, ?it/s]"
      ]
     },
     "metadata": {},
     "output_type": "display_data"
    },
    {
     "name": "stderr",
     "output_type": "stream",
     "text": [
      "[I 2024-12-01 00:06:01,235] Trial 88 finished with value: -0.5901003280781639 and parameters: {'umap_n_neighbors': 22, 'umap_min_dist': 0.5468896577050124, 'umap_n_components': 6, 'umap_metric': 'chebyshev', 'Spectral_n_cluster': 30, 'Spectral_eigen_solver': 'arpack', 'Spectral_affinity': 'rbf', 'Spectral_assign_labels': 'kmeans', 'keybert_nr_repr_docs': 9, 'keybert_top_n_words': 7}. Best is trial 31 with value: -0.679987302168405.\n"
     ]
    },
    {
     "data": {
      "application/vnd.jupyter.widget-view+json": {
       "model_id": "3650e5de079b4305bf177c250b48979e",
       "version_major": 2,
       "version_minor": 0
      },
      "text/plain": [
       "Batches:   0%|          | 0/256 [00:00<?, ?it/s]"
      ]
     },
     "metadata": {},
     "output_type": "display_data"
    },
    {
     "name": "stderr",
     "output_type": "stream",
     "text": [
      "[I 2024-12-01 00:07:08,515] Trial 89 finished with value: -0.6413754957977466 and parameters: {'umap_n_neighbors': 20, 'umap_min_dist': 0.8340378875431628, 'umap_n_components': 8, 'umap_metric': 'chebyshev', 'Spectral_n_cluster': 6, 'Spectral_eigen_solver': 'amg', 'Spectral_affinity': 'rbf', 'Spectral_assign_labels': 'cluster_qr', 'keybert_nr_repr_docs': 7, 'keybert_top_n_words': 6}. Best is trial 31 with value: -0.679987302168405.\n"
     ]
    },
    {
     "data": {
      "application/vnd.jupyter.widget-view+json": {
       "model_id": "801d3f9f4be94abb9342ccb02df29853",
       "version_major": 2,
       "version_minor": 0
      },
      "text/plain": [
       "Batches:   0%|          | 0/256 [00:00<?, ?it/s]"
      ]
     },
     "metadata": {},
     "output_type": "display_data"
    },
    {
     "name": "stderr",
     "output_type": "stream",
     "text": [
      "[I 2024-12-01 00:08:13,604] Trial 90 finished with value: -0.6248266260651408 and parameters: {'umap_n_neighbors': 10, 'umap_min_dist': 0.8837174827787644, 'umap_n_components': 11, 'umap_metric': 'chebyshev', 'Spectral_n_cluster': 8, 'Spectral_eigen_solver': 'amg', 'Spectral_affinity': 'rbf', 'Spectral_assign_labels': 'kmeans', 'keybert_nr_repr_docs': 6, 'keybert_top_n_words': 8}. Best is trial 31 with value: -0.679987302168405.\n"
     ]
    },
    {
     "data": {
      "application/vnd.jupyter.widget-view+json": {
       "model_id": "2707fccd294a4ea29811125a261f3d44",
       "version_major": 2,
       "version_minor": 0
      },
      "text/plain": [
       "Batches:   0%|          | 0/256 [00:00<?, ?it/s]"
      ]
     },
     "metadata": {},
     "output_type": "display_data"
    },
    {
     "name": "stderr",
     "output_type": "stream",
     "text": [
      "[I 2024-12-01 00:09:21,142] Trial 91 finished with value: -0.6625561912246469 and parameters: {'umap_n_neighbors': 23, 'umap_min_dist': 0.8478383247789864, 'umap_n_components': 6, 'umap_metric': 'chebyshev', 'Spectral_n_cluster': 5, 'Spectral_eigen_solver': 'amg', 'Spectral_affinity': 'rbf', 'Spectral_assign_labels': 'kmeans', 'keybert_nr_repr_docs': 6, 'keybert_top_n_words': 7}. Best is trial 31 with value: -0.679987302168405.\n"
     ]
    },
    {
     "data": {
      "application/vnd.jupyter.widget-view+json": {
       "model_id": "b17c6c07d9fe494dbdd28f974b952bc7",
       "version_major": 2,
       "version_minor": 0
      },
      "text/plain": [
       "Batches:   0%|          | 0/256 [00:00<?, ?it/s]"
      ]
     },
     "metadata": {},
     "output_type": "display_data"
    },
    {
     "name": "stderr",
     "output_type": "stream",
     "text": [
      "[I 2024-12-01 00:10:28,773] Trial 92 finished with value: -0.6470039354888606 and parameters: {'umap_n_neighbors': 21, 'umap_min_dist': 0.8102292370956096, 'umap_n_components': 6, 'umap_metric': 'chebyshev', 'Spectral_n_cluster': 7, 'Spectral_eigen_solver': 'amg', 'Spectral_affinity': 'rbf', 'Spectral_assign_labels': 'kmeans', 'keybert_nr_repr_docs': 7, 'keybert_top_n_words': 7}. Best is trial 31 with value: -0.679987302168405.\n"
     ]
    },
    {
     "data": {
      "application/vnd.jupyter.widget-view+json": {
       "model_id": "d67057630fcd4384988525953e966cf7",
       "version_major": 2,
       "version_minor": 0
      },
      "text/plain": [
       "Batches:   0%|          | 0/256 [00:00<?, ?it/s]"
      ]
     },
     "metadata": {},
     "output_type": "display_data"
    },
    {
     "name": "stderr",
     "output_type": "stream",
     "text": [
      "[I 2024-12-01 00:11:36,001] Trial 93 finished with value: -0.6323687390147305 and parameters: {'umap_n_neighbors': 25, 'umap_min_dist': 0.11029306578204712, 'umap_n_components': 5, 'umap_metric': 'chebyshev', 'Spectral_n_cluster': 5, 'Spectral_eigen_solver': 'amg', 'Spectral_affinity': 'rbf', 'Spectral_assign_labels': 'kmeans', 'keybert_nr_repr_docs': 5, 'keybert_top_n_words': 7}. Best is trial 31 with value: -0.679987302168405.\n"
     ]
    },
    {
     "data": {
      "application/vnd.jupyter.widget-view+json": {
       "model_id": "87932924efef4610a3ce9a92c36db631",
       "version_major": 2,
       "version_minor": 0
      },
      "text/plain": [
       "Batches:   0%|          | 0/256 [00:00<?, ?it/s]"
      ]
     },
     "metadata": {},
     "output_type": "display_data"
    },
    {
     "name": "stderr",
     "output_type": "stream",
     "text": [
      "[I 2024-12-01 00:12:45,234] Trial 94 finished with value: -0.6400854436667012 and parameters: {'umap_n_neighbors': 24, 'umap_min_dist': 0.9560657148280489, 'umap_n_components': 7, 'umap_metric': 'chebyshev', 'Spectral_n_cluster': 7, 'Spectral_eigen_solver': 'amg', 'Spectral_affinity': 'rbf', 'Spectral_assign_labels': 'kmeans', 'keybert_nr_repr_docs': 6, 'keybert_top_n_words': 7}. Best is trial 31 with value: -0.679987302168405.\n"
     ]
    },
    {
     "data": {
      "application/vnd.jupyter.widget-view+json": {
       "model_id": "164b371567dd4d75b4086a99c0630f95",
       "version_major": 2,
       "version_minor": 0
      },
      "text/plain": [
       "Batches:   0%|          | 0/256 [00:00<?, ?it/s]"
      ]
     },
     "metadata": {},
     "output_type": "display_data"
    },
    {
     "name": "stderr",
     "output_type": "stream",
     "text": [
      "[I 2024-12-01 00:13:55,291] Trial 95 finished with value: -0.6589142916349722 and parameters: {'umap_n_neighbors': 22, 'umap_min_dist': 0.7243659674623949, 'umap_n_components': 6, 'umap_metric': 'manhattan', 'Spectral_n_cluster': 6, 'Spectral_eigen_solver': 'amg', 'Spectral_affinity': 'rbf', 'Spectral_assign_labels': 'kmeans', 'keybert_nr_repr_docs': 6, 'keybert_top_n_words': 7}. Best is trial 31 with value: -0.679987302168405.\n"
     ]
    },
    {
     "data": {
      "application/vnd.jupyter.widget-view+json": {
       "model_id": "b5ff3b64595b4dad915a9018b2d219d3",
       "version_major": 2,
       "version_minor": 0
      },
      "text/plain": [
       "Batches:   0%|          | 0/256 [00:00<?, ?it/s]"
      ]
     },
     "metadata": {},
     "output_type": "display_data"
    },
    {
     "name": "stderr",
     "output_type": "stream",
     "text": [
      "[I 2024-12-01 00:15:04,523] Trial 96 finished with value: -0.642932954453221 and parameters: {'umap_n_neighbors': 23, 'umap_min_dist': 0.8631689043129133, 'umap_n_components': 6, 'umap_metric': 'chebyshev', 'Spectral_n_cluster': 9, 'Spectral_eigen_solver': 'amg', 'Spectral_affinity': 'rbf', 'Spectral_assign_labels': 'discretize', 'keybert_nr_repr_docs': 7, 'keybert_top_n_words': 7}. Best is trial 31 with value: -0.679987302168405.\n"
     ]
    },
    {
     "data": {
      "application/vnd.jupyter.widget-view+json": {
       "model_id": "48ec56583b8c49aa99efc97de0174abd",
       "version_major": 2,
       "version_minor": 0
      },
      "text/plain": [
       "Batches:   0%|          | 0/256 [00:00<?, ?it/s]"
      ]
     },
     "metadata": {},
     "output_type": "display_data"
    },
    {
     "name": "stderr",
     "output_type": "stream",
     "text": [
      "[I 2024-12-01 00:16:16,162] Trial 97 finished with value: -0.6196664619541856 and parameters: {'umap_n_neighbors': 26, 'umap_min_dist': 0.9277260439421564, 'umap_n_components': 7, 'umap_metric': 'chebyshev', 'Spectral_n_cluster': 12, 'Spectral_eigen_solver': 'amg', 'Spectral_affinity': 'rbf', 'Spectral_assign_labels': 'kmeans', 'keybert_nr_repr_docs': 8, 'keybert_top_n_words': 6}. Best is trial 31 with value: -0.679987302168405.\n"
     ]
    },
    {
     "data": {
      "application/vnd.jupyter.widget-view+json": {
       "model_id": "82749f0da1b944a9a132ba284577b69b",
       "version_major": 2,
       "version_minor": 0
      },
      "text/plain": [
       "Batches:   0%|          | 0/256 [00:00<?, ?it/s]"
      ]
     },
     "metadata": {},
     "output_type": "display_data"
    },
    {
     "name": "stderr",
     "output_type": "stream",
     "text": [
      "[I 2024-12-01 00:17:26,094] Trial 98 finished with value: -0.6808386115562481 and parameters: {'umap_n_neighbors': 25, 'umap_min_dist': 0.7901748981532042, 'umap_n_components': 5, 'umap_metric': 'cosine', 'Spectral_n_cluster': 5, 'Spectral_eigen_solver': 'amg', 'Spectral_affinity': 'rbf', 'Spectral_assign_labels': 'kmeans', 'keybert_nr_repr_docs': 6, 'keybert_top_n_words': 8}. Best is trial 98 with value: -0.6808386115562481.\n"
     ]
    },
    {
     "data": {
      "application/vnd.jupyter.widget-view+json": {
       "model_id": "7e9f0fba1607426c981eb56797015f34",
       "version_major": 2,
       "version_minor": 0
      },
      "text/plain": [
       "Batches:   0%|          | 0/256 [00:00<?, ?it/s]"
      ]
     },
     "metadata": {},
     "output_type": "display_data"
    },
    {
     "name": "stderr",
     "output_type": "stream",
     "text": [
      "[I 2024-12-01 00:18:32,280] Trial 99 finished with value: -0.6306351898338008 and parameters: {'umap_n_neighbors': 25, 'umap_min_dist': 0.8949747006820327, 'umap_n_components': 5, 'umap_metric': 'cosine', 'Spectral_n_cluster': 11, 'Spectral_eigen_solver': 'lobpcg', 'Spectral_affinity': 'nearest_neighbors', 'Spectral_assign_labels': 'discretize', 'keybert_nr_repr_docs': 7, 'keybert_top_n_words': 8}. Best is trial 98 with value: -0.6808386115562481.\n"
     ]
    },
    {
     "name": "stdout",
     "output_type": "stream",
     "text": [
      "Best Parameters: {'umap_n_neighbors': 25, 'umap_min_dist': 0.7901748981532042, 'umap_n_components': 5, 'umap_metric': 'cosine', 'Spectral_n_cluster': 5, 'Spectral_eigen_solver': 'amg', 'Spectral_affinity': 'rbf', 'Spectral_assign_labels': 'kmeans', 'keybert_nr_repr_docs': 6, 'keybert_top_n_words': 8}\n",
      "Best Score: -0.6808386115562481\n"
     ]
    }
   ],
   "source": [
    "# Define custom stop words\n",
    "custom_stop_words = [\"xxxx\", \"xx\",\"x\",\"xxxxx\", \"xxxxxxxx\", \"xxxxxxxxxxxx\"]\n",
    "vectorizer_model = CountVectorizer(stop_words=custom_stop_words)\n",
    "\n",
    "# Define objective function for Bayesian optimization\n",
    "def objective(trial):\n",
    "    # Sample hyperparameters from the search space\n",
    "    umap_n_neighbors = trial.suggest_int(\"umap_n_neighbors\", 5,30)\n",
    "    umap_min_dist = trial.suggest_float(\"umap_min_dist\", 0.1, 0.99)\n",
    "    umap_n_components = trial.suggest_int(\"umap_n_components\", 2,15)\n",
    "    umap_metric = trial.suggest_categorical(\n",
    "        \"umap_metric\",\n",
    "        [\"euclidean\", \"manhattan\", \"chebyshev\", \"cosine\", \"correlation\"],\n",
    "    )\n",
    "    Spectral_n_cluster = trial.suggest_int(\"Spectral_n_cluster\", 5, 50)\n",
    "    Spectral_eigen_solver = trial.suggest_categorical(\"Spectral_eigen_solver\", [\"arpack\",\"lobpcg\",\"amg\"])\n",
    "    Spectral_affinity = trial.suggest_categorical(\"Spectral_affinity\", [\"nearest_neighbors\",\"rbf\"])\n",
    "    Spectral_assign_labels = trial.suggest_categorical(\n",
    "        \"Spectral_assign_labels\",\n",
    "        [\"kmeans\", \"discretize\", \"cluster_qr\"],\n",
    "    )\n",
    "    keybert_nr_repr_docs = trial.suggest_int(\"keybert_nr_repr_docs\", 1, 10)\n",
    "    keybert_top_n_words = trial.suggest_int(\"keybert_top_n_words\", 5, 10)\n",
    "\n",
    "    # Define models with current hyperparameters\n",
    "    umap_model = UMAP(\n",
    "        n_neighbors=umap_n_neighbors,\n",
    "        min_dist=umap_min_dist,\n",
    "        n_components=umap_n_components,\n",
    "        metric=umap_metric,\n",
    "        random_state=42,\n",
    "    )\n",
    "    Spectral_model = SpectralClustering(n_clusters=Spectral_n_cluster,eigen_solver=Spectral_eigen_solver,affinity=Spectral_affinity,assign_labels=Spectral_assign_labels)\n",
    "    representation_model = KeyBERTInspired(\n",
    "        nr_repr_docs=keybert_nr_repr_docs, top_n_words=keybert_top_n_words\n",
    "    )\n",
    "\n",
    "    # Initialize BERTopic\n",
    "    topic_model = BERTopic(\n",
    "        embedding_model=AutoModel.from_pretrained(\"albert-base-v1\"),\n",
    "        umap_model=umap_model,\n",
    "        hdbscan_model=Spectral_model,\n",
    "        representation_model=representation_model,\n",
    "        vectorizer_model=vectorizer_model,\n",
    "    )\n",
    "\n",
    "    # Fit the model\n",
    "    topics, probs = topic_model.fit_transform(documents)\n",
    "    topic_info = topic_model.get_topic_info()\n",
    "    topic_info_df = pd.DataFrame(topic_info)  # Convert topic_info to DataFrame\n",
    "    \n",
    "    # Restrict models generating only one topic\n",
    "    unique_topics = set(topics)\n",
    "    if (len(unique_topics) <= 1 or (topic_info_df[\"Topic\"] == -1).any()):\n",
    "        return float(\"inf\")  # Invalid configuration\n",
    "\n",
    "    # Calculate evaluation metrics\n",
    "    tokenized_documents = [doc.split() for doc in documents]\n",
    "    dictionary = Dictionary(tokenized_documents)\n",
    "    coherence_score = calculate_and_average_coherence_scores(topic_model, tokenized_documents, dictionary)\n",
    "    sentence_transformer_model = topic_model.embedding_model\n",
    "    topic_embeddings = topic_model.topic_embeddings_\n",
    "    document_embeddings = sentence_transformer_model.embedding_model.encode(documents, show_progress_bar=True)\n",
    "    # Use consistent `documents` for `get_document_info`\n",
    "    document_info = topic_model.get_document_info(documents)\n",
    "    topic_labels = document_info[\"Topic\"].values\n",
    "\n",
    "    diversity_score = calculate_topic_diversity(topic_model)\n",
    "    representativeness_score = calculate_topic_representativeness(topic_embeddings, document_embeddings)\n",
    "    silhouette = calculate_silhouette_score(document_embeddings, topic_labels)\n",
    "\n",
    "    # Combine metrics into a single score\n",
    "    final_score = -np.mean([coherence_score, diversity_score, representativeness_score, silhouette])\n",
    "    return final_score\n",
    "\n",
    "# Perform Bayesian Optimization\n",
    "study = optuna.create_study(direction=\"minimize\")\n",
    "study.optimize(objective, n_trials=100, n_jobs=1)\n",
    "\n",
    "# Best parameters and model\n",
    "best_params = study.best_params\n",
    "print(\"Best Parameters:\", best_params)\n",
    "print(\"Best Score:\", study.best_value)\n",
    "\n",
    "# Save the best model\n",
    "# Reinitialize with the best parameters if needed and save"
   ]
  },
  {
   "cell_type": "code",
   "execution_count": 31,
   "id": "672351f8-c6cc-4630-ac40-5345d02d42be",
   "metadata": {},
   "outputs": [
    {
     "name": "stderr",
     "output_type": "stream",
     "text": [
      "[I 2024-12-01 00:18:32,290] A new study created in memory with name: no-name-c83de418-838a-444f-94e7-95b7f1e49d19\n"
     ]
    },
    {
     "data": {
      "application/vnd.jupyter.widget-view+json": {
       "model_id": "8e73dd306de240138aed93d4e726cb5c",
       "version_major": 2,
       "version_minor": 0
      },
      "text/plain": [
       "Batches:   0%|          | 0/256 [00:00<?, ?it/s]"
      ]
     },
     "metadata": {},
     "output_type": "display_data"
    },
    {
     "name": "stderr",
     "output_type": "stream",
     "text": [
      "[I 2024-12-01 00:19:38,735] Trial 0 finished with value: -0.5841786631168359 and parameters: {'umap_n_neighbors': 13, 'umap_min_dist': 0.21560570242243052, 'umap_n_components': 11, 'umap_metric': 'correlation', 'Spectral_n_cluster': 35, 'Spectral_eigen_solver': 'lobpcg', 'Spectral_affinity': 'nearest_neighbors', 'Spectral_assign_labels': 'cluster_qr', 'keybert_nr_repr_docs': 7, 'keybert_top_n_words': 6}. Best is trial 0 with value: -0.5841786631168359.\n"
     ]
    },
    {
     "data": {
      "application/vnd.jupyter.widget-view+json": {
       "model_id": "4c6356f1fe144363ac8615d681399e81",
       "version_major": 2,
       "version_minor": 0
      },
      "text/plain": [
       "Batches:   0%|          | 0/256 [00:00<?, ?it/s]"
      ]
     },
     "metadata": {},
     "output_type": "display_data"
    },
    {
     "name": "stderr",
     "output_type": "stream",
     "text": [
      "[I 2024-12-01 00:20:50,855] Trial 1 finished with value: -0.5962863361072573 and parameters: {'umap_n_neighbors': 14, 'umap_min_dist': 0.19722059177588921, 'umap_n_components': 6, 'umap_metric': 'euclidean', 'Spectral_n_cluster': 36, 'Spectral_eigen_solver': 'amg', 'Spectral_affinity': 'rbf', 'Spectral_assign_labels': 'kmeans', 'keybert_nr_repr_docs': 5, 'keybert_top_n_words': 5}. Best is trial 1 with value: -0.5962863361072573.\n"
     ]
    },
    {
     "data": {
      "application/vnd.jupyter.widget-view+json": {
       "model_id": "8c5c5ca2eaf7456da5c29192d143a8e5",
       "version_major": 2,
       "version_minor": 0
      },
      "text/plain": [
       "Batches:   0%|          | 0/256 [00:00<?, ?it/s]"
      ]
     },
     "metadata": {},
     "output_type": "display_data"
    },
    {
     "name": "stderr",
     "output_type": "stream",
     "text": [
      "[I 2024-12-01 00:22:07,397] Trial 2 finished with value: -0.5771294754856131 and parameters: {'umap_n_neighbors': 28, 'umap_min_dist': 0.4269352599769686, 'umap_n_components': 4, 'umap_metric': 'manhattan', 'Spectral_n_cluster': 43, 'Spectral_eigen_solver': 'amg', 'Spectral_affinity': 'rbf', 'Spectral_assign_labels': 'discretize', 'keybert_nr_repr_docs': 10, 'keybert_top_n_words': 7}. Best is trial 1 with value: -0.5962863361072573.\n"
     ]
    },
    {
     "data": {
      "application/vnd.jupyter.widget-view+json": {
       "model_id": "6ae9f1e7ac3243a9bcb187cbc8606154",
       "version_major": 2,
       "version_minor": 0
      },
      "text/plain": [
       "Batches:   0%|          | 0/256 [00:00<?, ?it/s]"
      ]
     },
     "metadata": {},
     "output_type": "display_data"
    },
    {
     "name": "stderr",
     "output_type": "stream",
     "text": [
      "[I 2024-12-01 00:23:17,002] Trial 3 finished with value: -0.6027538716888532 and parameters: {'umap_n_neighbors': 22, 'umap_min_dist': 0.15790871272803644, 'umap_n_components': 15, 'umap_metric': 'manhattan', 'Spectral_n_cluster': 24, 'Spectral_eigen_solver': 'arpack', 'Spectral_affinity': 'nearest_neighbors', 'Spectral_assign_labels': 'discretize', 'keybert_nr_repr_docs': 3, 'keybert_top_n_words': 10}. Best is trial 3 with value: -0.6027538716888532.\n"
     ]
    },
    {
     "data": {
      "application/vnd.jupyter.widget-view+json": {
       "model_id": "8c8d5de771d64e018438869787a56760",
       "version_major": 2,
       "version_minor": 0
      },
      "text/plain": [
       "Batches:   0%|          | 0/256 [00:00<?, ?it/s]"
      ]
     },
     "metadata": {},
     "output_type": "display_data"
    },
    {
     "name": "stderr",
     "output_type": "stream",
     "text": [
      "[I 2024-12-01 00:24:25,833] Trial 4 finished with value: -0.5766004591478944 and parameters: {'umap_n_neighbors': 24, 'umap_min_dist': 0.1346230454415288, 'umap_n_components': 5, 'umap_metric': 'chebyshev', 'Spectral_n_cluster': 49, 'Spectral_eigen_solver': 'amg', 'Spectral_affinity': 'nearest_neighbors', 'Spectral_assign_labels': 'kmeans', 'keybert_nr_repr_docs': 3, 'keybert_top_n_words': 10}. Best is trial 3 with value: -0.6027538716888532.\n"
     ]
    },
    {
     "data": {
      "application/vnd.jupyter.widget-view+json": {
       "model_id": "dfdcf0467c254946bf6bd02166451672",
       "version_major": 2,
       "version_minor": 0
      },
      "text/plain": [
       "Batches:   0%|          | 0/256 [00:00<?, ?it/s]"
      ]
     },
     "metadata": {},
     "output_type": "display_data"
    },
    {
     "name": "stderr",
     "output_type": "stream",
     "text": [
      "[I 2024-12-01 00:25:36,502] Trial 5 finished with value: -0.6158807979414667 and parameters: {'umap_n_neighbors': 25, 'umap_min_dist': 0.11699634637857548, 'umap_n_components': 8, 'umap_metric': 'correlation', 'Spectral_n_cluster': 11, 'Spectral_eigen_solver': 'arpack', 'Spectral_affinity': 'rbf', 'Spectral_assign_labels': 'kmeans', 'keybert_nr_repr_docs': 6, 'keybert_top_n_words': 6}. Best is trial 5 with value: -0.6158807979414667.\n"
     ]
    },
    {
     "data": {
      "application/vnd.jupyter.widget-view+json": {
       "model_id": "282cc93534434d009712965facb9dda4",
       "version_major": 2,
       "version_minor": 0
      },
      "text/plain": [
       "Batches:   0%|          | 0/256 [00:00<?, ?it/s]"
      ]
     },
     "metadata": {},
     "output_type": "display_data"
    },
    {
     "name": "stderr",
     "output_type": "stream",
     "text": [
      "[I 2024-12-01 00:26:53,724] Trial 6 finished with value: -0.581881148614919 and parameters: {'umap_n_neighbors': 30, 'umap_min_dist': 0.6187821035223161, 'umap_n_components': 13, 'umap_metric': 'correlation', 'Spectral_n_cluster': 49, 'Spectral_eigen_solver': 'amg', 'Spectral_affinity': 'rbf', 'Spectral_assign_labels': 'cluster_qr', 'keybert_nr_repr_docs': 6, 'keybert_top_n_words': 5}. Best is trial 5 with value: -0.6158807979414667.\n"
     ]
    },
    {
     "data": {
      "application/vnd.jupyter.widget-view+json": {
       "model_id": "c58a11e9125649bc9db0bf52f6fc30d3",
       "version_major": 2,
       "version_minor": 0
      },
      "text/plain": [
       "Batches:   0%|          | 0/256 [00:00<?, ?it/s]"
      ]
     },
     "metadata": {},
     "output_type": "display_data"
    },
    {
     "name": "stderr",
     "output_type": "stream",
     "text": [
      "[I 2024-12-01 00:28:03,631] Trial 7 finished with value: -0.5951933219190015 and parameters: {'umap_n_neighbors': 20, 'umap_min_dist': 0.17730633911208518, 'umap_n_components': 14, 'umap_metric': 'chebyshev', 'Spectral_n_cluster': 35, 'Spectral_eigen_solver': 'lobpcg', 'Spectral_affinity': 'rbf', 'Spectral_assign_labels': 'cluster_qr', 'keybert_nr_repr_docs': 1, 'keybert_top_n_words': 6}. Best is trial 5 with value: -0.6158807979414667.\n"
     ]
    },
    {
     "data": {
      "application/vnd.jupyter.widget-view+json": {
       "model_id": "1e85e6fa2b02417192912edd74e2aae5",
       "version_major": 2,
       "version_minor": 0
      },
      "text/plain": [
       "Batches:   0%|          | 0/256 [00:00<?, ?it/s]"
      ]
     },
     "metadata": {},
     "output_type": "display_data"
    },
    {
     "name": "stderr",
     "output_type": "stream",
     "text": [
      "[I 2024-12-01 00:29:16,033] Trial 8 finished with value: -0.5925832592622919 and parameters: {'umap_n_neighbors': 27, 'umap_min_dist': 0.4642664100732691, 'umap_n_components': 14, 'umap_metric': 'euclidean', 'Spectral_n_cluster': 21, 'Spectral_eigen_solver': 'amg', 'Spectral_affinity': 'rbf', 'Spectral_assign_labels': 'cluster_qr', 'keybert_nr_repr_docs': 3, 'keybert_top_n_words': 9}. Best is trial 5 with value: -0.6158807979414667.\n"
     ]
    },
    {
     "data": {
      "application/vnd.jupyter.widget-view+json": {
       "model_id": "7361f138303f44de86843add71cad10e",
       "version_major": 2,
       "version_minor": 0
      },
      "text/plain": [
       "Batches:   0%|          | 0/256 [00:00<?, ?it/s]"
      ]
     },
     "metadata": {},
     "output_type": "display_data"
    },
    {
     "name": "stderr",
     "output_type": "stream",
     "text": [
      "[I 2024-12-01 00:30:24,078] Trial 9 finished with value: -0.6003927815681291 and parameters: {'umap_n_neighbors': 6, 'umap_min_dist': 0.2701397470095848, 'umap_n_components': 9, 'umap_metric': 'euclidean', 'Spectral_n_cluster': 27, 'Spectral_eigen_solver': 'arpack', 'Spectral_affinity': 'rbf', 'Spectral_assign_labels': 'cluster_qr', 'keybert_nr_repr_docs': 2, 'keybert_top_n_words': 6}. Best is trial 5 with value: -0.6158807979414667.\n"
     ]
    },
    {
     "data": {
      "application/vnd.jupyter.widget-view+json": {
       "model_id": "a2b53b10c65145489bb8e32912c0ab07",
       "version_major": 2,
       "version_minor": 0
      },
      "text/plain": [
       "Batches:   0%|          | 0/256 [00:00<?, ?it/s]"
      ]
     },
     "metadata": {},
     "output_type": "display_data"
    },
    {
     "name": "stderr",
     "output_type": "stream",
     "text": [
      "[I 2024-12-01 00:31:28,826] Trial 10 finished with value: -0.662138131300261 and parameters: {'umap_n_neighbors': 17, 'umap_min_dist': 0.9188485085323554, 'umap_n_components': 2, 'umap_metric': 'cosine', 'Spectral_n_cluster': 6, 'Spectral_eigen_solver': 'arpack', 'Spectral_affinity': 'nearest_neighbors', 'Spectral_assign_labels': 'kmeans', 'keybert_nr_repr_docs': 9, 'keybert_top_n_words': 8}. Best is trial 10 with value: -0.662138131300261.\n"
     ]
    },
    {
     "data": {
      "application/vnd.jupyter.widget-view+json": {
       "model_id": "c632f08726c14bf09c744926feb62306",
       "version_major": 2,
       "version_minor": 0
      },
      "text/plain": [
       "Batches:   0%|          | 0/256 [00:00<?, ?it/s]"
      ]
     },
     "metadata": {},
     "output_type": "display_data"
    },
    {
     "name": "stderr",
     "output_type": "stream",
     "text": [
      "[I 2024-12-01 00:32:34,378] Trial 11 finished with value: -0.6116711538945365 and parameters: {'umap_n_neighbors': 16, 'umap_min_dist': 0.9702886713513643, 'umap_n_components': 2, 'umap_metric': 'cosine', 'Spectral_n_cluster': 5, 'Spectral_eigen_solver': 'arpack', 'Spectral_affinity': 'nearest_neighbors', 'Spectral_assign_labels': 'kmeans', 'keybert_nr_repr_docs': 9, 'keybert_top_n_words': 8}. Best is trial 10 with value: -0.662138131300261.\n"
     ]
    },
    {
     "data": {
      "application/vnd.jupyter.widget-view+json": {
       "model_id": "36db509760ee455da430f4aabb5c5af4",
       "version_major": 2,
       "version_minor": 0
      },
      "text/plain": [
       "Batches:   0%|          | 0/256 [00:00<?, ?it/s]"
      ]
     },
     "metadata": {},
     "output_type": "display_data"
    },
    {
     "name": "stderr",
     "output_type": "stream",
     "text": [
      "[I 2024-12-01 00:33:44,880] Trial 12 finished with value: -0.6731387007495995 and parameters: {'umap_n_neighbors': 11, 'umap_min_dist': 0.8811584767726784, 'umap_n_components': 8, 'umap_metric': 'cosine', 'Spectral_n_cluster': 5, 'Spectral_eigen_solver': 'arpack', 'Spectral_affinity': 'nearest_neighbors', 'Spectral_assign_labels': 'kmeans', 'keybert_nr_repr_docs': 8, 'keybert_top_n_words': 8}. Best is trial 12 with value: -0.6731387007495995.\n"
     ]
    },
    {
     "data": {
      "application/vnd.jupyter.widget-view+json": {
       "model_id": "dea48361a365424b9e5901443839655d",
       "version_major": 2,
       "version_minor": 0
      },
      "text/plain": [
       "Batches:   0%|          | 0/256 [00:00<?, ?it/s]"
      ]
     },
     "metadata": {},
     "output_type": "display_data"
    },
    {
     "name": "stderr",
     "output_type": "stream",
     "text": [
      "[I 2024-12-01 00:34:47,642] Trial 13 finished with value: -0.5977267666216315 and parameters: {'umap_n_neighbors': 9, 'umap_min_dist': 0.9615415610448198, 'umap_n_components': 2, 'umap_metric': 'cosine', 'Spectral_n_cluster': 14, 'Spectral_eigen_solver': 'arpack', 'Spectral_affinity': 'nearest_neighbors', 'Spectral_assign_labels': 'kmeans', 'keybert_nr_repr_docs': 8, 'keybert_top_n_words': 8}. Best is trial 12 with value: -0.6731387007495995.\n"
     ]
    },
    {
     "data": {
      "application/vnd.jupyter.widget-view+json": {
       "model_id": "1a4b30d260d3462690624bae08d2bc74",
       "version_major": 2,
       "version_minor": 0
      },
      "text/plain": [
       "Batches:   0%|          | 0/256 [00:00<?, ?it/s]"
      ]
     },
     "metadata": {},
     "output_type": "display_data"
    },
    {
     "name": "stderr",
     "output_type": "stream",
     "text": [
      "[I 2024-12-01 00:35:57,043] Trial 14 finished with value: -0.6784176691118582 and parameters: {'umap_n_neighbors': 10, 'umap_min_dist': 0.774730542599735, 'umap_n_components': 8, 'umap_metric': 'cosine', 'Spectral_n_cluster': 5, 'Spectral_eigen_solver': 'arpack', 'Spectral_affinity': 'nearest_neighbors', 'Spectral_assign_labels': 'kmeans', 'keybert_nr_repr_docs': 10, 'keybert_top_n_words': 9}. Best is trial 14 with value: -0.6784176691118582.\n"
     ]
    },
    {
     "data": {
      "application/vnd.jupyter.widget-view+json": {
       "model_id": "975e8cd1caab4676811ff567d80ed2af",
       "version_major": 2,
       "version_minor": 0
      },
      "text/plain": [
       "Batches:   0%|          | 0/256 [00:00<?, ?it/s]"
      ]
     },
     "metadata": {},
     "output_type": "display_data"
    },
    {
     "name": "stderr",
     "output_type": "stream",
     "text": [
      "[I 2024-12-01 00:37:05,924] Trial 15 finished with value: -0.6077028375338847 and parameters: {'umap_n_neighbors': 10, 'umap_min_dist': 0.7663850583324722, 'umap_n_components': 8, 'umap_metric': 'cosine', 'Spectral_n_cluster': 16, 'Spectral_eigen_solver': 'arpack', 'Spectral_affinity': 'nearest_neighbors', 'Spectral_assign_labels': 'kmeans', 'keybert_nr_repr_docs': 10, 'keybert_top_n_words': 9}. Best is trial 14 with value: -0.6784176691118582.\n"
     ]
    },
    {
     "data": {
      "application/vnd.jupyter.widget-view+json": {
       "model_id": "2cb5b0f253c241368bc81b9da44a6d56",
       "version_major": 2,
       "version_minor": 0
      },
      "text/plain": [
       "Batches:   0%|          | 0/256 [00:00<?, ?it/s]"
      ]
     },
     "metadata": {},
     "output_type": "display_data"
    },
    {
     "name": "stderr",
     "output_type": "stream",
     "text": [
      "[I 2024-12-01 00:38:12,973] Trial 16 finished with value: -0.6352483700997513 and parameters: {'umap_n_neighbors': 5, 'umap_min_dist': 0.7902497679057287, 'umap_n_components': 10, 'umap_metric': 'cosine', 'Spectral_n_cluster': 11, 'Spectral_eigen_solver': 'arpack', 'Spectral_affinity': 'nearest_neighbors', 'Spectral_assign_labels': 'kmeans', 'keybert_nr_repr_docs': 8, 'keybert_top_n_words': 9}. Best is trial 14 with value: -0.6784176691118582.\n"
     ]
    },
    {
     "data": {
      "application/vnd.jupyter.widget-view+json": {
       "model_id": "5a6b56133f7742c281fa0af6603dee0e",
       "version_major": 2,
       "version_minor": 0
      },
      "text/plain": [
       "Batches:   0%|          | 0/256 [00:00<?, ?it/s]"
      ]
     },
     "metadata": {},
     "output_type": "display_data"
    },
    {
     "name": "stderr",
     "output_type": "stream",
     "text": [
      "[I 2024-12-01 00:39:17,806] Trial 17 finished with value: -0.605398933598547 and parameters: {'umap_n_neighbors': 10, 'umap_min_dist': 0.7791154598378074, 'umap_n_components': 6, 'umap_metric': 'cosine', 'Spectral_n_cluster': 19, 'Spectral_eigen_solver': 'lobpcg', 'Spectral_affinity': 'nearest_neighbors', 'Spectral_assign_labels': 'discretize', 'keybert_nr_repr_docs': 8, 'keybert_top_n_words': 7}. Best is trial 14 with value: -0.6784176691118582.\n"
     ]
    },
    {
     "data": {
      "application/vnd.jupyter.widget-view+json": {
       "model_id": "d74eee1d2e1940798a113e104bc51819",
       "version_major": 2,
       "version_minor": 0
      },
      "text/plain": [
       "Batches:   0%|          | 0/256 [00:00<?, ?it/s]"
      ]
     },
     "metadata": {},
     "output_type": "display_data"
    },
    {
     "name": "stderr",
     "output_type": "stream",
     "text": [
      "[I 2024-12-01 00:40:28,147] Trial 18 finished with value: -0.6462533364095329 and parameters: {'umap_n_neighbors': 13, 'umap_min_dist': 0.640780952864143, 'umap_n_components': 12, 'umap_metric': 'cosine', 'Spectral_n_cluster': 9, 'Spectral_eigen_solver': 'arpack', 'Spectral_affinity': 'nearest_neighbors', 'Spectral_assign_labels': 'kmeans', 'keybert_nr_repr_docs': 10, 'keybert_top_n_words': 9}. Best is trial 14 with value: -0.6784176691118582.\n"
     ]
    },
    {
     "data": {
      "application/vnd.jupyter.widget-view+json": {
       "model_id": "dc1128058b5a42d78e4d511c409f7c57",
       "version_major": 2,
       "version_minor": 0
      },
      "text/plain": [
       "Batches:   0%|          | 0/256 [00:00<?, ?it/s]"
      ]
     },
     "metadata": {},
     "output_type": "display_data"
    },
    {
     "name": "stderr",
     "output_type": "stream",
     "text": [
      "[I 2024-12-01 00:41:37,398] Trial 19 finished with value: -0.6138888053781327 and parameters: {'umap_n_neighbors': 10, 'umap_min_dist': 0.8249374245608484, 'umap_n_components': 7, 'umap_metric': 'cosine', 'Spectral_n_cluster': 14, 'Spectral_eigen_solver': 'arpack', 'Spectral_affinity': 'nearest_neighbors', 'Spectral_assign_labels': 'kmeans', 'keybert_nr_repr_docs': 5, 'keybert_top_n_words': 10}. Best is trial 14 with value: -0.6784176691118582.\n"
     ]
    },
    {
     "data": {
      "application/vnd.jupyter.widget-view+json": {
       "model_id": "ad8c3d599b1249349c20a9e76616bfae",
       "version_major": 2,
       "version_minor": 0
      },
      "text/plain": [
       "Batches:   0%|          | 0/256 [00:00<?, ?it/s]"
      ]
     },
     "metadata": {},
     "output_type": "display_data"
    },
    {
     "name": "stderr",
     "output_type": "stream",
     "text": [
      "[I 2024-12-01 00:42:42,358] Trial 20 finished with value: -0.6392088100063549 and parameters: {'umap_n_neighbors': 8, 'umap_min_dist': 0.6741001832900367, 'umap_n_components': 10, 'umap_metric': 'chebyshev', 'Spectral_n_cluster': 7, 'Spectral_eigen_solver': 'lobpcg', 'Spectral_affinity': 'nearest_neighbors', 'Spectral_assign_labels': 'discretize', 'keybert_nr_repr_docs': 7, 'keybert_top_n_words': 7}. Best is trial 14 with value: -0.6784176691118582.\n"
     ]
    },
    {
     "data": {
      "application/vnd.jupyter.widget-view+json": {
       "model_id": "99977461b05c4639965cd1815d01aafa",
       "version_major": 2,
       "version_minor": 0
      },
      "text/plain": [
       "Batches:   0%|          | 0/256 [00:00<?, ?it/s]"
      ]
     },
     "metadata": {},
     "output_type": "display_data"
    },
    {
     "name": "stderr",
     "output_type": "stream",
     "text": [
      "[I 2024-12-01 00:43:50,954] Trial 21 finished with value: -0.6655040013173125 and parameters: {'umap_n_neighbors': 17, 'umap_min_dist': 0.8991084465694222, 'umap_n_components': 4, 'umap_metric': 'cosine', 'Spectral_n_cluster': 5, 'Spectral_eigen_solver': 'arpack', 'Spectral_affinity': 'nearest_neighbors', 'Spectral_assign_labels': 'kmeans', 'keybert_nr_repr_docs': 9, 'keybert_top_n_words': 8}. Best is trial 14 with value: -0.6784176691118582.\n"
     ]
    },
    {
     "data": {
      "application/vnd.jupyter.widget-view+json": {
       "model_id": "81dd2f814b7c43a88d193981d3655bc9",
       "version_major": 2,
       "version_minor": 0
      },
      "text/plain": [
       "Batches:   0%|          | 0/256 [00:00<?, ?it/s]"
      ]
     },
     "metadata": {},
     "output_type": "display_data"
    },
    {
     "name": "stderr",
     "output_type": "stream",
     "text": [
      "[I 2024-12-01 00:45:00,231] Trial 22 finished with value: -0.6762567155986257 and parameters: {'umap_n_neighbors': 20, 'umap_min_dist': 0.8701575273848399, 'umap_n_components': 4, 'umap_metric': 'cosine', 'Spectral_n_cluster': 5, 'Spectral_eigen_solver': 'arpack', 'Spectral_affinity': 'nearest_neighbors', 'Spectral_assign_labels': 'kmeans', 'keybert_nr_repr_docs': 9, 'keybert_top_n_words': 8}. Best is trial 14 with value: -0.6784176691118582.\n"
     ]
    },
    {
     "data": {
      "application/vnd.jupyter.widget-view+json": {
       "model_id": "e0049a14183040b6aca36ef50a21a910",
       "version_major": 2,
       "version_minor": 0
      },
      "text/plain": [
       "Batches:   0%|          | 0/256 [00:00<?, ?it/s]"
      ]
     },
     "metadata": {},
     "output_type": "display_data"
    },
    {
     "name": "stderr",
     "output_type": "stream",
     "text": [
      "[I 2024-12-01 00:46:14,034] Trial 23 finished with value: -0.6294882526273424 and parameters: {'umap_n_neighbors': 19, 'umap_min_dist': 0.8598825693367569, 'umap_n_components': 7, 'umap_metric': 'cosine', 'Spectral_n_cluster': 11, 'Spectral_eigen_solver': 'arpack', 'Spectral_affinity': 'nearest_neighbors', 'Spectral_assign_labels': 'kmeans', 'keybert_nr_repr_docs': 9, 'keybert_top_n_words': 9}. Best is trial 14 with value: -0.6784176691118582.\n"
     ]
    },
    {
     "data": {
      "application/vnd.jupyter.widget-view+json": {
       "model_id": "cf674189cfa04804b64cb39ba9bde887",
       "version_major": 2,
       "version_minor": 0
      },
      "text/plain": [
       "Batches:   0%|          | 0/256 [00:00<?, ?it/s]"
      ]
     },
     "metadata": {},
     "output_type": "display_data"
    },
    {
     "name": "stderr",
     "output_type": "stream",
     "text": [
      "[I 2024-12-01 00:47:20,308] Trial 24 finished with value: -0.6126393138231315 and parameters: {'umap_n_neighbors': 15, 'umap_min_dist': 0.7090534714307266, 'umap_n_components': 4, 'umap_metric': 'cosine', 'Spectral_n_cluster': 17, 'Spectral_eigen_solver': 'arpack', 'Spectral_affinity': 'nearest_neighbors', 'Spectral_assign_labels': 'kmeans', 'keybert_nr_repr_docs': 7, 'keybert_top_n_words': 8}. Best is trial 14 with value: -0.6784176691118582.\n"
     ]
    },
    {
     "data": {
      "application/vnd.jupyter.widget-view+json": {
       "model_id": "5e7d4ac4b011445780b123daf3fe059e",
       "version_major": 2,
       "version_minor": 0
      },
      "text/plain": [
       "Batches:   0%|          | 0/256 [00:00<?, ?it/s]"
      ]
     },
     "metadata": {},
     "output_type": "display_data"
    },
    {
     "name": "stderr",
     "output_type": "stream",
     "text": [
      "[I 2024-12-01 00:48:31,169] Trial 25 finished with value: -0.6514160523903498 and parameters: {'umap_n_neighbors': 20, 'umap_min_dist': 0.5667032708188631, 'umap_n_components': 9, 'umap_metric': 'manhattan', 'Spectral_n_cluster': 10, 'Spectral_eigen_solver': 'arpack', 'Spectral_affinity': 'nearest_neighbors', 'Spectral_assign_labels': 'kmeans', 'keybert_nr_repr_docs': 10, 'keybert_top_n_words': 7}. Best is trial 14 with value: -0.6784176691118582.\n"
     ]
    },
    {
     "data": {
      "application/vnd.jupyter.widget-view+json": {
       "model_id": "bf6d4b6261c34d6e80f7e16512190835",
       "version_major": 2,
       "version_minor": 0
      },
      "text/plain": [
       "Batches:   0%|          | 0/256 [00:00<?, ?it/s]"
      ]
     },
     "metadata": {},
     "output_type": "display_data"
    },
    {
     "name": "stderr",
     "output_type": "stream",
     "text": [
      "[I 2024-12-01 00:49:39,243] Trial 26 finished with value: -0.6255604487919452 and parameters: {'umap_n_neighbors': 12, 'umap_min_dist': 0.7282858232513028, 'umap_n_components': 6, 'umap_metric': 'cosine', 'Spectral_n_cluster': 14, 'Spectral_eigen_solver': 'arpack', 'Spectral_affinity': 'nearest_neighbors', 'Spectral_assign_labels': 'kmeans', 'keybert_nr_repr_docs': 8, 'keybert_top_n_words': 9}. Best is trial 14 with value: -0.6784176691118582.\n"
     ]
    },
    {
     "data": {
      "application/vnd.jupyter.widget-view+json": {
       "model_id": "2b9b4c4cad0e4b8a89830526cba30b19",
       "version_major": 2,
       "version_minor": 0
      },
      "text/plain": [
       "Batches:   0%|          | 0/256 [00:00<?, ?it/s]"
      ]
     },
     "metadata": {},
     "output_type": "display_data"
    },
    {
     "name": "stderr",
     "output_type": "stream",
     "text": [
      "[I 2024-12-01 00:50:47,727] Trial 27 finished with value: -0.6337608884384213 and parameters: {'umap_n_neighbors': 7, 'umap_min_dist': 0.8578832735654287, 'umap_n_components': 10, 'umap_metric': 'cosine', 'Spectral_n_cluster': 8, 'Spectral_eigen_solver': 'arpack', 'Spectral_affinity': 'nearest_neighbors', 'Spectral_assign_labels': 'kmeans', 'keybert_nr_repr_docs': 9, 'keybert_top_n_words': 8}. Best is trial 14 with value: -0.6784176691118582.\n"
     ]
    },
    {
     "data": {
      "application/vnd.jupyter.widget-view+json": {
       "model_id": "e2168e46c86248878e4c367dbd4cced3",
       "version_major": 2,
       "version_minor": 0
      },
      "text/plain": [
       "Batches:   0%|          | 0/256 [00:00<?, ?it/s]"
      ]
     },
     "metadata": {},
     "output_type": "display_data"
    },
    {
     "name": "stderr",
     "output_type": "stream",
     "text": [
      "[I 2024-12-01 00:51:52,417] Trial 28 finished with value: -0.5881642603299746 and parameters: {'umap_n_neighbors': 12, 'umap_min_dist': 0.9861912138218335, 'umap_n_components': 7, 'umap_metric': 'cosine', 'Spectral_n_cluster': 22, 'Spectral_eigen_solver': 'lobpcg', 'Spectral_affinity': 'nearest_neighbors', 'Spectral_assign_labels': 'kmeans', 'keybert_nr_repr_docs': 10, 'keybert_top_n_words': 10}. Best is trial 14 with value: -0.6784176691118582.\n"
     ]
    },
    {
     "data": {
      "application/vnd.jupyter.widget-view+json": {
       "model_id": "0cdf5615c11441b2a2a81f3fdf78685a",
       "version_major": 2,
       "version_minor": 0
      },
      "text/plain": [
       "Batches:   0%|          | 0/256 [00:00<?, ?it/s]"
      ]
     },
     "metadata": {},
     "output_type": "display_data"
    },
    {
     "name": "stderr",
     "output_type": "stream",
     "text": [
      "[I 2024-12-01 00:53:10,146] Trial 29 finished with value: -0.5911822259640449 and parameters: {'umap_n_neighbors': 22, 'umap_min_dist': 0.9021649779133604, 'umap_n_components': 12, 'umap_metric': 'chebyshev', 'Spectral_n_cluster': 31, 'Spectral_eigen_solver': 'arpack', 'Spectral_affinity': 'nearest_neighbors', 'Spectral_assign_labels': 'discretize', 'keybert_nr_repr_docs': 7, 'keybert_top_n_words': 7}. Best is trial 14 with value: -0.6784176691118582.\n"
     ]
    },
    {
     "data": {
      "application/vnd.jupyter.widget-view+json": {
       "model_id": "e8f10090901f467a8b6a2f66a60f20f6",
       "version_major": 2,
       "version_minor": 0
      },
      "text/plain": [
       "Batches:   0%|          | 0/256 [00:00<?, ?it/s]"
      ]
     },
     "metadata": {},
     "output_type": "display_data"
    },
    {
     "name": "stderr",
     "output_type": "stream",
     "text": [
      "[I 2024-12-01 00:54:12,381] Trial 30 finished with value: -0.6300082433232289 and parameters: {'umap_n_neighbors': 12, 'umap_min_dist': 0.4864387923914005, 'umap_n_components': 3, 'umap_metric': 'correlation', 'Spectral_n_cluster': 8, 'Spectral_eigen_solver': 'lobpcg', 'Spectral_affinity': 'nearest_neighbors', 'Spectral_assign_labels': 'cluster_qr', 'keybert_nr_repr_docs': 8, 'keybert_top_n_words': 9}. Best is trial 14 with value: -0.6784176691118582.\n"
     ]
    },
    {
     "data": {
      "application/vnd.jupyter.widget-view+json": {
       "model_id": "da57c588cd534c92ad720e093df716e2",
       "version_major": 2,
       "version_minor": 0
      },
      "text/plain": [
       "Batches:   0%|          | 0/256 [00:00<?, ?it/s]"
      ]
     },
     "metadata": {},
     "output_type": "display_data"
    },
    {
     "name": "stderr",
     "output_type": "stream",
     "text": [
      "[I 2024-12-01 00:55:18,838] Trial 31 finished with value: -0.6928457735697937 and parameters: {'umap_n_neighbors': 17, 'umap_min_dist': 0.9099610238642805, 'umap_n_components': 4, 'umap_metric': 'cosine', 'Spectral_n_cluster': 5, 'Spectral_eigen_solver': 'arpack', 'Spectral_affinity': 'nearest_neighbors', 'Spectral_assign_labels': 'kmeans', 'keybert_nr_repr_docs': 9, 'keybert_top_n_words': 8}. Best is trial 31 with value: -0.6928457735697937.\n"
     ]
    },
    {
     "data": {
      "application/vnd.jupyter.widget-view+json": {
       "model_id": "ba02ecb00d354be5b1f1e59494a79096",
       "version_major": 2,
       "version_minor": 0
      },
      "text/plain": [
       "Batches:   0%|          | 0/256 [00:00<?, ?it/s]"
      ]
     },
     "metadata": {},
     "output_type": "display_data"
    },
    {
     "name": "stderr",
     "output_type": "stream",
     "text": [
      "[I 2024-12-01 00:56:25,502] Trial 32 finished with value: -0.6698974958234555 and parameters: {'umap_n_neighbors': 14, 'umap_min_dist': 0.8179398449850454, 'umap_n_components': 5, 'umap_metric': 'cosine', 'Spectral_n_cluster': 5, 'Spectral_eigen_solver': 'arpack', 'Spectral_affinity': 'nearest_neighbors', 'Spectral_assign_labels': 'kmeans', 'keybert_nr_repr_docs': 9, 'keybert_top_n_words': 8}. Best is trial 31 with value: -0.6928457735697937.\n"
     ]
    },
    {
     "data": {
      "application/vnd.jupyter.widget-view+json": {
       "model_id": "930baafb9a934bc992765e81ba0ee4b3",
       "version_major": 2,
       "version_minor": 0
      },
      "text/plain": [
       "Batches:   0%|          | 0/256 [00:00<?, ?it/s]"
      ]
     },
     "metadata": {},
     "output_type": "display_data"
    },
    {
     "name": "stderr",
     "output_type": "stream",
     "text": [
      "[I 2024-12-01 00:57:33,147] Trial 33 finished with value: -0.6221545394496275 and parameters: {'umap_n_neighbors': 15, 'umap_min_dist': 0.9200008182856328, 'umap_n_components': 5, 'umap_metric': 'euclidean', 'Spectral_n_cluster': 13, 'Spectral_eigen_solver': 'arpack', 'Spectral_affinity': 'nearest_neighbors', 'Spectral_assign_labels': 'kmeans', 'keybert_nr_repr_docs': 10, 'keybert_top_n_words': 8}. Best is trial 31 with value: -0.6928457735697937.\n"
     ]
    },
    {
     "data": {
      "application/vnd.jupyter.widget-view+json": {
       "model_id": "8a418e2c4fb046a580b7a066f34eb749",
       "version_major": 2,
       "version_minor": 0
      },
      "text/plain": [
       "Batches:   0%|          | 0/256 [00:00<?, ?it/s]"
      ]
     },
     "metadata": {},
     "output_type": "display_data"
    },
    {
     "name": "stderr",
     "output_type": "stream",
     "text": [
      "[I 2024-12-01 00:58:37,575] Trial 34 finished with value: -0.6477312297479128 and parameters: {'umap_n_neighbors': 19, 'umap_min_dist': 0.8564587542226076, 'umap_n_components': 3, 'umap_metric': 'manhattan', 'Spectral_n_cluster': 8, 'Spectral_eigen_solver': 'arpack', 'Spectral_affinity': 'nearest_neighbors', 'Spectral_assign_labels': 'kmeans', 'keybert_nr_repr_docs': 9, 'keybert_top_n_words': 7}. Best is trial 31 with value: -0.6928457735697937.\n"
     ]
    },
    {
     "data": {
      "application/vnd.jupyter.widget-view+json": {
       "model_id": "18d3ae1b6c9844ca85753e4facac10bc",
       "version_major": 2,
       "version_minor": 0
      },
      "text/plain": [
       "Batches:   0%|          | 0/256 [00:00<?, ?it/s]"
      ]
     },
     "metadata": {},
     "output_type": "display_data"
    },
    {
     "name": "stderr",
     "output_type": "stream",
     "text": [
      "[I 2024-12-01 00:59:45,504] Trial 35 finished with value: -0.5779972377780039 and parameters: {'umap_n_neighbors': 23, 'umap_min_dist': 0.7384509196608453, 'umap_n_components': 6, 'umap_metric': 'cosine', 'Spectral_n_cluster': 42, 'Spectral_eigen_solver': 'amg', 'Spectral_affinity': 'nearest_neighbors', 'Spectral_assign_labels': 'kmeans', 'keybert_nr_repr_docs': 6, 'keybert_top_n_words': 8}. Best is trial 31 with value: -0.6928457735697937.\n"
     ]
    },
    {
     "data": {
      "application/vnd.jupyter.widget-view+json": {
       "model_id": "49978b98bfd8496bb70cd3bda9513386",
       "version_major": 2,
       "version_minor": 0
      },
      "text/plain": [
       "Batches:   0%|          | 0/256 [00:00<?, ?it/s]"
      ]
     },
     "metadata": {},
     "output_type": "display_data"
    },
    {
     "name": "stderr",
     "output_type": "stream",
     "text": [
      "[I 2024-12-01 01:00:53,568] Trial 36 finished with value: -0.6110836667468534 and parameters: {'umap_n_neighbors': 18, 'umap_min_dist': 0.9306252382929942, 'umap_n_components': 4, 'umap_metric': 'cosine', 'Spectral_n_cluster': 17, 'Spectral_eigen_solver': 'arpack', 'Spectral_affinity': 'nearest_neighbors', 'Spectral_assign_labels': 'discretize', 'keybert_nr_repr_docs': 4, 'keybert_top_n_words': 9}. Best is trial 31 with value: -0.6928457735697937.\n"
     ]
    },
    {
     "data": {
      "application/vnd.jupyter.widget-view+json": {
       "model_id": "49f433de8c404879a0d6842f11ceff96",
       "version_major": 2,
       "version_minor": 0
      },
      "text/plain": [
       "Batches:   0%|          | 0/256 [00:00<?, ?it/s]"
      ]
     },
     "metadata": {},
     "output_type": "display_data"
    },
    {
     "name": "stderr",
     "output_type": "stream",
     "text": [
      "[I 2024-12-01 01:02:00,018] Trial 37 finished with value: -0.6253639718905839 and parameters: {'umap_n_neighbors': 11, 'umap_min_dist': 0.8225210878931705, 'umap_n_components': 8, 'umap_metric': 'correlation', 'Spectral_n_cluster': 9, 'Spectral_eigen_solver': 'amg', 'Spectral_affinity': 'rbf', 'Spectral_assign_labels': 'kmeans', 'keybert_nr_repr_docs': 8, 'keybert_top_n_words': 10}. Best is trial 31 with value: -0.6928457735697937.\n"
     ]
    },
    {
     "data": {
      "application/vnd.jupyter.widget-view+json": {
       "model_id": "17af73b2e2aa4620849954b9f73fd9a3",
       "version_major": 2,
       "version_minor": 0
      },
      "text/plain": [
       "Batches:   0%|          | 0/256 [00:00<?, ?it/s]"
      ]
     },
     "metadata": {},
     "output_type": "display_data"
    },
    {
     "name": "stderr",
     "output_type": "stream",
     "text": [
      "[I 2024-12-01 01:03:05,080] Trial 38 finished with value: -0.6755546560157468 and parameters: {'umap_n_neighbors': 22, 'umap_min_dist': 0.34991159167080166, 'umap_n_components': 3, 'umap_metric': 'manhattan', 'Spectral_n_cluster': 5, 'Spectral_eigen_solver': 'arpack', 'Spectral_affinity': 'nearest_neighbors', 'Spectral_assign_labels': 'kmeans', 'keybert_nr_repr_docs': 10, 'keybert_top_n_words': 8}. Best is trial 31 with value: -0.6928457735697937.\n"
     ]
    },
    {
     "data": {
      "application/vnd.jupyter.widget-view+json": {
       "model_id": "040116313e404191956c56a0156e22fa",
       "version_major": 2,
       "version_minor": 0
      },
      "text/plain": [
       "Batches:   0%|          | 0/256 [00:00<?, ?it/s]"
      ]
     },
     "metadata": {},
     "output_type": "display_data"
    },
    {
     "name": "stderr",
     "output_type": "stream",
     "text": [
      "[I 2024-12-01 01:04:13,705] Trial 39 finished with value: -0.6050349383072402 and parameters: {'umap_n_neighbors': 25, 'umap_min_dist': 0.32594856186745597, 'umap_n_components': 3, 'umap_metric': 'manhattan', 'Spectral_n_cluster': 12, 'Spectral_eigen_solver': 'arpack', 'Spectral_affinity': 'rbf', 'Spectral_assign_labels': 'cluster_qr', 'keybert_nr_repr_docs': 10, 'keybert_top_n_words': 5}. Best is trial 31 with value: -0.6928457735697937.\n"
     ]
    },
    {
     "data": {
      "application/vnd.jupyter.widget-view+json": {
       "model_id": "939ee90ef9ae420d8afffd32f43052d9",
       "version_major": 2,
       "version_minor": 0
      },
      "text/plain": [
       "Batches:   0%|          | 0/256 [00:00<?, ?it/s]"
      ]
     },
     "metadata": {},
     "output_type": "display_data"
    },
    {
     "name": "stderr",
     "output_type": "stream",
     "text": [
      "[I 2024-12-01 01:05:19,878] Trial 40 finished with value: -0.5968004069930388 and parameters: {'umap_n_neighbors': 21, 'umap_min_dist': 0.21833198143164023, 'umap_n_components': 5, 'umap_metric': 'manhattan', 'Spectral_n_cluster': 26, 'Spectral_eigen_solver': 'amg', 'Spectral_affinity': 'nearest_neighbors', 'Spectral_assign_labels': 'kmeans', 'keybert_nr_repr_docs': 10, 'keybert_top_n_words': 9}. Best is trial 31 with value: -0.6928457735697937.\n"
     ]
    },
    {
     "data": {
      "application/vnd.jupyter.widget-view+json": {
       "model_id": "db1c0b2a6a5f469eb91494a0fcdad267",
       "version_major": 2,
       "version_minor": 0
      },
      "text/plain": [
       "Batches:   0%|          | 0/256 [00:00<?, ?it/s]"
      ]
     },
     "metadata": {},
     "output_type": "display_data"
    },
    {
     "name": "stderr",
     "output_type": "stream",
     "text": [
      "[I 2024-12-01 01:06:24,733] Trial 41 finished with value: -0.6722134315250696 and parameters: {'umap_n_neighbors': 25, 'umap_min_dist': 0.3930948624928773, 'umap_n_components': 3, 'umap_metric': 'manhattan', 'Spectral_n_cluster': 5, 'Spectral_eigen_solver': 'arpack', 'Spectral_affinity': 'nearest_neighbors', 'Spectral_assign_labels': 'kmeans', 'keybert_nr_repr_docs': 9, 'keybert_top_n_words': 8}. Best is trial 31 with value: -0.6928457735697937.\n"
     ]
    },
    {
     "data": {
      "application/vnd.jupyter.widget-view+json": {
       "model_id": "738efefa10794e66b3100c8961aaae3f",
       "version_major": 2,
       "version_minor": 0
      },
      "text/plain": [
       "Batches:   0%|          | 0/256 [00:00<?, ?it/s]"
      ]
     },
     "metadata": {},
     "output_type": "display_data"
    },
    {
     "name": "stderr",
     "output_type": "stream",
     "text": [
      "[I 2024-12-01 01:07:30,520] Trial 42 finished with value: -0.6444008500154221 and parameters: {'umap_n_neighbors': 21, 'umap_min_dist': 0.5654092279852736, 'umap_n_components': 4, 'umap_metric': 'manhattan', 'Spectral_n_cluster': 7, 'Spectral_eigen_solver': 'arpack', 'Spectral_affinity': 'nearest_neighbors', 'Spectral_assign_labels': 'kmeans', 'keybert_nr_repr_docs': 7, 'keybert_top_n_words': 7}. Best is trial 31 with value: -0.6928457735697937.\n"
     ]
    },
    {
     "data": {
      "application/vnd.jupyter.widget-view+json": {
       "model_id": "f3013d9bc6f749bd8d0bc223e667b30b",
       "version_major": 2,
       "version_minor": 0
      },
      "text/plain": [
       "Batches:   0%|          | 0/256 [00:00<?, ?it/s]"
      ]
     },
     "metadata": {},
     "output_type": "display_data"
    },
    {
     "name": "stderr",
     "output_type": "stream",
     "text": [
      "[I 2024-12-01 01:08:37,711] Trial 43 finished with value: -0.6442658666655269 and parameters: {'umap_n_neighbors': 24, 'umap_min_dist': 0.37247303877553867, 'umap_n_components': 5, 'umap_metric': 'euclidean', 'Spectral_n_cluster': 10, 'Spectral_eigen_solver': 'arpack', 'Spectral_affinity': 'nearest_neighbors', 'Spectral_assign_labels': 'kmeans', 'keybert_nr_repr_docs': 10, 'keybert_top_n_words': 8}. Best is trial 31 with value: -0.6928457735697937.\n"
     ]
    },
    {
     "data": {
      "application/vnd.jupyter.widget-view+json": {
       "model_id": "5d909de069984f27a0dceb36cab0abc6",
       "version_major": 2,
       "version_minor": 0
      },
      "text/plain": [
       "Batches:   0%|          | 0/256 [00:00<?, ?it/s]"
      ]
     },
     "metadata": {},
     "output_type": "display_data"
    },
    {
     "name": "stderr",
     "output_type": "stream",
     "text": [
      "[I 2024-12-01 01:09:47,864] Trial 44 finished with value: -0.6411166426531671 and parameters: {'umap_n_neighbors': 28, 'umap_min_dist': 0.886402405423649, 'umap_n_components': 6, 'umap_metric': 'chebyshev', 'Spectral_n_cluster': 7, 'Spectral_eigen_solver': 'arpack', 'Spectral_affinity': 'rbf', 'Spectral_assign_labels': 'kmeans', 'keybert_nr_repr_docs': 9, 'keybert_top_n_words': 8}. Best is trial 31 with value: -0.6928457735697937.\n"
     ]
    },
    {
     "data": {
      "application/vnd.jupyter.widget-view+json": {
       "model_id": "5ea5f0e1696c49f581698c0cac56c908",
       "version_major": 2,
       "version_minor": 0
      },
      "text/plain": [
       "Batches:   0%|          | 0/256 [00:00<?, ?it/s]"
      ]
     },
     "metadata": {},
     "output_type": "display_data"
    },
    {
     "name": "stderr",
     "output_type": "stream",
     "text": [
      "[I 2024-12-01 01:10:51,491] Trial 45 finished with value: -0.5750078565391988 and parameters: {'umap_n_neighbors': 8, 'umap_min_dist': 0.9491392782236203, 'umap_n_components': 2, 'umap_metric': 'correlation', 'Spectral_n_cluster': 31, 'Spectral_eigen_solver': 'arpack', 'Spectral_affinity': 'nearest_neighbors', 'Spectral_assign_labels': 'kmeans', 'keybert_nr_repr_docs': 8, 'keybert_top_n_words': 6}. Best is trial 31 with value: -0.6928457735697937.\n"
     ]
    },
    {
     "data": {
      "application/vnd.jupyter.widget-view+json": {
       "model_id": "d1ac1eaa06c143a980a2d4a5a4aa5c0a",
       "version_major": 2,
       "version_minor": 0
      },
      "text/plain": [
       "Batches:   0%|          | 0/256 [00:00<?, ?it/s]"
      ]
     },
     "metadata": {},
     "output_type": "display_data"
    },
    {
     "name": "stderr",
     "output_type": "stream",
     "text": [
      "[I 2024-12-01 01:12:03,080] Trial 46 finished with value: -0.5837511873142585 and parameters: {'umap_n_neighbors': 16, 'umap_min_dist': 0.5163664540262751, 'umap_n_components': 11, 'umap_metric': 'cosine', 'Spectral_n_cluster': 41, 'Spectral_eigen_solver': 'arpack', 'Spectral_affinity': 'nearest_neighbors', 'Spectral_assign_labels': 'cluster_qr', 'keybert_nr_repr_docs': 9, 'keybert_top_n_words': 9}. Best is trial 31 with value: -0.6928457735697937.\n"
     ]
    },
    {
     "data": {
      "application/vnd.jupyter.widget-view+json": {
       "model_id": "bcaa0857fe1d490197053355f80aae81",
       "version_major": 2,
       "version_minor": 0
      },
      "text/plain": [
       "Batches:   0%|          | 0/256 [00:00<?, ?it/s]"
      ]
     },
     "metadata": {},
     "output_type": "display_data"
    },
    {
     "name": "stderr",
     "output_type": "stream",
     "text": [
      "[I 2024-12-01 01:13:16,261] Trial 47 finished with value: -0.6266917556409715 and parameters: {'umap_n_neighbors': 23, 'umap_min_dist': 0.2918398991367149, 'umap_n_components': 8, 'umap_metric': 'manhattan', 'Spectral_n_cluster': 5, 'Spectral_eigen_solver': 'arpack', 'Spectral_affinity': 'rbf', 'Spectral_assign_labels': 'kmeans', 'keybert_nr_repr_docs': 10, 'keybert_top_n_words': 8}. Best is trial 31 with value: -0.6928457735697937.\n"
     ]
    },
    {
     "data": {
      "application/vnd.jupyter.widget-view+json": {
       "model_id": "33006b4b6f3241ea9f4dbaf3502ee25b",
       "version_major": 2,
       "version_minor": 0
      },
      "text/plain": [
       "Batches:   0%|          | 0/256 [00:00<?, ?it/s]"
      ]
     },
     "metadata": {},
     "output_type": "display_data"
    },
    {
     "name": "stderr",
     "output_type": "stream",
     "text": [
      "[I 2024-12-01 01:14:27,131] Trial 48 finished with value: -0.6001268557483553 and parameters: {'umap_n_neighbors': 18, 'umap_min_dist': 0.6925121961185072, 'umap_n_components': 7, 'umap_metric': 'cosine', 'Spectral_n_cluster': 45, 'Spectral_eigen_solver': 'amg', 'Spectral_affinity': 'nearest_neighbors', 'Spectral_assign_labels': 'discretize', 'keybert_nr_repr_docs': 1, 'keybert_top_n_words': 7}. Best is trial 31 with value: -0.6928457735697937.\n"
     ]
    },
    {
     "data": {
      "application/vnd.jupyter.widget-view+json": {
       "model_id": "5dfb6725588149d38aca259b8783c40c",
       "version_major": 2,
       "version_minor": 0
      },
      "text/plain": [
       "Batches:   0%|          | 0/256 [00:00<?, ?it/s]"
      ]
     },
     "metadata": {},
     "output_type": "display_data"
    },
    {
     "name": "stderr",
     "output_type": "stream",
     "text": [
      "[I 2024-12-01 01:15:40,653] Trial 49 finished with value: -0.6156968810690433 and parameters: {'umap_n_neighbors': 26, 'umap_min_dist': 0.6236676797362092, 'umap_n_components': 15, 'umap_metric': 'cosine', 'Spectral_n_cluster': 12, 'Spectral_eigen_solver': 'lobpcg', 'Spectral_affinity': 'nearest_neighbors', 'Spectral_assign_labels': 'kmeans', 'keybert_nr_repr_docs': 5, 'keybert_top_n_words': 9}. Best is trial 31 with value: -0.6928457735697937.\n"
     ]
    },
    {
     "data": {
      "application/vnd.jupyter.widget-view+json": {
       "model_id": "d648aa7fe2c64f2b94ee5a9896e15fe0",
       "version_major": 2,
       "version_minor": 0
      },
      "text/plain": [
       "Batches:   0%|          | 0/256 [00:00<?, ?it/s]"
      ]
     },
     "metadata": {},
     "output_type": "display_data"
    },
    {
     "name": "stderr",
     "output_type": "stream",
     "text": [
      "[I 2024-12-01 01:16:54,281] Trial 50 finished with value: -0.6099531492514871 and parameters: {'umap_n_neighbors': 14, 'umap_min_dist': 0.785815821555049, 'umap_n_components': 9, 'umap_metric': 'euclidean', 'Spectral_n_cluster': 16, 'Spectral_eigen_solver': 'arpack', 'Spectral_affinity': 'nearest_neighbors', 'Spectral_assign_labels': 'kmeans', 'keybert_nr_repr_docs': 6, 'keybert_top_n_words': 8}. Best is trial 31 with value: -0.6928457735697937.\n"
     ]
    },
    {
     "data": {
      "application/vnd.jupyter.widget-view+json": {
       "model_id": "23ff20870b0240afacb9e36fef11e050",
       "version_major": 2,
       "version_minor": 0
      },
      "text/plain": [
       "Batches:   0%|          | 0/256 [00:00<?, ?it/s]"
      ]
     },
     "metadata": {},
     "output_type": "display_data"
    },
    {
     "name": "stderr",
     "output_type": "stream",
     "text": [
      "[I 2024-12-01 01:18:04,125] Trial 51 finished with value: -0.6758113787026475 and parameters: {'umap_n_neighbors': 22, 'umap_min_dist': 0.38626966026556436, 'umap_n_components': 3, 'umap_metric': 'manhattan', 'Spectral_n_cluster': 5, 'Spectral_eigen_solver': 'arpack', 'Spectral_affinity': 'nearest_neighbors', 'Spectral_assign_labels': 'kmeans', 'keybert_nr_repr_docs': 9, 'keybert_top_n_words': 8}. Best is trial 31 with value: -0.6928457735697937.\n"
     ]
    },
    {
     "data": {
      "application/vnd.jupyter.widget-view+json": {
       "model_id": "07da6145213f4f2b957e753a6a8b52fc",
       "version_major": 2,
       "version_minor": 0
      },
      "text/plain": [
       "Batches:   0%|          | 0/256 [00:00<?, ?it/s]"
      ]
     },
     "metadata": {},
     "output_type": "display_data"
    },
    {
     "name": "stderr",
     "output_type": "stream",
     "text": [
      "[I 2024-12-01 01:19:13,906] Trial 52 finished with value: -0.6348607303984765 and parameters: {'umap_n_neighbors': 21, 'umap_min_dist': 0.36189071345988083, 'umap_n_components': 3, 'umap_metric': 'manhattan', 'Spectral_n_cluster': 7, 'Spectral_eigen_solver': 'arpack', 'Spectral_affinity': 'nearest_neighbors', 'Spectral_assign_labels': 'kmeans', 'keybert_nr_repr_docs': 9, 'keybert_top_n_words': 8}. Best is trial 31 with value: -0.6928457735697937.\n"
     ]
    },
    {
     "data": {
      "application/vnd.jupyter.widget-view+json": {
       "model_id": "7a90495bae4f4fb4be10c0cf7e7e9dd2",
       "version_major": 2,
       "version_minor": 0
      },
      "text/plain": [
       "Batches:   0%|          | 0/256 [00:00<?, ?it/s]"
      ]
     },
     "metadata": {},
     "output_type": "display_data"
    },
    {
     "name": "stderr",
     "output_type": "stream",
     "text": [
      "[I 2024-12-01 01:20:24,253] Trial 53 finished with value: -0.6346978571085475 and parameters: {'umap_n_neighbors': 23, 'umap_min_dist': 0.25469864254410846, 'umap_n_components': 2, 'umap_metric': 'manhattan', 'Spectral_n_cluster': 9, 'Spectral_eigen_solver': 'arpack', 'Spectral_affinity': 'nearest_neighbors', 'Spectral_assign_labels': 'kmeans', 'keybert_nr_repr_docs': 8, 'keybert_top_n_words': 8}. Best is trial 31 with value: -0.6928457735697937.\n"
     ]
    },
    {
     "data": {
      "application/vnd.jupyter.widget-view+json": {
       "model_id": "dda3fca5cace4bd2b102b3b386c4fd2f",
       "version_major": 2,
       "version_minor": 0
      },
      "text/plain": [
       "Batches:   0%|          | 0/256 [00:00<?, ?it/s]"
      ]
     },
     "metadata": {},
     "output_type": "display_data"
    },
    {
     "name": "stderr",
     "output_type": "stream",
     "text": [
      "[I 2024-12-01 01:21:34,792] Trial 54 finished with value: -0.6448374790194853 and parameters: {'umap_n_neighbors': 19, 'umap_min_dist': 0.42565375726686094, 'umap_n_components': 4, 'umap_metric': 'manhattan', 'Spectral_n_cluster': 6, 'Spectral_eigen_solver': 'arpack', 'Spectral_affinity': 'nearest_neighbors', 'Spectral_assign_labels': 'kmeans', 'keybert_nr_repr_docs': 10, 'keybert_top_n_words': 8}. Best is trial 31 with value: -0.6928457735697937.\n"
     ]
    },
    {
     "data": {
      "application/vnd.jupyter.widget-view+json": {
       "model_id": "266b581126644330be2a131e5957541a",
       "version_major": 2,
       "version_minor": 0
      },
      "text/plain": [
       "Batches:   0%|          | 0/256 [00:00<?, ?it/s]"
      ]
     },
     "metadata": {},
     "output_type": "display_data"
    },
    {
     "name": "stderr",
     "output_type": "stream",
     "text": [
      "[I 2024-12-01 01:22:45,414] Trial 55 finished with value: -0.6427638559090101 and parameters: {'umap_n_neighbors': 20, 'umap_min_dist': 0.3194517938249688, 'umap_n_components': 3, 'umap_metric': 'cosine', 'Spectral_n_cluster': 10, 'Spectral_eigen_solver': 'arpack', 'Spectral_affinity': 'nearest_neighbors', 'Spectral_assign_labels': 'kmeans', 'keybert_nr_repr_docs': 9, 'keybert_top_n_words': 9}. Best is trial 31 with value: -0.6928457735697937.\n"
     ]
    },
    {
     "data": {
      "application/vnd.jupyter.widget-view+json": {
       "model_id": "04e8ef029b8a43cbb612a46b2c43f3e6",
       "version_major": 2,
       "version_minor": 0
      },
      "text/plain": [
       "Batches:   0%|          | 0/256 [00:00<?, ?it/s]"
      ]
     },
     "metadata": {},
     "output_type": "display_data"
    },
    {
     "name": "stderr",
     "output_type": "stream",
     "text": [
      "[I 2024-12-01 01:23:51,704] Trial 56 finished with value: -0.6353905952368617 and parameters: {'umap_n_neighbors': 5, 'umap_min_dist': 0.4422579091717569, 'umap_n_components': 5, 'umap_metric': 'cosine', 'Spectral_n_cluster': 5, 'Spectral_eigen_solver': 'arpack', 'Spectral_affinity': 'nearest_neighbors', 'Spectral_assign_labels': 'cluster_qr', 'keybert_nr_repr_docs': 10, 'keybert_top_n_words': 7}. Best is trial 31 with value: -0.6928457735697937.\n"
     ]
    },
    {
     "data": {
      "application/vnd.jupyter.widget-view+json": {
       "model_id": "0d4491e878444ecda6d9c174db83d765",
       "version_major": 2,
       "version_minor": 0
      },
      "text/plain": [
       "Batches:   0%|          | 0/256 [00:00<?, ?it/s]"
      ]
     },
     "metadata": {},
     "output_type": "display_data"
    },
    {
     "name": "stderr",
     "output_type": "stream",
     "text": [
      "[I 2024-12-01 01:25:00,823] Trial 57 finished with value: -0.6425771910722298 and parameters: {'umap_n_neighbors': 22, 'umap_min_dist': 0.9407002139049596, 'umap_n_components': 2, 'umap_metric': 'manhattan', 'Spectral_n_cluster': 8, 'Spectral_eigen_solver': 'arpack', 'Spectral_affinity': 'nearest_neighbors', 'Spectral_assign_labels': 'kmeans', 'keybert_nr_repr_docs': 8, 'keybert_top_n_words': 7}. Best is trial 31 with value: -0.6928457735697937.\n"
     ]
    },
    {
     "data": {
      "application/vnd.jupyter.widget-view+json": {
       "model_id": "5516704f02284c5fa0c8aa93aa6f6594",
       "version_major": 2,
       "version_minor": 0
      },
      "text/plain": [
       "Batches:   0%|          | 0/256 [00:00<?, ?it/s]"
      ]
     },
     "metadata": {},
     "output_type": "display_data"
    },
    {
     "name": "stderr",
     "output_type": "stream",
     "text": [
      "[I 2024-12-01 01:26:12,840] Trial 58 finished with value: -0.6226810321299701 and parameters: {'umap_n_neighbors': 9, 'umap_min_dist': 0.8716162308559495, 'umap_n_components': 9, 'umap_metric': 'chebyshev', 'Spectral_n_cluster': 12, 'Spectral_eigen_solver': 'arpack', 'Spectral_affinity': 'rbf', 'Spectral_assign_labels': 'kmeans', 'keybert_nr_repr_docs': 7, 'keybert_top_n_words': 8}. Best is trial 31 with value: -0.6928457735697937.\n"
     ]
    },
    {
     "data": {
      "application/vnd.jupyter.widget-view+json": {
       "model_id": "d8bf308b1c134544830566c3711c0a89",
       "version_major": 2,
       "version_minor": 0
      },
      "text/plain": [
       "Batches:   0%|          | 0/256 [00:00<?, ?it/s]"
      ]
     },
     "metadata": {},
     "output_type": "display_data"
    },
    {
     "name": "stderr",
     "output_type": "stream",
     "text": [
      "[I 2024-12-01 01:27:22,027] Trial 59 finished with value: -0.6532675367234829 and parameters: {'umap_n_neighbors': 16, 'umap_min_dist': 0.8308977035602862, 'umap_n_components': 4, 'umap_metric': 'cosine', 'Spectral_n_cluster': 6, 'Spectral_eigen_solver': 'lobpcg', 'Spectral_affinity': 'nearest_neighbors', 'Spectral_assign_labels': 'discretize', 'keybert_nr_repr_docs': 9, 'keybert_top_n_words': 9}. Best is trial 31 with value: -0.6928457735697937.\n"
     ]
    },
    {
     "data": {
      "application/vnd.jupyter.widget-view+json": {
       "model_id": "51fd1d20cc9d4299a2db20a702f5a883",
       "version_major": 2,
       "version_minor": 0
      },
      "text/plain": [
       "Batches:   0%|          | 0/256 [00:00<?, ?it/s]"
      ]
     },
     "metadata": {},
     "output_type": "display_data"
    },
    {
     "name": "stderr",
     "output_type": "stream",
     "text": [
      "[I 2024-12-01 01:28:36,815] Trial 60 finished with value: -0.6077637930892827 and parameters: {'umap_n_neighbors': 30, 'umap_min_dist': 0.21714648007057927, 'umap_n_components': 11, 'umap_metric': 'cosine', 'Spectral_n_cluster': 19, 'Spectral_eigen_solver': 'arpack', 'Spectral_affinity': 'nearest_neighbors', 'Spectral_assign_labels': 'kmeans', 'keybert_nr_repr_docs': 2, 'keybert_top_n_words': 8}. Best is trial 31 with value: -0.6928457735697937.\n"
     ]
    },
    {
     "data": {
      "application/vnd.jupyter.widget-view+json": {
       "model_id": "412e337d35dd4c27a405260f7165b88b",
       "version_major": 2,
       "version_minor": 0
      },
      "text/plain": [
       "Batches:   0%|          | 0/256 [00:00<?, ?it/s]"
      ]
     },
     "metadata": {},
     "output_type": "display_data"
    },
    {
     "name": "stderr",
     "output_type": "stream",
     "text": [
      "[I 2024-12-01 01:29:48,231] Trial 61 finished with value: -0.6862483287333258 and parameters: {'umap_n_neighbors': 25, 'umap_min_dist': 0.4038888497562459, 'umap_n_components': 3, 'umap_metric': 'manhattan', 'Spectral_n_cluster': 5, 'Spectral_eigen_solver': 'arpack', 'Spectral_affinity': 'nearest_neighbors', 'Spectral_assign_labels': 'kmeans', 'keybert_nr_repr_docs': 9, 'keybert_top_n_words': 8}. Best is trial 31 with value: -0.6928457735697937.\n"
     ]
    },
    {
     "data": {
      "application/vnd.jupyter.widget-view+json": {
       "model_id": "9c7648ccf6324660aeb4f69c04fe32e2",
       "version_major": 2,
       "version_minor": 0
      },
      "text/plain": [
       "Batches:   0%|          | 0/256 [00:00<?, ?it/s]"
      ]
     },
     "metadata": {},
     "output_type": "display_data"
    },
    {
     "name": "stderr",
     "output_type": "stream",
     "text": [
      "[I 2024-12-01 01:30:57,836] Trial 62 finished with value: -0.6451531126339236 and parameters: {'umap_n_neighbors': 24, 'umap_min_dist': 0.45695954456154, 'umap_n_components': 2, 'umap_metric': 'manhattan', 'Spectral_n_cluster': 7, 'Spectral_eigen_solver': 'arpack', 'Spectral_affinity': 'nearest_neighbors', 'Spectral_assign_labels': 'kmeans', 'keybert_nr_repr_docs': 9, 'keybert_top_n_words': 8}. Best is trial 31 with value: -0.6928457735697937.\n"
     ]
    },
    {
     "data": {
      "application/vnd.jupyter.widget-view+json": {
       "model_id": "e8e15ae6fd514642b194fe465b47397f",
       "version_major": 2,
       "version_minor": 0
      },
      "text/plain": [
       "Batches:   0%|          | 0/256 [00:00<?, ?it/s]"
      ]
     },
     "metadata": {},
     "output_type": "display_data"
    },
    {
     "name": "stderr",
     "output_type": "stream",
     "text": [
      "[I 2024-12-01 01:32:08,275] Trial 63 finished with value: -0.6350356239102288 and parameters: {'umap_n_neighbors': 22, 'umap_min_dist': 0.39148491044490263, 'umap_n_components': 3, 'umap_metric': 'manhattan', 'Spectral_n_cluster': 10, 'Spectral_eigen_solver': 'arpack', 'Spectral_affinity': 'nearest_neighbors', 'Spectral_assign_labels': 'kmeans', 'keybert_nr_repr_docs': 10, 'keybert_top_n_words': 8}. Best is trial 31 with value: -0.6928457735697937.\n"
     ]
    },
    {
     "data": {
      "application/vnd.jupyter.widget-view+json": {
       "model_id": "579f53fe7aea4e728d84d428dfc44901",
       "version_major": 2,
       "version_minor": 0
      },
      "text/plain": [
       "Batches:   0%|          | 0/256 [00:00<?, ?it/s]"
      ]
     },
     "metadata": {},
     "output_type": "display_data"
    },
    {
     "name": "stderr",
     "output_type": "stream",
     "text": [
      "[I 2024-12-01 01:33:20,047] Trial 64 finished with value: -0.6798927770846799 and parameters: {'umap_n_neighbors': 28, 'umap_min_dist': 0.3310902399307014, 'umap_n_components': 4, 'umap_metric': 'manhattan', 'Spectral_n_cluster': 5, 'Spectral_eigen_solver': 'arpack', 'Spectral_affinity': 'nearest_neighbors', 'Spectral_assign_labels': 'kmeans', 'keybert_nr_repr_docs': 8, 'keybert_top_n_words': 8}. Best is trial 31 with value: -0.6928457735697937.\n"
     ]
    },
    {
     "data": {
      "application/vnd.jupyter.widget-view+json": {
       "model_id": "88c61953914745129d22a23ae118411d",
       "version_major": 2,
       "version_minor": 0
      },
      "text/plain": [
       "Batches:   0%|          | 0/256 [00:00<?, ?it/s]"
      ]
     },
     "metadata": {},
     "output_type": "display_data"
    },
    {
     "name": "stderr",
     "output_type": "stream",
     "text": [
      "[I 2024-12-01 01:34:34,402] Trial 65 finished with value: -0.6391534015740449 and parameters: {'umap_n_neighbors': 29, 'umap_min_dist': 0.494476966554736, 'umap_n_components': 4, 'umap_metric': 'manhattan', 'Spectral_n_cluster': 9, 'Spectral_eigen_solver': 'arpack', 'Spectral_affinity': 'nearest_neighbors', 'Spectral_assign_labels': 'kmeans', 'keybert_nr_repr_docs': 9, 'keybert_top_n_words': 10}. Best is trial 31 with value: -0.6928457735697937.\n"
     ]
    },
    {
     "data": {
      "application/vnd.jupyter.widget-view+json": {
       "model_id": "feb2c2e1552e4ae6a2ecdafabfcb60e2",
       "version_major": 2,
       "version_minor": 0
      },
      "text/plain": [
       "Batches:   0%|          | 0/256 [00:00<?, ?it/s]"
      ]
     },
     "metadata": {},
     "output_type": "display_data"
    },
    {
     "name": "stderr",
     "output_type": "stream",
     "text": [
      "[I 2024-12-01 01:35:45,536] Trial 66 finished with value: -0.651170897793832 and parameters: {'umap_n_neighbors': 27, 'umap_min_dist': 0.3473734203269137, 'umap_n_components': 3, 'umap_metric': 'manhattan', 'Spectral_n_cluster': 6, 'Spectral_eigen_solver': 'arpack', 'Spectral_affinity': 'nearest_neighbors', 'Spectral_assign_labels': 'kmeans', 'keybert_nr_repr_docs': 10, 'keybert_top_n_words': 9}. Best is trial 31 with value: -0.6928457735697937.\n"
     ]
    },
    {
     "data": {
      "application/vnd.jupyter.widget-view+json": {
       "model_id": "024919ad2bd341069900cc18e2530de6",
       "version_major": 2,
       "version_minor": 0
      },
      "text/plain": [
       "Batches:   0%|          | 0/256 [00:00<?, ?it/s]"
      ]
     },
     "metadata": {},
     "output_type": "display_data"
    },
    {
     "name": "stderr",
     "output_type": "stream",
     "text": [
      "[I 2024-12-01 01:36:57,958] Trial 67 finished with value: -0.6585862419124515 and parameters: {'umap_n_neighbors': 26, 'umap_min_dist': 0.26297053199420783, 'umap_n_components': 4, 'umap_metric': 'manhattan', 'Spectral_n_cluster': 5, 'Spectral_eigen_solver': 'arpack', 'Spectral_affinity': 'nearest_neighbors', 'Spectral_assign_labels': 'kmeans', 'keybert_nr_repr_docs': 8, 'keybert_top_n_words': 7}. Best is trial 31 with value: -0.6928457735697937.\n"
     ]
    },
    {
     "data": {
      "application/vnd.jupyter.widget-view+json": {
       "model_id": "b2d4a45ece20468e911b4cb442cd3f51",
       "version_major": 2,
       "version_minor": 0
      },
      "text/plain": [
       "Batches:   0%|          | 0/256 [00:00<?, ?it/s]"
      ]
     },
     "metadata": {},
     "output_type": "display_data"
    },
    {
     "name": "stderr",
     "output_type": "stream",
     "text": [
      "[I 2024-12-01 01:38:12,423] Trial 68 finished with value: -0.6272522450240253 and parameters: {'umap_n_neighbors': 28, 'umap_min_dist': 0.31472265939009075, 'umap_n_components': 5, 'umap_metric': 'manhattan', 'Spectral_n_cluster': 11, 'Spectral_eigen_solver': 'arpack', 'Spectral_affinity': 'nearest_neighbors', 'Spectral_assign_labels': 'kmeans', 'keybert_nr_repr_docs': 9, 'keybert_top_n_words': 8}. Best is trial 31 with value: -0.6928457735697937.\n"
     ]
    },
    {
     "data": {
      "application/vnd.jupyter.widget-view+json": {
       "model_id": "d5606ff83924491d8b42ef11e97ece5c",
       "version_major": 2,
       "version_minor": 0
      },
      "text/plain": [
       "Batches:   0%|          | 0/256 [00:00<?, ?it/s]"
      ]
     },
     "metadata": {},
     "output_type": "display_data"
    },
    {
     "name": "stderr",
     "output_type": "stream",
     "text": [
      "[I 2024-12-01 01:39:23,223] Trial 69 finished with value: -0.6452190212604497 and parameters: {'umap_n_neighbors': 26, 'umap_min_dist': 0.17088642583922597, 'umap_n_components': 2, 'umap_metric': 'correlation', 'Spectral_n_cluster': 7, 'Spectral_eigen_solver': 'amg', 'Spectral_affinity': 'nearest_neighbors', 'Spectral_assign_labels': 'kmeans', 'keybert_nr_repr_docs': 10, 'keybert_top_n_words': 8}. Best is trial 31 with value: -0.6928457735697937.\n"
     ]
    },
    {
     "data": {
      "application/vnd.jupyter.widget-view+json": {
       "model_id": "b7c2e1d73fe84d87927af7b5b7695d3a",
       "version_major": 2,
       "version_minor": 0
      },
      "text/plain": [
       "Batches:   0%|          | 0/256 [00:00<?, ?it/s]"
      ]
     },
     "metadata": {},
     "output_type": "display_data"
    },
    {
     "name": "stderr",
     "output_type": "stream",
     "text": [
      "[I 2024-12-01 01:40:36,067] Trial 70 finished with value: -0.6127687441202133 and parameters: {'umap_n_neighbors': 29, 'umap_min_dist': 0.4152251715062376, 'umap_n_components': 3, 'umap_metric': 'manhattan', 'Spectral_n_cluster': 13, 'Spectral_eigen_solver': 'arpack', 'Spectral_affinity': 'nearest_neighbors', 'Spectral_assign_labels': 'cluster_qr', 'keybert_nr_repr_docs': 8, 'keybert_top_n_words': 9}. Best is trial 31 with value: -0.6928457735697937.\n"
     ]
    },
    {
     "data": {
      "application/vnd.jupyter.widget-view+json": {
       "model_id": "ea35ee9eccc94fd4902a71b39c504a5c",
       "version_major": 2,
       "version_minor": 0
      },
      "text/plain": [
       "Batches:   0%|          | 0/256 [00:00<?, ?it/s]"
      ]
     },
     "metadata": {},
     "output_type": "display_data"
    },
    {
     "name": "stderr",
     "output_type": "stream",
     "text": [
      "[I 2024-12-01 01:41:42,977] Trial 71 finished with value: -0.6464972266701859 and parameters: {'umap_n_neighbors': 6, 'umap_min_dist': 0.2869054186904988, 'umap_n_components': 6, 'umap_metric': 'cosine', 'Spectral_n_cluster': 8, 'Spectral_eigen_solver': 'arpack', 'Spectral_affinity': 'nearest_neighbors', 'Spectral_assign_labels': 'kmeans', 'keybert_nr_repr_docs': 9, 'keybert_top_n_words': 8}. Best is trial 31 with value: -0.6928457735697937.\n"
     ]
    },
    {
     "data": {
      "application/vnd.jupyter.widget-view+json": {
       "model_id": "cac099d84f1b4bf29b3554268c1855e8",
       "version_major": 2,
       "version_minor": 0
      },
      "text/plain": [
       "Batches:   0%|          | 0/256 [00:00<?, ?it/s]"
      ]
     },
     "metadata": {},
     "output_type": "display_data"
    },
    {
     "name": "stderr",
     "output_type": "stream",
     "text": [
      "[I 2024-12-01 01:42:56,815] Trial 72 finished with value: -0.6806260162057534 and parameters: {'umap_n_neighbors': 23, 'umap_min_dist': 0.9745372199808168, 'umap_n_components': 4, 'umap_metric': 'cosine', 'Spectral_n_cluster': 5, 'Spectral_eigen_solver': 'arpack', 'Spectral_affinity': 'nearest_neighbors', 'Spectral_assign_labels': 'kmeans', 'keybert_nr_repr_docs': 8, 'keybert_top_n_words': 8}. Best is trial 31 with value: -0.6928457735697937.\n"
     ]
    },
    {
     "data": {
      "application/vnd.jupyter.widget-view+json": {
       "model_id": "81a318ad9b0c4b6fb95bc25b836bd34e",
       "version_major": 2,
       "version_minor": 0
      },
      "text/plain": [
       "Batches:   0%|          | 0/256 [00:00<?, ?it/s]"
      ]
     },
     "metadata": {},
     "output_type": "display_data"
    },
    {
     "name": "stderr",
     "output_type": "stream",
     "text": [
      "[I 2024-12-01 01:44:18,075] Trial 73 finished with value: -0.6592539223956024 and parameters: {'umap_n_neighbors': 24, 'umap_min_dist': 0.9794268597066124, 'umap_n_components': 14, 'umap_metric': 'euclidean', 'Spectral_n_cluster': 6, 'Spectral_eigen_solver': 'arpack', 'Spectral_affinity': 'nearest_neighbors', 'Spectral_assign_labels': 'kmeans', 'keybert_nr_repr_docs': 4, 'keybert_top_n_words': 8}. Best is trial 31 with value: -0.6928457735697937.\n"
     ]
    },
    {
     "data": {
      "application/vnd.jupyter.widget-view+json": {
       "model_id": "b939d618beb54d0b9c1f000025cca96e",
       "version_major": 2,
       "version_minor": 0
      },
      "text/plain": [
       "Batches:   0%|          | 0/256 [00:00<?, ?it/s]"
      ]
     },
     "metadata": {},
     "output_type": "display_data"
    },
    {
     "name": "stderr",
     "output_type": "stream",
     "text": [
      "[I 2024-12-01 01:45:28,527] Trial 74 finished with value: -0.6561334542747757 and parameters: {'umap_n_neighbors': 20, 'umap_min_dist': 0.13454468122885516, 'umap_n_components': 4, 'umap_metric': 'cosine', 'Spectral_n_cluster': 9, 'Spectral_eigen_solver': 'arpack', 'Spectral_affinity': 'nearest_neighbors', 'Spectral_assign_labels': 'kmeans', 'keybert_nr_repr_docs': 8, 'keybert_top_n_words': 7}. Best is trial 31 with value: -0.6928457735697937.\n"
     ]
    },
    {
     "data": {
      "application/vnd.jupyter.widget-view+json": {
       "model_id": "5064808fe335414d8a867b433ceb7ff7",
       "version_major": 2,
       "version_minor": 0
      },
      "text/plain": [
       "Batches:   0%|          | 0/256 [00:00<?, ?it/s]"
      ]
     },
     "metadata": {},
     "output_type": "display_data"
    },
    {
     "name": "stderr",
     "output_type": "stream",
     "text": [
      "[I 2024-12-01 01:46:41,762] Trial 75 finished with value: -0.6661509724582921 and parameters: {'umap_n_neighbors': 22, 'umap_min_dist': 0.3418053176667405, 'umap_n_components': 4, 'umap_metric': 'manhattan', 'Spectral_n_cluster': 5, 'Spectral_eigen_solver': 'arpack', 'Spectral_affinity': 'nearest_neighbors', 'Spectral_assign_labels': 'kmeans', 'keybert_nr_repr_docs': 9, 'keybert_top_n_words': 8}. Best is trial 31 with value: -0.6928457735697937.\n"
     ]
    },
    {
     "data": {
      "application/vnd.jupyter.widget-view+json": {
       "model_id": "0fbfdd501c6c4e4bbb8b85d650a4ea2c",
       "version_major": 2,
       "version_minor": 0
      },
      "text/plain": [
       "Batches:   0%|          | 0/256 [00:00<?, ?it/s]"
      ]
     },
     "metadata": {},
     "output_type": "display_data"
    },
    {
     "name": "stderr",
     "output_type": "stream",
     "text": [
      "[I 2024-12-01 01:47:52,846] Trial 76 finished with value: -0.6436842713288654 and parameters: {'umap_n_neighbors': 25, 'umap_min_dist': 0.9121780302317926, 'umap_n_components': 5, 'umap_metric': 'cosine', 'Spectral_n_cluster': 8, 'Spectral_eigen_solver': 'lobpcg', 'Spectral_affinity': 'nearest_neighbors', 'Spectral_assign_labels': 'kmeans', 'keybert_nr_repr_docs': 7, 'keybert_top_n_words': 7}. Best is trial 31 with value: -0.6928457735697937.\n"
     ]
    },
    {
     "data": {
      "application/vnd.jupyter.widget-view+json": {
       "model_id": "55702bb40f574893a41105267c84d1e9",
       "version_major": 2,
       "version_minor": 0
      },
      "text/plain": [
       "Batches:   0%|          | 0/256 [00:00<?, ?it/s]"
      ]
     },
     "metadata": {},
     "output_type": "display_data"
    },
    {
     "name": "stderr",
     "output_type": "stream",
     "text": [
      "[I 2024-12-01 01:49:06,629] Trial 77 finished with value: -0.6535647656000096 and parameters: {'umap_n_neighbors': 23, 'umap_min_dist': 0.9558943424540971, 'umap_n_components': 3, 'umap_metric': 'manhattan', 'Spectral_n_cluster': 6, 'Spectral_eigen_solver': 'arpack', 'Spectral_affinity': 'rbf', 'Spectral_assign_labels': 'discretize', 'keybert_nr_repr_docs': 10, 'keybert_top_n_words': 8}. Best is trial 31 with value: -0.6928457735697937.\n"
     ]
    },
    {
     "data": {
      "application/vnd.jupyter.widget-view+json": {
       "model_id": "771fada7c6dd4dd4b422fea3731d485b",
       "version_major": 2,
       "version_minor": 0
      },
      "text/plain": [
       "Batches:   0%|          | 0/256 [00:00<?, ?it/s]"
      ]
     },
     "metadata": {},
     "output_type": "display_data"
    },
    {
     "name": "stderr",
     "output_type": "stream",
     "text": [
      "[I 2024-12-01 01:50:19,982] Trial 78 finished with value: -0.6146994266352772 and parameters: {'umap_n_neighbors': 21, 'umap_min_dist': 0.4065928130106661, 'umap_n_components': 3, 'umap_metric': 'chebyshev', 'Spectral_n_cluster': 10, 'Spectral_eigen_solver': 'arpack', 'Spectral_affinity': 'nearest_neighbors', 'Spectral_assign_labels': 'kmeans', 'keybert_nr_repr_docs': 9, 'keybert_top_n_words': 8}. Best is trial 31 with value: -0.6928457735697937.\n"
     ]
    },
    {
     "data": {
      "application/vnd.jupyter.widget-view+json": {
       "model_id": "21ad111d1e16445fb25663629b8ab1b6",
       "version_major": 2,
       "version_minor": 0
      },
      "text/plain": [
       "Batches:   0%|          | 0/256 [00:00<?, ?it/s]"
      ]
     },
     "metadata": {},
     "output_type": "display_data"
    },
    {
     "name": "stderr",
     "output_type": "stream",
     "text": [
      "[I 2024-12-01 01:51:35,742] Trial 79 finished with value: -0.5754967085101964 and parameters: {'umap_n_neighbors': 27, 'umap_min_dist': 0.3822588643277776, 'umap_n_components': 2, 'umap_metric': 'cosine', 'Spectral_n_cluster': 36, 'Spectral_eigen_solver': 'arpack', 'Spectral_affinity': 'nearest_neighbors', 'Spectral_assign_labels': 'kmeans', 'keybert_nr_repr_docs': 8, 'keybert_top_n_words': 6}. Best is trial 31 with value: -0.6928457735697937.\n"
     ]
    },
    {
     "data": {
      "application/vnd.jupyter.widget-view+json": {
       "model_id": "d2f89e89e59e406a8e89081ddf0929b7",
       "version_major": 2,
       "version_minor": 0
      },
      "text/plain": [
       "Batches:   0%|          | 0/256 [00:00<?, ?it/s]"
      ]
     },
     "metadata": {},
     "output_type": "display_data"
    },
    {
     "name": "stderr",
     "output_type": "stream",
     "text": [
      "[I 2024-12-01 01:52:50,709] Trial 80 finished with value: -0.6445016161490975 and parameters: {'umap_n_neighbors': 19, 'umap_min_dist': 0.8366575746024902, 'umap_n_components': 5, 'umap_metric': 'correlation', 'Spectral_n_cluster': 7, 'Spectral_eigen_solver': 'arpack', 'Spectral_affinity': 'nearest_neighbors', 'Spectral_assign_labels': 'kmeans', 'keybert_nr_repr_docs': 10, 'keybert_top_n_words': 9}. Best is trial 31 with value: -0.6928457735697937.\n"
     ]
    },
    {
     "data": {
      "application/vnd.jupyter.widget-view+json": {
       "model_id": "3d4774f7077e4f2ca66f4e44debea39e",
       "version_major": 2,
       "version_minor": 0
      },
      "text/plain": [
       "Batches:   0%|          | 0/256 [00:00<?, ?it/s]"
      ]
     },
     "metadata": {},
     "output_type": "display_data"
    },
    {
     "name": "stderr",
     "output_type": "stream",
     "text": [
      "[I 2024-12-01 01:54:06,307] Trial 81 finished with value: -0.6883659790804775 and parameters: {'umap_n_neighbors': 24, 'umap_min_dist': 0.8847632187515373, 'umap_n_components': 8, 'umap_metric': 'cosine', 'Spectral_n_cluster': 5, 'Spectral_eigen_solver': 'arpack', 'Spectral_affinity': 'nearest_neighbors', 'Spectral_assign_labels': 'kmeans', 'keybert_nr_repr_docs': 8, 'keybert_top_n_words': 8}. Best is trial 31 with value: -0.6928457735697937.\n"
     ]
    },
    {
     "data": {
      "application/vnd.jupyter.widget-view+json": {
       "model_id": "24cad336063a4da3a9263f317d6ce337",
       "version_major": 2,
       "version_minor": 0
      },
      "text/plain": [
       "Batches:   0%|          | 0/256 [00:00<?, ?it/s]"
      ]
     },
     "metadata": {},
     "output_type": "display_data"
    },
    {
     "name": "stderr",
     "output_type": "stream",
     "text": [
      "[I 2024-12-01 01:55:21,721] Trial 82 finished with value: -0.6603881770947106 and parameters: {'umap_n_neighbors': 25, 'umap_min_dist': 0.891788785415393, 'umap_n_components': 7, 'umap_metric': 'cosine', 'Spectral_n_cluster': 5, 'Spectral_eigen_solver': 'arpack', 'Spectral_affinity': 'nearest_neighbors', 'Spectral_assign_labels': 'kmeans', 'keybert_nr_repr_docs': 8, 'keybert_top_n_words': 8}. Best is trial 31 with value: -0.6928457735697937.\n"
     ]
    },
    {
     "data": {
      "application/vnd.jupyter.widget-view+json": {
       "model_id": "928ebd659e8d4ebc9090761cbb96aa8b",
       "version_major": 2,
       "version_minor": 0
      },
      "text/plain": [
       "Batches:   0%|          | 0/256 [00:00<?, ?it/s]"
      ]
     },
     "metadata": {},
     "output_type": "display_data"
    },
    {
     "name": "stderr",
     "output_type": "stream",
     "text": [
      "[I 2024-12-01 01:56:34,365] Trial 83 finished with value: -0.6436959449090477 and parameters: {'umap_n_neighbors': 24, 'umap_min_dist': 0.9859645972434848, 'umap_n_components': 4, 'umap_metric': 'cosine', 'Spectral_n_cluster': 8, 'Spectral_eigen_solver': 'arpack', 'Spectral_affinity': 'nearest_neighbors', 'Spectral_assign_labels': 'kmeans', 'keybert_nr_repr_docs': 7, 'keybert_top_n_words': 8}. Best is trial 31 with value: -0.6928457735697937.\n"
     ]
    },
    {
     "data": {
      "application/vnd.jupyter.widget-view+json": {
       "model_id": "5c9b29c67ad94ceabbbbf3621a3b1c91",
       "version_major": 2,
       "version_minor": 0
      },
      "text/plain": [
       "Batches:   0%|          | 0/256 [00:00<?, ?it/s]"
      ]
     },
     "metadata": {},
     "output_type": "display_data"
    },
    {
     "name": "stderr",
     "output_type": "stream",
     "text": [
      "[I 2024-12-01 01:57:49,709] Trial 84 finished with value: -0.6538422210521981 and parameters: {'umap_n_neighbors': 23, 'umap_min_dist': 0.749216304305944, 'umap_n_components': 10, 'umap_metric': 'cosine', 'Spectral_n_cluster': 6, 'Spectral_eigen_solver': 'arpack', 'Spectral_affinity': 'nearest_neighbors', 'Spectral_assign_labels': 'kmeans', 'keybert_nr_repr_docs': 9, 'keybert_top_n_words': 8}. Best is trial 31 with value: -0.6928457735697937.\n"
     ]
    },
    {
     "data": {
      "application/vnd.jupyter.widget-view+json": {
       "model_id": "0440018cdf114eafb16b2c0627b9e538",
       "version_major": 2,
       "version_minor": 0
      },
      "text/plain": [
       "Batches:   0%|          | 0/256 [00:00<?, ?it/s]"
      ]
     },
     "metadata": {},
     "output_type": "display_data"
    },
    {
     "name": "stderr",
     "output_type": "stream",
     "text": [
      "[I 2024-12-01 01:58:59,861] Trial 85 finished with value: -0.6399248067159483 and parameters: {'umap_n_neighbors': 22, 'umap_min_dist': 0.7966187767376226, 'umap_n_components': 8, 'umap_metric': 'cosine', 'Spectral_n_cluster': 7, 'Spectral_eigen_solver': 'amg', 'Spectral_affinity': 'nearest_neighbors', 'Spectral_assign_labels': 'kmeans', 'keybert_nr_repr_docs': 8, 'keybert_top_n_words': 8}. Best is trial 31 with value: -0.6928457735697937.\n"
     ]
    },
    {
     "data": {
      "application/vnd.jupyter.widget-view+json": {
       "model_id": "42e28a0c8042445aa5604b8bf5a9f121",
       "version_major": 2,
       "version_minor": 0
      },
      "text/plain": [
       "Batches:   0%|          | 0/256 [00:00<?, ?it/s]"
      ]
     },
     "metadata": {},
     "output_type": "display_data"
    },
    {
     "name": "stderr",
     "output_type": "stream",
     "text": [
      "[I 2024-12-01 02:00:14,838] Trial 86 finished with value: -0.6408704205907645 and parameters: {'umap_n_neighbors': 27, 'umap_min_dist': 0.9289045997640532, 'umap_n_components': 4, 'umap_metric': 'manhattan', 'Spectral_n_cluster': 9, 'Spectral_eigen_solver': 'arpack', 'Spectral_affinity': 'nearest_neighbors', 'Spectral_assign_labels': 'kmeans', 'keybert_nr_repr_docs': 9, 'keybert_top_n_words': 8}. Best is trial 31 with value: -0.6928457735697937.\n"
     ]
    },
    {
     "data": {
      "application/vnd.jupyter.widget-view+json": {
       "model_id": "a0146bb6633342d69ef0483f06386714",
       "version_major": 2,
       "version_minor": 0
      },
      "text/plain": [
       "Batches:   0%|          | 0/256 [00:00<?, ?it/s]"
      ]
     },
     "metadata": {},
     "output_type": "display_data"
    },
    {
     "name": "stderr",
     "output_type": "stream",
     "text": [
      "[I 2024-12-01 02:01:25,313] Trial 87 finished with value: -0.6717543055532575 and parameters: {'umap_n_neighbors': 21, 'umap_min_dist': 0.8502572982241273, 'umap_n_components': 3, 'umap_metric': 'cosine', 'Spectral_n_cluster': 5, 'Spectral_eigen_solver': 'arpack', 'Spectral_affinity': 'nearest_neighbors', 'Spectral_assign_labels': 'kmeans', 'keybert_nr_repr_docs': 10, 'keybert_top_n_words': 9}. Best is trial 31 with value: -0.6928457735697937.\n"
     ]
    },
    {
     "data": {
      "application/vnd.jupyter.widget-view+json": {
       "model_id": "f9ffcbc0ac8640a1b799c0291b5891b3",
       "version_major": 2,
       "version_minor": 0
      },
      "text/plain": [
       "Batches:   0%|          | 0/256 [00:00<?, ?it/s]"
      ]
     },
     "metadata": {},
     "output_type": "display_data"
    },
    {
     "name": "stderr",
     "output_type": "stream",
     "text": [
      "[I 2024-12-01 02:02:46,270] Trial 88 finished with value: -0.589165439275031 and parameters: {'umap_n_neighbors': 24, 'umap_min_dist': 0.8793786383016993, 'umap_n_components': 7, 'umap_metric': 'euclidean', 'Spectral_n_cluster': 30, 'Spectral_eigen_solver': 'arpack', 'Spectral_affinity': 'nearest_neighbors', 'Spectral_assign_labels': 'cluster_qr', 'keybert_nr_repr_docs': 7, 'keybert_top_n_words': 8}. Best is trial 31 with value: -0.6928457735697937.\n"
     ]
    },
    {
     "data": {
      "application/vnd.jupyter.widget-view+json": {
       "model_id": "d09c4159675547329e4fbc0b531c4f8d",
       "version_major": 2,
       "version_minor": 0
      },
      "text/plain": [
       "Batches:   0%|          | 0/256 [00:00<?, ?it/s]"
      ]
     },
     "metadata": {},
     "output_type": "display_data"
    },
    {
     "name": "stderr",
     "output_type": "stream",
     "text": [
      "[I 2024-12-01 02:03:59,559] Trial 89 finished with value: -0.5919185913899033 and parameters: {'umap_n_neighbors': 18, 'umap_min_dist': 0.9624573527419579, 'umap_n_components': 6, 'umap_metric': 'manhattan', 'Spectral_n_cluster': 23, 'Spectral_eigen_solver': 'lobpcg', 'Spectral_affinity': 'rbf', 'Spectral_assign_labels': 'kmeans', 'keybert_nr_repr_docs': 6, 'keybert_top_n_words': 8}. Best is trial 31 with value: -0.6928457735697937.\n"
     ]
    },
    {
     "data": {
      "application/vnd.jupyter.widget-view+json": {
       "model_id": "ea19518779cc41c48873865018ea118a",
       "version_major": 2,
       "version_minor": 0
      },
      "text/plain": [
       "Batches:   0%|          | 0/256 [00:00<?, ?it/s]"
      ]
     },
     "metadata": {},
     "output_type": "display_data"
    },
    {
     "name": "stderr",
     "output_type": "stream",
     "text": [
      "[I 2024-12-01 02:05:12,714] Trial 90 finished with value: -0.6322978269130413 and parameters: {'umap_n_neighbors': 26, 'umap_min_dist': 0.2469289102314685, 'umap_n_components': 5, 'umap_metric': 'cosine', 'Spectral_n_cluster': 11, 'Spectral_eigen_solver': 'arpack', 'Spectral_affinity': 'nearest_neighbors', 'Spectral_assign_labels': 'discretize', 'keybert_nr_repr_docs': 8, 'keybert_top_n_words': 7}. Best is trial 31 with value: -0.6928457735697937.\n"
     ]
    },
    {
     "data": {
      "application/vnd.jupyter.widget-view+json": {
       "model_id": "753b70d5f1374b45a537f5f933d5de75",
       "version_major": 2,
       "version_minor": 0
      },
      "text/plain": [
       "Batches:   0%|          | 0/256 [00:00<?, ?it/s]"
      ]
     },
     "metadata": {},
     "output_type": "display_data"
    },
    {
     "name": "stderr",
     "output_type": "stream",
     "text": [
      "[I 2024-12-01 02:06:26,053] Trial 91 finished with value: -0.6531408331872006 and parameters: {'umap_n_neighbors': 10, 'umap_min_dist': 0.9099704646928162, 'umap_n_components': 8, 'umap_metric': 'cosine', 'Spectral_n_cluster': 6, 'Spectral_eigen_solver': 'arpack', 'Spectral_affinity': 'nearest_neighbors', 'Spectral_assign_labels': 'kmeans', 'keybert_nr_repr_docs': 9, 'keybert_top_n_words': 8}. Best is trial 31 with value: -0.6928457735697937.\n"
     ]
    },
    {
     "data": {
      "application/vnd.jupyter.widget-view+json": {
       "model_id": "7a68a7cdb77a4210af1d3a2e02a0e881",
       "version_major": 2,
       "version_minor": 0
      },
      "text/plain": [
       "Batches:   0%|          | 0/256 [00:00<?, ?it/s]"
      ]
     },
     "metadata": {},
     "output_type": "display_data"
    },
    {
     "name": "stderr",
     "output_type": "stream",
     "text": [
      "[I 2024-12-01 02:07:36,899] Trial 92 finished with value: -0.6827862270690777 and parameters: {'umap_n_neighbors': 9, 'umap_min_dist': 0.5864068599160761, 'umap_n_components': 9, 'umap_metric': 'cosine', 'Spectral_n_cluster': 5, 'Spectral_eigen_solver': 'arpack', 'Spectral_affinity': 'nearest_neighbors', 'Spectral_assign_labels': 'kmeans', 'keybert_nr_repr_docs': 8, 'keybert_top_n_words': 8}. Best is trial 31 with value: -0.6928457735697937.\n"
     ]
    },
    {
     "data": {
      "application/vnd.jupyter.widget-view+json": {
       "model_id": "1d23ad92d10d4fb5aec3687e33d232c1",
       "version_major": 2,
       "version_minor": 0
      },
      "text/plain": [
       "Batches:   0%|          | 0/256 [00:00<?, ?it/s]"
      ]
     },
     "metadata": {},
     "output_type": "display_data"
    },
    {
     "name": "stderr",
     "output_type": "stream",
     "text": [
      "[I 2024-12-01 02:08:47,105] Trial 93 finished with value: -0.6357234051896762 and parameters: {'umap_n_neighbors': 9, 'umap_min_dist': 0.5489959821376956, 'umap_n_components': 9, 'umap_metric': 'cosine', 'Spectral_n_cluster': 7, 'Spectral_eigen_solver': 'arpack', 'Spectral_affinity': 'nearest_neighbors', 'Spectral_assign_labels': 'kmeans', 'keybert_nr_repr_docs': 8, 'keybert_top_n_words': 8}. Best is trial 31 with value: -0.6928457735697937.\n"
     ]
    },
    {
     "data": {
      "application/vnd.jupyter.widget-view+json": {
       "model_id": "ad8b7c457fe04b9fafbab2197a86d8b1",
       "version_major": 2,
       "version_minor": 0
      },
      "text/plain": [
       "Batches:   0%|          | 0/256 [00:00<?, ?it/s]"
      ]
     },
     "metadata": {},
     "output_type": "display_data"
    },
    {
     "name": "stderr",
     "output_type": "stream",
     "text": [
      "[I 2024-12-01 02:09:59,427] Trial 94 finished with value: -0.6791566789744532 and parameters: {'umap_n_neighbors': 11, 'umap_min_dist': 0.6464786687719645, 'umap_n_components': 10, 'umap_metric': 'cosine', 'Spectral_n_cluster': 5, 'Spectral_eigen_solver': 'arpack', 'Spectral_affinity': 'nearest_neighbors', 'Spectral_assign_labels': 'kmeans', 'keybert_nr_repr_docs': 9, 'keybert_top_n_words': 8}. Best is trial 31 with value: -0.6928457735697937.\n"
     ]
    },
    {
     "data": {
      "application/vnd.jupyter.widget-view+json": {
       "model_id": "fa15f62c2a674ecea9838234384dacb8",
       "version_major": 2,
       "version_minor": 0
      },
      "text/plain": [
       "Batches:   0%|          | 0/256 [00:00<?, ?it/s]"
      ]
     },
     "metadata": {},
     "output_type": "display_data"
    },
    {
     "name": "stderr",
     "output_type": "stream",
     "text": [
      "[I 2024-12-01 02:11:13,211] Trial 95 finished with value: -0.6425032029276023 and parameters: {'umap_n_neighbors': 11, 'umap_min_dist': 0.6491488074733025, 'umap_n_components': 12, 'umap_metric': 'cosine', 'Spectral_n_cluster': 8, 'Spectral_eigen_solver': 'arpack', 'Spectral_affinity': 'nearest_neighbors', 'Spectral_assign_labels': 'kmeans', 'keybert_nr_repr_docs': 9, 'keybert_top_n_words': 8}. Best is trial 31 with value: -0.6928457735697937.\n"
     ]
    },
    {
     "data": {
      "application/vnd.jupyter.widget-view+json": {
       "model_id": "555d3944faae4b1e874557ef4bc86003",
       "version_major": 2,
       "version_minor": 0
      },
      "text/plain": [
       "Batches:   0%|          | 0/256 [00:00<?, ?it/s]"
      ]
     },
     "metadata": {},
     "output_type": "display_data"
    },
    {
     "name": "stderr",
     "output_type": "stream",
     "text": [
      "[I 2024-12-01 02:12:26,389] Trial 96 finished with value: -0.6601430814002262 and parameters: {'umap_n_neighbors': 8, 'umap_min_dist': 0.6138480942878978, 'umap_n_components': 10, 'umap_metric': 'cosine', 'Spectral_n_cluster': 6, 'Spectral_eigen_solver': 'arpack', 'Spectral_affinity': 'nearest_neighbors', 'Spectral_assign_labels': 'kmeans', 'keybert_nr_repr_docs': 7, 'keybert_top_n_words': 8}. Best is trial 31 with value: -0.6928457735697937.\n"
     ]
    },
    {
     "data": {
      "application/vnd.jupyter.widget-view+json": {
       "model_id": "55d6c8f4289c42aea7ab8ab74451a950",
       "version_major": 2,
       "version_minor": 0
      },
      "text/plain": [
       "Batches:   0%|          | 0/256 [00:00<?, ?it/s]"
      ]
     },
     "metadata": {},
     "output_type": "display_data"
    },
    {
     "name": "stderr",
     "output_type": "stream",
     "text": [
      "[I 2024-12-01 02:13:37,897] Trial 97 finished with value: -0.6741223824748528 and parameters: {'umap_n_neighbors': 7, 'umap_min_dist': 0.6762047751189117, 'umap_n_components': 10, 'umap_metric': 'cosine', 'Spectral_n_cluster': 5, 'Spectral_eigen_solver': 'arpack', 'Spectral_affinity': 'nearest_neighbors', 'Spectral_assign_labels': 'kmeans', 'keybert_nr_repr_docs': 8, 'keybert_top_n_words': 9}. Best is trial 31 with value: -0.6928457735697937.\n"
     ]
    },
    {
     "data": {
      "application/vnd.jupyter.widget-view+json": {
       "model_id": "778913eccebb486db14f0514cb821b5c",
       "version_major": 2,
       "version_minor": 0
      },
      "text/plain": [
       "Batches:   0%|          | 0/256 [00:00<?, ?it/s]"
      ]
     },
     "metadata": {},
     "output_type": "display_data"
    },
    {
     "name": "stderr",
     "output_type": "stream",
     "text": [
      "[I 2024-12-01 02:14:50,492] Trial 98 finished with value: -0.6416855382902674 and parameters: {'umap_n_neighbors': 12, 'umap_min_dist': 0.7218024759278239, 'umap_n_components': 9, 'umap_metric': 'cosine', 'Spectral_n_cluster': 9, 'Spectral_eigen_solver': 'arpack', 'Spectral_affinity': 'nearest_neighbors', 'Spectral_assign_labels': 'kmeans', 'keybert_nr_repr_docs': 8, 'keybert_top_n_words': 8}. Best is trial 31 with value: -0.6928457735697937.\n"
     ]
    },
    {
     "data": {
      "application/vnd.jupyter.widget-view+json": {
       "model_id": "dbee362c8e3740e597e2e0c01a9739ec",
       "version_major": 2,
       "version_minor": 0
      },
      "text/plain": [
       "Batches:   0%|          | 0/256 [00:00<?, ?it/s]"
      ]
     },
     "metadata": {},
     "output_type": "display_data"
    },
    {
     "name": "stderr",
     "output_type": "stream",
     "text": [
      "[I 2024-12-01 02:15:59,901] Trial 99 finished with value: -0.647025650249237 and parameters: {'umap_n_neighbors': 7, 'umap_min_dist': 0.4934898640845587, 'umap_n_components': 11, 'umap_metric': 'cosine', 'Spectral_n_cluster': 7, 'Spectral_eigen_solver': 'arpack', 'Spectral_affinity': 'nearest_neighbors', 'Spectral_assign_labels': 'kmeans', 'keybert_nr_repr_docs': 9, 'keybert_top_n_words': 8}. Best is trial 31 with value: -0.6928457735697937.\n"
     ]
    },
    {
     "name": "stdout",
     "output_type": "stream",
     "text": [
      "Best Parameters: {'umap_n_neighbors': 17, 'umap_min_dist': 0.9099610238642805, 'umap_n_components': 4, 'umap_metric': 'cosine', 'Spectral_n_cluster': 5, 'Spectral_eigen_solver': 'arpack', 'Spectral_affinity': 'nearest_neighbors', 'Spectral_assign_labels': 'kmeans', 'keybert_nr_repr_docs': 9, 'keybert_top_n_words': 8}\n",
      "Best Score: -0.6928457735697937\n"
     ]
    }
   ],
   "source": [
    "# Define custom stop words\n",
    "custom_stop_words = [\"xxxx\", \"xx\",\"x\",\"xxxxx\", \"xxxxxxxx\", \"xxxxxxxxxxxx\"]\n",
    "vectorizer_model = CountVectorizer(stop_words=custom_stop_words)\n",
    "\n",
    "# Define objective function for Bayesian optimization\n",
    "def objective(trial):\n",
    "    # Sample hyperparameters from the search space\n",
    "    umap_n_neighbors = trial.suggest_int(\"umap_n_neighbors\", 5,30)\n",
    "    umap_min_dist = trial.suggest_float(\"umap_min_dist\", 0.1, 0.99)\n",
    "    umap_n_components = trial.suggest_int(\"umap_n_components\", 2,15)\n",
    "    umap_metric = trial.suggest_categorical(\n",
    "        \"umap_metric\",\n",
    "        [\"euclidean\", \"manhattan\", \"chebyshev\", \"cosine\", \"correlation\"],\n",
    "    )\n",
    "    Spectral_n_cluster = trial.suggest_int(\"Spectral_n_cluster\", 5, 50)\n",
    "    Spectral_eigen_solver = trial.suggest_categorical(\"Spectral_eigen_solver\", [\"arpack\",\"lobpcg\",\"amg\"])\n",
    "    Spectral_affinity = trial.suggest_categorical(\"Spectral_affinity\", [\"nearest_neighbors\",\"rbf\"])\n",
    "    Spectral_assign_labels = trial.suggest_categorical(\n",
    "        \"Spectral_assign_labels\",\n",
    "        [\"kmeans\", \"discretize\", \"cluster_qr\"],\n",
    "    )\n",
    "    keybert_nr_repr_docs = trial.suggest_int(\"keybert_nr_repr_docs\", 1, 10)\n",
    "    keybert_top_n_words = trial.suggest_int(\"keybert_top_n_words\", 5, 10)\n",
    "\n",
    "    # Define models with current hyperparameters\n",
    "    umap_model = UMAP(\n",
    "        n_neighbors=umap_n_neighbors,\n",
    "        min_dist=umap_min_dist,\n",
    "        n_components=umap_n_components,\n",
    "        metric=umap_metric,\n",
    "        random_state=42,\n",
    "    )\n",
    "    Spectral_model = SpectralClustering(n_clusters=Spectral_n_cluster,eigen_solver=Spectral_eigen_solver,affinity=Spectral_affinity,assign_labels=Spectral_assign_labels)\n",
    "    representation_model = KeyBERTInspired(\n",
    "        nr_repr_docs=keybert_nr_repr_docs, top_n_words=keybert_top_n_words\n",
    "    )\n",
    "\n",
    "    # Initialize BERTopic\n",
    "    topic_model = BERTopic(\n",
    "        embedding_model=AutoModel.from_pretrained(\"allenai/longformer-base-4096\"),\n",
    "        umap_model=umap_model,\n",
    "        hdbscan_model=Spectral_model,\n",
    "        representation_model=representation_model,\n",
    "        vectorizer_model=vectorizer_model,\n",
    "    )\n",
    "\n",
    "    # Fit the model\n",
    "    topics, probs = topic_model.fit_transform(documents)\n",
    "    topic_info = topic_model.get_topic_info()\n",
    "    topic_info_df = pd.DataFrame(topic_info)  # Convert topic_info to DataFrame\n",
    "    \n",
    "    # Restrict models generating only one topic\n",
    "    unique_topics = set(topics)\n",
    "    if (len(unique_topics) <= 1 or (topic_info_df[\"Topic\"] == -1).any()):\n",
    "        return float(\"inf\")  # Invalid configuration\n",
    "\n",
    "    # Calculate evaluation metrics\n",
    "    tokenized_documents = [doc.split() for doc in documents]\n",
    "    dictionary = Dictionary(tokenized_documents)\n",
    "    coherence_score = calculate_and_average_coherence_scores(topic_model, tokenized_documents, dictionary)\n",
    "    sentence_transformer_model = topic_model.embedding_model\n",
    "    topic_embeddings = topic_model.topic_embeddings_\n",
    "    document_embeddings = sentence_transformer_model.embedding_model.encode(documents, show_progress_bar=True)\n",
    "    # Use consistent `documents` for `get_document_info`\n",
    "    document_info = topic_model.get_document_info(documents)\n",
    "    topic_labels = document_info[\"Topic\"].values\n",
    "\n",
    "    diversity_score = calculate_topic_diversity(topic_model)\n",
    "    representativeness_score = calculate_topic_representativeness(topic_embeddings, document_embeddings)\n",
    "    silhouette = calculate_silhouette_score(document_embeddings, topic_labels)\n",
    "\n",
    "    # Combine metrics into a single score\n",
    "    final_score = -np.mean([coherence_score, diversity_score, representativeness_score, silhouette])\n",
    "    return final_score\n",
    "\n",
    "# Perform Bayesian Optimization\n",
    "study = optuna.create_study(direction=\"minimize\")\n",
    "study.optimize(objective, n_trials=100, n_jobs=1)\n",
    "\n",
    "# Best parameters and model\n",
    "best_params = study.best_params\n",
    "print(\"Best Parameters:\", best_params)\n",
    "print(\"Best Score:\", study.best_value)\n",
    "\n",
    "# Save the best model\n",
    "# Reinitialize with the best parameters if needed and save"
   ]
  },
  {
   "cell_type": "code",
   "execution_count": 32,
   "id": "96323f01-8826-4467-9b59-9d4db50e23bb",
   "metadata": {},
   "outputs": [
    {
     "name": "stderr",
     "output_type": "stream",
     "text": [
      "[I 2024-12-01 02:15:59,910] A new study created in memory with name: no-name-8b0be0a8-410f-43c2-97cf-3f6e84e24467\n"
     ]
    },
    {
     "data": {
      "application/vnd.jupyter.widget-view+json": {
       "model_id": "9517bf301c694621b8a269a876382ffa",
       "version_major": 2,
       "version_minor": 0
      },
      "text/plain": [
       "Batches:   0%|          | 0/256 [00:00<?, ?it/s]"
      ]
     },
     "metadata": {},
     "output_type": "display_data"
    },
    {
     "name": "stderr",
     "output_type": "stream",
     "text": [
      "[I 2024-12-01 02:17:10,488] Trial 0 finished with value: -0.5940774587733006 and parameters: {'umap_n_neighbors': 10, 'umap_min_dist': 0.1721594992984796, 'umap_n_components': 7, 'umap_metric': 'chebyshev', 'Spectral_n_cluster': 39, 'Spectral_eigen_solver': 'arpack', 'Spectral_affinity': 'nearest_neighbors', 'Spectral_assign_labels': 'kmeans', 'keybert_nr_repr_docs': 2, 'keybert_top_n_words': 6}. Best is trial 0 with value: -0.5940774587733006.\n"
     ]
    },
    {
     "data": {
      "application/vnd.jupyter.widget-view+json": {
       "model_id": "8c252cd8613147ffb3ae22b93490b4a3",
       "version_major": 2,
       "version_minor": 0
      },
      "text/plain": [
       "Batches:   0%|          | 0/256 [00:00<?, ?it/s]"
      ]
     },
     "metadata": {},
     "output_type": "display_data"
    },
    {
     "name": "stderr",
     "output_type": "stream",
     "text": [
      "[I 2024-12-01 02:18:26,542] Trial 1 finished with value: -0.6720251445548179 and parameters: {'umap_n_neighbors': 18, 'umap_min_dist': 0.8627179651576821, 'umap_n_components': 7, 'umap_metric': 'euclidean', 'Spectral_n_cluster': 5, 'Spectral_eigen_solver': 'amg', 'Spectral_affinity': 'rbf', 'Spectral_assign_labels': 'cluster_qr', 'keybert_nr_repr_docs': 5, 'keybert_top_n_words': 7}. Best is trial 1 with value: -0.6720251445548179.\n"
     ]
    },
    {
     "data": {
      "application/vnd.jupyter.widget-view+json": {
       "model_id": "2c01297f91204deeb9d13c46d64c1b9d",
       "version_major": 2,
       "version_minor": 0
      },
      "text/plain": [
       "Batches:   0%|          | 0/256 [00:00<?, ?it/s]"
      ]
     },
     "metadata": {},
     "output_type": "display_data"
    },
    {
     "name": "stderr",
     "output_type": "stream",
     "text": [
      "[I 2024-12-01 02:19:36,255] Trial 2 finished with value: -0.6405231505643684 and parameters: {'umap_n_neighbors': 7, 'umap_min_dist': 0.2471052874185152, 'umap_n_components': 7, 'umap_metric': 'euclidean', 'Spectral_n_cluster': 10, 'Spectral_eigen_solver': 'arpack', 'Spectral_affinity': 'nearest_neighbors', 'Spectral_assign_labels': 'discretize', 'keybert_nr_repr_docs': 5, 'keybert_top_n_words': 8}. Best is trial 1 with value: -0.6720251445548179.\n"
     ]
    },
    {
     "data": {
      "application/vnd.jupyter.widget-view+json": {
       "model_id": "e4c511f0c5944e059cb7e7416e23336c",
       "version_major": 2,
       "version_minor": 0
      },
      "text/plain": [
       "Batches:   0%|          | 0/256 [00:00<?, ?it/s]"
      ]
     },
     "metadata": {},
     "output_type": "display_data"
    },
    {
     "name": "stderr",
     "output_type": "stream",
     "text": [
      "[I 2024-12-01 02:20:57,335] Trial 3 finished with value: -0.5815713850485525 and parameters: {'umap_n_neighbors': 28, 'umap_min_dist': 0.6212224410618623, 'umap_n_components': 8, 'umap_metric': 'euclidean', 'Spectral_n_cluster': 43, 'Spectral_eigen_solver': 'arpack', 'Spectral_affinity': 'rbf', 'Spectral_assign_labels': 'discretize', 'keybert_nr_repr_docs': 2, 'keybert_top_n_words': 10}. Best is trial 1 with value: -0.6720251445548179.\n"
     ]
    },
    {
     "data": {
      "application/vnd.jupyter.widget-view+json": {
       "model_id": "bf10b175e9964005a5e16faf3256a808",
       "version_major": 2,
       "version_minor": 0
      },
      "text/plain": [
       "Batches:   0%|          | 0/256 [00:00<?, ?it/s]"
      ]
     },
     "metadata": {},
     "output_type": "display_data"
    },
    {
     "name": "stderr",
     "output_type": "stream",
     "text": [
      "[I 2024-12-01 02:22:14,931] Trial 4 finished with value: -0.5850839462380106 and parameters: {'umap_n_neighbors': 8, 'umap_min_dist': 0.4777033055681647, 'umap_n_components': 7, 'umap_metric': 'cosine', 'Spectral_n_cluster': 23, 'Spectral_eigen_solver': 'arpack', 'Spectral_affinity': 'rbf', 'Spectral_assign_labels': 'cluster_qr', 'keybert_nr_repr_docs': 7, 'keybert_top_n_words': 10}. Best is trial 1 with value: -0.6720251445548179.\n"
     ]
    },
    {
     "data": {
      "application/vnd.jupyter.widget-view+json": {
       "model_id": "d92bdf56c8c74781852c546837b926af",
       "version_major": 2,
       "version_minor": 0
      },
      "text/plain": [
       "Batches:   0%|          | 0/256 [00:00<?, ?it/s]"
      ]
     },
     "metadata": {},
     "output_type": "display_data"
    },
    {
     "name": "stderr",
     "output_type": "stream",
     "text": [
      "[I 2024-12-01 02:23:30,722] Trial 5 finished with value: -0.5945695225179382 and parameters: {'umap_n_neighbors': 26, 'umap_min_dist': 0.8413669820284584, 'umap_n_components': 9, 'umap_metric': 'correlation', 'Spectral_n_cluster': 35, 'Spectral_eigen_solver': 'lobpcg', 'Spectral_affinity': 'nearest_neighbors', 'Spectral_assign_labels': 'kmeans', 'keybert_nr_repr_docs': 10, 'keybert_top_n_words': 5}. Best is trial 1 with value: -0.6720251445548179.\n"
     ]
    },
    {
     "data": {
      "application/vnd.jupyter.widget-view+json": {
       "model_id": "c3a5c886a9d447a29f7d44d5a1ec6d4f",
       "version_major": 2,
       "version_minor": 0
      },
      "text/plain": [
       "Batches:   0%|          | 0/256 [00:00<?, ?it/s]"
      ]
     },
     "metadata": {},
     "output_type": "display_data"
    },
    {
     "name": "stderr",
     "output_type": "stream",
     "text": [
      "[I 2024-12-01 02:24:44,489] Trial 6 finished with value: -0.595251403760844 and parameters: {'umap_n_neighbors': 27, 'umap_min_dist': 0.9576542149390522, 'umap_n_components': 3, 'umap_metric': 'manhattan', 'Spectral_n_cluster': 24, 'Spectral_eigen_solver': 'amg', 'Spectral_affinity': 'nearest_neighbors', 'Spectral_assign_labels': 'discretize', 'keybert_nr_repr_docs': 9, 'keybert_top_n_words': 5}. Best is trial 1 with value: -0.6720251445548179.\n"
     ]
    },
    {
     "data": {
      "application/vnd.jupyter.widget-view+json": {
       "model_id": "7901ebb8588c4780aa1d88e482899ea5",
       "version_major": 2,
       "version_minor": 0
      },
      "text/plain": [
       "Batches:   0%|          | 0/256 [00:00<?, ?it/s]"
      ]
     },
     "metadata": {},
     "output_type": "display_data"
    },
    {
     "name": "stderr",
     "output_type": "stream",
     "text": [
      "[I 2024-12-01 02:26:03,466] Trial 7 finished with value: -0.6052575740236458 and parameters: {'umap_n_neighbors': 18, 'umap_min_dist': 0.15922312640660843, 'umap_n_components': 10, 'umap_metric': 'cosine', 'Spectral_n_cluster': 14, 'Spectral_eigen_solver': 'amg', 'Spectral_affinity': 'rbf', 'Spectral_assign_labels': 'cluster_qr', 'keybert_nr_repr_docs': 6, 'keybert_top_n_words': 8}. Best is trial 1 with value: -0.6720251445548179.\n"
     ]
    },
    {
     "data": {
      "application/vnd.jupyter.widget-view+json": {
       "model_id": "84642465839842af8db058abf5a40e49",
       "version_major": 2,
       "version_minor": 0
      },
      "text/plain": [
       "Batches:   0%|          | 0/256 [00:00<?, ?it/s]"
      ]
     },
     "metadata": {},
     "output_type": "display_data"
    },
    {
     "name": "stderr",
     "output_type": "stream",
     "text": [
      "[I 2024-12-01 02:27:15,394] Trial 8 finished with value: -0.5975869123839417 and parameters: {'umap_n_neighbors': 21, 'umap_min_dist': 0.6829716454494102, 'umap_n_components': 9, 'umap_metric': 'euclidean', 'Spectral_n_cluster': 21, 'Spectral_eigen_solver': 'lobpcg', 'Spectral_affinity': 'nearest_neighbors', 'Spectral_assign_labels': 'discretize', 'keybert_nr_repr_docs': 3, 'keybert_top_n_words': 9}. Best is trial 1 with value: -0.6720251445548179.\n"
     ]
    },
    {
     "data": {
      "application/vnd.jupyter.widget-view+json": {
       "model_id": "0f8e05366e024d2ebcc560166f599d45",
       "version_major": 2,
       "version_minor": 0
      },
      "text/plain": [
       "Batches:   0%|          | 0/256 [00:00<?, ?it/s]"
      ]
     },
     "metadata": {},
     "output_type": "display_data"
    },
    {
     "name": "stderr",
     "output_type": "stream",
     "text": [
      "[I 2024-12-01 02:28:28,057] Trial 9 finished with value: -0.5779217906999415 and parameters: {'umap_n_neighbors': 7, 'umap_min_dist': 0.19512691469425394, 'umap_n_components': 3, 'umap_metric': 'chebyshev', 'Spectral_n_cluster': 50, 'Spectral_eigen_solver': 'lobpcg', 'Spectral_affinity': 'rbf', 'Spectral_assign_labels': 'cluster_qr', 'keybert_nr_repr_docs': 3, 'keybert_top_n_words': 6}. Best is trial 1 with value: -0.6720251445548179.\n"
     ]
    },
    {
     "data": {
      "application/vnd.jupyter.widget-view+json": {
       "model_id": "838a3ea618044affb06461664efb6436",
       "version_major": 2,
       "version_minor": 0
      },
      "text/plain": [
       "Batches:   0%|          | 0/256 [00:00<?, ?it/s]"
      ]
     },
     "metadata": {},
     "output_type": "display_data"
    },
    {
     "name": "stderr",
     "output_type": "stream",
     "text": [
      "[I 2024-12-01 02:29:44,162] Trial 10 finished with value: -0.6920383694334449 and parameters: {'umap_n_neighbors': 13, 'umap_min_dist': 0.7991098637548104, 'umap_n_components': 15, 'umap_metric': 'manhattan', 'Spectral_n_cluster': 5, 'Spectral_eigen_solver': 'amg', 'Spectral_affinity': 'rbf', 'Spectral_assign_labels': 'cluster_qr', 'keybert_nr_repr_docs': 5, 'keybert_top_n_words': 7}. Best is trial 10 with value: -0.6920383694334449.\n"
     ]
    },
    {
     "data": {
      "application/vnd.jupyter.widget-view+json": {
       "model_id": "afcd3efa22ea4df2ae16518f1e60388b",
       "version_major": 2,
       "version_minor": 0
      },
      "text/plain": [
       "Batches:   0%|          | 0/256 [00:00<?, ?it/s]"
      ]
     },
     "metadata": {},
     "output_type": "display_data"
    },
    {
     "name": "stderr",
     "output_type": "stream",
     "text": [
      "[I 2024-12-01 02:31:04,259] Trial 11 finished with value: -0.6798348319004482 and parameters: {'umap_n_neighbors': 12, 'umap_min_dist': 0.8593574718456545, 'umap_n_components': 15, 'umap_metric': 'manhattan', 'Spectral_n_cluster': 5, 'Spectral_eigen_solver': 'amg', 'Spectral_affinity': 'rbf', 'Spectral_assign_labels': 'cluster_qr', 'keybert_nr_repr_docs': 5, 'keybert_top_n_words': 7}. Best is trial 10 with value: -0.6920383694334449.\n"
     ]
    },
    {
     "data": {
      "application/vnd.jupyter.widget-view+json": {
       "model_id": "9652248504fb4cb4986fb1500337c0e2",
       "version_major": 2,
       "version_minor": 0
      },
      "text/plain": [
       "Batches:   0%|          | 0/256 [00:00<?, ?it/s]"
      ]
     },
     "metadata": {},
     "output_type": "display_data"
    },
    {
     "name": "stderr",
     "output_type": "stream",
     "text": [
      "[I 2024-12-01 02:32:22,277] Trial 12 finished with value: -0.6771554630164504 and parameters: {'umap_n_neighbors': 13, 'umap_min_dist': 0.7556838368263539, 'umap_n_components': 15, 'umap_metric': 'manhattan', 'Spectral_n_cluster': 5, 'Spectral_eigen_solver': 'amg', 'Spectral_affinity': 'rbf', 'Spectral_assign_labels': 'cluster_qr', 'keybert_nr_repr_docs': 7, 'keybert_top_n_words': 7}. Best is trial 10 with value: -0.6920383694334449.\n"
     ]
    },
    {
     "data": {
      "application/vnd.jupyter.widget-view+json": {
       "model_id": "dd90bad0294c4e11b9e22a436ed4cdc7",
       "version_major": 2,
       "version_minor": 0
      },
      "text/plain": [
       "Batches:   0%|          | 0/256 [00:00<?, ?it/s]"
      ]
     },
     "metadata": {},
     "output_type": "display_data"
    },
    {
     "name": "stderr",
     "output_type": "stream",
     "text": [
      "[I 2024-12-01 02:33:38,903] Trial 13 finished with value: -0.6124730775390685 and parameters: {'umap_n_neighbors': 13, 'umap_min_dist': 0.4937849177600341, 'umap_n_components': 15, 'umap_metric': 'manhattan', 'Spectral_n_cluster': 15, 'Spectral_eigen_solver': 'amg', 'Spectral_affinity': 'rbf', 'Spectral_assign_labels': 'cluster_qr', 'keybert_nr_repr_docs': 4, 'keybert_top_n_words': 7}. Best is trial 10 with value: -0.6920383694334449.\n"
     ]
    },
    {
     "data": {
      "application/vnd.jupyter.widget-view+json": {
       "model_id": "f582b4ff3e1b44a0a61f46a023638482",
       "version_major": 2,
       "version_minor": 0
      },
      "text/plain": [
       "Batches:   0%|          | 0/256 [00:00<?, ?it/s]"
      ]
     },
     "metadata": {},
     "output_type": "display_data"
    },
    {
     "name": "stderr",
     "output_type": "stream",
     "text": [
      "[I 2024-12-01 02:34:58,857] Trial 14 finished with value: -0.60120434216206 and parameters: {'umap_n_neighbors': 14, 'umap_min_dist': 0.9676783077312517, 'umap_n_components': 12, 'umap_metric': 'manhattan', 'Spectral_n_cluster': 16, 'Spectral_eigen_solver': 'amg', 'Spectral_affinity': 'rbf', 'Spectral_assign_labels': 'cluster_qr', 'keybert_nr_repr_docs': 7, 'keybert_top_n_words': 6}. Best is trial 10 with value: -0.6920383694334449.\n"
     ]
    },
    {
     "data": {
      "application/vnd.jupyter.widget-view+json": {
       "model_id": "14bc8d0080e64ba39c2a2dfcc95b83e2",
       "version_major": 2,
       "version_minor": 0
      },
      "text/plain": [
       "Batches:   0%|          | 0/256 [00:00<?, ?it/s]"
      ]
     },
     "metadata": {},
     "output_type": "display_data"
    },
    {
     "name": "stderr",
     "output_type": "stream",
     "text": [
      "[I 2024-12-01 02:36:17,448] Trial 15 finished with value: -0.6028684833289691 and parameters: {'umap_n_neighbors': 22, 'umap_min_dist': 0.38532378585236476, 'umap_n_components': 13, 'umap_metric': 'manhattan', 'Spectral_n_cluster': 32, 'Spectral_eigen_solver': 'amg', 'Spectral_affinity': 'rbf', 'Spectral_assign_labels': 'cluster_qr', 'keybert_nr_repr_docs': 1, 'keybert_top_n_words': 8}. Best is trial 10 with value: -0.6920383694334449.\n"
     ]
    },
    {
     "data": {
      "application/vnd.jupyter.widget-view+json": {
       "model_id": "8e81f14e1cb745f682d517524469da70",
       "version_major": 2,
       "version_minor": 0
      },
      "text/plain": [
       "Batches:   0%|          | 0/256 [00:00<?, ?it/s]"
      ]
     },
     "metadata": {},
     "output_type": "display_data"
    },
    {
     "name": "stderr",
     "output_type": "stream",
     "text": [
      "[I 2024-12-01 02:37:36,455] Trial 16 finished with value: -0.6351445390538383 and parameters: {'umap_n_neighbors': 11, 'umap_min_dist': 0.8121946870976545, 'umap_n_components': 13, 'umap_metric': 'correlation', 'Spectral_n_cluster': 10, 'Spectral_eigen_solver': 'amg', 'Spectral_affinity': 'rbf', 'Spectral_assign_labels': 'kmeans', 'keybert_nr_repr_docs': 4, 'keybert_top_n_words': 9}. Best is trial 10 with value: -0.6920383694334449.\n"
     ]
    },
    {
     "data": {
      "application/vnd.jupyter.widget-view+json": {
       "model_id": "25b8e665e5c548bfa904a0da6ef08489",
       "version_major": 2,
       "version_minor": 0
      },
      "text/plain": [
       "Batches:   0%|          | 0/256 [00:00<?, ?it/s]"
      ]
     },
     "metadata": {},
     "output_type": "display_data"
    },
    {
     "name": "stderr",
     "output_type": "stream",
     "text": [
      "[I 2024-12-01 02:38:51,575] Trial 17 finished with value: -0.6128297746418265 and parameters: {'umap_n_neighbors': 5, 'umap_min_dist': 0.6868023998921795, 'umap_n_components': 11, 'umap_metric': 'manhattan', 'Spectral_n_cluster': 10, 'Spectral_eigen_solver': 'amg', 'Spectral_affinity': 'rbf', 'Spectral_assign_labels': 'cluster_qr', 'keybert_nr_repr_docs': 8, 'keybert_top_n_words': 6}. Best is trial 10 with value: -0.6920383694334449.\n"
     ]
    },
    {
     "data": {
      "application/vnd.jupyter.widget-view+json": {
       "model_id": "da14dc6fd3dc44bda2493d8685de6037",
       "version_major": 2,
       "version_minor": 0
      },
      "text/plain": [
       "Batches:   0%|          | 0/256 [00:00<?, ?it/s]"
      ]
     },
     "metadata": {},
     "output_type": "display_data"
    },
    {
     "name": "stderr",
     "output_type": "stream",
     "text": [
      "[I 2024-12-01 02:40:09,300] Trial 18 finished with value: -0.5874916595761912 and parameters: {'umap_n_neighbors': 16, 'umap_min_dist': 0.6025973357931051, 'umap_n_components': 14, 'umap_metric': 'manhattan', 'Spectral_n_cluster': 28, 'Spectral_eigen_solver': 'amg', 'Spectral_affinity': 'rbf', 'Spectral_assign_labels': 'cluster_qr', 'keybert_nr_repr_docs': 6, 'keybert_top_n_words': 7}. Best is trial 10 with value: -0.6920383694334449.\n"
     ]
    },
    {
     "data": {
      "application/vnd.jupyter.widget-view+json": {
       "model_id": "59134493f566438786afe7e59395dae3",
       "version_major": 2,
       "version_minor": 0
      },
      "text/plain": [
       "Batches:   0%|          | 0/256 [00:00<?, ?it/s]"
      ]
     },
     "metadata": {},
     "output_type": "display_data"
    },
    {
     "name": "stderr",
     "output_type": "stream",
     "text": [
      "[I 2024-12-01 02:41:22,905] Trial 19 finished with value: -0.6037968251251447 and parameters: {'umap_n_neighbors': 10, 'umap_min_dist': 0.9213366057894045, 'umap_n_components': 12, 'umap_metric': 'manhattan', 'Spectral_n_cluster': 18, 'Spectral_eigen_solver': 'lobpcg', 'Spectral_affinity': 'rbf', 'Spectral_assign_labels': 'kmeans', 'keybert_nr_repr_docs': 4, 'keybert_top_n_words': 9}. Best is trial 10 with value: -0.6920383694334449.\n"
     ]
    },
    {
     "data": {
      "application/vnd.jupyter.widget-view+json": {
       "model_id": "bb5e6e21e5904decaa5b35857719e7ae",
       "version_major": 2,
       "version_minor": 0
      },
      "text/plain": [
       "Batches:   0%|          | 0/256 [00:00<?, ?it/s]"
      ]
     },
     "metadata": {},
     "output_type": "display_data"
    },
    {
     "name": "stderr",
     "output_type": "stream",
     "text": [
      "[I 2024-12-01 02:42:38,527] Trial 20 finished with value: -0.6311082346760803 and parameters: {'umap_n_neighbors': 21, 'umap_min_dist': 0.7378635260354195, 'umap_n_components': 5, 'umap_metric': 'cosine', 'Spectral_n_cluster': 5, 'Spectral_eigen_solver': 'amg', 'Spectral_affinity': 'rbf', 'Spectral_assign_labels': 'cluster_qr', 'keybert_nr_repr_docs': 5, 'keybert_top_n_words': 8}. Best is trial 10 with value: -0.6920383694334449.\n"
     ]
    },
    {
     "data": {
      "application/vnd.jupyter.widget-view+json": {
       "model_id": "8b2ea6c50d2e42c9a65ef56cda9448e6",
       "version_major": 2,
       "version_minor": 0
      },
      "text/plain": [
       "Batches:   0%|          | 0/256 [00:00<?, ?it/s]"
      ]
     },
     "metadata": {},
     "output_type": "display_data"
    },
    {
     "name": "stderr",
     "output_type": "stream",
     "text": [
      "[I 2024-12-01 02:43:54,016] Trial 21 finished with value: -0.6566095083291374 and parameters: {'umap_n_neighbors': 13, 'umap_min_dist': 0.7841397828013221, 'umap_n_components': 15, 'umap_metric': 'manhattan', 'Spectral_n_cluster': 6, 'Spectral_eigen_solver': 'amg', 'Spectral_affinity': 'rbf', 'Spectral_assign_labels': 'cluster_qr', 'keybert_nr_repr_docs': 7, 'keybert_top_n_words': 7}. Best is trial 10 with value: -0.6920383694334449.\n"
     ]
    },
    {
     "data": {
      "application/vnd.jupyter.widget-view+json": {
       "model_id": "39da78592abc40e3921ccd33135edfe7",
       "version_major": 2,
       "version_minor": 0
      },
      "text/plain": [
       "Batches:   0%|          | 0/256 [00:00<?, ?it/s]"
      ]
     },
     "metadata": {},
     "output_type": "display_data"
    },
    {
     "name": "stderr",
     "output_type": "stream",
     "text": [
      "[I 2024-12-01 02:45:12,288] Trial 22 finished with value: -0.6171422615200192 and parameters: {'umap_n_neighbors': 15, 'umap_min_dist': 0.8702107536775509, 'umap_n_components': 15, 'umap_metric': 'manhattan', 'Spectral_n_cluster': 11, 'Spectral_eigen_solver': 'amg', 'Spectral_affinity': 'rbf', 'Spectral_assign_labels': 'cluster_qr', 'keybert_nr_repr_docs': 8, 'keybert_top_n_words': 7}. Best is trial 10 with value: -0.6920383694334449.\n"
     ]
    },
    {
     "data": {
      "application/vnd.jupyter.widget-view+json": {
       "model_id": "5e17c45f540e4d859a79cb37886a5b16",
       "version_major": 2,
       "version_minor": 0
      },
      "text/plain": [
       "Batches:   0%|          | 0/256 [00:00<?, ?it/s]"
      ]
     },
     "metadata": {},
     "output_type": "display_data"
    },
    {
     "name": "stderr",
     "output_type": "stream",
     "text": [
      "[I 2024-12-01 02:46:28,019] Trial 23 finished with value: -0.634086379559442 and parameters: {'umap_n_neighbors': 12, 'umap_min_dist': 0.7412805219399864, 'umap_n_components': 14, 'umap_metric': 'manhattan', 'Spectral_n_cluster': 7, 'Spectral_eigen_solver': 'amg', 'Spectral_affinity': 'rbf', 'Spectral_assign_labels': 'cluster_qr', 'keybert_nr_repr_docs': 6, 'keybert_top_n_words': 6}. Best is trial 10 with value: -0.6920383694334449.\n"
     ]
    },
    {
     "data": {
      "application/vnd.jupyter.widget-view+json": {
       "model_id": "422d344cf39e44d6bfb63c751f8f7532",
       "version_major": 2,
       "version_minor": 0
      },
      "text/plain": [
       "Batches:   0%|          | 0/256 [00:00<?, ?it/s]"
      ]
     },
     "metadata": {},
     "output_type": "display_data"
    },
    {
     "name": "stderr",
     "output_type": "stream",
     "text": [
      "[I 2024-12-01 02:47:45,733] Trial 24 finished with value: -0.6041092433339788 and parameters: {'umap_n_neighbors': 16, 'umap_min_dist': 0.6184726707764723, 'umap_n_components': 13, 'umap_metric': 'correlation', 'Spectral_n_cluster': 13, 'Spectral_eigen_solver': 'amg', 'Spectral_affinity': 'rbf', 'Spectral_assign_labels': 'cluster_qr', 'keybert_nr_repr_docs': 8, 'keybert_top_n_words': 7}. Best is trial 10 with value: -0.6920383694334449.\n"
     ]
    },
    {
     "data": {
      "application/vnd.jupyter.widget-view+json": {
       "model_id": "45be9113072f4d44b86d804620e4bf1b",
       "version_major": 2,
       "version_minor": 0
      },
      "text/plain": [
       "Batches:   0%|          | 0/256 [00:00<?, ?it/s]"
      ]
     },
     "metadata": {},
     "output_type": "display_data"
    },
    {
     "name": "stderr",
     "output_type": "stream",
     "text": [
      "[I 2024-12-01 02:49:03,691] Trial 25 finished with value: -0.6106665467871013 and parameters: {'umap_n_neighbors': 9, 'umap_min_dist': 0.9021534823058158, 'umap_n_components': 14, 'umap_metric': 'chebyshev', 'Spectral_n_cluster': 18, 'Spectral_eigen_solver': 'amg', 'Spectral_affinity': 'rbf', 'Spectral_assign_labels': 'cluster_qr', 'keybert_nr_repr_docs': 6, 'keybert_top_n_words': 8}. Best is trial 10 with value: -0.6920383694334449.\n"
     ]
    },
    {
     "data": {
      "application/vnd.jupyter.widget-view+json": {
       "model_id": "bb2e7c6b10d8495b84a248f44c00c54f",
       "version_major": 2,
       "version_minor": 0
      },
      "text/plain": [
       "Batches:   0%|          | 0/256 [00:00<?, ?it/s]"
      ]
     },
     "metadata": {},
     "output_type": "display_data"
    },
    {
     "name": "stderr",
     "output_type": "stream",
     "text": [
      "[I 2024-12-01 02:50:17,221] Trial 26 finished with value: -0.6264908038336348 and parameters: {'umap_n_neighbors': 19, 'umap_min_dist': 0.7703445773408037, 'umap_n_components': 11, 'umap_metric': 'manhattan', 'Spectral_n_cluster': 8, 'Spectral_eigen_solver': 'amg', 'Spectral_affinity': 'nearest_neighbors', 'Spectral_assign_labels': 'cluster_qr', 'keybert_nr_repr_docs': 7, 'keybert_top_n_words': 6}. Best is trial 10 with value: -0.6920383694334449.\n"
     ]
    },
    {
     "data": {
      "application/vnd.jupyter.widget-view+json": {
       "model_id": "5d0216be41274d24a4fa8553945c0a5a",
       "version_major": 2,
       "version_minor": 0
      },
      "text/plain": [
       "Batches:   0%|          | 0/256 [00:00<?, ?it/s]"
      ]
     },
     "metadata": {},
     "output_type": "display_data"
    },
    {
     "name": "stderr",
     "output_type": "stream",
     "text": [
      "[I 2024-12-01 02:51:31,171] Trial 27 finished with value: -0.6776945733457653 and parameters: {'umap_n_neighbors': 5, 'umap_min_dist': 0.6874616756879346, 'umap_n_components': 15, 'umap_metric': 'manhattan', 'Spectral_n_cluster': 5, 'Spectral_eigen_solver': 'amg', 'Spectral_affinity': 'rbf', 'Spectral_assign_labels': 'kmeans', 'keybert_nr_repr_docs': 5, 'keybert_top_n_words': 7}. Best is trial 10 with value: -0.6920383694334449.\n"
     ]
    },
    {
     "data": {
      "application/vnd.jupyter.widget-view+json": {
       "model_id": "72aff7226513412cb0bfadaa3a41b181",
       "version_major": 2,
       "version_minor": 0
      },
      "text/plain": [
       "Batches:   0%|          | 0/256 [00:00<?, ?it/s]"
      ]
     },
     "metadata": {},
     "output_type": "display_data"
    },
    {
     "name": "stderr",
     "output_type": "stream",
     "text": [
      "[I 2024-12-01 02:52:39,797] Trial 28 finished with value: -0.6225326771019517 and parameters: {'umap_n_neighbors': 5, 'umap_min_dist': 0.5399817564214318, 'umap_n_components': 12, 'umap_metric': 'manhattan', 'Spectral_n_cluster': 20, 'Spectral_eigen_solver': 'lobpcg', 'Spectral_affinity': 'rbf', 'Spectral_assign_labels': 'kmeans', 'keybert_nr_repr_docs': 3, 'keybert_top_n_words': 5}. Best is trial 10 with value: -0.6920383694334449.\n"
     ]
    },
    {
     "data": {
      "application/vnd.jupyter.widget-view+json": {
       "model_id": "9cf372a5723d4dee8b4e49890a00e6ec",
       "version_major": 2,
       "version_minor": 0
      },
      "text/plain": [
       "Batches:   0%|          | 0/256 [00:00<?, ?it/s]"
      ]
     },
     "metadata": {},
     "output_type": "display_data"
    },
    {
     "name": "stderr",
     "output_type": "stream",
     "text": [
      "[I 2024-12-01 02:53:51,942] Trial 29 finished with value: -0.619886618150011 and parameters: {'umap_n_neighbors': 10, 'umap_min_dist': 0.6775220242285193, 'umap_n_components': 5, 'umap_metric': 'chebyshev', 'Spectral_n_cluster': 12, 'Spectral_eigen_solver': 'arpack', 'Spectral_affinity': 'nearest_neighbors', 'Spectral_assign_labels': 'kmeans', 'keybert_nr_repr_docs': 4, 'keybert_top_n_words': 8}. Best is trial 10 with value: -0.6920383694334449.\n"
     ]
    },
    {
     "data": {
      "application/vnd.jupyter.widget-view+json": {
       "model_id": "21ec8df17fce4e478e8aeace26400246",
       "version_major": 2,
       "version_minor": 0
      },
      "text/plain": [
       "Batches:   0%|          | 0/256 [00:00<?, ?it/s]"
      ]
     },
     "metadata": {},
     "output_type": "display_data"
    },
    {
     "name": "stderr",
     "output_type": "stream",
     "text": [
      "[I 2024-12-01 02:55:07,878] Trial 30 finished with value: -0.6033300338042804 and parameters: {'umap_n_neighbors': 7, 'umap_min_dist': 0.3834924075960011, 'umap_n_components': 14, 'umap_metric': 'manhattan', 'Spectral_n_cluster': 28, 'Spectral_eigen_solver': 'arpack', 'Spectral_affinity': 'rbf', 'Spectral_assign_labels': 'kmeans', 'keybert_nr_repr_docs': 5, 'keybert_top_n_words': 7}. Best is trial 10 with value: -0.6920383694334449.\n"
     ]
    },
    {
     "data": {
      "application/vnd.jupyter.widget-view+json": {
       "model_id": "e7ba945e0eb840429afe57bce5a581ae",
       "version_major": 2,
       "version_minor": 0
      },
      "text/plain": [
       "Batches:   0%|          | 0/256 [00:00<?, ?it/s]"
      ]
     },
     "metadata": {},
     "output_type": "display_data"
    },
    {
     "name": "stderr",
     "output_type": "stream",
     "text": [
      "[I 2024-12-01 02:56:21,483] Trial 31 finished with value: -0.6333952502339817 and parameters: {'umap_n_neighbors': 12, 'umap_min_dist': 0.7239938438018503, 'umap_n_components': 15, 'umap_metric': 'manhattan', 'Spectral_n_cluster': 8, 'Spectral_eigen_solver': 'amg', 'Spectral_affinity': 'rbf', 'Spectral_assign_labels': 'kmeans', 'keybert_nr_repr_docs': 5, 'keybert_top_n_words': 7}. Best is trial 10 with value: -0.6920383694334449.\n"
     ]
    },
    {
     "data": {
      "application/vnd.jupyter.widget-view+json": {
       "model_id": "269de79671bb44b99d20f4f79166cebc",
       "version_major": 2,
       "version_minor": 0
      },
      "text/plain": [
       "Batches:   0%|          | 0/256 [00:00<?, ?it/s]"
      ]
     },
     "metadata": {},
     "output_type": "display_data"
    },
    {
     "name": "stderr",
     "output_type": "stream",
     "text": [
      "[I 2024-12-01 02:57:37,250] Trial 32 finished with value: -0.679051624171976 and parameters: {'umap_n_neighbors': 15, 'umap_min_dist': 0.8178821375897891, 'umap_n_components': 15, 'umap_metric': 'manhattan', 'Spectral_n_cluster': 5, 'Spectral_eigen_solver': 'amg', 'Spectral_affinity': 'rbf', 'Spectral_assign_labels': 'kmeans', 'keybert_nr_repr_docs': 6, 'keybert_top_n_words': 7}. Best is trial 10 with value: -0.6920383694334449.\n"
     ]
    },
    {
     "data": {
      "application/vnd.jupyter.widget-view+json": {
       "model_id": "fb83bc96102c40868b9dc5f0fd21b56b",
       "version_major": 2,
       "version_minor": 0
      },
      "text/plain": [
       "Batches:   0%|          | 0/256 [00:00<?, ?it/s]"
      ]
     },
     "metadata": {},
     "output_type": "display_data"
    },
    {
     "name": "stderr",
     "output_type": "stream",
     "text": [
      "[I 2024-12-01 02:58:51,694] Trial 33 finished with value: -0.6311553761359827 and parameters: {'umap_n_neighbors': 16, 'umap_min_dist': 0.8238826377448182, 'umap_n_components': 13, 'umap_metric': 'manhattan', 'Spectral_n_cluster': 8, 'Spectral_eigen_solver': 'amg', 'Spectral_affinity': 'rbf', 'Spectral_assign_labels': 'kmeans', 'keybert_nr_repr_docs': 5, 'keybert_top_n_words': 6}. Best is trial 10 with value: -0.6920383694334449.\n"
     ]
    },
    {
     "data": {
      "application/vnd.jupyter.widget-view+json": {
       "model_id": "40c132cd11504a7180cd9b65f622e3f7",
       "version_major": 2,
       "version_minor": 0
      },
      "text/plain": [
       "Batches:   0%|          | 0/256 [00:00<?, ?it/s]"
      ]
     },
     "metadata": {},
     "output_type": "display_data"
    },
    {
     "name": "stderr",
     "output_type": "stream",
     "text": [
      "[I 2024-12-01 03:00:07,138] Trial 34 finished with value: -0.6790907262332055 and parameters: {'umap_n_neighbors': 19, 'umap_min_dist': 0.8902141754707084, 'umap_n_components': 14, 'umap_metric': 'euclidean', 'Spectral_n_cluster': 5, 'Spectral_eigen_solver': 'amg', 'Spectral_affinity': 'rbf', 'Spectral_assign_labels': 'kmeans', 'keybert_nr_repr_docs': 6, 'keybert_top_n_words': 7}. Best is trial 10 with value: -0.6920383694334449.\n"
     ]
    },
    {
     "data": {
      "application/vnd.jupyter.widget-view+json": {
       "model_id": "d5ffd0b3ccfb4ca2b1d62bdb53230123",
       "version_major": 2,
       "version_minor": 0
      },
      "text/plain": [
       "Batches:   0%|          | 0/256 [00:00<?, ?it/s]"
      ]
     },
     "metadata": {},
     "output_type": "display_data"
    },
    {
     "name": "stderr",
     "output_type": "stream",
     "text": [
      "[I 2024-12-01 03:01:23,694] Trial 35 finished with value: -0.6199736262317082 and parameters: {'umap_n_neighbors': 23, 'umap_min_dist': 0.9033106058573038, 'umap_n_components': 14, 'umap_metric': 'euclidean', 'Spectral_n_cluster': 10, 'Spectral_eigen_solver': 'arpack', 'Spectral_affinity': 'rbf', 'Spectral_assign_labels': 'kmeans', 'keybert_nr_repr_docs': 6, 'keybert_top_n_words': 8}. Best is trial 10 with value: -0.6920383694334449.\n"
     ]
    },
    {
     "data": {
      "application/vnd.jupyter.widget-view+json": {
       "model_id": "08fae511b6e14e10b0b26be2a0023a4a",
       "version_major": 2,
       "version_minor": 0
      },
      "text/plain": [
       "Batches:   0%|          | 0/256 [00:00<?, ?it/s]"
      ]
     },
     "metadata": {},
     "output_type": "display_data"
    },
    {
     "name": "stderr",
     "output_type": "stream",
     "text": [
      "[I 2024-12-01 03:02:34,327] Trial 36 finished with value: -0.6457762971561021 and parameters: {'umap_n_neighbors': 19, 'umap_min_dist': 0.8645890285916136, 'umap_n_components': 11, 'umap_metric': 'euclidean', 'Spectral_n_cluster': 8, 'Spectral_eigen_solver': 'amg', 'Spectral_affinity': 'nearest_neighbors', 'Spectral_assign_labels': 'discretize', 'keybert_nr_repr_docs': 4, 'keybert_top_n_words': 6}. Best is trial 10 with value: -0.6920383694334449.\n"
     ]
    },
    {
     "data": {
      "application/vnd.jupyter.widget-view+json": {
       "model_id": "6c943d8f6e7e4d7297264becb745bee1",
       "version_major": 2,
       "version_minor": 0
      },
      "text/plain": [
       "Batches:   0%|          | 0/256 [00:00<?, ?it/s]"
      ]
     },
     "metadata": {},
     "output_type": "display_data"
    },
    {
     "name": "stderr",
     "output_type": "stream",
     "text": [
      "[I 2024-12-01 03:03:55,539] Trial 37 finished with value: -0.5890854007192113 and parameters: {'umap_n_neighbors': 25, 'umap_min_dist': 0.9808699809965075, 'umap_n_components': 13, 'umap_metric': 'euclidean', 'Spectral_n_cluster': 45, 'Spectral_eigen_solver': 'amg', 'Spectral_affinity': 'rbf', 'Spectral_assign_labels': 'kmeans', 'keybert_nr_repr_docs': 6, 'keybert_top_n_words': 7}. Best is trial 10 with value: -0.6920383694334449.\n"
     ]
    },
    {
     "data": {
      "application/vnd.jupyter.widget-view+json": {
       "model_id": "36610a280612496abdf9dba3a806667b",
       "version_major": 2,
       "version_minor": 0
      },
      "text/plain": [
       "Batches:   0%|          | 0/256 [00:00<?, ?it/s]"
      ]
     },
     "metadata": {},
     "output_type": "display_data"
    },
    {
     "name": "stderr",
     "output_type": "stream",
     "text": [
      "[I 2024-12-01 03:05:18,194] Trial 38 finished with value: -0.5924259799287399 and parameters: {'umap_n_neighbors': 18, 'umap_min_dist': 0.9441027266351527, 'umap_n_components': 14, 'umap_metric': 'euclidean', 'Spectral_n_cluster': 39, 'Spectral_eigen_solver': 'arpack', 'Spectral_affinity': 'rbf', 'Spectral_assign_labels': 'discretize', 'keybert_nr_repr_docs': 2, 'keybert_top_n_words': 8}. Best is trial 10 with value: -0.6920383694334449.\n"
     ]
    },
    {
     "data": {
      "application/vnd.jupyter.widget-view+json": {
       "model_id": "ad4d065af4274cae91a0ec5bfc3437ba",
       "version_major": 2,
       "version_minor": 0
      },
      "text/plain": [
       "Batches:   0%|          | 0/256 [00:00<?, ?it/s]"
      ]
     },
     "metadata": {},
     "output_type": "display_data"
    },
    {
     "name": "stderr",
     "output_type": "stream",
     "text": [
      "[I 2024-12-01 03:06:33,959] Trial 39 finished with value: -0.6262958937720483 and parameters: {'umap_n_neighbors': 17, 'umap_min_dist': 0.8099243218997441, 'umap_n_components': 10, 'umap_metric': 'correlation', 'Spectral_n_cluster': 12, 'Spectral_eigen_solver': 'amg', 'Spectral_affinity': 'nearest_neighbors', 'Spectral_assign_labels': 'kmeans', 'keybert_nr_repr_docs': 9, 'keybert_top_n_words': 7}. Best is trial 10 with value: -0.6920383694334449.\n"
     ]
    },
    {
     "data": {
      "application/vnd.jupyter.widget-view+json": {
       "model_id": "88735d4bd0cb4edd91dfdc9df2125536",
       "version_major": 2,
       "version_minor": 0
      },
      "text/plain": [
       "Batches:   0%|          | 0/256 [00:00<?, ?it/s]"
      ]
     },
     "metadata": {},
     "output_type": "display_data"
    },
    {
     "name": "stderr",
     "output_type": "stream",
     "text": [
      "[I 2024-12-01 03:07:47,177] Trial 40 finished with value: -0.6092099585143405 and parameters: {'umap_n_neighbors': 30, 'umap_min_dist': 0.8631203401566341, 'umap_n_components': 2, 'umap_metric': 'cosine', 'Spectral_n_cluster': 14, 'Spectral_eigen_solver': 'lobpcg', 'Spectral_affinity': 'rbf', 'Spectral_assign_labels': 'kmeans', 'keybert_nr_repr_docs': 3, 'keybert_top_n_words': 5}. Best is trial 10 with value: -0.6920383694334449.\n"
     ]
    },
    {
     "data": {
      "application/vnd.jupyter.widget-view+json": {
       "model_id": "41d0f7b12b6c49d9b176c86294217606",
       "version_major": 2,
       "version_minor": 0
      },
      "text/plain": [
       "Batches:   0%|          | 0/256 [00:00<?, ?it/s]"
      ]
     },
     "metadata": {},
     "output_type": "display_data"
    },
    {
     "name": "stderr",
     "output_type": "stream",
     "text": [
      "[I 2024-12-01 03:09:04,216] Trial 41 finished with value: -0.6792628170272269 and parameters: {'umap_n_neighbors': 15, 'umap_min_dist': 0.6837980661587875, 'umap_n_components': 15, 'umap_metric': 'euclidean', 'Spectral_n_cluster': 5, 'Spectral_eigen_solver': 'amg', 'Spectral_affinity': 'rbf', 'Spectral_assign_labels': 'kmeans', 'keybert_nr_repr_docs': 5, 'keybert_top_n_words': 7}. Best is trial 10 with value: -0.6920383694334449.\n"
     ]
    },
    {
     "data": {
      "application/vnd.jupyter.widget-view+json": {
       "model_id": "a74be53b28b1497aa979230dd0b32ab0",
       "version_major": 2,
       "version_minor": 0
      },
      "text/plain": [
       "Batches:   0%|          | 0/256 [00:00<?, ?it/s]"
      ]
     },
     "metadata": {},
     "output_type": "display_data"
    },
    {
     "name": "stderr",
     "output_type": "stream",
     "text": [
      "[I 2024-12-01 03:10:19,888] Trial 42 finished with value: -0.6346474999734322 and parameters: {'umap_n_neighbors': 15, 'umap_min_dist': 0.836479492987434, 'umap_n_components': 15, 'umap_metric': 'euclidean', 'Spectral_n_cluster': 7, 'Spectral_eigen_solver': 'amg', 'Spectral_affinity': 'rbf', 'Spectral_assign_labels': 'kmeans', 'keybert_nr_repr_docs': 5, 'keybert_top_n_words': 7}. Best is trial 10 with value: -0.6920383694334449.\n"
     ]
    },
    {
     "data": {
      "application/vnd.jupyter.widget-view+json": {
       "model_id": "66671876fabf46c0b352efc29f39f21d",
       "version_major": 2,
       "version_minor": 0
      },
      "text/plain": [
       "Batches:   0%|          | 0/256 [00:00<?, ?it/s]"
      ]
     },
     "metadata": {},
     "output_type": "display_data"
    },
    {
     "name": "stderr",
     "output_type": "stream",
     "text": [
      "[I 2024-12-01 03:11:38,555] Trial 43 finished with value: -0.6749249333483722 and parameters: {'umap_n_neighbors': 14, 'umap_min_dist': 0.7852436574439425, 'umap_n_components': 14, 'umap_metric': 'euclidean', 'Spectral_n_cluster': 5, 'Spectral_eigen_solver': 'amg', 'Spectral_affinity': 'rbf', 'Spectral_assign_labels': 'kmeans', 'keybert_nr_repr_docs': 6, 'keybert_top_n_words': 7}. Best is trial 10 with value: -0.6920383694334449.\n"
     ]
    },
    {
     "data": {
      "application/vnd.jupyter.widget-view+json": {
       "model_id": "20e9aca14ac64124954c317c114894ff",
       "version_major": 2,
       "version_minor": 0
      },
      "text/plain": [
       "Batches:   0%|          | 0/256 [00:00<?, ?it/s]"
      ]
     },
     "metadata": {},
     "output_type": "display_data"
    },
    {
     "name": "stderr",
     "output_type": "stream",
     "text": [
      "[I 2024-12-01 03:12:56,775] Trial 44 finished with value: -0.6279651489924492 and parameters: {'umap_n_neighbors': 19, 'umap_min_dist': 0.8998027253946408, 'umap_n_components': 15, 'umap_metric': 'euclidean', 'Spectral_n_cluster': 9, 'Spectral_eigen_solver': 'amg', 'Spectral_affinity': 'rbf', 'Spectral_assign_labels': 'discretize', 'keybert_nr_repr_docs': 5, 'keybert_top_n_words': 6}. Best is trial 10 with value: -0.6920383694334449.\n"
     ]
    },
    {
     "data": {
      "application/vnd.jupyter.widget-view+json": {
       "model_id": "24a320a26d0c4325aea64c040ab66683",
       "version_major": 2,
       "version_minor": 0
      },
      "text/plain": [
       "Batches:   0%|          | 0/256 [00:00<?, ?it/s]"
      ]
     },
     "metadata": {},
     "output_type": "display_data"
    },
    {
     "name": "stderr",
     "output_type": "stream",
     "text": [
      "[I 2024-12-01 03:14:15,457] Trial 45 finished with value: -0.6096753081604138 and parameters: {'umap_n_neighbors': 17, 'umap_min_dist': 0.5813159286631112, 'umap_n_components': 13, 'umap_metric': 'euclidean', 'Spectral_n_cluster': 16, 'Spectral_eigen_solver': 'amg', 'Spectral_affinity': 'rbf', 'Spectral_assign_labels': 'kmeans', 'keybert_nr_repr_docs': 7, 'keybert_top_n_words': 8}. Best is trial 10 with value: -0.6920383694334449.\n"
     ]
    },
    {
     "data": {
      "application/vnd.jupyter.widget-view+json": {
       "model_id": "d9aadf994e064ca9aad96c5ae0a668eb",
       "version_major": 2,
       "version_minor": 0
      },
      "text/plain": [
       "Batches:   0%|          | 0/256 [00:00<?, ?it/s]"
      ]
     },
     "metadata": {},
     "output_type": "display_data"
    },
    {
     "name": "stderr",
     "output_type": "stream",
     "text": [
      "[I 2024-12-01 03:15:35,437] Trial 46 finished with value: -0.5986758482542691 and parameters: {'umap_n_neighbors': 14, 'umap_min_dist': 0.6742020014536794, 'umap_n_components': 12, 'umap_metric': 'chebyshev', 'Spectral_n_cluster': 25, 'Spectral_eigen_solver': 'amg', 'Spectral_affinity': 'rbf', 'Spectral_assign_labels': 'kmeans', 'keybert_nr_repr_docs': 4, 'keybert_top_n_words': 7}. Best is trial 10 with value: -0.6920383694334449.\n"
     ]
    },
    {
     "data": {
      "application/vnd.jupyter.widget-view+json": {
       "model_id": "6baca0b1ba334019982c48bf0b30d286",
       "version_major": 2,
       "version_minor": 0
      },
      "text/plain": [
       "Batches:   0%|          | 0/256 [00:00<?, ?it/s]"
      ]
     },
     "metadata": {},
     "output_type": "display_data"
    },
    {
     "name": "stderr",
     "output_type": "stream",
     "text": [
      "[I 2024-12-01 03:16:46,562] Trial 47 finished with value: -0.6702127186044844 and parameters: {'umap_n_neighbors': 12, 'umap_min_dist': 0.11222274141629807, 'umap_n_components': 14, 'umap_metric': 'cosine', 'Spectral_n_cluster': 5, 'Spectral_eigen_solver': 'amg', 'Spectral_affinity': 'nearest_neighbors', 'Spectral_assign_labels': 'kmeans', 'keybert_nr_repr_docs': 6, 'keybert_top_n_words': 8}. Best is trial 10 with value: -0.6920383694334449.\n"
     ]
    },
    {
     "data": {
      "application/vnd.jupyter.widget-view+json": {
       "model_id": "1be1a60c51a346828efeb55ef1134a55",
       "version_major": 2,
       "version_minor": 0
      },
      "text/plain": [
       "Batches:   0%|          | 0/256 [00:00<?, ?it/s]"
      ]
     },
     "metadata": {},
     "output_type": "display_data"
    },
    {
     "name": "stderr",
     "output_type": "stream",
     "text": [
      "[I 2024-12-01 03:17:57,891] Trial 48 finished with value: -0.6184402895179897 and parameters: {'umap_n_neighbors': 11, 'umap_min_dist': 0.7149036297159923, 'umap_n_components': 8, 'umap_metric': 'euclidean', 'Spectral_n_cluster': 12, 'Spectral_eigen_solver': 'lobpcg', 'Spectral_affinity': 'rbf', 'Spectral_assign_labels': 'discretize', 'keybert_nr_repr_docs': 7, 'keybert_top_n_words': 10}. Best is trial 10 with value: -0.6920383694334449.\n"
     ]
    },
    {
     "data": {
      "application/vnd.jupyter.widget-view+json": {
       "model_id": "dc3c78c4659547d581b7ce624fa312f0",
       "version_major": 2,
       "version_minor": 0
      },
      "text/plain": [
       "Batches:   0%|          | 0/256 [00:00<?, ?it/s]"
      ]
     },
     "metadata": {},
     "output_type": "display_data"
    },
    {
     "name": "stderr",
     "output_type": "stream",
     "text": [
      "[I 2024-12-01 03:19:18,992] Trial 49 finished with value: -0.6149338853163459 and parameters: {'umap_n_neighbors': 20, 'umap_min_dist': 0.9421992967194176, 'umap_n_components': 15, 'umap_metric': 'euclidean', 'Spectral_n_cluster': 10, 'Spectral_eigen_solver': 'amg', 'Spectral_affinity': 'rbf', 'Spectral_assign_labels': 'cluster_qr', 'keybert_nr_repr_docs': 4, 'keybert_top_n_words': 7}. Best is trial 10 with value: -0.6920383694334449.\n"
     ]
    },
    {
     "data": {
      "application/vnd.jupyter.widget-view+json": {
       "model_id": "28d7ca594b364b568a242b3d9f81203b",
       "version_major": 2,
       "version_minor": 0
      },
      "text/plain": [
       "Batches:   0%|          | 0/256 [00:00<?, ?it/s]"
      ]
     },
     "metadata": {},
     "output_type": "display_data"
    },
    {
     "name": "stderr",
     "output_type": "stream",
     "text": [
      "[I 2024-12-01 03:20:39,712] Trial 50 finished with value: -0.5908718230693024 and parameters: {'umap_n_neighbors': 15, 'umap_min_dist': 0.7855840829468556, 'umap_n_components': 15, 'umap_metric': 'correlation', 'Spectral_n_cluster': 31, 'Spectral_eigen_solver': 'amg', 'Spectral_affinity': 'rbf', 'Spectral_assign_labels': 'kmeans', 'keybert_nr_repr_docs': 5, 'keybert_top_n_words': 6}. Best is trial 10 with value: -0.6920383694334449.\n"
     ]
    },
    {
     "data": {
      "application/vnd.jupyter.widget-view+json": {
       "model_id": "a9dc99a6df06455f936923b84602b94c",
       "version_major": 2,
       "version_minor": 0
      },
      "text/plain": [
       "Batches:   0%|          | 0/256 [00:00<?, ?it/s]"
      ]
     },
     "metadata": {},
     "output_type": "display_data"
    },
    {
     "name": "stderr",
     "output_type": "stream",
     "text": [
      "[I 2024-12-01 03:21:53,995] Trial 51 finished with value: -0.6718530802385888 and parameters: {'umap_n_neighbors': 8, 'umap_min_dist': 0.6590148691352182, 'umap_n_components': 15, 'umap_metric': 'manhattan', 'Spectral_n_cluster': 5, 'Spectral_eigen_solver': 'amg', 'Spectral_affinity': 'rbf', 'Spectral_assign_labels': 'kmeans', 'keybert_nr_repr_docs': 5, 'keybert_top_n_words': 7}. Best is trial 10 with value: -0.6920383694334449.\n"
     ]
    },
    {
     "data": {
      "application/vnd.jupyter.widget-view+json": {
       "model_id": "b90004e7e6d14126bd0a16c120267390",
       "version_major": 2,
       "version_minor": 0
      },
      "text/plain": [
       "Batches:   0%|          | 0/256 [00:00<?, ?it/s]"
      ]
     },
     "metadata": {},
     "output_type": "display_data"
    },
    {
     "name": "stderr",
     "output_type": "stream",
     "text": [
      "[I 2024-12-01 03:23:06,061] Trial 52 finished with value: -0.6304439984553635 and parameters: {'umap_n_neighbors': 7, 'umap_min_dist': 0.5541646907335673, 'umap_n_components': 14, 'umap_metric': 'manhattan', 'Spectral_n_cluster': 7, 'Spectral_eigen_solver': 'amg', 'Spectral_affinity': 'rbf', 'Spectral_assign_labels': 'kmeans', 'keybert_nr_repr_docs': 6, 'keybert_top_n_words': 7}. Best is trial 10 with value: -0.6920383694334449.\n"
     ]
    },
    {
     "data": {
      "application/vnd.jupyter.widget-view+json": {
       "model_id": "7cbae72f56644e90932c6f08f36e3869",
       "version_major": 2,
       "version_minor": 0
      },
      "text/plain": [
       "Batches:   0%|          | 0/256 [00:00<?, ?it/s]"
      ]
     },
     "metadata": {},
     "output_type": "display_data"
    },
    {
     "name": "stderr",
     "output_type": "stream",
     "text": [
      "[I 2024-12-01 03:24:22,456] Trial 53 finished with value: -0.6383319372567763 and parameters: {'umap_n_neighbors': 17, 'umap_min_dist': 0.6549674423438111, 'umap_n_components': 15, 'umap_metric': 'manhattan', 'Spectral_n_cluster': 6, 'Spectral_eigen_solver': 'amg', 'Spectral_affinity': 'rbf', 'Spectral_assign_labels': 'kmeans', 'keybert_nr_repr_docs': 5, 'keybert_top_n_words': 7}. Best is trial 10 with value: -0.6920383694334449.\n"
     ]
    },
    {
     "data": {
      "application/vnd.jupyter.widget-view+json": {
       "model_id": "096401bcf749452099ca490b74c36568",
       "version_major": 2,
       "version_minor": 0
      },
      "text/plain": [
       "Batches:   0%|          | 0/256 [00:00<?, ?it/s]"
      ]
     },
     "metadata": {},
     "output_type": "display_data"
    },
    {
     "name": "stderr",
     "output_type": "stream",
     "text": [
      "[I 2024-12-01 03:25:38,866] Trial 54 finished with value: -0.636035521141234 and parameters: {'umap_n_neighbors': 11, 'umap_min_dist': 0.8512174751242045, 'umap_n_components': 13, 'umap_metric': 'manhattan', 'Spectral_n_cluster': 7, 'Spectral_eigen_solver': 'amg', 'Spectral_affinity': 'rbf', 'Spectral_assign_labels': 'kmeans', 'keybert_nr_repr_docs': 6, 'keybert_top_n_words': 7}. Best is trial 10 with value: -0.6920383694334449.\n"
     ]
    },
    {
     "data": {
      "application/vnd.jupyter.widget-view+json": {
       "model_id": "5932aa657d3948e2bf9574551eba1364",
       "version_major": 2,
       "version_minor": 0
      },
      "text/plain": [
       "Batches:   0%|          | 0/256 [00:00<?, ?it/s]"
      ]
     },
     "metadata": {},
     "output_type": "display_data"
    },
    {
     "name": "stderr",
     "output_type": "stream",
     "text": [
      "[I 2024-12-01 03:26:52,419] Trial 55 finished with value: -0.6315825021823952 and parameters: {'umap_n_neighbors': 9, 'umap_min_dist': 0.7623774857330582, 'umap_n_components': 14, 'umap_metric': 'manhattan', 'Spectral_n_cluster': 9, 'Spectral_eigen_solver': 'amg', 'Spectral_affinity': 'rbf', 'Spectral_assign_labels': 'cluster_qr', 'keybert_nr_repr_docs': 3, 'keybert_top_n_words': 8}. Best is trial 10 with value: -0.6920383694334449.\n"
     ]
    },
    {
     "data": {
      "application/vnd.jupyter.widget-view+json": {
       "model_id": "1709814ca8604502bdfebbdd073c38bd",
       "version_major": 2,
       "version_minor": 0
      },
      "text/plain": [
       "Batches:   0%|          | 0/256 [00:00<?, ?it/s]"
      ]
     },
     "metadata": {},
     "output_type": "display_data"
    },
    {
     "name": "stderr",
     "output_type": "stream",
     "text": [
      "[I 2024-12-01 03:28:07,899] Trial 56 finished with value: -0.6732101402068167 and parameters: {'umap_n_neighbors': 14, 'umap_min_dist': 0.7120101583379617, 'umap_n_components': 15, 'umap_metric': 'manhattan', 'Spectral_n_cluster': 5, 'Spectral_eigen_solver': 'amg', 'Spectral_affinity': 'rbf', 'Spectral_assign_labels': 'cluster_qr', 'keybert_nr_repr_docs': 5, 'keybert_top_n_words': 6}. Best is trial 10 with value: -0.6920383694334449.\n"
     ]
    },
    {
     "data": {
      "application/vnd.jupyter.widget-view+json": {
       "model_id": "27f51098153b4118badbb6dc3b18b86b",
       "version_major": 2,
       "version_minor": 0
      },
      "text/plain": [
       "Batches:   0%|          | 0/256 [00:00<?, ?it/s]"
      ]
     },
     "metadata": {},
     "output_type": "display_data"
    },
    {
     "name": "stderr",
     "output_type": "stream",
     "text": [
      "[I 2024-12-01 03:29:29,258] Trial 57 finished with value: -0.6178643581517708 and parameters: {'umap_n_neighbors': 23, 'umap_min_dist': 0.812048010134559, 'umap_n_components': 13, 'umap_metric': 'cosine', 'Spectral_n_cluster': 11, 'Spectral_eigen_solver': 'amg', 'Spectral_affinity': 'rbf', 'Spectral_assign_labels': 'kmeans', 'keybert_nr_repr_docs': 4, 'keybert_top_n_words': 7}. Best is trial 10 with value: -0.6920383694334449.\n"
     ]
    },
    {
     "data": {
      "application/vnd.jupyter.widget-view+json": {
       "model_id": "1fd7fa800afa49d6982010360359558b",
       "version_major": 2,
       "version_minor": 0
      },
      "text/plain": [
       "Batches:   0%|          | 0/256 [00:00<?, ?it/s]"
      ]
     },
     "metadata": {},
     "output_type": "display_data"
    },
    {
     "name": "stderr",
     "output_type": "stream",
     "text": [
      "[I 2024-12-01 03:30:48,695] Trial 58 finished with value: -0.6448185718409123 and parameters: {'umap_n_neighbors': 16, 'umap_min_dist': 0.4903977470280996, 'umap_n_components': 6, 'umap_metric': 'manhattan', 'Spectral_n_cluster': 7, 'Spectral_eigen_solver': 'arpack', 'Spectral_affinity': 'rbf', 'Spectral_assign_labels': 'cluster_qr', 'keybert_nr_repr_docs': 6, 'keybert_top_n_words': 7}. Best is trial 10 with value: -0.6920383694334449.\n"
     ]
    },
    {
     "data": {
      "application/vnd.jupyter.widget-view+json": {
       "model_id": "ed893ac04111421cac11d40de5e1111b",
       "version_major": 2,
       "version_minor": 0
      },
      "text/plain": [
       "Batches:   0%|          | 0/256 [00:00<?, ?it/s]"
      ]
     },
     "metadata": {},
     "output_type": "display_data"
    },
    {
     "name": "stderr",
     "output_type": "stream",
     "text": [
      "[I 2024-12-01 03:32:02,510] Trial 59 finished with value: -0.6145355109603345 and parameters: {'umap_n_neighbors': 6, 'umap_min_dist': 0.8746962094032054, 'umap_n_components': 12, 'umap_metric': 'chebyshev', 'Spectral_n_cluster': 14, 'Spectral_eigen_solver': 'lobpcg', 'Spectral_affinity': 'nearest_neighbors', 'Spectral_assign_labels': 'kmeans', 'keybert_nr_repr_docs': 7, 'keybert_top_n_words': 6}. Best is trial 10 with value: -0.6920383694334449.\n"
     ]
    },
    {
     "data": {
      "application/vnd.jupyter.widget-view+json": {
       "model_id": "2ba7c2ced9054444ad19f362e748f188",
       "version_major": 2,
       "version_minor": 0
      },
      "text/plain": [
       "Batches:   0%|          | 0/256 [00:00<?, ?it/s]"
      ]
     },
     "metadata": {},
     "output_type": "display_data"
    },
    {
     "name": "stderr",
     "output_type": "stream",
     "text": [
      "[I 2024-12-01 03:33:19,571] Trial 60 finished with value: -0.6378400232223869 and parameters: {'umap_n_neighbors': 13, 'umap_min_dist': 0.4281084090256476, 'umap_n_components': 14, 'umap_metric': 'manhattan', 'Spectral_n_cluster': 9, 'Spectral_eigen_solver': 'amg', 'Spectral_affinity': 'rbf', 'Spectral_assign_labels': 'cluster_qr', 'keybert_nr_repr_docs': 1, 'keybert_top_n_words': 9}. Best is trial 10 with value: -0.6920383694334449.\n"
     ]
    },
    {
     "data": {
      "application/vnd.jupyter.widget-view+json": {
       "model_id": "90016a35803d437fb6ab0894fd38b1e4",
       "version_major": 2,
       "version_minor": 0
      },
      "text/plain": [
       "Batches:   0%|          | 0/256 [00:00<?, ?it/s]"
      ]
     },
     "metadata": {},
     "output_type": "display_data"
    },
    {
     "name": "stderr",
     "output_type": "stream",
     "text": [
      "[I 2024-12-01 03:34:38,684] Trial 61 finished with value: -0.669387786428168 and parameters: {'umap_n_neighbors': 13, 'umap_min_dist': 0.6316741863120123, 'umap_n_components': 15, 'umap_metric': 'manhattan', 'Spectral_n_cluster': 5, 'Spectral_eigen_solver': 'amg', 'Spectral_affinity': 'rbf', 'Spectral_assign_labels': 'cluster_qr', 'keybert_nr_repr_docs': 7, 'keybert_top_n_words': 7}. Best is trial 10 with value: -0.6920383694334449.\n"
     ]
    },
    {
     "data": {
      "application/vnd.jupyter.widget-view+json": {
       "model_id": "5a6778b66bb443589ef02dd3291ffde0",
       "version_major": 2,
       "version_minor": 0
      },
      "text/plain": [
       "Batches:   0%|          | 0/256 [00:00<?, ?it/s]"
      ]
     },
     "metadata": {},
     "output_type": "display_data"
    },
    {
     "name": "stderr",
     "output_type": "stream",
     "text": [
      "[I 2024-12-01 03:35:59,805] Trial 62 finished with value: -0.6457758644704686 and parameters: {'umap_n_neighbors': 15, 'umap_min_dist': 0.7032700620117632, 'umap_n_components': 15, 'umap_metric': 'manhattan', 'Spectral_n_cluster': 6, 'Spectral_eigen_solver': 'amg', 'Spectral_affinity': 'rbf', 'Spectral_assign_labels': 'cluster_qr', 'keybert_nr_repr_docs': 8, 'keybert_top_n_words': 7}. Best is trial 10 with value: -0.6920383694334449.\n"
     ]
    },
    {
     "data": {
      "application/vnd.jupyter.widget-view+json": {
       "model_id": "3724160796ee48bfb16674ba95565832",
       "version_major": 2,
       "version_minor": 0
      },
      "text/plain": [
       "Batches:   0%|          | 0/256 [00:00<?, ?it/s]"
      ]
     },
     "metadata": {},
     "output_type": "display_data"
    },
    {
     "name": "stderr",
     "output_type": "stream",
     "text": [
      "[I 2024-12-01 03:37:14,844] Trial 63 finished with value: -0.6313970283491721 and parameters: {'umap_n_neighbors': 11, 'umap_min_dist': 0.7424085600474732, 'umap_n_components': 14, 'umap_metric': 'manhattan', 'Spectral_n_cluster': 9, 'Spectral_eigen_solver': 'amg', 'Spectral_affinity': 'rbf', 'Spectral_assign_labels': 'cluster_qr', 'keybert_nr_repr_docs': 7, 'keybert_top_n_words': 7}. Best is trial 10 with value: -0.6920383694334449.\n"
     ]
    },
    {
     "data": {
      "application/vnd.jupyter.widget-view+json": {
       "model_id": "bec099924b724604ace4f557c34b22ed",
       "version_major": 2,
       "version_minor": 0
      },
      "text/plain": [
       "Batches:   0%|          | 0/256 [00:00<?, ?it/s]"
      ]
     },
     "metadata": {},
     "output_type": "display_data"
    },
    {
     "name": "stderr",
     "output_type": "stream",
     "text": [
      "[I 2024-12-01 03:38:34,033] Trial 64 finished with value: -0.6050857405727654 and parameters: {'umap_n_neighbors': 18, 'umap_min_dist': 0.7632368323424755, 'umap_n_components': 15, 'umap_metric': 'manhattan', 'Spectral_n_cluster': 11, 'Spectral_eigen_solver': 'amg', 'Spectral_affinity': 'rbf', 'Spectral_assign_labels': 'cluster_qr', 'keybert_nr_repr_docs': 5, 'keybert_top_n_words': 8}. Best is trial 10 with value: -0.6920383694334449.\n"
     ]
    },
    {
     "data": {
      "application/vnd.jupyter.widget-view+json": {
       "model_id": "c79c9d7834354796b4a898f7c5ec2f1f",
       "version_major": 2,
       "version_minor": 0
      },
      "text/plain": [
       "Batches:   0%|          | 0/256 [00:00<?, ?it/s]"
      ]
     },
     "metadata": {},
     "output_type": "display_data"
    },
    {
     "name": "stderr",
     "output_type": "stream",
     "text": [
      "[I 2024-12-01 03:39:53,155] Trial 65 finished with value: -0.6558383217125101 and parameters: {'umap_n_neighbors': 12, 'umap_min_dist': 0.8071235297475433, 'umap_n_components': 14, 'umap_metric': 'manhattan', 'Spectral_n_cluster': 6, 'Spectral_eigen_solver': 'amg', 'Spectral_affinity': 'rbf', 'Spectral_assign_labels': 'cluster_qr', 'keybert_nr_repr_docs': 6, 'keybert_top_n_words': 7}. Best is trial 10 with value: -0.6920383694334449.\n"
     ]
    },
    {
     "data": {
      "application/vnd.jupyter.widget-view+json": {
       "model_id": "087217da141d41a59c15b7076ac1842d",
       "version_major": 2,
       "version_minor": 0
      },
      "text/plain": [
       "Batches:   0%|          | 0/256 [00:00<?, ?it/s]"
      ]
     },
     "metadata": {},
     "output_type": "display_data"
    },
    {
     "name": "stderr",
     "output_type": "stream",
     "text": [
      "[I 2024-12-01 03:41:11,813] Trial 66 finished with value: -0.6443546375770549 and parameters: {'umap_n_neighbors': 21, 'umap_min_dist': 0.922253687372782, 'umap_n_components': 15, 'umap_metric': 'correlation', 'Spectral_n_cluster': 8, 'Spectral_eigen_solver': 'amg', 'Spectral_affinity': 'rbf', 'Spectral_assign_labels': 'kmeans', 'keybert_nr_repr_docs': 4, 'keybert_top_n_words': 7}. Best is trial 10 with value: -0.6920383694334449.\n"
     ]
    },
    {
     "data": {
      "application/vnd.jupyter.widget-view+json": {
       "model_id": "3a1ddf20d40f4504b4ad801e673f143f",
       "version_major": 2,
       "version_minor": 0
      },
      "text/plain": [
       "Batches:   0%|          | 0/256 [00:00<?, ?it/s]"
      ]
     },
     "metadata": {},
     "output_type": "display_data"
    },
    {
     "name": "stderr",
     "output_type": "stream",
     "text": [
      "[I 2024-12-01 03:42:27,244] Trial 67 finished with value: -0.67559682072039 and parameters: {'umap_n_neighbors': 20, 'umap_min_dist': 0.8870125276550844, 'umap_n_components': 13, 'umap_metric': 'euclidean', 'Spectral_n_cluster': 5, 'Spectral_eigen_solver': 'amg', 'Spectral_affinity': 'rbf', 'Spectral_assign_labels': 'cluster_qr', 'keybert_nr_repr_docs': 9, 'keybert_top_n_words': 6}. Best is trial 10 with value: -0.6920383694334449.\n"
     ]
    },
    {
     "data": {
      "application/vnd.jupyter.widget-view+json": {
       "model_id": "c5ccfcbaf49048e293dd9e7d490e85d8",
       "version_major": 2,
       "version_minor": 0
      },
      "text/plain": [
       "Batches:   0%|          | 0/256 [00:00<?, ?it/s]"
      ]
     },
     "metadata": {},
     "output_type": "display_data"
    },
    {
     "name": "stderr",
     "output_type": "stream",
     "text": [
      "[I 2024-12-01 03:43:47,382] Trial 68 finished with value: -0.5805244247404584 and parameters: {'umap_n_neighbors': 16, 'umap_min_dist': 0.8303455108710185, 'umap_n_components': 15, 'umap_metric': 'manhattan', 'Spectral_n_cluster': 50, 'Spectral_eigen_solver': 'arpack', 'Spectral_affinity': 'rbf', 'Spectral_assign_labels': 'discretize', 'keybert_nr_repr_docs': 8, 'keybert_top_n_words': 7}. Best is trial 10 with value: -0.6920383694334449.\n"
     ]
    },
    {
     "data": {
      "application/vnd.jupyter.widget-view+json": {
       "model_id": "9b970ea8627c49b4810a5cb68e7c5151",
       "version_major": 2,
       "version_minor": 0
      },
      "text/plain": [
       "Batches:   0%|          | 0/256 [00:00<?, ?it/s]"
      ]
     },
     "metadata": {},
     "output_type": "display_data"
    },
    {
     "name": "stderr",
     "output_type": "stream",
     "text": [
      "[I 2024-12-01 03:45:00,496] Trial 69 finished with value: -0.6362377278420575 and parameters: {'umap_n_neighbors': 9, 'umap_min_dist': 0.7352473214720641, 'umap_n_components': 14, 'umap_metric': 'manhattan', 'Spectral_n_cluster': 7, 'Spectral_eigen_solver': 'amg', 'Spectral_affinity': 'rbf', 'Spectral_assign_labels': 'kmeans', 'keybert_nr_repr_docs': 6, 'keybert_top_n_words': 8}. Best is trial 10 with value: -0.6920383694334449.\n"
     ]
    },
    {
     "data": {
      "application/vnd.jupyter.widget-view+json": {
       "model_id": "2080ef2a71aa42bc952bf47532711821",
       "version_major": 2,
       "version_minor": 0
      },
      "text/plain": [
       "Batches:   0%|          | 0/256 [00:00<?, ?it/s]"
      ]
     },
     "metadata": {},
     "output_type": "display_data"
    },
    {
     "name": "stderr",
     "output_type": "stream",
     "text": [
      "[I 2024-12-01 03:46:13,196] Trial 70 finished with value: -0.5859457223522042 and parameters: {'umap_n_neighbors': 14, 'umap_min_dist': 0.27220690468685255, 'umap_n_components': 14, 'umap_metric': 'euclidean', 'Spectral_n_cluster': 37, 'Spectral_eigen_solver': 'amg', 'Spectral_affinity': 'nearest_neighbors', 'Spectral_assign_labels': 'cluster_qr', 'keybert_nr_repr_docs': 5, 'keybert_top_n_words': 6}. Best is trial 10 with value: -0.6920383694334449.\n"
     ]
    },
    {
     "data": {
      "application/vnd.jupyter.widget-view+json": {
       "model_id": "d92b458d8c7440c5be9c0c9baf5ebbf2",
       "version_major": 2,
       "version_minor": 0
      },
      "text/plain": [
       "Batches:   0%|          | 0/256 [00:00<?, ?it/s]"
      ]
     },
     "metadata": {},
     "output_type": "display_data"
    },
    {
     "name": "stderr",
     "output_type": "stream",
     "text": [
      "[I 2024-12-01 03:47:29,964] Trial 71 finished with value: -0.6756385322194419 and parameters: {'umap_n_neighbors': 20, 'umap_min_dist': 0.8887849896782426, 'umap_n_components': 13, 'umap_metric': 'euclidean', 'Spectral_n_cluster': 5, 'Spectral_eigen_solver': 'amg', 'Spectral_affinity': 'rbf', 'Spectral_assign_labels': 'cluster_qr', 'keybert_nr_repr_docs': 10, 'keybert_top_n_words': 6}. Best is trial 10 with value: -0.6920383694334449.\n"
     ]
    },
    {
     "data": {
      "application/vnd.jupyter.widget-view+json": {
       "model_id": "6c146d2e7043498890975edd6b364165",
       "version_major": 2,
       "version_minor": 0
      },
      "text/plain": [
       "Batches:   0%|          | 0/256 [00:00<?, ?it/s]"
      ]
     },
     "metadata": {},
     "output_type": "display_data"
    },
    {
     "name": "stderr",
     "output_type": "stream",
     "text": [
      "[I 2024-12-01 03:48:44,833] Trial 72 finished with value: -0.6378278723601113 and parameters: {'umap_n_neighbors': 13, 'umap_min_dist': 0.9284364383011056, 'umap_n_components': 15, 'umap_metric': 'euclidean', 'Spectral_n_cluster': 6, 'Spectral_eigen_solver': 'amg', 'Spectral_affinity': 'rbf', 'Spectral_assign_labels': 'cluster_qr', 'keybert_nr_repr_docs': 10, 'keybert_top_n_words': 5}. Best is trial 10 with value: -0.6920383694334449.\n"
     ]
    },
    {
     "data": {
      "application/vnd.jupyter.widget-view+json": {
       "model_id": "36de0424f5c541e2b10e7d2884fc3320",
       "version_major": 2,
       "version_minor": 0
      },
      "text/plain": [
       "Batches:   0%|          | 0/256 [00:00<?, ?it/s]"
      ]
     },
     "metadata": {},
     "output_type": "display_data"
    },
    {
     "name": "stderr",
     "output_type": "stream",
     "text": [
      "[I 2024-12-01 03:50:00,677] Trial 73 finished with value: -0.6278575200409329 and parameters: {'umap_n_neighbors': 22, 'umap_min_dist': 0.9632463436635142, 'umap_n_components': 13, 'umap_metric': 'euclidean', 'Spectral_n_cluster': 10, 'Spectral_eigen_solver': 'amg', 'Spectral_affinity': 'rbf', 'Spectral_assign_labels': 'cluster_qr', 'keybert_nr_repr_docs': 9, 'keybert_top_n_words': 7}. Best is trial 10 with value: -0.6920383694334449.\n"
     ]
    },
    {
     "data": {
      "application/vnd.jupyter.widget-view+json": {
       "model_id": "e3ad7a505bc7429cb18a0c1eca38595e",
       "version_major": 2,
       "version_minor": 0
      },
      "text/plain": [
       "Batches:   0%|          | 0/256 [00:00<?, ?it/s]"
      ]
     },
     "metadata": {},
     "output_type": "display_data"
    },
    {
     "name": "stderr",
     "output_type": "stream",
     "text": [
      "[I 2024-12-01 03:51:16,524] Trial 74 finished with value: -0.6247572993777218 and parameters: {'umap_n_neighbors': 20, 'umap_min_dist': 0.7916240640054394, 'umap_n_components': 14, 'umap_metric': 'euclidean', 'Spectral_n_cluster': 8, 'Spectral_eigen_solver': 'amg', 'Spectral_affinity': 'rbf', 'Spectral_assign_labels': 'cluster_qr', 'keybert_nr_repr_docs': 10, 'keybert_top_n_words': 6}. Best is trial 10 with value: -0.6920383694334449.\n"
     ]
    },
    {
     "data": {
      "application/vnd.jupyter.widget-view+json": {
       "model_id": "1dbeed4242e34b4397a65dbd12edca5c",
       "version_major": 2,
       "version_minor": 0
      },
      "text/plain": [
       "Batches:   0%|          | 0/256 [00:00<?, ?it/s]"
      ]
     },
     "metadata": {},
     "output_type": "display_data"
    },
    {
     "name": "stderr",
     "output_type": "stream",
     "text": [
      "[I 2024-12-01 03:52:32,285] Trial 75 finished with value: -0.6573821077446254 and parameters: {'umap_n_neighbors': 17, 'umap_min_dist': 0.8476033150815032, 'umap_n_components': 15, 'umap_metric': 'euclidean', 'Spectral_n_cluster': 6, 'Spectral_eigen_solver': 'amg', 'Spectral_affinity': 'rbf', 'Spectral_assign_labels': 'cluster_qr', 'keybert_nr_repr_docs': 5, 'keybert_top_n_words': 7}. Best is trial 10 with value: -0.6920383694334449.\n"
     ]
    },
    {
     "data": {
      "application/vnd.jupyter.widget-view+json": {
       "model_id": "d0a2f925c1524b1ca0327c4ece9b0ba0",
       "version_major": 2,
       "version_minor": 0
      },
      "text/plain": [
       "Batches:   0%|          | 0/256 [00:00<?, ?it/s]"
      ]
     },
     "metadata": {},
     "output_type": "display_data"
    },
    {
     "name": "stderr",
     "output_type": "stream",
     "text": [
      "[I 2024-12-01 03:53:46,608] Trial 76 finished with value: -0.6235693192077445 and parameters: {'umap_n_neighbors': 19, 'umap_min_dist': 0.8964503673295482, 'umap_n_components': 14, 'umap_metric': 'chebyshev', 'Spectral_n_cluster': 13, 'Spectral_eigen_solver': 'lobpcg', 'Spectral_affinity': 'rbf', 'Spectral_assign_labels': 'kmeans', 'keybert_nr_repr_docs': 4, 'keybert_top_n_words': 7}. Best is trial 10 with value: -0.6920383694334449.\n"
     ]
    },
    {
     "data": {
      "application/vnd.jupyter.widget-view+json": {
       "model_id": "a187708e6d3a44f2b5122d8a74bce05a",
       "version_major": 2,
       "version_minor": 0
      },
      "text/plain": [
       "Batches:   0%|          | 0/256 [00:00<?, ?it/s]"
      ]
     },
     "metadata": {},
     "output_type": "display_data"
    },
    {
     "name": "stderr",
     "output_type": "stream",
     "text": [
      "[I 2024-12-01 03:54:59,833] Trial 77 finished with value: -0.6367317123580611 and parameters: {'umap_n_neighbors': 10, 'umap_min_dist': 0.9871181376324178, 'umap_n_components': 10, 'umap_metric': 'cosine', 'Spectral_n_cluster': 9, 'Spectral_eigen_solver': 'amg', 'Spectral_affinity': 'rbf', 'Spectral_assign_labels': 'kmeans', 'keybert_nr_repr_docs': 6, 'keybert_top_n_words': 6}. Best is trial 10 with value: -0.6920383694334449.\n"
     ]
    },
    {
     "data": {
      "application/vnd.jupyter.widget-view+json": {
       "model_id": "fa9d8d19b24946c6803fdfd75bfa5c45",
       "version_major": 2,
       "version_minor": 0
      },
      "text/plain": [
       "Batches:   0%|          | 0/256 [00:00<?, ?it/s]"
      ]
     },
     "metadata": {},
     "output_type": "display_data"
    },
    {
     "name": "stderr",
     "output_type": "stream",
     "text": [
      "[I 2024-12-01 03:56:13,253] Trial 78 finished with value: -0.6863528434947177 and parameters: {'umap_n_neighbors': 15, 'umap_min_dist': 0.692795614673703, 'umap_n_components': 9, 'umap_metric': 'manhattan', 'Spectral_n_cluster': 5, 'Spectral_eigen_solver': 'amg', 'Spectral_affinity': 'rbf', 'Spectral_assign_labels': 'cluster_qr', 'keybert_nr_repr_docs': 5, 'keybert_top_n_words': 8}. Best is trial 10 with value: -0.6920383694334449.\n"
     ]
    },
    {
     "data": {
      "application/vnd.jupyter.widget-view+json": {
       "model_id": "9d5d46f588b5437cb6ab524aa11dc0a7",
       "version_major": 2,
       "version_minor": 0
      },
      "text/plain": [
       "Batches:   0%|          | 0/256 [00:00<?, ?it/s]"
      ]
     },
     "metadata": {},
     "output_type": "display_data"
    },
    {
     "name": "stderr",
     "output_type": "stream",
     "text": [
      "[I 2024-12-01 03:57:28,682] Trial 79 finished with value: -0.6353458276859385 and parameters: {'umap_n_neighbors': 15, 'umap_min_dist': 0.629692909548699, 'umap_n_components': 5, 'umap_metric': 'manhattan', 'Spectral_n_cluster': 8, 'Spectral_eigen_solver': 'amg', 'Spectral_affinity': 'rbf', 'Spectral_assign_labels': 'discretize', 'keybert_nr_repr_docs': 5, 'keybert_top_n_words': 8}. Best is trial 10 with value: -0.6920383694334449.\n"
     ]
    },
    {
     "data": {
      "application/vnd.jupyter.widget-view+json": {
       "model_id": "88d4eb711e3c41a8b05dd525e66104fe",
       "version_major": 2,
       "version_minor": 0
      },
      "text/plain": [
       "Batches:   0%|          | 0/256 [00:00<?, ?it/s]"
      ]
     },
     "metadata": {},
     "output_type": "display_data"
    },
    {
     "name": "stderr",
     "output_type": "stream",
     "text": [
      "[I 2024-12-01 03:58:44,592] Trial 80 finished with value: -0.6133200509779633 and parameters: {'umap_n_neighbors': 15, 'umap_min_dist': 0.6862971686782557, 'umap_n_components': 7, 'umap_metric': 'manhattan', 'Spectral_n_cluster': 11, 'Spectral_eigen_solver': 'amg', 'Spectral_affinity': 'rbf', 'Spectral_assign_labels': 'kmeans', 'keybert_nr_repr_docs': 6, 'keybert_top_n_words': 8}. Best is trial 10 with value: -0.6920383694334449.\n"
     ]
    },
    {
     "data": {
      "application/vnd.jupyter.widget-view+json": {
       "model_id": "f49ac919ea8b412db35ace6dc459f039",
       "version_major": 2,
       "version_minor": 0
      },
      "text/plain": [
       "Batches:   0%|          | 0/256 [00:00<?, ?it/s]"
      ]
     },
     "metadata": {},
     "output_type": "display_data"
    },
    {
     "name": "stderr",
     "output_type": "stream",
     "text": [
      "[I 2024-12-01 03:59:58,992] Trial 81 finished with value: -0.6604501777762251 and parameters: {'umap_n_neighbors': 18, 'umap_min_dist': 0.7582665468087892, 'umap_n_components': 9, 'umap_metric': 'manhattan', 'Spectral_n_cluster': 6, 'Spectral_eigen_solver': 'amg', 'Spectral_affinity': 'rbf', 'Spectral_assign_labels': 'cluster_qr', 'keybert_nr_repr_docs': 4, 'keybert_top_n_words': 8}. Best is trial 10 with value: -0.6920383694334449.\n"
     ]
    },
    {
     "data": {
      "application/vnd.jupyter.widget-view+json": {
       "model_id": "9847db4986c942d4a14da3cb3f8fd795",
       "version_major": 2,
       "version_minor": 0
      },
      "text/plain": [
       "Batches:   0%|          | 0/256 [00:00<?, ?it/s]"
      ]
     },
     "metadata": {},
     "output_type": "display_data"
    },
    {
     "name": "stderr",
     "output_type": "stream",
     "text": [
      "[I 2024-12-01 04:01:14,191] Trial 82 finished with value: -0.6783501638589075 and parameters: {'umap_n_neighbors': 16, 'umap_min_dist': 0.5912980977359749, 'umap_n_components': 15, 'umap_metric': 'manhattan', 'Spectral_n_cluster': 5, 'Spectral_eigen_solver': 'amg', 'Spectral_affinity': 'rbf', 'Spectral_assign_labels': 'cluster_qr', 'keybert_nr_repr_docs': 5, 'keybert_top_n_words': 9}. Best is trial 10 with value: -0.6920383694334449.\n"
     ]
    },
    {
     "data": {
      "application/vnd.jupyter.widget-view+json": {
       "model_id": "6967624d08214dfbb4f7d168cadbe9be",
       "version_major": 2,
       "version_minor": 0
      },
      "text/plain": [
       "Batches:   0%|          | 0/256 [00:00<?, ?it/s]"
      ]
     },
     "metadata": {},
     "output_type": "display_data"
    },
    {
     "name": "stderr",
     "output_type": "stream",
     "text": [
      "[I 2024-12-01 04:02:32,911] Trial 83 finished with value: -0.5806043521457926 and parameters: {'umap_n_neighbors': 16, 'umap_min_dist': 0.6039489582552666, 'umap_n_components': 15, 'umap_metric': 'manhattan', 'Spectral_n_cluster': 45, 'Spectral_eigen_solver': 'amg', 'Spectral_affinity': 'rbf', 'Spectral_assign_labels': 'cluster_qr', 'keybert_nr_repr_docs': 5, 'keybert_top_n_words': 9}. Best is trial 10 with value: -0.6920383694334449.\n"
     ]
    },
    {
     "data": {
      "application/vnd.jupyter.widget-view+json": {
       "model_id": "17348fc7ea384599ab9eb18d95d97ce2",
       "version_major": 2,
       "version_minor": 0
      },
      "text/plain": [
       "Batches:   0%|          | 0/256 [00:00<?, ?it/s]"
      ]
     },
     "metadata": {},
     "output_type": "display_data"
    },
    {
     "name": "stderr",
     "output_type": "stream",
     "text": [
      "[I 2024-12-01 04:03:48,498] Trial 84 finished with value: -0.6359747371309012 and parameters: {'umap_n_neighbors': 14, 'umap_min_dist': 0.5305235254785811, 'umap_n_components': 15, 'umap_metric': 'manhattan', 'Spectral_n_cluster': 7, 'Spectral_eigen_solver': 'amg', 'Spectral_affinity': 'rbf', 'Spectral_assign_labels': 'cluster_qr', 'keybert_nr_repr_docs': 5, 'keybert_top_n_words': 9}. Best is trial 10 with value: -0.6920383694334449.\n"
     ]
    },
    {
     "data": {
      "application/vnd.jupyter.widget-view+json": {
       "model_id": "ff16af665a654c2da2c7a74fbb4119ca",
       "version_major": 2,
       "version_minor": 0
      },
      "text/plain": [
       "Batches:   0%|          | 0/256 [00:00<?, ?it/s]"
      ]
     },
     "metadata": {},
     "output_type": "display_data"
    },
    {
     "name": "stderr",
     "output_type": "stream",
     "text": [
      "[I 2024-12-01 04:05:00,401] Trial 85 finished with value: -0.6229255858836871 and parameters: {'umap_n_neighbors': 13, 'umap_min_dist': 0.6504252313289615, 'umap_n_components': 3, 'umap_metric': 'manhattan', 'Spectral_n_cluster': 5, 'Spectral_eigen_solver': 'amg', 'Spectral_affinity': 'rbf', 'Spectral_assign_labels': 'cluster_qr', 'keybert_nr_repr_docs': 6, 'keybert_top_n_words': 10}. Best is trial 10 with value: -0.6920383694334449.\n"
     ]
    },
    {
     "data": {
      "application/vnd.jupyter.widget-view+json": {
       "model_id": "2cb17891a2fe4a4f9c6948f3941ca4fc",
       "version_major": 2,
       "version_minor": 0
      },
      "text/plain": [
       "Batches:   0%|          | 0/256 [00:00<?, ?it/s]"
      ]
     },
     "metadata": {},
     "output_type": "display_data"
    },
    {
     "name": "stderr",
     "output_type": "stream",
     "text": [
      "[I 2024-12-01 04:06:16,544] Trial 86 finished with value: -0.6366309171624067 and parameters: {'umap_n_neighbors': 17, 'umap_min_dist': 0.5723812905402229, 'umap_n_components': 15, 'umap_metric': 'manhattan', 'Spectral_n_cluster': 8, 'Spectral_eigen_solver': 'arpack', 'Spectral_affinity': 'nearest_neighbors', 'Spectral_assign_labels': 'kmeans', 'keybert_nr_repr_docs': 5, 'keybert_top_n_words': 9}. Best is trial 10 with value: -0.6920383694334449.\n"
     ]
    },
    {
     "data": {
      "application/vnd.jupyter.widget-view+json": {
       "model_id": "fc3e3419041540a296c6b3606552c22f",
       "version_major": 2,
       "version_minor": 0
      },
      "text/plain": [
       "Batches:   0%|          | 0/256 [00:00<?, ?it/s]"
      ]
     },
     "metadata": {},
     "output_type": "display_data"
    },
    {
     "name": "stderr",
     "output_type": "stream",
     "text": [
      "[I 2024-12-01 04:07:31,391] Trial 87 finished with value: -0.6460374076449213 and parameters: {'umap_n_neighbors': 12, 'umap_min_dist': 0.6935905961943395, 'umap_n_components': 14, 'umap_metric': 'manhattan', 'Spectral_n_cluster': 7, 'Spectral_eigen_solver': 'amg', 'Spectral_affinity': 'rbf', 'Spectral_assign_labels': 'cluster_qr', 'keybert_nr_repr_docs': 5, 'keybert_top_n_words': 7}. Best is trial 10 with value: -0.6920383694334449.\n"
     ]
    },
    {
     "data": {
      "application/vnd.jupyter.widget-view+json": {
       "model_id": "8de1b03597774cc18f88d98c3bf184f1",
       "version_major": 2,
       "version_minor": 0
      },
      "text/plain": [
       "Batches:   0%|          | 0/256 [00:00<?, ?it/s]"
      ]
     },
     "metadata": {},
     "output_type": "display_data"
    },
    {
     "name": "stderr",
     "output_type": "stream",
     "text": [
      "[I 2024-12-01 04:08:46,996] Trial 88 finished with value: -0.6096108481982432 and parameters: {'umap_n_neighbors': 15, 'umap_min_dist': 0.7438800591901993, 'umap_n_components': 8, 'umap_metric': 'manhattan', 'Spectral_n_cluster': 22, 'Spectral_eigen_solver': 'amg', 'Spectral_affinity': 'rbf', 'Spectral_assign_labels': 'kmeans', 'keybert_nr_repr_docs': 4, 'keybert_top_n_words': 7}. Best is trial 10 with value: -0.6920383694334449.\n"
     ]
    },
    {
     "data": {
      "application/vnd.jupyter.widget-view+json": {
       "model_id": "953b41c484ef467aa85a4abeaf29cc22",
       "version_major": 2,
       "version_minor": 0
      },
      "text/plain": [
       "Batches:   0%|          | 0/256 [00:00<?, ?it/s]"
      ]
     },
     "metadata": {},
     "output_type": "display_data"
    },
    {
     "name": "stderr",
     "output_type": "stream",
     "text": [
      "[I 2024-12-01 04:09:59,096] Trial 89 finished with value: -0.6308244114844433 and parameters: {'umap_n_neighbors': 14, 'umap_min_dist': 0.7992793864704483, 'umap_n_components': 15, 'umap_metric': 'manhattan', 'Spectral_n_cluster': 9, 'Spectral_eigen_solver': 'lobpcg', 'Spectral_affinity': 'rbf', 'Spectral_assign_labels': 'cluster_qr', 'keybert_nr_repr_docs': 6, 'keybert_top_n_words': 10}. Best is trial 10 with value: -0.6920383694334449.\n"
     ]
    },
    {
     "data": {
      "application/vnd.jupyter.widget-view+json": {
       "model_id": "19898ba61ffc49ec877d9c4357045330",
       "version_major": 2,
       "version_minor": 0
      },
      "text/plain": [
       "Batches:   0%|          | 0/256 [00:00<?, ?it/s]"
      ]
     },
     "metadata": {},
     "output_type": "display_data"
    },
    {
     "name": "stderr",
     "output_type": "stream",
     "text": [
      "[I 2024-12-01 04:11:11,258] Trial 90 finished with value: -0.6367577522579863 and parameters: {'umap_n_neighbors': 6, 'umap_min_dist': 0.8319579971292845, 'umap_n_components': 14, 'umap_metric': 'correlation', 'Spectral_n_cluster': 6, 'Spectral_eigen_solver': 'amg', 'Spectral_affinity': 'rbf', 'Spectral_assign_labels': 'kmeans', 'keybert_nr_repr_docs': 7, 'keybert_top_n_words': 7}. Best is trial 10 with value: -0.6920383694334449.\n"
     ]
    },
    {
     "data": {
      "application/vnd.jupyter.widget-view+json": {
       "model_id": "4e6eac77627f43659d34109d0e30656f",
       "version_major": 2,
       "version_minor": 0
      },
      "text/plain": [
       "Batches:   0%|          | 0/256 [00:00<?, ?it/s]"
      ]
     },
     "metadata": {},
     "output_type": "display_data"
    },
    {
     "name": "stderr",
     "output_type": "stream",
     "text": [
      "[I 2024-12-01 04:12:25,146] Trial 91 finished with value: -0.6435022469409181 and parameters: {'umap_n_neighbors': 19, 'umap_min_dist': 0.721259555582289, 'umap_n_components': 4, 'umap_metric': 'euclidean', 'Spectral_n_cluster': 5, 'Spectral_eigen_solver': 'amg', 'Spectral_affinity': 'rbf', 'Spectral_assign_labels': 'cluster_qr', 'keybert_nr_repr_docs': 5, 'keybert_top_n_words': 7}. Best is trial 10 with value: -0.6920383694334449.\n"
     ]
    },
    {
     "data": {
      "application/vnd.jupyter.widget-view+json": {
       "model_id": "a80ef2a79eae4091a8127389d93e8fce",
       "version_major": 2,
       "version_minor": 0
      },
      "text/plain": [
       "Batches:   0%|          | 0/256 [00:00<?, ?it/s]"
      ]
     },
     "metadata": {},
     "output_type": "display_data"
    },
    {
     "name": "stderr",
     "output_type": "stream",
     "text": [
      "[I 2024-12-01 04:13:40,243] Trial 92 finished with value: -0.6913568301920268 and parameters: {'umap_n_neighbors': 16, 'umap_min_dist': 0.8687861852387543, 'umap_n_components': 12, 'umap_metric': 'euclidean', 'Spectral_n_cluster': 5, 'Spectral_eigen_solver': 'amg', 'Spectral_affinity': 'rbf', 'Spectral_assign_labels': 'cluster_qr', 'keybert_nr_repr_docs': 4, 'keybert_top_n_words': 7}. Best is trial 10 with value: -0.6920383694334449.\n"
     ]
    },
    {
     "data": {
      "application/vnd.jupyter.widget-view+json": {
       "model_id": "bd9c06d09b9b48989f4e6769fb7a2ff5",
       "version_major": 2,
       "version_minor": 0
      },
      "text/plain": [
       "Batches:   0%|          | 0/256 [00:00<?, ?it/s]"
      ]
     },
     "metadata": {},
     "output_type": "display_data"
    },
    {
     "name": "stderr",
     "output_type": "stream",
     "text": [
      "[I 2024-12-01 04:14:55,152] Trial 93 finished with value: -0.6449713740340144 and parameters: {'umap_n_neighbors': 16, 'umap_min_dist': 0.7722968497801121, 'umap_n_components': 11, 'umap_metric': 'manhattan', 'Spectral_n_cluster': 7, 'Spectral_eigen_solver': 'amg', 'Spectral_affinity': 'rbf', 'Spectral_assign_labels': 'cluster_qr', 'keybert_nr_repr_docs': 4, 'keybert_top_n_words': 7}. Best is trial 10 with value: -0.6920383694334449.\n"
     ]
    },
    {
     "data": {
      "application/vnd.jupyter.widget-view+json": {
       "model_id": "e02f2377efda40eaae47a228ed868699",
       "version_major": 2,
       "version_minor": 0
      },
      "text/plain": [
       "Batches:   0%|          | 0/256 [00:00<?, ?it/s]"
      ]
     },
     "metadata": {},
     "output_type": "display_data"
    },
    {
     "name": "stderr",
     "output_type": "stream",
     "text": [
      "[I 2024-12-01 04:16:10,585] Trial 94 finished with value: -0.6511495525252724 and parameters: {'umap_n_neighbors': 17, 'umap_min_dist': 0.8581243624243786, 'umap_n_components': 15, 'umap_metric': 'euclidean', 'Spectral_n_cluster': 6, 'Spectral_eigen_solver': 'amg', 'Spectral_affinity': 'rbf', 'Spectral_assign_labels': 'cluster_qr', 'keybert_nr_repr_docs': 3, 'keybert_top_n_words': 7}. Best is trial 10 with value: -0.6920383694334449.\n"
     ]
    },
    {
     "data": {
      "application/vnd.jupyter.widget-view+json": {
       "model_id": "7db2aec164cd4dcb838b66f6d4d97531",
       "version_major": 2,
       "version_minor": 0
      },
      "text/plain": [
       "Batches:   0%|          | 0/256 [00:00<?, ?it/s]"
      ]
     },
     "metadata": {},
     "output_type": "display_data"
    },
    {
     "name": "stderr",
     "output_type": "stream",
     "text": [
      "[I 2024-12-01 04:17:26,173] Trial 95 finished with value: -0.6347984392016379 and parameters: {'umap_n_neighbors': 18, 'umap_min_dist': 0.6660483452043848, 'umap_n_components': 11, 'umap_metric': 'manhattan', 'Spectral_n_cluster': 10, 'Spectral_eigen_solver': 'amg', 'Spectral_affinity': 'rbf', 'Spectral_assign_labels': 'cluster_qr', 'keybert_nr_repr_docs': 5, 'keybert_top_n_words': 7}. Best is trial 10 with value: -0.6920383694334449.\n"
     ]
    },
    {
     "data": {
      "application/vnd.jupyter.widget-view+json": {
       "model_id": "405596e45f7c4ded8516a58fc6930b3f",
       "version_major": 2,
       "version_minor": 0
      },
      "text/plain": [
       "Batches:   0%|          | 0/256 [00:00<?, ?it/s]"
      ]
     },
     "metadata": {},
     "output_type": "display_data"
    },
    {
     "name": "stderr",
     "output_type": "stream",
     "text": [
      "[I 2024-12-01 04:18:41,721] Trial 96 finished with value: -0.590766031998161 and parameters: {'umap_n_neighbors': 14, 'umap_min_dist': 0.8120417729878033, 'umap_n_components': 9, 'umap_metric': 'chebyshev', 'Spectral_n_cluster': 25, 'Spectral_eigen_solver': 'amg', 'Spectral_affinity': 'rbf', 'Spectral_assign_labels': 'cluster_qr', 'keybert_nr_repr_docs': 6, 'keybert_top_n_words': 7}. Best is trial 10 with value: -0.6920383694334449.\n"
     ]
    },
    {
     "data": {
      "application/vnd.jupyter.widget-view+json": {
       "model_id": "31766dbb3c07430fab76b11b9d10e331",
       "version_major": 2,
       "version_minor": 0
      },
      "text/plain": [
       "Batches:   0%|          | 0/256 [00:00<?, ?it/s]"
      ]
     },
     "metadata": {},
     "output_type": "display_data"
    },
    {
     "name": "stderr",
     "output_type": "stream",
     "text": [
      "[I 2024-12-01 04:19:56,340] Trial 97 finished with value: -0.6794554200350789 and parameters: {'umap_n_neighbors': 16, 'umap_min_dist': 0.8722208298076544, 'umap_n_components': 10, 'umap_metric': 'cosine', 'Spectral_n_cluster': 5, 'Spectral_eigen_solver': 'amg', 'Spectral_affinity': 'rbf', 'Spectral_assign_labels': 'kmeans', 'keybert_nr_repr_docs': 4, 'keybert_top_n_words': 7}. Best is trial 10 with value: -0.6920383694334449.\n"
     ]
    },
    {
     "data": {
      "application/vnd.jupyter.widget-view+json": {
       "model_id": "61fd1fec58ad4bebab7e4c0084a91e79",
       "version_major": 2,
       "version_minor": 0
      },
      "text/plain": [
       "Batches:   0%|          | 0/256 [00:00<?, ?it/s]"
      ]
     },
     "metadata": {},
     "output_type": "display_data"
    },
    {
     "name": "stderr",
     "output_type": "stream",
     "text": [
      "[I 2024-12-01 04:21:11,530] Trial 98 finished with value: -0.6111982662855605 and parameters: {'umap_n_neighbors': 16, 'umap_min_dist': 0.5129509373577382, 'umap_n_components': 10, 'umap_metric': 'cosine', 'Spectral_n_cluster': 19, 'Spectral_eigen_solver': 'amg', 'Spectral_affinity': 'rbf', 'Spectral_assign_labels': 'kmeans', 'keybert_nr_repr_docs': 4, 'keybert_top_n_words': 7}. Best is trial 10 with value: -0.6920383694334449.\n"
     ]
    },
    {
     "data": {
      "application/vnd.jupyter.widget-view+json": {
       "model_id": "3ca7f8405158408b8146996aa682a196",
       "version_major": 2,
       "version_minor": 0
      },
      "text/plain": [
       "Batches:   0%|          | 0/256 [00:00<?, ?it/s]"
      ]
     },
     "metadata": {},
     "output_type": "display_data"
    },
    {
     "name": "stderr",
     "output_type": "stream",
     "text": [
      "[I 2024-12-01 04:22:21,843] Trial 99 finished with value: -0.6861616342594237 and parameters: {'umap_n_neighbors': 15, 'umap_min_dist': 0.877213588839011, 'umap_n_components': 10, 'umap_metric': 'cosine', 'Spectral_n_cluster': 5, 'Spectral_eigen_solver': 'amg', 'Spectral_affinity': 'nearest_neighbors', 'Spectral_assign_labels': 'kmeans', 'keybert_nr_repr_docs': 3, 'keybert_top_n_words': 8}. Best is trial 10 with value: -0.6920383694334449.\n"
     ]
    },
    {
     "name": "stdout",
     "output_type": "stream",
     "text": [
      "Best Parameters: {'umap_n_neighbors': 13, 'umap_min_dist': 0.7991098637548104, 'umap_n_components': 15, 'umap_metric': 'manhattan', 'Spectral_n_cluster': 5, 'Spectral_eigen_solver': 'amg', 'Spectral_affinity': 'rbf', 'Spectral_assign_labels': 'cluster_qr', 'keybert_nr_repr_docs': 5, 'keybert_top_n_words': 7}\n",
      "Best Score: -0.6920383694334449\n"
     ]
    }
   ],
   "source": [
    "# Define custom stop words\n",
    "custom_stop_words = [\"xxxx\", \"xx\",\"x\",\"xxxxx\", \"xxxxxxxx\", \"xxxxxxxxxxxx\"]\n",
    "vectorizer_model = CountVectorizer(stop_words=custom_stop_words)\n",
    "\n",
    "# Define objective function for Bayesian optimization\n",
    "def objective(trial):\n",
    "    # Sample hyperparameters from the search space\n",
    "    umap_n_neighbors = trial.suggest_int(\"umap_n_neighbors\", 5,30)\n",
    "    umap_min_dist = trial.suggest_float(\"umap_min_dist\", 0.1, 0.99)\n",
    "    umap_n_components = trial.suggest_int(\"umap_n_components\", 2,15)\n",
    "    umap_metric = trial.suggest_categorical(\n",
    "        \"umap_metric\",\n",
    "        [\"euclidean\", \"manhattan\", \"chebyshev\", \"cosine\", \"correlation\"],\n",
    "    )\n",
    "    Spectral_n_cluster = trial.suggest_int(\"Spectral_n_cluster\", 5, 50)\n",
    "    Spectral_eigen_solver = trial.suggest_categorical(\"Spectral_eigen_solver\", [\"arpack\",\"lobpcg\",\"amg\"])\n",
    "    Spectral_affinity = trial.suggest_categorical(\"Spectral_affinity\", [\"nearest_neighbors\",\"rbf\"])\n",
    "    Spectral_assign_labels = trial.suggest_categorical(\n",
    "        \"Spectral_assign_labels\",\n",
    "        [\"kmeans\", \"discretize\", \"cluster_qr\"],\n",
    "    )\n",
    "    keybert_nr_repr_docs = trial.suggest_int(\"keybert_nr_repr_docs\", 1, 10)\n",
    "    keybert_top_n_words = trial.suggest_int(\"keybert_top_n_words\", 5, 10)\n",
    "\n",
    "    # Define models with current hyperparameters\n",
    "    umap_model = UMAP(\n",
    "        n_neighbors=umap_n_neighbors,\n",
    "        min_dist=umap_min_dist,\n",
    "        n_components=umap_n_components,\n",
    "        metric=umap_metric,\n",
    "        random_state=42,\n",
    "    )\n",
    "    Spectral_model = SpectralClustering(n_clusters=Spectral_n_cluster,eigen_solver=Spectral_eigen_solver,affinity=Spectral_affinity,assign_labels=Spectral_assign_labels)\n",
    "    representation_model = KeyBERTInspired(\n",
    "        nr_repr_docs=keybert_nr_repr_docs, top_n_words=keybert_top_n_words\n",
    "    )\n",
    "\n",
    "    # Initialize BERTopic\n",
    "    topic_model = BERTopic(\n",
    "        embedding_model=TfidfVectorizer(),\n",
    "        umap_model=umap_model,\n",
    "        hdbscan_model=Spectral_model,\n",
    "        representation_model=representation_model,\n",
    "        vectorizer_model=vectorizer_model,\n",
    "    )\n",
    "\n",
    "    # Fit the model\n",
    "    topics, probs = topic_model.fit_transform(documents)\n",
    "    topic_info = topic_model.get_topic_info()\n",
    "    topic_info_df = pd.DataFrame(topic_info)  # Convert topic_info to DataFrame\n",
    "    \n",
    "    # Restrict models generating only one topic\n",
    "    unique_topics = set(topics)\n",
    "    if (len(unique_topics) <= 1 or (topic_info_df[\"Topic\"] == -1).any()):\n",
    "        return float(\"inf\")  # Invalid configuration\n",
    "\n",
    "    # Calculate evaluation metrics\n",
    "    tokenized_documents = [doc.split() for doc in documents]\n",
    "    dictionary = Dictionary(tokenized_documents)\n",
    "    coherence_score = calculate_and_average_coherence_scores(topic_model, tokenized_documents, dictionary)\n",
    "    sentence_transformer_model = topic_model.embedding_model\n",
    "    topic_embeddings = topic_model.topic_embeddings_\n",
    "    document_embeddings = sentence_transformer_model.embedding_model.encode(documents, show_progress_bar=True)\n",
    "    # Use consistent `documents` for `get_document_info`\n",
    "    document_info = topic_model.get_document_info(documents)\n",
    "    topic_labels = document_info[\"Topic\"].values\n",
    "\n",
    "    diversity_score = calculate_topic_diversity(topic_model)\n",
    "    representativeness_score = calculate_topic_representativeness(topic_embeddings, document_embeddings)\n",
    "    silhouette = calculate_silhouette_score(document_embeddings, topic_labels)\n",
    "\n",
    "    # Combine metrics into a single score\n",
    "    final_score = -np.mean([coherence_score, diversity_score, representativeness_score, silhouette])\n",
    "    return final_score\n",
    "\n",
    "# Perform Bayesian Optimization\n",
    "study = optuna.create_study(direction=\"minimize\")\n",
    "study.optimize(objective, n_trials=100, n_jobs=1)\n",
    "\n",
    "# Best parameters and model\n",
    "best_params = study.best_params\n",
    "print(\"Best Parameters:\", best_params)\n",
    "print(\"Best Score:\", study.best_value)\n",
    "\n",
    "# Save the best model\n",
    "# Reinitialize with the best parameters if needed and save"
   ]
  },
  {
   "cell_type": "code",
   "execution_count": 33,
   "id": "1124ed21-3238-4e39-b008-dc74a8467d3c",
   "metadata": {},
   "outputs": [
    {
     "name": "stderr",
     "output_type": "stream",
     "text": [
      "[I 2024-12-01 04:22:21,851] A new study created in memory with name: no-name-2c7fba45-7a36-4991-a127-507de8a956d5\n"
     ]
    },
    {
     "data": {
      "application/vnd.jupyter.widget-view+json": {
       "model_id": "452336697eee41a89fa0deda070c9a39",
       "version_major": 2,
       "version_minor": 0
      },
      "text/plain": [
       "Batches:   0%|          | 0/256 [00:00<?, ?it/s]"
      ]
     },
     "metadata": {},
     "output_type": "display_data"
    },
    {
     "name": "stderr",
     "output_type": "stream",
     "text": [
      "[I 2024-12-01 04:23:40,808] Trial 0 finished with value: -0.6384694244780815 and parameters: {'umap_n_neighbors': 22, 'umap_min_dist': 0.8294299208861249, 'umap_n_components': 11, 'umap_metric': 'euclidean', 'Spectral_n_cluster': 12, 'Spectral_eigen_solver': 'lobpcg', 'Spectral_affinity': 'rbf', 'Spectral_assign_labels': 'discretize', 'MaximalMarginalRelevance_diversity': 0.2103484534079063, 'MaximalMarginalRelevance_top_n_words': 5}. Best is trial 0 with value: -0.6384694244780815.\n"
     ]
    },
    {
     "data": {
      "application/vnd.jupyter.widget-view+json": {
       "model_id": "2e210280754e4db292ac32f7b7ef002b",
       "version_major": 2,
       "version_minor": 0
      },
      "text/plain": [
       "Batches:   0%|          | 0/256 [00:00<?, ?it/s]"
      ]
     },
     "metadata": {},
     "output_type": "display_data"
    },
    {
     "name": "stderr",
     "output_type": "stream",
     "text": [
      "[I 2024-12-01 04:24:58,281] Trial 1 finished with value: -0.644698556208638 and parameters: {'umap_n_neighbors': 5, 'umap_min_dist': 0.6643973452690086, 'umap_n_components': 10, 'umap_metric': 'correlation', 'Spectral_n_cluster': 39, 'Spectral_eigen_solver': 'arpack', 'Spectral_affinity': 'nearest_neighbors', 'Spectral_assign_labels': 'kmeans', 'MaximalMarginalRelevance_diversity': 0.664669260815458, 'MaximalMarginalRelevance_top_n_words': 6}. Best is trial 1 with value: -0.644698556208638.\n"
     ]
    },
    {
     "data": {
      "application/vnd.jupyter.widget-view+json": {
       "model_id": "54ccf6e2ba114a4cad1f529d15c0e47b",
       "version_major": 2,
       "version_minor": 0
      },
      "text/plain": [
       "Batches:   0%|          | 0/256 [00:00<?, ?it/s]"
      ]
     },
     "metadata": {},
     "output_type": "display_data"
    },
    {
     "name": "stderr",
     "output_type": "stream",
     "text": [
      "[I 2024-12-01 04:26:11,622] Trial 2 finished with value: -0.6708157648966098 and parameters: {'umap_n_neighbors': 20, 'umap_min_dist': 0.13580138190423247, 'umap_n_components': 8, 'umap_metric': 'correlation', 'Spectral_n_cluster': 19, 'Spectral_eigen_solver': 'amg', 'Spectral_affinity': 'nearest_neighbors', 'Spectral_assign_labels': 'kmeans', 'MaximalMarginalRelevance_diversity': 0.687091026539045, 'MaximalMarginalRelevance_top_n_words': 5}. Best is trial 2 with value: -0.6708157648966098.\n"
     ]
    },
    {
     "data": {
      "application/vnd.jupyter.widget-view+json": {
       "model_id": "52445cdb955c4d0cae7ebc25c1929dc4",
       "version_major": 2,
       "version_minor": 0
      },
      "text/plain": [
       "Batches:   0%|          | 0/256 [00:00<?, ?it/s]"
      ]
     },
     "metadata": {},
     "output_type": "display_data"
    },
    {
     "name": "stderr",
     "output_type": "stream",
     "text": [
      "[I 2024-12-01 04:27:25,995] Trial 3 finished with value: -0.6230071056288912 and parameters: {'umap_n_neighbors': 7, 'umap_min_dist': 0.8026070238102488, 'umap_n_components': 13, 'umap_metric': 'cosine', 'Spectral_n_cluster': 33, 'Spectral_eigen_solver': 'lobpcg', 'Spectral_affinity': 'nearest_neighbors', 'Spectral_assign_labels': 'kmeans', 'MaximalMarginalRelevance_diversity': 0.1833982929552084, 'MaximalMarginalRelevance_top_n_words': 8}. Best is trial 2 with value: -0.6708157648966098.\n"
     ]
    },
    {
     "data": {
      "application/vnd.jupyter.widget-view+json": {
       "model_id": "e4dabf237c9547debf93ec817fa6c529",
       "version_major": 2,
       "version_minor": 0
      },
      "text/plain": [
       "Batches:   0%|          | 0/256 [00:00<?, ?it/s]"
      ]
     },
     "metadata": {},
     "output_type": "display_data"
    },
    {
     "name": "stderr",
     "output_type": "stream",
     "text": [
      "[I 2024-12-01 04:28:39,201] Trial 4 finished with value: -0.63756848832733 and parameters: {'umap_n_neighbors': 24, 'umap_min_dist': 0.2871575909527906, 'umap_n_components': 6, 'umap_metric': 'euclidean', 'Spectral_n_cluster': 29, 'Spectral_eigen_solver': 'amg', 'Spectral_affinity': 'nearest_neighbors', 'Spectral_assign_labels': 'cluster_qr', 'MaximalMarginalRelevance_diversity': 0.6906421642026529, 'MaximalMarginalRelevance_top_n_words': 5}. Best is trial 2 with value: -0.6708157648966098.\n"
     ]
    },
    {
     "data": {
      "application/vnd.jupyter.widget-view+json": {
       "model_id": "4d76948cff44459b969d3ac07303478d",
       "version_major": 2,
       "version_minor": 0
      },
      "text/plain": [
       "Batches:   0%|          | 0/256 [00:00<?, ?it/s]"
      ]
     },
     "metadata": {},
     "output_type": "display_data"
    },
    {
     "name": "stderr",
     "output_type": "stream",
     "text": [
      "[I 2024-12-01 04:29:47,692] Trial 5 finished with value: -0.6534806910446673 and parameters: {'umap_n_neighbors': 5, 'umap_min_dist': 0.4963979528906617, 'umap_n_components': 14, 'umap_metric': 'cosine', 'Spectral_n_cluster': 14, 'Spectral_eigen_solver': 'lobpcg', 'Spectral_affinity': 'nearest_neighbors', 'Spectral_assign_labels': 'discretize', 'MaximalMarginalRelevance_diversity': 0.155185576798981, 'MaximalMarginalRelevance_top_n_words': 10}. Best is trial 2 with value: -0.6708157648966098.\n"
     ]
    },
    {
     "data": {
      "application/vnd.jupyter.widget-view+json": {
       "model_id": "31642a7135a64621ad36ddcd6532ecf3",
       "version_major": 2,
       "version_minor": 0
      },
      "text/plain": [
       "Batches:   0%|          | 0/256 [00:00<?, ?it/s]"
      ]
     },
     "metadata": {},
     "output_type": "display_data"
    },
    {
     "name": "stderr",
     "output_type": "stream",
     "text": [
      "[I 2024-12-01 04:31:06,499] Trial 6 finished with value: -0.6810665735414634 and parameters: {'umap_n_neighbors': 27, 'umap_min_dist': 0.22442899354827756, 'umap_n_components': 13, 'umap_metric': 'cosine', 'Spectral_n_cluster': 6, 'Spectral_eigen_solver': 'amg', 'Spectral_affinity': 'rbf', 'Spectral_assign_labels': 'kmeans', 'MaximalMarginalRelevance_diversity': 0.48293272592699754, 'MaximalMarginalRelevance_top_n_words': 10}. Best is trial 6 with value: -0.6810665735414634.\n"
     ]
    },
    {
     "data": {
      "application/vnd.jupyter.widget-view+json": {
       "model_id": "795e2079c8cc4d19adf6936c886bf35d",
       "version_major": 2,
       "version_minor": 0
      },
      "text/plain": [
       "Batches:   0%|          | 0/256 [00:00<?, ?it/s]"
      ]
     },
     "metadata": {},
     "output_type": "display_data"
    },
    {
     "name": "stderr",
     "output_type": "stream",
     "text": [
      "[I 2024-12-01 04:32:19,306] Trial 7 finished with value: -0.6538681734948384 and parameters: {'umap_n_neighbors': 18, 'umap_min_dist': 0.8594647096682008, 'umap_n_components': 6, 'umap_metric': 'cosine', 'Spectral_n_cluster': 16, 'Spectral_eigen_solver': 'lobpcg', 'Spectral_affinity': 'nearest_neighbors', 'Spectral_assign_labels': 'kmeans', 'MaximalMarginalRelevance_diversity': 0.8672748297210738, 'MaximalMarginalRelevance_top_n_words': 10}. Best is trial 6 with value: -0.6810665735414634.\n"
     ]
    },
    {
     "data": {
      "application/vnd.jupyter.widget-view+json": {
       "model_id": "d0bfb116f615476aae111bc552beef58",
       "version_major": 2,
       "version_minor": 0
      },
      "text/plain": [
       "Batches:   0%|          | 0/256 [00:00<?, ?it/s]"
      ]
     },
     "metadata": {},
     "output_type": "display_data"
    },
    {
     "name": "stderr",
     "output_type": "stream",
     "text": [
      "[I 2024-12-01 04:33:41,764] Trial 8 finished with value: -0.6191087161604665 and parameters: {'umap_n_neighbors': 27, 'umap_min_dist': 0.6877248059447444, 'umap_n_components': 15, 'umap_metric': 'correlation', 'Spectral_n_cluster': 34, 'Spectral_eigen_solver': 'amg', 'Spectral_affinity': 'rbf', 'Spectral_assign_labels': 'discretize', 'MaximalMarginalRelevance_diversity': 0.7041244921832267, 'MaximalMarginalRelevance_top_n_words': 8}. Best is trial 6 with value: -0.6810665735414634.\n"
     ]
    },
    {
     "data": {
      "application/vnd.jupyter.widget-view+json": {
       "model_id": "7701994003964cf9a15f95c3d6935e5a",
       "version_major": 2,
       "version_minor": 0
      },
      "text/plain": [
       "Batches:   0%|          | 0/256 [00:00<?, ?it/s]"
      ]
     },
     "metadata": {},
     "output_type": "display_data"
    },
    {
     "name": "stderr",
     "output_type": "stream",
     "text": [
      "[I 2024-12-01 04:34:57,917] Trial 9 finished with value: -0.628651548566214 and parameters: {'umap_n_neighbors': 5, 'umap_min_dist': 0.8802779325064155, 'umap_n_components': 14, 'umap_metric': 'manhattan', 'Spectral_n_cluster': 44, 'Spectral_eigen_solver': 'arpack', 'Spectral_affinity': 'nearest_neighbors', 'Spectral_assign_labels': 'cluster_qr', 'MaximalMarginalRelevance_diversity': 0.5946141153234723, 'MaximalMarginalRelevance_top_n_words': 7}. Best is trial 6 with value: -0.6810665735414634.\n"
     ]
    },
    {
     "data": {
      "application/vnd.jupyter.widget-view+json": {
       "model_id": "aff9fda40be94911b22bf532903fe408",
       "version_major": 2,
       "version_minor": 0
      },
      "text/plain": [
       "Batches:   0%|          | 0/256 [00:00<?, ?it/s]"
      ]
     },
     "metadata": {},
     "output_type": "display_data"
    },
    {
     "name": "stderr",
     "output_type": "stream",
     "text": [
      "[I 2024-12-01 04:36:13,861] Trial 10 finished with value: -0.6981634928932687 and parameters: {'umap_n_neighbors': 30, 'umap_min_dist': 0.39955647800173627, 'umap_n_components': 4, 'umap_metric': 'chebyshev', 'Spectral_n_cluster': 6, 'Spectral_eigen_solver': 'amg', 'Spectral_affinity': 'rbf', 'Spectral_assign_labels': 'kmeans', 'MaximalMarginalRelevance_diversity': 0.39963610644903413, 'MaximalMarginalRelevance_top_n_words': 9}. Best is trial 10 with value: -0.6981634928932687.\n"
     ]
    },
    {
     "data": {
      "application/vnd.jupyter.widget-view+json": {
       "model_id": "81d0ea58db53499d9e5fa336e6a64c61",
       "version_major": 2,
       "version_minor": 0
      },
      "text/plain": [
       "Batches:   0%|          | 0/256 [00:00<?, ?it/s]"
      ]
     },
     "metadata": {},
     "output_type": "display_data"
    },
    {
     "name": "stderr",
     "output_type": "stream",
     "text": [
      "[I 2024-12-01 04:37:29,198] Trial 11 finished with value: -0.6970142530451778 and parameters: {'umap_n_neighbors': 30, 'umap_min_dist': 0.3640303256581555, 'umap_n_components': 3, 'umap_metric': 'chebyshev', 'Spectral_n_cluster': 5, 'Spectral_eigen_solver': 'amg', 'Spectral_affinity': 'rbf', 'Spectral_assign_labels': 'kmeans', 'MaximalMarginalRelevance_diversity': 0.40086229513518606, 'MaximalMarginalRelevance_top_n_words': 9}. Best is trial 10 with value: -0.6981634928932687.\n"
     ]
    },
    {
     "data": {
      "application/vnd.jupyter.widget-view+json": {
       "model_id": "5f5eff0efaf3445b845d00569460b49d",
       "version_major": 2,
       "version_minor": 0
      },
      "text/plain": [
       "Batches:   0%|          | 0/256 [00:00<?, ?it/s]"
      ]
     },
     "metadata": {},
     "output_type": "display_data"
    },
    {
     "name": "stderr",
     "output_type": "stream",
     "text": [
      "[I 2024-12-01 04:38:44,981] Trial 12 finished with value: -0.6971744021022614 and parameters: {'umap_n_neighbors': 30, 'umap_min_dist': 0.41435647521291846, 'umap_n_components': 2, 'umap_metric': 'chebyshev', 'Spectral_n_cluster': 5, 'Spectral_eigen_solver': 'amg', 'Spectral_affinity': 'rbf', 'Spectral_assign_labels': 'kmeans', 'MaximalMarginalRelevance_diversity': 0.38643679465674763, 'MaximalMarginalRelevance_top_n_words': 9}. Best is trial 10 with value: -0.6981634928932687.\n"
     ]
    },
    {
     "data": {
      "application/vnd.jupyter.widget-view+json": {
       "model_id": "03cc7b71655e46468c99cebafa5c2747",
       "version_major": 2,
       "version_minor": 0
      },
      "text/plain": [
       "Batches:   0%|          | 0/256 [00:00<?, ?it/s]"
      ]
     },
     "metadata": {},
     "output_type": "display_data"
    },
    {
     "name": "stderr",
     "output_type": "stream",
     "text": [
      "[I 2024-12-01 04:39:58,738] Trial 13 finished with value: -0.6312251630898497 and parameters: {'umap_n_neighbors': 13, 'umap_min_dist': 0.4572195586283679, 'umap_n_components': 2, 'umap_metric': 'chebyshev', 'Spectral_n_cluster': 22, 'Spectral_eigen_solver': 'amg', 'Spectral_affinity': 'rbf', 'Spectral_assign_labels': 'kmeans', 'MaximalMarginalRelevance_diversity': 0.4036334874333905, 'MaximalMarginalRelevance_top_n_words': 9}. Best is trial 10 with value: -0.6981634928932687.\n"
     ]
    },
    {
     "data": {
      "application/vnd.jupyter.widget-view+json": {
       "model_id": "04d7235223384de6b75bb57667d0ab6d",
       "version_major": 2,
       "version_minor": 0
      },
      "text/plain": [
       "Batches:   0%|          | 0/256 [00:00<?, ?it/s]"
      ]
     },
     "metadata": {},
     "output_type": "display_data"
    },
    {
     "name": "stderr",
     "output_type": "stream",
     "text": [
      "[I 2024-12-01 04:41:15,637] Trial 14 finished with value: -0.6486144070598248 and parameters: {'umap_n_neighbors': 30, 'umap_min_dist': 0.4231261984406551, 'umap_n_components': 4, 'umap_metric': 'chebyshev', 'Spectral_n_cluster': 9, 'Spectral_eigen_solver': 'amg', 'Spectral_affinity': 'rbf', 'Spectral_assign_labels': 'kmeans', 'MaximalMarginalRelevance_diversity': 0.30233421910244856, 'MaximalMarginalRelevance_top_n_words': 9}. Best is trial 10 with value: -0.6981634928932687.\n"
     ]
    },
    {
     "data": {
      "application/vnd.jupyter.widget-view+json": {
       "model_id": "f7b02130e17a4e188b1c3ea0752fff0e",
       "version_major": 2,
       "version_minor": 0
      },
      "text/plain": [
       "Batches:   0%|          | 0/256 [00:00<?, ?it/s]"
      ]
     },
     "metadata": {},
     "output_type": "display_data"
    },
    {
     "name": "stderr",
     "output_type": "stream",
     "text": [
      "[I 2024-12-01 04:42:31,174] Trial 15 finished with value: -0.633492537960799 and parameters: {'umap_n_neighbors': 13, 'umap_min_dist': 0.5963969575470479, 'umap_n_components': 5, 'umap_metric': 'chebyshev', 'Spectral_n_cluster': 23, 'Spectral_eigen_solver': 'amg', 'Spectral_affinity': 'rbf', 'Spectral_assign_labels': 'cluster_qr', 'MaximalMarginalRelevance_diversity': 0.3237697522526981, 'MaximalMarginalRelevance_top_n_words': 7}. Best is trial 10 with value: -0.6981634928932687.\n"
     ]
    },
    {
     "data": {
      "application/vnd.jupyter.widget-view+json": {
       "model_id": "37aa7e09b7a4447592b9b90a7492f62f",
       "version_major": 2,
       "version_minor": 0
      },
      "text/plain": [
       "Batches:   0%|          | 0/256 [00:00<?, ?it/s]"
      ]
     },
     "metadata": {},
     "output_type": "display_data"
    },
    {
     "name": "stderr",
     "output_type": "stream",
     "text": [
      "[I 2024-12-01 04:43:51,136] Trial 16 finished with value: -0.6038304355085822 and parameters: {'umap_n_neighbors': 26, 'umap_min_dist': 0.32191797790770094, 'umap_n_components': 2, 'umap_metric': 'chebyshev', 'Spectral_n_cluster': 50, 'Spectral_eigen_solver': 'arpack', 'Spectral_affinity': 'rbf', 'Spectral_assign_labels': 'kmeans', 'MaximalMarginalRelevance_diversity': 0.47567127545654925, 'MaximalMarginalRelevance_top_n_words': 8}. Best is trial 10 with value: -0.6981634928932687.\n"
     ]
    },
    {
     "data": {
      "application/vnd.jupyter.widget-view+json": {
       "model_id": "9fc9ff10decc46bba3368cd2b0529da1",
       "version_major": 2,
       "version_minor": 0
      },
      "text/plain": [
       "Batches:   0%|          | 0/256 [00:00<?, ?it/s]"
      ]
     },
     "metadata": {},
     "output_type": "display_data"
    },
    {
     "name": "stderr",
     "output_type": "stream",
     "text": [
      "[I 2024-12-01 04:45:08,638] Trial 17 finished with value: -0.6435765023165465 and parameters: {'umap_n_neighbors': 30, 'umap_min_dist': 0.5401479473494623, 'umap_n_components': 8, 'umap_metric': 'manhattan', 'Spectral_n_cluster': 10, 'Spectral_eigen_solver': 'amg', 'Spectral_affinity': 'rbf', 'Spectral_assign_labels': 'kmeans', 'MaximalMarginalRelevance_diversity': 0.28964185337830095, 'MaximalMarginalRelevance_top_n_words': 9}. Best is trial 10 with value: -0.6981634928932687.\n"
     ]
    },
    {
     "data": {
      "application/vnd.jupyter.widget-view+json": {
       "model_id": "23062f002cda469c9b2bf652e4ef20f7",
       "version_major": 2,
       "version_minor": 0
      },
      "text/plain": [
       "Batches:   0%|          | 0/256 [00:00<?, ?it/s]"
      ]
     },
     "metadata": {},
     "output_type": "display_data"
    },
    {
     "name": "stderr",
     "output_type": "stream",
     "text": [
      "[I 2024-12-01 04:46:24,500] Trial 18 finished with value: -0.6275028997748964 and parameters: {'umap_n_neighbors': 14, 'umap_min_dist': 0.22385306533292837, 'umap_n_components': 4, 'umap_metric': 'chebyshev', 'Spectral_n_cluster': 25, 'Spectral_eigen_solver': 'amg', 'Spectral_affinity': 'rbf', 'Spectral_assign_labels': 'cluster_qr', 'MaximalMarginalRelevance_diversity': 0.9305948628043761, 'MaximalMarginalRelevance_top_n_words': 9}. Best is trial 10 with value: -0.6981634928932687.\n"
     ]
    },
    {
     "data": {
      "application/vnd.jupyter.widget-view+json": {
       "model_id": "aa7d70d36af447ec9c3170a5c77d8e9c",
       "version_major": 2,
       "version_minor": 0
      },
      "text/plain": [
       "Batches:   0%|          | 0/256 [00:00<?, ?it/s]"
      ]
     },
     "metadata": {},
     "output_type": "display_data"
    },
    {
     "name": "stderr",
     "output_type": "stream",
     "text": [
      "[I 2024-12-01 04:47:41,754] Trial 19 finished with value: -0.6341073922911521 and parameters: {'umap_n_neighbors': 24, 'umap_min_dist': 0.40475913988960044, 'umap_n_components': 6, 'umap_metric': 'chebyshev', 'Spectral_n_cluster': 17, 'Spectral_eigen_solver': 'arpack', 'Spectral_affinity': 'rbf', 'Spectral_assign_labels': 'discretize', 'MaximalMarginalRelevance_diversity': 0.5496052593346568, 'MaximalMarginalRelevance_top_n_words': 7}. Best is trial 10 with value: -0.6981634928932687.\n"
     ]
    },
    {
     "data": {
      "application/vnd.jupyter.widget-view+json": {
       "model_id": "363cbf0c82bb42b088dbe8318af77613",
       "version_major": 2,
       "version_minor": 0
      },
      "text/plain": [
       "Batches:   0%|          | 0/256 [00:00<?, ?it/s]"
      ]
     },
     "metadata": {},
     "output_type": "display_data"
    },
    {
     "name": "stderr",
     "output_type": "stream",
     "text": [
      "[I 2024-12-01 04:48:55,747] Trial 20 finished with value: -0.6824511901096797 and parameters: {'umap_n_neighbors': 16, 'umap_min_dist': 0.961616442851954, 'umap_n_components': 2, 'umap_metric': 'chebyshev', 'Spectral_n_cluster': 6, 'Spectral_eigen_solver': 'amg', 'Spectral_affinity': 'rbf', 'Spectral_assign_labels': 'kmeans', 'MaximalMarginalRelevance_diversity': 0.8054012029026982, 'MaximalMarginalRelevance_top_n_words': 10}. Best is trial 10 with value: -0.6981634928932687.\n"
     ]
    },
    {
     "data": {
      "application/vnd.jupyter.widget-view+json": {
       "model_id": "87b2309a8dee4cdbadfb41ef33cb6df1",
       "version_major": 2,
       "version_minor": 0
      },
      "text/plain": [
       "Batches:   0%|          | 0/256 [00:00<?, ?it/s]"
      ]
     },
     "metadata": {},
     "output_type": "display_data"
    },
    {
     "name": "stderr",
     "output_type": "stream",
     "text": [
      "[I 2024-12-01 04:50:12,117] Trial 21 finished with value: -0.7024190037168818 and parameters: {'umap_n_neighbors': 30, 'umap_min_dist': 0.3580628147482384, 'umap_n_components': 4, 'umap_metric': 'chebyshev', 'Spectral_n_cluster': 5, 'Spectral_eigen_solver': 'amg', 'Spectral_affinity': 'rbf', 'Spectral_assign_labels': 'kmeans', 'MaximalMarginalRelevance_diversity': 0.3901641660148154, 'MaximalMarginalRelevance_top_n_words': 9}. Best is trial 21 with value: -0.7024190037168818.\n"
     ]
    },
    {
     "data": {
      "application/vnd.jupyter.widget-view+json": {
       "model_id": "d3062387e192414d9e01411b0f07080f",
       "version_major": 2,
       "version_minor": 0
      },
      "text/plain": [
       "Batches:   0%|          | 0/256 [00:00<?, ?it/s]"
      ]
     },
     "metadata": {},
     "output_type": "display_data"
    },
    {
     "name": "stderr",
     "output_type": "stream",
     "text": [
      "[I 2024-12-01 04:51:29,199] Trial 22 finished with value: -0.6584564573090961 and parameters: {'umap_n_neighbors': 28, 'umap_min_dist': 0.273898434454419, 'umap_n_components': 4, 'umap_metric': 'chebyshev', 'Spectral_n_cluster': 10, 'Spectral_eigen_solver': 'amg', 'Spectral_affinity': 'rbf', 'Spectral_assign_labels': 'kmeans', 'MaximalMarginalRelevance_diversity': 0.3944165173984817, 'MaximalMarginalRelevance_top_n_words': 8}. Best is trial 21 with value: -0.7024190037168818.\n"
     ]
    },
    {
     "data": {
      "application/vnd.jupyter.widget-view+json": {
       "model_id": "8ed298391931415880519f35e05126e5",
       "version_major": 2,
       "version_minor": 0
      },
      "text/plain": [
       "Batches:   0%|          | 0/256 [00:00<?, ?it/s]"
      ]
     },
     "metadata": {},
     "output_type": "display_data"
    },
    {
     "name": "stderr",
     "output_type": "stream",
     "text": [
      "[I 2024-12-01 04:52:44,756] Trial 23 finished with value: -0.7012450149675192 and parameters: {'umap_n_neighbors': 24, 'umap_min_dist': 0.13679475064387128, 'umap_n_components': 3, 'umap_metric': 'chebyshev', 'Spectral_n_cluster': 6, 'Spectral_eigen_solver': 'amg', 'Spectral_affinity': 'rbf', 'Spectral_assign_labels': 'kmeans', 'MaximalMarginalRelevance_diversity': 0.45656647716246507, 'MaximalMarginalRelevance_top_n_words': 9}. Best is trial 21 with value: -0.7024190037168818.\n"
     ]
    },
    {
     "data": {
      "application/vnd.jupyter.widget-view+json": {
       "model_id": "4e1a4ce2a4c64a638c64fb154af718f1",
       "version_major": 2,
       "version_minor": 0
      },
      "text/plain": [
       "Batches:   0%|          | 0/256 [00:00<?, ?it/s]"
      ]
     },
     "metadata": {},
     "output_type": "display_data"
    },
    {
     "name": "stderr",
     "output_type": "stream",
     "text": [
      "[I 2024-12-01 04:54:01,630] Trial 24 finished with value: -0.6394919939698378 and parameters: {'umap_n_neighbors': 24, 'umap_min_dist': 0.11489124249765076, 'umap_n_components': 7, 'umap_metric': 'chebyshev', 'Spectral_n_cluster': 13, 'Spectral_eigen_solver': 'amg', 'Spectral_affinity': 'rbf', 'Spectral_assign_labels': 'kmeans', 'MaximalMarginalRelevance_diversity': 0.49103216626645596, 'MaximalMarginalRelevance_top_n_words': 8}. Best is trial 21 with value: -0.7024190037168818.\n"
     ]
    },
    {
     "data": {
      "application/vnd.jupyter.widget-view+json": {
       "model_id": "02a0d96f37a741049c76ffb0ac469bb3",
       "version_major": 2,
       "version_minor": 0
      },
      "text/plain": [
       "Batches:   0%|          | 0/256 [00:00<?, ?it/s]"
      ]
     },
     "metadata": {},
     "output_type": "display_data"
    },
    {
     "name": "stderr",
     "output_type": "stream",
     "text": [
      "[I 2024-12-01 04:55:16,865] Trial 25 finished with value: -0.6391303331892981 and parameters: {'umap_n_neighbors': 21, 'umap_min_dist': 0.1878685452566549, 'umap_n_components': 5, 'umap_metric': 'euclidean', 'Spectral_n_cluster': 9, 'Spectral_eigen_solver': 'amg', 'Spectral_affinity': 'rbf', 'Spectral_assign_labels': 'kmeans', 'MaximalMarginalRelevance_diversity': 0.23046483932783793, 'MaximalMarginalRelevance_top_n_words': 10}. Best is trial 21 with value: -0.7024190037168818.\n"
     ]
    },
    {
     "data": {
      "application/vnd.jupyter.widget-view+json": {
       "model_id": "13534174191d493a80e2a13716a06a90",
       "version_major": 2,
       "version_minor": 0
      },
      "text/plain": [
       "Batches:   0%|          | 0/256 [00:00<?, ?it/s]"
      ]
     },
     "metadata": {},
     "output_type": "display_data"
    },
    {
     "name": "stderr",
     "output_type": "stream",
     "text": [
      "[I 2024-12-01 04:56:33,335] Trial 26 finished with value: -0.6338460579245291 and parameters: {'umap_n_neighbors': 25, 'umap_min_dist': 0.3085859061499828, 'umap_n_components': 3, 'umap_metric': 'manhattan', 'Spectral_n_cluster': 19, 'Spectral_eigen_solver': 'amg', 'Spectral_affinity': 'rbf', 'Spectral_assign_labels': 'kmeans', 'MaximalMarginalRelevance_diversity': 0.5843667156035616, 'MaximalMarginalRelevance_top_n_words': 9}. Best is trial 21 with value: -0.7024190037168818.\n"
     ]
    },
    {
     "data": {
      "application/vnd.jupyter.widget-view+json": {
       "model_id": "6cbcdb94bdd44b7493bd63c590bb441c",
       "version_major": 2,
       "version_minor": 0
      },
      "text/plain": [
       "Batches:   0%|          | 0/256 [00:00<?, ?it/s]"
      ]
     },
     "metadata": {},
     "output_type": "display_data"
    },
    {
     "name": "stderr",
     "output_type": "stream",
     "text": [
      "[I 2024-12-01 04:57:50,242] Trial 27 finished with value: -0.6448816854083891 and parameters: {'umap_n_neighbors': 28, 'umap_min_dist': 0.17254865582164938, 'umap_n_components': 5, 'umap_metric': 'chebyshev', 'Spectral_n_cluster': 9, 'Spectral_eigen_solver': 'arpack', 'Spectral_affinity': 'rbf', 'Spectral_assign_labels': 'kmeans', 'MaximalMarginalRelevance_diversity': 0.10462634390342324, 'MaximalMarginalRelevance_top_n_words': 9}. Best is trial 21 with value: -0.7024190037168818.\n"
     ]
    },
    {
     "data": {
      "application/vnd.jupyter.widget-view+json": {
       "model_id": "b79064e7663144b3b981bcb98b8f9a18",
       "version_major": 2,
       "version_minor": 0
      },
      "text/plain": [
       "Batches:   0%|          | 0/256 [00:00<?, ?it/s]"
      ]
     },
     "metadata": {},
     "output_type": "display_data"
    },
    {
     "name": "stderr",
     "output_type": "stream",
     "text": [
      "[I 2024-12-01 04:59:03,630] Trial 28 finished with value: -0.642811272689251 and parameters: {'umap_n_neighbors': 22, 'umap_min_dist': 0.5939260495953312, 'umap_n_components': 3, 'umap_metric': 'chebyshev', 'Spectral_n_cluster': 15, 'Spectral_eigen_solver': 'lobpcg', 'Spectral_affinity': 'rbf', 'Spectral_assign_labels': 'cluster_qr', 'MaximalMarginalRelevance_diversity': 0.4558419996485196, 'MaximalMarginalRelevance_top_n_words': 8}. Best is trial 21 with value: -0.7024190037168818.\n"
     ]
    },
    {
     "data": {
      "application/vnd.jupyter.widget-view+json": {
       "model_id": "bedafe3b446d44af84fb5b12163cd08f",
       "version_major": 2,
       "version_minor": 0
      },
      "text/plain": [
       "Batches:   0%|          | 0/256 [00:00<?, ?it/s]"
      ]
     },
     "metadata": {},
     "output_type": "display_data"
    },
    {
     "name": "stderr",
     "output_type": "stream",
     "text": [
      "[I 2024-12-01 05:00:19,796] Trial 29 finished with value: -0.6490223782474649 and parameters: {'umap_n_neighbors': 20, 'umap_min_dist': 0.4952925942343052, 'umap_n_components': 10, 'umap_metric': 'euclidean', 'Spectral_n_cluster': 12, 'Spectral_eigen_solver': 'amg', 'Spectral_affinity': 'rbf', 'Spectral_assign_labels': 'discretize', 'MaximalMarginalRelevance_diversity': 0.26013743426790725, 'MaximalMarginalRelevance_top_n_words': 6}. Best is trial 21 with value: -0.7024190037168818.\n"
     ]
    },
    {
     "data": {
      "application/vnd.jupyter.widget-view+json": {
       "model_id": "032bd2aac5914132a52af29d95a5ca32",
       "version_major": 2,
       "version_minor": 0
      },
      "text/plain": [
       "Batches:   0%|          | 0/256 [00:00<?, ?it/s]"
      ]
     },
     "metadata": {},
     "output_type": "display_data"
    },
    {
     "name": "stderr",
     "output_type": "stream",
     "text": [
      "[I 2024-12-01 05:01:34,928] Trial 30 finished with value: -0.6254254938583752 and parameters: {'umap_n_neighbors': 28, 'umap_min_dist': 0.36457406891997163, 'umap_n_components': 7, 'umap_metric': 'chebyshev', 'Spectral_n_cluster': 12, 'Spectral_eigen_solver': 'lobpcg', 'Spectral_affinity': 'rbf', 'Spectral_assign_labels': 'discretize', 'MaximalMarginalRelevance_diversity': 0.3476096372922819, 'MaximalMarginalRelevance_top_n_words': 10}. Best is trial 21 with value: -0.7024190037168818.\n"
     ]
    },
    {
     "data": {
      "application/vnd.jupyter.widget-view+json": {
       "model_id": "49ec093bb48f4b2190bc2974be157410",
       "version_major": 2,
       "version_minor": 0
      },
      "text/plain": [
       "Batches:   0%|          | 0/256 [00:00<?, ?it/s]"
      ]
     },
     "metadata": {},
     "output_type": "display_data"
    },
    {
     "name": "stderr",
     "output_type": "stream",
     "text": [
      "[I 2024-12-01 05:02:51,552] Trial 31 finished with value: -0.6778388607292262 and parameters: {'umap_n_neighbors': 30, 'umap_min_dist': 0.3842413992363919, 'umap_n_components': 3, 'umap_metric': 'chebyshev', 'Spectral_n_cluster': 5, 'Spectral_eigen_solver': 'amg', 'Spectral_affinity': 'rbf', 'Spectral_assign_labels': 'kmeans', 'MaximalMarginalRelevance_diversity': 0.34841982686508954, 'MaximalMarginalRelevance_top_n_words': 9}. Best is trial 21 with value: -0.7024190037168818.\n"
     ]
    },
    {
     "data": {
      "application/vnd.jupyter.widget-view+json": {
       "model_id": "db2331b888ac4c248d20e641078354cb",
       "version_major": 2,
       "version_minor": 0
      },
      "text/plain": [
       "Batches:   0%|          | 0/256 [00:00<?, ?it/s]"
      ]
     },
     "metadata": {},
     "output_type": "display_data"
    },
    {
     "name": "stderr",
     "output_type": "stream",
     "text": [
      "[I 2024-12-01 05:04:07,756] Trial 32 finished with value: -0.6791443379916728 and parameters: {'umap_n_neighbors': 26, 'umap_min_dist': 0.25287252713122504, 'umap_n_components': 2, 'umap_metric': 'chebyshev', 'Spectral_n_cluster': 7, 'Spectral_eigen_solver': 'amg', 'Spectral_affinity': 'rbf', 'Spectral_assign_labels': 'kmeans', 'MaximalMarginalRelevance_diversity': 0.4354258816119954, 'MaximalMarginalRelevance_top_n_words': 9}. Best is trial 21 with value: -0.7024190037168818.\n"
     ]
    },
    {
     "data": {
      "application/vnd.jupyter.widget-view+json": {
       "model_id": "c9265f046eba45aa999fbc6b97d10b70",
       "version_major": 2,
       "version_minor": 0
      },
      "text/plain": [
       "Batches:   0%|          | 0/256 [00:00<?, ?it/s]"
      ]
     },
     "metadata": {},
     "output_type": "display_data"
    },
    {
     "name": "stderr",
     "output_type": "stream",
     "text": [
      "[I 2024-12-01 05:05:24,963] Trial 33 finished with value: -0.6642151835260168 and parameters: {'umap_n_neighbors': 29, 'umap_min_dist': 0.4574845025335439, 'umap_n_components': 4, 'umap_metric': 'correlation', 'Spectral_n_cluster': 5, 'Spectral_eigen_solver': 'amg', 'Spectral_affinity': 'rbf', 'Spectral_assign_labels': 'kmeans', 'MaximalMarginalRelevance_diversity': 0.36434323553028747, 'MaximalMarginalRelevance_top_n_words': 9}. Best is trial 21 with value: -0.7024190037168818.\n"
     ]
    },
    {
     "data": {
      "application/vnd.jupyter.widget-view+json": {
       "model_id": "814ca28247014bb899083f432c68ca83",
       "version_major": 2,
       "version_minor": 0
      },
      "text/plain": [
       "Batches:   0%|          | 0/256 [00:00<?, ?it/s]"
      ]
     },
     "metadata": {},
     "output_type": "display_data"
    },
    {
     "name": "stderr",
     "output_type": "stream",
     "text": [
      "[I 2024-12-01 05:06:41,707] Trial 34 finished with value: -0.674158672144734 and parameters: {'umap_n_neighbors': 23, 'umap_min_dist': 0.6814177100343235, 'umap_n_components': 9, 'umap_metric': 'chebyshev', 'Spectral_n_cluster': 8, 'Spectral_eigen_solver': 'amg', 'Spectral_affinity': 'rbf', 'Spectral_assign_labels': 'kmeans', 'MaximalMarginalRelevance_diversity': 0.5078820551741309, 'MaximalMarginalRelevance_top_n_words': 8}. Best is trial 21 with value: -0.7024190037168818.\n"
     ]
    },
    {
     "data": {
      "application/vnd.jupyter.widget-view+json": {
       "model_id": "6581c708e8034046b378752ed9d1118d",
       "version_major": 2,
       "version_minor": 0
      },
      "text/plain": [
       "Batches:   0%|          | 0/256 [00:00<?, ?it/s]"
      ]
     },
     "metadata": {},
     "output_type": "display_data"
    },
    {
     "name": "stderr",
     "output_type": "stream",
     "text": [
      "[I 2024-12-01 05:07:55,005] Trial 35 finished with value: -0.6307585318145055 and parameters: {'umap_n_neighbors': 26, 'umap_min_dist': 0.3341583213789896, 'umap_n_components': 3, 'umap_metric': 'correlation', 'Spectral_n_cluster': 19, 'Spectral_eigen_solver': 'amg', 'Spectral_affinity': 'nearest_neighbors', 'Spectral_assign_labels': 'kmeans', 'MaximalMarginalRelevance_diversity': 0.542642732432211, 'MaximalMarginalRelevance_top_n_words': 10}. Best is trial 21 with value: -0.7024190037168818.\n"
     ]
    },
    {
     "data": {
      "application/vnd.jupyter.widget-view+json": {
       "model_id": "1eb5ae6295db4fdd9e499b6103e90081",
       "version_major": 2,
       "version_minor": 0
      },
      "text/plain": [
       "Batches:   0%|          | 0/256 [00:00<?, ?it/s]"
      ]
     },
     "metadata": {},
     "output_type": "display_data"
    },
    {
     "name": "stderr",
     "output_type": "stream",
     "text": [
      "[I 2024-12-01 05:09:10,954] Trial 36 finished with value: -0.6597248205261758 and parameters: {'umap_n_neighbors': 10, 'umap_min_dist': 0.15214070222849774, 'umap_n_components': 5, 'umap_metric': 'euclidean', 'Spectral_n_cluster': 12, 'Spectral_eigen_solver': 'amg', 'Spectral_affinity': 'rbf', 'Spectral_assign_labels': 'kmeans', 'MaximalMarginalRelevance_diversity': 0.6127070891513038, 'MaximalMarginalRelevance_top_n_words': 8}. Best is trial 21 with value: -0.7024190037168818.\n"
     ]
    },
    {
     "data": {
      "application/vnd.jupyter.widget-view+json": {
       "model_id": "11bbde1e21974d5aaa3d7e6c583a2b38",
       "version_major": 2,
       "version_minor": 0
      },
      "text/plain": [
       "Batches:   0%|          | 0/256 [00:00<?, ?it/s]"
      ]
     },
     "metadata": {},
     "output_type": "display_data"
    },
    {
     "name": "stderr",
     "output_type": "stream",
     "text": [
      "[I 2024-12-01 05:10:34,394] Trial 37 finished with value: -0.6127390578984173 and parameters: {'umap_n_neighbors': 28, 'umap_min_dist': 0.5960205961043459, 'umap_n_components': 11, 'umap_metric': 'chebyshev', 'Spectral_n_cluster': 29, 'Spectral_eigen_solver': 'arpack', 'Spectral_affinity': 'nearest_neighbors', 'Spectral_assign_labels': 'kmeans', 'MaximalMarginalRelevance_diversity': 0.25518621716042783, 'MaximalMarginalRelevance_top_n_words': 9}. Best is trial 21 with value: -0.7024190037168818.\n"
     ]
    },
    {
     "data": {
      "application/vnd.jupyter.widget-view+json": {
       "model_id": "8889eb54798a4cb38e5da232c23b7009",
       "version_major": 2,
       "version_minor": 0
      },
      "text/plain": [
       "Batches:   0%|          | 0/256 [00:00<?, ?it/s]"
      ]
     },
     "metadata": {},
     "output_type": "display_data"
    },
    {
     "name": "stderr",
     "output_type": "stream",
     "text": [
      "[I 2024-12-01 05:11:46,623] Trial 38 finished with value: -0.6494647118469636 and parameters: {'umap_n_neighbors': 18, 'umap_min_dist': 0.5040439680656565, 'umap_n_components': 4, 'umap_metric': 'cosine', 'Spectral_n_cluster': 8, 'Spectral_eigen_solver': 'lobpcg', 'Spectral_affinity': 'rbf', 'Spectral_assign_labels': 'kmeans', 'MaximalMarginalRelevance_diversity': 0.19874328339495922, 'MaximalMarginalRelevance_top_n_words': 10}. Best is trial 21 with value: -0.7024190037168818.\n"
     ]
    },
    {
     "data": {
      "application/vnd.jupyter.widget-view+json": {
       "model_id": "23bedbde39324099af33ab6d223d8c97",
       "version_major": 2,
       "version_minor": 0
      },
      "text/plain": [
       "Batches:   0%|          | 0/256 [00:00<?, ?it/s]"
      ]
     },
     "metadata": {},
     "output_type": "display_data"
    },
    {
     "name": "stderr",
     "output_type": "stream",
     "text": [
      "[I 2024-12-01 05:13:02,568] Trial 39 finished with value: -0.6393578381484234 and parameters: {'umap_n_neighbors': 29, 'umap_min_dist': 0.43765023318565544, 'umap_n_components': 6, 'umap_metric': 'manhattan', 'Spectral_n_cluster': 38, 'Spectral_eigen_solver': 'amg', 'Spectral_affinity': 'nearest_neighbors', 'Spectral_assign_labels': 'kmeans', 'MaximalMarginalRelevance_diversity': 0.43017662437179854, 'MaximalMarginalRelevance_top_n_words': 6}. Best is trial 21 with value: -0.7024190037168818.\n"
     ]
    },
    {
     "data": {
      "application/vnd.jupyter.widget-view+json": {
       "model_id": "e24332f8e453441692ff2b80feacd2bd",
       "version_major": 2,
       "version_minor": 0
      },
      "text/plain": [
       "Batches:   0%|          | 0/256 [00:00<?, ?it/s]"
      ]
     },
     "metadata": {},
     "output_type": "display_data"
    },
    {
     "name": "stderr",
     "output_type": "stream",
     "text": [
      "[I 2024-12-01 05:14:17,904] Trial 40 finished with value: -0.6477752551968399 and parameters: {'umap_n_neighbors': 23, 'umap_min_dist': 0.19627572885770692, 'umap_n_components': 2, 'umap_metric': 'chebyshev', 'Spectral_n_cluster': 17, 'Spectral_eigen_solver': 'amg', 'Spectral_affinity': 'rbf', 'Spectral_assign_labels': 'cluster_qr', 'MaximalMarginalRelevance_diversity': 0.6357046883381957, 'MaximalMarginalRelevance_top_n_words': 5}. Best is trial 21 with value: -0.7024190037168818.\n"
     ]
    },
    {
     "data": {
      "application/vnd.jupyter.widget-view+json": {
       "model_id": "8a8fbec2c3fb4551a36a36ff43a16a84",
       "version_major": 2,
       "version_minor": 0
      },
      "text/plain": [
       "Batches:   0%|          | 0/256 [00:00<?, ?it/s]"
      ]
     },
     "metadata": {},
     "output_type": "display_data"
    },
    {
     "name": "stderr",
     "output_type": "stream",
     "text": [
      "[I 2024-12-01 05:15:32,857] Trial 41 finished with value: -0.6918269611476843 and parameters: {'umap_n_neighbors': 30, 'umap_min_dist': 0.355962848978222, 'umap_n_components': 3, 'umap_metric': 'chebyshev', 'Spectral_n_cluster': 5, 'Spectral_eigen_solver': 'amg', 'Spectral_affinity': 'rbf', 'Spectral_assign_labels': 'kmeans', 'MaximalMarginalRelevance_diversity': 0.38820921956588794, 'MaximalMarginalRelevance_top_n_words': 9}. Best is trial 21 with value: -0.7024190037168818.\n"
     ]
    },
    {
     "data": {
      "application/vnd.jupyter.widget-view+json": {
       "model_id": "5130b3e4e79a477bbe3f6ad9e32a8493",
       "version_major": 2,
       "version_minor": 0
      },
      "text/plain": [
       "Batches:   0%|          | 0/256 [00:00<?, ?it/s]"
      ]
     },
     "metadata": {},
     "output_type": "display_data"
    },
    {
     "name": "stderr",
     "output_type": "stream",
     "text": [
      "[I 2024-12-01 05:16:50,007] Trial 42 finished with value: -0.6797485105801306 and parameters: {'umap_n_neighbors': 27, 'umap_min_dist': 0.2749397255209367, 'umap_n_components': 3, 'umap_metric': 'chebyshev', 'Spectral_n_cluster': 7, 'Spectral_eigen_solver': 'amg', 'Spectral_affinity': 'rbf', 'Spectral_assign_labels': 'kmeans', 'MaximalMarginalRelevance_diversity': 0.4171047350074545, 'MaximalMarginalRelevance_top_n_words': 9}. Best is trial 21 with value: -0.7024190037168818.\n"
     ]
    },
    {
     "data": {
      "application/vnd.jupyter.widget-view+json": {
       "model_id": "fff8330148794770a1273e899a201bf3",
       "version_major": 2,
       "version_minor": 0
      },
      "text/plain": [
       "Batches:   0%|          | 0/256 [00:00<?, ?it/s]"
      ]
     },
     "metadata": {},
     "output_type": "display_data"
    },
    {
     "name": "stderr",
     "output_type": "stream",
     "text": [
      "[I 2024-12-01 05:18:06,407] Trial 43 finished with value: -0.6365873493868272 and parameters: {'umap_n_neighbors': 29, 'umap_min_dist': 0.3930141765222342, 'umap_n_components': 4, 'umap_metric': 'chebyshev', 'Spectral_n_cluster': 11, 'Spectral_eigen_solver': 'amg', 'Spectral_affinity': 'rbf', 'Spectral_assign_labels': 'kmeans', 'MaximalMarginalRelevance_diversity': 0.5154970015333955, 'MaximalMarginalRelevance_top_n_words': 10}. Best is trial 21 with value: -0.7024190037168818.\n"
     ]
    },
    {
     "data": {
      "application/vnd.jupyter.widget-view+json": {
       "model_id": "0c830075b78f4655bb9193e1ab42faf1",
       "version_major": 2,
       "version_minor": 0
      },
      "text/plain": [
       "Batches:   0%|          | 0/256 [00:00<?, ?it/s]"
      ]
     },
     "metadata": {},
     "output_type": "display_data"
    },
    {
     "name": "stderr",
     "output_type": "stream",
     "text": [
      "[I 2024-12-01 05:19:21,209] Trial 44 finished with value: -0.662324060140616 and parameters: {'umap_n_neighbors': 25, 'umap_min_dist': 0.738674772349484, 'umap_n_components': 2, 'umap_metric': 'cosine', 'Spectral_n_cluster': 5, 'Spectral_eigen_solver': 'amg', 'Spectral_affinity': 'rbf', 'Spectral_assign_labels': 'kmeans', 'MaximalMarginalRelevance_diversity': 0.3099250062737475, 'MaximalMarginalRelevance_top_n_words': 9}. Best is trial 21 with value: -0.7024190037168818.\n"
     ]
    },
    {
     "data": {
      "application/vnd.jupyter.widget-view+json": {
       "model_id": "5b53c5461ef34489b19e037d824e0daf",
       "version_major": 2,
       "version_minor": 0
      },
      "text/plain": [
       "Batches:   0%|          | 0/256 [00:00<?, ?it/s]"
      ]
     },
     "metadata": {},
     "output_type": "display_data"
    },
    {
     "name": "stderr",
     "output_type": "stream",
     "text": [
      "[I 2024-12-01 05:20:38,147] Trial 45 finished with value: -0.6435252354045321 and parameters: {'umap_n_neighbors': 27, 'umap_min_dist': 0.47595136392136456, 'umap_n_components': 5, 'umap_metric': 'correlation', 'Spectral_n_cluster': 14, 'Spectral_eigen_solver': 'amg', 'Spectral_affinity': 'rbf', 'Spectral_assign_labels': 'discretize', 'MaximalMarginalRelevance_diversity': 0.45452548910138896, 'MaximalMarginalRelevance_top_n_words': 8}. Best is trial 21 with value: -0.7024190037168818.\n"
     ]
    },
    {
     "data": {
      "application/vnd.jupyter.widget-view+json": {
       "model_id": "391a8e6bbfef493daf0d2f89f5f79ccd",
       "version_major": 2,
       "version_minor": 0
      },
      "text/plain": [
       "Batches:   0%|          | 0/256 [00:00<?, ?it/s]"
      ]
     },
     "metadata": {},
     "output_type": "display_data"
    },
    {
     "name": "stderr",
     "output_type": "stream",
     "text": [
      "[I 2024-12-01 05:21:50,178] Trial 46 finished with value: -0.6654790082336344 and parameters: {'umap_n_neighbors': 30, 'umap_min_dist': 0.5298371541072093, 'umap_n_components': 3, 'umap_metric': 'chebyshev', 'Spectral_n_cluster': 7, 'Spectral_eigen_solver': 'lobpcg', 'Spectral_affinity': 'nearest_neighbors', 'Spectral_assign_labels': 'kmeans', 'MaximalMarginalRelevance_diversity': 0.37067857626166045, 'MaximalMarginalRelevance_top_n_words': 10}. Best is trial 21 with value: -0.7024190037168818.\n"
     ]
    },
    {
     "data": {
      "application/vnd.jupyter.widget-view+json": {
       "model_id": "65ec60bb25e54683ab3cf8704e11ab28",
       "version_major": 2,
       "version_minor": 0
      },
      "text/plain": [
       "Batches:   0%|          | 0/256 [00:00<?, ?it/s]"
      ]
     },
     "metadata": {},
     "output_type": "display_data"
    },
    {
     "name": "stderr",
     "output_type": "stream",
     "text": [
      "[I 2024-12-01 05:23:07,696] Trial 47 finished with value: -0.6427241605224429 and parameters: {'umap_n_neighbors': 29, 'umap_min_dist': 0.10166787557638113, 'umap_n_components': 7, 'umap_metric': 'chebyshev', 'Spectral_n_cluster': 10, 'Spectral_eigen_solver': 'amg', 'Spectral_affinity': 'rbf', 'Spectral_assign_labels': 'kmeans', 'MaximalMarginalRelevance_diversity': 0.546553665505398, 'MaximalMarginalRelevance_top_n_words': 9}. Best is trial 21 with value: -0.7024190037168818.\n"
     ]
    },
    {
     "data": {
      "application/vnd.jupyter.widget-view+json": {
       "model_id": "13182370d7214a8ab4eb5bd294954088",
       "version_major": 2,
       "version_minor": 0
      },
      "text/plain": [
       "Batches:   0%|          | 0/256 [00:00<?, ?it/s]"
      ]
     },
     "metadata": {},
     "output_type": "display_data"
    },
    {
     "name": "stderr",
     "output_type": "stream",
     "text": [
      "[I 2024-12-01 05:24:22,513] Trial 48 finished with value: -0.659855269199925 and parameters: {'umap_n_neighbors': 25, 'umap_min_dist': 0.22441264028641678, 'umap_n_components': 2, 'umap_metric': 'chebyshev', 'Spectral_n_cluster': 7, 'Spectral_eigen_solver': 'arpack', 'Spectral_affinity': 'rbf', 'Spectral_assign_labels': 'kmeans', 'MaximalMarginalRelevance_diversity': 0.27978399742919074, 'MaximalMarginalRelevance_top_n_words': 8}. Best is trial 21 with value: -0.7024190037168818.\n"
     ]
    },
    {
     "data": {
      "application/vnd.jupyter.widget-view+json": {
       "model_id": "c5f455700dda4079beae3c0ca455b4c3",
       "version_major": 2,
       "version_minor": 0
      },
      "text/plain": [
       "Batches:   0%|          | 0/256 [00:00<?, ?it/s]"
      ]
     },
     "metadata": {},
     "output_type": "display_data"
    },
    {
     "name": "stderr",
     "output_type": "stream",
     "text": [
      "[I 2024-12-01 05:25:39,318] Trial 49 finished with value: -0.6334878928820264 and parameters: {'umap_n_neighbors': 27, 'umap_min_dist': 0.3097599687919585, 'umap_n_components': 6, 'umap_metric': 'cosine', 'Spectral_n_cluster': 14, 'Spectral_eigen_solver': 'amg', 'Spectral_affinity': 'rbf', 'Spectral_assign_labels': 'cluster_qr', 'MaximalMarginalRelevance_diversity': 0.34436811507437276, 'MaximalMarginalRelevance_top_n_words': 7}. Best is trial 21 with value: -0.7024190037168818.\n"
     ]
    },
    {
     "data": {
      "application/vnd.jupyter.widget-view+json": {
       "model_id": "555a587e7f6645d193e9b3ca316b15b7",
       "version_major": 2,
       "version_minor": 0
      },
      "text/plain": [
       "Batches:   0%|          | 0/256 [00:00<?, ?it/s]"
      ]
     },
     "metadata": {},
     "output_type": "display_data"
    },
    {
     "name": "stderr",
     "output_type": "stream",
     "text": [
      "[I 2024-12-01 05:26:53,975] Trial 50 finished with value: -0.6136720462287755 and parameters: {'umap_n_neighbors': 30, 'umap_min_dist': 0.34106496613136705, 'umap_n_components': 4, 'umap_metric': 'manhattan', 'Spectral_n_cluster': 33, 'Spectral_eigen_solver': 'amg', 'Spectral_affinity': 'nearest_neighbors', 'Spectral_assign_labels': 'kmeans', 'MaximalMarginalRelevance_diversity': 0.16438751013030867, 'MaximalMarginalRelevance_top_n_words': 9}. Best is trial 21 with value: -0.7024190037168818.\n"
     ]
    },
    {
     "data": {
      "application/vnd.jupyter.widget-view+json": {
       "model_id": "37516d0a95bf4e128145bd098aeea9c8",
       "version_major": 2,
       "version_minor": 0
      },
      "text/plain": [
       "Batches:   0%|          | 0/256 [00:00<?, ?it/s]"
      ]
     },
     "metadata": {},
     "output_type": "display_data"
    },
    {
     "name": "stderr",
     "output_type": "stream",
     "text": [
      "[I 2024-12-01 05:28:09,517] Trial 51 finished with value: -0.6847171918380555 and parameters: {'umap_n_neighbors': 30, 'umap_min_dist': 0.4158386613147937, 'umap_n_components': 3, 'umap_metric': 'chebyshev', 'Spectral_n_cluster': 5, 'Spectral_eigen_solver': 'amg', 'Spectral_affinity': 'rbf', 'Spectral_assign_labels': 'kmeans', 'MaximalMarginalRelevance_diversity': 0.39450140937706096, 'MaximalMarginalRelevance_top_n_words': 9}. Best is trial 21 with value: -0.7024190037168818.\n"
     ]
    },
    {
     "data": {
      "application/vnd.jupyter.widget-view+json": {
       "model_id": "797a6c79ae19413992857d6dcdca360b",
       "version_major": 2,
       "version_minor": 0
      },
      "text/plain": [
       "Batches:   0%|          | 0/256 [00:00<?, ?it/s]"
      ]
     },
     "metadata": {},
     "output_type": "display_data"
    },
    {
     "name": "stderr",
     "output_type": "stream",
     "text": [
      "[I 2024-12-01 05:29:25,259] Trial 52 finished with value: -0.6791498173555328 and parameters: {'umap_n_neighbors': 29, 'umap_min_dist': 0.3614769658740113, 'umap_n_components': 3, 'umap_metric': 'chebyshev', 'Spectral_n_cluster': 5, 'Spectral_eigen_solver': 'amg', 'Spectral_affinity': 'rbf', 'Spectral_assign_labels': 'kmeans', 'MaximalMarginalRelevance_diversity': 0.3785179395922878, 'MaximalMarginalRelevance_top_n_words': 9}. Best is trial 21 with value: -0.7024190037168818.\n"
     ]
    },
    {
     "data": {
      "application/vnd.jupyter.widget-view+json": {
       "model_id": "23d4806bc87b4c01877b58f065f18a09",
       "version_major": 2,
       "version_minor": 0
      },
      "text/plain": [
       "Batches:   0%|          | 0/256 [00:00<?, ?it/s]"
      ]
     },
     "metadata": {},
     "output_type": "display_data"
    },
    {
     "name": "stderr",
     "output_type": "stream",
     "text": [
      "[I 2024-12-01 05:30:40,881] Trial 53 finished with value: -0.670746431865426 and parameters: {'umap_n_neighbors': 28, 'umap_min_dist': 0.4367094641332678, 'umap_n_components': 2, 'umap_metric': 'chebyshev', 'Spectral_n_cluster': 8, 'Spectral_eigen_solver': 'amg', 'Spectral_affinity': 'rbf', 'Spectral_assign_labels': 'kmeans', 'MaximalMarginalRelevance_diversity': 0.46028676156073306, 'MaximalMarginalRelevance_top_n_words': 9}. Best is trial 21 with value: -0.7024190037168818.\n"
     ]
    },
    {
     "data": {
      "application/vnd.jupyter.widget-view+json": {
       "model_id": "7def687339b642789af006d6d071c138",
       "version_major": 2,
       "version_minor": 0
      },
      "text/plain": [
       "Batches:   0%|          | 0/256 [00:00<?, ?it/s]"
      ]
     },
     "metadata": {},
     "output_type": "display_data"
    },
    {
     "name": "stderr",
     "output_type": "stream",
     "text": [
      "[I 2024-12-01 05:31:56,957] Trial 54 finished with value: -0.6381439798728568 and parameters: {'umap_n_neighbors': 26, 'umap_min_dist': 0.5657631129035107, 'umap_n_components': 4, 'umap_metric': 'chebyshev', 'Spectral_n_cluster': 10, 'Spectral_eigen_solver': 'amg', 'Spectral_affinity': 'rbf', 'Spectral_assign_labels': 'kmeans', 'MaximalMarginalRelevance_diversity': 0.32343757379336024, 'MaximalMarginalRelevance_top_n_words': 10}. Best is trial 21 with value: -0.7024190037168818.\n"
     ]
    },
    {
     "data": {
      "application/vnd.jupyter.widget-view+json": {
       "model_id": "19428629aa8d49dab3a4d5b7243bce49",
       "version_major": 2,
       "version_minor": 0
      },
      "text/plain": [
       "Batches:   0%|          | 0/256 [00:00<?, ?it/s]"
      ]
     },
     "metadata": {},
     "output_type": "display_data"
    },
    {
     "name": "stderr",
     "output_type": "stream",
     "text": [
      "[I 2024-12-01 05:33:20,094] Trial 55 finished with value: -0.6043274026965477 and parameters: {'umap_n_neighbors': 29, 'umap_min_dist': 0.37268471277779275, 'umap_n_components': 5, 'umap_metric': 'chebyshev', 'Spectral_n_cluster': 48, 'Spectral_eigen_solver': 'amg', 'Spectral_affinity': 'rbf', 'Spectral_assign_labels': 'kmeans', 'MaximalMarginalRelevance_diversity': 0.4130551681330422, 'MaximalMarginalRelevance_top_n_words': 9}. Best is trial 21 with value: -0.7024190037168818.\n"
     ]
    },
    {
     "data": {
      "application/vnd.jupyter.widget-view+json": {
       "model_id": "36e64d30c8184b21926a0366bf77bfbd",
       "version_major": 2,
       "version_minor": 0
      },
      "text/plain": [
       "Batches:   0%|          | 0/256 [00:00<?, ?it/s]"
      ]
     },
     "metadata": {},
     "output_type": "display_data"
    },
    {
     "name": "stderr",
     "output_type": "stream",
     "text": [
      "[I 2024-12-01 05:34:35,732] Trial 56 finished with value: -0.6822749120414032 and parameters: {'umap_n_neighbors': 30, 'umap_min_dist': 0.2605542479771693, 'umap_n_components': 3, 'umap_metric': 'euclidean', 'Spectral_n_cluster': 7, 'Spectral_eigen_solver': 'amg', 'Spectral_affinity': 'rbf', 'Spectral_assign_labels': 'discretize', 'MaximalMarginalRelevance_diversity': 0.5032504964954279, 'MaximalMarginalRelevance_top_n_words': 8}. Best is trial 21 with value: -0.7024190037168818.\n"
     ]
    },
    {
     "data": {
      "application/vnd.jupyter.widget-view+json": {
       "model_id": "2363634305064733a3682701d1cf1c9f",
       "version_major": 2,
       "version_minor": 0
      },
      "text/plain": [
       "Batches:   0%|          | 0/256 [00:00<?, ?it/s]"
      ]
     },
     "metadata": {},
     "output_type": "display_data"
    },
    {
     "name": "stderr",
     "output_type": "stream",
     "text": [
      "[I 2024-12-01 05:35:53,672] Trial 57 finished with value: -0.6387050242428333 and parameters: {'umap_n_neighbors': 27, 'umap_min_dist': 0.31030070743550786, 'umap_n_components': 13, 'umap_metric': 'chebyshev', 'Spectral_n_cluster': 9, 'Spectral_eigen_solver': 'amg', 'Spectral_affinity': 'rbf', 'Spectral_assign_labels': 'kmeans', 'MaximalMarginalRelevance_diversity': 0.22572310949072155, 'MaximalMarginalRelevance_top_n_words': 9}. Best is trial 21 with value: -0.7024190037168818.\n"
     ]
    },
    {
     "data": {
      "application/vnd.jupyter.widget-view+json": {
       "model_id": "1e31290aaaa94342b341d5daf566fc78",
       "version_major": 2,
       "version_minor": 0
      },
      "text/plain": [
       "Batches:   0%|          | 0/256 [00:00<?, ?it/s]"
      ]
     },
     "metadata": {},
     "output_type": "display_data"
    },
    {
     "name": "stderr",
     "output_type": "stream",
     "text": [
      "[I 2024-12-01 05:37:08,587] Trial 58 finished with value: -0.64039351813699 and parameters: {'umap_n_neighbors': 17, 'umap_min_dist': 0.6262026583363954, 'umap_n_components': 2, 'umap_metric': 'chebyshev', 'Spectral_n_cluster': 11, 'Spectral_eigen_solver': 'arpack', 'Spectral_affinity': 'rbf', 'Spectral_assign_labels': 'kmeans', 'MaximalMarginalRelevance_diversity': 0.4691434944165755, 'MaximalMarginalRelevance_top_n_words': 10}. Best is trial 21 with value: -0.7024190037168818.\n"
     ]
    },
    {
     "data": {
      "application/vnd.jupyter.widget-view+json": {
       "model_id": "71cfa3fd231c4e05b89f3beea1dd21ec",
       "version_major": 2,
       "version_minor": 0
      },
      "text/plain": [
       "Batches:   0%|          | 0/256 [00:00<?, ?it/s]"
      ]
     },
     "metadata": {},
     "output_type": "display_data"
    },
    {
     "name": "stderr",
     "output_type": "stream",
     "text": [
      "[I 2024-12-01 05:38:21,941] Trial 59 finished with value: -0.6935323332473925 and parameters: {'umap_n_neighbors': 20, 'umap_min_dist': 0.34314721957937305, 'umap_n_components': 5, 'umap_metric': 'chebyshev', 'Spectral_n_cluster': 6, 'Spectral_eigen_solver': 'lobpcg', 'Spectral_affinity': 'rbf', 'Spectral_assign_labels': 'cluster_qr', 'MaximalMarginalRelevance_diversity': 0.3963680098432419, 'MaximalMarginalRelevance_top_n_words': 9}. Best is trial 21 with value: -0.7024190037168818.\n"
     ]
    },
    {
     "data": {
      "application/vnd.jupyter.widget-view+json": {
       "model_id": "c4c67294a0834ac5a723f05932f2ead4",
       "version_major": 2,
       "version_minor": 0
      },
      "text/plain": [
       "Batches:   0%|          | 0/256 [00:00<?, ?it/s]"
      ]
     },
     "metadata": {},
     "output_type": "display_data"
    },
    {
     "name": "stderr",
     "output_type": "stream",
     "text": [
      "[I 2024-12-01 05:39:36,569] Trial 60 finished with value: -0.628704375712756 and parameters: {'umap_n_neighbors': 20, 'umap_min_dist': 0.4086250404839401, 'umap_n_components': 5, 'umap_metric': 'chebyshev', 'Spectral_n_cluster': 23, 'Spectral_eigen_solver': 'lobpcg', 'Spectral_affinity': 'rbf', 'Spectral_assign_labels': 'cluster_qr', 'MaximalMarginalRelevance_diversity': 0.44314623950732485, 'MaximalMarginalRelevance_top_n_words': 7}. Best is trial 21 with value: -0.7024190037168818.\n"
     ]
    },
    {
     "data": {
      "application/vnd.jupyter.widget-view+json": {
       "model_id": "56fef867d2314b559c504861055e5615",
       "version_major": 2,
       "version_minor": 0
      },
      "text/plain": [
       "Batches:   0%|          | 0/256 [00:00<?, ?it/s]"
      ]
     },
     "metadata": {},
     "output_type": "display_data"
    },
    {
     "name": "stderr",
     "output_type": "stream",
     "text": [
      "[I 2024-12-01 05:40:48,539] Trial 61 finished with value: -0.6895581653806506 and parameters: {'umap_n_neighbors': 21, 'umap_min_dist': 0.3523621390203782, 'umap_n_components': 4, 'umap_metric': 'chebyshev', 'Spectral_n_cluster': 6, 'Spectral_eigen_solver': 'lobpcg', 'Spectral_affinity': 'rbf', 'Spectral_assign_labels': 'cluster_qr', 'MaximalMarginalRelevance_diversity': 0.3868297168172507, 'MaximalMarginalRelevance_top_n_words': 9}. Best is trial 21 with value: -0.7024190037168818.\n"
     ]
    },
    {
     "data": {
      "application/vnd.jupyter.widget-view+json": {
       "model_id": "c37b465861824abe833775b2c9fd5b96",
       "version_major": 2,
       "version_minor": 0
      },
      "text/plain": [
       "Batches:   0%|          | 0/256 [00:00<?, ?it/s]"
      ]
     },
     "metadata": {},
     "output_type": "display_data"
    },
    {
     "name": "stderr",
     "output_type": "stream",
     "text": [
      "[I 2024-12-01 05:41:59,483] Trial 62 finished with value: -0.6722009237833769 and parameters: {'umap_n_neighbors': 19, 'umap_min_dist': 0.2860522517397459, 'umap_n_components': 3, 'umap_metric': 'chebyshev', 'Spectral_n_cluster': 5, 'Spectral_eigen_solver': 'lobpcg', 'Spectral_affinity': 'rbf', 'Spectral_assign_labels': 'cluster_qr', 'MaximalMarginalRelevance_diversity': 0.33388048058207226, 'MaximalMarginalRelevance_top_n_words': 9}. Best is trial 21 with value: -0.7024190037168818.\n"
     ]
    },
    {
     "data": {
      "application/vnd.jupyter.widget-view+json": {
       "model_id": "fada2ca14a0f498098f5c102d58d89c7",
       "version_major": 2,
       "version_minor": 0
      },
      "text/plain": [
       "Batches:   0%|          | 0/256 [00:00<?, ?it/s]"
      ]
     },
     "metadata": {},
     "output_type": "display_data"
    },
    {
     "name": "stderr",
     "output_type": "stream",
     "text": [
      "[I 2024-12-01 05:43:11,377] Trial 63 finished with value: -0.6621152404065941 and parameters: {'umap_n_neighbors': 16, 'umap_min_dist': 0.4611710635286681, 'umap_n_components': 4, 'umap_metric': 'chebyshev', 'Spectral_n_cluster': 9, 'Spectral_eigen_solver': 'lobpcg', 'Spectral_affinity': 'rbf', 'Spectral_assign_labels': 'cluster_qr', 'MaximalMarginalRelevance_diversity': 0.41644350128853846, 'MaximalMarginalRelevance_top_n_words': 9}. Best is trial 21 with value: -0.7024190037168818.\n"
     ]
    },
    {
     "data": {
      "application/vnd.jupyter.widget-view+json": {
       "model_id": "413e35a8390e41759f657661c1d50c14",
       "version_major": 2,
       "version_minor": 0
      },
      "text/plain": [
       "Batches:   0%|          | 0/256 [00:00<?, ?it/s]"
      ]
     },
     "metadata": {},
     "output_type": "display_data"
    },
    {
     "name": "stderr",
     "output_type": "stream",
     "text": [
      "[I 2024-12-01 05:44:24,123] Trial 64 finished with value: -0.6649068899117825 and parameters: {'umap_n_neighbors': 28, 'umap_min_dist': 0.22769982585014825, 'umap_n_components': 3, 'umap_metric': 'chebyshev', 'Spectral_n_cluster': 7, 'Spectral_eigen_solver': 'lobpcg', 'Spectral_affinity': 'rbf', 'Spectral_assign_labels': 'cluster_qr', 'MaximalMarginalRelevance_diversity': 0.27907359947469645, 'MaximalMarginalRelevance_top_n_words': 8}. Best is trial 21 with value: -0.7024190037168818.\n"
     ]
    },
    {
     "data": {
      "application/vnd.jupyter.widget-view+json": {
       "model_id": "a84a344413204cf5b2c68b864fb1d20e",
       "version_major": 2,
       "version_minor": 0
      },
      "text/plain": [
       "Batches:   0%|          | 0/256 [00:00<?, ?it/s]"
      ]
     },
     "metadata": {},
     "output_type": "display_data"
    },
    {
     "name": "stderr",
     "output_type": "stream",
     "text": [
      "[I 2024-12-01 05:45:40,450] Trial 65 finished with value: -0.6342307219887844 and parameters: {'umap_n_neighbors': 23, 'umap_min_dist': 0.3911508211541087, 'umap_n_components': 6, 'umap_metric': 'correlation', 'Spectral_n_cluster': 11, 'Spectral_eigen_solver': 'amg', 'Spectral_affinity': 'rbf', 'Spectral_assign_labels': 'kmeans', 'MaximalMarginalRelevance_diversity': 0.48618829903361216, 'MaximalMarginalRelevance_top_n_words': 9}. Best is trial 21 with value: -0.7024190037168818.\n"
     ]
    },
    {
     "data": {
      "application/vnd.jupyter.widget-view+json": {
       "model_id": "7b28ab81d4734a659f706ce107c1e10c",
       "version_major": 2,
       "version_minor": 0
      },
      "text/plain": [
       "Batches:   0%|          | 0/256 [00:00<?, ?it/s]"
      ]
     },
     "metadata": {},
     "output_type": "display_data"
    },
    {
     "name": "stderr",
     "output_type": "stream",
     "text": [
      "[I 2024-12-01 05:46:55,870] Trial 66 finished with value: -0.6954084240145049 and parameters: {'umap_n_neighbors': 30, 'umap_min_dist': 0.32698618336200364, 'umap_n_components': 4, 'umap_metric': 'chebyshev', 'Spectral_n_cluster': 6, 'Spectral_eigen_solver': 'amg', 'Spectral_affinity': 'rbf', 'Spectral_assign_labels': 'kmeans', 'MaximalMarginalRelevance_diversity': 0.3575526668556537, 'MaximalMarginalRelevance_top_n_words': 10}. Best is trial 21 with value: -0.7024190037168818.\n"
     ]
    },
    {
     "data": {
      "application/vnd.jupyter.widget-view+json": {
       "model_id": "88237dc271034065a84dbc0011c384dd",
       "version_major": 2,
       "version_minor": 0
      },
      "text/plain": [
       "Batches:   0%|          | 0/256 [00:00<?, ?it/s]"
      ]
     },
     "metadata": {},
     "output_type": "display_data"
    },
    {
     "name": "stderr",
     "output_type": "stream",
     "text": [
      "[I 2024-12-01 05:48:11,735] Trial 67 finished with value: -0.6235521790597133 and parameters: {'umap_n_neighbors': 24, 'umap_min_dist': 0.5108100488060378, 'umap_n_components': 5, 'umap_metric': 'manhattan', 'Spectral_n_cluster': 13, 'Spectral_eigen_solver': 'amg', 'Spectral_affinity': 'rbf', 'Spectral_assign_labels': 'discretize', 'MaximalMarginalRelevance_diversity': 0.30199188190016624, 'MaximalMarginalRelevance_top_n_words': 10}. Best is trial 21 with value: -0.7024190037168818.\n"
     ]
    },
    {
     "data": {
      "application/vnd.jupyter.widget-view+json": {
       "model_id": "f0ba0f0576014f67b01dbc074ffeb417",
       "version_major": 2,
       "version_minor": 0
      },
      "text/plain": [
       "Batches:   0%|          | 0/256 [00:00<?, ?it/s]"
      ]
     },
     "metadata": {},
     "output_type": "display_data"
    },
    {
     "name": "stderr",
     "output_type": "stream",
     "text": [
      "[I 2024-12-01 05:49:27,365] Trial 68 finished with value: -0.6726843249534844 and parameters: {'umap_n_neighbors': 28, 'umap_min_dist': 0.13409897416450678, 'umap_n_components': 4, 'umap_metric': 'euclidean', 'Spectral_n_cluster': 8, 'Spectral_eigen_solver': 'amg', 'Spectral_affinity': 'rbf', 'Spectral_assign_labels': 'kmeans', 'MaximalMarginalRelevance_diversity': 0.7849887706243998, 'MaximalMarginalRelevance_top_n_words': 10}. Best is trial 21 with value: -0.7024190037168818.\n"
     ]
    },
    {
     "data": {
      "application/vnd.jupyter.widget-view+json": {
       "model_id": "c3d88f62114e48caafb43c37305f6e08",
       "version_major": 2,
       "version_minor": 0
      },
      "text/plain": [
       "Batches:   0%|          | 0/256 [00:00<?, ?it/s]"
      ]
     },
     "metadata": {},
     "output_type": "display_data"
    },
    {
     "name": "stderr",
     "output_type": "stream",
     "text": [
      "[I 2024-12-01 05:50:37,148] Trial 69 finished with value: -0.6229188160567476 and parameters: {'umap_n_neighbors': 10, 'umap_min_dist': 0.32354094614618734, 'umap_n_components': 8, 'umap_metric': 'chebyshev', 'Spectral_n_cluster': 16, 'Spectral_eigen_solver': 'lobpcg', 'Spectral_affinity': 'nearest_neighbors', 'Spectral_assign_labels': 'kmeans', 'MaximalMarginalRelevance_diversity': 0.35897355113788476, 'MaximalMarginalRelevance_top_n_words': 10}. Best is trial 21 with value: -0.7024190037168818.\n"
     ]
    },
    {
     "data": {
      "application/vnd.jupyter.widget-view+json": {
       "model_id": "5dc70f4e26f247b5b9799921a6bb5750",
       "version_major": 2,
       "version_minor": 0
      },
      "text/plain": [
       "Batches:   0%|          | 0/256 [00:00<?, ?it/s]"
      ]
     },
     "metadata": {},
     "output_type": "display_data"
    },
    {
     "name": "stderr",
     "output_type": "stream",
     "text": [
      "[I 2024-12-01 05:51:51,866] Trial 70 finished with value: -0.6744003757684899 and parameters: {'umap_n_neighbors': 29, 'umap_min_dist': 0.2462772056045017, 'umap_n_components': 2, 'umap_metric': 'chebyshev', 'Spectral_n_cluster': 6, 'Spectral_eigen_solver': 'arpack', 'Spectral_affinity': 'rbf', 'Spectral_assign_labels': 'cluster_qr', 'MaximalMarginalRelevance_diversity': 0.581357463061146, 'MaximalMarginalRelevance_top_n_words': 8}. Best is trial 21 with value: -0.7024190037168818.\n"
     ]
    },
    {
     "data": {
      "application/vnd.jupyter.widget-view+json": {
       "model_id": "0c87aa4f47134d3db2ddd6823c6ffd45",
       "version_major": 2,
       "version_minor": 0
      },
      "text/plain": [
       "Batches:   0%|          | 0/256 [00:00<?, ?it/s]"
      ]
     },
     "metadata": {},
     "output_type": "display_data"
    },
    {
     "name": "stderr",
     "output_type": "stream",
     "text": [
      "[I 2024-12-01 05:53:07,285] Trial 71 finished with value: -0.7022664370052294 and parameters: {'umap_n_neighbors': 30, 'umap_min_dist': 0.42526717152980925, 'umap_n_components': 3, 'umap_metric': 'chebyshev', 'Spectral_n_cluster': 6, 'Spectral_eigen_solver': 'amg', 'Spectral_affinity': 'rbf', 'Spectral_assign_labels': 'kmeans', 'MaximalMarginalRelevance_diversity': 0.3948179567945554, 'MaximalMarginalRelevance_top_n_words': 9}. Best is trial 21 with value: -0.7024190037168818.\n"
     ]
    },
    {
     "data": {
      "application/vnd.jupyter.widget-view+json": {
       "model_id": "9fc248e32c0c4b93960700fe4fae4c3b",
       "version_major": 2,
       "version_minor": 0
      },
      "text/plain": [
       "Batches:   0%|          | 0/256 [00:00<?, ?it/s]"
      ]
     },
     "metadata": {},
     "output_type": "display_data"
    },
    {
     "name": "stderr",
     "output_type": "stream",
     "text": [
      "[I 2024-12-01 05:54:23,443] Trial 72 finished with value: -0.6682073516466138 and parameters: {'umap_n_neighbors': 29, 'umap_min_dist': 0.4258726424034144, 'umap_n_components': 4, 'umap_metric': 'chebyshev', 'Spectral_n_cluster': 9, 'Spectral_eigen_solver': 'amg', 'Spectral_affinity': 'rbf', 'Spectral_assign_labels': 'kmeans', 'MaximalMarginalRelevance_diversity': 0.43304951909528816, 'MaximalMarginalRelevance_top_n_words': 9}. Best is trial 21 with value: -0.7024190037168818.\n"
     ]
    },
    {
     "data": {
      "application/vnd.jupyter.widget-view+json": {
       "model_id": "a969bd4f4d24432c870d2488fe047542",
       "version_major": 2,
       "version_minor": 0
      },
      "text/plain": [
       "Batches:   0%|          | 0/256 [00:00<?, ?it/s]"
      ]
     },
     "metadata": {},
     "output_type": "display_data"
    },
    {
     "name": "stderr",
     "output_type": "stream",
     "text": [
      "[I 2024-12-01 05:55:39,556] Trial 73 finished with value: -0.6657932459210845 and parameters: {'umap_n_neighbors': 30, 'umap_min_dist': 0.2954921802483911, 'umap_n_components': 2, 'umap_metric': 'chebyshev', 'Spectral_n_cluster': 8, 'Spectral_eigen_solver': 'amg', 'Spectral_affinity': 'rbf', 'Spectral_assign_labels': 'kmeans', 'MaximalMarginalRelevance_diversity': 0.40346860622851544, 'MaximalMarginalRelevance_top_n_words': 9}. Best is trial 21 with value: -0.7024190037168818.\n"
     ]
    },
    {
     "data": {
      "application/vnd.jupyter.widget-view+json": {
       "model_id": "566eadca6369460984de29539cf41deb",
       "version_major": 2,
       "version_minor": 0
      },
      "text/plain": [
       "Batches:   0%|          | 0/256 [00:00<?, ?it/s]"
      ]
     },
     "metadata": {},
     "output_type": "display_data"
    },
    {
     "name": "stderr",
     "output_type": "stream",
     "text": [
      "[I 2024-12-01 05:56:56,864] Trial 74 finished with value: -0.7072153238290034 and parameters: {'umap_n_neighbors': 26, 'umap_min_dist': 0.4661049294938055, 'umap_n_components': 5, 'umap_metric': 'chebyshev', 'Spectral_n_cluster': 6, 'Spectral_eigen_solver': 'amg', 'Spectral_affinity': 'rbf', 'Spectral_assign_labels': 'kmeans', 'MaximalMarginalRelevance_diversity': 0.3205883180430635, 'MaximalMarginalRelevance_top_n_words': 9}. Best is trial 74 with value: -0.7072153238290034.\n"
     ]
    },
    {
     "data": {
      "application/vnd.jupyter.widget-view+json": {
       "model_id": "9e3754f612854d2eac7869e4ab3b8fef",
       "version_major": 2,
       "version_minor": 0
      },
      "text/plain": [
       "Batches:   0%|          | 0/256 [00:00<?, ?it/s]"
      ]
     },
     "metadata": {},
     "output_type": "display_data"
    },
    {
     "name": "stderr",
     "output_type": "stream",
     "text": [
      "[I 2024-12-01 05:58:12,719] Trial 75 finished with value: -0.6887604481761093 and parameters: {'umap_n_neighbors': 26, 'umap_min_dist': 0.43425174406244743, 'umap_n_components': 3, 'umap_metric': 'chebyshev', 'Spectral_n_cluster': 6, 'Spectral_eigen_solver': 'amg', 'Spectral_affinity': 'rbf', 'Spectral_assign_labels': 'kmeans', 'MaximalMarginalRelevance_diversity': 0.32589510626648466, 'MaximalMarginalRelevance_top_n_words': 10}. Best is trial 74 with value: -0.7072153238290034.\n"
     ]
    },
    {
     "data": {
      "application/vnd.jupyter.widget-view+json": {
       "model_id": "95b29461439f43d4b6772b0ce2b62a16",
       "version_major": 2,
       "version_minor": 0
      },
      "text/plain": [
       "Batches:   0%|          | 0/256 [00:00<?, ?it/s]"
      ]
     },
     "metadata": {},
     "output_type": "display_data"
    },
    {
     "name": "stderr",
     "output_type": "stream",
     "text": [
      "[I 2024-12-01 05:59:29,062] Trial 76 finished with value: -0.6327502771117965 and parameters: {'umap_n_neighbors': 28, 'umap_min_dist': 0.489057288089075, 'umap_n_components': 4, 'umap_metric': 'chebyshev', 'Spectral_n_cluster': 11, 'Spectral_eigen_solver': 'amg', 'Spectral_affinity': 'rbf', 'Spectral_assign_labels': 'kmeans', 'MaximalMarginalRelevance_diversity': 0.2531187550701296, 'MaximalMarginalRelevance_top_n_words': 8}. Best is trial 74 with value: -0.7072153238290034.\n"
     ]
    },
    {
     "data": {
      "application/vnd.jupyter.widget-view+json": {
       "model_id": "470f9221838e41e8b9000fb32e99afa6",
       "version_major": 2,
       "version_minor": 0
      },
      "text/plain": [
       "Batches:   0%|          | 0/256 [00:00<?, ?it/s]"
      ]
     },
     "metadata": {},
     "output_type": "display_data"
    },
    {
     "name": "stderr",
     "output_type": "stream",
     "text": [
      "[I 2024-12-01 06:00:44,354] Trial 77 finished with value: -0.6517591577706395 and parameters: {'umap_n_neighbors': 27, 'umap_min_dist': 0.47614237503138934, 'umap_n_components': 2, 'umap_metric': 'cosine', 'Spectral_n_cluster': 10, 'Spectral_eigen_solver': 'amg', 'Spectral_affinity': 'rbf', 'Spectral_assign_labels': 'kmeans', 'MaximalMarginalRelevance_diversity': 0.34839701697664943, 'MaximalMarginalRelevance_top_n_words': 9}. Best is trial 74 with value: -0.7072153238290034.\n"
     ]
    },
    {
     "data": {
      "application/vnd.jupyter.widget-view+json": {
       "model_id": "b423ceb6a0c945859ebabb7e62494294",
       "version_major": 2,
       "version_minor": 0
      },
      "text/plain": [
       "Batches:   0%|          | 0/256 [00:00<?, ?it/s]"
      ]
     },
     "metadata": {},
     "output_type": "display_data"
    },
    {
     "name": "stderr",
     "output_type": "stream",
     "text": [
      "[I 2024-12-01 06:02:04,838] Trial 78 finished with value: -0.6013407946583509 and parameters: {'umap_n_neighbors': 29, 'umap_min_dist': 0.5245521217870951, 'umap_n_components': 3, 'umap_metric': 'chebyshev', 'Spectral_n_cluster': 43, 'Spectral_eigen_solver': 'amg', 'Spectral_affinity': 'rbf', 'Spectral_assign_labels': 'kmeans', 'MaximalMarginalRelevance_diversity': 0.3702218856825711, 'MaximalMarginalRelevance_top_n_words': 9}. Best is trial 74 with value: -0.7072153238290034.\n"
     ]
    },
    {
     "data": {
      "application/vnd.jupyter.widget-view+json": {
       "model_id": "22bb65c7c1d8431abbfbd46f82eb116e",
       "version_major": 2,
       "version_minor": 0
      },
      "text/plain": [
       "Batches:   0%|          | 0/256 [00:00<?, ?it/s]"
      ]
     },
     "metadata": {},
     "output_type": "display_data"
    },
    {
     "name": "stderr",
     "output_type": "stream",
     "text": [
      "[I 2024-12-01 06:03:25,448] Trial 79 finished with value: -0.609838852247482 and parameters: {'umap_n_neighbors': 25, 'umap_min_dist': 0.4542796870283893, 'umap_n_components': 4, 'umap_metric': 'correlation', 'Spectral_n_cluster': 36, 'Spectral_eigen_solver': 'amg', 'Spectral_affinity': 'rbf', 'Spectral_assign_labels': 'kmeans', 'MaximalMarginalRelevance_diversity': 0.5258186202862144, 'MaximalMarginalRelevance_top_n_words': 10}. Best is trial 74 with value: -0.7072153238290034.\n"
     ]
    },
    {
     "data": {
      "application/vnd.jupyter.widget-view+json": {
       "model_id": "d3164a0d24f642d78412bec9694da5fd",
       "version_major": 2,
       "version_minor": 0
      },
      "text/plain": [
       "Batches:   0%|          | 0/256 [00:00<?, ?it/s]"
      ]
     },
     "metadata": {},
     "output_type": "display_data"
    },
    {
     "name": "stderr",
     "output_type": "stream",
     "text": [
      "[I 2024-12-01 06:04:37,505] Trial 80 finished with value: -0.6656153698970947 and parameters: {'umap_n_neighbors': 30, 'umap_min_dist': 0.5656606162164832, 'umap_n_components': 3, 'umap_metric': 'chebyshev', 'Spectral_n_cluster': 8, 'Spectral_eigen_solver': 'amg', 'Spectral_affinity': 'nearest_neighbors', 'Spectral_assign_labels': 'kmeans', 'MaximalMarginalRelevance_diversity': 0.28689884947294264, 'MaximalMarginalRelevance_top_n_words': 8}. Best is trial 74 with value: -0.7072153238290034.\n"
     ]
    },
    {
     "data": {
      "application/vnd.jupyter.widget-view+json": {
       "model_id": "8d7dfcb727d340a8b607a4e95e38a6e2",
       "version_major": 2,
       "version_minor": 0
      },
      "text/plain": [
       "Batches:   0%|          | 0/256 [00:00<?, ?it/s]"
      ]
     },
     "metadata": {},
     "output_type": "display_data"
    },
    {
     "name": "stderr",
     "output_type": "stream",
     "text": [
      "[I 2024-12-01 06:05:53,075] Trial 81 finished with value: -0.7032694125159961 and parameters: {'umap_n_neighbors': 22, 'umap_min_dist': 0.3817706144488693, 'umap_n_components': 6, 'umap_metric': 'chebyshev', 'Spectral_n_cluster': 6, 'Spectral_eigen_solver': 'amg', 'Spectral_affinity': 'rbf', 'Spectral_assign_labels': 'kmeans', 'MaximalMarginalRelevance_diversity': 0.43088259640788434, 'MaximalMarginalRelevance_top_n_words': 9}. Best is trial 74 with value: -0.7072153238290034.\n"
     ]
    },
    {
     "data": {
      "application/vnd.jupyter.widget-view+json": {
       "model_id": "f87961be86b0426da4c94652dff6d8c5",
       "version_major": 2,
       "version_minor": 0
      },
      "text/plain": [
       "Batches:   0%|          | 0/256 [00:00<?, ?it/s]"
      ]
     },
     "metadata": {},
     "output_type": "display_data"
    },
    {
     "name": "stderr",
     "output_type": "stream",
     "text": [
      "[I 2024-12-01 06:07:08,270] Trial 82 finished with value: -0.7024431489292496 and parameters: {'umap_n_neighbors': 23, 'umap_min_dist': 0.38887484050560256, 'umap_n_components': 6, 'umap_metric': 'chebyshev', 'Spectral_n_cluster': 6, 'Spectral_eigen_solver': 'amg', 'Spectral_affinity': 'rbf', 'Spectral_assign_labels': 'kmeans', 'MaximalMarginalRelevance_diversity': 0.44049261943335283, 'MaximalMarginalRelevance_top_n_words': 9}. Best is trial 74 with value: -0.7072153238290034.\n"
     ]
    },
    {
     "data": {
      "application/vnd.jupyter.widget-view+json": {
       "model_id": "82f4364b196b4245be9b87d252dba6ba",
       "version_major": 2,
       "version_minor": 0
      },
      "text/plain": [
       "Batches:   0%|          | 0/256 [00:00<?, ?it/s]"
      ]
     },
     "metadata": {},
     "output_type": "display_data"
    },
    {
     "name": "stderr",
     "output_type": "stream",
     "text": [
      "[I 2024-12-01 06:08:26,799] Trial 83 finished with value: -0.619583755103345 and parameters: {'umap_n_neighbors': 23, 'umap_min_dist': 0.39621535579849965, 'umap_n_components': 6, 'umap_metric': 'chebyshev', 'Spectral_n_cluster': 26, 'Spectral_eigen_solver': 'amg', 'Spectral_affinity': 'rbf', 'Spectral_assign_labels': 'kmeans', 'MaximalMarginalRelevance_diversity': 0.4781553269631802, 'MaximalMarginalRelevance_top_n_words': 9}. Best is trial 74 with value: -0.7072153238290034.\n"
     ]
    },
    {
     "data": {
      "application/vnd.jupyter.widget-view+json": {
       "model_id": "4aa03054adce4037a758ac6cf6a34af4",
       "version_major": 2,
       "version_minor": 0
      },
      "text/plain": [
       "Batches:   0%|          | 0/256 [00:00<?, ?it/s]"
      ]
     },
     "metadata": {},
     "output_type": "display_data"
    },
    {
     "name": "stderr",
     "output_type": "stream",
     "text": [
      "[I 2024-12-01 06:09:42,776] Trial 84 finished with value: -0.7035218791553561 and parameters: {'umap_n_neighbors': 24, 'umap_min_dist': 0.38025640091453233, 'umap_n_components': 7, 'umap_metric': 'chebyshev', 'Spectral_n_cluster': 5, 'Spectral_eigen_solver': 'amg', 'Spectral_affinity': 'rbf', 'Spectral_assign_labels': 'kmeans', 'MaximalMarginalRelevance_diversity': 0.4271047398883418, 'MaximalMarginalRelevance_top_n_words': 9}. Best is trial 74 with value: -0.7072153238290034.\n"
     ]
    },
    {
     "data": {
      "application/vnd.jupyter.widget-view+json": {
       "model_id": "8b8d293c4bbf48c09fd66b7f3be2deb9",
       "version_major": 2,
       "version_minor": 0
      },
      "text/plain": [
       "Batches:   0%|          | 0/256 [00:00<?, ?it/s]"
      ]
     },
     "metadata": {},
     "output_type": "display_data"
    },
    {
     "name": "stderr",
     "output_type": "stream",
     "text": [
      "[I 2024-12-01 06:10:58,425] Trial 85 finished with value: -0.6837944243551163 and parameters: {'umap_n_neighbors': 22, 'umap_min_dist': 0.3795219185884067, 'umap_n_components': 7, 'umap_metric': 'chebyshev', 'Spectral_n_cluster': 7, 'Spectral_eigen_solver': 'amg', 'Spectral_affinity': 'rbf', 'Spectral_assign_labels': 'kmeans', 'MaximalMarginalRelevance_diversity': 0.44532489133340425, 'MaximalMarginalRelevance_top_n_words': 9}. Best is trial 74 with value: -0.7072153238290034.\n"
     ]
    },
    {
     "data": {
      "application/vnd.jupyter.widget-view+json": {
       "model_id": "b65fa7fc02804288aa7ce06ec83668ee",
       "version_major": 2,
       "version_minor": 0
      },
      "text/plain": [
       "Batches:   0%|          | 0/256 [00:00<?, ?it/s]"
      ]
     },
     "metadata": {},
     "output_type": "display_data"
    },
    {
     "name": "stderr",
     "output_type": "stream",
     "text": [
      "[I 2024-12-01 06:12:14,602] Trial 86 finished with value: -0.7034647619855411 and parameters: {'umap_n_neighbors': 24, 'umap_min_dist': 0.4178345783798889, 'umap_n_components': 7, 'umap_metric': 'chebyshev', 'Spectral_n_cluster': 5, 'Spectral_eigen_solver': 'amg', 'Spectral_affinity': 'rbf', 'Spectral_assign_labels': 'kmeans', 'MaximalMarginalRelevance_diversity': 0.4277271661720998, 'MaximalMarginalRelevance_top_n_words': 9}. Best is trial 74 with value: -0.7072153238290034.\n"
     ]
    },
    {
     "data": {
      "application/vnd.jupyter.widget-view+json": {
       "model_id": "692602eff67341468d55383fc5ee53bf",
       "version_major": 2,
       "version_minor": 0
      },
      "text/plain": [
       "Batches:   0%|          | 0/256 [00:00<?, ?it/s]"
      ]
     },
     "metadata": {},
     "output_type": "display_data"
    },
    {
     "name": "stderr",
     "output_type": "stream",
     "text": [
      "[I 2024-12-01 06:13:29,793] Trial 87 finished with value: -0.7035587392681062 and parameters: {'umap_n_neighbors': 21, 'umap_min_dist': 0.4576105430012451, 'umap_n_components': 7, 'umap_metric': 'chebyshev', 'Spectral_n_cluster': 5, 'Spectral_eigen_solver': 'amg', 'Spectral_affinity': 'rbf', 'Spectral_assign_labels': 'kmeans', 'MaximalMarginalRelevance_diversity': 0.4244772332693288, 'MaximalMarginalRelevance_top_n_words': 9}. Best is trial 74 with value: -0.7072153238290034.\n"
     ]
    },
    {
     "data": {
      "application/vnd.jupyter.widget-view+json": {
       "model_id": "c9f12bcb49614047b6261eecd1720031",
       "version_major": 2,
       "version_minor": 0
      },
      "text/plain": [
       "Batches:   0%|          | 0/256 [00:00<?, ?it/s]"
      ]
     },
     "metadata": {},
     "output_type": "display_data"
    },
    {
     "name": "stderr",
     "output_type": "stream",
     "text": [
      "[I 2024-12-01 06:14:46,318] Trial 88 finished with value: -0.7134868291691463 and parameters: {'umap_n_neighbors': 21, 'umap_min_dist': 0.4477920161594961, 'umap_n_components': 7, 'umap_metric': 'manhattan', 'Spectral_n_cluster': 5, 'Spectral_eigen_solver': 'amg', 'Spectral_affinity': 'rbf', 'Spectral_assign_labels': 'kmeans', 'MaximalMarginalRelevance_diversity': 0.5629914951493616, 'MaximalMarginalRelevance_top_n_words': 9}. Best is trial 88 with value: -0.7134868291691463.\n"
     ]
    },
    {
     "data": {
      "application/vnd.jupyter.widget-view+json": {
       "model_id": "ad43d1e12fb8476685158aabd9b8c54e",
       "version_major": 2,
       "version_minor": 0
      },
      "text/plain": [
       "Batches:   0%|          | 0/256 [00:00<?, ?it/s]"
      ]
     },
     "metadata": {},
     "output_type": "display_data"
    },
    {
     "name": "stderr",
     "output_type": "stream",
     "text": [
      "[I 2024-12-01 06:16:01,309] Trial 89 finished with value: -0.7142161045347927 and parameters: {'umap_n_neighbors': 22, 'umap_min_dist': 0.4565064916408012, 'umap_n_components': 8, 'umap_metric': 'manhattan', 'Spectral_n_cluster': 5, 'Spectral_eigen_solver': 'amg', 'Spectral_affinity': 'rbf', 'Spectral_assign_labels': 'kmeans', 'MaximalMarginalRelevance_diversity': 0.6629082152228142, 'MaximalMarginalRelevance_top_n_words': 9}. Best is trial 89 with value: -0.7142161045347927.\n"
     ]
    },
    {
     "data": {
      "application/vnd.jupyter.widget-view+json": {
       "model_id": "8ae72bdebdfa4a268c6594a28e23d4c1",
       "version_major": 2,
       "version_minor": 0
      },
      "text/plain": [
       "Batches:   0%|          | 0/256 [00:00<?, ?it/s]"
      ]
     },
     "metadata": {},
     "output_type": "display_data"
    },
    {
     "name": "stderr",
     "output_type": "stream",
     "text": [
      "[I 2024-12-01 06:17:16,275] Trial 90 finished with value: -0.7173163358447764 and parameters: {'umap_n_neighbors': 21, 'umap_min_dist': 0.45313554620854735, 'umap_n_components': 8, 'umap_metric': 'manhattan', 'Spectral_n_cluster': 5, 'Spectral_eigen_solver': 'amg', 'Spectral_affinity': 'rbf', 'Spectral_assign_labels': 'kmeans', 'MaximalMarginalRelevance_diversity': 0.7168968007367521, 'MaximalMarginalRelevance_top_n_words': 9}. Best is trial 90 with value: -0.7173163358447764.\n"
     ]
    },
    {
     "data": {
      "application/vnd.jupyter.widget-view+json": {
       "model_id": "5367b285a1d14249b22f44134c28730e",
       "version_major": 2,
       "version_minor": 0
      },
      "text/plain": [
       "Batches:   0%|          | 0/256 [00:00<?, ?it/s]"
      ]
     },
     "metadata": {},
     "output_type": "display_data"
    },
    {
     "name": "stderr",
     "output_type": "stream",
     "text": [
      "[I 2024-12-01 06:18:31,497] Trial 91 finished with value: -0.7055192746557903 and parameters: {'umap_n_neighbors': 21, 'umap_min_dist': 0.4528746540829648, 'umap_n_components': 8, 'umap_metric': 'manhattan', 'Spectral_n_cluster': 5, 'Spectral_eigen_solver': 'amg', 'Spectral_affinity': 'rbf', 'Spectral_assign_labels': 'kmeans', 'MaximalMarginalRelevance_diversity': 0.7237479196196884, 'MaximalMarginalRelevance_top_n_words': 9}. Best is trial 90 with value: -0.7173163358447764.\n"
     ]
    },
    {
     "data": {
      "application/vnd.jupyter.widget-view+json": {
       "model_id": "db3eb854dd0f4344b508d5f21754fd47",
       "version_major": 2,
       "version_minor": 0
      },
      "text/plain": [
       "Batches:   0%|          | 0/256 [00:00<?, ?it/s]"
      ]
     },
     "metadata": {},
     "output_type": "display_data"
    },
    {
     "name": "stderr",
     "output_type": "stream",
     "text": [
      "[I 2024-12-01 06:19:46,434] Trial 92 finished with value: -0.7165267503570697 and parameters: {'umap_n_neighbors': 21, 'umap_min_dist': 0.4729304234499083, 'umap_n_components': 8, 'umap_metric': 'manhattan', 'Spectral_n_cluster': 5, 'Spectral_eigen_solver': 'amg', 'Spectral_affinity': 'rbf', 'Spectral_assign_labels': 'kmeans', 'MaximalMarginalRelevance_diversity': 0.7310412227859411, 'MaximalMarginalRelevance_top_n_words': 9}. Best is trial 90 with value: -0.7173163358447764.\n"
     ]
    },
    {
     "data": {
      "application/vnd.jupyter.widget-view+json": {
       "model_id": "754f0a77484e4676b43c5af71475d443",
       "version_major": 2,
       "version_minor": 0
      },
      "text/plain": [
       "Batches:   0%|          | 0/256 [00:00<?, ?it/s]"
      ]
     },
     "metadata": {},
     "output_type": "display_data"
    },
    {
     "name": "stderr",
     "output_type": "stream",
     "text": [
      "[I 2024-12-01 06:21:02,623] Trial 93 finished with value: -0.7129598635132602 and parameters: {'umap_n_neighbors': 21, 'umap_min_dist': 0.47534797643666604, 'umap_n_components': 9, 'umap_metric': 'manhattan', 'Spectral_n_cluster': 5, 'Spectral_eigen_solver': 'amg', 'Spectral_affinity': 'rbf', 'Spectral_assign_labels': 'kmeans', 'MaximalMarginalRelevance_diversity': 0.7043567847112169, 'MaximalMarginalRelevance_top_n_words': 9}. Best is trial 90 with value: -0.7173163358447764.\n"
     ]
    },
    {
     "data": {
      "application/vnd.jupyter.widget-view+json": {
       "model_id": "f20c28991d304ef5836944aa3a1fea7a",
       "version_major": 2,
       "version_minor": 0
      },
      "text/plain": [
       "Batches:   0%|          | 0/256 [00:00<?, ?it/s]"
      ]
     },
     "metadata": {},
     "output_type": "display_data"
    },
    {
     "name": "stderr",
     "output_type": "stream",
     "text": [
      "[I 2024-12-01 06:22:18,444] Trial 94 finished with value: -0.7075518319926245 and parameters: {'umap_n_neighbors': 21, 'umap_min_dist': 0.5525561553061994, 'umap_n_components': 9, 'umap_metric': 'manhattan', 'Spectral_n_cluster': 5, 'Spectral_eigen_solver': 'amg', 'Spectral_affinity': 'rbf', 'Spectral_assign_labels': 'kmeans', 'MaximalMarginalRelevance_diversity': 0.7207215773054393, 'MaximalMarginalRelevance_top_n_words': 9}. Best is trial 90 with value: -0.7173163358447764.\n"
     ]
    },
    {
     "data": {
      "application/vnd.jupyter.widget-view+json": {
       "model_id": "8e65a8b26b154e69a0051ff467f368a2",
       "version_major": 2,
       "version_minor": 0
      },
      "text/plain": [
       "Batches:   0%|          | 0/256 [00:00<?, ?it/s]"
      ]
     },
     "metadata": {},
     "output_type": "display_data"
    },
    {
     "name": "stderr",
     "output_type": "stream",
     "text": [
      "[I 2024-12-01 06:23:33,944] Trial 95 finished with value: -0.6716222485441534 and parameters: {'umap_n_neighbors': 21, 'umap_min_dist': 0.513899114214048, 'umap_n_components': 9, 'umap_metric': 'manhattan', 'Spectral_n_cluster': 8, 'Spectral_eigen_solver': 'amg', 'Spectral_affinity': 'rbf', 'Spectral_assign_labels': 'kmeans', 'MaximalMarginalRelevance_diversity': 0.7319599818533274, 'MaximalMarginalRelevance_top_n_words': 9}. Best is trial 90 with value: -0.7173163358447764.\n"
     ]
    },
    {
     "data": {
      "application/vnd.jupyter.widget-view+json": {
       "model_id": "07ed62869961463497446f80d11d7e1e",
       "version_major": 2,
       "version_minor": 0
      },
      "text/plain": [
       "Batches:   0%|          | 0/256 [00:00<?, ?it/s]"
      ]
     },
     "metadata": {},
     "output_type": "display_data"
    },
    {
     "name": "stderr",
     "output_type": "stream",
     "text": [
      "[I 2024-12-01 06:24:48,820] Trial 96 finished with value: -0.7126087828475434 and parameters: {'umap_n_neighbors': 19, 'umap_min_dist': 0.5635433658000405, 'umap_n_components': 8, 'umap_metric': 'manhattan', 'Spectral_n_cluster': 5, 'Spectral_eigen_solver': 'amg', 'Spectral_affinity': 'rbf', 'Spectral_assign_labels': 'kmeans', 'MaximalMarginalRelevance_diversity': 0.7067475002309819, 'MaximalMarginalRelevance_top_n_words': 9}. Best is trial 90 with value: -0.7173163358447764.\n"
     ]
    },
    {
     "data": {
      "application/vnd.jupyter.widget-view+json": {
       "model_id": "63932cb353eb4903ab47115d9e8b88f6",
       "version_major": 2,
       "version_minor": 0
      },
      "text/plain": [
       "Batches:   0%|          | 0/256 [00:00<?, ?it/s]"
      ]
     },
     "metadata": {},
     "output_type": "display_data"
    },
    {
     "name": "stderr",
     "output_type": "stream",
     "text": [
      "[I 2024-12-01 06:26:03,618] Trial 97 finished with value: -0.6912531730332196 and parameters: {'umap_n_neighbors': 19, 'umap_min_dist': 0.5545288052600833, 'umap_n_components': 8, 'umap_metric': 'manhattan', 'Spectral_n_cluster': 7, 'Spectral_eigen_solver': 'amg', 'Spectral_affinity': 'rbf', 'Spectral_assign_labels': 'kmeans', 'MaximalMarginalRelevance_diversity': 0.7127581693105712, 'MaximalMarginalRelevance_top_n_words': 9}. Best is trial 90 with value: -0.7173163358447764.\n"
     ]
    },
    {
     "data": {
      "application/vnd.jupyter.widget-view+json": {
       "model_id": "69596cd0886241809261f30d4800dd01",
       "version_major": 2,
       "version_minor": 0
      },
      "text/plain": [
       "Batches:   0%|          | 0/256 [00:00<?, ?it/s]"
      ]
     },
     "metadata": {},
     "output_type": "display_data"
    },
    {
     "name": "stderr",
     "output_type": "stream",
     "text": [
      "[I 2024-12-01 06:27:19,877] Trial 98 finished with value: -0.6611542323256075 and parameters: {'umap_n_neighbors': 19, 'umap_min_dist': 0.6263014635486313, 'umap_n_components': 9, 'umap_metric': 'manhattan', 'Spectral_n_cluster': 9, 'Spectral_eigen_solver': 'amg', 'Spectral_affinity': 'rbf', 'Spectral_assign_labels': 'discretize', 'MaximalMarginalRelevance_diversity': 0.6786943867500745, 'MaximalMarginalRelevance_top_n_words': 9}. Best is trial 90 with value: -0.7173163358447764.\n"
     ]
    },
    {
     "data": {
      "application/vnd.jupyter.widget-view+json": {
       "model_id": "d7179c4c9edd48099e867a7d1c2e5a6e",
       "version_major": 2,
       "version_minor": 0
      },
      "text/plain": [
       "Batches:   0%|          | 0/256 [00:00<?, ?it/s]"
      ]
     },
     "metadata": {},
     "output_type": "display_data"
    },
    {
     "name": "stderr",
     "output_type": "stream",
     "text": [
      "[I 2024-12-01 06:28:36,525] Trial 99 finished with value: -0.688793675065375 and parameters: {'umap_n_neighbors': 21, 'umap_min_dist': 0.5435211582600485, 'umap_n_components': 8, 'umap_metric': 'manhattan', 'Spectral_n_cluster': 8, 'Spectral_eigen_solver': 'amg', 'Spectral_affinity': 'rbf', 'Spectral_assign_labels': 'kmeans', 'MaximalMarginalRelevance_diversity': 0.7585961991727077, 'MaximalMarginalRelevance_top_n_words': 9}. Best is trial 90 with value: -0.7173163358447764.\n"
     ]
    },
    {
     "name": "stdout",
     "output_type": "stream",
     "text": [
      "Best Parameters: {'umap_n_neighbors': 21, 'umap_min_dist': 0.45313554620854735, 'umap_n_components': 8, 'umap_metric': 'manhattan', 'Spectral_n_cluster': 5, 'Spectral_eigen_solver': 'amg', 'Spectral_affinity': 'rbf', 'Spectral_assign_labels': 'kmeans', 'MaximalMarginalRelevance_diversity': 0.7168968007367521, 'MaximalMarginalRelevance_top_n_words': 9}\n",
      "Best Score: -0.7173163358447764\n"
     ]
    }
   ],
   "source": [
    "# Define custom stop words\n",
    "custom_stop_words = [\"xxxx\", \"xx\",\"x\",\"xxxxx\", \"xxxxxxxx\", \"xxxxxxxxxxxx\"]\n",
    "vectorizer_model = CountVectorizer(stop_words=custom_stop_words)\n",
    "\n",
    "# Define objective function for Bayesian optimization\n",
    "def objective(trial):\n",
    "    # Sample hyperparameters from the search space\n",
    "    umap_n_neighbors = trial.suggest_int(\"umap_n_neighbors\", 5,30)\n",
    "    umap_min_dist = trial.suggest_float(\"umap_min_dist\", 0.1, 0.99)\n",
    "    umap_n_components = trial.suggest_int(\"umap_n_components\", 2,15)\n",
    "    umap_metric = trial.suggest_categorical(\n",
    "        \"umap_metric\",\n",
    "        [\"euclidean\", \"manhattan\", \"chebyshev\", \"cosine\", \"correlation\"],\n",
    "    )\n",
    "    Spectral_n_cluster = trial.suggest_int(\"Spectral_n_cluster\", 5, 50)\n",
    "    Spectral_eigen_solver = trial.suggest_categorical(\"Spectral_eigen_solver\", [\"arpack\",\"lobpcg\",\"amg\"])\n",
    "    Spectral_affinity = trial.suggest_categorical(\"Spectral_affinity\", [\"nearest_neighbors\",\"rbf\"])\n",
    "    Spectral_assign_labels = trial.suggest_categorical(\n",
    "        \"Spectral_assign_labels\",\n",
    "        [\"kmeans\", \"discretize\", \"cluster_qr\"],\n",
    "    )\n",
    "    MaximalMarginalRelevance_diversity = trial.suggest_float(\"MaximalMarginalRelevance_diversity\", 0.1, 0.99)\n",
    "    MaximalMarginalRelevance_top_n_words = trial.suggest_int(\"MaximalMarginalRelevance_top_n_words\", 5, 10)\n",
    "\n",
    "    # Define models with current hyperparameters\n",
    "    umap_model = UMAP(\n",
    "        n_neighbors=umap_n_neighbors,\n",
    "        min_dist=umap_min_dist,\n",
    "        n_components=umap_n_components,\n",
    "        metric=umap_metric,\n",
    "        random_state=42,\n",
    "    )\n",
    "    Spectral_model = SpectralClustering(n_clusters=Spectral_n_cluster,eigen_solver=Spectral_eigen_solver,affinity=Spectral_affinity,assign_labels=Spectral_assign_labels)\n",
    "    representation_model = MaximalMarginalRelevance(\n",
    "        diversity=MaximalMarginalRelevance_diversity, top_n_words=MaximalMarginalRelevance_top_n_words\n",
    "    )\n",
    "\n",
    "    # Initialize BERTopic\n",
    "    topic_model = BERTopic(\n",
    "        embedding_model=AutoModel.from_pretrained(\"allenai/longformer-base-4096\"),\n",
    "        umap_model=umap_model,\n",
    "        hdbscan_model=Spectral_model,\n",
    "        representation_model=representation_model,\n",
    "        vectorizer_model=vectorizer_model,\n",
    "    )\n",
    "\n",
    "    # Fit the model\n",
    "    topics, probs = topic_model.fit_transform(documents)\n",
    "    topic_info = topic_model.get_topic_info()\n",
    "    topic_info_df = pd.DataFrame(topic_info)  # Convert topic_info to DataFrame\n",
    "    \n",
    "    # Restrict models generating only one topic\n",
    "    unique_topics = set(topics)\n",
    "    if (len(unique_topics) <= 1 or (topic_info_df[\"Topic\"] == -1).any()):\n",
    "        return float(\"inf\")  # Invalid configuration\n",
    "\n",
    "    # Calculate evaluation metrics\n",
    "    tokenized_documents = [doc.split() for doc in documents]\n",
    "    dictionary = Dictionary(tokenized_documents)\n",
    "    coherence_score = calculate_and_average_coherence_scores(topic_model, tokenized_documents, dictionary)\n",
    "    sentence_transformer_model = topic_model.embedding_model\n",
    "    topic_embeddings = topic_model.topic_embeddings_\n",
    "    document_embeddings = sentence_transformer_model.embedding_model.encode(documents, show_progress_bar=True)\n",
    "    # Use consistent `documents` for `get_document_info`\n",
    "    document_info = topic_model.get_document_info(documents)\n",
    "    topic_labels = document_info[\"Topic\"].values\n",
    "\n",
    "    diversity_score = calculate_topic_diversity(topic_model)\n",
    "    representativeness_score = calculate_topic_representativeness(topic_embeddings, document_embeddings)\n",
    "    silhouette = calculate_silhouette_score(document_embeddings, topic_labels)\n",
    "\n",
    "    # Combine metrics into a single score\n",
    "    final_score = -np.mean([coherence_score, diversity_score, representativeness_score, silhouette])\n",
    "    return final_score\n",
    "\n",
    "# Perform Bayesian Optimization\n",
    "study = optuna.create_study(direction=\"minimize\")\n",
    "study.optimize(objective, n_trials=100, n_jobs=1)\n",
    "\n",
    "# Best parameters and model\n",
    "best_params = study.best_params\n",
    "print(\"Best Parameters:\", best_params)\n",
    "print(\"Best Score:\", study.best_value)\n",
    "\n",
    "# Save the best model\n",
    "# Reinitialize with the best parameters if needed and save"
   ]
  },
  {
   "cell_type": "code",
   "execution_count": 34,
   "id": "4b57325d-7491-4792-8711-918fe5ca591f",
   "metadata": {},
   "outputs": [
    {
     "name": "stderr",
     "output_type": "stream",
     "text": [
      "[I 2024-12-01 06:28:36,534] A new study created in memory with name: no-name-d2971165-e6bf-453b-845d-de2a6afc7bdd\n"
     ]
    },
    {
     "data": {
      "application/vnd.jupyter.widget-view+json": {
       "model_id": "69becc8c335840f38c078cf0fbee3d57",
       "version_major": 2,
       "version_minor": 0
      },
      "text/plain": [
       "Batches:   0%|          | 0/256 [00:00<?, ?it/s]"
      ]
     },
     "metadata": {},
     "output_type": "display_data"
    },
    {
     "name": "stderr",
     "output_type": "stream",
     "text": [
      "[I 2024-12-01 06:29:56,725] Trial 0 finished with value: -0.6327703057468133 and parameters: {'umap_n_neighbors': 15, 'umap_min_dist': 0.9485670444130792, 'umap_n_components': 8, 'umap_metric': 'euclidean', 'Spectral_n_cluster': 17, 'Spectral_eigen_solver': 'arpack', 'Spectral_affinity': 'rbf', 'Spectral_assign_labels': 'kmeans', 'PartOfSpeech_model': 'en_core_web_lg', 'PartOfSpeech_top_n_words': 9}. Best is trial 0 with value: -0.6327703057468133.\n"
     ]
    },
    {
     "data": {
      "application/vnd.jupyter.widget-view+json": {
       "model_id": "5c37d0c19bf44ecba2fca9cd9ec02a10",
       "version_major": 2,
       "version_minor": 0
      },
      "text/plain": [
       "Batches:   0%|          | 0/256 [00:00<?, ?it/s]"
      ]
     },
     "metadata": {},
     "output_type": "display_data"
    },
    {
     "name": "stderr",
     "output_type": "stream",
     "text": [
      "[I 2024-12-01 06:31:17,723] Trial 1 finished with value: -0.6413462976806488 and parameters: {'umap_n_neighbors': 6, 'umap_min_dist': 0.4149005736543392, 'umap_n_components': 15, 'umap_metric': 'euclidean', 'Spectral_n_cluster': 39, 'Spectral_eigen_solver': 'arpack', 'Spectral_affinity': 'rbf', 'Spectral_assign_labels': 'kmeans', 'PartOfSpeech_model': 'en_core_web_lg', 'PartOfSpeech_top_n_words': 5}. Best is trial 1 with value: -0.6413462976806488.\n"
     ]
    },
    {
     "data": {
      "application/vnd.jupyter.widget-view+json": {
       "model_id": "88da0e2c78e94a2a897d46cd0be949bf",
       "version_major": 2,
       "version_minor": 0
      },
      "text/plain": [
       "Batches:   0%|          | 0/256 [00:00<?, ?it/s]"
      ]
     },
     "metadata": {},
     "output_type": "display_data"
    },
    {
     "name": "stderr",
     "output_type": "stream",
     "text": [
      "[I 2024-12-01 06:32:40,581] Trial 2 finished with value: -0.6133411929354031 and parameters: {'umap_n_neighbors': 16, 'umap_min_dist': 0.6277763769477136, 'umap_n_components': 12, 'umap_metric': 'euclidean', 'Spectral_n_cluster': 37, 'Spectral_eigen_solver': 'arpack', 'Spectral_affinity': 'rbf', 'Spectral_assign_labels': 'cluster_qr', 'PartOfSpeech_model': 'en_core_web_md', 'PartOfSpeech_top_n_words': 9}. Best is trial 1 with value: -0.6413462976806488.\n"
     ]
    },
    {
     "data": {
      "application/vnd.jupyter.widget-view+json": {
       "model_id": "b31f7122b6934d7fa0f0c49c54e87cde",
       "version_major": 2,
       "version_minor": 0
      },
      "text/plain": [
       "Batches:   0%|          | 0/256 [00:00<?, ?it/s]"
      ]
     },
     "metadata": {},
     "output_type": "display_data"
    },
    {
     "name": "stderr",
     "output_type": "stream",
     "text": [
      "[I 2024-12-01 06:34:06,867] Trial 3 finished with value: -0.6236715462718428 and parameters: {'umap_n_neighbors': 30, 'umap_min_dist': 0.7396173826040151, 'umap_n_components': 13, 'umap_metric': 'manhattan', 'Spectral_n_cluster': 50, 'Spectral_eigen_solver': 'arpack', 'Spectral_affinity': 'nearest_neighbors', 'Spectral_assign_labels': 'cluster_qr', 'PartOfSpeech_model': 'en_core_web_md', 'PartOfSpeech_top_n_words': 6}. Best is trial 1 with value: -0.6413462976806488.\n"
     ]
    },
    {
     "data": {
      "application/vnd.jupyter.widget-view+json": {
       "model_id": "c23f43928904442fba338c42aff1638a",
       "version_major": 2,
       "version_minor": 0
      },
      "text/plain": [
       "Batches:   0%|          | 0/256 [00:00<?, ?it/s]"
      ]
     },
     "metadata": {},
     "output_type": "display_data"
    },
    {
     "name": "stderr",
     "output_type": "stream",
     "text": [
      "[I 2024-12-01 06:35:15,840] Trial 4 finished with value: -0.6592230937529493 and parameters: {'umap_n_neighbors': 8, 'umap_min_dist': 0.786532503611084, 'umap_n_components': 5, 'umap_metric': 'cosine', 'Spectral_n_cluster': 11, 'Spectral_eigen_solver': 'amg', 'Spectral_affinity': 'nearest_neighbors', 'Spectral_assign_labels': 'cluster_qr', 'PartOfSpeech_model': 'en_core_web_md', 'PartOfSpeech_top_n_words': 5}. Best is trial 4 with value: -0.6592230937529493.\n"
     ]
    },
    {
     "data": {
      "application/vnd.jupyter.widget-view+json": {
       "model_id": "c5caa01b28d54c6c99f3571e95b7a5ec",
       "version_major": 2,
       "version_minor": 0
      },
      "text/plain": [
       "Batches:   0%|          | 0/256 [00:00<?, ?it/s]"
      ]
     },
     "metadata": {},
     "output_type": "display_data"
    },
    {
     "name": "stderr",
     "output_type": "stream",
     "text": [
      "[I 2024-12-01 06:36:32,383] Trial 5 finished with value: -0.701636123242772 and parameters: {'umap_n_neighbors': 20, 'umap_min_dist': 0.6799967957586173, 'umap_n_components': 8, 'umap_metric': 'chebyshev', 'Spectral_n_cluster': 5, 'Spectral_eigen_solver': 'arpack', 'Spectral_affinity': 'nearest_neighbors', 'Spectral_assign_labels': 'discretize', 'PartOfSpeech_model': 'en_core_web_sm', 'PartOfSpeech_top_n_words': 7}. Best is trial 5 with value: -0.701636123242772.\n"
     ]
    },
    {
     "data": {
      "application/vnd.jupyter.widget-view+json": {
       "model_id": "09fad635abc04c9d9a18ba8f2a555380",
       "version_major": 2,
       "version_minor": 0
      },
      "text/plain": [
       "Batches:   0%|          | 0/256 [00:00<?, ?it/s]"
      ]
     },
     "metadata": {},
     "output_type": "display_data"
    },
    {
     "name": "stderr",
     "output_type": "stream",
     "text": [
      "[I 2024-12-01 06:37:52,630] Trial 6 finished with value: -0.6673968914921322 and parameters: {'umap_n_neighbors': 26, 'umap_min_dist': 0.6984574565918148, 'umap_n_components': 9, 'umap_metric': 'chebyshev', 'Spectral_n_cluster': 6, 'Spectral_eigen_solver': 'arpack', 'Spectral_affinity': 'nearest_neighbors', 'Spectral_assign_labels': 'kmeans', 'PartOfSpeech_model': 'en_core_web_md', 'PartOfSpeech_top_n_words': 10}. Best is trial 5 with value: -0.701636123242772.\n"
     ]
    },
    {
     "data": {
      "application/vnd.jupyter.widget-view+json": {
       "model_id": "9a0efd51175949abbe4dbb8bb0939b4f",
       "version_major": 2,
       "version_minor": 0
      },
      "text/plain": [
       "Batches:   0%|          | 0/256 [00:00<?, ?it/s]"
      ]
     },
     "metadata": {},
     "output_type": "display_data"
    },
    {
     "name": "stderr",
     "output_type": "stream",
     "text": [
      "[I 2024-12-01 06:39:06,750] Trial 7 finished with value: -0.6350747033670275 and parameters: {'umap_n_neighbors': 18, 'umap_min_dist': 0.982215353885353, 'umap_n_components': 6, 'umap_metric': 'manhattan', 'Spectral_n_cluster': 16, 'Spectral_eigen_solver': 'amg', 'Spectral_affinity': 'nearest_neighbors', 'Spectral_assign_labels': 'cluster_qr', 'PartOfSpeech_model': 'en_core_web_lg', 'PartOfSpeech_top_n_words': 7}. Best is trial 5 with value: -0.701636123242772.\n"
     ]
    },
    {
     "data": {
      "application/vnd.jupyter.widget-view+json": {
       "model_id": "2d6f9b108e1f42989349e7b50c70594f",
       "version_major": 2,
       "version_minor": 0
      },
      "text/plain": [
       "Batches:   0%|          | 0/256 [00:00<?, ?it/s]"
      ]
     },
     "metadata": {},
     "output_type": "display_data"
    },
    {
     "name": "stderr",
     "output_type": "stream",
     "text": [
      "[I 2024-12-01 06:40:21,761] Trial 8 finished with value: -0.6311860322035362 and parameters: {'umap_n_neighbors': 24, 'umap_min_dist': 0.9261718481117199, 'umap_n_components': 10, 'umap_metric': 'euclidean', 'Spectral_n_cluster': 22, 'Spectral_eigen_solver': 'lobpcg', 'Spectral_affinity': 'nearest_neighbors', 'Spectral_assign_labels': 'discretize', 'PartOfSpeech_model': 'en_core_web_md', 'PartOfSpeech_top_n_words': 7}. Best is trial 5 with value: -0.701636123242772.\n"
     ]
    },
    {
     "data": {
      "application/vnd.jupyter.widget-view+json": {
       "model_id": "76294d961b174f00996a9a2ac2231979",
       "version_major": 2,
       "version_minor": 0
      },
      "text/plain": [
       "Batches:   0%|          | 0/256 [00:00<?, ?it/s]"
      ]
     },
     "metadata": {},
     "output_type": "display_data"
    },
    {
     "name": "stderr",
     "output_type": "stream",
     "text": [
      "[I 2024-12-01 06:41:38,463] Trial 9 finished with value: -0.6546008499663061 and parameters: {'umap_n_neighbors': 15, 'umap_min_dist': 0.8966561709299891, 'umap_n_components': 2, 'umap_metric': 'euclidean', 'Spectral_n_cluster': 5, 'Spectral_eigen_solver': 'amg', 'Spectral_affinity': 'rbf', 'Spectral_assign_labels': 'cluster_qr', 'PartOfSpeech_model': 'en_core_web_lg', 'PartOfSpeech_top_n_words': 5}. Best is trial 5 with value: -0.701636123242772.\n"
     ]
    },
    {
     "data": {
      "application/vnd.jupyter.widget-view+json": {
       "model_id": "4618746620fa40098888e4add569276d",
       "version_major": 2,
       "version_minor": 0
      },
      "text/plain": [
       "Batches:   0%|          | 0/256 [00:00<?, ?it/s]"
      ]
     },
     "metadata": {},
     "output_type": "display_data"
    },
    {
     "name": "stderr",
     "output_type": "stream",
     "text": [
      "[I 2024-12-01 06:42:53,741] Trial 10 finished with value: -0.6037021690309741 and parameters: {'umap_n_neighbors': 21, 'umap_min_dist': 0.10621118812112096, 'umap_n_components': 2, 'umap_metric': 'chebyshev', 'Spectral_n_cluster': 29, 'Spectral_eigen_solver': 'lobpcg', 'Spectral_affinity': 'nearest_neighbors', 'Spectral_assign_labels': 'discretize', 'PartOfSpeech_model': 'en_core_web_sm', 'PartOfSpeech_top_n_words': 8}. Best is trial 5 with value: -0.701636123242772.\n"
     ]
    },
    {
     "data": {
      "application/vnd.jupyter.widget-view+json": {
       "model_id": "94f7a57d348545f39cb28ba6e4290077",
       "version_major": 2,
       "version_minor": 0
      },
      "text/plain": [
       "Batches:   0%|          | 0/256 [00:00<?, ?it/s]"
      ]
     },
     "metadata": {},
     "output_type": "display_data"
    },
    {
     "name": "stderr",
     "output_type": "stream",
     "text": [
      "[I 2024-12-01 06:44:11,102] Trial 11 finished with value: -0.6824610203138739 and parameters: {'umap_n_neighbors': 26, 'umap_min_dist': 0.46177131029309965, 'umap_n_components': 9, 'umap_metric': 'chebyshev', 'Spectral_n_cluster': 5, 'Spectral_eigen_solver': 'arpack', 'Spectral_affinity': 'nearest_neighbors', 'Spectral_assign_labels': 'kmeans', 'PartOfSpeech_model': 'en_core_web_sm', 'PartOfSpeech_top_n_words': 10}. Best is trial 5 with value: -0.701636123242772.\n"
     ]
    },
    {
     "data": {
      "application/vnd.jupyter.widget-view+json": {
       "model_id": "1c0a2ccf126441aaae6272feb11094b7",
       "version_major": 2,
       "version_minor": 0
      },
      "text/plain": [
       "Batches:   0%|          | 0/256 [00:00<?, ?it/s]"
      ]
     },
     "metadata": {},
     "output_type": "display_data"
    },
    {
     "name": "stderr",
     "output_type": "stream",
     "text": [
      "[I 2024-12-01 06:45:29,312] Trial 12 finished with value: -0.621377471469848 and parameters: {'umap_n_neighbors': 30, 'umap_min_dist': 0.4586031673944977, 'umap_n_components': 7, 'umap_metric': 'chebyshev', 'Spectral_n_cluster': 13, 'Spectral_eigen_solver': 'arpack', 'Spectral_affinity': 'nearest_neighbors', 'Spectral_assign_labels': 'discretize', 'PartOfSpeech_model': 'en_core_web_sm', 'PartOfSpeech_top_n_words': 10}. Best is trial 5 with value: -0.701636123242772.\n"
     ]
    },
    {
     "data": {
      "application/vnd.jupyter.widget-view+json": {
       "model_id": "dd35815f28474b70be6c7f754f7de052",
       "version_major": 2,
       "version_minor": 0
      },
      "text/plain": [
       "Batches:   0%|          | 0/256 [00:00<?, ?it/s]"
      ]
     },
     "metadata": {},
     "output_type": "display_data"
    },
    {
     "name": "stderr",
     "output_type": "stream",
     "text": [
      "[I 2024-12-01 06:46:46,366] Trial 13 finished with value: -0.6246882824934814 and parameters: {'umap_n_neighbors': 24, 'umap_min_dist': 0.28187834686081786, 'umap_n_components': 11, 'umap_metric': 'correlation', 'Spectral_n_cluster': 24, 'Spectral_eigen_solver': 'arpack', 'Spectral_affinity': 'nearest_neighbors', 'Spectral_assign_labels': 'discretize', 'PartOfSpeech_model': 'en_core_web_sm', 'PartOfSpeech_top_n_words': 8}. Best is trial 5 with value: -0.701636123242772.\n"
     ]
    },
    {
     "data": {
      "application/vnd.jupyter.widget-view+json": {
       "model_id": "4b56c1b263014993ae15fc33d0f59549",
       "version_major": 2,
       "version_minor": 0
      },
      "text/plain": [
       "Batches:   0%|          | 0/256 [00:00<?, ?it/s]"
      ]
     },
     "metadata": {},
     "output_type": "display_data"
    },
    {
     "name": "stderr",
     "output_type": "stream",
     "text": [
      "[I 2024-12-01 06:48:01,382] Trial 14 finished with value: -0.6574151509416809 and parameters: {'umap_n_neighbors': 20, 'umap_min_dist': 0.5025539051075593, 'umap_n_components': 5, 'umap_metric': 'chebyshev', 'Spectral_n_cluster': 9, 'Spectral_eigen_solver': 'arpack', 'Spectral_affinity': 'nearest_neighbors', 'Spectral_assign_labels': 'kmeans', 'PartOfSpeech_model': 'en_core_web_sm', 'PartOfSpeech_top_n_words': 6}. Best is trial 5 with value: -0.701636123242772.\n"
     ]
    },
    {
     "data": {
      "application/vnd.jupyter.widget-view+json": {
       "model_id": "8292c07f990748d6a75221525fcd4bdf",
       "version_major": 2,
       "version_minor": 0
      },
      "text/plain": [
       "Batches:   0%|          | 0/256 [00:00<?, ?it/s]"
      ]
     },
     "metadata": {},
     "output_type": "display_data"
    },
    {
     "name": "stderr",
     "output_type": "stream",
     "text": [
      "[I 2024-12-01 06:49:14,173] Trial 15 finished with value: -0.6188036605563705 and parameters: {'umap_n_neighbors': 11, 'umap_min_dist': 0.31592967006715705, 'umap_n_components': 9, 'umap_metric': 'chebyshev', 'Spectral_n_cluster': 21, 'Spectral_eigen_solver': 'lobpcg', 'Spectral_affinity': 'nearest_neighbors', 'Spectral_assign_labels': 'discretize', 'PartOfSpeech_model': 'en_core_web_sm', 'PartOfSpeech_top_n_words': 9}. Best is trial 5 with value: -0.701636123242772.\n"
     ]
    },
    {
     "data": {
      "application/vnd.jupyter.widget-view+json": {
       "model_id": "e8d20c0c2290414f813e31e2511ff4bc",
       "version_major": 2,
       "version_minor": 0
      },
      "text/plain": [
       "Batches:   0%|          | 0/256 [00:00<?, ?it/s]"
      ]
     },
     "metadata": {},
     "output_type": "display_data"
    },
    {
     "name": "stderr",
     "output_type": "stream",
     "text": [
      "[I 2024-12-01 06:50:31,416] Trial 16 finished with value: -0.6266408022273711 and parameters: {'umap_n_neighbors': 26, 'umap_min_dist': 0.6032340192904145, 'umap_n_components': 4, 'umap_metric': 'correlation', 'Spectral_n_cluster': 30, 'Spectral_eigen_solver': 'arpack', 'Spectral_affinity': 'nearest_neighbors', 'Spectral_assign_labels': 'kmeans', 'PartOfSpeech_model': 'en_core_web_sm', 'PartOfSpeech_top_n_words': 7}. Best is trial 5 with value: -0.701636123242772.\n"
     ]
    },
    {
     "data": {
      "application/vnd.jupyter.widget-view+json": {
       "model_id": "420d560d2b2646d6bf6c804ca8c3e45a",
       "version_major": 2,
       "version_minor": 0
      },
      "text/plain": [
       "Batches:   0%|          | 0/256 [00:00<?, ?it/s]"
      ]
     },
     "metadata": {},
     "output_type": "display_data"
    },
    {
     "name": "stderr",
     "output_type": "stream",
     "text": [
      "[I 2024-12-01 06:51:45,623] Trial 17 finished with value: -0.6903842471092742 and parameters: {'umap_n_neighbors': 22, 'umap_min_dist': 0.36223044266730464, 'umap_n_components': 7, 'umap_metric': 'cosine', 'Spectral_n_cluster': 5, 'Spectral_eigen_solver': 'arpack', 'Spectral_affinity': 'nearest_neighbors', 'Spectral_assign_labels': 'discretize', 'PartOfSpeech_model': 'en_core_web_sm', 'PartOfSpeech_top_n_words': 8}. Best is trial 5 with value: -0.701636123242772.\n"
     ]
    },
    {
     "data": {
      "application/vnd.jupyter.widget-view+json": {
       "model_id": "56ea2ea7adb74da09b7d0bc41edbdb5a",
       "version_major": 2,
       "version_minor": 0
      },
      "text/plain": [
       "Batches:   0%|          | 0/256 [00:00<?, ?it/s]"
      ]
     },
     "metadata": {},
     "output_type": "display_data"
    },
    {
     "name": "stderr",
     "output_type": "stream",
     "text": [
      "[I 2024-12-01 06:53:02,770] Trial 18 finished with value: -0.621440192199319 and parameters: {'umap_n_neighbors': 21, 'umap_min_dist': 0.17369391082193836, 'umap_n_components': 7, 'umap_metric': 'cosine', 'Spectral_n_cluster': 16, 'Spectral_eigen_solver': 'amg', 'Spectral_affinity': 'rbf', 'Spectral_assign_labels': 'discretize', 'PartOfSpeech_model': 'en_core_web_sm', 'PartOfSpeech_top_n_words': 8}. Best is trial 5 with value: -0.701636123242772.\n"
     ]
    },
    {
     "data": {
      "application/vnd.jupyter.widget-view+json": {
       "model_id": "8f70d7b9217c4e28bbde3713f2a967a2",
       "version_major": 2,
       "version_minor": 0
      },
      "text/plain": [
       "Batches:   0%|          | 0/256 [00:00<?, ?it/s]"
      ]
     },
     "metadata": {},
     "output_type": "display_data"
    },
    {
     "name": "stderr",
     "output_type": "stream",
     "text": [
      "[I 2024-12-01 06:54:13,624] Trial 19 finished with value: -0.6580912662518278 and parameters: {'umap_n_neighbors': 13, 'umap_min_dist': 0.3483493318231523, 'umap_n_components': 4, 'umap_metric': 'cosine', 'Spectral_n_cluster': 10, 'Spectral_eigen_solver': 'lobpcg', 'Spectral_affinity': 'nearest_neighbors', 'Spectral_assign_labels': 'discretize', 'PartOfSpeech_model': 'en_core_web_sm', 'PartOfSpeech_top_n_words': 6}. Best is trial 5 with value: -0.701636123242772.\n"
     ]
    },
    {
     "data": {
      "application/vnd.jupyter.widget-view+json": {
       "model_id": "a0741ca2a7874f7d8f367bf7b4327788",
       "version_major": 2,
       "version_minor": 0
      },
      "text/plain": [
       "Batches:   0%|          | 0/256 [00:00<?, ?it/s]"
      ]
     },
     "metadata": {},
     "output_type": "display_data"
    },
    {
     "name": "stderr",
     "output_type": "stream",
     "text": [
      "[I 2024-12-01 06:55:33,285] Trial 20 finished with value: -0.6142764095988135 and parameters: {'umap_n_neighbors': 19, 'umap_min_dist': 0.5864683597720348, 'umap_n_components': 7, 'umap_metric': 'cosine', 'Spectral_n_cluster': 35, 'Spectral_eigen_solver': 'arpack', 'Spectral_affinity': 'nearest_neighbors', 'Spectral_assign_labels': 'discretize', 'PartOfSpeech_model': 'en_core_web_sm', 'PartOfSpeech_top_n_words': 8}. Best is trial 5 with value: -0.701636123242772.\n"
     ]
    },
    {
     "data": {
      "application/vnd.jupyter.widget-view+json": {
       "model_id": "7d25ac2d00284d00ad0905c0e0f5d96f",
       "version_major": 2,
       "version_minor": 0
      },
      "text/plain": [
       "Batches:   0%|          | 0/256 [00:00<?, ?it/s]"
      ]
     },
     "metadata": {},
     "output_type": "display_data"
    },
    {
     "name": "stderr",
     "output_type": "stream",
     "text": [
      "[I 2024-12-01 06:56:49,572] Trial 21 finished with value: -0.682360516476821 and parameters: {'umap_n_neighbors': 23, 'umap_min_dist': 0.38977712368434414, 'umap_n_components': 10, 'umap_metric': 'chebyshev', 'Spectral_n_cluster': 5, 'Spectral_eigen_solver': 'arpack', 'Spectral_affinity': 'nearest_neighbors', 'Spectral_assign_labels': 'kmeans', 'PartOfSpeech_model': 'en_core_web_sm', 'PartOfSpeech_top_n_words': 10}. Best is trial 5 with value: -0.701636123242772.\n"
     ]
    },
    {
     "data": {
      "application/vnd.jupyter.widget-view+json": {
       "model_id": "b1bb015681a44499926393b087651954",
       "version_major": 2,
       "version_minor": 0
      },
      "text/plain": [
       "Batches:   0%|          | 0/256 [00:00<?, ?it/s]"
      ]
     },
     "metadata": {},
     "output_type": "display_data"
    },
    {
     "name": "stderr",
     "output_type": "stream",
     "text": [
      "[I 2024-12-01 06:58:05,584] Trial 22 finished with value: -0.6378610977547927 and parameters: {'umap_n_neighbors': 27, 'umap_min_dist': 0.5137598499291006, 'umap_n_components': 8, 'umap_metric': 'chebyshev', 'Spectral_n_cluster': 8, 'Spectral_eigen_solver': 'arpack', 'Spectral_affinity': 'nearest_neighbors', 'Spectral_assign_labels': 'discretize', 'PartOfSpeech_model': 'en_core_web_sm', 'PartOfSpeech_top_n_words': 9}. Best is trial 5 with value: -0.701636123242772.\n"
     ]
    },
    {
     "data": {
      "application/vnd.jupyter.widget-view+json": {
       "model_id": "42fe4b2a82b04b69b06875f7b6e3c099",
       "version_major": 2,
       "version_minor": 0
      },
      "text/plain": [
       "Batches:   0%|          | 0/256 [00:00<?, ?it/s]"
      ]
     },
     "metadata": {},
     "output_type": "display_data"
    },
    {
     "name": "stderr",
     "output_type": "stream",
     "text": [
      "[I 2024-12-01 06:59:19,947] Trial 23 finished with value: -0.646174326518947 and parameters: {'umap_n_neighbors': 22, 'umap_min_dist': 0.2327752451622951, 'umap_n_components': 10, 'umap_metric': 'cosine', 'Spectral_n_cluster': 13, 'Spectral_eigen_solver': 'arpack', 'Spectral_affinity': 'nearest_neighbors', 'Spectral_assign_labels': 'discretize', 'PartOfSpeech_model': 'en_core_web_sm', 'PartOfSpeech_top_n_words': 7}. Best is trial 5 with value: -0.701636123242772.\n"
     ]
    },
    {
     "data": {
      "application/vnd.jupyter.widget-view+json": {
       "model_id": "cd18178edc1d4677997f9004b26e8188",
       "version_major": 2,
       "version_minor": 0
      },
      "text/plain": [
       "Batches:   0%|          | 0/256 [00:00<?, ?it/s]"
      ]
     },
     "metadata": {},
     "output_type": "display_data"
    },
    {
     "name": "stderr",
     "output_type": "stream",
     "text": [
      "[I 2024-12-01 07:00:38,628] Trial 24 finished with value: -0.6926635710223721 and parameters: {'umap_n_neighbors': 28, 'umap_min_dist': 0.8298436261336103, 'umap_n_components': 6, 'umap_metric': 'chebyshev', 'Spectral_n_cluster': 5, 'Spectral_eigen_solver': 'arpack', 'Spectral_affinity': 'nearest_neighbors', 'Spectral_assign_labels': 'kmeans', 'PartOfSpeech_model': 'en_core_web_sm', 'PartOfSpeech_top_n_words': 6}. Best is trial 5 with value: -0.701636123242772.\n"
     ]
    },
    {
     "data": {
      "application/vnd.jupyter.widget-view+json": {
       "model_id": "404c90d4cacf441cbee9cbe0b37ef53a",
       "version_major": 2,
       "version_minor": 0
      },
      "text/plain": [
       "Batches:   0%|          | 0/256 [00:00<?, ?it/s]"
      ]
     },
     "metadata": {},
     "output_type": "display_data"
    },
    {
     "name": "stderr",
     "output_type": "stream",
     "text": [
      "[I 2024-12-01 07:02:00,837] Trial 25 finished with value: -0.6217585171804951 and parameters: {'umap_n_neighbors': 28, 'umap_min_dist': 0.8258501565750969, 'umap_n_components': 5, 'umap_metric': 'correlation', 'Spectral_n_cluster': 47, 'Spectral_eigen_solver': 'arpack', 'Spectral_affinity': 'nearest_neighbors', 'Spectral_assign_labels': 'discretize', 'PartOfSpeech_model': 'en_core_web_sm', 'PartOfSpeech_top_n_words': 6}. Best is trial 5 with value: -0.701636123242772.\n"
     ]
    },
    {
     "data": {
      "application/vnd.jupyter.widget-view+json": {
       "model_id": "55445fccb3034e88843534883efa2119",
       "version_major": 2,
       "version_minor": 0
      },
      "text/plain": [
       "Batches:   0%|          | 0/256 [00:00<?, ?it/s]"
      ]
     },
     "metadata": {},
     "output_type": "display_data"
    },
    {
     "name": "stderr",
     "output_type": "stream",
     "text": [
      "[I 2024-12-01 07:03:18,027] Trial 26 finished with value: -0.6443218033020537 and parameters: {'umap_n_neighbors': 17, 'umap_min_dist': 0.6644250758022354, 'umap_n_components': 6, 'umap_metric': 'manhattan', 'Spectral_n_cluster': 19, 'Spectral_eigen_solver': 'arpack', 'Spectral_affinity': 'rbf', 'Spectral_assign_labels': 'kmeans', 'PartOfSpeech_model': 'en_core_web_sm', 'PartOfSpeech_top_n_words': 7}. Best is trial 5 with value: -0.701636123242772.\n"
     ]
    },
    {
     "data": {
      "application/vnd.jupyter.widget-view+json": {
       "model_id": "9e60570f0aae4927837dd3194bda9971",
       "version_major": 2,
       "version_minor": 0
      },
      "text/plain": [
       "Batches:   0%|          | 0/256 [00:00<?, ?it/s]"
      ]
     },
     "metadata": {},
     "output_type": "display_data"
    },
    {
     "name": "stderr",
     "output_type": "stream",
     "text": [
      "[I 2024-12-01 07:04:31,584] Trial 27 finished with value: -0.6542105970638576 and parameters: {'umap_n_neighbors': 24, 'umap_min_dist': 0.8562952465271711, 'umap_n_components': 3, 'umap_metric': 'cosine', 'Spectral_n_cluster': 12, 'Spectral_eigen_solver': 'arpack', 'Spectral_affinity': 'nearest_neighbors', 'Spectral_assign_labels': 'discretize', 'PartOfSpeech_model': 'en_core_web_sm', 'PartOfSpeech_top_n_words': 6}. Best is trial 5 with value: -0.701636123242772.\n"
     ]
    },
    {
     "data": {
      "application/vnd.jupyter.widget-view+json": {
       "model_id": "f3b2a4b59a84478da810fe891ff8399c",
       "version_major": 2,
       "version_minor": 0
      },
      "text/plain": [
       "Batches:   0%|          | 0/256 [00:00<?, ?it/s]"
      ]
     },
     "metadata": {},
     "output_type": "display_data"
    },
    {
     "name": "stderr",
     "output_type": "stream",
     "text": [
      "[I 2024-12-01 07:05:46,241] Trial 28 finished with value: -0.652050060871315 and parameters: {'umap_n_neighbors': 28, 'umap_min_dist': 0.7652437135747755, 'umap_n_components': 6, 'umap_metric': 'chebyshev', 'Spectral_n_cluster': 8, 'Spectral_eigen_solver': 'lobpcg', 'Spectral_affinity': 'nearest_neighbors', 'Spectral_assign_labels': 'kmeans', 'PartOfSpeech_model': 'en_core_web_lg', 'PartOfSpeech_top_n_words': 8}. Best is trial 5 with value: -0.701636123242772.\n"
     ]
    },
    {
     "data": {
      "application/vnd.jupyter.widget-view+json": {
       "model_id": "350b98696d1045c69e871d71b1442948",
       "version_major": 2,
       "version_minor": 0
      },
      "text/plain": [
       "Batches:   0%|          | 0/256 [00:00<?, ?it/s]"
      ]
     },
     "metadata": {},
     "output_type": "display_data"
    },
    {
     "name": "stderr",
     "output_type": "stream",
     "text": [
      "[I 2024-12-01 07:07:01,786] Trial 29 finished with value: -0.6194808071035894 and parameters: {'umap_n_neighbors': 13, 'umap_min_dist': 0.5490204582288936, 'umap_n_components': 8, 'umap_metric': 'chebyshev', 'Spectral_n_cluster': 15, 'Spectral_eigen_solver': 'amg', 'Spectral_affinity': 'rbf', 'Spectral_assign_labels': 'discretize', 'PartOfSpeech_model': 'en_core_web_sm', 'PartOfSpeech_top_n_words': 7}. Best is trial 5 with value: -0.701636123242772.\n"
     ]
    },
    {
     "data": {
      "application/vnd.jupyter.widget-view+json": {
       "model_id": "adab40d3f5fb4bf886c339758611fe53",
       "version_major": 2,
       "version_minor": 0
      },
      "text/plain": [
       "Batches:   0%|          | 0/256 [00:00<?, ?it/s]"
      ]
     },
     "metadata": {},
     "output_type": "display_data"
    },
    {
     "name": "stderr",
     "output_type": "stream",
     "text": [
      "[I 2024-12-01 07:08:20,321] Trial 30 finished with value: -0.6464047262823618 and parameters: {'umap_n_neighbors': 19, 'umap_min_dist': 0.6919272623570608, 'umap_n_components': 8, 'umap_metric': 'cosine', 'Spectral_n_cluster': 25, 'Spectral_eigen_solver': 'arpack', 'Spectral_affinity': 'nearest_neighbors', 'Spectral_assign_labels': 'kmeans', 'PartOfSpeech_model': 'en_core_web_lg', 'PartOfSpeech_top_n_words': 6}. Best is trial 5 with value: -0.701636123242772.\n"
     ]
    },
    {
     "data": {
      "application/vnd.jupyter.widget-view+json": {
       "model_id": "dd1d2acea9fd41178d5e6c00a3525caf",
       "version_major": 2,
       "version_minor": 0
      },
      "text/plain": [
       "Batches:   0%|          | 0/256 [00:00<?, ?it/s]"
      ]
     },
     "metadata": {},
     "output_type": "display_data"
    },
    {
     "name": "stderr",
     "output_type": "stream",
     "text": [
      "[I 2024-12-01 07:09:36,046] Trial 31 finished with value: -0.6872024647679196 and parameters: {'umap_n_neighbors': 25, 'umap_min_dist': 0.44293907641398966, 'umap_n_components': 9, 'umap_metric': 'chebyshev', 'Spectral_n_cluster': 5, 'Spectral_eigen_solver': 'arpack', 'Spectral_affinity': 'nearest_neighbors', 'Spectral_assign_labels': 'kmeans', 'PartOfSpeech_model': 'en_core_web_sm', 'PartOfSpeech_top_n_words': 9}. Best is trial 5 with value: -0.701636123242772.\n"
     ]
    },
    {
     "data": {
      "application/vnd.jupyter.widget-view+json": {
       "model_id": "03e7ff8936ca485790493770a300fa1d",
       "version_major": 2,
       "version_minor": 0
      },
      "text/plain": [
       "Batches:   0%|          | 0/256 [00:00<?, ?it/s]"
      ]
     },
     "metadata": {},
     "output_type": "display_data"
    },
    {
     "name": "stderr",
     "output_type": "stream",
     "text": [
      "[I 2024-12-01 07:10:51,648] Trial 32 finished with value: -0.646739414874921 and parameters: {'umap_n_neighbors': 23, 'umap_min_dist': 0.398480551261754, 'umap_n_components': 7, 'umap_metric': 'chebyshev', 'Spectral_n_cluster': 9, 'Spectral_eigen_solver': 'arpack', 'Spectral_affinity': 'nearest_neighbors', 'Spectral_assign_labels': 'kmeans', 'PartOfSpeech_model': 'en_core_web_sm', 'PartOfSpeech_top_n_words': 9}. Best is trial 5 with value: -0.701636123242772.\n"
     ]
    },
    {
     "data": {
      "application/vnd.jupyter.widget-view+json": {
       "model_id": "8c760d9236e149f1ad447b199c13d645",
       "version_major": 2,
       "version_minor": 0
      },
      "text/plain": [
       "Batches:   0%|          | 0/256 [00:00<?, ?it/s]"
      ]
     },
     "metadata": {},
     "output_type": "display_data"
    },
    {
     "name": "stderr",
     "output_type": "stream",
     "text": [
      "[I 2024-12-01 07:12:10,174] Trial 33 finished with value: -0.6618876929997802 and parameters: {'umap_n_neighbors': 25, 'umap_min_dist': 0.4537844274545558, 'umap_n_components': 13, 'umap_metric': 'chebyshev', 'Spectral_n_cluster': 7, 'Spectral_eigen_solver': 'arpack', 'Spectral_affinity': 'nearest_neighbors', 'Spectral_assign_labels': 'kmeans', 'PartOfSpeech_model': 'en_core_web_sm', 'PartOfSpeech_top_n_words': 8}. Best is trial 5 with value: -0.701636123242772.\n"
     ]
    },
    {
     "data": {
      "application/vnd.jupyter.widget-view+json": {
       "model_id": "dd37440f79604964a4ebe79fc67afacb",
       "version_major": 2,
       "version_minor": 0
      },
      "text/plain": [
       "Batches:   0%|          | 0/256 [00:00<?, ?it/s]"
      ]
     },
     "metadata": {},
     "output_type": "display_data"
    },
    {
     "name": "stderr",
     "output_type": "stream",
     "text": [
      "[I 2024-12-01 07:13:28,160] Trial 34 finished with value: -0.6384922148336653 and parameters: {'umap_n_neighbors': 28, 'umap_min_dist': 0.6395689363446845, 'umap_n_components': 11, 'umap_metric': 'chebyshev', 'Spectral_n_cluster': 11, 'Spectral_eigen_solver': 'arpack', 'Spectral_affinity': 'rbf', 'Spectral_assign_labels': 'kmeans', 'PartOfSpeech_model': 'en_core_web_sm', 'PartOfSpeech_top_n_words': 9}. Best is trial 5 with value: -0.701636123242772.\n"
     ]
    },
    {
     "data": {
      "application/vnd.jupyter.widget-view+json": {
       "model_id": "272be26894fa497aa482f0f903faf30e",
       "version_major": 2,
       "version_minor": 0
      },
      "text/plain": [
       "Batches:   0%|          | 0/256 [00:00<?, ?it/s]"
      ]
     },
     "metadata": {},
     "output_type": "display_data"
    },
    {
     "name": "stderr",
     "output_type": "stream",
     "text": [
      "[I 2024-12-01 07:14:50,319] Trial 35 finished with value: -0.610149789754028 and parameters: {'umap_n_neighbors': 22, 'umap_min_dist': 0.8151447172345678, 'umap_n_components': 6, 'umap_metric': 'manhattan', 'Spectral_n_cluster': 44, 'Spectral_eigen_solver': 'arpack', 'Spectral_affinity': 'nearest_neighbors', 'Spectral_assign_labels': 'kmeans', 'PartOfSpeech_model': 'en_core_web_md', 'PartOfSpeech_top_n_words': 9}. Best is trial 5 with value: -0.701636123242772.\n"
     ]
    },
    {
     "data": {
      "application/vnd.jupyter.widget-view+json": {
       "model_id": "81554a06e48d43afa1e79ce23384834c",
       "version_major": 2,
       "version_minor": 0
      },
      "text/plain": [
       "Batches:   0%|          | 0/256 [00:00<?, ?it/s]"
      ]
     },
     "metadata": {},
     "output_type": "display_data"
    },
    {
     "name": "stderr",
     "output_type": "stream",
     "text": [
      "[I 2024-12-01 07:16:08,872] Trial 36 finished with value: -0.6426999893610146 and parameters: {'umap_n_neighbors': 30, 'umap_min_dist': 0.7248125204357974, 'umap_n_components': 8, 'umap_metric': 'euclidean', 'Spectral_n_cluster': 18, 'Spectral_eigen_solver': 'arpack', 'Spectral_affinity': 'nearest_neighbors', 'Spectral_assign_labels': 'cluster_qr', 'PartOfSpeech_model': 'en_core_web_sm', 'PartOfSpeech_top_n_words': 5}. Best is trial 5 with value: -0.701636123242772.\n"
     ]
    },
    {
     "data": {
      "application/vnd.jupyter.widget-view+json": {
       "model_id": "7c145bcacc004b1e93a21baf31b44701",
       "version_major": 2,
       "version_minor": 0
      },
      "text/plain": [
       "Batches:   0%|          | 0/256 [00:00<?, ?it/s]"
      ]
     },
     "metadata": {},
     "output_type": "display_data"
    },
    {
     "name": "stderr",
     "output_type": "stream",
     "text": [
      "[I 2024-12-01 07:17:26,898] Trial 37 finished with value: -0.6958213250920258 and parameters: {'umap_n_neighbors': 20, 'umap_min_dist': 0.5509739989457132, 'umap_n_components': 14, 'umap_metric': 'chebyshev', 'Spectral_n_cluster': 5, 'Spectral_eigen_solver': 'arpack', 'Spectral_affinity': 'nearest_neighbors', 'Spectral_assign_labels': 'kmeans', 'PartOfSpeech_model': 'en_core_web_lg', 'PartOfSpeech_top_n_words': 7}. Best is trial 5 with value: -0.701636123242772.\n"
     ]
    },
    {
     "data": {
      "application/vnd.jupyter.widget-view+json": {
       "model_id": "d2e56546c2b1413ea5dba3085f4c0985",
       "version_major": 2,
       "version_minor": 0
      },
      "text/plain": [
       "Batches:   0%|          | 0/256 [00:00<?, ?it/s]"
      ]
     },
     "metadata": {},
     "output_type": "display_data"
    },
    {
     "name": "stderr",
     "output_type": "stream",
     "text": [
      "[I 2024-12-01 07:18:47,045] Trial 38 finished with value: -0.6336665561543644 and parameters: {'umap_n_neighbors': 15, 'umap_min_dist': 0.570112403235935, 'umap_n_components': 14, 'umap_metric': 'correlation', 'Spectral_n_cluster': 14, 'Spectral_eigen_solver': 'arpack', 'Spectral_affinity': 'rbf', 'Spectral_assign_labels': 'cluster_qr', 'PartOfSpeech_model': 'en_core_web_lg', 'PartOfSpeech_top_n_words': 7}. Best is trial 5 with value: -0.701636123242772.\n"
     ]
    },
    {
     "data": {
      "application/vnd.jupyter.widget-view+json": {
       "model_id": "d2880fb052044e089dc841929d2cda1f",
       "version_major": 2,
       "version_minor": 0
      },
      "text/plain": [
       "Batches:   0%|          | 0/256 [00:00<?, ?it/s]"
      ]
     },
     "metadata": {},
     "output_type": "display_data"
    },
    {
     "name": "stderr",
     "output_type": "stream",
     "text": [
      "[I 2024-12-01 07:19:57,178] Trial 39 finished with value: -0.6973467443419116 and parameters: {'umap_n_neighbors': 5, 'umap_min_dist': 0.886236907870578, 'umap_n_components': 14, 'umap_metric': 'manhattan', 'Spectral_n_cluster': 7, 'Spectral_eigen_solver': 'amg', 'Spectral_affinity': 'nearest_neighbors', 'Spectral_assign_labels': 'kmeans', 'PartOfSpeech_model': 'en_core_web_lg', 'PartOfSpeech_top_n_words': 7}. Best is trial 5 with value: -0.701636123242772.\n"
     ]
    },
    {
     "data": {
      "application/vnd.jupyter.widget-view+json": {
       "model_id": "4ceadf4a583b4da9ab779efda8dfcacc",
       "version_major": 2,
       "version_minor": 0
      },
      "text/plain": [
       "Batches:   0%|          | 0/256 [00:00<?, ?it/s]"
      ]
     },
     "metadata": {},
     "output_type": "display_data"
    },
    {
     "name": "stderr",
     "output_type": "stream",
     "text": [
      "[I 2024-12-01 07:21:08,119] Trial 40 finished with value: -0.6654734717648384 and parameters: {'umap_n_neighbors': 5, 'umap_min_dist': 0.9848537692028214, 'umap_n_components': 15, 'umap_metric': 'manhattan', 'Spectral_n_cluster': 11, 'Spectral_eigen_solver': 'amg', 'Spectral_affinity': 'nearest_neighbors', 'Spectral_assign_labels': 'kmeans', 'PartOfSpeech_model': 'en_core_web_lg', 'PartOfSpeech_top_n_words': 7}. Best is trial 5 with value: -0.701636123242772.\n"
     ]
    },
    {
     "data": {
      "application/vnd.jupyter.widget-view+json": {
       "model_id": "27714756e96045bdb92dd7fd13562aad",
       "version_major": 2,
       "version_minor": 0
      },
      "text/plain": [
       "Batches:   0%|          | 0/256 [00:00<?, ?it/s]"
      ]
     },
     "metadata": {},
     "output_type": "display_data"
    },
    {
     "name": "stderr",
     "output_type": "stream",
     "text": [
      "[I 2024-12-01 07:22:21,742] Trial 41 finished with value: -0.6743898375434974 and parameters: {'umap_n_neighbors': 17, 'umap_min_dist': 0.8968205448177573, 'umap_n_components': 15, 'umap_metric': 'manhattan', 'Spectral_n_cluster': 7, 'Spectral_eigen_solver': 'amg', 'Spectral_affinity': 'nearest_neighbors', 'Spectral_assign_labels': 'kmeans', 'PartOfSpeech_model': 'en_core_web_lg', 'PartOfSpeech_top_n_words': 6}. Best is trial 5 with value: -0.701636123242772.\n"
     ]
    },
    {
     "data": {
      "application/vnd.jupyter.widget-view+json": {
       "model_id": "8f7735ffa2ce494793d5c57dbd8dc855",
       "version_major": 2,
       "version_minor": 0
      },
      "text/plain": [
       "Batches:   0%|          | 0/256 [00:00<?, ?it/s]"
      ]
     },
     "metadata": {},
     "output_type": "display_data"
    },
    {
     "name": "stderr",
     "output_type": "stream",
     "text": [
      "[I 2024-12-01 07:23:36,628] Trial 42 finished with value: -0.67421977224965 and parameters: {'umap_n_neighbors': 19, 'umap_min_dist': 0.937278729040239, 'umap_n_components': 13, 'umap_metric': 'manhattan', 'Spectral_n_cluster': 7, 'Spectral_eigen_solver': 'amg', 'Spectral_affinity': 'nearest_neighbors', 'Spectral_assign_labels': 'kmeans', 'PartOfSpeech_model': 'en_core_web_lg', 'PartOfSpeech_top_n_words': 7}. Best is trial 5 with value: -0.701636123242772.\n"
     ]
    },
    {
     "data": {
      "application/vnd.jupyter.widget-view+json": {
       "model_id": "415a7e1dea854c71a19c1abe9b6805b5",
       "version_major": 2,
       "version_minor": 0
      },
      "text/plain": [
       "Batches:   0%|          | 0/256 [00:00<?, ?it/s]"
      ]
     },
     "metadata": {},
     "output_type": "display_data"
    },
    {
     "name": "stderr",
     "output_type": "stream",
     "text": [
      "[I 2024-12-01 07:24:45,660] Trial 43 finished with value: -0.7132411733149352 and parameters: {'umap_n_neighbors': 8, 'umap_min_dist': 0.7668347162006994, 'umap_n_components': 14, 'umap_metric': 'euclidean', 'Spectral_n_cluster': 5, 'Spectral_eigen_solver': 'amg', 'Spectral_affinity': 'nearest_neighbors', 'Spectral_assign_labels': 'kmeans', 'PartOfSpeech_model': 'en_core_web_lg', 'PartOfSpeech_top_n_words': 7}. Best is trial 43 with value: -0.7132411733149352.\n"
     ]
    },
    {
     "data": {
      "application/vnd.jupyter.widget-view+json": {
       "model_id": "429f1d92177a45e08ff30a6f17c4909e",
       "version_major": 2,
       "version_minor": 0
      },
      "text/plain": [
       "Batches:   0%|          | 0/256 [00:00<?, ?it/s]"
      ]
     },
     "metadata": {},
     "output_type": "display_data"
    },
    {
     "name": "stderr",
     "output_type": "stream",
     "text": [
      "[I 2024-12-01 07:25:55,821] Trial 44 finished with value: -0.6562885447584993 and parameters: {'umap_n_neighbors': 8, 'umap_min_dist': 0.7506554356585003, 'umap_n_components': 14, 'umap_metric': 'euclidean', 'Spectral_n_cluster': 10, 'Spectral_eigen_solver': 'amg', 'Spectral_affinity': 'nearest_neighbors', 'Spectral_assign_labels': 'kmeans', 'PartOfSpeech_model': 'en_core_web_lg', 'PartOfSpeech_top_n_words': 7}. Best is trial 43 with value: -0.7132411733149352.\n"
     ]
    },
    {
     "data": {
      "application/vnd.jupyter.widget-view+json": {
       "model_id": "50aa3df2d7ca43689d7229075f5f80bf",
       "version_major": 2,
       "version_minor": 0
      },
      "text/plain": [
       "Batches:   0%|          | 0/256 [00:00<?, ?it/s]"
      ]
     },
     "metadata": {},
     "output_type": "display_data"
    },
    {
     "name": "stderr",
     "output_type": "stream",
     "text": [
      "[I 2024-12-01 07:27:04,960] Trial 45 finished with value: -0.692282777674988 and parameters: {'umap_n_neighbors': 7, 'umap_min_dist': 0.8609774056166212, 'umap_n_components': 12, 'umap_metric': 'euclidean', 'Spectral_n_cluster': 8, 'Spectral_eigen_solver': 'amg', 'Spectral_affinity': 'nearest_neighbors', 'Spectral_assign_labels': 'kmeans', 'PartOfSpeech_model': 'en_core_web_lg', 'PartOfSpeech_top_n_words': 5}. Best is trial 43 with value: -0.7132411733149352.\n"
     ]
    },
    {
     "data": {
      "application/vnd.jupyter.widget-view+json": {
       "model_id": "fd89a61db11b437d8784591a511750d4",
       "version_major": 2,
       "version_minor": 0
      },
      "text/plain": [
       "Batches:   0%|          | 0/256 [00:00<?, ?it/s]"
      ]
     },
     "metadata": {},
     "output_type": "display_data"
    },
    {
     "name": "stderr",
     "output_type": "stream",
     "text": [
      "[I 2024-12-01 07:28:18,900] Trial 46 finished with value: -0.667224090992603 and parameters: {'umap_n_neighbors': 10, 'umap_min_dist': 0.8110843980589515, 'umap_n_components': 14, 'umap_metric': 'euclidean', 'Spectral_n_cluster': 12, 'Spectral_eigen_solver': 'amg', 'Spectral_affinity': 'nearest_neighbors', 'Spectral_assign_labels': 'kmeans', 'PartOfSpeech_model': 'en_core_web_lg', 'PartOfSpeech_top_n_words': 6}. Best is trial 43 with value: -0.7132411733149352.\n"
     ]
    },
    {
     "data": {
      "application/vnd.jupyter.widget-view+json": {
       "model_id": "1fe485e18dbe434e9859300b05518769",
       "version_major": 2,
       "version_minor": 0
      },
      "text/plain": [
       "Batches:   0%|          | 0/256 [00:00<?, ?it/s]"
      ]
     },
     "metadata": {},
     "output_type": "display_data"
    },
    {
     "name": "stderr",
     "output_type": "stream",
     "text": [
      "[I 2024-12-01 07:29:27,023] Trial 47 finished with value: -0.6928014246155292 and parameters: {'umap_n_neighbors': 5, 'umap_min_dist': 0.715507488775606, 'umap_n_components': 12, 'umap_metric': 'euclidean', 'Spectral_n_cluster': 5, 'Spectral_eigen_solver': 'amg', 'Spectral_affinity': 'nearest_neighbors', 'Spectral_assign_labels': 'cluster_qr', 'PartOfSpeech_model': 'en_core_web_lg', 'PartOfSpeech_top_n_words': 7}. Best is trial 43 with value: -0.7132411733149352.\n"
     ]
    },
    {
     "data": {
      "application/vnd.jupyter.widget-view+json": {
       "model_id": "1162d094ff0347c199e77c6129ae625b",
       "version_major": 2,
       "version_minor": 0
      },
      "text/plain": [
       "Batches:   0%|          | 0/256 [00:00<?, ?it/s]"
      ]
     },
     "metadata": {},
     "output_type": "display_data"
    },
    {
     "name": "stderr",
     "output_type": "stream",
     "text": [
      "[I 2024-12-01 07:30:35,388] Trial 48 finished with value: -0.6765009722547668 and parameters: {'umap_n_neighbors': 5, 'umap_min_dist': 0.6874399640178435, 'umap_n_components': 12, 'umap_metric': 'euclidean', 'Spectral_n_cluster': 9, 'Spectral_eigen_solver': 'amg', 'Spectral_affinity': 'nearest_neighbors', 'Spectral_assign_labels': 'cluster_qr', 'PartOfSpeech_model': 'en_core_web_lg', 'PartOfSpeech_top_n_words': 7}. Best is trial 43 with value: -0.7132411733149352.\n"
     ]
    },
    {
     "data": {
      "application/vnd.jupyter.widget-view+json": {
       "model_id": "46a7a5e569e24ba7bc2de70ba6e3c9b8",
       "version_major": 2,
       "version_minor": 0
      },
      "text/plain": [
       "Batches:   0%|          | 0/256 [00:00<?, ?it/s]"
      ]
     },
     "metadata": {},
     "output_type": "display_data"
    },
    {
     "name": "stderr",
     "output_type": "stream",
     "text": [
      "[I 2024-12-01 07:31:50,577] Trial 49 finished with value: -0.6632653767748995 and parameters: {'umap_n_neighbors': 7, 'umap_min_dist': 0.616925055295223, 'umap_n_components': 14, 'umap_metric': 'euclidean', 'Spectral_n_cluster': 7, 'Spectral_eigen_solver': 'amg', 'Spectral_affinity': 'rbf', 'Spectral_assign_labels': 'cluster_qr', 'PartOfSpeech_model': 'en_core_web_lg', 'PartOfSpeech_top_n_words': 7}. Best is trial 43 with value: -0.7132411733149352.\n"
     ]
    },
    {
     "data": {
      "application/vnd.jupyter.widget-view+json": {
       "model_id": "0c0ee82455174132a37fb4c8097b8326",
       "version_major": 2,
       "version_minor": 0
      },
      "text/plain": [
       "Batches:   0%|          | 0/256 [00:00<?, ?it/s]"
      ]
     },
     "metadata": {},
     "output_type": "display_data"
    },
    {
     "name": "stderr",
     "output_type": "stream",
     "text": [
      "[I 2024-12-01 07:33:07,457] Trial 50 finished with value: -0.624483915972152 and parameters: {'umap_n_neighbors': 9, 'umap_min_dist': 0.7258630944224979, 'umap_n_components': 13, 'umap_metric': 'euclidean', 'Spectral_n_cluster': 35, 'Spectral_eigen_solver': 'amg', 'Spectral_affinity': 'nearest_neighbors', 'Spectral_assign_labels': 'cluster_qr', 'PartOfSpeech_model': 'en_core_web_lg', 'PartOfSpeech_top_n_words': 8}. Best is trial 43 with value: -0.7132411733149352.\n"
     ]
    },
    {
     "data": {
      "application/vnd.jupyter.widget-view+json": {
       "model_id": "49f09d3465ee497791d494fdb4c89118",
       "version_major": 2,
       "version_minor": 0
      },
      "text/plain": [
       "Batches:   0%|          | 0/256 [00:00<?, ?it/s]"
      ]
     },
     "metadata": {},
     "output_type": "display_data"
    },
    {
     "name": "stderr",
     "output_type": "stream",
     "text": [
      "[I 2024-12-01 07:34:16,731] Trial 51 finished with value: -0.709709375307906 and parameters: {'umap_n_neighbors': 6, 'umap_min_dist': 0.7846171868044313, 'umap_n_components': 15, 'umap_metric': 'euclidean', 'Spectral_n_cluster': 5, 'Spectral_eigen_solver': 'amg', 'Spectral_affinity': 'nearest_neighbors', 'Spectral_assign_labels': 'cluster_qr', 'PartOfSpeech_model': 'en_core_web_md', 'PartOfSpeech_top_n_words': 6}. Best is trial 43 with value: -0.7132411733149352.\n"
     ]
    },
    {
     "data": {
      "application/vnd.jupyter.widget-view+json": {
       "model_id": "fe058f1282c1459a8334670d3ffe8881",
       "version_major": 2,
       "version_minor": 0
      },
      "text/plain": [
       "Batches:   0%|          | 0/256 [00:00<?, ?it/s]"
      ]
     },
     "metadata": {},
     "output_type": "display_data"
    },
    {
     "name": "stderr",
     "output_type": "stream",
     "text": [
      "[I 2024-12-01 07:35:25,292] Trial 52 finished with value: -0.6839549765467491 and parameters: {'umap_n_neighbors': 6, 'umap_min_dist': 0.7807617907046848, 'umap_n_components': 15, 'umap_metric': 'euclidean', 'Spectral_n_cluster': 6, 'Spectral_eigen_solver': 'amg', 'Spectral_affinity': 'nearest_neighbors', 'Spectral_assign_labels': 'cluster_qr', 'PartOfSpeech_model': 'en_core_web_md', 'PartOfSpeech_top_n_words': 7}. Best is trial 43 with value: -0.7132411733149352.\n"
     ]
    },
    {
     "data": {
      "application/vnd.jupyter.widget-view+json": {
       "model_id": "72ba04ccdc3b46219ef592e978a2105b",
       "version_major": 2,
       "version_minor": 0
      },
      "text/plain": [
       "Batches:   0%|          | 0/256 [00:00<?, ?it/s]"
      ]
     },
     "metadata": {},
     "output_type": "display_data"
    },
    {
     "name": "stderr",
     "output_type": "stream",
     "text": [
      "[I 2024-12-01 07:36:33,645] Trial 53 finished with value: -0.6944970795844041 and parameters: {'umap_n_neighbors': 6, 'umap_min_dist': 0.6540745357075783, 'umap_n_components': 15, 'umap_metric': 'euclidean', 'Spectral_n_cluster': 5, 'Spectral_eigen_solver': 'amg', 'Spectral_affinity': 'nearest_neighbors', 'Spectral_assign_labels': 'cluster_qr', 'PartOfSpeech_model': 'en_core_web_md', 'PartOfSpeech_top_n_words': 7}. Best is trial 43 with value: -0.7132411733149352.\n"
     ]
    },
    {
     "data": {
      "application/vnd.jupyter.widget-view+json": {
       "model_id": "b739643cd717426eb85ca9cbc5e2c786",
       "version_major": 2,
       "version_minor": 0
      },
      "text/plain": [
       "Batches:   0%|          | 0/256 [00:00<?, ?it/s]"
      ]
     },
     "metadata": {},
     "output_type": "display_data"
    },
    {
     "name": "stderr",
     "output_type": "stream",
     "text": [
      "[I 2024-12-01 07:37:43,122] Trial 54 finished with value: -0.6637199353628045 and parameters: {'umap_n_neighbors': 7, 'umap_min_dist': 0.645867640856382, 'umap_n_components': 15, 'umap_metric': 'euclidean', 'Spectral_n_cluster': 10, 'Spectral_eigen_solver': 'amg', 'Spectral_affinity': 'nearest_neighbors', 'Spectral_assign_labels': 'cluster_qr', 'PartOfSpeech_model': 'en_core_web_md', 'PartOfSpeech_top_n_words': 6}. Best is trial 43 with value: -0.7132411733149352.\n"
     ]
    },
    {
     "data": {
      "application/vnd.jupyter.widget-view+json": {
       "model_id": "ee3b322786f84803861007c46a5811dd",
       "version_major": 2,
       "version_minor": 0
      },
      "text/plain": [
       "Batches:   0%|          | 0/256 [00:00<?, ?it/s]"
      ]
     },
     "metadata": {},
     "output_type": "display_data"
    },
    {
     "name": "stderr",
     "output_type": "stream",
     "text": [
      "[I 2024-12-01 07:38:54,517] Trial 55 finished with value: -0.6693262519794433 and parameters: {'umap_n_neighbors': 11, 'umap_min_dist': 0.8864750630548559, 'umap_n_components': 14, 'umap_metric': 'euclidean', 'Spectral_n_cluster': 7, 'Spectral_eigen_solver': 'amg', 'Spectral_affinity': 'nearest_neighbors', 'Spectral_assign_labels': 'cluster_qr', 'PartOfSpeech_model': 'en_core_web_md', 'PartOfSpeech_top_n_words': 8}. Best is trial 43 with value: -0.7132411733149352.\n"
     ]
    },
    {
     "data": {
      "application/vnd.jupyter.widget-view+json": {
       "model_id": "64e9f12e36af40f4a867907cb13037e5",
       "version_major": 2,
       "version_minor": 0
      },
      "text/plain": [
       "Batches:   0%|          | 0/256 [00:00<?, ?it/s]"
      ]
     },
     "metadata": {},
     "output_type": "display_data"
    },
    {
     "name": "stderr",
     "output_type": "stream",
     "text": [
      "[I 2024-12-01 07:40:03,629] Trial 56 finished with value: -0.6708473577895138 and parameters: {'umap_n_neighbors': 6, 'umap_min_dist': 0.6601458511664304, 'umap_n_components': 15, 'umap_metric': 'manhattan', 'Spectral_n_cluster': 10, 'Spectral_eigen_solver': 'lobpcg', 'Spectral_affinity': 'nearest_neighbors', 'Spectral_assign_labels': 'cluster_qr', 'PartOfSpeech_model': 'en_core_web_md', 'PartOfSpeech_top_n_words': 7}. Best is trial 43 with value: -0.7132411733149352.\n"
     ]
    },
    {
     "data": {
      "application/vnd.jupyter.widget-view+json": {
       "model_id": "5d7866d586a548b48c871f5f5830facb",
       "version_major": 2,
       "version_minor": 0
      },
      "text/plain": [
       "Batches:   0%|          | 0/256 [00:00<?, ?it/s]"
      ]
     },
     "metadata": {},
     "output_type": "display_data"
    },
    {
     "name": "stderr",
     "output_type": "stream",
     "text": [
      "[I 2024-12-01 07:41:14,431] Trial 57 finished with value: -0.6461000371613983 and parameters: {'umap_n_neighbors': 9, 'umap_min_dist': 0.4939953005822153, 'umap_n_components': 13, 'umap_metric': 'euclidean', 'Spectral_n_cluster': 14, 'Spectral_eigen_solver': 'amg', 'Spectral_affinity': 'nearest_neighbors', 'Spectral_assign_labels': 'cluster_qr', 'PartOfSpeech_model': 'en_core_web_md', 'PartOfSpeech_top_n_words': 7}. Best is trial 43 with value: -0.7132411733149352.\n"
     ]
    },
    {
     "data": {
      "application/vnd.jupyter.widget-view+json": {
       "model_id": "180336318f6841128d962e10f3e65486",
       "version_major": 2,
       "version_minor": 0
      },
      "text/plain": [
       "Batches:   0%|          | 0/256 [00:00<?, ?it/s]"
      ]
     },
     "metadata": {},
     "output_type": "display_data"
    },
    {
     "name": "stderr",
     "output_type": "stream",
     "text": [
      "[I 2024-12-01 07:42:23,476] Trial 58 finished with value: -0.6793258445608927 and parameters: {'umap_n_neighbors': 8, 'umap_min_dist': 0.7887802609770223, 'umap_n_components': 11, 'umap_metric': 'euclidean', 'Spectral_n_cluster': 6, 'Spectral_eigen_solver': 'amg', 'Spectral_affinity': 'nearest_neighbors', 'Spectral_assign_labels': 'cluster_qr', 'PartOfSpeech_model': 'en_core_web_md', 'PartOfSpeech_top_n_words': 6}. Best is trial 43 with value: -0.7132411733149352.\n"
     ]
    },
    {
     "data": {
      "application/vnd.jupyter.widget-view+json": {
       "model_id": "decd70ab57034f8c95c859225cb1af20",
       "version_major": 2,
       "version_minor": 0
      },
      "text/plain": [
       "Batches:   0%|          | 0/256 [00:00<?, ?it/s]"
      ]
     },
     "metadata": {},
     "output_type": "display_data"
    },
    {
     "name": "stderr",
     "output_type": "stream",
     "text": [
      "[I 2024-12-01 07:43:39,273] Trial 59 finished with value: -0.633875860419949 and parameters: {'umap_n_neighbors': 20, 'umap_min_dist': 0.5998769752940845, 'umap_n_components': 14, 'umap_metric': 'manhattan', 'Spectral_n_cluster': 30, 'Spectral_eigen_solver': 'amg', 'Spectral_affinity': 'nearest_neighbors', 'Spectral_assign_labels': 'cluster_qr', 'PartOfSpeech_model': 'en_core_web_md', 'PartOfSpeech_top_n_words': 5}. Best is trial 43 with value: -0.7132411733149352.\n"
     ]
    },
    {
     "data": {
      "application/vnd.jupyter.widget-view+json": {
       "model_id": "557e7118507646f68f4a9715141fbd4f",
       "version_major": 2,
       "version_minor": 0
      },
      "text/plain": [
       "Batches:   0%|          | 0/256 [00:00<?, ?it/s]"
      ]
     },
     "metadata": {},
     "output_type": "display_data"
    },
    {
     "name": "stderr",
     "output_type": "stream",
     "text": [
      "[I 2024-12-01 07:44:52,320] Trial 60 finished with value: -0.654450552913999 and parameters: {'umap_n_neighbors': 12, 'umap_min_dist': 0.5263528754342071, 'umap_n_components': 15, 'umap_metric': 'correlation', 'Spectral_n_cluster': 12, 'Spectral_eigen_solver': 'lobpcg', 'Spectral_affinity': 'nearest_neighbors', 'Spectral_assign_labels': 'kmeans', 'PartOfSpeech_model': 'en_core_web_md', 'PartOfSpeech_top_n_words': 8}. Best is trial 43 with value: -0.7132411733149352.\n"
     ]
    },
    {
     "data": {
      "application/vnd.jupyter.widget-view+json": {
       "model_id": "8963d75bbd5b4e11b928b7b358294a91",
       "version_major": 2,
       "version_minor": 0
      },
      "text/plain": [
       "Batches:   0%|          | 0/256 [00:00<?, ?it/s]"
      ]
     },
     "metadata": {},
     "output_type": "display_data"
    },
    {
     "name": "stderr",
     "output_type": "stream",
     "text": [
      "[I 2024-12-01 07:46:00,741] Trial 61 finished with value: -0.7100878384359814 and parameters: {'umap_n_neighbors': 5, 'umap_min_dist': 0.715718682716048, 'umap_n_components': 13, 'umap_metric': 'euclidean', 'Spectral_n_cluster': 5, 'Spectral_eigen_solver': 'amg', 'Spectral_affinity': 'nearest_neighbors', 'Spectral_assign_labels': 'cluster_qr', 'PartOfSpeech_model': 'en_core_web_lg', 'PartOfSpeech_top_n_words': 7}. Best is trial 43 with value: -0.7132411733149352.\n"
     ]
    },
    {
     "data": {
      "application/vnd.jupyter.widget-view+json": {
       "model_id": "9ea1c0ed9ae343ec86700b4ebd5a165f",
       "version_major": 2,
       "version_minor": 0
      },
      "text/plain": [
       "Batches:   0%|          | 0/256 [00:00<?, ?it/s]"
      ]
     },
     "metadata": {},
     "output_type": "display_data"
    },
    {
     "name": "stderr",
     "output_type": "stream",
     "text": [
      "[I 2024-12-01 07:47:09,600] Trial 62 finished with value: -0.7019511026797234 and parameters: {'umap_n_neighbors': 6, 'umap_min_dist': 0.7488576489155305, 'umap_n_components': 13, 'umap_metric': 'euclidean', 'Spectral_n_cluster': 5, 'Spectral_eigen_solver': 'amg', 'Spectral_affinity': 'nearest_neighbors', 'Spectral_assign_labels': 'cluster_qr', 'PartOfSpeech_model': 'en_core_web_lg', 'PartOfSpeech_top_n_words': 7}. Best is trial 43 with value: -0.7132411733149352.\n"
     ]
    },
    {
     "data": {
      "application/vnd.jupyter.widget-view+json": {
       "model_id": "53bcda4983534f4c8edfbb5bac68f176",
       "version_major": 2,
       "version_minor": 0
      },
      "text/plain": [
       "Batches:   0%|          | 0/256 [00:00<?, ?it/s]"
      ]
     },
     "metadata": {},
     "output_type": "display_data"
    },
    {
     "name": "stderr",
     "output_type": "stream",
     "text": [
      "[I 2024-12-01 07:48:19,274] Trial 63 finished with value: -0.6532718119143028 and parameters: {'umap_n_neighbors': 6, 'umap_min_dist': 0.7543716107795799, 'umap_n_components': 13, 'umap_metric': 'euclidean', 'Spectral_n_cluster': 8, 'Spectral_eigen_solver': 'amg', 'Spectral_affinity': 'nearest_neighbors', 'Spectral_assign_labels': 'cluster_qr', 'PartOfSpeech_model': 'en_core_web_lg', 'PartOfSpeech_top_n_words': 7}. Best is trial 43 with value: -0.7132411733149352.\n"
     ]
    },
    {
     "data": {
      "application/vnd.jupyter.widget-view+json": {
       "model_id": "0982e63fae2f4a1a83b9355087fc1b4d",
       "version_major": 2,
       "version_minor": 0
      },
      "text/plain": [
       "Batches:   0%|          | 0/256 [00:00<?, ?it/s]"
      ]
     },
     "metadata": {},
     "output_type": "display_data"
    },
    {
     "name": "stderr",
     "output_type": "stream",
     "text": [
      "[I 2024-12-01 07:49:30,384] Trial 64 finished with value: -0.6652502563947046 and parameters: {'umap_n_neighbors': 8, 'umap_min_dist': 0.8562488914643414, 'umap_n_components': 14, 'umap_metric': 'euclidean', 'Spectral_n_cluster': 9, 'Spectral_eigen_solver': 'amg', 'Spectral_affinity': 'nearest_neighbors', 'Spectral_assign_labels': 'discretize', 'PartOfSpeech_model': 'en_core_web_lg', 'PartOfSpeech_top_n_words': 6}. Best is trial 43 with value: -0.7132411733149352.\n"
     ]
    },
    {
     "data": {
      "application/vnd.jupyter.widget-view+json": {
       "model_id": "6b9418b4202e4722b773537fb71b2cb8",
       "version_major": 2,
       "version_minor": 0
      },
      "text/plain": [
       "Batches:   0%|          | 0/256 [00:00<?, ?it/s]"
      ]
     },
     "metadata": {},
     "output_type": "display_data"
    },
    {
     "name": "stderr",
     "output_type": "stream",
     "text": [
      "[I 2024-12-01 07:50:38,208] Trial 65 finished with value: -0.6742895386356277 and parameters: {'umap_n_neighbors': 5, 'umap_min_dist': 0.7882155671063682, 'umap_n_components': 13, 'umap_metric': 'chebyshev', 'Spectral_n_cluster': 6, 'Spectral_eigen_solver': 'amg', 'Spectral_affinity': 'nearest_neighbors', 'Spectral_assign_labels': 'cluster_qr', 'PartOfSpeech_model': 'en_core_web_lg', 'PartOfSpeech_top_n_words': 7}. Best is trial 43 with value: -0.7132411733149352.\n"
     ]
    },
    {
     "data": {
      "application/vnd.jupyter.widget-view+json": {
       "model_id": "7bad8619228f4a18a6f1642974d0178c",
       "version_major": 2,
       "version_minor": 0
      },
      "text/plain": [
       "Batches:   0%|          | 0/256 [00:00<?, ?it/s]"
      ]
     },
     "metadata": {},
     "output_type": "display_data"
    },
    {
     "name": "stderr",
     "output_type": "stream",
     "text": [
      "[I 2024-12-01 07:51:48,405] Trial 66 finished with value: -0.6516348488336321 and parameters: {'umap_n_neighbors': 9, 'umap_min_dist': 0.6893630938706137, 'umap_n_components': 12, 'umap_metric': 'euclidean', 'Spectral_n_cluster': 8, 'Spectral_eigen_solver': 'amg', 'Spectral_affinity': 'nearest_neighbors', 'Spectral_assign_labels': 'discretize', 'PartOfSpeech_model': 'en_core_web_lg', 'PartOfSpeech_top_n_words': 8}. Best is trial 43 with value: -0.7132411733149352.\n"
     ]
    },
    {
     "data": {
      "application/vnd.jupyter.widget-view+json": {
       "model_id": "5e2517d551ba423ca4bbfbcceb626840",
       "version_major": 2,
       "version_minor": 0
      },
      "text/plain": [
       "Batches:   0%|          | 0/256 [00:00<?, ?it/s]"
      ]
     },
     "metadata": {},
     "output_type": "display_data"
    },
    {
     "name": "stderr",
     "output_type": "stream",
     "text": [
      "[I 2024-12-01 07:53:02,409] Trial 67 finished with value: -0.6863790452996493 and parameters: {'umap_n_neighbors': 7, 'umap_min_dist': 0.9058585238655978, 'umap_n_components': 11, 'umap_metric': 'chebyshev', 'Spectral_n_cluster': 5, 'Spectral_eigen_solver': 'amg', 'Spectral_affinity': 'rbf', 'Spectral_assign_labels': 'cluster_qr', 'PartOfSpeech_model': 'en_core_web_lg', 'PartOfSpeech_top_n_words': 7}. Best is trial 43 with value: -0.7132411733149352.\n"
     ]
    },
    {
     "data": {
      "application/vnd.jupyter.widget-view+json": {
       "model_id": "cf903e4a01134d838bea7685d5409049",
       "version_major": 2,
       "version_minor": 0
      },
      "text/plain": [
       "Batches:   0%|          | 0/256 [00:00<?, ?it/s]"
      ]
     },
     "metadata": {},
     "output_type": "display_data"
    },
    {
     "name": "stderr",
     "output_type": "stream",
     "text": [
      "[I 2024-12-01 07:54:18,058] Trial 68 finished with value: -0.6857829310894987 and parameters: {'umap_n_neighbors': 20, 'umap_min_dist': 0.7408156313903544, 'umap_n_components': 14, 'umap_metric': 'euclidean', 'Spectral_n_cluster': 6, 'Spectral_eigen_solver': 'lobpcg', 'Spectral_affinity': 'nearest_neighbors', 'Spectral_assign_labels': 'kmeans', 'PartOfSpeech_model': 'en_core_web_lg', 'PartOfSpeech_top_n_words': 6}. Best is trial 43 with value: -0.7132411733149352.\n"
     ]
    },
    {
     "data": {
      "application/vnd.jupyter.widget-view+json": {
       "model_id": "bbbf07453abe41db8ea1f16ddce7509f",
       "version_major": 2,
       "version_minor": 0
      },
      "text/plain": [
       "Batches:   0%|          | 0/256 [00:00<?, ?it/s]"
      ]
     },
     "metadata": {},
     "output_type": "display_data"
    },
    {
     "name": "stderr",
     "output_type": "stream",
     "text": [
      "[I 2024-12-01 07:55:31,834] Trial 69 finished with value: -0.6415955645570832 and parameters: {'umap_n_neighbors': 18, 'umap_min_dist': 0.8405130899579706, 'umap_n_components': 14, 'umap_metric': 'manhattan', 'Spectral_n_cluster': 16, 'Spectral_eigen_solver': 'amg', 'Spectral_affinity': 'nearest_neighbors', 'Spectral_assign_labels': 'kmeans', 'PartOfSpeech_model': 'en_core_web_lg', 'PartOfSpeech_top_n_words': 7}. Best is trial 43 with value: -0.7132411733149352.\n"
     ]
    },
    {
     "data": {
      "application/vnd.jupyter.widget-view+json": {
       "model_id": "230fade9c7c64d4c8c746f6ad6916bd6",
       "version_major": 2,
       "version_minor": 0
      },
      "text/plain": [
       "Batches:   0%|          | 0/256 [00:00<?, ?it/s]"
      ]
     },
     "metadata": {},
     "output_type": "display_data"
    },
    {
     "name": "stderr",
     "output_type": "stream",
     "text": [
      "[I 2024-12-01 07:56:47,744] Trial 70 finished with value: -0.6170973480641226 and parameters: {'umap_n_neighbors': 16, 'umap_min_dist': 0.7906172039272776, 'umap_n_components': 10, 'umap_metric': 'chebyshev', 'Spectral_n_cluster': 39, 'Spectral_eigen_solver': 'amg', 'Spectral_affinity': 'nearest_neighbors', 'Spectral_assign_labels': 'discretize', 'PartOfSpeech_model': 'en_core_web_lg', 'PartOfSpeech_top_n_words': 6}. Best is trial 43 with value: -0.7132411733149352.\n"
     ]
    },
    {
     "data": {
      "application/vnd.jupyter.widget-view+json": {
       "model_id": "f67fe7b043694eeca7f5b8e812ce0b94",
       "version_major": 2,
       "version_minor": 0
      },
      "text/plain": [
       "Batches:   0%|          | 0/256 [00:00<?, ?it/s]"
      ]
     },
     "metadata": {},
     "output_type": "display_data"
    },
    {
     "name": "stderr",
     "output_type": "stream",
     "text": [
      "[I 2024-12-01 07:57:56,380] Trial 71 finished with value: -0.6949140806116583 and parameters: {'umap_n_neighbors': 6, 'umap_min_dist': 0.5717991748013593, 'umap_n_components': 15, 'umap_metric': 'euclidean', 'Spectral_n_cluster': 5, 'Spectral_eigen_solver': 'amg', 'Spectral_affinity': 'nearest_neighbors', 'Spectral_assign_labels': 'cluster_qr', 'PartOfSpeech_model': 'en_core_web_md', 'PartOfSpeech_top_n_words': 7}. Best is trial 43 with value: -0.7132411733149352.\n"
     ]
    },
    {
     "data": {
      "application/vnd.jupyter.widget-view+json": {
       "model_id": "fde3b3fe90bd41dc9b70a024b8b5e476",
       "version_major": 2,
       "version_minor": 0
      },
      "text/plain": [
       "Batches:   0%|          | 0/256 [00:00<?, ?it/s]"
      ]
     },
     "metadata": {},
     "output_type": "display_data"
    },
    {
     "name": "stderr",
     "output_type": "stream",
     "text": [
      "[I 2024-12-01 07:59:05,065] Trial 72 finished with value: -0.691009625986985 and parameters: {'umap_n_neighbors': 5, 'umap_min_dist': 0.5716351624374877, 'umap_n_components': 13, 'umap_metric': 'euclidean', 'Spectral_n_cluster': 7, 'Spectral_eigen_solver': 'amg', 'Spectral_affinity': 'nearest_neighbors', 'Spectral_assign_labels': 'cluster_qr', 'PartOfSpeech_model': 'en_core_web_lg', 'PartOfSpeech_top_n_words': 7}. Best is trial 43 with value: -0.7132411733149352.\n"
     ]
    },
    {
     "data": {
      "application/vnd.jupyter.widget-view+json": {
       "model_id": "1f2aea153da24fcabf5c4fc843428ef0",
       "version_major": 2,
       "version_minor": 0
      },
      "text/plain": [
       "Batches:   0%|          | 0/256 [00:00<?, ?it/s]"
      ]
     },
     "metadata": {},
     "output_type": "display_data"
    },
    {
     "name": "stderr",
     "output_type": "stream",
     "text": [
      "[I 2024-12-01 08:00:15,375] Trial 73 finished with value: -0.6610866536209747 and parameters: {'umap_n_neighbors': 7, 'umap_min_dist': 0.5497349230571127, 'umap_n_components': 15, 'umap_metric': 'euclidean', 'Spectral_n_cluster': 9, 'Spectral_eigen_solver': 'amg', 'Spectral_affinity': 'nearest_neighbors', 'Spectral_assign_labels': 'cluster_qr', 'PartOfSpeech_model': 'en_core_web_md', 'PartOfSpeech_top_n_words': 7}. Best is trial 43 with value: -0.7132411733149352.\n"
     ]
    },
    {
     "data": {
      "application/vnd.jupyter.widget-view+json": {
       "model_id": "885b75e1e06b438abc86d3abd62196e3",
       "version_major": 2,
       "version_minor": 0
      },
      "text/plain": [
       "Batches:   0%|          | 0/256 [00:00<?, ?it/s]"
      ]
     },
     "metadata": {},
     "output_type": "display_data"
    },
    {
     "name": "stderr",
     "output_type": "stream",
     "text": [
      "[I 2024-12-01 08:01:23,996] Trial 74 finished with value: -0.6928551568461363 and parameters: {'umap_n_neighbors': 6, 'umap_min_dist': 0.7150531241092479, 'umap_n_components': 14, 'umap_metric': 'correlation', 'Spectral_n_cluster': 5, 'Spectral_eigen_solver': 'amg', 'Spectral_affinity': 'nearest_neighbors', 'Spectral_assign_labels': 'cluster_qr', 'PartOfSpeech_model': 'en_core_web_lg', 'PartOfSpeech_top_n_words': 7}. Best is trial 43 with value: -0.7132411733149352.\n"
     ]
    },
    {
     "data": {
      "application/vnd.jupyter.widget-view+json": {
       "model_id": "f6f02556ac3f410ba9f781333dc367dc",
       "version_major": 2,
       "version_minor": 0
      },
      "text/plain": [
       "Batches:   0%|          | 0/256 [00:00<?, ?it/s]"
      ]
     },
     "metadata": {},
     "output_type": "display_data"
    },
    {
     "name": "stderr",
     "output_type": "stream",
     "text": [
      "[I 2024-12-01 08:02:35,197] Trial 75 finished with value: -0.6591734407262576 and parameters: {'umap_n_neighbors': 10, 'umap_min_dist': 0.6267206316378802, 'umap_n_components': 9, 'umap_metric': 'euclidean', 'Spectral_n_cluster': 11, 'Spectral_eigen_solver': 'amg', 'Spectral_affinity': 'nearest_neighbors', 'Spectral_assign_labels': 'cluster_qr', 'PartOfSpeech_model': 'en_core_web_lg', 'PartOfSpeech_top_n_words': 8}. Best is trial 43 with value: -0.7132411733149352.\n"
     ]
    },
    {
     "data": {
      "application/vnd.jupyter.widget-view+json": {
       "model_id": "b94c700494244c46b91631267257abce",
       "version_major": 2,
       "version_minor": 0
      },
      "text/plain": [
       "Batches:   0%|          | 0/256 [00:00<?, ?it/s]"
      ]
     },
     "metadata": {},
     "output_type": "display_data"
    },
    {
     "name": "stderr",
     "output_type": "stream",
     "text": [
      "[I 2024-12-01 08:03:48,865] Trial 76 finished with value: -0.6708110855415159 and parameters: {'umap_n_neighbors': 21, 'umap_min_dist': 0.668417930232675, 'umap_n_components': 13, 'umap_metric': 'chebyshev', 'Spectral_n_cluster': 7, 'Spectral_eigen_solver': 'amg', 'Spectral_affinity': 'nearest_neighbors', 'Spectral_assign_labels': 'kmeans', 'PartOfSpeech_model': 'en_core_web_md', 'PartOfSpeech_top_n_words': 7}. Best is trial 43 with value: -0.7132411733149352.\n"
     ]
    },
    {
     "data": {
      "application/vnd.jupyter.widget-view+json": {
       "model_id": "a356a356c1204b978963f29a8c637102",
       "version_major": 2,
       "version_minor": 0
      },
      "text/plain": [
       "Batches:   0%|          | 0/256 [00:00<?, ?it/s]"
      ]
     },
     "metadata": {},
     "output_type": "display_data"
    },
    {
     "name": "stderr",
     "output_type": "stream",
     "text": [
      "[I 2024-12-01 08:05:05,860] Trial 77 finished with value: -0.6573937655587978 and parameters: {'umap_n_neighbors': 8, 'umap_min_dist': 0.9568346988120358, 'umap_n_components': 15, 'umap_metric': 'euclidean', 'Spectral_n_cluster': 9, 'Spectral_eigen_solver': 'arpack', 'Spectral_affinity': 'rbf', 'Spectral_assign_labels': 'cluster_qr', 'PartOfSpeech_model': 'en_core_web_lg', 'PartOfSpeech_top_n_words': 7}. Best is trial 43 with value: -0.7132411733149352.\n"
     ]
    },
    {
     "data": {
      "application/vnd.jupyter.widget-view+json": {
       "model_id": "32ff4ea2a109423a8f1011e609c12fb0",
       "version_major": 2,
       "version_minor": 0
      },
      "text/plain": [
       "Batches:   0%|          | 0/256 [00:00<?, ?it/s]"
      ]
     },
     "metadata": {},
     "output_type": "display_data"
    },
    {
     "name": "stderr",
     "output_type": "stream",
     "text": [
      "[I 2024-12-01 08:06:13,890] Trial 78 finished with value: -0.6894205592160361 and parameters: {'umap_n_neighbors': 5, 'umap_min_dist': 0.49829712395539094, 'umap_n_components': 14, 'umap_metric': 'cosine', 'Spectral_n_cluster': 5, 'Spectral_eigen_solver': 'amg', 'Spectral_affinity': 'nearest_neighbors', 'Spectral_assign_labels': 'discretize', 'PartOfSpeech_model': 'en_core_web_lg', 'PartOfSpeech_top_n_words': 7}. Best is trial 43 with value: -0.7132411733149352.\n"
     ]
    },
    {
     "data": {
      "application/vnd.jupyter.widget-view+json": {
       "model_id": "9d13603849824204bb78ab1cd86a65b5",
       "version_major": 2,
       "version_minor": 0
      },
      "text/plain": [
       "Batches:   0%|          | 0/256 [00:00<?, ?it/s]"
      ]
     },
     "metadata": {},
     "output_type": "display_data"
    },
    {
     "name": "stderr",
     "output_type": "stream",
     "text": [
      "[I 2024-12-01 08:07:27,264] Trial 79 finished with value: -0.6732895563782813 and parameters: {'umap_n_neighbors': 6, 'umap_min_dist': 0.7710146131898561, 'umap_n_components': 15, 'umap_metric': 'manhattan', 'Spectral_n_cluster': 8, 'Spectral_eigen_solver': 'arpack', 'Spectral_affinity': 'nearest_neighbors', 'Spectral_assign_labels': 'kmeans', 'PartOfSpeech_model': 'en_core_web_md', 'PartOfSpeech_top_n_words': 6}. Best is trial 43 with value: -0.7132411733149352.\n"
     ]
    },
    {
     "data": {
      "application/vnd.jupyter.widget-view+json": {
       "model_id": "0905d52bb00148d2872da27a23b363c6",
       "version_major": 2,
       "version_minor": 0
      },
      "text/plain": [
       "Batches:   0%|          | 0/256 [00:00<?, ?it/s]"
      ]
     },
     "metadata": {},
     "output_type": "display_data"
    },
    {
     "name": "stderr",
     "output_type": "stream",
     "text": [
      "[I 2024-12-01 08:08:38,793] Trial 80 finished with value: -0.6226890268270209 and parameters: {'umap_n_neighbors': 7, 'umap_min_dist': 0.6979663553110648, 'umap_n_components': 12, 'umap_metric': 'chebyshev', 'Spectral_n_cluster': 20, 'Spectral_eigen_solver': 'lobpcg', 'Spectral_affinity': 'nearest_neighbors', 'Spectral_assign_labels': 'kmeans', 'PartOfSpeech_model': 'en_core_web_lg', 'PartOfSpeech_top_n_words': 8}. Best is trial 43 with value: -0.7132411733149352.\n"
     ]
    },
    {
     "data": {
      "application/vnd.jupyter.widget-view+json": {
       "model_id": "e709116b1e294a698ca5b40a566a45b6",
       "version_major": 2,
       "version_minor": 0
      },
      "text/plain": [
       "Batches:   0%|          | 0/256 [00:00<?, ?it/s]"
      ]
     },
     "metadata": {},
     "output_type": "display_data"
    },
    {
     "name": "stderr",
     "output_type": "stream",
     "text": [
      "[I 2024-12-01 08:09:47,266] Trial 81 finished with value: -0.6948788925314057 and parameters: {'umap_n_neighbors': 6, 'umap_min_dist': 0.590455448505255, 'umap_n_components': 15, 'umap_metric': 'euclidean', 'Spectral_n_cluster': 5, 'Spectral_eigen_solver': 'amg', 'Spectral_affinity': 'nearest_neighbors', 'Spectral_assign_labels': 'cluster_qr', 'PartOfSpeech_model': 'en_core_web_md', 'PartOfSpeech_top_n_words': 7}. Best is trial 43 with value: -0.7132411733149352.\n"
     ]
    },
    {
     "data": {
      "application/vnd.jupyter.widget-view+json": {
       "model_id": "74c5b95b1fb149bc84b4b63b201a7540",
       "version_major": 2,
       "version_minor": 0
      },
      "text/plain": [
       "Batches:   0%|          | 0/256 [00:00<?, ?it/s]"
      ]
     },
     "metadata": {},
     "output_type": "display_data"
    },
    {
     "name": "stderr",
     "output_type": "stream",
     "text": [
      "[I 2024-12-01 08:10:56,190] Trial 82 finished with value: -0.6928507852016211 and parameters: {'umap_n_neighbors': 5, 'umap_min_dist': 0.5752457035865566, 'umap_n_components': 15, 'umap_metric': 'euclidean', 'Spectral_n_cluster': 6, 'Spectral_eigen_solver': 'amg', 'Spectral_affinity': 'nearest_neighbors', 'Spectral_assign_labels': 'cluster_qr', 'PartOfSpeech_model': 'en_core_web_md', 'PartOfSpeech_top_n_words': 7}. Best is trial 43 with value: -0.7132411733149352.\n"
     ]
    },
    {
     "data": {
      "application/vnd.jupyter.widget-view+json": {
       "model_id": "c11a8ee36b3c4c4c855c4eb8f2fe9dc7",
       "version_major": 2,
       "version_minor": 0
      },
      "text/plain": [
       "Batches:   0%|          | 0/256 [00:00<?, ?it/s]"
      ]
     },
     "metadata": {},
     "output_type": "display_data"
    },
    {
     "name": "stderr",
     "output_type": "stream",
     "text": [
      "[I 2024-12-01 08:12:05,050] Trial 83 finished with value: -0.6825836328150579 and parameters: {'umap_n_neighbors': 7, 'umap_min_dist': 0.6044865384593279, 'umap_n_components': 14, 'umap_metric': 'euclidean', 'Spectral_n_cluster': 6, 'Spectral_eigen_solver': 'amg', 'Spectral_affinity': 'nearest_neighbors', 'Spectral_assign_labels': 'cluster_qr', 'PartOfSpeech_model': 'en_core_web_md', 'PartOfSpeech_top_n_words': 7}. Best is trial 43 with value: -0.7132411733149352.\n"
     ]
    },
    {
     "data": {
      "application/vnd.jupyter.widget-view+json": {
       "model_id": "101dc97c26724a479eb3a75a9f851e82",
       "version_major": 2,
       "version_minor": 0
      },
      "text/plain": [
       "Batches:   0%|          | 0/256 [00:00<?, ?it/s]"
      ]
     },
     "metadata": {},
     "output_type": "display_data"
    },
    {
     "name": "stderr",
     "output_type": "stream",
     "text": [
      "[I 2024-12-01 08:13:13,327] Trial 84 finished with value: -0.6588930325279343 and parameters: {'umap_n_neighbors': 6, 'umap_min_dist': 0.5417554826406383, 'umap_n_components': 13, 'umap_metric': 'euclidean', 'Spectral_n_cluster': 8, 'Spectral_eigen_solver': 'amg', 'Spectral_affinity': 'nearest_neighbors', 'Spectral_assign_labels': 'cluster_qr', 'PartOfSpeech_model': 'en_core_web_md', 'PartOfSpeech_top_n_words': 7}. Best is trial 43 with value: -0.7132411733149352.\n"
     ]
    },
    {
     "data": {
      "application/vnd.jupyter.widget-view+json": {
       "model_id": "a5acf68993f94f76aa804aa5f0786143",
       "version_major": 2,
       "version_minor": 0
      },
      "text/plain": [
       "Batches:   0%|          | 0/256 [00:00<?, ?it/s]"
      ]
     },
     "metadata": {},
     "output_type": "display_data"
    },
    {
     "name": "stderr",
     "output_type": "stream",
     "text": [
      "[I 2024-12-01 08:14:22,724] Trial 85 finished with value: -0.6770983243861375 and parameters: {'umap_n_neighbors': 8, 'umap_min_dist': 0.8146228882505064, 'umap_n_components': 14, 'umap_metric': 'euclidean', 'Spectral_n_cluster': 6, 'Spectral_eigen_solver': 'amg', 'Spectral_affinity': 'nearest_neighbors', 'Spectral_assign_labels': 'cluster_qr', 'PartOfSpeech_model': 'en_core_web_md', 'PartOfSpeech_top_n_words': 7}. Best is trial 43 with value: -0.7132411733149352.\n"
     ]
    },
    {
     "data": {
      "application/vnd.jupyter.widget-view+json": {
       "model_id": "370340af633749b993d8bf4731fb3807",
       "version_major": 2,
       "version_minor": 0
      },
      "text/plain": [
       "Batches:   0%|          | 0/256 [00:00<?, ?it/s]"
      ]
     },
     "metadata": {},
     "output_type": "display_data"
    },
    {
     "name": "stderr",
     "output_type": "stream",
     "text": [
      "[I 2024-12-01 08:15:39,521] Trial 86 finished with value: -0.6493091958882453 and parameters: {'umap_n_neighbors': 21, 'umap_min_dist': 0.48101100330969343, 'umap_n_components': 15, 'umap_metric': 'euclidean', 'Spectral_n_cluster': 10, 'Spectral_eigen_solver': 'arpack', 'Spectral_affinity': 'nearest_neighbors', 'Spectral_assign_labels': 'cluster_qr', 'PartOfSpeech_model': 'en_core_web_lg', 'PartOfSpeech_top_n_words': 6}. Best is trial 43 with value: -0.7132411733149352.\n"
     ]
    },
    {
     "data": {
      "application/vnd.jupyter.widget-view+json": {
       "model_id": "a9fcd1300598470888287ab7fd22e5af",
       "version_major": 2,
       "version_minor": 0
      },
      "text/plain": [
       "Batches:   0%|          | 0/256 [00:00<?, ?it/s]"
      ]
     },
     "metadata": {},
     "output_type": "display_data"
    },
    {
     "name": "stderr",
     "output_type": "stream",
     "text": [
      "[I 2024-12-01 08:16:50,339] Trial 87 finished with value: -0.6405429414231049 and parameters: {'umap_n_neighbors': 6, 'umap_min_dist': 0.6736995935096286, 'umap_n_components': 15, 'umap_metric': 'euclidean', 'Spectral_n_cluster': 24, 'Spectral_eigen_solver': 'amg', 'Spectral_affinity': 'nearest_neighbors', 'Spectral_assign_labels': 'kmeans', 'PartOfSpeech_model': 'en_core_web_md', 'PartOfSpeech_top_n_words': 7}. Best is trial 43 with value: -0.7132411733149352.\n"
     ]
    },
    {
     "data": {
      "application/vnd.jupyter.widget-view+json": {
       "model_id": "14253a5b05f446379ce4ebc61edabf7e",
       "version_major": 2,
       "version_minor": 0
      },
      "text/plain": [
       "Batches:   0%|          | 0/256 [00:00<?, ?it/s]"
      ]
     },
     "metadata": {},
     "output_type": "display_data"
    },
    {
     "name": "stderr",
     "output_type": "stream",
     "text": [
      "[I 2024-12-01 08:18:00,631] Trial 88 finished with value: -0.6691382427988287 and parameters: {'umap_n_neighbors': 9, 'umap_min_dist': 0.6293453004853268, 'umap_n_components': 14, 'umap_metric': 'chebyshev', 'Spectral_n_cluster': 7, 'Spectral_eigen_solver': 'amg', 'Spectral_affinity': 'nearest_neighbors', 'Spectral_assign_labels': 'discretize', 'PartOfSpeech_model': 'en_core_web_lg', 'PartOfSpeech_top_n_words': 7}. Best is trial 43 with value: -0.7132411733149352.\n"
     ]
    },
    {
     "data": {
      "application/vnd.jupyter.widget-view+json": {
       "model_id": "404a06787acf41b789138b77bc6aac88",
       "version_major": 2,
       "version_minor": 0
      },
      "text/plain": [
       "Batches:   0%|          | 0/256 [00:00<?, ?it/s]"
      ]
     },
     "metadata": {},
     "output_type": "display_data"
    },
    {
     "name": "stderr",
     "output_type": "stream",
     "text": [
      "[I 2024-12-01 08:19:18,108] Trial 89 finished with value: -0.6757046605454148 and parameters: {'umap_n_neighbors': 18, 'umap_min_dist': 0.736941472940047, 'umap_n_components': 13, 'umap_metric': 'manhattan', 'Spectral_n_cluster': 5, 'Spectral_eigen_solver': 'arpack', 'Spectral_affinity': 'rbf', 'Spectral_assign_labels': 'cluster_qr', 'PartOfSpeech_model': 'en_core_web_lg', 'PartOfSpeech_top_n_words': 8}. Best is trial 43 with value: -0.7132411733149352.\n"
     ]
    },
    {
     "data": {
      "application/vnd.jupyter.widget-view+json": {
       "model_id": "9e1dd06b13834d9e9b966205a3f4ff6d",
       "version_major": 2,
       "version_minor": 0
      },
      "text/plain": [
       "Batches:   0%|          | 0/256 [00:00<?, ?it/s]"
      ]
     },
     "metadata": {},
     "output_type": "display_data"
    },
    {
     "name": "stderr",
     "output_type": "stream",
     "text": [
      "[I 2024-12-01 08:20:29,813] Trial 90 finished with value: -0.670801373024682 and parameters: {'umap_n_neighbors': 14, 'umap_min_dist': 0.872981976188863, 'umap_n_components': 7, 'umap_metric': 'euclidean', 'Spectral_n_cluster': 11, 'Spectral_eigen_solver': 'amg', 'Spectral_affinity': 'nearest_neighbors', 'Spectral_assign_labels': 'kmeans', 'PartOfSpeech_model': 'en_core_web_md', 'PartOfSpeech_top_n_words': 7}. Best is trial 43 with value: -0.7132411733149352.\n"
     ]
    },
    {
     "data": {
      "application/vnd.jupyter.widget-view+json": {
       "model_id": "fa1a0dc391b449ef829eac1ea26a605e",
       "version_major": 2,
       "version_minor": 0
      },
      "text/plain": [
       "Batches:   0%|          | 0/256 [00:00<?, ?it/s]"
      ]
     },
     "metadata": {},
     "output_type": "display_data"
    },
    {
     "name": "stderr",
     "output_type": "stream",
     "text": [
      "[I 2024-12-01 08:21:38,435] Trial 91 finished with value: -0.6912152842854085 and parameters: {'umap_n_neighbors': 5, 'umap_min_dist': 0.6512737581936363, 'umap_n_components': 15, 'umap_metric': 'euclidean', 'Spectral_n_cluster': 5, 'Spectral_eigen_solver': 'amg', 'Spectral_affinity': 'nearest_neighbors', 'Spectral_assign_labels': 'cluster_qr', 'PartOfSpeech_model': 'en_core_web_md', 'PartOfSpeech_top_n_words': 7}. Best is trial 43 with value: -0.7132411733149352.\n"
     ]
    },
    {
     "data": {
      "application/vnd.jupyter.widget-view+json": {
       "model_id": "681b5cb8321542778b539875e0849669",
       "version_major": 2,
       "version_minor": 0
      },
      "text/plain": [
       "Batches:   0%|          | 0/256 [00:00<?, ?it/s]"
      ]
     },
     "metadata": {},
     "output_type": "display_data"
    },
    {
     "name": "stderr",
     "output_type": "stream",
     "text": [
      "[I 2024-12-01 08:22:47,039] Trial 92 finished with value: -0.6639356972369567 and parameters: {'umap_n_neighbors': 6, 'umap_min_dist': 0.5911224048382715, 'umap_n_components': 14, 'umap_metric': 'euclidean', 'Spectral_n_cluster': 7, 'Spectral_eigen_solver': 'amg', 'Spectral_affinity': 'nearest_neighbors', 'Spectral_assign_labels': 'cluster_qr', 'PartOfSpeech_model': 'en_core_web_md', 'PartOfSpeech_top_n_words': 7}. Best is trial 43 with value: -0.7132411733149352.\n"
     ]
    },
    {
     "data": {
      "application/vnd.jupyter.widget-view+json": {
       "model_id": "be08cd228f5041279cc21c2a0cb08e55",
       "version_major": 2,
       "version_minor": 0
      },
      "text/plain": [
       "Batches:   0%|          | 0/256 [00:00<?, ?it/s]"
      ]
     },
     "metadata": {},
     "output_type": "display_data"
    },
    {
     "name": "stderr",
     "output_type": "stream",
     "text": [
      "[I 2024-12-01 08:23:56,124] Trial 93 finished with value: -0.6649947759709086 and parameters: {'umap_n_neighbors': 7, 'umap_min_dist': 0.6139906194769824, 'umap_n_components': 15, 'umap_metric': 'euclidean', 'Spectral_n_cluster': 6, 'Spectral_eigen_solver': 'amg', 'Spectral_affinity': 'nearest_neighbors', 'Spectral_assign_labels': 'cluster_qr', 'PartOfSpeech_model': 'en_core_web_md', 'PartOfSpeech_top_n_words': 7}. Best is trial 43 with value: -0.7132411733149352.\n"
     ]
    },
    {
     "data": {
      "application/vnd.jupyter.widget-view+json": {
       "model_id": "5eea5bf4bd2a4466b0e2db2596cb2c05",
       "version_major": 2,
       "version_minor": 0
      },
      "text/plain": [
       "Batches:   0%|          | 0/256 [00:00<?, ?it/s]"
      ]
     },
     "metadata": {},
     "output_type": "display_data"
    },
    {
     "name": "stderr",
     "output_type": "stream",
     "text": [
      "[I 2024-12-01 08:25:05,037] Trial 94 finished with value: -0.6714480369853357 and parameters: {'umap_n_neighbors': 6, 'umap_min_dist': 0.7113862506490125, 'umap_n_components': 15, 'umap_metric': 'euclidean', 'Spectral_n_cluster': 8, 'Spectral_eigen_solver': 'amg', 'Spectral_affinity': 'nearest_neighbors', 'Spectral_assign_labels': 'cluster_qr', 'PartOfSpeech_model': 'en_core_web_md', 'PartOfSpeech_top_n_words': 7}. Best is trial 43 with value: -0.7132411733149352.\n"
     ]
    },
    {
     "data": {
      "application/vnd.jupyter.widget-view+json": {
       "model_id": "929a982a4ca54f0ab3742f078297cf88",
       "version_major": 2,
       "version_minor": 0
      },
      "text/plain": [
       "Batches:   0%|          | 0/256 [00:00<?, ?it/s]"
      ]
     },
     "metadata": {},
     "output_type": "display_data"
    },
    {
     "name": "stderr",
     "output_type": "stream",
     "text": [
      "[I 2024-12-01 08:26:13,603] Trial 95 finished with value: -0.6832696715559874 and parameters: {'umap_n_neighbors': 5, 'umap_min_dist': 0.5273217871225078, 'umap_n_components': 15, 'umap_metric': 'correlation', 'Spectral_n_cluster': 5, 'Spectral_eigen_solver': 'amg', 'Spectral_affinity': 'nearest_neighbors', 'Spectral_assign_labels': 'cluster_qr', 'PartOfSpeech_model': 'en_core_web_md', 'PartOfSpeech_top_n_words': 7}. Best is trial 43 with value: -0.7132411733149352.\n"
     ]
    },
    {
     "data": {
      "application/vnd.jupyter.widget-view+json": {
       "model_id": "1a74155aaafe45c9b0fdb3c54236e119",
       "version_major": 2,
       "version_minor": 0
      },
      "text/plain": [
       "Batches:   0%|          | 0/256 [00:00<?, ?it/s]"
      ]
     },
     "metadata": {},
     "output_type": "display_data"
    },
    {
     "name": "stderr",
     "output_type": "stream",
     "text": [
      "[I 2024-12-01 08:27:26,016] Trial 96 finished with value: -0.693746532973729 and parameters: {'umap_n_neighbors': 20, 'umap_min_dist': 0.7644709948699597, 'umap_n_components': 14, 'umap_metric': 'euclidean', 'Spectral_n_cluster': 5, 'Spectral_eigen_solver': 'amg', 'Spectral_affinity': 'nearest_neighbors', 'Spectral_assign_labels': 'cluster_qr', 'PartOfSpeech_model': 'en_core_web_sm', 'PartOfSpeech_top_n_words': 7}. Best is trial 43 with value: -0.7132411733149352.\n"
     ]
    },
    {
     "data": {
      "application/vnd.jupyter.widget-view+json": {
       "model_id": "3d33fbe5be97445985ab270912afb93d",
       "version_major": 2,
       "version_minor": 0
      },
      "text/plain": [
       "Batches:   0%|          | 0/256 [00:00<?, ?it/s]"
      ]
     },
     "metadata": {},
     "output_type": "display_data"
    },
    {
     "name": "stderr",
     "output_type": "stream",
     "text": [
      "[I 2024-12-01 08:28:41,520] Trial 97 finished with value: -0.6407777752974696 and parameters: {'umap_n_neighbors': 8, 'umap_min_dist': 0.6377920005062213, 'umap_n_components': 9, 'umap_metric': 'cosine', 'Spectral_n_cluster': 32, 'Spectral_eigen_solver': 'arpack', 'Spectral_affinity': 'nearest_neighbors', 'Spectral_assign_labels': 'kmeans', 'PartOfSpeech_model': 'en_core_web_lg', 'PartOfSpeech_top_n_words': 6}. Best is trial 43 with value: -0.7132411733149352.\n"
     ]
    },
    {
     "data": {
      "application/vnd.jupyter.widget-view+json": {
       "model_id": "d929767edae348e6a2d02282a7bb5619",
       "version_major": 2,
       "version_minor": 0
      },
      "text/plain": [
       "Batches:   0%|          | 0/256 [00:00<?, ?it/s]"
      ]
     },
     "metadata": {},
     "output_type": "display_data"
    },
    {
     "name": "stderr",
     "output_type": "stream",
     "text": [
      "[I 2024-12-01 08:29:51,925] Trial 98 finished with value: -0.6513831638337026 and parameters: {'umap_n_neighbors': 10, 'umap_min_dist': 0.7451601312741638, 'umap_n_components': 13, 'umap_metric': 'chebyshev', 'Spectral_n_cluster': 9, 'Spectral_eigen_solver': 'amg', 'Spectral_affinity': 'nearest_neighbors', 'Spectral_assign_labels': 'cluster_qr', 'PartOfSpeech_model': 'en_core_web_md', 'PartOfSpeech_top_n_words': 7}. Best is trial 43 with value: -0.7132411733149352.\n"
     ]
    },
    {
     "data": {
      "application/vnd.jupyter.widget-view+json": {
       "model_id": "f52aaea4bb484faf9e178aa9854dea89",
       "version_major": 2,
       "version_minor": 0
      },
      "text/plain": [
       "Batches:   0%|          | 0/256 [00:00<?, ?it/s]"
      ]
     },
     "metadata": {},
     "output_type": "display_data"
    },
    {
     "name": "stderr",
     "output_type": "stream",
     "text": [
      "[I 2024-12-01 08:31:08,177] Trial 99 finished with value: -0.6367489688139905 and parameters: {'umap_n_neighbors': 23, 'umap_min_dist': 0.6847241296273755, 'umap_n_components': 14, 'umap_metric': 'euclidean', 'Spectral_n_cluster': 13, 'Spectral_eigen_solver': 'amg', 'Spectral_affinity': 'nearest_neighbors', 'Spectral_assign_labels': 'discretize', 'PartOfSpeech_model': 'en_core_web_lg', 'PartOfSpeech_top_n_words': 8}. Best is trial 43 with value: -0.7132411733149352.\n"
     ]
    },
    {
     "name": "stdout",
     "output_type": "stream",
     "text": [
      "Best Parameters: {'umap_n_neighbors': 8, 'umap_min_dist': 0.7668347162006994, 'umap_n_components': 14, 'umap_metric': 'euclidean', 'Spectral_n_cluster': 5, 'Spectral_eigen_solver': 'amg', 'Spectral_affinity': 'nearest_neighbors', 'Spectral_assign_labels': 'kmeans', 'PartOfSpeech_model': 'en_core_web_lg', 'PartOfSpeech_top_n_words': 7}\n",
      "Best Score: -0.7132411733149352\n"
     ]
    }
   ],
   "source": [
    "# Define custom stop words\n",
    "custom_stop_words = [\"xxxx\", \"xx\",\"x\",\"xxxxx\", \"xxxxxxxx\", \"xxxxxxxxxxxx\"]\n",
    "vectorizer_model = CountVectorizer(stop_words=custom_stop_words)\n",
    "\n",
    "# Define objective function for Bayesian optimization\n",
    "def objective(trial):\n",
    "    # Sample hyperparameters from the search space\n",
    "    umap_n_neighbors = trial.suggest_int(\"umap_n_neighbors\", 5,30)\n",
    "    umap_min_dist = trial.suggest_float(\"umap_min_dist\", 0.1, 0.99)\n",
    "    umap_n_components = trial.suggest_int(\"umap_n_components\", 2,15)\n",
    "    umap_metric = trial.suggest_categorical(\n",
    "        \"umap_metric\",\n",
    "        [\"euclidean\", \"manhattan\", \"chebyshev\", \"cosine\", \"correlation\"],\n",
    "    )\n",
    "    Spectral_n_cluster = trial.suggest_int(\"Spectral_n_cluster\", 5, 50)\n",
    "    Spectral_eigen_solver = trial.suggest_categorical(\"Spectral_eigen_solver\", [\"arpack\",\"lobpcg\",\"amg\"])\n",
    "    Spectral_affinity = trial.suggest_categorical(\"Spectral_affinity\", [\"nearest_neighbors\",\"rbf\"])\n",
    "    Spectral_assign_labels = trial.suggest_categorical(\n",
    "        \"Spectral_assign_labels\",\n",
    "        [\"kmeans\", \"discretize\", \"cluster_qr\"],\n",
    "    )\n",
    "    PartOfSpeech_model = trial.suggest_categorical(\"PartOfSpeech_model\", [\"en_core_web_sm\",\"en_core_web_md\",\"en_core_web_lg\"])\n",
    "    PartOfSpeech_top_n_words = trial.suggest_int(\"PartOfSpeech_top_n_words\", 5, 10)\n",
    "\n",
    "    # Define models with current hyperparameters\n",
    "    umap_model = UMAP(\n",
    "        n_neighbors=umap_n_neighbors,\n",
    "        min_dist=umap_min_dist,\n",
    "        n_components=umap_n_components,\n",
    "        metric=umap_metric,\n",
    "        random_state=42,\n",
    "    )\n",
    "    Spectral_model = SpectralClustering(n_clusters=Spectral_n_cluster,eigen_solver=Spectral_eigen_solver,affinity=Spectral_affinity,assign_labels=Spectral_assign_labels)\n",
    "    representation_model = PartOfSpeech(\n",
    "        model=PartOfSpeech_model, top_n_words=PartOfSpeech_top_n_words\n",
    "    )\n",
    "\n",
    "    # Initialize BERTopic\n",
    "    topic_model = BERTopic(\n",
    "        embedding_model=AutoModelForPreTraining.from_pretrained(\"google/bigbird-roberta-base\"),\n",
    "        umap_model=umap_model,\n",
    "        hdbscan_model=Spectral_model,\n",
    "        representation_model=representation_model,\n",
    "        vectorizer_model=vectorizer_model,\n",
    "    )\n",
    "\n",
    "    # Fit the model\n",
    "    topics, probs = topic_model.fit_transform(documents)\n",
    "    topic_info = topic_model.get_topic_info()\n",
    "    topic_info_df = pd.DataFrame(topic_info)  # Convert topic_info to DataFrame\n",
    "    \n",
    "    # Restrict models generating only one topic\n",
    "    unique_topics = set(topics)\n",
    "    if (len(unique_topics) <= 1 or (topic_info_df[\"Topic\"] == -1).any()):\n",
    "        return float(\"inf\")  # Invalid configuration\n",
    "\n",
    "    # Calculate evaluation metrics\n",
    "    tokenized_documents = [doc.split() for doc in documents]\n",
    "    dictionary = Dictionary(tokenized_documents)\n",
    "    coherence_score = calculate_and_average_coherence_scores(topic_model, tokenized_documents, dictionary)\n",
    "    sentence_transformer_model = topic_model.embedding_model\n",
    "    topic_embeddings = topic_model.topic_embeddings_\n",
    "    document_embeddings = sentence_transformer_model.embedding_model.encode(documents, show_progress_bar=True)\n",
    "    # Use consistent `documents` for `get_document_info`\n",
    "    document_info = topic_model.get_document_info(documents)\n",
    "    topic_labels = document_info[\"Topic\"].values\n",
    "\n",
    "    diversity_score = calculate_topic_diversity(topic_model)\n",
    "    representativeness_score = calculate_topic_representativeness(topic_embeddings, document_embeddings)\n",
    "    silhouette = calculate_silhouette_score(document_embeddings, topic_labels)\n",
    "\n",
    "    # Combine metrics into a single score\n",
    "    final_score = -np.mean([coherence_score, diversity_score, representativeness_score, silhouette])\n",
    "    return final_score\n",
    "\n",
    "# Perform Bayesian Optimization\n",
    "study = optuna.create_study(direction=\"minimize\")\n",
    "study.optimize(objective, n_trials=100, n_jobs=1)\n",
    "\n",
    "# Best parameters and model\n",
    "best_params = study.best_params\n",
    "print(\"Best Parameters:\", best_params)\n",
    "print(\"Best Score:\", study.best_value)\n",
    "\n",
    "# Save the best model\n",
    "# Reinitialize with the best parameters if needed and save"
   ]
  },
  {
   "cell_type": "code",
   "execution_count": 25,
   "id": "34ab18c1-4043-4fe8-9d38-5b6c4655e287",
   "metadata": {},
   "outputs": [
    {
     "data": {
      "application/vnd.jupyter.widget-view+json": {
       "model_id": "5ba93a6428674e81bd75d7c7aa8494b2",
       "version_major": 2,
       "version_minor": 0
      },
      "text/plain": [
       "Batches:   0%|          | 0/256 [00:00<?, ?it/s]"
      ]
     },
     "metadata": {},
     "output_type": "display_data"
    }
   ],
   "source": [
    "results = {}\n",
    "custom_stop_words = [\"xxxx\", \"xx\",\"x\",\"xxxxx\", \"xxxxxxxx\", \"xxxxxxxxxxxx\"]\n",
    "vectorizer_model = CountVectorizer(stop_words=custom_stop_words)\n",
    "umap_model = UMAP(\n",
    "        n_neighbors=6,\n",
    "        min_dist=0.8476855423692068,\n",
    "        n_components=3,\n",
    "        metric='cosine',\n",
    "        random_state=42,\n",
    "    )\n",
    "hdbscan_model = hdbscan.HDBSCAN(\n",
    "        min_cluster_size=10, min_samples=19,metric='canberra', prediction_data=True\n",
    "    )\n",
    "representation_model = KeyBERTInspired(\n",
    "        nr_repr_docs=5, top_n_words=10\n",
    "    )\n",
    "topic_model = BERTopic(\n",
    "        embedding_model=\"distilbert-base-nli-mean-tokens\",\n",
    "        umap_model=umap_model,\n",
    "        hdbscan_model=hdbscan_model,\n",
    "        representation_model=representation_model,\n",
    "        vectorizer_model=vectorizer_model,\n",
    "    )\n",
    "topics, probs = topic_model.fit_transform(documents)\n",
    "topic_info = topic_model.get_topic_info()\n",
    "topic_info_df = pd.DataFrame(topic_info)  # Convert topic_info to DataFrame\n",
    "tokenized_documents = [doc.split() for doc in documents]\n",
    "dictionary = Dictionary(tokenized_documents)\n",
    "coherence_score = calculate_and_average_coherence_scores(topic_model, tokenized_documents, dictionary)\n",
    "sentence_transformer_model = topic_model.embedding_model\n",
    "topic_embeddings = topic_model.topic_embeddings_\n",
    "document_embeddings = sentence_transformer_model.embedding_model.encode(documents, show_progress_bar=True)\n",
    "# Use consistent `documents` for `get_document_info`\n",
    "document_info = topic_model.get_document_info(documents)\n",
    "topic_labels = document_info[\"Topic\"].values\n",
    "\n",
    "diversity_score = calculate_topic_diversity(topic_model)\n",
    "representativeness_score = calculate_topic_representativeness(topic_embeddings, document_embeddings)\n",
    "silhouette = calculate_silhouette_score(document_embeddings, topic_labels)\n",
    "num_topics = topic_info_df.shape[0]\n",
    "# Combine metrics into a single score\n",
    "final_score = coherence_score+diversity_score+representativeness_score+silhouette\n",
    "with pd.ExcelWriter(\"topic_modeling_para_tunning_1.xlsx\") as writer:\n",
    "    summary_df_head = pd.DataFrame(columns=[\"Embedding Model\", \"Dimensionality Reduction\", \"Clustering Method\", \"Representation Models\",\n",
    "                                       \"Number of Topics\", \"Topic Diversity Score\", \"Coherence Score\", \"Topic Representativeness\",\"Silhouette Score\",\"Total Score\"])\n",
    "    summary_df_head.to_excel(writer, sheet_name=\"Summary\", index=False)\n",
    "    summary_df = pd.DataFrame({\n",
    "                            \"Embedding Model\": \"distilbert\",\n",
    "                            \"Dimensionality Reduction\": \"umap\",\n",
    "                            \"Clustering Method\": \"hdbscan\",\n",
    "                            \"Representation Models\":\"KeyBERTInspired\",\n",
    "                            \"Number of Topics\": [num_topics],\n",
    "                            \"Topic Diversity Score\": [diversity_score],\n",
    "                            \"Coherence Score\": [coherence_score],\n",
    "                            \"Topic Representativeness\": [representativeness_score],\n",
    "                            \"Silhouette Score\": [silhouette],\n",
    "                            \"Total Score\": [final_score]\n",
    "                        })\n",
    "    sheet_name_0 = \"Summary\"\n",
    "    summary_df.to_excel(writer,  sheet_name=\"Summary\", startrow=1,index=False, header=False)\n",
    "    topic_info_df.to_excel(writer, sheet_name=\"Summary\",startrow=len(summary_df) + 2, index=False)\n",
    "    "
   ]
  },
  {
   "cell_type": "code",
   "execution_count": 27,
   "id": "055e0b79-c36f-47c8-b661-1bc00d7c820a",
   "metadata": {},
   "outputs": [
    {
     "data": {
      "application/vnd.jupyter.widget-view+json": {
       "model_id": "ec73e8b7c6914a56b4018b261dd2ab0a",
       "version_major": 2,
       "version_minor": 0
      },
      "text/plain": [
       "Batches:   0%|          | 0/256 [00:00<?, ?it/s]"
      ]
     },
     "metadata": {},
     "output_type": "display_data"
    }
   ],
   "source": [
    "results = {}\n",
    "custom_stop_words = [\"xxxx\", \"xx\",\"x\",\"xxxxx\", \"xxxxxxxx\", \"xxxxxxxxxxxx\"]\n",
    "vectorizer_model = CountVectorizer(stop_words=custom_stop_words)\n",
    "umap_model = UMAP(\n",
    "        n_neighbors=25,\n",
    "        min_dist=0.7901748981532042,\n",
    "        n_components=5,\n",
    "        metric='cosine',\n",
    "        random_state=42,\n",
    "    )\n",
    "Spectral_model = SpectralClustering(n_clusters=5,eigen_solver='amg',affinity='rbf',assign_labels='kmeans')\n",
    "representation_model = KeyBERTInspired(\n",
    "        nr_repr_docs=6, top_n_words=8\n",
    "    )\n",
    "topic_model = BERTopic(\n",
    "        embedding_model=AutoModel.from_pretrained(\"albert-base-v1\"),\n",
    "        umap_model=umap_model,\n",
    "        hdbscan_model=Spectral_model,\n",
    "        representation_model=representation_model,\n",
    "        vectorizer_model=vectorizer_model\n",
    "    )\n",
    "topics, probs = topic_model.fit_transform(documents)\n",
    "topic_info = topic_model.get_topic_info()\n",
    "topic_info_df = pd.DataFrame(topic_info)  # Convert topic_info to DataFrame\n",
    "tokenized_documents = [doc.split() for doc in documents]\n",
    "dictionary = Dictionary(tokenized_documents)\n",
    "coherence_score = calculate_and_average_coherence_scores(topic_model, tokenized_documents, dictionary)\n",
    "sentence_transformer_model = topic_model.embedding_model\n",
    "topic_embeddings = topic_model.topic_embeddings_\n",
    "document_embeddings = sentence_transformer_model.embedding_model.encode(documents, show_progress_bar=True)\n",
    "# Use consistent `documents` for `get_document_info`\n",
    "document_info = topic_model.get_document_info(documents)\n",
    "topic_labels = document_info[\"Topic\"].values\n",
    "\n",
    "diversity_score = calculate_topic_diversity(topic_model)\n",
    "representativeness_score = calculate_topic_representativeness(topic_embeddings, document_embeddings)\n",
    "silhouette = calculate_silhouette_score(document_embeddings, topic_labels)\n",
    "num_topics = topic_info_df.shape[0]\n",
    "# Combine metrics into a single score\n",
    "final_score = coherence_score+diversity_score+representativeness_score+silhouette\n",
    "with pd.ExcelWriter(\"topic_modeling_para_tunning_2.xlsx\") as writer:\n",
    "    summary_df_head = pd.DataFrame(columns=[\"Embedding Model\", \"Dimensionality Reduction\", \"Clustering Method\", \"Representation Models\",\n",
    "                                       \"Number of Topics\", \"Topic Diversity Score\", \"Coherence Score\", \"Topic Representativeness\",\"Silhouette Score\",\"Total Score\"])\n",
    "    summary_df_head.to_excel(writer, sheet_name=\"Summary\", index=False)\n",
    "    summary_df = pd.DataFrame({\n",
    "                            \"Embedding Model\": \"ALBERT\",\n",
    "                            \"Dimensionality Reduction\": \"umap\",\n",
    "                            \"Clustering Method\": \"Spectral\",\n",
    "                            \"Representation Models\":\"KeyBERTInspired\",\n",
    "                            \"Number of Topics\": [num_topics],\n",
    "                            \"Topic Diversity Score\": [diversity_score],\n",
    "                            \"Coherence Score\": [coherence_score],\n",
    "                            \"Topic Representativeness\": [representativeness_score],\n",
    "                            \"Silhouette Score\": [silhouette],\n",
    "                            \"Total Score\": [final_score]\n",
    "                        })\n",
    "    sheet_name_0 = \"Summary\"\n",
    "    summary_df.to_excel(writer,  sheet_name=\"Summary\", startrow=1,index=False, header=False)\n",
    "    topic_info_df.to_excel(writer, sheet_name=\"Summary\",startrow=len(summary_df) + 2, index=False)\n",
    "    "
   ]
  },
  {
   "cell_type": "code",
   "execution_count": 29,
   "id": "1873c8d5-7736-4203-925e-14c3e27c61ff",
   "metadata": {},
   "outputs": [
    {
     "data": {
      "application/vnd.jupyter.widget-view+json": {
       "model_id": "a52a730c2dc04e768d1c7521e5c06985",
       "version_major": 2,
       "version_minor": 0
      },
      "text/plain": [
       "Batches:   0%|          | 0/256 [00:00<?, ?it/s]"
      ]
     },
     "metadata": {},
     "output_type": "display_data"
    }
   ],
   "source": [
    "results = {}\n",
    "custom_stop_words = [\"xxxx\", \"xx\",\"x\",\"xxxxx\", \"xxxxxxxx\", \"xxxxxxxxxxxx\"]\n",
    "vectorizer_model = CountVectorizer(stop_words=custom_stop_words)\n",
    "umap_model = UMAP(\n",
    "        n_neighbors=17,\n",
    "        min_dist=0.9099610238642805,\n",
    "        n_components=4,\n",
    "        metric='cosine',\n",
    "        random_state=42,\n",
    "    )\n",
    "Spectral_model = SpectralClustering(n_clusters=5,eigen_solver='arpack',affinity='nearest_neighbors',assign_labels='kmeans')\n",
    "representation_model = KeyBERTInspired(\n",
    "        nr_repr_docs=9, top_n_words=8\n",
    "    )\n",
    "topic_model = BERTopic(\n",
    "        embedding_model=AutoModel.from_pretrained(\"allenai/longformer-base-4096\"),\n",
    "        umap_model=umap_model,\n",
    "        hdbscan_model=Spectral_model,\n",
    "        representation_model=representation_model,\n",
    "        vectorizer_model=vectorizer_model\n",
    "    )\n",
    "topics, probs = topic_model.fit_transform(documents)\n",
    "topic_info = topic_model.get_topic_info()\n",
    "topic_info_df = pd.DataFrame(topic_info)  # Convert topic_info to DataFrame\n",
    "tokenized_documents = [doc.split() for doc in documents]\n",
    "dictionary = Dictionary(tokenized_documents)\n",
    "coherence_score = calculate_and_average_coherence_scores(topic_model, tokenized_documents, dictionary)\n",
    "sentence_transformer_model = topic_model.embedding_model\n",
    "topic_embeddings = topic_model.topic_embeddings_\n",
    "document_embeddings = sentence_transformer_model.embedding_model.encode(documents, show_progress_bar=True)\n",
    "# Use consistent `documents` for `get_document_info`\n",
    "document_info = topic_model.get_document_info(documents)\n",
    "topic_labels = document_info[\"Topic\"].values\n",
    "\n",
    "diversity_score = calculate_topic_diversity(topic_model)\n",
    "representativeness_score = calculate_topic_representativeness(topic_embeddings, document_embeddings)\n",
    "silhouette = calculate_silhouette_score(document_embeddings, topic_labels)\n",
    "num_topics = topic_info_df.shape[0]\n",
    "# Combine metrics into a single score\n",
    "final_score = coherence_score+diversity_score+representativeness_score+silhouette\n",
    "with pd.ExcelWriter(\"topic_modeling_para_tunning_3.xlsx\") as writer:\n",
    "    summary_df_head = pd.DataFrame(columns=[\"Embedding Model\", \"Dimensionality Reduction\", \"Clustering Method\", \"Representation Models\",\n",
    "                                       \"Number of Topics\", \"Topic Diversity Score\", \"Coherence Score\", \"Topic Representativeness\",\"Silhouette Score\",\"Total Score\"])\n",
    "    summary_df_head.to_excel(writer, sheet_name=\"Summary\", index=False)\n",
    "    summary_df = pd.DataFrame({\n",
    "                            \"Embedding Model\": \"longformer\",\n",
    "                            \"Dimensionality Reduction\": \"umap\",\n",
    "                            \"Clustering Method\": \"Spectral\",\n",
    "                            \"Representation Models\":\"KeyBERTInspired\",\n",
    "                            \"Number of Topics\": [num_topics],\n",
    "                            \"Topic Diversity Score\": [diversity_score],\n",
    "                            \"Coherence Score\": [coherence_score],\n",
    "                            \"Topic Representativeness\": [representativeness_score],\n",
    "                            \"Silhouette Score\": [silhouette],\n",
    "                            \"Total Score\": [final_score]\n",
    "                        })\n",
    "    sheet_name_0 = \"Summary\"\n",
    "    summary_df.to_excel(writer,  sheet_name=\"Summary\", startrow=1,index=False, header=False)\n",
    "    topic_info_df.to_excel(writer, sheet_name=\"Summary\",startrow=len(summary_df) + 2, index=False)\n",
    "    "
   ]
  },
  {
   "cell_type": "code",
   "execution_count": 31,
   "id": "4ad62350-6dfd-4d53-b78e-d70df0eac53a",
   "metadata": {},
   "outputs": [
    {
     "data": {
      "application/vnd.jupyter.widget-view+json": {
       "model_id": "a5def5bc26e141b7946370c68547e617",
       "version_major": 2,
       "version_minor": 0
      },
      "text/plain": [
       "Batches:   0%|          | 0/256 [00:00<?, ?it/s]"
      ]
     },
     "metadata": {},
     "output_type": "display_data"
    }
   ],
   "source": [
    "results = {}\n",
    "custom_stop_words = [\"xxxx\", \"xx\",\"x\",\"xxxxx\", \"xxxxxxxx\", \"xxxxxxxxxxxx\"]\n",
    "vectorizer_model = CountVectorizer(stop_words=custom_stop_words)\n",
    "umap_model = UMAP(\n",
    "        n_neighbors=13,\n",
    "        min_dist=0.7991098637548104,\n",
    "        n_components=15,\n",
    "        metric='manhattan',\n",
    "        random_state=42,\n",
    "    )\n",
    "Spectral_model = SpectralClustering(n_clusters=5,eigen_solver='amg',affinity='rbf',assign_labels='cluster_qr')\n",
    "representation_model = KeyBERTInspired(\n",
    "        nr_repr_docs=5, top_n_words=7\n",
    "    )\n",
    "topic_model = BERTopic(\n",
    "        embedding_model=TfidfVectorizer(),\n",
    "        umap_model=umap_model,\n",
    "        hdbscan_model=Spectral_model,\n",
    "        representation_model=representation_model,\n",
    "        vectorizer_model=vectorizer_model\n",
    "    )\n",
    "topics, probs = topic_model.fit_transform(documents)\n",
    "topic_info = topic_model.get_topic_info()\n",
    "topic_info_df = pd.DataFrame(topic_info)  # Convert topic_info to DataFrame\n",
    "tokenized_documents = [doc.split() for doc in documents]\n",
    "dictionary = Dictionary(tokenized_documents)\n",
    "coherence_score = calculate_and_average_coherence_scores(topic_model, tokenized_documents, dictionary)\n",
    "sentence_transformer_model = topic_model.embedding_model\n",
    "topic_embeddings = topic_model.topic_embeddings_\n",
    "document_embeddings = sentence_transformer_model.embedding_model.encode(documents, show_progress_bar=True)\n",
    "# Use consistent `documents` for `get_document_info`\n",
    "document_info = topic_model.get_document_info(documents)\n",
    "topic_labels = document_info[\"Topic\"].values\n",
    "\n",
    "diversity_score = calculate_topic_diversity(topic_model)\n",
    "representativeness_score = calculate_topic_representativeness(topic_embeddings, document_embeddings)\n",
    "silhouette = calculate_silhouette_score(document_embeddings, topic_labels)\n",
    "num_topics = topic_info_df.shape[0]\n",
    "# Combine metrics into a single score\n",
    "final_score = coherence_score+diversity_score+representativeness_score+silhouette\n",
    "with pd.ExcelWriter(\"topic_modeling_para_tunning_4.xlsx\") as writer:\n",
    "    summary_df_head = pd.DataFrame(columns=[\"Embedding Model\", \"Dimensionality Reduction\", \"Clustering Method\", \"Representation Models\",\n",
    "                                       \"Number of Topics\", \"Topic Diversity Score\", \"Coherence Score\", \"Topic Representativeness\",\"Silhouette Score\",\"Total Score\"])\n",
    "    summary_df_head.to_excel(writer, sheet_name=\"Summary\", index=False)\n",
    "    summary_df = pd.DataFrame({\n",
    "                            \"Embedding Model\": \"Tfidf\",\n",
    "                            \"Dimensionality Reduction\": \"umap\",\n",
    "                            \"Clustering Method\": \"Spectral\",\n",
    "                            \"Representation Models\":\"KeyBERTInspired\",\n",
    "                            \"Number of Topics\": [num_topics],\n",
    "                            \"Topic Diversity Score\": [diversity_score],\n",
    "                            \"Coherence Score\": [coherence_score],\n",
    "                            \"Topic Representativeness\": [representativeness_score],\n",
    "                            \"Silhouette Score\": [silhouette],\n",
    "                            \"Total Score\": [final_score]\n",
    "                        })\n",
    "    sheet_name_0 = \"Summary\"\n",
    "    summary_df.to_excel(writer,  sheet_name=\"Summary\", startrow=1,index=False, header=False)\n",
    "    topic_info_df.to_excel(writer, sheet_name=\"Summary\",startrow=len(summary_df) + 2, index=False)\n",
    "    "
   ]
  },
  {
   "cell_type": "code",
   "execution_count": 35,
   "id": "de5c6d40-ca16-48c6-9457-a4ede53cc130",
   "metadata": {},
   "outputs": [
    {
     "data": {
      "application/vnd.jupyter.widget-view+json": {
       "model_id": "7b3f03d1b47f4bd682a7f1d77248bc64",
       "version_major": 2,
       "version_minor": 0
      },
      "text/plain": [
       "Batches:   0%|          | 0/256 [00:00<?, ?it/s]"
      ]
     },
     "metadata": {},
     "output_type": "display_data"
    }
   ],
   "source": [
    "results = {}\n",
    "custom_stop_words = [\"xxxx\", \"xx\",\"x\",\"xxxxx\", \"xxxxxxxx\", \"xxxxxxxxxxxx\"]\n",
    "vectorizer_model = CountVectorizer(stop_words=custom_stop_words)\n",
    "umap_model = UMAP(\n",
    "        n_neighbors=21,\n",
    "        min_dist=0.45313554620854735,\n",
    "        n_components=8,\n",
    "        metric='manhattan',\n",
    "        random_state=42,\n",
    "    )\n",
    "Spectral_model = SpectralClustering(n_clusters=5,eigen_solver='amg',affinity='rbf',assign_labels='kmeans')\n",
    "representation_model = MaximalMarginalRelevance(\n",
    "        diversity=0.7168968007367521, top_n_words=9\n",
    "    )\n",
    "topic_model = BERTopic(\n",
    "        embedding_model=AutoModel.from_pretrained(\"allenai/longformer-base-4096\"),\n",
    "        umap_model=umap_model,\n",
    "        hdbscan_model=Spectral_model,\n",
    "        representation_model=representation_model,\n",
    "        vectorizer_model=vectorizer_model\n",
    "    )\n",
    "topics, probs = topic_model.fit_transform(documents)\n",
    "topic_info = topic_model.get_topic_info()\n",
    "topic_info_df = pd.DataFrame(topic_info)  # Convert topic_info to DataFrame\n",
    "tokenized_documents = [doc.split() for doc in documents]\n",
    "dictionary = Dictionary(tokenized_documents)\n",
    "coherence_score = calculate_and_average_coherence_scores(topic_model, tokenized_documents, dictionary)\n",
    "sentence_transformer_model = topic_model.embedding_model\n",
    "topic_embeddings = topic_model.topic_embeddings_\n",
    "document_embeddings = sentence_transformer_model.embedding_model.encode(documents, show_progress_bar=True)\n",
    "# Use consistent `documents` for `get_document_info`\n",
    "document_info = topic_model.get_document_info(documents)\n",
    "topic_labels = document_info[\"Topic\"].values\n",
    "\n",
    "diversity_score = calculate_topic_diversity(topic_model)\n",
    "representativeness_score = calculate_topic_representativeness(topic_embeddings, document_embeddings)\n",
    "silhouette = calculate_silhouette_score(document_embeddings, topic_labels)\n",
    "num_topics = topic_info_df.shape[0]\n",
    "# Combine metrics into a single score\n",
    "final_score = coherence_score+diversity_score+representativeness_score+silhouette\n",
    "with pd.ExcelWriter(\"topic_modeling_para_tunning_5.xlsx\") as writer:\n",
    "    summary_df_head = pd.DataFrame(columns=[\"Embedding Model\", \"Dimensionality Reduction\", \"Clustering Method\", \"Representation Models\",\n",
    "                                       \"Number of Topics\", \"Topic Diversity Score\", \"Coherence Score\", \"Topic Representativeness\",\"Silhouette Score\",\"Total Score\"])\n",
    "    summary_df_head.to_excel(writer, sheet_name=\"Summary\", index=False)\n",
    "    summary_df = pd.DataFrame({\n",
    "                            \"Embedding Model\": \"longformer\",\n",
    "                            \"Dimensionality Reduction\": \"umap\",\n",
    "                            \"Clustering Method\": \"Spectral\",\n",
    "                            \"Representation Models\":\"MaximalMarginalRelevance\",\n",
    "                            \"Number of Topics\": [num_topics],\n",
    "                            \"Topic Diversity Score\": [diversity_score],\n",
    "                            \"Coherence Score\": [coherence_score],\n",
    "                            \"Topic Representativeness\": [representativeness_score],\n",
    "                            \"Silhouette Score\": [silhouette],\n",
    "                            \"Total Score\": [final_score]\n",
    "                        })\n",
    "    sheet_name_0 = \"Summary\"\n",
    "    summary_df.to_excel(writer,  sheet_name=\"Summary\", startrow=1,index=False, header=False)\n",
    "    topic_info_df.to_excel(writer, sheet_name=\"Summary\",startrow=len(summary_df) + 2, index=False)\n",
    "    "
   ]
  },
  {
   "cell_type": "code",
   "execution_count": 37,
   "id": "ec251c92-855b-4541-b5a2-46f33b193e8c",
   "metadata": {},
   "outputs": [
    {
     "data": {
      "application/vnd.jupyter.widget-view+json": {
       "model_id": "ac8fc904ea2248b69b8468ca5d70911d",
       "version_major": 2,
       "version_minor": 0
      },
      "text/plain": [
       "Batches:   0%|          | 0/256 [00:00<?, ?it/s]"
      ]
     },
     "metadata": {},
     "output_type": "display_data"
    }
   ],
   "source": [
    "results = {}\n",
    "custom_stop_words = [\"xxxx\", \"xx\",\"x\",\"xxxxx\", \"xxxxxxxx\", \"xxxxxxxxxxxx\"]\n",
    "vectorizer_model = CountVectorizer(stop_words=custom_stop_words)\n",
    "umap_model = UMAP(\n",
    "        n_neighbors=8,\n",
    "        min_dist=0.7668347162006994,\n",
    "        n_components=4,\n",
    "        metric='euclidean',\n",
    "        random_state=42,\n",
    "    )\n",
    "Spectral_model = SpectralClustering(n_clusters=5,eigen_solver='amg',affinity='nearest_neighbors',assign_labels='kmeans')\n",
    "representation_model = PartOfSpeech(\n",
    "        model='en_core_web_lg', top_n_words=7\n",
    "    )\n",
    "topic_model = BERTopic(\n",
    "        embedding_model=AutoModelForPreTraining.from_pretrained(\"google/bigbird-roberta-base\"),\n",
    "        umap_model=umap_model,\n",
    "        hdbscan_model=Spectral_model,\n",
    "        representation_model=representation_model,\n",
    "        vectorizer_model=vectorizer_model\n",
    "    )\n",
    "topics, probs = topic_model.fit_transform(documents)\n",
    "topic_info = topic_model.get_topic_info()\n",
    "topic_info_df = pd.DataFrame(topic_info)  # Convert topic_info to DataFrame\n",
    "tokenized_documents = [doc.split() for doc in documents]\n",
    "dictionary = Dictionary(tokenized_documents)\n",
    "coherence_score = calculate_and_average_coherence_scores(topic_model, tokenized_documents, dictionary)\n",
    "sentence_transformer_model = topic_model.embedding_model\n",
    "topic_embeddings = topic_model.topic_embeddings_\n",
    "document_embeddings = sentence_transformer_model.embedding_model.encode(documents, show_progress_bar=True)\n",
    "# Use consistent `documents` for `get_document_info`\n",
    "document_info = topic_model.get_document_info(documents)\n",
    "topic_labels = document_info[\"Topic\"].values\n",
    "\n",
    "diversity_score = calculate_topic_diversity(topic_model)\n",
    "representativeness_score = calculate_topic_representativeness(topic_embeddings, document_embeddings)\n",
    "silhouette = calculate_silhouette_score(document_embeddings, topic_labels)\n",
    "num_topics = topic_info_df.shape[0]\n",
    "# Combine metrics into a single score\n",
    "final_score = coherence_score+diversity_score+representativeness_score+silhouette\n",
    "with pd.ExcelWriter(\"topic_modeling_para_tunning_6.xlsx\") as writer:\n",
    "    summary_df_head = pd.DataFrame(columns=[\"Embedding Model\", \"Dimensionality Reduction\", \"Clustering Method\", \"Representation Models\",\n",
    "                                       \"Number of Topics\", \"Topic Diversity Score\", \"Coherence Score\", \"Topic Representativeness\",\"Silhouette Score\",\"Total Score\"])\n",
    "    summary_df_head.to_excel(writer, sheet_name=\"Summary\", index=False)\n",
    "    summary_df = pd.DataFrame({\n",
    "                            \"Embedding Model\": \"bigbird\",\n",
    "                            \"Dimensionality Reduction\": \"umap\",\n",
    "                            \"Clustering Method\": \"Spectral\",\n",
    "                            \"Representation Models\":\"PartOfSpeech\",\n",
    "                            \"Number of Topics\": [num_topics],\n",
    "                            \"Topic Diversity Score\": [diversity_score],\n",
    "                            \"Coherence Score\": [coherence_score],\n",
    "                            \"Topic Representativeness\": [representativeness_score],\n",
    "                            \"Silhouette Score\": [silhouette],\n",
    "                            \"Total Score\": [final_score]\n",
    "                        })\n",
    "    sheet_name_0 = \"Summary\"\n",
    "    summary_df.to_excel(writer,  sheet_name=\"Summary\", startrow=1,index=False, header=False)\n",
    "    topic_info_df.to_excel(writer, sheet_name=\"Summary\",startrow=len(summary_df) + 2, index=False)\n",
    "    "
   ]
  },
  {
   "cell_type": "code",
   "execution_count": null,
   "id": "6a736dbb-2e87-4b92-b0a4-11dc9105162e",
   "metadata": {},
   "outputs": [],
   "source": []
  }
 ],
 "metadata": {
  "kernelspec": {
   "display_name": "Python 3 (ipykernel)",
   "language": "python",
   "name": "python3"
  },
  "language_info": {
   "codemirror_mode": {
    "name": "ipython",
    "version": 3
   },
   "file_extension": ".py",
   "mimetype": "text/x-python",
   "name": "python",
   "nbconvert_exporter": "python",
   "pygments_lexer": "ipython3",
   "version": "3.11.0"
  }
 },
 "nbformat": 4,
 "nbformat_minor": 5
}
