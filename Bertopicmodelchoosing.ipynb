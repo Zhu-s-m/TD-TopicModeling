{
 "cells": [
  {
   "cell_type": "code",
   "execution_count": 1,
   "id": "aea0662e-ef38-4a51-a992-0f8ef98c0051",
   "metadata": {},
   "outputs": [],
   "source": [
    "import pandas as pd\n",
    "import numpy as np\n",
    "import seaborn as sns\n",
    "import matplotlib.pyplot as plt\n",
    "from sklearn.feature_extraction.text import TfidfVectorizer"
   ]
  },
  {
   "cell_type": "code",
   "execution_count": 2,
   "id": "b9f6ea85-f4c1-49dd-89d9-a98ee1bcf1dd",
   "metadata": {
    "scrolled": true
   },
   "outputs": [
    {
     "name": "stdout",
     "output_type": "stream",
     "text": [
      "(8185, 19)\n"
     ]
    },
    {
     "data": {
      "text/html": [
       "<div>\n",
       "<style scoped>\n",
       "    .dataframe tbody tr th:only-of-type {\n",
       "        vertical-align: middle;\n",
       "    }\n",
       "\n",
       "    .dataframe tbody tr th {\n",
       "        vertical-align: top;\n",
       "    }\n",
       "\n",
       "    .dataframe thead th {\n",
       "        text-align: right;\n",
       "    }\n",
       "</style>\n",
       "<table border=\"1\" class=\"dataframe\">\n",
       "  <thead>\n",
       "    <tr style=\"text-align: right;\">\n",
       "      <th></th>\n",
       "      <th>Date received</th>\n",
       "      <th>Product</th>\n",
       "      <th>Sub-product</th>\n",
       "      <th>Issue</th>\n",
       "      <th>Sub-issue</th>\n",
       "      <th>Consumer complaint narrative</th>\n",
       "      <th>Company public response</th>\n",
       "      <th>Company</th>\n",
       "      <th>State</th>\n",
       "      <th>ZIP code</th>\n",
       "      <th>Tags</th>\n",
       "      <th>Consumer consent provided?</th>\n",
       "      <th>Submitted via</th>\n",
       "      <th>Date sent to company</th>\n",
       "      <th>Company response to consumer</th>\n",
       "      <th>Timely response?</th>\n",
       "      <th>Consumer disputed?</th>\n",
       "      <th>Complaint ID</th>\n",
       "      <th>Processed Complaint</th>\n",
       "    </tr>\n",
       "  </thead>\n",
       "  <tbody>\n",
       "    <tr>\n",
       "      <th>0</th>\n",
       "      <td>2023-12-07</td>\n",
       "      <td>Student loan</td>\n",
       "      <td>Federal student loan servicing</td>\n",
       "      <td>Dealing with your lender or servicer</td>\n",
       "      <td>Problem with customer service</td>\n",
       "      <td>In took 1 quarter at XXXX XXXX. In that quarte...</td>\n",
       "      <td>Company believes it acted appropriately as aut...</td>\n",
       "      <td>MOHELA</td>\n",
       "      <td>OH</td>\n",
       "      <td>457XX</td>\n",
       "      <td>NaN</td>\n",
       "      <td>Consent provided</td>\n",
       "      <td>Web</td>\n",
       "      <td>2023-12-07</td>\n",
       "      <td>Closed with explanation</td>\n",
       "      <td>Yes</td>\n",
       "      <td>NaN</td>\n",
       "      <td>7958117</td>\n",
       "      <td>took quarter xxxx xxxx. quarter subsidized loa...</td>\n",
       "    </tr>\n",
       "    <tr>\n",
       "      <th>1</th>\n",
       "      <td>2023-12-29</td>\n",
       "      <td>Student loan</td>\n",
       "      <td>Federal student loan servicing</td>\n",
       "      <td>Dealing with your lender or servicer</td>\n",
       "      <td>Trouble with how payments are being handled</td>\n",
       "      <td>My student loan provider is currently Nelnet. ...</td>\n",
       "      <td>NaN</td>\n",
       "      <td>Nelnet, Inc.</td>\n",
       "      <td>IA</td>\n",
       "      <td>50265</td>\n",
       "      <td>NaN</td>\n",
       "      <td>Consent provided</td>\n",
       "      <td>Web</td>\n",
       "      <td>2023-12-29</td>\n",
       "      <td>Closed with explanation</td>\n",
       "      <td>Yes</td>\n",
       "      <td>NaN</td>\n",
       "      <td>8080675</td>\n",
       "      <td>student loan provider currently nelnet. making...</td>\n",
       "    </tr>\n",
       "    <tr>\n",
       "      <th>2</th>\n",
       "      <td>2023-11-13</td>\n",
       "      <td>Student loan</td>\n",
       "      <td>Federal student loan servicing</td>\n",
       "      <td>Dealing with your lender or servicer</td>\n",
       "      <td>Received bad information about your loan</td>\n",
       "      <td>on XX/XX/25 I went to student aid.gov and appl...</td>\n",
       "      <td>NaN</td>\n",
       "      <td>Maximus Federal Services, Inc.</td>\n",
       "      <td>CA</td>\n",
       "      <td>955XX</td>\n",
       "      <td>NaN</td>\n",
       "      <td>Consent provided</td>\n",
       "      <td>Web</td>\n",
       "      <td>2023-11-13</td>\n",
       "      <td>Closed with explanation</td>\n",
       "      <td>Yes</td>\n",
       "      <td>NaN</td>\n",
       "      <td>7844168</td>\n",
       "      <td>xx/xx/ went student aid.gov applied save progr...</td>\n",
       "    </tr>\n",
       "    <tr>\n",
       "      <th>3</th>\n",
       "      <td>2023-11-13</td>\n",
       "      <td>Student loan</td>\n",
       "      <td>Federal student loan servicing</td>\n",
       "      <td>Dealing with your lender or servicer</td>\n",
       "      <td>Co-signer</td>\n",
       "      <td>In response to claim number XXXX Nelnet employ...</td>\n",
       "      <td>NaN</td>\n",
       "      <td>Nelnet, Inc.</td>\n",
       "      <td>TN</td>\n",
       "      <td>37115</td>\n",
       "      <td>NaN</td>\n",
       "      <td>Consent provided</td>\n",
       "      <td>Web</td>\n",
       "      <td>2023-11-13</td>\n",
       "      <td>Closed with explanation</td>\n",
       "      <td>Yes</td>\n",
       "      <td>NaN</td>\n",
       "      <td>7844744</td>\n",
       "      <td>response claim number xxxx nelnet employee ( x...</td>\n",
       "    </tr>\n",
       "    <tr>\n",
       "      <th>4</th>\n",
       "      <td>2023-10-17</td>\n",
       "      <td>Student loan</td>\n",
       "      <td>Federal student loan servicing</td>\n",
       "      <td>Dealing with your lender or servicer</td>\n",
       "      <td>Problem with customer service</td>\n",
       "      <td>I am an authorized payor on my son 's Nelnet a...</td>\n",
       "      <td>NaN</td>\n",
       "      <td>Nelnet, Inc.</td>\n",
       "      <td>NC</td>\n",
       "      <td>284XX</td>\n",
       "      <td>NaN</td>\n",
       "      <td>Consent provided</td>\n",
       "      <td>Web</td>\n",
       "      <td>2023-10-17</td>\n",
       "      <td>Closed with explanation</td>\n",
       "      <td>Yes</td>\n",
       "      <td>NaN</td>\n",
       "      <td>7712911</td>\n",
       "      <td>authorized payor son 's nelnet account. signin...</td>\n",
       "    </tr>\n",
       "  </tbody>\n",
       "</table>\n",
       "</div>"
      ],
      "text/plain": [
       "  Date received       Product                     Sub-product  \\\n",
       "0    2023-12-07  Student loan  Federal student loan servicing   \n",
       "1    2023-12-29  Student loan  Federal student loan servicing   \n",
       "2    2023-11-13  Student loan  Federal student loan servicing   \n",
       "3    2023-11-13  Student loan  Federal student loan servicing   \n",
       "4    2023-10-17  Student loan  Federal student loan servicing   \n",
       "\n",
       "                                  Issue  \\\n",
       "0  Dealing with your lender or servicer   \n",
       "1  Dealing with your lender or servicer   \n",
       "2  Dealing with your lender or servicer   \n",
       "3  Dealing with your lender or servicer   \n",
       "4  Dealing with your lender or servicer   \n",
       "\n",
       "                                     Sub-issue  \\\n",
       "0                Problem with customer service   \n",
       "1  Trouble with how payments are being handled   \n",
       "2     Received bad information about your loan   \n",
       "3                                    Co-signer   \n",
       "4                Problem with customer service   \n",
       "\n",
       "                        Consumer complaint narrative  \\\n",
       "0  In took 1 quarter at XXXX XXXX. In that quarte...   \n",
       "1  My student loan provider is currently Nelnet. ...   \n",
       "2  on XX/XX/25 I went to student aid.gov and appl...   \n",
       "3  In response to claim number XXXX Nelnet employ...   \n",
       "4  I am an authorized payor on my son 's Nelnet a...   \n",
       "\n",
       "                             Company public response  \\\n",
       "0  Company believes it acted appropriately as aut...   \n",
       "1                                                NaN   \n",
       "2                                                NaN   \n",
       "3                                                NaN   \n",
       "4                                                NaN   \n",
       "\n",
       "                          Company State ZIP code Tags  \\\n",
       "0                          MOHELA    OH    457XX  NaN   \n",
       "1                    Nelnet, Inc.    IA    50265  NaN   \n",
       "2  Maximus Federal Services, Inc.    CA    955XX  NaN   \n",
       "3                    Nelnet, Inc.    TN    37115  NaN   \n",
       "4                    Nelnet, Inc.    NC    284XX  NaN   \n",
       "\n",
       "  Consumer consent provided? Submitted via Date sent to company  \\\n",
       "0           Consent provided           Web           2023-12-07   \n",
       "1           Consent provided           Web           2023-12-29   \n",
       "2           Consent provided           Web           2023-11-13   \n",
       "3           Consent provided           Web           2023-11-13   \n",
       "4           Consent provided           Web           2023-10-17   \n",
       "\n",
       "  Company response to consumer Timely response?  Consumer disputed?  \\\n",
       "0      Closed with explanation              Yes                 NaN   \n",
       "1      Closed with explanation              Yes                 NaN   \n",
       "2      Closed with explanation              Yes                 NaN   \n",
       "3      Closed with explanation              Yes                 NaN   \n",
       "4      Closed with explanation              Yes                 NaN   \n",
       "\n",
       "   Complaint ID                                Processed Complaint  \n",
       "0       7958117  took quarter xxxx xxxx. quarter subsidized loa...  \n",
       "1       8080675  student loan provider currently nelnet. making...  \n",
       "2       7844168  xx/xx/ went student aid.gov applied save progr...  \n",
       "3       7844744  response claim number xxxx nelnet employee ( x...  \n",
       "4       7712911  authorized payor son 's nelnet account. signin...  "
      ]
     },
     "execution_count": 2,
     "metadata": {},
     "output_type": "execute_result"
    }
   ],
   "source": [
    "ds = pd.read_csv('student_loan_data.csv')\n",
    "print(ds.shape)\n",
    "ds.head()"
   ]
  },
  {
   "cell_type": "code",
   "execution_count": 3,
   "id": "ea4c8446-dad4-4038-ae67-3f688b905d11",
   "metadata": {},
   "outputs": [
    {
     "name": "stdout",
     "output_type": "stream",
     "text": [
      "Words made up entirely of 'x' in the 'Processed Complaint' column:\n",
      "['x', 'xxxx', 'xxxxx', 'xxxxxxxx', 'xxxxxxxxxxxx']\n"
     ]
    }
   ],
   "source": [
    "import re\n",
    "\n",
    "\n",
    "# Define a regex pattern to match words made up entirely of the letter 'x'\n",
    "pattern = r\"^x+$\"\n",
    "\n",
    "# Function to extract matching words from a cell\n",
    "def extract_x_words(cell):\n",
    "    if isinstance(cell, str):  # Check if the cell contains text\n",
    "        return [word for word in cell.split() if re.fullmatch(pattern, word)]\n",
    "    return []\n",
    "\n",
    "# Extract matching words only from the 'Processed Complaint' column\n",
    "all_x_words = []\n",
    "if 'Processed Complaint' in ds.columns:\n",
    "    ds['Processed Complaint'].apply(lambda cell: all_x_words.extend(extract_x_words(cell)))\n",
    "\n",
    "# Remove duplicates and sort the list of x-words\n",
    "unique_x_words = sorted(set(all_x_words))\n",
    "\n",
    "# Print the results\n",
    "print(\"Words made up entirely of 'x' in the 'Processed Complaint' column:\")\n",
    "print(unique_x_words)"
   ]
  },
  {
   "cell_type": "code",
   "execution_count": 4,
   "id": "b1c9029f-f02b-442e-a549-4d58420023e7",
   "metadata": {},
   "outputs": [
    {
     "data": {
      "text/html": [
       "<div>\n",
       "<style scoped>\n",
       "    .dataframe tbody tr th:only-of-type {\n",
       "        vertical-align: middle;\n",
       "    }\n",
       "\n",
       "    .dataframe tbody tr th {\n",
       "        vertical-align: top;\n",
       "    }\n",
       "\n",
       "    .dataframe thead th {\n",
       "        text-align: right;\n",
       "    }\n",
       "</style>\n",
       "<table border=\"1\" class=\"dataframe\">\n",
       "  <thead>\n",
       "    <tr style=\"text-align: right;\">\n",
       "      <th></th>\n",
       "      <th>Date received</th>\n",
       "      <th>Product</th>\n",
       "      <th>Sub-product</th>\n",
       "      <th>Issue</th>\n",
       "      <th>Sub-issue</th>\n",
       "      <th>Consumer complaint narrative</th>\n",
       "      <th>Company public response</th>\n",
       "      <th>Company</th>\n",
       "      <th>State</th>\n",
       "      <th>ZIP code</th>\n",
       "      <th>Tags</th>\n",
       "      <th>Consumer consent provided?</th>\n",
       "      <th>Submitted via</th>\n",
       "      <th>Date sent to company</th>\n",
       "      <th>Company response to consumer</th>\n",
       "      <th>Timely response?</th>\n",
       "      <th>Consumer disputed?</th>\n",
       "      <th>Complaint ID</th>\n",
       "      <th>Processed Complaint</th>\n",
       "    </tr>\n",
       "  </thead>\n",
       "  <tbody>\n",
       "    <tr>\n",
       "      <th>0</th>\n",
       "      <td>2023-12-07</td>\n",
       "      <td>Student loan</td>\n",
       "      <td>Federal student loan servicing</td>\n",
       "      <td>Dealing with your lender or servicer</td>\n",
       "      <td>Problem with customer service</td>\n",
       "      <td>In took 1 quarter at XXXX XXXX. In that quarte...</td>\n",
       "      <td>Company believes it acted appropriately as aut...</td>\n",
       "      <td>MOHELA</td>\n",
       "      <td>OH</td>\n",
       "      <td>457XX</td>\n",
       "      <td>NaN</td>\n",
       "      <td>Consent provided</td>\n",
       "      <td>Web</td>\n",
       "      <td>2023-12-07</td>\n",
       "      <td>Closed with explanation</td>\n",
       "      <td>Yes</td>\n",
       "      <td>NaN</td>\n",
       "      <td>7958117</td>\n",
       "      <td>take quarter xxxx xxxx. quarter subsidize loan...</td>\n",
       "    </tr>\n",
       "    <tr>\n",
       "      <th>1</th>\n",
       "      <td>2023-12-29</td>\n",
       "      <td>Student loan</td>\n",
       "      <td>Federal student loan servicing</td>\n",
       "      <td>Dealing with your lender or servicer</td>\n",
       "      <td>Trouble with how payments are being handled</td>\n",
       "      <td>My student loan provider is currently Nelnet. ...</td>\n",
       "      <td>NaN</td>\n",
       "      <td>Nelnet, Inc.</td>\n",
       "      <td>IA</td>\n",
       "      <td>50265</td>\n",
       "      <td>NaN</td>\n",
       "      <td>Consent provided</td>\n",
       "      <td>Web</td>\n",
       "      <td>2023-12-29</td>\n",
       "      <td>Closed with explanation</td>\n",
       "      <td>Yes</td>\n",
       "      <td>NaN</td>\n",
       "      <td>8080675</td>\n",
       "      <td>student loan provider currently nelnet. make p...</td>\n",
       "    </tr>\n",
       "    <tr>\n",
       "      <th>2</th>\n",
       "      <td>2023-11-13</td>\n",
       "      <td>Student loan</td>\n",
       "      <td>Federal student loan servicing</td>\n",
       "      <td>Dealing with your lender or servicer</td>\n",
       "      <td>Received bad information about your loan</td>\n",
       "      <td>on XX/XX/25 I went to student aid.gov and appl...</td>\n",
       "      <td>NaN</td>\n",
       "      <td>Maximus Federal Services, Inc.</td>\n",
       "      <td>CA</td>\n",
       "      <td>955XX</td>\n",
       "      <td>NaN</td>\n",
       "      <td>Consent provided</td>\n",
       "      <td>Web</td>\n",
       "      <td>2023-11-13</td>\n",
       "      <td>Closed with explanation</td>\n",
       "      <td>Yes</td>\n",
       "      <td>NaN</td>\n",
       "      <td>7844168</td>\n",
       "      <td>xx/xx/ go student aid.gov apply save program s...</td>\n",
       "    </tr>\n",
       "    <tr>\n",
       "      <th>3</th>\n",
       "      <td>2023-11-13</td>\n",
       "      <td>Student loan</td>\n",
       "      <td>Federal student loan servicing</td>\n",
       "      <td>Dealing with your lender or servicer</td>\n",
       "      <td>Co-signer</td>\n",
       "      <td>In response to claim number XXXX Nelnet employ...</td>\n",
       "      <td>NaN</td>\n",
       "      <td>Nelnet, Inc.</td>\n",
       "      <td>TN</td>\n",
       "      <td>37115</td>\n",
       "      <td>NaN</td>\n",
       "      <td>Consent provided</td>\n",
       "      <td>Web</td>\n",
       "      <td>2023-11-13</td>\n",
       "      <td>Closed with explanation</td>\n",
       "      <td>Yes</td>\n",
       "      <td>NaN</td>\n",
       "      <td>7844744</td>\n",
       "      <td>response claim number xxxx nelnet employee ( x...</td>\n",
       "    </tr>\n",
       "    <tr>\n",
       "      <th>4</th>\n",
       "      <td>2023-10-17</td>\n",
       "      <td>Student loan</td>\n",
       "      <td>Federal student loan servicing</td>\n",
       "      <td>Dealing with your lender or servicer</td>\n",
       "      <td>Problem with customer service</td>\n",
       "      <td>I am an authorized payor on my son 's Nelnet a...</td>\n",
       "      <td>NaN</td>\n",
       "      <td>Nelnet, Inc.</td>\n",
       "      <td>NC</td>\n",
       "      <td>284XX</td>\n",
       "      <td>NaN</td>\n",
       "      <td>Consent provided</td>\n",
       "      <td>Web</td>\n",
       "      <td>2023-10-17</td>\n",
       "      <td>Closed with explanation</td>\n",
       "      <td>Yes</td>\n",
       "      <td>NaN</td>\n",
       "      <td>7712911</td>\n",
       "      <td>authorize payor son 's nelnet account. sign po...</td>\n",
       "    </tr>\n",
       "  </tbody>\n",
       "</table>\n",
       "</div>"
      ],
      "text/plain": [
       "  Date received       Product                     Sub-product  \\\n",
       "0    2023-12-07  Student loan  Federal student loan servicing   \n",
       "1    2023-12-29  Student loan  Federal student loan servicing   \n",
       "2    2023-11-13  Student loan  Federal student loan servicing   \n",
       "3    2023-11-13  Student loan  Federal student loan servicing   \n",
       "4    2023-10-17  Student loan  Federal student loan servicing   \n",
       "\n",
       "                                  Issue  \\\n",
       "0  Dealing with your lender or servicer   \n",
       "1  Dealing with your lender or servicer   \n",
       "2  Dealing with your lender or servicer   \n",
       "3  Dealing with your lender or servicer   \n",
       "4  Dealing with your lender or servicer   \n",
       "\n",
       "                                     Sub-issue  \\\n",
       "0                Problem with customer service   \n",
       "1  Trouble with how payments are being handled   \n",
       "2     Received bad information about your loan   \n",
       "3                                    Co-signer   \n",
       "4                Problem with customer service   \n",
       "\n",
       "                        Consumer complaint narrative  \\\n",
       "0  In took 1 quarter at XXXX XXXX. In that quarte...   \n",
       "1  My student loan provider is currently Nelnet. ...   \n",
       "2  on XX/XX/25 I went to student aid.gov and appl...   \n",
       "3  In response to claim number XXXX Nelnet employ...   \n",
       "4  I am an authorized payor on my son 's Nelnet a...   \n",
       "\n",
       "                             Company public response  \\\n",
       "0  Company believes it acted appropriately as aut...   \n",
       "1                                                NaN   \n",
       "2                                                NaN   \n",
       "3                                                NaN   \n",
       "4                                                NaN   \n",
       "\n",
       "                          Company State ZIP code Tags  \\\n",
       "0                          MOHELA    OH    457XX  NaN   \n",
       "1                    Nelnet, Inc.    IA    50265  NaN   \n",
       "2  Maximus Federal Services, Inc.    CA    955XX  NaN   \n",
       "3                    Nelnet, Inc.    TN    37115  NaN   \n",
       "4                    Nelnet, Inc.    NC    284XX  NaN   \n",
       "\n",
       "  Consumer consent provided? Submitted via Date sent to company  \\\n",
       "0           Consent provided           Web           2023-12-07   \n",
       "1           Consent provided           Web           2023-12-29   \n",
       "2           Consent provided           Web           2023-11-13   \n",
       "3           Consent provided           Web           2023-11-13   \n",
       "4           Consent provided           Web           2023-10-17   \n",
       "\n",
       "  Company response to consumer Timely response?  Consumer disputed?  \\\n",
       "0      Closed with explanation              Yes                 NaN   \n",
       "1      Closed with explanation              Yes                 NaN   \n",
       "2      Closed with explanation              Yes                 NaN   \n",
       "3      Closed with explanation              Yes                 NaN   \n",
       "4      Closed with explanation              Yes                 NaN   \n",
       "\n",
       "   Complaint ID                                Processed Complaint  \n",
       "0       7958117  take quarter xxxx xxxx. quarter subsidize loan...  \n",
       "1       8080675  student loan provider currently nelnet. make p...  \n",
       "2       7844168  xx/xx/ go student aid.gov apply save program s...  \n",
       "3       7844744  response claim number xxxx nelnet employee ( x...  \n",
       "4       7712911  authorize payor son 's nelnet account. sign po...  "
      ]
     },
     "execution_count": 4,
     "metadata": {},
     "output_type": "execute_result"
    }
   ],
   "source": [
    "import nltk\n",
    "from nltk.corpus import wordnet\n",
    "from nltk.stem import WordNetLemmatizer\n",
    "ds = pd.read_csv('student_loan_data.csv')\n",
    "lemmatizer = WordNetLemmatizer()\n",
    "wordnet_map = {\"N\":wordnet.NOUN, \"V\":wordnet.VERB, \"J\":wordnet.ADJ, \"R\":wordnet.ADV}\n",
    "def lemmatize_words(text):\n",
    "    pos_tagged_text = nltk.pos_tag(text.split())\n",
    "    return \" \".join([lemmatizer.lemmatize(word, wordnet_map.get(pos[0], wordnet.NOUN)) for word, pos in pos_tagged_text])\n",
    "\n",
    "ds[\"Processed Complaint\"] = ds[\"Processed Complaint\"].apply(lambda text: lemmatize_words(text))\n",
    "ds.head()"
   ]
  },
  {
   "cell_type": "code",
   "execution_count": 5,
   "id": "e5de732e-6220-4f0c-b79b-05fe07bacfa5",
   "metadata": {},
   "outputs": [],
   "source": [
    "import numpy as np\n",
    "import pandas as pd\n",
    "import re\n",
    "import spacy\n",
    "import string\n",
    "pd.options.mode.chained_assignment = None"
   ]
  },
  {
   "cell_type": "code",
   "execution_count": 6,
   "id": "55d4ed6a-c892-4589-a805-7ae57a7651dd",
   "metadata": {},
   "outputs": [
    {
     "data": {
      "image/png": "[encoded data removed]",
      "text/plain": [
       "<Figure size 1000x600 with 1 Axes>"
      ]
     },
     "metadata": {},
     "output_type": "display_data"
    }
   ],
   "source": [
    "import matplotlib.pyplot as plt\n",
    "\n",
    "\n",
    "\n",
    "# Calculate the number of words in each complaint\n",
    "ds['Word Count'] = ds['Processed Complaint'].apply(lambda x: len(x.split()))\n",
    "\n",
    "# Plot histogram\n",
    "plt.figure(figsize=(10, 6))\n",
    "n, bins, patches = plt.hist(ds['Word Count'], bins=10, color='skyblue', edgecolor='black')\n",
    "plt.xlabel('Number of Words')\n",
    "plt.ylabel('Frequency')\n",
    "plt.title('Distribution of Word Counts in Processed Complaints')\n",
    "\n",
    "# Adding frequency labels on top of each bar\n",
    "for i in range(len(patches)):\n",
    "    plt.text(patches[i].get_x() + patches[i].get_width() / 2, \n",
    "             n[i], \n",
    "             int(n[i]), \n",
    "             ha='center', \n",
    "             va='bottom')\n",
    "\n",
    "plt.show()\n"
   ]
  },
  {
   "cell_type": "code",
   "execution_count": 7,
   "id": "467e1b89-0419-448d-b63d-45b749d236ed",
   "metadata": {},
   "outputs": [],
   "source": [
    "from bertopic import BERTopic\n",
    "from sklearn.metrics import silhouette_score\n",
    "from sklearn.metrics import jaccard_score\n",
    "from sentence_transformers import SentenceTransformer\n",
    "from sklearn.cluster import KMeans\n",
    "import hdbscan\n",
    "from gensim.models import CoherenceModel\n",
    "from sklearn.metrics.pairwise import cosine_similarity\n",
    "from gensim.corpora.dictionary import Dictionary\n",
    "import os\n",
    "os.environ[\"TOKENIZERS_PARALLELISM\"] = \"false\""
   ]
  },
  {
   "cell_type": "code",
   "execution_count": 8,
   "id": "3962b0a3-048a-4d9c-8fbb-2fe8e3e618bf",
   "metadata": {},
   "outputs": [],
   "source": [
    "# Function to calculate a basic topic diversity score\n",
    "def calculate_topic_diversity(topic_model):\n",
    "    unique_words = set()\n",
    "    total_words = 0\n",
    "    for topic in topic_model.get_topics().values():\n",
    "        words = [word for word, _ in topic]  # Extract top words\n",
    "        unique_words.update(words)\n",
    "        total_words += len(words)\n",
    "    diversity_score = len(unique_words) / total_words\n",
    "    return diversity_score\n",
    "def sigmoid(x):\n",
    "    \"\"\"\n",
    "    Sigmoid function for standardizing values to (0, 1).\n",
    "    \"\"\"\n",
    "    return 1 / (1 + np.exp(-1.0456*(x+5.60)))\n",
    "\n",
    "def calculate_and_average_coherence_scores(topic_model, texts, dictionary):\n",
    "    \"\"\"\n",
    "    Calculate C_v, C_umass, and C_npmi coherence scores for a BERTopic model,\n",
    "    standardize them to [0, 1], and return the average standardized score.\n",
    "    \n",
    "    Parameters:\n",
    "        topic_model: BERTopic model instance\n",
    "        texts: List of preprocessed texts (list of tokenized words per document)\n",
    "        dictionary: Gensim dictionary created from the texts\n",
    "        \n",
    "    Returns:\n",
    "        Average standardized coherence score\n",
    "    \"\"\"\n",
    "    # Extract topics from BERTopic\n",
    "    topics = [[word for word, _ in topic] for topic in topic_model.get_topics().values()]\n",
    "\n",
    "    # Define coherence metrics\n",
    "    metrics = {\n",
    "        \"c_v\": {\"min\": 0, \"max\": 1},  # C_v naturally falls in [0, 1]\n",
    "        \"u_mass\": \"sigmoid\",          # Use sigmoid for C_umass\n",
    "        \"c_npmi\": {\"min\": -1, \"max\": 1},  # C_npmi falls in [-1, 1]\n",
    "    }\n",
    "\n",
    "    # Calculate coherence scores\n",
    "    coherence_scores = {}\n",
    "    for metric, bounds in metrics.items():\n",
    "        coherence_model = CoherenceModel(topics=topics, texts=texts, dictionary=dictionary, coherence=metric)\n",
    "        score = coherence_model.get_coherence()\n",
    "\n",
    "        if metric == \"u_mass\":\n",
    "            # Use sigmoid for standardization of C_umass\n",
    "            standardized_score = sigmoid(score)  \n",
    "        else:\n",
    "            # Standardize using min-max scaling\n",
    "            standardized_score = (score - bounds[\"min\"]) / (bounds[\"max\"] - bounds[\"min\"])\n",
    "            standardized_score = max(0, min(1, standardized_score))  # Clip to [0, 1]\n",
    "\n",
    "        coherence_scores[metric] = standardized_score\n",
    "\n",
    "    # Average of standardized coherence scores\n",
    "    average_standardized_score = np.mean(list(coherence_scores.values()))\n",
    "\n",
    "    return average_standardized_score\n",
    "# Function to calculate a Cosine Similarity\n",
    "def calculate_topic_representativeness(topic_embeddings, document_embeddings):\n",
    "    \"\"\"\n",
    "    Calculate Topic Representativeness using Cosine Similarity.\n",
    "\n",
    "    Parameters:\n",
    "        topic_embeddings: 2D array (n_topics, embedding_dim) of topic embeddings.\n",
    "        document_embeddings: 2D array (n_documents, embedding_dim) of document embeddings.\n",
    "\n",
    "    Returns:\n",
    "        Standardized cosine similarity score in [0, 1].\n",
    "    \"\"\"\n",
    "    # Compute cosine similarity between topic and document embeddings\n",
    "    similarities = cosine_similarity(topic_embeddings, document_embeddings)\n",
    "    \n",
    "    # Take the mean of maximum similarity for each document\n",
    "    average_similarity = np.mean(np.max(similarities, axis=0))\n",
    "    \n",
    "    # Standardize cosine similarity from [-1, 1] to [0, 1]\n",
    "    standardized_similarity = (average_similarity + 1) / 2\n",
    "    return standardized_similarity\n",
    "\n",
    "# Function to calculate Silhouette Score\n",
    "def calculate_silhouette_score(document_embeddings, topic_labels):\n",
    "    \"\"\"\n",
    "    Calculate Silhouette Score and standardize it.\n",
    "\n",
    "    Parameters:\n",
    "        document_embeddings: 2D array of document embeddings.\n",
    "        topic_labels: 1D array of assigned topic labels for documents.\n",
    "\n",
    "    Returns:\n",
    "        Standardized silhouette score in [0, 1].\n",
    "    \"\"\"\n",
    "    score = silhouette_score(document_embeddings, topic_labels)\n",
    "    # Standardize silhouette score from [-1, 1] to [0, 1]\n",
    "    standardized_score = (score + 1) / 2\n",
    "    return standardized_score\n",
    "    \n",
    "\n",
    "\n",
    "\n"
   ]
  },
  {
   "cell_type": "code",
   "execution_count": 9,
   "id": "e9adbc0a-26f6-430c-b293-c3ae3d35aaef",
   "metadata": {},
   "outputs": [],
   "source": [
    "from sklearn.feature_extraction.text import CountVectorizer\n",
    "from sklearn.cluster import AgglomerativeClustering, DBSCAN, SpectralClustering\n",
    "from sklearn.mixture import GaussianMixture\n",
    "from sentence_transformers import SentenceTransformer\n",
    "from gensim.corpora import Dictionary\n",
    "from transformers import BigBirdTokenizer, BigBirdModel, AutoModel, AutoTokenizer, AutoModelForPreTraining, AutoModelForMaskedLM, ReformerModel, ReformerTokenizer\n",
    "import torch\n",
    "from sklearn.decomposition import PCA, TruncatedSVD\n",
    "from umap import UMAP\n",
    "from bertopic.representation import KeyBERTInspired\n",
    "from bertopic.representation import PartOfSpeech\n",
    "from bertopic.representation import MaximalMarginalRelevance\n",
    "from bertopic.representation import ZeroShotClassification\n",
    "\n"
   ]
  },
  {
   "cell_type": "code",
   "execution_count": 10,
   "id": "56736511-e402-4709-8017-7a58476ffba2",
   "metadata": {},
   "outputs": [
    {
     "name": "stdout",
     "output_type": "stream",
     "text": [
      "8185\n"
     ]
    }
   ],
   "source": [
    "# Load and preprocess your dataset\n",
    "documents = ds['Processed Complaint'].tolist()\n",
    "print(len(documents))\n"
   ]
  },
  {
   "cell_type": "code",
   "execution_count": 11,
   "id": "07ec68e7-4f52-4f76-8355-e074d8c0b256",
   "metadata": {
    "scrolled": true
   },
   "outputs": [],
   "source": [
    "class GMMWrapper(GaussianMixture): # or regular GaussianMixture\n",
    "    def fit(self,*args,**kwargs):\n",
    "        clusters = self.fit_predict(*args,**kwargs)\n",
    "        \n",
    "        # get rid of empty clusters\n",
    "        cluster_map = -100*np.ones(clusters.max()+1)\n",
    "        cluster_ids_unique = np.unique(clusters)\n",
    "        cluster_map[cluster_ids_unique] = np.arange(len(cluster_ids_unique))\n",
    "        clusters_new = cluster_map[clusters]\n",
    "\n",
    "        # save it in labels attribute\n",
    "        self.labels_ = clusters_new\n",
    "        return self"
   ]
  },
  {
   "cell_type": "code",
   "execution_count": 12,
   "id": "6ff2898e-5a3c-4a60-a82f-55bcf427c30e",
   "metadata": {},
   "outputs": [
    {
     "name": "stdout",
     "output_type": "stream",
     "text": [
      "\n",
      "Testing with Embedding: TF-IDF\n",
      "  Applying Dimensionality Reduction: PCA\n",
      "  Using Clustering: HDBSCAN\n",
      "  Using Representation Models: KeyBERTInspired\n",
      "  Using Representation Models: PartOfSpeech\n",
      "  Using Representation Models: MaximalMarginalRelevance\n",
      "  Using Clustering: AgglomerativeClustering\n",
      "  Using Representation Models: KeyBERTInspired\n"
     ]
    },
    {
     "data": {
      "application/vnd.jupyter.widget-view+json": {
       "model_id": "c81ebc0176b34d848bb2b931661a6f3e",
       "version_major": 2,
       "version_minor": 0
      },
      "text/plain": [
       "Batches:   0%|          | 0/256 [00:00<?, ?it/s]"
      ]
     },
     "metadata": {},
     "output_type": "display_data"
    },
    {
     "name": "stdout",
     "output_type": "stream",
     "text": [
      "  Using Representation Models: PartOfSpeech\n"
     ]
    },
    {
     "data": {
      "application/vnd.jupyter.widget-view+json": {
       "model_id": "f4b0930777ca49b8bd81f9af58890763",
       "version_major": 2,
       "version_minor": 0
      },
      "text/plain": [
       "Batches:   0%|          | 0/256 [00:00<?, ?it/s]"
      ]
     },
     "metadata": {},
     "output_type": "display_data"
    },
    {
     "name": "stdout",
     "output_type": "stream",
     "text": [
      "  Using Representation Models: MaximalMarginalRelevance\n"
     ]
    },
    {
     "data": {
      "application/vnd.jupyter.widget-view+json": {
       "model_id": "f1d06c82cd1243b285d89d76eb3c2b21",
       "version_major": 2,
       "version_minor": 0
      },
      "text/plain": [
       "Batches:   0%|          | 0/256 [00:00<?, ?it/s]"
      ]
     },
     "metadata": {},
     "output_type": "display_data"
    },
    {
     "name": "stdout",
     "output_type": "stream",
     "text": [
      "  Using Clustering: DBSCAN\n",
      "  Using Representation Models: KeyBERTInspired\n",
      "  Using Representation Models: PartOfSpeech\n",
      "  Using Representation Models: MaximalMarginalRelevance\n",
      "  Using Clustering: SpectralClustering\n",
      "  Using Representation Models: KeyBERTInspired\n"
     ]
    },
    {
     "data": {
      "application/vnd.jupyter.widget-view+json": {
       "model_id": "ab4f2922518142fc86dd5a290566545b",
       "version_major": 2,
       "version_minor": 0
      },
      "text/plain": [
       "Batches:   0%|          | 0/256 [00:00<?, ?it/s]"
      ]
     },
     "metadata": {},
     "output_type": "display_data"
    },
    {
     "name": "stdout",
     "output_type": "stream",
     "text": [
      "  Using Representation Models: PartOfSpeech\n"
     ]
    },
    {
     "data": {
      "application/vnd.jupyter.widget-view+json": {
       "model_id": "8f7744085cc04e8a8159b2b1a74f2626",
       "version_major": 2,
       "version_minor": 0
      },
      "text/plain": [
       "Batches:   0%|          | 0/256 [00:00<?, ?it/s]"
      ]
     },
     "metadata": {},
     "output_type": "display_data"
    },
    {
     "name": "stdout",
     "output_type": "stream",
     "text": [
      "  Using Representation Models: MaximalMarginalRelevance\n"
     ]
    },
    {
     "data": {
      "application/vnd.jupyter.widget-view+json": {
       "model_id": "21571c69ba71451cad80f1ca557eab39",
       "version_major": 2,
       "version_minor": 0
      },
      "text/plain": [
       "Batches:   0%|          | 0/256 [00:00<?, ?it/s]"
      ]
     },
     "metadata": {},
     "output_type": "display_data"
    },
    {
     "name": "stdout",
     "output_type": "stream",
     "text": [
      "  Using Clustering: GaussianMixture\n",
      "  Using Representation Models: KeyBERTInspired\n"
     ]
    },
    {
     "data": {
      "application/vnd.jupyter.widget-view+json": {
       "model_id": "0a3ff69fe29847f5a9fd1c2e38af4da9",
       "version_major": 2,
       "version_minor": 0
      },
      "text/plain": [
       "Batches:   0%|          | 0/256 [00:00<?, ?it/s]"
      ]
     },
     "metadata": {},
     "output_type": "display_data"
    },
    {
     "name": "stdout",
     "output_type": "stream",
     "text": [
      "  Using Representation Models: PartOfSpeech\n"
     ]
    },
    {
     "data": {
      "application/vnd.jupyter.widget-view+json": {
       "model_id": "6080948e42744f579783a22fd6958c9f",
       "version_major": 2,
       "version_minor": 0
      },
      "text/plain": [
       "Batches:   0%|          | 0/256 [00:00<?, ?it/s]"
      ]
     },
     "metadata": {},
     "output_type": "display_data"
    },
    {
     "name": "stdout",
     "output_type": "stream",
     "text": [
      "  Using Representation Models: MaximalMarginalRelevance\n"
     ]
    },
    {
     "data": {
      "application/vnd.jupyter.widget-view+json": {
       "model_id": "cbdc370bebb24b85ad60322b11fa6ed7",
       "version_major": 2,
       "version_minor": 0
      },
      "text/plain": [
       "Batches:   0%|          | 0/256 [00:00<?, ?it/s]"
      ]
     },
     "metadata": {},
     "output_type": "display_data"
    },
    {
     "name": "stdout",
     "output_type": "stream",
     "text": [
      "  Using Clustering: KMeans\n",
      "  Using Representation Models: KeyBERTInspired\n"
     ]
    },
    {
     "data": {
      "application/vnd.jupyter.widget-view+json": {
       "model_id": "b7cc50b5a3cc4032b6646aa864b75701",
       "version_major": 2,
       "version_minor": 0
      },
      "text/plain": [
       "Batches:   0%|          | 0/256 [00:00<?, ?it/s]"
      ]
     },
     "metadata": {},
     "output_type": "display_data"
    },
    {
     "name": "stdout",
     "output_type": "stream",
     "text": [
      "  Using Representation Models: PartOfSpeech\n"
     ]
    },
    {
     "data": {
      "application/vnd.jupyter.widget-view+json": {
       "model_id": "fee1924650c94cbaa8761bd6981ed9e3",
       "version_major": 2,
       "version_minor": 0
      },
      "text/plain": [
       "Batches:   0%|          | 0/256 [00:00<?, ?it/s]"
      ]
     },
     "metadata": {},
     "output_type": "display_data"
    },
    {
     "name": "stdout",
     "output_type": "stream",
     "text": [
      "  Using Representation Models: MaximalMarginalRelevance\n"
     ]
    },
    {
     "data": {
      "application/vnd.jupyter.widget-view+json": {
       "model_id": "e63791a269ec44a8b862690aa1bd38d2",
       "version_major": 2,
       "version_minor": 0
      },
      "text/plain": [
       "Batches:   0%|          | 0/256 [00:00<?, ?it/s]"
      ]
     },
     "metadata": {},
     "output_type": "display_data"
    },
    {
     "name": "stdout",
     "output_type": "stream",
     "text": [
      "  Applying Dimensionality Reduction: UMAP\n",
      "  Using Clustering: HDBSCAN\n",
      "  Using Representation Models: KeyBERTInspired\n",
      "  Using Representation Models: PartOfSpeech\n",
      "  Using Representation Models: MaximalMarginalRelevance\n",
      "  Using Clustering: AgglomerativeClustering\n",
      "  Using Representation Models: KeyBERTInspired\n"
     ]
    },
    {
     "data": {
      "application/vnd.jupyter.widget-view+json": {
       "model_id": "718b4d7d3ccb4a31a9a25ded51e2fb4b",
       "version_major": 2,
       "version_minor": 0
      },
      "text/plain": [
       "Batches:   0%|          | 0/256 [00:00<?, ?it/s]"
      ]
     },
     "metadata": {},
     "output_type": "display_data"
    },
    {
     "name": "stdout",
     "output_type": "stream",
     "text": [
      "  Using Representation Models: PartOfSpeech\n"
     ]
    },
    {
     "data": {
      "application/vnd.jupyter.widget-view+json": {
       "model_id": "70a21aaab2364067a37ff9b1eb9353b6",
       "version_major": 2,
       "version_minor": 0
      },
      "text/plain": [
       "Batches:   0%|          | 0/256 [00:00<?, ?it/s]"
      ]
     },
     "metadata": {},
     "output_type": "display_data"
    },
    {
     "name": "stdout",
     "output_type": "stream",
     "text": [
      "  Using Representation Models: MaximalMarginalRelevance\n"
     ]
    },
    {
     "data": {
      "application/vnd.jupyter.widget-view+json": {
       "model_id": "6e0f26177f34421dbd4bef68d3492427",
       "version_major": 2,
       "version_minor": 0
      },
      "text/plain": [
       "Batches:   0%|          | 0/256 [00:00<?, ?it/s]"
      ]
     },
     "metadata": {},
     "output_type": "display_data"
    },
    {
     "name": "stdout",
     "output_type": "stream",
     "text": [
      "  Using Clustering: DBSCAN\n",
      "  Using Representation Models: KeyBERTInspired\n",
      "  Using Representation Models: PartOfSpeech\n",
      "  Using Representation Models: MaximalMarginalRelevance\n",
      "  Using Clustering: SpectralClustering\n",
      "  Using Representation Models: KeyBERTInspired\n"
     ]
    },
    {
     "data": {
      "application/vnd.jupyter.widget-view+json": {
       "model_id": "b1ddc22725e14e9a9fe0b981941a4c67",
       "version_major": 2,
       "version_minor": 0
      },
      "text/plain": [
       "Batches:   0%|          | 0/256 [00:00<?, ?it/s]"
      ]
     },
     "metadata": {},
     "output_type": "display_data"
    },
    {
     "name": "stdout",
     "output_type": "stream",
     "text": [
      "  Using Representation Models: PartOfSpeech\n"
     ]
    },
    {
     "data": {
      "application/vnd.jupyter.widget-view+json": {
       "model_id": "118042dd7f1a42a6b50153e9ab12c0fb",
       "version_major": 2,
       "version_minor": 0
      },
      "text/plain": [
       "Batches:   0%|          | 0/256 [00:00<?, ?it/s]"
      ]
     },
     "metadata": {},
     "output_type": "display_data"
    },
    {
     "name": "stdout",
     "output_type": "stream",
     "text": [
      "  Using Representation Models: MaximalMarginalRelevance\n"
     ]
    },
    {
     "data": {
      "application/vnd.jupyter.widget-view+json": {
       "model_id": "f0c9d88673d24ac787f088a820e66e85",
       "version_major": 2,
       "version_minor": 0
      },
      "text/plain": [
       "Batches:   0%|          | 0/256 [00:00<?, ?it/s]"
      ]
     },
     "metadata": {},
     "output_type": "display_data"
    },
    {
     "name": "stdout",
     "output_type": "stream",
     "text": [
      "  Using Clustering: GaussianMixture\n",
      "  Using Representation Models: KeyBERTInspired\n"
     ]
    },
    {
     "data": {
      "application/vnd.jupyter.widget-view+json": {
       "model_id": "35d77bc7d2e0486a9fa6d98d57c4c1fd",
       "version_major": 2,
       "version_minor": 0
      },
      "text/plain": [
       "Batches:   0%|          | 0/256 [00:00<?, ?it/s]"
      ]
     },
     "metadata": {},
     "output_type": "display_data"
    },
    {
     "name": "stdout",
     "output_type": "stream",
     "text": [
      "  Using Representation Models: PartOfSpeech\n"
     ]
    },
    {
     "data": {
      "application/vnd.jupyter.widget-view+json": {
       "model_id": "f0f3b4d8615745afabbe8928249b4ac7",
       "version_major": 2,
       "version_minor": 0
      },
      "text/plain": [
       "Batches:   0%|          | 0/256 [00:00<?, ?it/s]"
      ]
     },
     "metadata": {},
     "output_type": "display_data"
    },
    {
     "name": "stdout",
     "output_type": "stream",
     "text": [
      "  Using Representation Models: MaximalMarginalRelevance\n"
     ]
    },
    {
     "data": {
      "application/vnd.jupyter.widget-view+json": {
       "model_id": "fb069ccf8101493caa6e9f9ff29d5c6b",
       "version_major": 2,
       "version_minor": 0
      },
      "text/plain": [
       "Batches:   0%|          | 0/256 [00:00<?, ?it/s]"
      ]
     },
     "metadata": {},
     "output_type": "display_data"
    },
    {
     "name": "stdout",
     "output_type": "stream",
     "text": [
      "  Using Clustering: KMeans\n",
      "  Using Representation Models: KeyBERTInspired\n"
     ]
    },
    {
     "data": {
      "application/vnd.jupyter.widget-view+json": {
       "model_id": "9395398c4f96408f84fd6640a2fe2f68",
       "version_major": 2,
       "version_minor": 0
      },
      "text/plain": [
       "Batches:   0%|          | 0/256 [00:00<?, ?it/s]"
      ]
     },
     "metadata": {},
     "output_type": "display_data"
    },
    {
     "name": "stdout",
     "output_type": "stream",
     "text": [
      "  Using Representation Models: PartOfSpeech\n"
     ]
    },
    {
     "data": {
      "application/vnd.jupyter.widget-view+json": {
       "model_id": "0a4131599ae844bd9dd09c66544603b6",
       "version_major": 2,
       "version_minor": 0
      },
      "text/plain": [
       "Batches:   0%|          | 0/256 [00:00<?, ?it/s]"
      ]
     },
     "metadata": {},
     "output_type": "display_data"
    },
    {
     "name": "stdout",
     "output_type": "stream",
     "text": [
      "  Using Representation Models: MaximalMarginalRelevance\n"
     ]
    },
    {
     "data": {
      "application/vnd.jupyter.widget-view+json": {
       "model_id": "b11193987d644b03a6b23a64d90ac2c6",
       "version_major": 2,
       "version_minor": 0
      },
      "text/plain": [
       "Batches:   0%|          | 0/256 [00:00<?, ?it/s]"
      ]
     },
     "metadata": {},
     "output_type": "display_data"
    },
    {
     "name": "stdout",
     "output_type": "stream",
     "text": [
      "  Applying Dimensionality Reduction: TruncatedSVD\n",
      "  Using Clustering: HDBSCAN\n",
      "  Using Representation Models: KeyBERTInspired\n",
      "  Using Representation Models: PartOfSpeech\n",
      "  Using Representation Models: MaximalMarginalRelevance\n",
      "  Using Clustering: AgglomerativeClustering\n",
      "  Using Representation Models: KeyBERTInspired\n"
     ]
    },
    {
     "data": {
      "application/vnd.jupyter.widget-view+json": {
       "model_id": "e38ce3eee7de4b189c774c0206365ca1",
       "version_major": 2,
       "version_minor": 0
      },
      "text/plain": [
       "Batches:   0%|          | 0/256 [00:00<?, ?it/s]"
      ]
     },
     "metadata": {},
     "output_type": "display_data"
    },
    {
     "name": "stdout",
     "output_type": "stream",
     "text": [
      "  Using Representation Models: PartOfSpeech\n"
     ]
    },
    {
     "data": {
      "application/vnd.jupyter.widget-view+json": {
       "model_id": "f147d77aab264eccbcb8ff1986c6983c",
       "version_major": 2,
       "version_minor": 0
      },
      "text/plain": [
       "Batches:   0%|          | 0/256 [00:00<?, ?it/s]"
      ]
     },
     "metadata": {},
     "output_type": "display_data"
    },
    {
     "name": "stdout",
     "output_type": "stream",
     "text": [
      "  Using Representation Models: MaximalMarginalRelevance\n"
     ]
    },
    {
     "data": {
      "application/vnd.jupyter.widget-view+json": {
       "model_id": "9ca0b2456f91410b9c128ef8f8634247",
       "version_major": 2,
       "version_minor": 0
      },
      "text/plain": [
       "Batches:   0%|          | 0/256 [00:00<?, ?it/s]"
      ]
     },
     "metadata": {},
     "output_type": "display_data"
    },
    {
     "name": "stdout",
     "output_type": "stream",
     "text": [
      "  Using Clustering: DBSCAN\n",
      "  Using Representation Models: KeyBERTInspired\n",
      "  Using Representation Models: PartOfSpeech\n",
      "  Using Representation Models: MaximalMarginalRelevance\n",
      "  Using Clustering: SpectralClustering\n",
      "  Using Representation Models: KeyBERTInspired\n"
     ]
    },
    {
     "data": {
      "application/vnd.jupyter.widget-view+json": {
       "model_id": "30ac744cf1be4e0ca6217bd4b4252a5a",
       "version_major": 2,
       "version_minor": 0
      },
      "text/plain": [
       "Batches:   0%|          | 0/256 [00:00<?, ?it/s]"
      ]
     },
     "metadata": {},
     "output_type": "display_data"
    },
    {
     "name": "stdout",
     "output_type": "stream",
     "text": [
      "  Using Representation Models: PartOfSpeech\n"
     ]
    },
    {
     "data": {
      "application/vnd.jupyter.widget-view+json": {
       "model_id": "56e560d567df46bd8725edec6b164807",
       "version_major": 2,
       "version_minor": 0
      },
      "text/plain": [
       "Batches:   0%|          | 0/256 [00:00<?, ?it/s]"
      ]
     },
     "metadata": {},
     "output_type": "display_data"
    },
    {
     "name": "stdout",
     "output_type": "stream",
     "text": [
      "  Using Representation Models: MaximalMarginalRelevance\n"
     ]
    },
    {
     "data": {
      "application/vnd.jupyter.widget-view+json": {
       "model_id": "f021140b32134e5ca2f81fe5d71c8838",
       "version_major": 2,
       "version_minor": 0
      },
      "text/plain": [
       "Batches:   0%|          | 0/256 [00:00<?, ?it/s]"
      ]
     },
     "metadata": {},
     "output_type": "display_data"
    },
    {
     "name": "stdout",
     "output_type": "stream",
     "text": [
      "  Using Clustering: GaussianMixture\n",
      "  Using Representation Models: KeyBERTInspired\n"
     ]
    },
    {
     "data": {
      "application/vnd.jupyter.widget-view+json": {
       "model_id": "f784af336df94d6898d6f95b533619c4",
       "version_major": 2,
       "version_minor": 0
      },
      "text/plain": [
       "Batches:   0%|          | 0/256 [00:00<?, ?it/s]"
      ]
     },
     "metadata": {},
     "output_type": "display_data"
    },
    {
     "name": "stdout",
     "output_type": "stream",
     "text": [
      "  Using Representation Models: PartOfSpeech\n"
     ]
    },
    {
     "data": {
      "application/vnd.jupyter.widget-view+json": {
       "model_id": "c84d8213edf44c00b983ff14993ddddb",
       "version_major": 2,
       "version_minor": 0
      },
      "text/plain": [
       "Batches:   0%|          | 0/256 [00:00<?, ?it/s]"
      ]
     },
     "metadata": {},
     "output_type": "display_data"
    },
    {
     "name": "stdout",
     "output_type": "stream",
     "text": [
      "  Using Representation Models: MaximalMarginalRelevance\n"
     ]
    },
    {
     "data": {
      "application/vnd.jupyter.widget-view+json": {
       "model_id": "35b243bf31bc4a77a49a58d7f0f899a9",
       "version_major": 2,
       "version_minor": 0
      },
      "text/plain": [
       "Batches:   0%|          | 0/256 [00:00<?, ?it/s]"
      ]
     },
     "metadata": {},
     "output_type": "display_data"
    },
    {
     "name": "stdout",
     "output_type": "stream",
     "text": [
      "  Using Clustering: KMeans\n",
      "  Using Representation Models: KeyBERTInspired\n"
     ]
    },
    {
     "data": {
      "application/vnd.jupyter.widget-view+json": {
       "model_id": "8c351b9fe7214627ae781c1e6f918328",
       "version_major": 2,
       "version_minor": 0
      },
      "text/plain": [
       "Batches:   0%|          | 0/256 [00:00<?, ?it/s]"
      ]
     },
     "metadata": {},
     "output_type": "display_data"
    },
    {
     "name": "stdout",
     "output_type": "stream",
     "text": [
      "  Using Representation Models: PartOfSpeech\n"
     ]
    },
    {
     "data": {
      "application/vnd.jupyter.widget-view+json": {
       "model_id": "019ba6e93578459fbd3cb0570913b702",
       "version_major": 2,
       "version_minor": 0
      },
      "text/plain": [
       "Batches:   0%|          | 0/256 [00:00<?, ?it/s]"
      ]
     },
     "metadata": {},
     "output_type": "display_data"
    },
    {
     "name": "stdout",
     "output_type": "stream",
     "text": [
      "  Using Representation Models: MaximalMarginalRelevance\n"
     ]
    },
    {
     "data": {
      "application/vnd.jupyter.widget-view+json": {
       "model_id": "5fe21c8f34194f9c8cd27fb2058fb285",
       "version_major": 2,
       "version_minor": 0
      },
      "text/plain": [
       "Batches:   0%|          | 0/256 [00:00<?, ?it/s]"
      ]
     },
     "metadata": {},
     "output_type": "display_data"
    },
    {
     "name": "stdout",
     "output_type": "stream",
     "text": [
      "\n",
      "Testing with Embedding: BERT\n",
      "  Applying Dimensionality Reduction: PCA\n",
      "  Using Clustering: HDBSCAN\n",
      "  Using Representation Models: KeyBERTInspired\n",
      "  Using Representation Models: PartOfSpeech\n",
      "  Using Representation Models: MaximalMarginalRelevance\n",
      "  Using Clustering: AgglomerativeClustering\n",
      "  Using Representation Models: KeyBERTInspired\n"
     ]
    },
    {
     "data": {
      "application/vnd.jupyter.widget-view+json": {
       "model_id": "23f46148de1e41588c325ed5193805fa",
       "version_major": 2,
       "version_minor": 0
      },
      "text/plain": [
       "Batches:   0%|          | 0/256 [00:00<?, ?it/s]"
      ]
     },
     "metadata": {},
     "output_type": "display_data"
    },
    {
     "name": "stdout",
     "output_type": "stream",
     "text": [
      "  Using Representation Models: PartOfSpeech\n"
     ]
    },
    {
     "data": {
      "application/vnd.jupyter.widget-view+json": {
       "model_id": "c571dbd1cf88493b8119c4bb393a4f0f",
       "version_major": 2,
       "version_minor": 0
      },
      "text/plain": [
       "Batches:   0%|          | 0/256 [00:00<?, ?it/s]"
      ]
     },
     "metadata": {},
     "output_type": "display_data"
    },
    {
     "name": "stdout",
     "output_type": "stream",
     "text": [
      "  Using Representation Models: MaximalMarginalRelevance\n"
     ]
    },
    {
     "data": {
      "application/vnd.jupyter.widget-view+json": {
       "model_id": "274129a67dfe43eaac405231c63b1bdb",
       "version_major": 2,
       "version_minor": 0
      },
      "text/plain": [
       "Batches:   0%|          | 0/256 [00:00<?, ?it/s]"
      ]
     },
     "metadata": {},
     "output_type": "display_data"
    },
    {
     "name": "stdout",
     "output_type": "stream",
     "text": [
      "  Using Clustering: DBSCAN\n",
      "  Using Representation Models: KeyBERTInspired\n",
      "  Using Representation Models: PartOfSpeech\n",
      "  Using Representation Models: MaximalMarginalRelevance\n",
      "  Using Clustering: SpectralClustering\n",
      "  Using Representation Models: KeyBERTInspired\n"
     ]
    },
    {
     "data": {
      "application/vnd.jupyter.widget-view+json": {
       "model_id": "a6754301f5fe45debc7b2b8749f12269",
       "version_major": 2,
       "version_minor": 0
      },
      "text/plain": [
       "Batches:   0%|          | 0/256 [00:00<?, ?it/s]"
      ]
     },
     "metadata": {},
     "output_type": "display_data"
    },
    {
     "name": "stdout",
     "output_type": "stream",
     "text": [
      "  Using Representation Models: PartOfSpeech\n"
     ]
    },
    {
     "data": {
      "application/vnd.jupyter.widget-view+json": {
       "model_id": "2e2da656608f4e7681d1cbb47a723785",
       "version_major": 2,
       "version_minor": 0
      },
      "text/plain": [
       "Batches:   0%|          | 0/256 [00:00<?, ?it/s]"
      ]
     },
     "metadata": {},
     "output_type": "display_data"
    },
    {
     "name": "stdout",
     "output_type": "stream",
     "text": [
      "  Using Representation Models: MaximalMarginalRelevance\n"
     ]
    },
    {
     "data": {
      "application/vnd.jupyter.widget-view+json": {
       "model_id": "e08781ddf04d47b284b22cccea44b549",
       "version_major": 2,
       "version_minor": 0
      },
      "text/plain": [
       "Batches:   0%|          | 0/256 [00:00<?, ?it/s]"
      ]
     },
     "metadata": {},
     "output_type": "display_data"
    },
    {
     "name": "stdout",
     "output_type": "stream",
     "text": [
      "  Using Clustering: GaussianMixture\n",
      "  Using Representation Models: KeyBERTInspired\n"
     ]
    },
    {
     "data": {
      "application/vnd.jupyter.widget-view+json": {
       "model_id": "cd99fd6cdd5a42a0a0daf2d86f62fdec",
       "version_major": 2,
       "version_minor": 0
      },
      "text/plain": [
       "Batches:   0%|          | 0/256 [00:00<?, ?it/s]"
      ]
     },
     "metadata": {},
     "output_type": "display_data"
    },
    {
     "name": "stdout",
     "output_type": "stream",
     "text": [
      "  Using Representation Models: PartOfSpeech\n"
     ]
    },
    {
     "data": {
      "application/vnd.jupyter.widget-view+json": {
       "model_id": "6b9c31c63fd14a2091b813e5faf7f360",
       "version_major": 2,
       "version_minor": 0
      },
      "text/plain": [
       "Batches:   0%|          | 0/256 [00:00<?, ?it/s]"
      ]
     },
     "metadata": {},
     "output_type": "display_data"
    },
    {
     "name": "stdout",
     "output_type": "stream",
     "text": [
      "  Using Representation Models: MaximalMarginalRelevance\n"
     ]
    },
    {
     "data": {
      "application/vnd.jupyter.widget-view+json": {
       "model_id": "ecf967e87faa4a6f8023e0d544d95658",
       "version_major": 2,
       "version_minor": 0
      },
      "text/plain": [
       "Batches:   0%|          | 0/256 [00:00<?, ?it/s]"
      ]
     },
     "metadata": {},
     "output_type": "display_data"
    },
    {
     "name": "stdout",
     "output_type": "stream",
     "text": [
      "  Using Clustering: KMeans\n",
      "  Using Representation Models: KeyBERTInspired\n"
     ]
    },
    {
     "data": {
      "application/vnd.jupyter.widget-view+json": {
       "model_id": "b0a67870648c40f296837ad884987c13",
       "version_major": 2,
       "version_minor": 0
      },
      "text/plain": [
       "Batches:   0%|          | 0/256 [00:00<?, ?it/s]"
      ]
     },
     "metadata": {},
     "output_type": "display_data"
    },
    {
     "name": "stdout",
     "output_type": "stream",
     "text": [
      "  Using Representation Models: PartOfSpeech\n"
     ]
    },
    {
     "data": {
      "application/vnd.jupyter.widget-view+json": {
       "model_id": "fcca55f60eff4d3d83e2d62717292ed6",
       "version_major": 2,
       "version_minor": 0
      },
      "text/plain": [
       "Batches:   0%|          | 0/256 [00:00<?, ?it/s]"
      ]
     },
     "metadata": {},
     "output_type": "display_data"
    },
    {
     "name": "stdout",
     "output_type": "stream",
     "text": [
      "  Using Representation Models: MaximalMarginalRelevance\n"
     ]
    },
    {
     "data": {
      "application/vnd.jupyter.widget-view+json": {
       "model_id": "ba62c966b66644d0ad8a427f2cc1d735",
       "version_major": 2,
       "version_minor": 0
      },
      "text/plain": [
       "Batches:   0%|          | 0/256 [00:00<?, ?it/s]"
      ]
     },
     "metadata": {},
     "output_type": "display_data"
    },
    {
     "name": "stdout",
     "output_type": "stream",
     "text": [
      "  Applying Dimensionality Reduction: UMAP\n",
      "  Using Clustering: HDBSCAN\n",
      "  Using Representation Models: KeyBERTInspired\n",
      "  Using Representation Models: PartOfSpeech\n",
      "  Using Representation Models: MaximalMarginalRelevance\n",
      "  Using Clustering: AgglomerativeClustering\n",
      "  Using Representation Models: KeyBERTInspired\n"
     ]
    },
    {
     "data": {
      "application/vnd.jupyter.widget-view+json": {
       "model_id": "94746b83528d44458521c10b31c611e8",
       "version_major": 2,
       "version_minor": 0
      },
      "text/plain": [
       "Batches:   0%|          | 0/256 [00:00<?, ?it/s]"
      ]
     },
     "metadata": {},
     "output_type": "display_data"
    },
    {
     "name": "stdout",
     "output_type": "stream",
     "text": [
      "  Using Representation Models: PartOfSpeech\n"
     ]
    },
    {
     "data": {
      "application/vnd.jupyter.widget-view+json": {
       "model_id": "3db1ead3597247c2942df8f4e2422896",
       "version_major": 2,
       "version_minor": 0
      },
      "text/plain": [
       "Batches:   0%|          | 0/256 [00:00<?, ?it/s]"
      ]
     },
     "metadata": {},
     "output_type": "display_data"
    },
    {
     "name": "stdout",
     "output_type": "stream",
     "text": [
      "  Using Representation Models: MaximalMarginalRelevance\n"
     ]
    },
    {
     "data": {
      "application/vnd.jupyter.widget-view+json": {
       "model_id": "19da0231a4dc40b29e7fb191a07fee6a",
       "version_major": 2,
       "version_minor": 0
      },
      "text/plain": [
       "Batches:   0%|          | 0/256 [00:00<?, ?it/s]"
      ]
     },
     "metadata": {},
     "output_type": "display_data"
    },
    {
     "name": "stdout",
     "output_type": "stream",
     "text": [
      "  Using Clustering: DBSCAN\n",
      "  Using Representation Models: KeyBERTInspired\n",
      "  Using Representation Models: PartOfSpeech\n",
      "  Using Representation Models: MaximalMarginalRelevance\n",
      "  Using Clustering: SpectralClustering\n",
      "  Using Representation Models: KeyBERTInspired\n"
     ]
    },
    {
     "data": {
      "application/vnd.jupyter.widget-view+json": {
       "model_id": "91007b7bf3684e9aae7660de026c1131",
       "version_major": 2,
       "version_minor": 0
      },
      "text/plain": [
       "Batches:   0%|          | 0/256 [00:00<?, ?it/s]"
      ]
     },
     "metadata": {},
     "output_type": "display_data"
    },
    {
     "name": "stdout",
     "output_type": "stream",
     "text": [
      "  Using Representation Models: PartOfSpeech\n"
     ]
    },
    {
     "data": {
      "application/vnd.jupyter.widget-view+json": {
       "model_id": "6869b4d9ca7b43e1ae862eae6ad2cc26",
       "version_major": 2,
       "version_minor": 0
      },
      "text/plain": [
       "Batches:   0%|          | 0/256 [00:00<?, ?it/s]"
      ]
     },
     "metadata": {},
     "output_type": "display_data"
    },
    {
     "name": "stdout",
     "output_type": "stream",
     "text": [
      "  Using Representation Models: MaximalMarginalRelevance\n"
     ]
    },
    {
     "data": {
      "application/vnd.jupyter.widget-view+json": {
       "model_id": "656a83286e9344dea097354700a27978",
       "version_major": 2,
       "version_minor": 0
      },
      "text/plain": [
       "Batches:   0%|          | 0/256 [00:00<?, ?it/s]"
      ]
     },
     "metadata": {},
     "output_type": "display_data"
    },
    {
     "name": "stdout",
     "output_type": "stream",
     "text": [
      "  Using Clustering: GaussianMixture\n",
      "  Using Representation Models: KeyBERTInspired\n"
     ]
    },
    {
     "data": {
      "application/vnd.jupyter.widget-view+json": {
       "model_id": "10c6e7369913457098d8544ae3666623",
       "version_major": 2,
       "version_minor": 0
      },
      "text/plain": [
       "Batches:   0%|          | 0/256 [00:00<?, ?it/s]"
      ]
     },
     "metadata": {},
     "output_type": "display_data"
    },
    {
     "name": "stdout",
     "output_type": "stream",
     "text": [
      "  Using Representation Models: PartOfSpeech\n"
     ]
    },
    {
     "data": {
      "application/vnd.jupyter.widget-view+json": {
       "model_id": "0615a813231b44e8b4dbd4a89bdd2845",
       "version_major": 2,
       "version_minor": 0
      },
      "text/plain": [
       "Batches:   0%|          | 0/256 [00:00<?, ?it/s]"
      ]
     },
     "metadata": {},
     "output_type": "display_data"
    },
    {
     "name": "stdout",
     "output_type": "stream",
     "text": [
      "  Using Representation Models: MaximalMarginalRelevance\n"
     ]
    },
    {
     "data": {
      "application/vnd.jupyter.widget-view+json": {
       "model_id": "dac60049f6e84da2a09a1f422e086b4d",
       "version_major": 2,
       "version_minor": 0
      },
      "text/plain": [
       "Batches:   0%|          | 0/256 [00:00<?, ?it/s]"
      ]
     },
     "metadata": {},
     "output_type": "display_data"
    },
    {
     "name": "stdout",
     "output_type": "stream",
     "text": [
      "  Using Clustering: KMeans\n",
      "  Using Representation Models: KeyBERTInspired\n"
     ]
    },
    {
     "data": {
      "application/vnd.jupyter.widget-view+json": {
       "model_id": "c28a1e8b28c54e7b8cc2dd6400fbe528",
       "version_major": 2,
       "version_minor": 0
      },
      "text/plain": [
       "Batches:   0%|          | 0/256 [00:00<?, ?it/s]"
      ]
     },
     "metadata": {},
     "output_type": "display_data"
    },
    {
     "name": "stdout",
     "output_type": "stream",
     "text": [
      "  Using Representation Models: PartOfSpeech\n"
     ]
    },
    {
     "data": {
      "application/vnd.jupyter.widget-view+json": {
       "model_id": "f2db20e5481a4504af21a37a13e451dc",
       "version_major": 2,
       "version_minor": 0
      },
      "text/plain": [
       "Batches:   0%|          | 0/256 [00:00<?, ?it/s]"
      ]
     },
     "metadata": {},
     "output_type": "display_data"
    },
    {
     "name": "stdout",
     "output_type": "stream",
     "text": [
      "  Using Representation Models: MaximalMarginalRelevance\n"
     ]
    },
    {
     "data": {
      "application/vnd.jupyter.widget-view+json": {
       "model_id": "c776c9e0638f4fb2a0415c5f5e1868bd",
       "version_major": 2,
       "version_minor": 0
      },
      "text/plain": [
       "Batches:   0%|          | 0/256 [00:00<?, ?it/s]"
      ]
     },
     "metadata": {},
     "output_type": "display_data"
    },
    {
     "name": "stdout",
     "output_type": "stream",
     "text": [
      "  Applying Dimensionality Reduction: TruncatedSVD\n",
      "  Using Clustering: HDBSCAN\n",
      "  Using Representation Models: KeyBERTInspired\n",
      "  Using Representation Models: PartOfSpeech\n",
      "  Using Representation Models: MaximalMarginalRelevance\n",
      "  Using Clustering: AgglomerativeClustering\n",
      "  Using Representation Models: KeyBERTInspired\n"
     ]
    },
    {
     "data": {
      "application/vnd.jupyter.widget-view+json": {
       "model_id": "e5b673db17ca43c7b4b27f6d5351bd08",
       "version_major": 2,
       "version_minor": 0
      },
      "text/plain": [
       "Batches:   0%|          | 0/256 [00:00<?, ?it/s]"
      ]
     },
     "metadata": {},
     "output_type": "display_data"
    },
    {
     "name": "stdout",
     "output_type": "stream",
     "text": [
      "  Using Representation Models: PartOfSpeech\n"
     ]
    },
    {
     "data": {
      "application/vnd.jupyter.widget-view+json": {
       "model_id": "662e33026862487aae2a49d67a716904",
       "version_major": 2,
       "version_minor": 0
      },
      "text/plain": [
       "Batches:   0%|          | 0/256 [00:00<?, ?it/s]"
      ]
     },
     "metadata": {},
     "output_type": "display_data"
    },
    {
     "name": "stdout",
     "output_type": "stream",
     "text": [
      "  Using Representation Models: MaximalMarginalRelevance\n"
     ]
    },
    {
     "data": {
      "application/vnd.jupyter.widget-view+json": {
       "model_id": "91235ddcc7854b1c9fc72bdfc2d3de52",
       "version_major": 2,
       "version_minor": 0
      },
      "text/plain": [
       "Batches:   0%|          | 0/256 [00:00<?, ?it/s]"
      ]
     },
     "metadata": {},
     "output_type": "display_data"
    },
    {
     "name": "stdout",
     "output_type": "stream",
     "text": [
      "  Using Clustering: DBSCAN\n",
      "  Using Representation Models: KeyBERTInspired\n",
      "  Using Representation Models: PartOfSpeech\n",
      "  Using Representation Models: MaximalMarginalRelevance\n",
      "  Using Clustering: SpectralClustering\n",
      "  Using Representation Models: KeyBERTInspired\n"
     ]
    },
    {
     "data": {
      "application/vnd.jupyter.widget-view+json": {
       "model_id": "057b948127834b8a9b1bb153113e6284",
       "version_major": 2,
       "version_minor": 0
      },
      "text/plain": [
       "Batches:   0%|          | 0/256 [00:00<?, ?it/s]"
      ]
     },
     "metadata": {},
     "output_type": "display_data"
    },
    {
     "name": "stdout",
     "output_type": "stream",
     "text": [
      "  Using Representation Models: PartOfSpeech\n"
     ]
    },
    {
     "data": {
      "application/vnd.jupyter.widget-view+json": {
       "model_id": "431f47368aab403892c3bc3b58c7b6e3",
       "version_major": 2,
       "version_minor": 0
      },
      "text/plain": [
       "Batches:   0%|          | 0/256 [00:00<?, ?it/s]"
      ]
     },
     "metadata": {},
     "output_type": "display_data"
    },
    {
     "name": "stdout",
     "output_type": "stream",
     "text": [
      "  Using Representation Models: MaximalMarginalRelevance\n"
     ]
    },
    {
     "data": {
      "application/vnd.jupyter.widget-view+json": {
       "model_id": "5e9668e7caec4ac1ae2b85dcf81461cd",
       "version_major": 2,
       "version_minor": 0
      },
      "text/plain": [
       "Batches:   0%|          | 0/256 [00:00<?, ?it/s]"
      ]
     },
     "metadata": {},
     "output_type": "display_data"
    },
    {
     "name": "stdout",
     "output_type": "stream",
     "text": [
      "  Using Clustering: GaussianMixture\n",
      "  Using Representation Models: KeyBERTInspired\n"
     ]
    },
    {
     "data": {
      "application/vnd.jupyter.widget-view+json": {
       "model_id": "d8b23c1619ab46e4b83951c12595c36e",
       "version_major": 2,
       "version_minor": 0
      },
      "text/plain": [
       "Batches:   0%|          | 0/256 [00:00<?, ?it/s]"
      ]
     },
     "metadata": {},
     "output_type": "display_data"
    },
    {
     "name": "stdout",
     "output_type": "stream",
     "text": [
      "  Using Representation Models: PartOfSpeech\n"
     ]
    },
    {
     "data": {
      "application/vnd.jupyter.widget-view+json": {
       "model_id": "c56457f483794f8daa48a5154a0ec6a0",
       "version_major": 2,
       "version_minor": 0
      },
      "text/plain": [
       "Batches:   0%|          | 0/256 [00:00<?, ?it/s]"
      ]
     },
     "metadata": {},
     "output_type": "display_data"
    },
    {
     "name": "stdout",
     "output_type": "stream",
     "text": [
      "  Using Representation Models: MaximalMarginalRelevance\n"
     ]
    },
    {
     "data": {
      "application/vnd.jupyter.widget-view+json": {
       "model_id": "d3c51d54fe7b459db666a99894031812",
       "version_major": 2,
       "version_minor": 0
      },
      "text/plain": [
       "Batches:   0%|          | 0/256 [00:00<?, ?it/s]"
      ]
     },
     "metadata": {},
     "output_type": "display_data"
    },
    {
     "name": "stdout",
     "output_type": "stream",
     "text": [
      "  Using Clustering: KMeans\n",
      "  Using Representation Models: KeyBERTInspired\n"
     ]
    },
    {
     "data": {
      "application/vnd.jupyter.widget-view+json": {
       "model_id": "6690d4488f1a48bab6be784375989f71",
       "version_major": 2,
       "version_minor": 0
      },
      "text/plain": [
       "Batches:   0%|          | 0/256 [00:00<?, ?it/s]"
      ]
     },
     "metadata": {},
     "output_type": "display_data"
    },
    {
     "name": "stdout",
     "output_type": "stream",
     "text": [
      "  Using Representation Models: PartOfSpeech\n"
     ]
    },
    {
     "data": {
      "application/vnd.jupyter.widget-view+json": {
       "model_id": "449e50d157f24a12bf4d585d31f07e64",
       "version_major": 2,
       "version_minor": 0
      },
      "text/plain": [
       "Batches:   0%|          | 0/256 [00:00<?, ?it/s]"
      ]
     },
     "metadata": {},
     "output_type": "display_data"
    },
    {
     "name": "stdout",
     "output_type": "stream",
     "text": [
      "  Using Representation Models: MaximalMarginalRelevance\n"
     ]
    },
    {
     "data": {
      "application/vnd.jupyter.widget-view+json": {
       "model_id": "1b14f9008ee44ea38daddab68718f87c",
       "version_major": 2,
       "version_minor": 0
      },
      "text/plain": [
       "Batches:   0%|          | 0/256 [00:00<?, ?it/s]"
      ]
     },
     "metadata": {},
     "output_type": "display_data"
    },
    {
     "name": "stdout",
     "output_type": "stream",
     "text": [
      "\n",
      "Testing with Embedding: DistilBERT\n",
      "  Applying Dimensionality Reduction: PCA\n",
      "  Using Clustering: HDBSCAN\n",
      "  Using Representation Models: KeyBERTInspired\n",
      "  Using Representation Models: PartOfSpeech\n",
      "  Using Representation Models: MaximalMarginalRelevance\n",
      "  Using Clustering: AgglomerativeClustering\n",
      "  Using Representation Models: KeyBERTInspired\n"
     ]
    },
    {
     "data": {
      "application/vnd.jupyter.widget-view+json": {
       "model_id": "f8a2f29d34664353b5436c6ebeba925f",
       "version_major": 2,
       "version_minor": 0
      },
      "text/plain": [
       "Batches:   0%|          | 0/256 [00:00<?, ?it/s]"
      ]
     },
     "metadata": {},
     "output_type": "display_data"
    },
    {
     "name": "stdout",
     "output_type": "stream",
     "text": [
      "  Using Representation Models: PartOfSpeech\n"
     ]
    },
    {
     "data": {
      "application/vnd.jupyter.widget-view+json": {
       "model_id": "dc938a6f6440481088c4007608d4838b",
       "version_major": 2,
       "version_minor": 0
      },
      "text/plain": [
       "Batches:   0%|          | 0/256 [00:00<?, ?it/s]"
      ]
     },
     "metadata": {},
     "output_type": "display_data"
    },
    {
     "name": "stdout",
     "output_type": "stream",
     "text": [
      "  Using Representation Models: MaximalMarginalRelevance\n"
     ]
    },
    {
     "data": {
      "application/vnd.jupyter.widget-view+json": {
       "model_id": "d1b1e6ea4b564370be72eeb06d8fa064",
       "version_major": 2,
       "version_minor": 0
      },
      "text/plain": [
       "Batches:   0%|          | 0/256 [00:00<?, ?it/s]"
      ]
     },
     "metadata": {},
     "output_type": "display_data"
    },
    {
     "name": "stdout",
     "output_type": "stream",
     "text": [
      "  Using Clustering: DBSCAN\n",
      "  Using Representation Models: KeyBERTInspired\n",
      "  Using Representation Models: PartOfSpeech\n",
      "  Using Representation Models: MaximalMarginalRelevance\n",
      "  Using Clustering: SpectralClustering\n",
      "  Using Representation Models: KeyBERTInspired\n"
     ]
    },
    {
     "data": {
      "application/vnd.jupyter.widget-view+json": {
       "model_id": "4e095ab2cf5e48988d0c6910ad37516b",
       "version_major": 2,
       "version_minor": 0
      },
      "text/plain": [
       "Batches:   0%|          | 0/256 [00:00<?, ?it/s]"
      ]
     },
     "metadata": {},
     "output_type": "display_data"
    },
    {
     "name": "stdout",
     "output_type": "stream",
     "text": [
      "  Using Representation Models: PartOfSpeech\n"
     ]
    },
    {
     "data": {
      "application/vnd.jupyter.widget-view+json": {
       "model_id": "ce58801488d74d9c995e65d5e55944c3",
       "version_major": 2,
       "version_minor": 0
      },
      "text/plain": [
       "Batches:   0%|          | 0/256 [00:00<?, ?it/s]"
      ]
     },
     "metadata": {},
     "output_type": "display_data"
    },
    {
     "name": "stdout",
     "output_type": "stream",
     "text": [
      "  Using Representation Models: MaximalMarginalRelevance\n"
     ]
    },
    {
     "data": {
      "application/vnd.jupyter.widget-view+json": {
       "model_id": "c06a42e56fac4464927b30910571319e",
       "version_major": 2,
       "version_minor": 0
      },
      "text/plain": [
       "Batches:   0%|          | 0/256 [00:00<?, ?it/s]"
      ]
     },
     "metadata": {},
     "output_type": "display_data"
    },
    {
     "name": "stdout",
     "output_type": "stream",
     "text": [
      "  Using Clustering: GaussianMixture\n",
      "  Using Representation Models: KeyBERTInspired\n"
     ]
    },
    {
     "data": {
      "application/vnd.jupyter.widget-view+json": {
       "model_id": "e4d7492bbd82453b8bdb8cb6f1246813",
       "version_major": 2,
       "version_minor": 0
      },
      "text/plain": [
       "Batches:   0%|          | 0/256 [00:00<?, ?it/s]"
      ]
     },
     "metadata": {},
     "output_type": "display_data"
    },
    {
     "name": "stdout",
     "output_type": "stream",
     "text": [
      "  Using Representation Models: PartOfSpeech\n"
     ]
    },
    {
     "data": {
      "application/vnd.jupyter.widget-view+json": {
       "model_id": "1700412641394039b0b0ed30e914dd6f",
       "version_major": 2,
       "version_minor": 0
      },
      "text/plain": [
       "Batches:   0%|          | 0/256 [00:00<?, ?it/s]"
      ]
     },
     "metadata": {},
     "output_type": "display_data"
    },
    {
     "name": "stdout",
     "output_type": "stream",
     "text": [
      "  Using Representation Models: MaximalMarginalRelevance\n"
     ]
    },
    {
     "data": {
      "application/vnd.jupyter.widget-view+json": {
       "model_id": "55086b77cb76431a8f689494261b044c",
       "version_major": 2,
       "version_minor": 0
      },
      "text/plain": [
       "Batches:   0%|          | 0/256 [00:00<?, ?it/s]"
      ]
     },
     "metadata": {},
     "output_type": "display_data"
    },
    {
     "name": "stdout",
     "output_type": "stream",
     "text": [
      "  Using Clustering: KMeans\n",
      "  Using Representation Models: KeyBERTInspired\n"
     ]
    },
    {
     "data": {
      "application/vnd.jupyter.widget-view+json": {
       "model_id": "f11d42cb26184a759dc3490ea137f5bf",
       "version_major": 2,
       "version_minor": 0
      },
      "text/plain": [
       "Batches:   0%|          | 0/256 [00:00<?, ?it/s]"
      ]
     },
     "metadata": {},
     "output_type": "display_data"
    },
    {
     "name": "stdout",
     "output_type": "stream",
     "text": [
      "  Using Representation Models: PartOfSpeech\n"
     ]
    },
    {
     "data": {
      "application/vnd.jupyter.widget-view+json": {
       "model_id": "854f655ea11f4ea98caf3be3ab0e16e5",
       "version_major": 2,
       "version_minor": 0
      },
      "text/plain": [
       "Batches:   0%|          | 0/256 [00:00<?, ?it/s]"
      ]
     },
     "metadata": {},
     "output_type": "display_data"
    },
    {
     "name": "stdout",
     "output_type": "stream",
     "text": [
      "  Using Representation Models: MaximalMarginalRelevance\n"
     ]
    },
    {
     "data": {
      "application/vnd.jupyter.widget-view+json": {
       "model_id": "a4341b4069f047e591cdf642ed70fc15",
       "version_major": 2,
       "version_minor": 0
      },
      "text/plain": [
       "Batches:   0%|          | 0/256 [00:00<?, ?it/s]"
      ]
     },
     "metadata": {},
     "output_type": "display_data"
    },
    {
     "name": "stdout",
     "output_type": "stream",
     "text": [
      "  Applying Dimensionality Reduction: UMAP\n",
      "  Using Clustering: HDBSCAN\n",
      "  Using Representation Models: KeyBERTInspired\n",
      "  Using Representation Models: PartOfSpeech\n",
      "  Using Representation Models: MaximalMarginalRelevance\n",
      "  Using Clustering: AgglomerativeClustering\n",
      "  Using Representation Models: KeyBERTInspired\n"
     ]
    },
    {
     "data": {
      "application/vnd.jupyter.widget-view+json": {
       "model_id": "d115d17bfb774cf8bb4b01c47afc5cf6",
       "version_major": 2,
       "version_minor": 0
      },
      "text/plain": [
       "Batches:   0%|          | 0/256 [00:00<?, ?it/s]"
      ]
     },
     "metadata": {},
     "output_type": "display_data"
    },
    {
     "name": "stdout",
     "output_type": "stream",
     "text": [
      "  Using Representation Models: PartOfSpeech\n"
     ]
    },
    {
     "data": {
      "application/vnd.jupyter.widget-view+json": {
       "model_id": "bd2347de580644e890a005b84a90f003",
       "version_major": 2,
       "version_minor": 0
      },
      "text/plain": [
       "Batches:   0%|          | 0/256 [00:00<?, ?it/s]"
      ]
     },
     "metadata": {},
     "output_type": "display_data"
    },
    {
     "name": "stdout",
     "output_type": "stream",
     "text": [
      "  Using Representation Models: MaximalMarginalRelevance\n"
     ]
    },
    {
     "data": {
      "application/vnd.jupyter.widget-view+json": {
       "model_id": "f47f3ddf37b84559b596bb0eb09e37d0",
       "version_major": 2,
       "version_minor": 0
      },
      "text/plain": [
       "Batches:   0%|          | 0/256 [00:00<?, ?it/s]"
      ]
     },
     "metadata": {},
     "output_type": "display_data"
    },
    {
     "name": "stdout",
     "output_type": "stream",
     "text": [
      "  Using Clustering: DBSCAN\n",
      "  Using Representation Models: KeyBERTInspired\n",
      "  Using Representation Models: PartOfSpeech\n",
      "  Using Representation Models: MaximalMarginalRelevance\n",
      "  Using Clustering: SpectralClustering\n",
      "  Using Representation Models: KeyBERTInspired\n"
     ]
    },
    {
     "data": {
      "application/vnd.jupyter.widget-view+json": {
       "model_id": "cfcb2c01c6c645af916a5353fa4c16dd",
       "version_major": 2,
       "version_minor": 0
      },
      "text/plain": [
       "Batches:   0%|          | 0/256 [00:00<?, ?it/s]"
      ]
     },
     "metadata": {},
     "output_type": "display_data"
    },
    {
     "name": "stdout",
     "output_type": "stream",
     "text": [
      "  Using Representation Models: PartOfSpeech\n"
     ]
    },
    {
     "data": {
      "application/vnd.jupyter.widget-view+json": {
       "model_id": "ab0eebf652de46cf89a456d8bd747cbf",
       "version_major": 2,
       "version_minor": 0
      },
      "text/plain": [
       "Batches:   0%|          | 0/256 [00:00<?, ?it/s]"
      ]
     },
     "metadata": {},
     "output_type": "display_data"
    },
    {
     "name": "stdout",
     "output_type": "stream",
     "text": [
      "  Using Representation Models: MaximalMarginalRelevance\n"
     ]
    },
    {
     "data": {
      "application/vnd.jupyter.widget-view+json": {
       "model_id": "4c8e3b62ee754bb3b37457d54a6418e4",
       "version_major": 2,
       "version_minor": 0
      },
      "text/plain": [
       "Batches:   0%|          | 0/256 [00:00<?, ?it/s]"
      ]
     },
     "metadata": {},
     "output_type": "display_data"
    },
    {
     "name": "stdout",
     "output_type": "stream",
     "text": [
      "  Using Clustering: GaussianMixture\n",
      "  Using Representation Models: KeyBERTInspired\n"
     ]
    },
    {
     "data": {
      "application/vnd.jupyter.widget-view+json": {
       "model_id": "02770cc383dd4b8e9135a970f3c817c5",
       "version_major": 2,
       "version_minor": 0
      },
      "text/plain": [
       "Batches:   0%|          | 0/256 [00:00<?, ?it/s]"
      ]
     },
     "metadata": {},
     "output_type": "display_data"
    },
    {
     "name": "stdout",
     "output_type": "stream",
     "text": [
      "  Using Representation Models: PartOfSpeech\n"
     ]
    },
    {
     "data": {
      "application/vnd.jupyter.widget-view+json": {
       "model_id": "b1de6c79b8a24756af51bc49901ec274",
       "version_major": 2,
       "version_minor": 0
      },
      "text/plain": [
       "Batches:   0%|          | 0/256 [00:00<?, ?it/s]"
      ]
     },
     "metadata": {},
     "output_type": "display_data"
    },
    {
     "name": "stdout",
     "output_type": "stream",
     "text": [
      "  Using Representation Models: MaximalMarginalRelevance\n"
     ]
    },
    {
     "data": {
      "application/vnd.jupyter.widget-view+json": {
       "model_id": "648c1c3097884536bbc281283d09d9f5",
       "version_major": 2,
       "version_minor": 0
      },
      "text/plain": [
       "Batches:   0%|          | 0/256 [00:00<?, ?it/s]"
      ]
     },
     "metadata": {},
     "output_type": "display_data"
    },
    {
     "name": "stdout",
     "output_type": "stream",
     "text": [
      "  Using Clustering: KMeans\n",
      "  Using Representation Models: KeyBERTInspired\n"
     ]
    },
    {
     "data": {
      "application/vnd.jupyter.widget-view+json": {
       "model_id": "ac043b30c9974e12ab2138138a4d5c22",
       "version_major": 2,
       "version_minor": 0
      },
      "text/plain": [
       "Batches:   0%|          | 0/256 [00:00<?, ?it/s]"
      ]
     },
     "metadata": {},
     "output_type": "display_data"
    },
    {
     "name": "stdout",
     "output_type": "stream",
     "text": [
      "  Using Representation Models: PartOfSpeech\n"
     ]
    },
    {
     "data": {
      "application/vnd.jupyter.widget-view+json": {
       "model_id": "6f40ca45ee394d4ba0e1a858b186f753",
       "version_major": 2,
       "version_minor": 0
      },
      "text/plain": [
       "Batches:   0%|          | 0/256 [00:00<?, ?it/s]"
      ]
     },
     "metadata": {},
     "output_type": "display_data"
    },
    {
     "name": "stdout",
     "output_type": "stream",
     "text": [
      "  Using Representation Models: MaximalMarginalRelevance\n"
     ]
    },
    {
     "data": {
      "application/vnd.jupyter.widget-view+json": {
       "model_id": "46b565ba3db04714b2d1372f580626d9",
       "version_major": 2,
       "version_minor": 0
      },
      "text/plain": [
       "Batches:   0%|          | 0/256 [00:00<?, ?it/s]"
      ]
     },
     "metadata": {},
     "output_type": "display_data"
    },
    {
     "name": "stdout",
     "output_type": "stream",
     "text": [
      "  Applying Dimensionality Reduction: TruncatedSVD\n",
      "  Using Clustering: HDBSCAN\n",
      "  Using Representation Models: KeyBERTInspired\n",
      "  Using Representation Models: PartOfSpeech\n",
      "  Using Representation Models: MaximalMarginalRelevance\n",
      "  Using Clustering: AgglomerativeClustering\n",
      "  Using Representation Models: KeyBERTInspired\n"
     ]
    },
    {
     "data": {
      "application/vnd.jupyter.widget-view+json": {
       "model_id": "619b175a6d5f4bb991ff145a6a8f1b86",
       "version_major": 2,
       "version_minor": 0
      },
      "text/plain": [
       "Batches:   0%|          | 0/256 [00:00<?, ?it/s]"
      ]
     },
     "metadata": {},
     "output_type": "display_data"
    },
    {
     "name": "stdout",
     "output_type": "stream",
     "text": [
      "  Using Representation Models: PartOfSpeech\n"
     ]
    },
    {
     "data": {
      "application/vnd.jupyter.widget-view+json": {
       "model_id": "ff5b3b3d906244718e9bbb474b9e159c",
       "version_major": 2,
       "version_minor": 0
      },
      "text/plain": [
       "Batches:   0%|          | 0/256 [00:00<?, ?it/s]"
      ]
     },
     "metadata": {},
     "output_type": "display_data"
    },
    {
     "name": "stdout",
     "output_type": "stream",
     "text": [
      "  Using Representation Models: MaximalMarginalRelevance\n"
     ]
    },
    {
     "data": {
      "application/vnd.jupyter.widget-view+json": {
       "model_id": "0205e106b8cc4c69acb4f8d4cf3da426",
       "version_major": 2,
       "version_minor": 0
      },
      "text/plain": [
       "Batches:   0%|          | 0/256 [00:00<?, ?it/s]"
      ]
     },
     "metadata": {},
     "output_type": "display_data"
    },
    {
     "name": "stdout",
     "output_type": "stream",
     "text": [
      "  Using Clustering: DBSCAN\n",
      "  Using Representation Models: KeyBERTInspired\n",
      "  Using Representation Models: PartOfSpeech\n",
      "  Using Representation Models: MaximalMarginalRelevance\n",
      "  Using Clustering: SpectralClustering\n",
      "  Using Representation Models: KeyBERTInspired\n"
     ]
    },
    {
     "data": {
      "application/vnd.jupyter.widget-view+json": {
       "model_id": "1d2e81fffe944d409f894a481abe7265",
       "version_major": 2,
       "version_minor": 0
      },
      "text/plain": [
       "Batches:   0%|          | 0/256 [00:00<?, ?it/s]"
      ]
     },
     "metadata": {},
     "output_type": "display_data"
    },
    {
     "name": "stdout",
     "output_type": "stream",
     "text": [
      "  Using Representation Models: PartOfSpeech\n"
     ]
    },
    {
     "data": {
      "application/vnd.jupyter.widget-view+json": {
       "model_id": "35c3f62398e84ecf8a659b2a636fd181",
       "version_major": 2,
       "version_minor": 0
      },
      "text/plain": [
       "Batches:   0%|          | 0/256 [00:00<?, ?it/s]"
      ]
     },
     "metadata": {},
     "output_type": "display_data"
    },
    {
     "name": "stdout",
     "output_type": "stream",
     "text": [
      "  Using Representation Models: MaximalMarginalRelevance\n"
     ]
    },
    {
     "data": {
      "application/vnd.jupyter.widget-view+json": {
       "model_id": "2f363da928ec4b1ea4f8fcd18ef8ba88",
       "version_major": 2,
       "version_minor": 0
      },
      "text/plain": [
       "Batches:   0%|          | 0/256 [00:00<?, ?it/s]"
      ]
     },
     "metadata": {},
     "output_type": "display_data"
    },
    {
     "name": "stdout",
     "output_type": "stream",
     "text": [
      "  Using Clustering: GaussianMixture\n",
      "  Using Representation Models: KeyBERTInspired\n"
     ]
    },
    {
     "data": {
      "application/vnd.jupyter.widget-view+json": {
       "model_id": "14cfc175f21b436490b5cbe9ce1bf69e",
       "version_major": 2,
       "version_minor": 0
      },
      "text/plain": [
       "Batches:   0%|          | 0/256 [00:00<?, ?it/s]"
      ]
     },
     "metadata": {},
     "output_type": "display_data"
    },
    {
     "name": "stdout",
     "output_type": "stream",
     "text": [
      "  Using Representation Models: PartOfSpeech\n"
     ]
    },
    {
     "data": {
      "application/vnd.jupyter.widget-view+json": {
       "model_id": "3b4eea9d432446d390f84aa9d1bc08a9",
       "version_major": 2,
       "version_minor": 0
      },
      "text/plain": [
       "Batches:   0%|          | 0/256 [00:00<?, ?it/s]"
      ]
     },
     "metadata": {},
     "output_type": "display_data"
    },
    {
     "name": "stdout",
     "output_type": "stream",
     "text": [
      "  Using Representation Models: MaximalMarginalRelevance\n"
     ]
    },
    {
     "data": {
      "application/vnd.jupyter.widget-view+json": {
       "model_id": "a5600fa1035e458fa877be6cf1a6a3fa",
       "version_major": 2,
       "version_minor": 0
      },
      "text/plain": [
       "Batches:   0%|          | 0/256 [00:00<?, ?it/s]"
      ]
     },
     "metadata": {},
     "output_type": "display_data"
    },
    {
     "name": "stdout",
     "output_type": "stream",
     "text": [
      "  Using Clustering: KMeans\n",
      "  Using Representation Models: KeyBERTInspired\n"
     ]
    },
    {
     "data": {
      "application/vnd.jupyter.widget-view+json": {
       "model_id": "06969cc8d58544ba82206ea06ed8670d",
       "version_major": 2,
       "version_minor": 0
      },
      "text/plain": [
       "Batches:   0%|          | 0/256 [00:00<?, ?it/s]"
      ]
     },
     "metadata": {},
     "output_type": "display_data"
    },
    {
     "name": "stdout",
     "output_type": "stream",
     "text": [
      "  Using Representation Models: PartOfSpeech\n"
     ]
    },
    {
     "data": {
      "application/vnd.jupyter.widget-view+json": {
       "model_id": "38c082e9e1164573a215623d40f2a07e",
       "version_major": 2,
       "version_minor": 0
      },
      "text/plain": [
       "Batches:   0%|          | 0/256 [00:00<?, ?it/s]"
      ]
     },
     "metadata": {},
     "output_type": "display_data"
    },
    {
     "name": "stdout",
     "output_type": "stream",
     "text": [
      "  Using Representation Models: MaximalMarginalRelevance\n"
     ]
    },
    {
     "data": {
      "application/vnd.jupyter.widget-view+json": {
       "model_id": "c278e60d44a14568985c3dc3cc113c8d",
       "version_major": 2,
       "version_minor": 0
      },
      "text/plain": [
       "Batches:   0%|          | 0/256 [00:00<?, ?it/s]"
      ]
     },
     "metadata": {},
     "output_type": "display_data"
    },
    {
     "name": "stdout",
     "output_type": "stream",
     "text": [
      "\n",
      "Testing with Embedding: ALBERT\n",
      "  Applying Dimensionality Reduction: PCA\n",
      "  Using Clustering: HDBSCAN\n",
      "  Using Representation Models: KeyBERTInspired\n",
      "  Using Representation Models: PartOfSpeech\n",
      "  Using Representation Models: MaximalMarginalRelevance\n",
      "  Using Clustering: AgglomerativeClustering\n",
      "  Using Representation Models: KeyBERTInspired\n"
     ]
    },
    {
     "data": {
      "application/vnd.jupyter.widget-view+json": {
       "model_id": "b3288e62899b48668849de5fb1742697",
       "version_major": 2,
       "version_minor": 0
      },
      "text/plain": [
       "Batches:   0%|          | 0/256 [00:00<?, ?it/s]"
      ]
     },
     "metadata": {},
     "output_type": "display_data"
    },
    {
     "name": "stdout",
     "output_type": "stream",
     "text": [
      "  Using Representation Models: PartOfSpeech\n"
     ]
    },
    {
     "data": {
      "application/vnd.jupyter.widget-view+json": {
       "model_id": "d9dee53ac8ec413d83d3cde726abd2b8",
       "version_major": 2,
       "version_minor": 0
      },
      "text/plain": [
       "Batches:   0%|          | 0/256 [00:00<?, ?it/s]"
      ]
     },
     "metadata": {},
     "output_type": "display_data"
    },
    {
     "name": "stdout",
     "output_type": "stream",
     "text": [
      "  Using Representation Models: MaximalMarginalRelevance\n"
     ]
    },
    {
     "data": {
      "application/vnd.jupyter.widget-view+json": {
       "model_id": "c43584a2e9254705af303ca2974cdeab",
       "version_major": 2,
       "version_minor": 0
      },
      "text/plain": [
       "Batches:   0%|          | 0/256 [00:00<?, ?it/s]"
      ]
     },
     "metadata": {},
     "output_type": "display_data"
    },
    {
     "name": "stdout",
     "output_type": "stream",
     "text": [
      "  Using Clustering: DBSCAN\n",
      "  Using Representation Models: KeyBERTInspired\n",
      "  Using Representation Models: PartOfSpeech\n",
      "  Using Representation Models: MaximalMarginalRelevance\n",
      "  Using Clustering: SpectralClustering\n",
      "  Using Representation Models: KeyBERTInspired\n"
     ]
    },
    {
     "data": {
      "application/vnd.jupyter.widget-view+json": {
       "model_id": "5412371264e045e59c88f75e73de4ae8",
       "version_major": 2,
       "version_minor": 0
      },
      "text/plain": [
       "Batches:   0%|          | 0/256 [00:00<?, ?it/s]"
      ]
     },
     "metadata": {},
     "output_type": "display_data"
    },
    {
     "name": "stdout",
     "output_type": "stream",
     "text": [
      "  Using Representation Models: PartOfSpeech\n"
     ]
    },
    {
     "data": {
      "application/vnd.jupyter.widget-view+json": {
       "model_id": "06ffbb705b564956a2b53bb28cc4f9bf",
       "version_major": 2,
       "version_minor": 0
      },
      "text/plain": [
       "Batches:   0%|          | 0/256 [00:00<?, ?it/s]"
      ]
     },
     "metadata": {},
     "output_type": "display_data"
    },
    {
     "name": "stdout",
     "output_type": "stream",
     "text": [
      "  Using Representation Models: MaximalMarginalRelevance\n"
     ]
    },
    {
     "data": {
      "application/vnd.jupyter.widget-view+json": {
       "model_id": "3bf6a286f2234c739711e2376e6e512d",
       "version_major": 2,
       "version_minor": 0
      },
      "text/plain": [
       "Batches:   0%|          | 0/256 [00:00<?, ?it/s]"
      ]
     },
     "metadata": {},
     "output_type": "display_data"
    },
    {
     "name": "stdout",
     "output_type": "stream",
     "text": [
      "  Using Clustering: GaussianMixture\n",
      "  Using Representation Models: KeyBERTInspired\n"
     ]
    },
    {
     "data": {
      "application/vnd.jupyter.widget-view+json": {
       "model_id": "7c0394a06d4d4b929a96857dab5be8d5",
       "version_major": 2,
       "version_minor": 0
      },
      "text/plain": [
       "Batches:   0%|          | 0/256 [00:00<?, ?it/s]"
      ]
     },
     "metadata": {},
     "output_type": "display_data"
    },
    {
     "name": "stdout",
     "output_type": "stream",
     "text": [
      "  Using Representation Models: PartOfSpeech\n"
     ]
    },
    {
     "data": {
      "application/vnd.jupyter.widget-view+json": {
       "model_id": "cfcd9c29f42447359b39cbc37fce15ef",
       "version_major": 2,
       "version_minor": 0
      },
      "text/plain": [
       "Batches:   0%|          | 0/256 [00:00<?, ?it/s]"
      ]
     },
     "metadata": {},
     "output_type": "display_data"
    },
    {
     "name": "stdout",
     "output_type": "stream",
     "text": [
      "  Using Representation Models: MaximalMarginalRelevance\n"
     ]
    },
    {
     "data": {
      "application/vnd.jupyter.widget-view+json": {
       "model_id": "b3b844e48fcd4600850f597cdedaa5a6",
       "version_major": 2,
       "version_minor": 0
      },
      "text/plain": [
       "Batches:   0%|          | 0/256 [00:00<?, ?it/s]"
      ]
     },
     "metadata": {},
     "output_type": "display_data"
    },
    {
     "name": "stdout",
     "output_type": "stream",
     "text": [
      "  Using Clustering: KMeans\n",
      "  Using Representation Models: KeyBERTInspired\n"
     ]
    },
    {
     "data": {
      "application/vnd.jupyter.widget-view+json": {
       "model_id": "1f6654a64d41408496c9b99f1a53b2ea",
       "version_major": 2,
       "version_minor": 0
      },
      "text/plain": [
       "Batches:   0%|          | 0/256 [00:00<?, ?it/s]"
      ]
     },
     "metadata": {},
     "output_type": "display_data"
    },
    {
     "name": "stdout",
     "output_type": "stream",
     "text": [
      "  Using Representation Models: PartOfSpeech\n"
     ]
    },
    {
     "data": {
      "application/vnd.jupyter.widget-view+json": {
       "model_id": "dcfdff46ad0b422ca2a4a42081fd0a5f",
       "version_major": 2,
       "version_minor": 0
      },
      "text/plain": [
       "Batches:   0%|          | 0/256 [00:00<?, ?it/s]"
      ]
     },
     "metadata": {},
     "output_type": "display_data"
    },
    {
     "name": "stdout",
     "output_type": "stream",
     "text": [
      "  Using Representation Models: MaximalMarginalRelevance\n"
     ]
    },
    {
     "data": {
      "application/vnd.jupyter.widget-view+json": {
       "model_id": "82b140f093f54b45be331d16c9382122",
       "version_major": 2,
       "version_minor": 0
      },
      "text/plain": [
       "Batches:   0%|          | 0/256 [00:00<?, ?it/s]"
      ]
     },
     "metadata": {},
     "output_type": "display_data"
    },
    {
     "name": "stdout",
     "output_type": "stream",
     "text": [
      "  Applying Dimensionality Reduction: UMAP\n",
      "  Using Clustering: HDBSCAN\n",
      "  Using Representation Models: KeyBERTInspired\n",
      "  Using Representation Models: PartOfSpeech\n",
      "  Using Representation Models: MaximalMarginalRelevance\n",
      "  Using Clustering: AgglomerativeClustering\n",
      "  Using Representation Models: KeyBERTInspired\n"
     ]
    },
    {
     "data": {
      "application/vnd.jupyter.widget-view+json": {
       "model_id": "39ef3d76bcbd42cf987e32aee13308c8",
       "version_major": 2,
       "version_minor": 0
      },
      "text/plain": [
       "Batches:   0%|          | 0/256 [00:00<?, ?it/s]"
      ]
     },
     "metadata": {},
     "output_type": "display_data"
    },
    {
     "name": "stdout",
     "output_type": "stream",
     "text": [
      "  Using Representation Models: PartOfSpeech\n"
     ]
    },
    {
     "data": {
      "application/vnd.jupyter.widget-view+json": {
       "model_id": "f3f5933671404371b4b17c23a9ee701c",
       "version_major": 2,
       "version_minor": 0
      },
      "text/plain": [
       "Batches:   0%|          | 0/256 [00:00<?, ?it/s]"
      ]
     },
     "metadata": {},
     "output_type": "display_data"
    },
    {
     "name": "stdout",
     "output_type": "stream",
     "text": [
      "  Using Representation Models: MaximalMarginalRelevance\n"
     ]
    },
    {
     "data": {
      "application/vnd.jupyter.widget-view+json": {
       "model_id": "d9010950701645b9bffed873ec52066a",
       "version_major": 2,
       "version_minor": 0
      },
      "text/plain": [
       "Batches:   0%|          | 0/256 [00:00<?, ?it/s]"
      ]
     },
     "metadata": {},
     "output_type": "display_data"
    },
    {
     "name": "stdout",
     "output_type": "stream",
     "text": [
      "  Using Clustering: DBSCAN\n",
      "  Using Representation Models: KeyBERTInspired\n",
      "  Using Representation Models: PartOfSpeech\n",
      "  Using Representation Models: MaximalMarginalRelevance\n",
      "  Using Clustering: SpectralClustering\n",
      "  Using Representation Models: KeyBERTInspired\n"
     ]
    },
    {
     "data": {
      "application/vnd.jupyter.widget-view+json": {
       "model_id": "8deb0db04e3747d48131f63713b57ded",
       "version_major": 2,
       "version_minor": 0
      },
      "text/plain": [
       "Batches:   0%|          | 0/256 [00:00<?, ?it/s]"
      ]
     },
     "metadata": {},
     "output_type": "display_data"
    },
    {
     "name": "stdout",
     "output_type": "stream",
     "text": [
      "  Using Representation Models: PartOfSpeech\n"
     ]
    },
    {
     "data": {
      "application/vnd.jupyter.widget-view+json": {
       "model_id": "6749fb54828343e7af39a443bae6145c",
       "version_major": 2,
       "version_minor": 0
      },
      "text/plain": [
       "Batches:   0%|          | 0/256 [00:00<?, ?it/s]"
      ]
     },
     "metadata": {},
     "output_type": "display_data"
    },
    {
     "name": "stdout",
     "output_type": "stream",
     "text": [
      "  Using Representation Models: MaximalMarginalRelevance\n"
     ]
    },
    {
     "data": {
      "application/vnd.jupyter.widget-view+json": {
       "model_id": "0847db68e48547c88d7896cc7cb5306e",
       "version_major": 2,
       "version_minor": 0
      },
      "text/plain": [
       "Batches:   0%|          | 0/256 [00:00<?, ?it/s]"
      ]
     },
     "metadata": {},
     "output_type": "display_data"
    },
    {
     "name": "stdout",
     "output_type": "stream",
     "text": [
      "  Using Clustering: GaussianMixture\n",
      "  Using Representation Models: KeyBERTInspired\n"
     ]
    },
    {
     "data": {
      "application/vnd.jupyter.widget-view+json": {
       "model_id": "25067c6e670c40e58dc91add09dfae8a",
       "version_major": 2,
       "version_minor": 0
      },
      "text/plain": [
       "Batches:   0%|          | 0/256 [00:00<?, ?it/s]"
      ]
     },
     "metadata": {},
     "output_type": "display_data"
    },
    {
     "name": "stdout",
     "output_type": "stream",
     "text": [
      "  Using Representation Models: PartOfSpeech\n"
     ]
    },
    {
     "data": {
      "application/vnd.jupyter.widget-view+json": {
       "model_id": "8dbc0e0fa1be42d4b9b9a97eae33ec70",
       "version_major": 2,
       "version_minor": 0
      },
      "text/plain": [
       "Batches:   0%|          | 0/256 [00:00<?, ?it/s]"
      ]
     },
     "metadata": {},
     "output_type": "display_data"
    },
    {
     "name": "stdout",
     "output_type": "stream",
     "text": [
      "  Using Representation Models: MaximalMarginalRelevance\n"
     ]
    },
    {
     "data": {
      "application/vnd.jupyter.widget-view+json": {
       "model_id": "957c03039fda46669e0796b60ce1f09d",
       "version_major": 2,
       "version_minor": 0
      },
      "text/plain": [
       "Batches:   0%|          | 0/256 [00:00<?, ?it/s]"
      ]
     },
     "metadata": {},
     "output_type": "display_data"
    },
    {
     "name": "stdout",
     "output_type": "stream",
     "text": [
      "  Using Clustering: KMeans\n",
      "  Using Representation Models: KeyBERTInspired\n"
     ]
    },
    {
     "data": {
      "application/vnd.jupyter.widget-view+json": {
       "model_id": "96e3e213c0fe4e1c997ec2012e79ada7",
       "version_major": 2,
       "version_minor": 0
      },
      "text/plain": [
       "Batches:   0%|          | 0/256 [00:00<?, ?it/s]"
      ]
     },
     "metadata": {},
     "output_type": "display_data"
    },
    {
     "name": "stdout",
     "output_type": "stream",
     "text": [
      "  Using Representation Models: PartOfSpeech\n"
     ]
    },
    {
     "data": {
      "application/vnd.jupyter.widget-view+json": {
       "model_id": "06984e9bf2334111b2eb8d763828479c",
       "version_major": 2,
       "version_minor": 0
      },
      "text/plain": [
       "Batches:   0%|          | 0/256 [00:00<?, ?it/s]"
      ]
     },
     "metadata": {},
     "output_type": "display_data"
    },
    {
     "name": "stdout",
     "output_type": "stream",
     "text": [
      "  Using Representation Models: MaximalMarginalRelevance\n"
     ]
    },
    {
     "data": {
      "application/vnd.jupyter.widget-view+json": {
       "model_id": "660c70064f8a456da1b07270377effc5",
       "version_major": 2,
       "version_minor": 0
      },
      "text/plain": [
       "Batches:   0%|          | 0/256 [00:00<?, ?it/s]"
      ]
     },
     "metadata": {},
     "output_type": "display_data"
    },
    {
     "name": "stdout",
     "output_type": "stream",
     "text": [
      "  Applying Dimensionality Reduction: TruncatedSVD\n",
      "  Using Clustering: HDBSCAN\n",
      "  Using Representation Models: KeyBERTInspired\n",
      "  Using Representation Models: PartOfSpeech\n",
      "  Using Representation Models: MaximalMarginalRelevance\n",
      "  Using Clustering: AgglomerativeClustering\n",
      "  Using Representation Models: KeyBERTInspired\n"
     ]
    },
    {
     "data": {
      "application/vnd.jupyter.widget-view+json": {
       "model_id": "c5c1507bd95c4010b4bb12c757bf7059",
       "version_major": 2,
       "version_minor": 0
      },
      "text/plain": [
       "Batches:   0%|          | 0/256 [00:00<?, ?it/s]"
      ]
     },
     "metadata": {},
     "output_type": "display_data"
    },
    {
     "name": "stdout",
     "output_type": "stream",
     "text": [
      "  Using Representation Models: PartOfSpeech\n"
     ]
    },
    {
     "data": {
      "application/vnd.jupyter.widget-view+json": {
       "model_id": "6b80ff44b08547f0bf512dea9aa6f355",
       "version_major": 2,
       "version_minor": 0
      },
      "text/plain": [
       "Batches:   0%|          | 0/256 [00:00<?, ?it/s]"
      ]
     },
     "metadata": {},
     "output_type": "display_data"
    },
    {
     "name": "stdout",
     "output_type": "stream",
     "text": [
      "  Using Representation Models: MaximalMarginalRelevance\n"
     ]
    },
    {
     "data": {
      "application/vnd.jupyter.widget-view+json": {
       "model_id": "bdfa5d35e4db4764b92ad9e81d72a281",
       "version_major": 2,
       "version_minor": 0
      },
      "text/plain": [
       "Batches:   0%|          | 0/256 [00:00<?, ?it/s]"
      ]
     },
     "metadata": {},
     "output_type": "display_data"
    },
    {
     "name": "stdout",
     "output_type": "stream",
     "text": [
      "  Using Clustering: DBSCAN\n",
      "  Using Representation Models: KeyBERTInspired\n",
      "  Using Representation Models: PartOfSpeech\n",
      "  Using Representation Models: MaximalMarginalRelevance\n",
      "  Using Clustering: SpectralClustering\n",
      "  Using Representation Models: KeyBERTInspired\n"
     ]
    },
    {
     "data": {
      "application/vnd.jupyter.widget-view+json": {
       "model_id": "13afb358807d4cae81ab43b039305b61",
       "version_major": 2,
       "version_minor": 0
      },
      "text/plain": [
       "Batches:   0%|          | 0/256 [00:00<?, ?it/s]"
      ]
     },
     "metadata": {},
     "output_type": "display_data"
    },
    {
     "name": "stdout",
     "output_type": "stream",
     "text": [
      "  Using Representation Models: PartOfSpeech\n"
     ]
    },
    {
     "data": {
      "application/vnd.jupyter.widget-view+json": {
       "model_id": "1ede6d743fe94d07b010cc15eda57a7a",
       "version_major": 2,
       "version_minor": 0
      },
      "text/plain": [
       "Batches:   0%|          | 0/256 [00:00<?, ?it/s]"
      ]
     },
     "metadata": {},
     "output_type": "display_data"
    },
    {
     "name": "stdout",
     "output_type": "stream",
     "text": [
      "  Using Representation Models: MaximalMarginalRelevance\n"
     ]
    },
    {
     "data": {
      "application/vnd.jupyter.widget-view+json": {
       "model_id": "6aa62b4e8d8f4bf18ee594f33a36964a",
       "version_major": 2,
       "version_minor": 0
      },
      "text/plain": [
       "Batches:   0%|          | 0/256 [00:00<?, ?it/s]"
      ]
     },
     "metadata": {},
     "output_type": "display_data"
    },
    {
     "name": "stdout",
     "output_type": "stream",
     "text": [
      "  Using Clustering: GaussianMixture\n",
      "  Using Representation Models: KeyBERTInspired\n"
     ]
    },
    {
     "data": {
      "application/vnd.jupyter.widget-view+json": {
       "model_id": "609be19c50f1400a931f7a5184a2d2db",
       "version_major": 2,
       "version_minor": 0
      },
      "text/plain": [
       "Batches:   0%|          | 0/256 [00:00<?, ?it/s]"
      ]
     },
     "metadata": {},
     "output_type": "display_data"
    },
    {
     "name": "stdout",
     "output_type": "stream",
     "text": [
      "  Using Representation Models: PartOfSpeech\n"
     ]
    },
    {
     "data": {
      "application/vnd.jupyter.widget-view+json": {
       "model_id": "e55fceb8f5b74c2eb321444cad689e60",
       "version_major": 2,
       "version_minor": 0
      },
      "text/plain": [
       "Batches:   0%|          | 0/256 [00:00<?, ?it/s]"
      ]
     },
     "metadata": {},
     "output_type": "display_data"
    },
    {
     "name": "stdout",
     "output_type": "stream",
     "text": [
      "  Using Representation Models: MaximalMarginalRelevance\n"
     ]
    },
    {
     "data": {
      "application/vnd.jupyter.widget-view+json": {
       "model_id": "4bf41bc9e06345a3bf148915ea82e9ec",
       "version_major": 2,
       "version_minor": 0
      },
      "text/plain": [
       "Batches:   0%|          | 0/256 [00:00<?, ?it/s]"
      ]
     },
     "metadata": {},
     "output_type": "display_data"
    },
    {
     "name": "stdout",
     "output_type": "stream",
     "text": [
      "  Using Clustering: KMeans\n",
      "  Using Representation Models: KeyBERTInspired\n"
     ]
    },
    {
     "data": {
      "application/vnd.jupyter.widget-view+json": {
       "model_id": "fbe5854c9afb44e7b7480f1512485364",
       "version_major": 2,
       "version_minor": 0
      },
      "text/plain": [
       "Batches:   0%|          | 0/256 [00:00<?, ?it/s]"
      ]
     },
     "metadata": {},
     "output_type": "display_data"
    },
    {
     "name": "stdout",
     "output_type": "stream",
     "text": [
      "  Using Representation Models: PartOfSpeech\n"
     ]
    },
    {
     "data": {
      "application/vnd.jupyter.widget-view+json": {
       "model_id": "aee6ce4194874288bfb4226f0969176f",
       "version_major": 2,
       "version_minor": 0
      },
      "text/plain": [
       "Batches:   0%|          | 0/256 [00:00<?, ?it/s]"
      ]
     },
     "metadata": {},
     "output_type": "display_data"
    },
    {
     "name": "stdout",
     "output_type": "stream",
     "text": [
      "  Using Representation Models: MaximalMarginalRelevance\n"
     ]
    },
    {
     "data": {
      "application/vnd.jupyter.widget-view+json": {
       "model_id": "10fbc510a8d343819191569471415cb8",
       "version_major": 2,
       "version_minor": 0
      },
      "text/plain": [
       "Batches:   0%|          | 0/256 [00:00<?, ?it/s]"
      ]
     },
     "metadata": {},
     "output_type": "display_data"
    },
    {
     "name": "stdout",
     "output_type": "stream",
     "text": [
      "\n",
      "Testing with Embedding: BigBird\n",
      "  Applying Dimensionality Reduction: PCA\n",
      "  Using Clustering: HDBSCAN\n",
      "  Using Representation Models: KeyBERTInspired\n",
      "  Using Representation Models: PartOfSpeech\n",
      "  Using Representation Models: MaximalMarginalRelevance\n",
      "  Using Clustering: AgglomerativeClustering\n",
      "  Using Representation Models: KeyBERTInspired\n"
     ]
    },
    {
     "data": {
      "application/vnd.jupyter.widget-view+json": {
       "model_id": "4b4cada3f73b4e058dd2750d68c7240f",
       "version_major": 2,
       "version_minor": 0
      },
      "text/plain": [
       "Batches:   0%|          | 0/256 [00:00<?, ?it/s]"
      ]
     },
     "metadata": {},
     "output_type": "display_data"
    },
    {
     "name": "stdout",
     "output_type": "stream",
     "text": [
      "  Using Representation Models: PartOfSpeech\n"
     ]
    },
    {
     "data": {
      "application/vnd.jupyter.widget-view+json": {
       "model_id": "bd7fadbe994247d38f5a1705f417c34c",
       "version_major": 2,
       "version_minor": 0
      },
      "text/plain": [
       "Batches:   0%|          | 0/256 [00:00<?, ?it/s]"
      ]
     },
     "metadata": {},
     "output_type": "display_data"
    },
    {
     "name": "stdout",
     "output_type": "stream",
     "text": [
      "  Using Representation Models: MaximalMarginalRelevance\n"
     ]
    },
    {
     "data": {
      "application/vnd.jupyter.widget-view+json": {
       "model_id": "360d046dde20420ba44ffd43eab18dc4",
       "version_major": 2,
       "version_minor": 0
      },
      "text/plain": [
       "Batches:   0%|          | 0/256 [00:00<?, ?it/s]"
      ]
     },
     "metadata": {},
     "output_type": "display_data"
    },
    {
     "name": "stdout",
     "output_type": "stream",
     "text": [
      "  Using Clustering: DBSCAN\n",
      "  Using Representation Models: KeyBERTInspired\n",
      "  Using Representation Models: PartOfSpeech\n",
      "  Using Representation Models: MaximalMarginalRelevance\n",
      "  Using Clustering: SpectralClustering\n",
      "  Using Representation Models: KeyBERTInspired\n"
     ]
    },
    {
     "data": {
      "application/vnd.jupyter.widget-view+json": {
       "model_id": "de25b06ff92f4f60923a6f23eb8008a2",
       "version_major": 2,
       "version_minor": 0
      },
      "text/plain": [
       "Batches:   0%|          | 0/256 [00:00<?, ?it/s]"
      ]
     },
     "metadata": {},
     "output_type": "display_data"
    },
    {
     "name": "stdout",
     "output_type": "stream",
     "text": [
      "  Using Representation Models: PartOfSpeech\n"
     ]
    },
    {
     "data": {
      "application/vnd.jupyter.widget-view+json": {
       "model_id": "533057d10ffd43f7bba104c6547f39e2",
       "version_major": 2,
       "version_minor": 0
      },
      "text/plain": [
       "Batches:   0%|          | 0/256 [00:00<?, ?it/s]"
      ]
     },
     "metadata": {},
     "output_type": "display_data"
    },
    {
     "name": "stdout",
     "output_type": "stream",
     "text": [
      "  Using Representation Models: MaximalMarginalRelevance\n"
     ]
    },
    {
     "data": {
      "application/vnd.jupyter.widget-view+json": {
       "model_id": "848fe3471b694a0e8824225824656ed4",
       "version_major": 2,
       "version_minor": 0
      },
      "text/plain": [
       "Batches:   0%|          | 0/256 [00:00<?, ?it/s]"
      ]
     },
     "metadata": {},
     "output_type": "display_data"
    },
    {
     "name": "stdout",
     "output_type": "stream",
     "text": [
      "  Using Clustering: GaussianMixture\n",
      "  Using Representation Models: KeyBERTInspired\n"
     ]
    },
    {
     "data": {
      "application/vnd.jupyter.widget-view+json": {
       "model_id": "7e55de5d3edb49b3ac8c9af3aca8905e",
       "version_major": 2,
       "version_minor": 0
      },
      "text/plain": [
       "Batches:   0%|          | 0/256 [00:00<?, ?it/s]"
      ]
     },
     "metadata": {},
     "output_type": "display_data"
    },
    {
     "name": "stdout",
     "output_type": "stream",
     "text": [
      "  Using Representation Models: PartOfSpeech\n"
     ]
    },
    {
     "data": {
      "application/vnd.jupyter.widget-view+json": {
       "model_id": "578e0bfc1f56466a8ade23630b9d092f",
       "version_major": 2,
       "version_minor": 0
      },
      "text/plain": [
       "Batches:   0%|          | 0/256 [00:00<?, ?it/s]"
      ]
     },
     "metadata": {},
     "output_type": "display_data"
    },
    {
     "name": "stdout",
     "output_type": "stream",
     "text": [
      "  Using Representation Models: MaximalMarginalRelevance\n"
     ]
    },
    {
     "data": {
      "application/vnd.jupyter.widget-view+json": {
       "model_id": "1f6fa5e5d44a4c69b121e735aa9a4563",
       "version_major": 2,
       "version_minor": 0
      },
      "text/plain": [
       "Batches:   0%|          | 0/256 [00:00<?, ?it/s]"
      ]
     },
     "metadata": {},
     "output_type": "display_data"
    },
    {
     "name": "stdout",
     "output_type": "stream",
     "text": [
      "  Using Clustering: KMeans\n",
      "  Using Representation Models: KeyBERTInspired\n"
     ]
    },
    {
     "data": {
      "application/vnd.jupyter.widget-view+json": {
       "model_id": "db2cadbbda434d3d9dbbaffc90b7faf0",
       "version_major": 2,
       "version_minor": 0
      },
      "text/plain": [
       "Batches:   0%|          | 0/256 [00:00<?, ?it/s]"
      ]
     },
     "metadata": {},
     "output_type": "display_data"
    },
    {
     "name": "stdout",
     "output_type": "stream",
     "text": [
      "  Using Representation Models: PartOfSpeech\n"
     ]
    },
    {
     "data": {
      "application/vnd.jupyter.widget-view+json": {
       "model_id": "06a4f7fb219c42a0a43ba7bbb82e9023",
       "version_major": 2,
       "version_minor": 0
      },
      "text/plain": [
       "Batches:   0%|          | 0/256 [00:00<?, ?it/s]"
      ]
     },
     "metadata": {},
     "output_type": "display_data"
    },
    {
     "name": "stdout",
     "output_type": "stream",
     "text": [
      "  Using Representation Models: MaximalMarginalRelevance\n"
     ]
    },
    {
     "data": {
      "application/vnd.jupyter.widget-view+json": {
       "model_id": "ddc35eef6d3448cf9de843e531576bb1",
       "version_major": 2,
       "version_minor": 0
      },
      "text/plain": [
       "Batches:   0%|          | 0/256 [00:00<?, ?it/s]"
      ]
     },
     "metadata": {},
     "output_type": "display_data"
    },
    {
     "name": "stdout",
     "output_type": "stream",
     "text": [
      "  Applying Dimensionality Reduction: UMAP\n",
      "  Using Clustering: HDBSCAN\n",
      "  Using Representation Models: KeyBERTInspired\n",
      "  Using Representation Models: PartOfSpeech\n",
      "  Using Representation Models: MaximalMarginalRelevance\n",
      "  Using Clustering: AgglomerativeClustering\n",
      "  Using Representation Models: KeyBERTInspired\n"
     ]
    },
    {
     "data": {
      "application/vnd.jupyter.widget-view+json": {
       "model_id": "0687c53bf4f242b48155988e2901edb8",
       "version_major": 2,
       "version_minor": 0
      },
      "text/plain": [
       "Batches:   0%|          | 0/256 [00:00<?, ?it/s]"
      ]
     },
     "metadata": {},
     "output_type": "display_data"
    },
    {
     "name": "stdout",
     "output_type": "stream",
     "text": [
      "  Using Representation Models: PartOfSpeech\n"
     ]
    },
    {
     "data": {
      "application/vnd.jupyter.widget-view+json": {
       "model_id": "1e6e87fd960e4b50bd365bea61070eb1",
       "version_major": 2,
       "version_minor": 0
      },
      "text/plain": [
       "Batches:   0%|          | 0/256 [00:00<?, ?it/s]"
      ]
     },
     "metadata": {},
     "output_type": "display_data"
    },
    {
     "name": "stdout",
     "output_type": "stream",
     "text": [
      "  Using Representation Models: MaximalMarginalRelevance\n"
     ]
    },
    {
     "data": {
      "application/vnd.jupyter.widget-view+json": {
       "model_id": "da894e8ce69d4a3aac90b99e522278e6",
       "version_major": 2,
       "version_minor": 0
      },
      "text/plain": [
       "Batches:   0%|          | 0/256 [00:00<?, ?it/s]"
      ]
     },
     "metadata": {},
     "output_type": "display_data"
    },
    {
     "name": "stdout",
     "output_type": "stream",
     "text": [
      "  Using Clustering: DBSCAN\n",
      "  Using Representation Models: KeyBERTInspired\n",
      "  Using Representation Models: PartOfSpeech\n",
      "  Using Representation Models: MaximalMarginalRelevance\n",
      "  Using Clustering: SpectralClustering\n",
      "  Using Representation Models: KeyBERTInspired\n"
     ]
    },
    {
     "data": {
      "application/vnd.jupyter.widget-view+json": {
       "model_id": "0f12880262344dab9ef353b9b22dd527",
       "version_major": 2,
       "version_minor": 0
      },
      "text/plain": [
       "Batches:   0%|          | 0/256 [00:00<?, ?it/s]"
      ]
     },
     "metadata": {},
     "output_type": "display_data"
    },
    {
     "name": "stdout",
     "output_type": "stream",
     "text": [
      "  Using Representation Models: PartOfSpeech\n"
     ]
    },
    {
     "data": {
      "application/vnd.jupyter.widget-view+json": {
       "model_id": "f10a25bfb15246dfac567a6b28575c77",
       "version_major": 2,
       "version_minor": 0
      },
      "text/plain": [
       "Batches:   0%|          | 0/256 [00:00<?, ?it/s]"
      ]
     },
     "metadata": {},
     "output_type": "display_data"
    },
    {
     "name": "stdout",
     "output_type": "stream",
     "text": [
      "  Using Representation Models: MaximalMarginalRelevance\n"
     ]
    },
    {
     "data": {
      "application/vnd.jupyter.widget-view+json": {
       "model_id": "2ddc6112f198487690500b1b5aadf568",
       "version_major": 2,
       "version_minor": 0
      },
      "text/plain": [
       "Batches:   0%|          | 0/256 [00:00<?, ?it/s]"
      ]
     },
     "metadata": {},
     "output_type": "display_data"
    },
    {
     "name": "stdout",
     "output_type": "stream",
     "text": [
      "  Using Clustering: GaussianMixture\n",
      "  Using Representation Models: KeyBERTInspired\n"
     ]
    },
    {
     "data": {
      "application/vnd.jupyter.widget-view+json": {
       "model_id": "0268978407434cbc895b3e182f781c1b",
       "version_major": 2,
       "version_minor": 0
      },
      "text/plain": [
       "Batches:   0%|          | 0/256 [00:00<?, ?it/s]"
      ]
     },
     "metadata": {},
     "output_type": "display_data"
    },
    {
     "name": "stdout",
     "output_type": "stream",
     "text": [
      "  Using Representation Models: PartOfSpeech\n"
     ]
    },
    {
     "data": {
      "application/vnd.jupyter.widget-view+json": {
       "model_id": "b76a9c9a863c4a0dbf5835b50729dcf5",
       "version_major": 2,
       "version_minor": 0
      },
      "text/plain": [
       "Batches:   0%|          | 0/256 [00:00<?, ?it/s]"
      ]
     },
     "metadata": {},
     "output_type": "display_data"
    },
    {
     "name": "stdout",
     "output_type": "stream",
     "text": [
      "  Using Representation Models: MaximalMarginalRelevance\n"
     ]
    },
    {
     "data": {
      "application/vnd.jupyter.widget-view+json": {
       "model_id": "a69b09f67f18457c85450d127a69674c",
       "version_major": 2,
       "version_minor": 0
      },
      "text/plain": [
       "Batches:   0%|          | 0/256 [00:00<?, ?it/s]"
      ]
     },
     "metadata": {},
     "output_type": "display_data"
    },
    {
     "name": "stdout",
     "output_type": "stream",
     "text": [
      "  Using Clustering: KMeans\n",
      "  Using Representation Models: KeyBERTInspired\n"
     ]
    },
    {
     "data": {
      "application/vnd.jupyter.widget-view+json": {
       "model_id": "ec6c6a111b824b33aa044ad9b63b2d5d",
       "version_major": 2,
       "version_minor": 0
      },
      "text/plain": [
       "Batches:   0%|          | 0/256 [00:00<?, ?it/s]"
      ]
     },
     "metadata": {},
     "output_type": "display_data"
    },
    {
     "name": "stdout",
     "output_type": "stream",
     "text": [
      "  Using Representation Models: PartOfSpeech\n"
     ]
    },
    {
     "data": {
      "application/vnd.jupyter.widget-view+json": {
       "model_id": "922ef5361308401bb360b37897ac1426",
       "version_major": 2,
       "version_minor": 0
      },
      "text/plain": [
       "Batches:   0%|          | 0/256 [00:00<?, ?it/s]"
      ]
     },
     "metadata": {},
     "output_type": "display_data"
    },
    {
     "name": "stdout",
     "output_type": "stream",
     "text": [
      "  Using Representation Models: MaximalMarginalRelevance\n"
     ]
    },
    {
     "data": {
      "application/vnd.jupyter.widget-view+json": {
       "model_id": "f61a32e31f4744a7bd49ac299737f09a",
       "version_major": 2,
       "version_minor": 0
      },
      "text/plain": [
       "Batches:   0%|          | 0/256 [00:00<?, ?it/s]"
      ]
     },
     "metadata": {},
     "output_type": "display_data"
    },
    {
     "name": "stdout",
     "output_type": "stream",
     "text": [
      "  Applying Dimensionality Reduction: TruncatedSVD\n",
      "  Using Clustering: HDBSCAN\n",
      "  Using Representation Models: KeyBERTInspired\n",
      "  Using Representation Models: PartOfSpeech\n",
      "  Using Representation Models: MaximalMarginalRelevance\n",
      "  Using Clustering: AgglomerativeClustering\n",
      "  Using Representation Models: KeyBERTInspired\n"
     ]
    },
    {
     "data": {
      "application/vnd.jupyter.widget-view+json": {
       "model_id": "e8e581a8c878489587405400b75e4811",
       "version_major": 2,
       "version_minor": 0
      },
      "text/plain": [
       "Batches:   0%|          | 0/256 [00:00<?, ?it/s]"
      ]
     },
     "metadata": {},
     "output_type": "display_data"
    },
    {
     "name": "stdout",
     "output_type": "stream",
     "text": [
      "  Using Representation Models: PartOfSpeech\n"
     ]
    },
    {
     "data": {
      "application/vnd.jupyter.widget-view+json": {
       "model_id": "cf01640a10324348a5bd39efdfb6ce6a",
       "version_major": 2,
       "version_minor": 0
      },
      "text/plain": [
       "Batches:   0%|          | 0/256 [00:00<?, ?it/s]"
      ]
     },
     "metadata": {},
     "output_type": "display_data"
    },
    {
     "name": "stdout",
     "output_type": "stream",
     "text": [
      "  Using Representation Models: MaximalMarginalRelevance\n"
     ]
    },
    {
     "data": {
      "application/vnd.jupyter.widget-view+json": {
       "model_id": "5ecfcb9bd0cb4b15ae5dea4b02e7f6ed",
       "version_major": 2,
       "version_minor": 0
      },
      "text/plain": [
       "Batches:   0%|          | 0/256 [00:00<?, ?it/s]"
      ]
     },
     "metadata": {},
     "output_type": "display_data"
    },
    {
     "name": "stdout",
     "output_type": "stream",
     "text": [
      "  Using Clustering: DBSCAN\n",
      "  Using Representation Models: KeyBERTInspired\n",
      "  Using Representation Models: PartOfSpeech\n",
      "  Using Representation Models: MaximalMarginalRelevance\n",
      "  Using Clustering: SpectralClustering\n",
      "  Using Representation Models: KeyBERTInspired\n"
     ]
    },
    {
     "data": {
      "application/vnd.jupyter.widget-view+json": {
       "model_id": "7f6ef0d381f3468c9956e7062916d37a",
       "version_major": 2,
       "version_minor": 0
      },
      "text/plain": [
       "Batches:   0%|          | 0/256 [00:00<?, ?it/s]"
      ]
     },
     "metadata": {},
     "output_type": "display_data"
    },
    {
     "name": "stdout",
     "output_type": "stream",
     "text": [
      "  Using Representation Models: PartOfSpeech\n"
     ]
    },
    {
     "data": {
      "application/vnd.jupyter.widget-view+json": {
       "model_id": "051e1887365a41eea3143385c4cebfb3",
       "version_major": 2,
       "version_minor": 0
      },
      "text/plain": [
       "Batches:   0%|          | 0/256 [00:00<?, ?it/s]"
      ]
     },
     "metadata": {},
     "output_type": "display_data"
    },
    {
     "name": "stdout",
     "output_type": "stream",
     "text": [
      "  Using Representation Models: MaximalMarginalRelevance\n"
     ]
    },
    {
     "data": {
      "application/vnd.jupyter.widget-view+json": {
       "model_id": "a5d21a2f684c45bf98727d4feee96546",
       "version_major": 2,
       "version_minor": 0
      },
      "text/plain": [
       "Batches:   0%|          | 0/256 [00:00<?, ?it/s]"
      ]
     },
     "metadata": {},
     "output_type": "display_data"
    },
    {
     "name": "stdout",
     "output_type": "stream",
     "text": [
      "  Using Clustering: GaussianMixture\n",
      "  Using Representation Models: KeyBERTInspired\n"
     ]
    },
    {
     "data": {
      "application/vnd.jupyter.widget-view+json": {
       "model_id": "29b5fbfad8af42428923a7a9a914b8f1",
       "version_major": 2,
       "version_minor": 0
      },
      "text/plain": [
       "Batches:   0%|          | 0/256 [00:00<?, ?it/s]"
      ]
     },
     "metadata": {},
     "output_type": "display_data"
    },
    {
     "name": "stdout",
     "output_type": "stream",
     "text": [
      "  Using Representation Models: PartOfSpeech\n"
     ]
    },
    {
     "data": {
      "application/vnd.jupyter.widget-view+json": {
       "model_id": "ffd6f8e59e884d7a97fe755afce6e376",
       "version_major": 2,
       "version_minor": 0
      },
      "text/plain": [
       "Batches:   0%|          | 0/256 [00:00<?, ?it/s]"
      ]
     },
     "metadata": {},
     "output_type": "display_data"
    },
    {
     "name": "stdout",
     "output_type": "stream",
     "text": [
      "  Using Representation Models: MaximalMarginalRelevance\n"
     ]
    },
    {
     "data": {
      "application/vnd.jupyter.widget-view+json": {
       "model_id": "48b934a5aee0401681814dbf72e6fa59",
       "version_major": 2,
       "version_minor": 0
      },
      "text/plain": [
       "Batches:   0%|          | 0/256 [00:00<?, ?it/s]"
      ]
     },
     "metadata": {},
     "output_type": "display_data"
    },
    {
     "name": "stdout",
     "output_type": "stream",
     "text": [
      "  Using Clustering: KMeans\n",
      "  Using Representation Models: KeyBERTInspired\n"
     ]
    },
    {
     "data": {
      "application/vnd.jupyter.widget-view+json": {
       "model_id": "b3e52308792b4aadbc15a11ad3e869ec",
       "version_major": 2,
       "version_minor": 0
      },
      "text/plain": [
       "Batches:   0%|          | 0/256 [00:00<?, ?it/s]"
      ]
     },
     "metadata": {},
     "output_type": "display_data"
    },
    {
     "name": "stdout",
     "output_type": "stream",
     "text": [
      "  Using Representation Models: PartOfSpeech\n"
     ]
    },
    {
     "data": {
      "application/vnd.jupyter.widget-view+json": {
       "model_id": "937d8b01f1de49a0b5699afd9e9eabe2",
       "version_major": 2,
       "version_minor": 0
      },
      "text/plain": [
       "Batches:   0%|          | 0/256 [00:00<?, ?it/s]"
      ]
     },
     "metadata": {},
     "output_type": "display_data"
    },
    {
     "name": "stdout",
     "output_type": "stream",
     "text": [
      "  Using Representation Models: MaximalMarginalRelevance\n"
     ]
    },
    {
     "data": {
      "application/vnd.jupyter.widget-view+json": {
       "model_id": "9938ba81a4fb430a9b96275c5f9a288f",
       "version_major": 2,
       "version_minor": 0
      },
      "text/plain": [
       "Batches:   0%|          | 0/256 [00:00<?, ?it/s]"
      ]
     },
     "metadata": {},
     "output_type": "display_data"
    },
    {
     "name": "stdout",
     "output_type": "stream",
     "text": [
      "\n",
      "Testing with Embedding: Longformer\n",
      "  Applying Dimensionality Reduction: PCA\n",
      "  Using Clustering: HDBSCAN\n",
      "  Using Representation Models: KeyBERTInspired\n",
      "  Using Representation Models: PartOfSpeech\n",
      "  Using Representation Models: MaximalMarginalRelevance\n",
      "  Using Clustering: AgglomerativeClustering\n",
      "  Using Representation Models: KeyBERTInspired\n"
     ]
    },
    {
     "data": {
      "application/vnd.jupyter.widget-view+json": {
       "model_id": "fe62e934955549cf9ee5e04b74edf80a",
       "version_major": 2,
       "version_minor": 0
      },
      "text/plain": [
       "Batches:   0%|          | 0/256 [00:00<?, ?it/s]"
      ]
     },
     "metadata": {},
     "output_type": "display_data"
    },
    {
     "name": "stdout",
     "output_type": "stream",
     "text": [
      "  Using Representation Models: PartOfSpeech\n"
     ]
    },
    {
     "data": {
      "application/vnd.jupyter.widget-view+json": {
       "model_id": "4543a28ccfad44e1ad56d8430e8d6577",
       "version_major": 2,
       "version_minor": 0
      },
      "text/plain": [
       "Batches:   0%|          | 0/256 [00:00<?, ?it/s]"
      ]
     },
     "metadata": {},
     "output_type": "display_data"
    },
    {
     "name": "stdout",
     "output_type": "stream",
     "text": [
      "  Using Representation Models: MaximalMarginalRelevance\n"
     ]
    },
    {
     "data": {
      "application/vnd.jupyter.widget-view+json": {
       "model_id": "0f97b747d6b94461a21d405676df5ef9",
       "version_major": 2,
       "version_minor": 0
      },
      "text/plain": [
       "Batches:   0%|          | 0/256 [00:00<?, ?it/s]"
      ]
     },
     "metadata": {},
     "output_type": "display_data"
    },
    {
     "name": "stdout",
     "output_type": "stream",
     "text": [
      "  Using Clustering: DBSCAN\n",
      "  Using Representation Models: KeyBERTInspired\n",
      "  Using Representation Models: PartOfSpeech\n",
      "  Using Representation Models: MaximalMarginalRelevance\n",
      "  Using Clustering: SpectralClustering\n",
      "  Using Representation Models: KeyBERTInspired\n"
     ]
    },
    {
     "data": {
      "application/vnd.jupyter.widget-view+json": {
       "model_id": "b26cac5b180e42d98e5dd3b0c4df5b08",
       "version_major": 2,
       "version_minor": 0
      },
      "text/plain": [
       "Batches:   0%|          | 0/256 [00:00<?, ?it/s]"
      ]
     },
     "metadata": {},
     "output_type": "display_data"
    },
    {
     "name": "stdout",
     "output_type": "stream",
     "text": [
      "  Using Representation Models: PartOfSpeech\n"
     ]
    },
    {
     "data": {
      "application/vnd.jupyter.widget-view+json": {
       "model_id": "09f716e45b8b4d9a884342a5ed256f6f",
       "version_major": 2,
       "version_minor": 0
      },
      "text/plain": [
       "Batches:   0%|          | 0/256 [00:00<?, ?it/s]"
      ]
     },
     "metadata": {},
     "output_type": "display_data"
    },
    {
     "name": "stdout",
     "output_type": "stream",
     "text": [
      "  Using Representation Models: MaximalMarginalRelevance\n"
     ]
    },
    {
     "data": {
      "application/vnd.jupyter.widget-view+json": {
       "model_id": "d7ab03b13184400691192b6079899aea",
       "version_major": 2,
       "version_minor": 0
      },
      "text/plain": [
       "Batches:   0%|          | 0/256 [00:00<?, ?it/s]"
      ]
     },
     "metadata": {},
     "output_type": "display_data"
    },
    {
     "name": "stdout",
     "output_type": "stream",
     "text": [
      "  Using Clustering: GaussianMixture\n",
      "  Using Representation Models: KeyBERTInspired\n"
     ]
    },
    {
     "data": {
      "application/vnd.jupyter.widget-view+json": {
       "model_id": "1c3f0f6dfc9447e89071af410c1e62da",
       "version_major": 2,
       "version_minor": 0
      },
      "text/plain": [
       "Batches:   0%|          | 0/256 [00:00<?, ?it/s]"
      ]
     },
     "metadata": {},
     "output_type": "display_data"
    },
    {
     "name": "stdout",
     "output_type": "stream",
     "text": [
      "  Using Representation Models: PartOfSpeech\n"
     ]
    },
    {
     "data": {
      "application/vnd.jupyter.widget-view+json": {
       "model_id": "d26ce5201e2647e6b5da7c9ad701b15b",
       "version_major": 2,
       "version_minor": 0
      },
      "text/plain": [
       "Batches:   0%|          | 0/256 [00:00<?, ?it/s]"
      ]
     },
     "metadata": {},
     "output_type": "display_data"
    },
    {
     "name": "stdout",
     "output_type": "stream",
     "text": [
      "  Using Representation Models: MaximalMarginalRelevance\n"
     ]
    },
    {
     "data": {
      "application/vnd.jupyter.widget-view+json": {
       "model_id": "0f1d2616c875421bb2a0afdbad20a7b1",
       "version_major": 2,
       "version_minor": 0
      },
      "text/plain": [
       "Batches:   0%|          | 0/256 [00:00<?, ?it/s]"
      ]
     },
     "metadata": {},
     "output_type": "display_data"
    },
    {
     "name": "stdout",
     "output_type": "stream",
     "text": [
      "  Using Clustering: KMeans\n",
      "  Using Representation Models: KeyBERTInspired\n"
     ]
    },
    {
     "data": {
      "application/vnd.jupyter.widget-view+json": {
       "model_id": "bc738cd373fb431aa599a65c6ff15c59",
       "version_major": 2,
       "version_minor": 0
      },
      "text/plain": [
       "Batches:   0%|          | 0/256 [00:00<?, ?it/s]"
      ]
     },
     "metadata": {},
     "output_type": "display_data"
    },
    {
     "name": "stdout",
     "output_type": "stream",
     "text": [
      "  Using Representation Models: PartOfSpeech\n"
     ]
    },
    {
     "data": {
      "application/vnd.jupyter.widget-view+json": {
       "model_id": "0ef3e05cb6464d46a4dd1e3671e48b93",
       "version_major": 2,
       "version_minor": 0
      },
      "text/plain": [
       "Batches:   0%|          | 0/256 [00:00<?, ?it/s]"
      ]
     },
     "metadata": {},
     "output_type": "display_data"
    },
    {
     "name": "stdout",
     "output_type": "stream",
     "text": [
      "  Using Representation Models: MaximalMarginalRelevance\n"
     ]
    },
    {
     "data": {
      "application/vnd.jupyter.widget-view+json": {
       "model_id": "d7459cdcbdbd487b8a143204c4bdc585",
       "version_major": 2,
       "version_minor": 0
      },
      "text/plain": [
       "Batches:   0%|          | 0/256 [00:00<?, ?it/s]"
      ]
     },
     "metadata": {},
     "output_type": "display_data"
    },
    {
     "name": "stdout",
     "output_type": "stream",
     "text": [
      "  Applying Dimensionality Reduction: UMAP\n",
      "  Using Clustering: HDBSCAN\n",
      "  Using Representation Models: KeyBERTInspired\n",
      "  Using Representation Models: PartOfSpeech\n",
      "  Using Representation Models: MaximalMarginalRelevance\n",
      "  Using Clustering: AgglomerativeClustering\n",
      "  Using Representation Models: KeyBERTInspired\n"
     ]
    },
    {
     "data": {
      "application/vnd.jupyter.widget-view+json": {
       "model_id": "a2781eb5fcfe44c4a16b34ca2d7e4793",
       "version_major": 2,
       "version_minor": 0
      },
      "text/plain": [
       "Batches:   0%|          | 0/256 [00:00<?, ?it/s]"
      ]
     },
     "metadata": {},
     "output_type": "display_data"
    },
    {
     "name": "stdout",
     "output_type": "stream",
     "text": [
      "  Using Representation Models: PartOfSpeech\n"
     ]
    },
    {
     "data": {
      "application/vnd.jupyter.widget-view+json": {
       "model_id": "d9bbe872e6c84f23a50896eea19691d9",
       "version_major": 2,
       "version_minor": 0
      },
      "text/plain": [
       "Batches:   0%|          | 0/256 [00:00<?, ?it/s]"
      ]
     },
     "metadata": {},
     "output_type": "display_data"
    },
    {
     "name": "stdout",
     "output_type": "stream",
     "text": [
      "  Using Representation Models: MaximalMarginalRelevance\n"
     ]
    },
    {
     "data": {
      "application/vnd.jupyter.widget-view+json": {
       "model_id": "5707b5fa214442ddbf58237b77a3b1a1",
       "version_major": 2,
       "version_minor": 0
      },
      "text/plain": [
       "Batches:   0%|          | 0/256 [00:00<?, ?it/s]"
      ]
     },
     "metadata": {},
     "output_type": "display_data"
    },
    {
     "name": "stdout",
     "output_type": "stream",
     "text": [
      "  Using Clustering: DBSCAN\n",
      "  Using Representation Models: KeyBERTInspired\n",
      "  Using Representation Models: PartOfSpeech\n",
      "  Using Representation Models: MaximalMarginalRelevance\n",
      "  Using Clustering: SpectralClustering\n",
      "  Using Representation Models: KeyBERTInspired\n"
     ]
    },
    {
     "data": {
      "application/vnd.jupyter.widget-view+json": {
       "model_id": "720a9ea7d3fa40a9917ea15f700749f7",
       "version_major": 2,
       "version_minor": 0
      },
      "text/plain": [
       "Batches:   0%|          | 0/256 [00:00<?, ?it/s]"
      ]
     },
     "metadata": {},
     "output_type": "display_data"
    },
    {
     "name": "stdout",
     "output_type": "stream",
     "text": [
      "  Using Representation Models: PartOfSpeech\n"
     ]
    },
    {
     "data": {
      "application/vnd.jupyter.widget-view+json": {
       "model_id": "d4d9aaa17c0149128c7d02d5d8e00fac",
       "version_major": 2,
       "version_minor": 0
      },
      "text/plain": [
       "Batches:   0%|          | 0/256 [00:00<?, ?it/s]"
      ]
     },
     "metadata": {},
     "output_type": "display_data"
    },
    {
     "name": "stdout",
     "output_type": "stream",
     "text": [
      "  Using Representation Models: MaximalMarginalRelevance\n"
     ]
    },
    {
     "data": {
      "application/vnd.jupyter.widget-view+json": {
       "model_id": "3c200394e66b47e29ef917cbc22437ea",
       "version_major": 2,
       "version_minor": 0
      },
      "text/plain": [
       "Batches:   0%|          | 0/256 [00:00<?, ?it/s]"
      ]
     },
     "metadata": {},
     "output_type": "display_data"
    },
    {
     "name": "stdout",
     "output_type": "stream",
     "text": [
      "  Using Clustering: GaussianMixture\n",
      "  Using Representation Models: KeyBERTInspired\n"
     ]
    },
    {
     "data": {
      "application/vnd.jupyter.widget-view+json": {
       "model_id": "fa109fa206c4454498b65f0ce872f29d",
       "version_major": 2,
       "version_minor": 0
      },
      "text/plain": [
       "Batches:   0%|          | 0/256 [00:00<?, ?it/s]"
      ]
     },
     "metadata": {},
     "output_type": "display_data"
    },
    {
     "name": "stdout",
     "output_type": "stream",
     "text": [
      "  Using Representation Models: PartOfSpeech\n"
     ]
    },
    {
     "data": {
      "application/vnd.jupyter.widget-view+json": {
       "model_id": "6d9b2fd3fd73461e8df5eb1a7baaa254",
       "version_major": 2,
       "version_minor": 0
      },
      "text/plain": [
       "Batches:   0%|          | 0/256 [00:00<?, ?it/s]"
      ]
     },
     "metadata": {},
     "output_type": "display_data"
    },
    {
     "name": "stdout",
     "output_type": "stream",
     "text": [
      "  Using Representation Models: MaximalMarginalRelevance\n"
     ]
    },
    {
     "data": {
      "application/vnd.jupyter.widget-view+json": {
       "model_id": "13e917763a1f44b7a98457c76dccd814",
       "version_major": 2,
       "version_minor": 0
      },
      "text/plain": [
       "Batches:   0%|          | 0/256 [00:00<?, ?it/s]"
      ]
     },
     "metadata": {},
     "output_type": "display_data"
    },
    {
     "name": "stdout",
     "output_type": "stream",
     "text": [
      "  Using Clustering: KMeans\n",
      "  Using Representation Models: KeyBERTInspired\n"
     ]
    },
    {
     "data": {
      "application/vnd.jupyter.widget-view+json": {
       "model_id": "007f6e01708c4785ab8edc730c0e60b3",
       "version_major": 2,
       "version_minor": 0
      },
      "text/plain": [
       "Batches:   0%|          | 0/256 [00:00<?, ?it/s]"
      ]
     },
     "metadata": {},
     "output_type": "display_data"
    },
    {
     "name": "stdout",
     "output_type": "stream",
     "text": [
      "  Using Representation Models: PartOfSpeech\n"
     ]
    },
    {
     "data": {
      "application/vnd.jupyter.widget-view+json": {
       "model_id": "b5767234a1744ab5a03300906a57edea",
       "version_major": 2,
       "version_minor": 0
      },
      "text/plain": [
       "Batches:   0%|          | 0/256 [00:00<?, ?it/s]"
      ]
     },
     "metadata": {},
     "output_type": "display_data"
    },
    {
     "name": "stdout",
     "output_type": "stream",
     "text": [
      "  Using Representation Models: MaximalMarginalRelevance\n"
     ]
    },
    {
     "data": {
      "application/vnd.jupyter.widget-view+json": {
       "model_id": "803c2248368143028c1ca796cd4be07f",
       "version_major": 2,
       "version_minor": 0
      },
      "text/plain": [
       "Batches:   0%|          | 0/256 [00:00<?, ?it/s]"
      ]
     },
     "metadata": {},
     "output_type": "display_data"
    },
    {
     "name": "stdout",
     "output_type": "stream",
     "text": [
      "  Applying Dimensionality Reduction: TruncatedSVD\n",
      "  Using Clustering: HDBSCAN\n",
      "  Using Representation Models: KeyBERTInspired\n",
      "  Using Representation Models: PartOfSpeech\n",
      "  Using Representation Models: MaximalMarginalRelevance\n",
      "  Using Clustering: AgglomerativeClustering\n",
      "  Using Representation Models: KeyBERTInspired\n"
     ]
    },
    {
     "data": {
      "application/vnd.jupyter.widget-view+json": {
       "model_id": "da55d60dc5704510a67d1b117014a13f",
       "version_major": 2,
       "version_minor": 0
      },
      "text/plain": [
       "Batches:   0%|          | 0/256 [00:00<?, ?it/s]"
      ]
     },
     "metadata": {},
     "output_type": "display_data"
    },
    {
     "name": "stdout",
     "output_type": "stream",
     "text": [
      "  Using Representation Models: PartOfSpeech\n"
     ]
    },
    {
     "data": {
      "application/vnd.jupyter.widget-view+json": {
       "model_id": "ccdff007ff33431f8b031c239c720b55",
       "version_major": 2,
       "version_minor": 0
      },
      "text/plain": [
       "Batches:   0%|          | 0/256 [00:00<?, ?it/s]"
      ]
     },
     "metadata": {},
     "output_type": "display_data"
    },
    {
     "name": "stdout",
     "output_type": "stream",
     "text": [
      "  Using Representation Models: MaximalMarginalRelevance\n"
     ]
    },
    {
     "data": {
      "application/vnd.jupyter.widget-view+json": {
       "model_id": "54c6d1cf07a4440eba9ed13b45bc5f39",
       "version_major": 2,
       "version_minor": 0
      },
      "text/plain": [
       "Batches:   0%|          | 0/256 [00:00<?, ?it/s]"
      ]
     },
     "metadata": {},
     "output_type": "display_data"
    },
    {
     "name": "stdout",
     "output_type": "stream",
     "text": [
      "  Using Clustering: DBSCAN\n",
      "  Using Representation Models: KeyBERTInspired\n",
      "  Using Representation Models: PartOfSpeech\n",
      "  Using Representation Models: MaximalMarginalRelevance\n",
      "  Using Clustering: SpectralClustering\n",
      "  Using Representation Models: KeyBERTInspired\n"
     ]
    },
    {
     "data": {
      "application/vnd.jupyter.widget-view+json": {
       "model_id": "41258ef3161e4091826a148bb435277f",
       "version_major": 2,
       "version_minor": 0
      },
      "text/plain": [
       "Batches:   0%|          | 0/256 [00:00<?, ?it/s]"
      ]
     },
     "metadata": {},
     "output_type": "display_data"
    },
    {
     "name": "stdout",
     "output_type": "stream",
     "text": [
      "  Using Representation Models: PartOfSpeech\n"
     ]
    },
    {
     "data": {
      "application/vnd.jupyter.widget-view+json": {
       "model_id": "2a7abdb5301442fda290943702b1de85",
       "version_major": 2,
       "version_minor": 0
      },
      "text/plain": [
       "Batches:   0%|          | 0/256 [00:00<?, ?it/s]"
      ]
     },
     "metadata": {},
     "output_type": "display_data"
    },
    {
     "name": "stdout",
     "output_type": "stream",
     "text": [
      "  Using Representation Models: MaximalMarginalRelevance\n"
     ]
    },
    {
     "data": {
      "application/vnd.jupyter.widget-view+json": {
       "model_id": "ed71d77a195c43379323d20c344845c0",
       "version_major": 2,
       "version_minor": 0
      },
      "text/plain": [
       "Batches:   0%|          | 0/256 [00:00<?, ?it/s]"
      ]
     },
     "metadata": {},
     "output_type": "display_data"
    },
    {
     "name": "stdout",
     "output_type": "stream",
     "text": [
      "  Using Clustering: GaussianMixture\n",
      "  Using Representation Models: KeyBERTInspired\n"
     ]
    },
    {
     "data": {
      "application/vnd.jupyter.widget-view+json": {
       "model_id": "9229d0a98a104e23a94aa3c998e1d8a6",
       "version_major": 2,
       "version_minor": 0
      },
      "text/plain": [
       "Batches:   0%|          | 0/256 [00:00<?, ?it/s]"
      ]
     },
     "metadata": {},
     "output_type": "display_data"
    },
    {
     "name": "stdout",
     "output_type": "stream",
     "text": [
      "  Using Representation Models: PartOfSpeech\n"
     ]
    },
    {
     "data": {
      "application/vnd.jupyter.widget-view+json": {
       "model_id": "03d15fceaacb44d28780da96e9e62741",
       "version_major": 2,
       "version_minor": 0
      },
      "text/plain": [
       "Batches:   0%|          | 0/256 [00:00<?, ?it/s]"
      ]
     },
     "metadata": {},
     "output_type": "display_data"
    },
    {
     "name": "stdout",
     "output_type": "stream",
     "text": [
      "  Using Representation Models: MaximalMarginalRelevance\n"
     ]
    },
    {
     "data": {
      "application/vnd.jupyter.widget-view+json": {
       "model_id": "03cc98b64e734b24a1475ef6107ff4b8",
       "version_major": 2,
       "version_minor": 0
      },
      "text/plain": [
       "Batches:   0%|          | 0/256 [00:00<?, ?it/s]"
      ]
     },
     "metadata": {},
     "output_type": "display_data"
    },
    {
     "name": "stdout",
     "output_type": "stream",
     "text": [
      "  Using Clustering: KMeans\n",
      "  Using Representation Models: KeyBERTInspired\n"
     ]
    },
    {
     "data": {
      "application/vnd.jupyter.widget-view+json": {
       "model_id": "1b3120a8523e4ba888a97c14a665b37b",
       "version_major": 2,
       "version_minor": 0
      },
      "text/plain": [
       "Batches:   0%|          | 0/256 [00:00<?, ?it/s]"
      ]
     },
     "metadata": {},
     "output_type": "display_data"
    },
    {
     "name": "stdout",
     "output_type": "stream",
     "text": [
      "  Using Representation Models: PartOfSpeech\n"
     ]
    },
    {
     "data": {
      "application/vnd.jupyter.widget-view+json": {
       "model_id": "d616489433c64277b7ab8e8bde65721a",
       "version_major": 2,
       "version_minor": 0
      },
      "text/plain": [
       "Batches:   0%|          | 0/256 [00:00<?, ?it/s]"
      ]
     },
     "metadata": {},
     "output_type": "display_data"
    },
    {
     "name": "stdout",
     "output_type": "stream",
     "text": [
      "  Using Representation Models: MaximalMarginalRelevance\n"
     ]
    },
    {
     "data": {
      "application/vnd.jupyter.widget-view+json": {
       "model_id": "35ecde3f436845588bd4f95dec811508",
       "version_major": 2,
       "version_minor": 0
      },
      "text/plain": [
       "Batches:   0%|          | 0/256 [00:00<?, ?it/s]"
      ]
     },
     "metadata": {},
     "output_type": "display_data"
    },
    {
     "name": "stdout",
     "output_type": "stream",
     "text": [
      "Results have been saved to 'topic_modeling_model_tunning.xlsx'\n"
     ]
    }
   ],
   "source": [
    "# Define custom stop words\n",
    "custom_stop_words = [\"xxxx\", \"xx\",\"x\",\"xxxxx\", \"xxxxxxxx\", \"xxxxxxxxxxxx\"]\n",
    "# Define different embedding models\n",
    "embedding_models = {\n",
    "    \"TF-IDF\": TfidfVectorizer(),\n",
    "    \"BERT\": SentenceTransformer('all-MiniLM-L6-v2'),\n",
    "    \"DistilBERT\": SentenceTransformer('distilbert-base-nli-mean-tokens'),\n",
    "    \"ALBERT\": AutoModel.from_pretrained(\"albert-base-v1\"),\n",
    "    \"BigBird\": AutoModelForPreTraining.from_pretrained(\"google/bigbird-roberta-base\"),\n",
    "    \"Longformer\": AutoModel.from_pretrained(\"allenai/longformer-base-4096\")\n",
    "}\n",
    "# Define dimensionality reduction models\n",
    "dimension_reducers = {\n",
    "    \"PCA\": PCA(n_components=10),\n",
    "    \"UMAP\": UMAP(n_components=10),\n",
    "    \"TruncatedSVD\": TruncatedSVD(n_components=10)\n",
    "}\n",
    "# Define Representation Models\n",
    "Representation_Models = {\n",
    "    \"KeyBERTInspired\": KeyBERTInspired(),\n",
    "    \"PartOfSpeech\": PartOfSpeech(\"en_core_web_sm\"),\n",
    "    \"MaximalMarginalRelevance\": MaximalMarginalRelevance(diversity=0.1)\n",
    "}\n",
    "\n",
    "# Initialize an Excel writer to save results\n",
    "results = {}\n",
    "with pd.ExcelWriter(\"topic_modeling_model_tunning.xlsx\") as writer:\n",
    "    summary_df_head = pd.DataFrame(columns=[\"Embedding Model\", \"Dimensionality Reduction\", \"Clustering Method\", \"Representation Models\",\n",
    "                                       \"Number of Topics\", \"Topic Diversity Score\", \"Coherence Score\", \"Topic Representativeness\",\"Silhouette Score\",\"Total Score\"])\n",
    "    summary_df_head.to_excel(writer, sheet_name=\"Summary\", index=False)\n",
    "    i = 0  # Initialize row index for the summary sheet\n",
    "    \n",
    "    # Iterate over each embedding model\n",
    "    for embed_name, embed_model in embedding_models.items():\n",
    "        print(f\"\\nTesting with Embedding: {embed_name}\")\n",
    "\n",
    "        for reducer_name, reducer in dimension_reducers.items():\n",
    "            print(f\"  Applying Dimensionality Reduction: {reducer_name}\")\n",
    "            \n",
    "            # Apply custom clustering algorithms\n",
    "            for cluster_name in [\"HDBSCAN\", \"AgglomerativeClustering\", \"DBSCAN\", \"SpectralClustering\", \"GaussianMixture\", \"KMeans\"]:\n",
    "                print(f\"  Using Clustering: {cluster_name}\")\n",
    "\n",
    "                # Configure clustering model for BERTopic\n",
    "                if cluster_name == \"HDBSCAN\":\n",
    "                    cluster_model = hdbscan.HDBSCAN(min_cluster_size=10, metric='euclidean')\n",
    "                elif cluster_name == \"AgglomerativeClustering\":\n",
    "                    cluster_model = AgglomerativeClustering(n_clusters=10, metric='euclidean', linkage='ward')\n",
    "                elif cluster_name == \"DBSCAN\":\n",
    "                    cluster_model = DBSCAN(eps=0.5, min_samples=5, metric='euclidean')\n",
    "                elif cluster_name == \"SpectralClustering\":\n",
    "                    cluster_model = SpectralClustering(n_clusters=10, affinity='nearest_neighbors')\n",
    "                elif cluster_name == \"GaussianMixture\":\n",
    "                    cluster_model = GMMWrapper(n_components=10, covariance_type='full')\n",
    "                elif cluster_name == \"KMeans\": \n",
    "                    cluster_model = KMeans(n_clusters=10)\n",
    "                    \n",
    "                for rep_name, rep_model in Representation_Models.items():\n",
    "                    print(f\"  Using Representation Models: {rep_name}\")\n",
    "                    i=i+1\n",
    "                    # Create a CountVectorizer with custom stop words\n",
    "                    vectorizer_model = CountVectorizer(stop_words=custom_stop_words)\n",
    "                    \n",
    "                    # Initialize BERTopic with embedding model and clustering model\n",
    "                    topic_model = BERTopic(embedding_model=embed_model, hdbscan_model=cluster_model, umap_model=reducer,vectorizer_model=vectorizer_model)\n",
    "                    topics, _ = topic_model.fit_transform(documents)\n",
    "    \n",
    "                    # Retrieve topic information and calculate diversity score\n",
    "                    topic_info = topic_model.get_topic_info()\n",
    "                    topic_info_df = pd.DataFrame(topic_info)  # Convert topic_info to DataFrame\n",
    "                    # Number of topics\n",
    "                    num_topics = topic_info_df.shape[0]\n",
    "                    if not ((topic_info_df[\"Topic\"] == -1).any() or num_topics == 1):  # Check if \"Topic\" does not contain -1\n",
    "                        topic_diversity = calculate_topic_diversity(topic_model)\n",
    "    \n",
    "                        # Prepare data for coherence score calculation\n",
    "                        tokenized_documents = [doc.split() for doc in documents]  # Tokenize documents\n",
    "                        dictionary = Dictionary(tokenized_documents)  # Create dictionary for Gensim\n",
    "                        coherence_score = calculate_and_average_coherence_scores(topic_model, tokenized_documents, dictionary)\n",
    "    \n",
    "                        # Calculate embedding-based metrics\n",
    "                        # Access the SentenceTransformer model used by BERTopic\n",
    "                        sentence_transformer_model = topic_model.embedding_model\n",
    "                        \n",
    "                        topic_embeddings = topic_model.topic_embeddings_\n",
    "                        document_embeddings = sentence_transformer_model.embedding_model.encode(documents, show_progress_bar=True)\n",
    "                        topic_representativeness = calculate_topic_representativeness(topic_embeddings, document_embeddings)\n",
    "                        silhouette = calculate_silhouette_score(document_embeddings, topics)\n",
    "                        \n",
    "                    \n",
    "                        # Save results\n",
    "                        results[(embed_name, cluster_name,reducer_name,rep_name)] = {\n",
    "                            \"topic_diversity\": topic_diversity,\n",
    "                            \"topic_info\": topic_info,\n",
    "                            \"coherence_score\": coherence_score,\n",
    "                            \"topic_representativeness\": topic_representativeness,\n",
    "                            \"silhouette\": silhouette\n",
    "                        }\n",
    "    \n",
    "                        # Create a summary DataFrame for the current iteration\n",
    "                        summary_df = pd.DataFrame({\n",
    "                            \"Embedding Model\": [embed_name],\n",
    "                            \"Dimensionality Reduction\": [reducer_name],\n",
    "                            \"Clustering Method\": [cluster_name],\n",
    "                            \"Representation Models\":[rep_name],\n",
    "                            \"Number of Topics\": [num_topics],\n",
    "                            \"Topic Diversity Score\": [topic_diversity],\n",
    "                            \"Coherence Score\": [coherence_score],\n",
    "                            \"Topic Representativeness\": [topic_representativeness],\n",
    "                            \"Silhouette Score\": [silhouette],\n",
    "                            \"Total Score\": [topic_diversity + coherence_score + topic_representativeness + silhouette]\n",
    "                        })\n",
    "    \n",
    "                        # Write the summary to a specific sheet\n",
    "                        sheet_name_0 = \"Summary\"\n",
    "                        summary_df.to_excel(writer, sheet_name=sheet_name_0, startrow=i, index=False, header=False)\n",
    "                        sheet_name = f\"{embed_name}_{cluster_name}_{reducer_name}_{rep_name}\"[:31]\n",
    "                        summary_df.to_excel(writer, sheet_name=sheet_name, index=False)\n",
    "    \n",
    "                        # Write topic information to the same sheet\n",
    "                        topic_info_df.to_excel(writer, sheet_name=sheet_name, startrow=len(summary_df) + 2, index=False)\n",
    "\n",
    "print(\"Results have been saved to 'topic_modeling_model_tunning.xlsx'\")\n"
   ]
  },
  {
   "cell_type": "code",
   "execution_count": null,
   "id": "3fa588d6-8167-4076-96aa-7ff1744f7986",
   "metadata": {},
   "outputs": [],
   "source": []
  },
  {
   "cell_type": "code",
   "execution_count": null,
   "id": "ad604052-e70f-4866-bdaa-f9b1e0d117b7",
   "metadata": {},
   "outputs": [],
   "source": []
  }
 ],
 "metadata": {
  "kernelspec": {
   "display_name": "Python 3 (ipykernel)",
   "language": "python",
   "name": "python3"
  },
  "language_info": {
   "codemirror_mode": {
    "name": "ipython",
    "version": 3
   },
   "file_extension": ".py",
   "mimetype": "text/x-python",
   "name": "python",
   "nbconvert_exporter": "python",
   "pygments_lexer": "ipython3",
   "version": "3.11.0"
  }
 },
 "nbformat": 4,
 "nbformat_minor": 5
}
